{
 "cells": [
  {
   "cell_type": "code",
   "metadata": {
    "cell_id": "00000-072c9107-d8f0-4d4a-9159-545af74059b2",
    "deepnote_to_be_reexecuted": false,
    "source_hash": "31dfbe5f",
    "execution_start": 1633378624643,
    "execution_millis": 3311,
    "deepnote_cell_type": "code"
   },
   "source": "import csv \nimport pandas as pd\nimport nltk\nimport os\nimport warnings\nwarnings.filterwarnings('ignore')",
   "outputs": [],
   "execution_count": 1
  },
  {
   "cell_type": "markdown",
   "source": "Now we want to preprocess the tweets accordingly to their languages.",
   "metadata": {
    "cell_id": "00001-163f051d-c29e-4b36-ae62-93bb439a3644",
    "deepnote_cell_type": "markdown"
   }
  },
  {
   "cell_type": "code",
   "metadata": {
    "cell_id": "00002-85a767f9-038e-4a7e-9e4f-a9e8d22ffa3a",
    "deepnote_to_be_reexecuted": false,
    "source_hash": "ccd6755f",
    "execution_start": 1633392893145,
    "execution_millis": 19,
    "deepnote_cell_type": "code"
   },
   "source": "#define the languages we want to preprocess\nlang_list = ['en', 'es', 'pt']\n\n# define what each iso-639 code means\nlang_dict = {\n    'en': 'english',\n    'es': 'spanish',\n    'pt': 'portugese'\n}\n\nclean_data_dir = './clean_data'\njoblib_dir = './joblib'\ncsv_dir = './processed_csv'\nlang = 'en'",
   "outputs": [],
   "execution_count": 199
  },
  {
   "cell_type": "markdown",
   "source": "We will preprocess English first. Let's import the csv file into a Pandas DataFrame",
   "metadata": {
    "cell_id": "00003-67108a83-9d78-4c71-b20a-a9f1bd4061ee",
    "deepnote_cell_type": "markdown"
   }
  },
  {
   "cell_type": "code",
   "metadata": {
    "scrolled": true,
    "cell_id": "00004-3a6c1221-dbac-4f99-a7b1-7a432d6f2b07",
    "deepnote_to_be_reexecuted": false,
    "source_hash": "350acce4",
    "execution_start": 1633378627992,
    "execution_millis": 260,
    "deepnote_cell_type": "code"
   },
   "source": "fulldir = os.path.join(clean_data_dir, lang + '.csv')   \n\ndf_eng = pd.read_csv(fulldir)\ndf_eng",
   "outputs": [
    {
     "output_type": "execute_result",
     "execution_count": 3,
     "data": {
      "application/vnd.deepnote.dataframe.v2+json": {
       "row_count": 4312,
       "column_count": 5,
       "columns": [
        {
         "name": "Unnamed: 0",
         "dtype": "int64",
         "stats": {
          "unique_count": 4312,
          "nan_count": 0,
          "min": "3",
          "max": "10497",
          "histogram": [
           {
            "bin_start": 3,
            "bin_end": 1052.4,
            "count": 367
           },
           {
            "bin_start": 1052.4,
            "bin_end": 2101.8,
            "count": 392
           },
           {
            "bin_start": 2101.8,
            "bin_end": 3151.2000000000003,
            "count": 396
           },
           {
            "bin_start": 3151.2000000000003,
            "bin_end": 4200.6,
            "count": 384
           },
           {
            "bin_start": 4200.6,
            "bin_end": 5250,
            "count": 344
           },
           {
            "bin_start": 5250,
            "bin_end": 6299.400000000001,
            "count": 316
           },
           {
            "bin_start": 6299.400000000001,
            "bin_end": 7348.800000000001,
            "count": 413
           },
           {
            "bin_start": 7348.800000000001,
            "bin_end": 8398.2,
            "count": 540
           },
           {
            "bin_start": 8398.2,
            "bin_end": 9447.6,
            "count": 559
           },
           {
            "bin_start": 9447.6,
            "bin_end": 10497,
            "count": 601
           }
          ]
         }
        },
        {
         "name": "clean_tweets",
         "dtype": "object",
         "stats": {
          "unique_count": 4312,
          "nan_count": 0,
          "categories": [
           {
            "name": "I felt my first flash of violence at some fool who bumped into me I pity the fool",
            "count": 1
           },
           {
            "name": "Ladies drink and get in free till ",
            "count": 1
           },
           {
            "name": "4310 others",
            "count": 4310
           }
          ]
         }
        },
        {
         "name": "prediction",
         "dtype": "object",
         "stats": {
          "unique_count": 4246,
          "nan_count": 0,
          "categories": [
           {
            "name": "('en', 0.7258040308952332)",
            "count": 18
           },
           {
            "name": "('en', 0.6685195565223694)",
            "count": 13
           },
           {
            "name": "4244 others",
            "count": 4281
           }
          ]
         }
        },
        {
         "name": "language",
         "dtype": "object",
         "stats": {
          "unique_count": 1,
          "nan_count": 0,
          "categories": [
           {
            "name": "en",
            "count": 4312
           }
          ]
         }
        },
        {
         "name": "confidence",
         "dtype": "float64",
         "stats": {
          "unique_count": 4246,
          "nan_count": 0,
          "min": "0.5004732608795166",
          "max": "1.0000194311141968",
          "histogram": [
           {
            "bin_start": 0.5004732608795166,
            "bin_end": 0.5504278779029846,
            "count": 301
           },
           {
            "bin_start": 0.5504278779029846,
            "bin_end": 0.6003824949264527,
            "count": 288
           },
           {
            "bin_start": 0.6003824949264527,
            "bin_end": 0.6503371119499206,
            "count": 379
           },
           {
            "bin_start": 0.6503371119499206,
            "bin_end": 0.7002917289733886,
            "count": 393
           },
           {
            "bin_start": 0.7002917289733886,
            "bin_end": 0.7502463459968567,
            "count": 424
           },
           {
            "bin_start": 0.7502463459968567,
            "bin_end": 0.8002009630203247,
            "count": 403
           },
           {
            "bin_start": 0.8002009630203247,
            "bin_end": 0.8501555800437928,
            "count": 344
           },
           {
            "bin_start": 0.8501555800437928,
            "bin_end": 0.9001101970672607,
            "count": 387
           },
           {
            "bin_start": 0.9001101970672607,
            "bin_end": 0.9500648140907288,
            "count": 475
           },
           {
            "bin_start": 0.9500648140907288,
            "bin_end": 1.0000194311141968,
            "count": 918
           }
          ]
         }
        },
        {
         "name": "_deepnote_index_column",
         "dtype": "int64"
        }
       ],
       "rows_top": [
        {
         "Unnamed: 0": 3,
         "clean_tweets": "I felt my first flash of violence at some fool who bumped into me I pity the fool",
         "prediction": "('en', 0.9772645831108093)",
         "language": "en",
         "confidence": 0.9772645831108092,
         "_deepnote_index_column": 0
        },
        {
         "Unnamed: 0": 4,
         "clean_tweets": "Ladies drink and get in free till ",
         "prediction": "('en', 0.6527988910675049)",
         "language": "en",
         "confidence": 0.6527988910675049,
         "_deepnote_index_column": 1
        },
        {
         "Unnamed: 0": 7,
         "clean_tweets": "Watching Miranda On bbc mermhart u r HILARIOUS ",
         "prediction": "('en', 0.5819909572601318)",
         "language": "en",
         "confidence": 0.5819909572601318,
         "_deepnote_index_column": 2
        },
        {
         "Unnamed: 0": 9,
         "clean_tweets": "Shopping  Kohls httptcoIZkQHT",
         "prediction": "('en', 0.5320528745651245)",
         "language": "en",
         "confidence": 0.5320528745651245,
         "_deepnote_index_column": 3
        },
        {
         "Unnamed: 0": 16,
         "clean_tweets": "Dennycrowe all over twitter because you and your friends cant stick up for yourselves",
         "prediction": "('en', 0.768022358417511)",
         "language": "en",
         "confidence": 0.768022358417511,
         "_deepnote_index_column": 4
        },
        {
         "Unnamed: 0": 21,
         "clean_tweets": "The way you treat me The way you accept me and love me How much you care about me Thats what makes …",
         "prediction": "('en', 0.9927026629447937)",
         "language": "en",
         "confidence": 0.9927026629447936,
         "_deepnote_index_column": 5
        },
        {
         "Unnamed: 0": 22,
         "clean_tweets": "I just wanna get pulled on the sled by the four wheeler again goodshit",
         "prediction": "('en', 0.8898915648460388)",
         "language": "en",
         "confidence": 0.8898915648460388,
         "_deepnote_index_column": 6
        },
        {
         "Unnamed: 0": 23,
         "clean_tweets": "Oh theres that fake door slam noise  ugh CBB",
         "prediction": "('en', 0.7740566730499268)",
         "language": "en",
         "confidence": 0.7740566730499268,
         "_deepnote_index_column": 7
        },
        {
         "Unnamed: 0": 24,
         "clean_tweets": "Taybaybay cool Wanna see when u get it",
         "prediction": "('en', 0.9530688524246216)",
         "language": "en",
         "confidence": 0.9530688524246216,
         "_deepnote_index_column": 8
        },
        {
         "Unnamed: 0": 25,
         "clean_tweets": "delwebb hahaa I never get told to be a post  But Ill most likely guard yaaaa",
         "prediction": "('en', 0.8663251996040344)",
         "language": "en",
         "confidence": 0.8663251996040344,
         "_deepnote_index_column": 9
        },
        {
         "Unnamed: 0": 27,
         "clean_tweets": "Opucar timallen Im in Tennessee Only bears and mountain lions round these parts",
         "prediction": "('en', 0.8618153929710388)",
         "language": "en",
         "confidence": 0.8618153929710388,
         "_deepnote_index_column": 10
        },
        {
         "Unnamed: 0": 28,
         "clean_tweets": "Cant do right without doing wrong first",
         "prediction": "('en', 0.8515466451644897)",
         "language": "en",
         "confidence": 0.8515466451644897,
         "_deepnote_index_column": 11
        },
        {
         "Unnamed: 0": 30,
         "clean_tweets": "FlaccidDaddy and goodluck on that young occupation",
         "prediction": "('en', 0.8955035209655762)",
         "language": "en",
         "confidence": 0.8955035209655762,
         "_deepnote_index_column": 12
        },
        {
         "Unnamed: 0": 31,
         "clean_tweets": "kiapegg ahh okay how old ate you I am ",
         "prediction": "('en', 0.6568612456321716)",
         "language": "en",
         "confidence": 0.6568612456321716,
         "_deepnote_index_column": 13
        },
        {
         "Unnamed: 0": 36,
         "clean_tweets": "Rain bitches but get my dick on with  at least  chicks at York these hoes are easy game dont change…",
         "prediction": "('en', 0.9321334362030029)",
         "language": "en",
         "confidence": 0.9321334362030028,
         "_deepnote_index_column": 14
        },
        {
         "Unnamed: 0": 37,
         "clean_tweets": "SexSurvey  If you were a stripper what would your name be Trixie or Tricktina as a girl  as a boy m…",
         "prediction": "('en', 0.9985421299934387)",
         "language": "en",
         "confidence": 0.9985421299934388,
         "_deepnote_index_column": 15
        },
        {
         "Unnamed: 0": 38,
         "clean_tweets": "RT“iLeexi I feel shittttttty I cant even get off my bed No srsly I feel rlly sick and shitty”",
         "prediction": "('en', 0.9207454323768616)",
         "language": "en",
         "confidence": 0.9207454323768616,
         "_deepnote_index_column": 16
        },
        {
         "Unnamed: 0": 41,
         "clean_tweets": "adampoulos TyreceSpeaight even me Are you at the party",
         "prediction": "('en', 0.900943398475647)",
         "language": "en",
         "confidence": 0.900943398475647,
         "_deepnote_index_column": 17
        },
        {
         "Unnamed: 0": 47,
         "clean_tweets": "Drinking a Mamas Little Yella Pils by oskarblues  Thunderdome — httptcoVEwnxn",
         "prediction": "('en', 0.6960617899894714)",
         "language": "en",
         "confidence": 0.6960617899894714,
         "_deepnote_index_column": 18
        },
        {
         "Unnamed: 0": 48,
         "clean_tweets": " PM  Harrahs Las Vegas  NL Holdem Poker Tournament w  Bounties HarrahsVegas httptcofmxWZT",
         "prediction": "('en', 0.5973804593086243)",
         "language": "en",
         "confidence": 0.5973804593086243,
         "_deepnote_index_column": 19
        },
        {
         "Unnamed: 0": 52,
         "clean_tweets": "Fifi gatal Takk abes nk double meaning Iyewwww",
         "prediction": "('en', 0.5920048952102661)",
         "language": "en",
         "confidence": 0.5920048952102661,
         "_deepnote_index_column": 20
        },
        {
         "Unnamed: 0": 53,
         "clean_tweets": "And my grades are top notch ",
         "prediction": "('en', 0.8585880994796753)",
         "language": "en",
         "confidence": 0.8585880994796753,
         "_deepnote_index_column": 21
        },
        {
         "Unnamed: 0": 56,
         "clean_tweets": "Yeah fuck saqouit fans i aint scared",
         "prediction": "('en', 0.5225921869277954)",
         "language": "en",
         "confidence": 0.5225921869277954,
         "_deepnote_index_column": 22
        },
        {
         "Unnamed: 0": 64,
         "clean_tweets": "geegrapes Its all about being real and true to yourself The opposite of real is fake",
         "prediction": "('en', 0.9611084461212158)",
         "language": "en",
         "confidence": 0.9611084461212158,
         "_deepnote_index_column": 23
        },
        {
         "Unnamed: 0": 68,
         "clean_tweets": "Whistle baby",
         "prediction": "('en', 0.6739833950996399)",
         "language": "en",
         "confidence": 0.6739833950996399,
         "_deepnote_index_column": 24
        },
        {
         "Unnamed: 0": 69,
         "clean_tweets": " Joos DLP ThroughFeed Hot Veneer Press Please feel free to make an offer All offers will be conside…",
         "prediction": "('en', 0.9451112151145935)",
         "language": "en",
         "confidence": 0.9451112151145936,
         "_deepnote_index_column": 25
        },
        {
         "Unnamed: 0": 75,
         "clean_tweets": "Seriously I feel Betrayed",
         "prediction": "('en', 0.9025912880897522)",
         "language": "en",
         "confidence": 0.9025912880897522,
         "_deepnote_index_column": 26
        },
        {
         "Unnamed: 0": 77,
         "clean_tweets": "BigJoe I plugged it in the computer so no",
         "prediction": "('en', 0.7824143171310425)",
         "language": "en",
         "confidence": 0.7824143171310425,
         "_deepnote_index_column": 27
        },
        {
         "Unnamed: 0": 80,
         "clean_tweets": "FucKUPayyMee Lawwdd it feel like somebody just punchin me in my cat Lmaoo see nasty asz",
         "prediction": "('en', 0.8582663536071777)",
         "language": "en",
         "confidence": 0.8582663536071777,
         "_deepnote_index_column": 28
        },
        {
         "Unnamed: 0": 86,
         "clean_tweets": "ronaldtoswoll lmfaooo thats a girl store",
         "prediction": "('en', 0.6248172521591187)",
         "language": "en",
         "confidence": 0.6248172521591187,
         "_deepnote_index_column": 29
        },
        {
         "Unnamed: 0": 88,
         "clean_tweets": "My ears once again hurt so much",
         "prediction": "('en', 0.978699803352356)",
         "language": "en",
         "confidence": 0.978699803352356,
         "_deepnote_index_column": 30
        },
        {
         "Unnamed: 0": 95,
         "clean_tweets": "Safe to say I teared up more than I do in the average year in one night at Les Mis musicgotmegoing …",
         "prediction": "('en', 0.8752473592758179)",
         "language": "en",
         "confidence": 0.8752473592758179,
         "_deepnote_index_column": 31
        },
        {
         "Unnamed: 0": 96,
         "clean_tweets": "Jinki do you know that she has passed on",
         "prediction": "('en', 0.9953494668006897)",
         "language": "en",
         "confidence": 0.9953494668006896,
         "_deepnote_index_column": 32
        },
        {
         "Unnamed: 0": 104,
         "clean_tweets": "Damn your ex is a cry baby He dont wanna talk to me",
         "prediction": "('en', 0.916293203830719)",
         "language": "en",
         "confidence": 0.916293203830719,
         "_deepnote_index_column": 33
        },
        {
         "Unnamed: 0": 105,
         "clean_tweets": "AndyMolitor she will be devastated",
         "prediction": "('en', 0.9827072024345398)",
         "language": "en",
         "confidence": 0.9827072024345398,
         "_deepnote_index_column": 34
        },
        {
         "Unnamed: 0": 109,
         "clean_tweets": "LukeMalvern ahwwww Lukey your profile picture is so adorable",
         "prediction": "('en', 0.8268803954124451)",
         "language": "en",
         "confidence": 0.8268803954124451,
         "_deepnote_index_column": 35
        },
        {
         "Unnamed: 0": 115,
         "clean_tweets": "My baby Is completely frozen no way I can drive this shit no time soon httptcofBvytx",
         "prediction": "('en', 0.8869953751564026)",
         "language": "en",
         "confidence": 0.8869953751564026,
         "_deepnote_index_column": 36
        },
        {
         "Unnamed: 0": 120,
         "clean_tweets": "MarcAnthony nallelyyj Well instead of scaring her you scared me",
         "prediction": "('en', 0.723598837852478)",
         "language": "en",
         "confidence": 0.723598837852478,
         "_deepnote_index_column": 37
        },
        {
         "Unnamed: 0": 121,
         "clean_tweets": "Everything I dont want to happen is happening Smh I hate my life right now ",
         "prediction": "('en', 0.8318793773651123)",
         "language": "en",
         "confidence": 0.8318793773651123,
         "_deepnote_index_column": 38
        },
        {
         "Unnamed: 0": 127,
         "clean_tweets": "Its funny because in every situation we go threw your aloud to tell ur best friend but I cant tooba…",
         "prediction": "('en', 0.797429084777832)",
         "language": "en",
         "confidence": 0.797429084777832,
         "_deepnote_index_column": 39
        },
        {
         "Unnamed: 0": 128,
         "clean_tweets": "I am not a godly person or a religious one for that matter Mostly because Im logical and I grew out…",
         "prediction": "('en', 0.9303455352783203)",
         "language": "en",
         "confidence": 0.9303455352783204,
         "_deepnote_index_column": 40
        },
        {
         "Unnamed: 0": 132,
         "clean_tweets": "Ughh HeavyHitterz needs to hurry the hell up and get outta work",
         "prediction": "('en', 0.959530234336853)",
         "language": "en",
         "confidence": 0.959530234336853,
         "_deepnote_index_column": 41
        },
        {
         "Unnamed: 0": 135,
         "clean_tweets": "SheeRatchettt Amen",
         "prediction": "('en', 0.5891667604446411)",
         "language": "en",
         "confidence": 0.5891667604446411,
         "_deepnote_index_column": 42
        },
        {
         "Unnamed: 0": 136,
         "clean_tweets": "ChineseJasminee okay good  Please come  And no I dont talk to her nor joselin  Yes  Saturday Sunday…",
         "prediction": "('en', 0.8986683487892151)",
         "language": "en",
         "confidence": 0.8986683487892151,
         "_deepnote_index_column": 43
        },
        {
         "Unnamed: 0": 137,
         "clean_tweets": "parcelgoHelp sadly this BOSE DOCKING STATION has not arrived and I am most annoyed I want this item…",
         "prediction": "('en', 0.9375582933425903)",
         "language": "en",
         "confidence": 0.9375582933425904,
         "_deepnote_index_column": 44
        },
        {
         "Unnamed: 0": 138,
         "clean_tweets": "Catfish need some hood ppl though That would be funny",
         "prediction": "('en', 0.9902777075767517)",
         "language": "en",
         "confidence": 0.9902777075767516,
         "_deepnote_index_column": 45
        },
        {
         "Unnamed: 0": 139,
         "clean_tweets": "Finally bedtime Goood freaking niighhtt",
         "prediction": "('en', 0.5518596768379211)",
         "language": "en",
         "confidence": 0.5518596768379211,
         "_deepnote_index_column": 46
        },
        {
         "Unnamed: 0": 140,
         "clean_tweets": "EdDJGex i did the bpm because i mix quickly so i can pitch them up for quick inmixing",
         "prediction": "('en', 0.9545879364013672)",
         "language": "en",
         "confidence": 0.9545879364013672,
         "_deepnote_index_column": 47
        },
        {
         "Unnamed: 0": 141,
         "clean_tweets": "Aww how cute is that  you can text every other fucker in this world but not me Shocking",
         "prediction": "('en', 0.9734230041503906)",
         "language": "en",
         "confidence": 0.9734230041503906,
         "_deepnote_index_column": 48
        },
        {
         "Unnamed: 0": 145,
         "clean_tweets": "kristacipriani sleep is for the weak  week",
         "prediction": "('en', 0.9594230055809021)",
         "language": "en",
         "confidence": 0.959423005580902,
         "_deepnote_index_column": 49
        },
        {
         "Unnamed: 0": 151,
         "clean_tweets": "I wish you would just text me this once",
         "prediction": "('en', 0.9900491237640381)",
         "language": "en",
         "confidence": 0.990049123764038,
         "_deepnote_index_column": 50
        },
        {
         "Unnamed: 0": 155,
         "clean_tweets": "Bought Al Fakher Orange  Grape and Vanilla Its gonna be Vanilla Twilight",
         "prediction": "('en', 0.7161864638328552)",
         "language": "en",
         "confidence": 0.7161864638328552,
         "_deepnote_index_column": 51
        },
        {
         "Unnamed: 0": 157,
         "clean_tweets": "just set my alarm for the first time in weeks morningstruggle ⏰",
         "prediction": "('en', 0.9105802774429321)",
         "language": "en",
         "confidence": 0.910580277442932,
         "_deepnote_index_column": 52
        },
        {
         "Unnamed: 0": 161,
         "clean_tweets": "Baltimore is going CRAZY  The celebration has just begun ",
         "prediction": "('en', 0.9968186616897583)",
         "language": "en",
         "confidence": 0.9968186616897584,
         "_deepnote_index_column": 53
        },
        {
         "Unnamed: 0": 162,
         "clean_tweets": "i got my days amp nights mixed up like ima newborn or sum sht ",
         "prediction": "('en', 0.7052215337753296)",
         "language": "en",
         "confidence": 0.7052215337753296,
         "_deepnote_index_column": 54
        },
        {
         "Unnamed: 0": 163,
         "clean_tweets": "Bugis like got a lot of nice clothes ah",
         "prediction": "('en', 0.8533427715301514)",
         "language": "en",
         "confidence": 0.8533427715301514,
         "_deepnote_index_column": 55
        },
        {
         "Unnamed: 0": 168,
         "clean_tweets": "skatherine its okay lt",
         "prediction": "('en', 0.9262601733207703)",
         "language": "en",
         "confidence": 0.9262601733207704,
         "_deepnote_index_column": 56
        },
        {
         "Unnamed: 0": 174,
         "clean_tweets": "pinchedandan Im calling u a bitch dummy",
         "prediction": "('en', 0.5073210000991821)",
         "language": "en",
         "confidence": 0.5073210000991821,
         "_deepnote_index_column": 57
        },
        {
         "Unnamed: 0": 175,
         "clean_tweets": "Broph why was I the last to know Haha",
         "prediction": "('en', 0.9986116886138916)",
         "language": "en",
         "confidence": 0.9986116886138916,
         "_deepnote_index_column": 58
        },
        {
         "Unnamed: 0": 177,
         "clean_tweets": "BamBamBeast NeilChallis not the rd ",
         "prediction": "('en', 0.7265281677246094)",
         "language": "en",
         "confidence": 0.7265281677246094,
         "_deepnote_index_column": 59
        },
        {
         "Unnamed: 0": 179,
         "clean_tweets": "Dear BMSNard is by far the best bit on the BMSOnTheAir killinit",
         "prediction": "('en', 0.9681033492088318)",
         "language": "en",
         "confidence": 0.9681033492088318,
         "_deepnote_index_column": 60
        },
        {
         "Unnamed: 0": 181,
         "clean_tweets": "After these exams Im definitly gonna have to get together with friends whatmakesthedaybetter",
         "prediction": "('en', 0.9470250606536865)",
         "language": "en",
         "confidence": 0.9470250606536864,
         "_deepnote_index_column": 61
        },
        {
         "Unnamed: 0": 185,
         "clean_tweets": "Dense Fog Advisory issued January  at PM CST until January  at AM CST by NWS Lake Charles httptcoRb…",
         "prediction": "('en', 0.981285035610199)",
         "language": "en",
         "confidence": 0.981285035610199,
         "_deepnote_index_column": 62
        },
        {
         "Unnamed: 0": 186,
         "clean_tweets": "WOLFwinningWOLF alottttttttt",
         "prediction": "('en', 0.8396512866020203)",
         "language": "en",
         "confidence": 0.8396512866020203,
         "_deepnote_index_column": 63
        },
        {
         "Unnamed: 0": 187,
         "clean_tweets": "Everything makes more sense on a legal pad",
         "prediction": "('en', 0.8597789406776428)",
         "language": "en",
         "confidence": 0.8597789406776428,
         "_deepnote_index_column": 64
        },
        {
         "Unnamed: 0": 189,
         "clean_tweets": "I didnt stop loving you I just stopped showing it Inspired by echiprutt wakakak",
         "prediction": "('en', 0.9779286980628967)",
         "language": "en",
         "confidence": 0.9779286980628968,
         "_deepnote_index_column": 65
        },
        {
         "Unnamed: 0": 190,
         "clean_tweets": "Time to do work gtgtgtgtgt",
         "prediction": "('en', 0.5391421914100647)",
         "language": "en",
         "confidence": 0.5391421914100647,
         "_deepnote_index_column": 66
        },
        {
         "Unnamed: 0": 193,
         "clean_tweets": "thxyuuu jepa zevansca Oke syg pasti ˘ʃƪ˘ rindySW zevansca yaa gpp jepa doain cepet taken yaaa",
         "prediction": "('en', 0.5159307718276978)",
         "language": "en",
         "confidence": 0.5159307718276978,
         "_deepnote_index_column": 67
        },
        {
         "Unnamed: 0": 194,
         "clean_tweets": " “ForTheFame How some of you gays take pics wit yall fingers in yall asses amp then post them on th…",
         "prediction": "('en', 0.9408469200134277)",
         "language": "en",
         "confidence": 0.9408469200134276,
         "_deepnote_index_column": 68
        },
        {
         "Unnamed: 0": 195,
         "clean_tweets": "After all the dancehall artists I still get mad ova Busy Signal",
         "prediction": "('en', 0.8996940851211548)",
         "language": "en",
         "confidence": 0.8996940851211548,
         "_deepnote_index_column": 69
        },
        {
         "Unnamed: 0": 197,
         "clean_tweets": "DanReader I chose DRTammunition Its safe enough to do a mag dump at contact distance on steel amp h…",
         "prediction": "('en', 0.93221515417099)",
         "language": "en",
         "confidence": 0.93221515417099,
         "_deepnote_index_column": 70
        },
        {
         "Unnamed: 0": 198,
         "clean_tweets": "WaysToGetSlapped fuckin with my nigga",
         "prediction": "('en', 0.5536412596702576)",
         "language": "en",
         "confidence": 0.5536412596702576,
         "_deepnote_index_column": 71
        },
        {
         "Unnamed: 0": 199,
         "clean_tweets": "We rang  and they told us to go away Rude that",
         "prediction": "('en', 0.9573482275009155)",
         "language": "en",
         "confidence": 0.9573482275009156,
         "_deepnote_index_column": 72
        },
        {
         "Unnamed: 0": 200,
         "clean_tweets": "I just wanna sleep all day tomorrow",
         "prediction": "('en', 0.9087521433830261)",
         "language": "en",
         "confidence": 0.908752143383026,
         "_deepnote_index_column": 73
        },
        {
         "Unnamed: 0": 204,
         "clean_tweets": "AmVolunteer porque",
         "prediction": "('en', 0.8533994555473328)",
         "language": "en",
         "confidence": 0.8533994555473328,
         "_deepnote_index_column": 74
        },
        {
         "Unnamed: 0": 208,
         "clean_tweets": "Its not even like she tryin tk hide I see ur name",
         "prediction": "('en', 0.9733752608299255)",
         "language": "en",
         "confidence": 0.9733752608299256,
         "_deepnote_index_column": 75
        },
        {
         "Unnamed: 0": 211,
         "clean_tweets": "Ciaraannbarry hha where did ya meet this gay fella ",
         "prediction": "('en', 0.711830735206604)",
         "language": "en",
         "confidence": 0.711830735206604,
         "_deepnote_index_column": 76
        },
        {
         "Unnamed: 0": 213,
         "clean_tweets": "You never miss something tilours gone",
         "prediction": "('en', 0.7387401461601257)",
         "language": "en",
         "confidence": 0.7387401461601257,
         "_deepnote_index_column": 77
        },
        {
         "Unnamed: 0": 214,
         "clean_tweets": "JLIsley well two of my friends are on the way right now So thats random again u picked Dallas Lol S…",
         "prediction": "('en', 0.9680335521697998)",
         "language": "en",
         "confidence": 0.9680335521697998,
         "_deepnote_index_column": 78
        },
        {
         "Unnamed: 0": 216,
         "clean_tweets": "But I love AshleyKirwanMBE more Better than David at footy too",
         "prediction": "('en', 0.9670804142951965)",
         "language": "en",
         "confidence": 0.9670804142951964,
         "_deepnote_index_column": 79
        },
        {
         "Unnamed: 0": 221,
         "clean_tweets": "Today I tripped and Im  sure a fuck ton of people driving on Johnston saw it My dayltltlt",
         "prediction": "('en', 0.9270262122154236)",
         "language": "en",
         "confidence": 0.9270262122154236,
         "_deepnote_index_column": 80
        },
        {
         "Unnamed: 0": 225,
         "clean_tweets": "BisforBooYah showin no mercy",
         "prediction": "('en', 0.8085306286811829)",
         "language": "en",
         "confidence": 0.8085306286811829,
         "_deepnote_index_column": 81
        },
        {
         "Unnamed: 0": 228,
         "clean_tweets": "KREAYSHAWN you have the most perf voice ever",
         "prediction": "('en', 0.9348104596138)",
         "language": "en",
         "confidence": 0.9348104596138,
         "_deepnote_index_column": 82
        },
        {
         "Unnamed: 0": 230,
         "clean_tweets": "All day I thought it was weird Wednesday letdown",
         "prediction": "('en', 0.9907895922660828)",
         "language": "en",
         "confidence": 0.9907895922660828,
         "_deepnote_index_column": 83
        },
        {
         "Unnamed: 0": 233,
         "clean_tweets": "kahnman not even cool hes seriously hurt",
         "prediction": "('en', 0.9813820123672485)",
         "language": "en",
         "confidence": 0.9813820123672484,
         "_deepnote_index_column": 84
        },
        {
         "Unnamed: 0": 235,
         "clean_tweets": "   Jimmuji Sta KK httptcotqDVFG",
         "prediction": "('en', 0.6300638914108276)",
         "language": "en",
         "confidence": 0.6300638914108276,
         "_deepnote_index_column": 85
        },
        {
         "Unnamed: 0": 238,
         "clean_tweets": "sloanetweets asksloane favorite for the superbowl and what team do you support",
         "prediction": "('en', 0.9139322638511658)",
         "language": "en",
         "confidence": 0.9139322638511658,
         "_deepnote_index_column": 86
        },
        {
         "Unnamed: 0": 239,
         "clean_tweets": "Time is a thing not to waste",
         "prediction": "('en', 0.9202580451965332)",
         "language": "en",
         "confidence": 0.9202580451965332,
         "_deepnote_index_column": 87
        },
        {
         "Unnamed: 0": 240,
         "clean_tweets": "Lakers win tip off",
         "prediction": "('en', 0.8584257364273071)",
         "language": "en",
         "confidence": 0.8584257364273071,
         "_deepnote_index_column": 88
        },
        {
         "Unnamed: 0": 241,
         "clean_tweets": "I gotta stop talking and just do it Talk is cheap",
         "prediction": "('en', 0.9555741548538208)",
         "language": "en",
         "confidence": 0.9555741548538208,
         "_deepnote_index_column": 89
        },
        {
         "Unnamed: 0": 243,
         "clean_tweets": "emilysarahjohn Hahaha so awks but so funny",
         "prediction": "('en', 0.8353583812713623)",
         "language": "en",
         "confidence": 0.8353583812713623,
         "_deepnote_index_column": 90
        },
        {
         "Unnamed: 0": 244,
         "clean_tweets": "Listening to EDC recaps cant wait for EDCNY  at Citi Field insomniacevents",
         "prediction": "('en', 0.7178656458854675)",
         "language": "en",
         "confidence": 0.7178656458854675,
         "_deepnote_index_column": 91
        },
        {
         "Unnamed: 0": 245,
         "clean_tweets": "I turned up currently httptcolcsVaSs",
         "prediction": "('en', 0.8465500473976135)",
         "language": "en",
         "confidence": 0.8465500473976135,
         "_deepnote_index_column": 92
        },
        {
         "Unnamed: 0": 246,
         "clean_tweets": "This heart is on fire",
         "prediction": "('en', 0.9536947011947632)",
         "language": "en",
         "confidence": 0.9536947011947632,
         "_deepnote_index_column": 93
        },
        {
         "Unnamed: 0": 249,
         "clean_tweets": "Oh brill so now my bumpers hanging off might as well just leave it falls off completely",
         "prediction": "('en', 0.9860961437225342)",
         "language": "en",
         "confidence": 0.9860961437225342,
         "_deepnote_index_column": 94
        },
        {
         "Unnamed: 0": 250,
         "clean_tweets": "I miss that time when you text me and said iman tolong aku it surprised me  XD im really miss that …",
         "prediction": "('en', 0.913119912147522)",
         "language": "en",
         "confidence": 0.913119912147522,
         "_deepnote_index_column": 95
        },
        {
         "Unnamed: 0": 251,
         "clean_tweets": "And I say hey ey ey ey ey hey ey ey I said hey whats going on",
         "prediction": "('en', 0.963112473487854)",
         "language": "en",
         "confidence": 0.963112473487854,
         "_deepnote_index_column": 96
        },
        {
         "Unnamed: 0": 252,
         "clean_tweets": "How are you mixed and have an inch of nappy hair on yo head tho youre mixed alright  with Black  Bl…",
         "prediction": "('en', 0.9814040064811707)",
         "language": "en",
         "confidence": 0.9814040064811708,
         "_deepnote_index_column": 97
        },
        {
         "Unnamed: 0": 256,
         "clean_tweets": "Those flautas were good D",
         "prediction": "('en', 0.9996362328529358)",
         "language": "en",
         "confidence": 0.9996362328529358,
         "_deepnote_index_column": 98
        },
        {
         "Unnamed: 0": 258,
         "clean_tweets": "I really want to study abroad in Israel",
         "prediction": "('en', 0.9877316355705261)",
         "language": "en",
         "confidence": 0.987731635570526,
         "_deepnote_index_column": 99
        }
       ],
       "rows_bottom": [
        {
         "Unnamed: 0": 10335,
         "clean_tweets": "Im at   in   httpstcozpbuSRDvR",
         "prediction": "('en', 0.5850929617881775)",
         "language": "en",
         "confidence": 0.5850929617881775,
         "_deepnote_index_column": 4212
        },
        {
         "Unnamed: 0": 10338,
         "clean_tweets": "FLAWLESS   Playa La Manga Del Mar Menor httpstcopPcNvjB",
         "prediction": "('en', 0.6932401657104492)",
         "language": "en",
         "confidence": 0.6932401657104492,
         "_deepnote_index_column": 4213
        },
        {
         "Unnamed: 0": 10342,
         "clean_tweets": "Heladeandoo  Amandau httpstcotcOgly",
         "prediction": "('en', 0.5279935598373413)",
         "language": "en",
         "confidence": 0.5279935598373413,
         "_deepnote_index_column": 4214
        },
        {
         "Unnamed: 0": 10347,
         "clean_tweets": "n   httpstcoPQPaUbLY",
         "prediction": "('en', 0.6685195565223694)",
         "language": "en",
         "confidence": 0.6685195565223694,
         "_deepnote_index_column": 4215
        },
        {
         "Unnamed: 0": 10350,
         "clean_tweets": " Lunch at Polpo in Soho A mezze of goodies lunch Italian tapas summer europe london… httpstcoyKcDEw…",
         "prediction": "('en', 0.5621762275695801)",
         "language": "en",
         "confidence": 0.5621762275695801,
         "_deepnote_index_column": 4216
        },
        {
         "Unnamed: 0": 10351,
         "clean_tweets": "Im at Gabrielas House in Agronômica Santa Catarina httpstcoYdvarbrq",
         "prediction": "('en', 0.7831055521965027)",
         "language": "en",
         "confidence": 0.7831055521965027,
         "_deepnote_index_column": 4217
        },
        {
         "Unnamed: 0": 10352,
         "clean_tweets": "Im at Londrina Lanches in Ipanema PR httpstcoSRZQvumBCf",
         "prediction": "('en', 0.5419869422912598)",
         "language": "en",
         "confidence": 0.5419869422912598,
         "_deepnote_index_column": 4218
        },
        {
         "Unnamed: 0": 10353,
         "clean_tweets": "Icecreamfuninthesun summersouthsea SouthCoast  Clarence Pier httpstcoZSFzEFHv",
         "prediction": "('en', 0.542380154132843)",
         "language": "en",
         "confidence": 0.542380154132843,
         "_deepnote_index_column": 4219
        },
        {
         "Unnamed: 0": 10354,
         "clean_tweets": " with Mutia Vallery and Ivana at warunkupnormal — httpstcoueBistAK",
         "prediction": "('en', 0.8085716366767883)",
         "language": "en",
         "confidence": 0.8085716366767883,
         "_deepnote_index_column": 4220
        },
        {
         "Unnamed: 0": 10356,
         "clean_tweets": "mist gt sky is clearntemperature up °F gt °Fnhumidity down  gt nwind mph gt mph",
         "prediction": "('en', 0.6947030425071716)",
         "language": "en",
         "confidence": 0.6947030425071716,
         "_deepnote_index_column": 4221
        },
        {
         "Unnamed: 0": 10357,
         "clean_tweets": "Red eyes dont seem too bad when you get to eat breakfast here  Boston Common Duck Pond httpstcoYzYf…",
         "prediction": "('en', 0.7808018922805786)",
         "language": "en",
         "confidence": 0.7808018922805786,
         "_deepnote_index_column": 4222
        },
        {
         "Unnamed: 0": 10361,
         "clean_tweets": "Timeless Fashion By hamletsvintage manhattan moda fashion collection colorful vintage… httpstcoNStT…",
         "prediction": "('en', 0.6071230173110962)",
         "language": "en",
         "confidence": 0.6071230173110962,
         "_deepnote_index_column": 4223
        },
        {
         "Unnamed: 0": 10362,
         "clean_tweets": "Im at  in Aydın Efeler httpstcoCxfTmqElJt",
         "prediction": "('en', 0.6233075261116028)",
         "language": "en",
         "confidence": 0.6233075261116028,
         "_deepnote_index_column": 4224
        },
        {
         "Unnamed: 0": 10364,
         "clean_tweets": "Want to work in  View our latest opening httpstconOHNZIZCE Job Hospitality Veterans Jobs Hiring Car…",
         "prediction": "('en', 0.7988003492355347)",
         "language": "en",
         "confidence": 0.7988003492355347,
         "_deepnote_index_column": 4225
        },
        {
         "Unnamed: 0": 10366,
         "clean_tweets": "Im at Ice Skating Rink in Kuwait City Kuwait w freakyq httpstcoIMPQscEOh",
         "prediction": "('en', 0.7028493285179138)",
         "language": "en",
         "confidence": 0.7028493285179138,
         "_deepnote_index_column": 4226
        },
        {
         "Unnamed: 0": 10367,
         "clean_tweets": "I love this town  ATLAtlanta nAwesome view from denisepricetoos new home   Jackson… httpstcohZoFZYw",
         "prediction": "('en', 0.7422047257423401)",
         "language": "en",
         "confidence": 0.7422047257423401,
         "_deepnote_index_column": 4227
        },
        {
         "Unnamed: 0": 10369,
         "clean_tweets": "Im at  in   httpstcotZJZoKPlG",
         "prediction": "('en', 0.849347710609436)",
         "language": "en",
         "confidence": 0.849347710609436,
         "_deepnote_index_column": 4228
        },
        {
         "Unnamed: 0": 10372,
         "clean_tweets": "NEW PRODUCT ALERT we have new bath bombs and bodyfacial soap all available in different yummy… http…",
         "prediction": "('en', 0.8340772986412048)",
         "language": "en",
         "confidence": 0.8340772986412048,
         "_deepnote_index_column": 4229
        },
        {
         "Unnamed: 0": 10373,
         "clean_tweets": "Can you recommend anyone for this job httpstcoGAGYOB Hospitality Stevenson WA Hiring",
         "prediction": "('en', 0.9137861728668213)",
         "language": "en",
         "confidence": 0.9137861728668212,
         "_deepnote_index_column": 4230
        },
        {
         "Unnamed: 0": 10374,
         "clean_tweets": "Want to work in Springfield MO View our latest opening httpstcoERDDRejM Job Jobs Hiring",
         "prediction": "('en', 0.7143115997314453)",
         "language": "en",
         "confidence": 0.7143115997314453,
         "_deepnote_index_column": 4231
        },
        {
         "Unnamed: 0": 10377,
         "clean_tweets": "This job might be a great fit for you Director of Major Gifts  httpstcoTHvncRNO Chicago IL Veterans…",
         "prediction": "('en', 0.8946111798286438)",
         "language": "en",
         "confidence": 0.8946111798286438,
         "_deepnote_index_column": 4232
        },
        {
         "Unnamed: 0": 10378,
         "clean_tweets": "Im at Star AVM in Yalova Türkiye httpstcoJwPrcMN",
         "prediction": "('en', 0.6198866367340088)",
         "language": "en",
         "confidence": 0.6198866367340088,
         "_deepnote_index_column": 4233
        },
        {
         "Unnamed: 0": 10380,
         "clean_tweets": "Ciao for now montauk  Ill be teaching the swervesixty in midtown tomorrow but back on the… httpstco…",
         "prediction": "('en', 0.8132315874099731)",
         "language": "en",
         "confidence": 0.8132315874099731,
         "_deepnote_index_column": 4234
        },
        {
         "Unnamed: 0": 10381,
         "clean_tweets": "What to do on a hot summer day at the beach Take a swim of course adorbz yellowlab… httpstcoPLtoHMgG",
         "prediction": "('en', 0.8111848831176758)",
         "language": "en",
         "confidence": 0.8111848831176758,
         "_deepnote_index_column": 4235
        },
        {
         "Unnamed: 0": 10382,
         "clean_tweets": "birthdaycake mom love cherish  Romanos Macaroni Grill  Dulles httpstcocoQbtbZWs",
         "prediction": "('en', 0.6473667025566101)",
         "language": "en",
         "confidence": 0.6473667025566101,
         "_deepnote_index_column": 4236
        },
        {
         "Unnamed: 0": 10385,
         "clean_tweets": "Unexpected reunions are the best bestfriends longdistancebestfriends  Taguig Philippines httpstcoFP…",
         "prediction": "('en', 0.7185416221618652)",
         "language": "en",
         "confidence": 0.7185416221618652,
         "_deepnote_index_column": 4237
        },
        {
         "Unnamed: 0": 10387,
         "clean_tweets": "brothers from another mother  Justin Mehall Memorial Soccer Field httpstcoSASDpapN",
         "prediction": "('en', 0.8766751885414124)",
         "language": "en",
         "confidence": 0.8766751885414124,
         "_deepnote_index_column": 4238
        },
        {
         "Unnamed: 0": 10388,
         "clean_tweets": "Were hiring Read about our latest job opening here REGISTERED NURSE  httpstcoYrKrzdTCs Nursing Anna…",
         "prediction": "('en', 0.7791356444358826)",
         "language": "en",
         "confidence": 0.7791356444358826,
         "_deepnote_index_column": 4239
        },
        {
         "Unnamed: 0": 10389,
         "clean_tweets": "Im at Çenedağı  Zirve in İzmit Kocaeli w serhattmuratt muhammedmalo httpstcoXyaFMNnRUr",
         "prediction": "('en', 0.5771914124488831)",
         "language": "en",
         "confidence": 0.5771914124488831,
         "_deepnote_index_column": 4240
        },
        {
         "Unnamed: 0": 10390,
         "clean_tweets": "Interested in a job near FRANKLIN OH This could be a great fit httpstcoceFmNulx Retail Hiring Caree…",
         "prediction": "('en', 0.9775559902191162)",
         "language": "en",
         "confidence": 0.9775559902191162,
         "_deepnote_index_column": 4241
        },
        {
         "Unnamed: 0": 10391,
         "clean_tweets": "With Dimaz  at Legian beach festival pic — httpstcoFIEZmqrEa",
         "prediction": "('en', 0.7388697266578674)",
         "language": "en",
         "confidence": 0.7388697266578674,
         "_deepnote_index_column": 4242
        },
        {
         "Unnamed: 0": 10392,
         "clean_tweets": "Look at these handsome boys firstdayofschool wherehasthetimegone  Manchester Elementary httpstcoUJq…",
         "prediction": "('en', 0.7933093309402466)",
         "language": "en",
         "confidence": 0.7933093309402466,
         "_deepnote_index_column": 4243
        },
        {
         "Unnamed: 0": 10395,
         "clean_tweets": "Reading   Reading Festival Main Stage httpstcoSJbiYPZ",
         "prediction": "('en', 0.7895727157592773)",
         "language": "en",
         "confidence": 0.7895727157592773,
         "_deepnote_index_column": 4244
        },
        {
         "Unnamed: 0": 10396,
         "clean_tweets": "Im at TheBistroBl httpstcoAsaHItgu",
         "prediction": "('en', 0.5501131415367126)",
         "language": "en",
         "confidence": 0.5501131415367126,
         "_deepnote_index_column": 4245
        },
        {
         "Unnamed: 0": 10401,
         "clean_tweets": "Abang KO dekbutuh pijit  at Gedung Nusantara II pic — httpstcoaqYNEWrqb",
         "prediction": "('en', 0.6194538474082947)",
         "language": "en",
         "confidence": 0.6194538474082947,
         "_deepnote_index_column": 4246
        },
        {
         "Unnamed: 0": 10404,
         "clean_tweets": "Chesham man retires after  years of service to education httpstcogQOmSgbVUG Bucks httpstcorGcnqsP",
         "prediction": "('en', 0.8383756279945374)",
         "language": "en",
         "confidence": 0.8383756279945374,
         "_deepnote_index_column": 4247
        },
        {
         "Unnamed: 0": 10406,
         "clean_tweets": "Can you recommend anyone for this job in Irving TX httpstcovluPqcn Nursing Hiring httpstcoOhgBwlWFcN",
         "prediction": "('en', 0.8685512542724609)",
         "language": "en",
         "confidence": 0.8685512542724609,
         "_deepnote_index_column": 4248
        },
        {
         "Unnamed: 0": 10410,
         "clean_tweets": "Sometimes humpday requires extra coffee  RobotTheDog is all smiles amp caffeine free on… httpstcoOO…",
         "prediction": "('en', 0.8278887867927551)",
         "language": "en",
         "confidence": 0.8278887867927551,
         "_deepnote_index_column": 4249
        },
        {
         "Unnamed: 0": 10413,
         "clean_tweets": "veryselectivesocialcircle   Rittenhouse Square httpstcowfqvAPZs",
         "prediction": "('en', 0.6992231011390686)",
         "language": "en",
         "confidence": 0.6992231011390686,
         "_deepnote_index_column": 4250
        },
        {
         "Unnamed: 0": 10414,
         "clean_tweets": "Todays member happy hour hosted by BLANKSPACES In the photo  George is demoing bailiwik to… httpstc…",
         "prediction": "('en', 0.961993932723999)",
         "language": "en",
         "confidence": 0.961993932723999,
         "_deepnote_index_column": 4251
        },
        {
         "Unnamed: 0": 10415,
         "clean_tweets": "I Hope You Dance by Ronan Keating is nowplaying in The Beacon Hotel",
         "prediction": "('en', 0.9777970910072327)",
         "language": "en",
         "confidence": 0.9777970910072328,
         "_deepnote_index_column": 4252
        },
        {
         "Unnamed: 0": 10418,
         "clean_tweets": "Im at Julinhas house in Jaguarão RS httpstcorcNeqRaNrD",
         "prediction": "('en', 0.738061785697937)",
         "language": "en",
         "confidence": 0.738061785697937,
         "_deepnote_index_column": 4253
        },
        {
         "Unnamed: 0": 10419,
         "clean_tweets": " cmpphoto nsummer summerseries baewatch lifeguardonduty beach myrtle bikini… httpstcoDbflNCnE",
         "prediction": "('en', 0.5884271264076233)",
         "language": "en",
         "confidence": 0.5884271264076233,
         "_deepnote_index_column": 4254
        },
        {
         "Unnamed: 0": 10421,
         "clean_tweets": "Im at Pcghs Blok Utama httpstcoLlAjyyr",
         "prediction": "('en', 0.5487533807754517)",
         "language": "en",
         "confidence": 0.5487533807754517,
         "_deepnote_index_column": 4255
        },
        {
         "Unnamed: 0": 10422,
         "clean_tweets": "mom and dad  University of Kentucky httpstcoYzMxQhilm",
         "prediction": "('en', 0.7332102060317993)",
         "language": "en",
         "confidence": 0.7332102060317993,
         "_deepnote_index_column": 4256
        },
        {
         "Unnamed: 0": 10423,
         "clean_tweets": "Im at M Café in Makati City Metro Manila httpstcoHQmEHANHK",
         "prediction": "('en', 0.7058688402175903)",
         "language": "en",
         "confidence": 0.7058688402175903,
         "_deepnote_index_column": 4257
        },
        {
         "Unnamed: 0": 10424,
         "clean_tweets": "Im at Lavazza  bestcoffeeshop in İstanbul Türkiye w uyrdlr httpstcoPrpayUAUc",
         "prediction": "('en', 0.677527904510498)",
         "language": "en",
         "confidence": 0.677527904510498,
         "_deepnote_index_column": 4258
        },
        {
         "Unnamed: 0": 10426,
         "clean_tweets": "Offramp closed in Edina on Crosstown Hwy WB at Lyndale Ave traffic httpstcocYOdRRKz",
         "prediction": "('en', 0.9394984245300293)",
         "language": "en",
         "confidence": 0.9394984245300292,
         "_deepnote_index_column": 4259
        },
        {
         "Unnamed: 0": 10427,
         "clean_tweets": "  Sakit Hati by Yovie amp Nuno at Banjir Kanal Barat — httpstcotdTvxALpOG",
         "prediction": "('en', 0.7830061316490173)",
         "language": "en",
         "confidence": 0.7830061316490173,
         "_deepnote_index_column": 4260
        },
        {
         "Unnamed: 0": 10428,
         "clean_tweets": "Wine festival drunk  My Wines Gibraltar Ltd httpstcogbtfvpMX",
         "prediction": "('en', 0.6696304678916931)",
         "language": "en",
         "confidence": 0.6696304678916931,
         "_deepnote_index_column": 4261
        },
        {
         "Unnamed: 0": 10430,
         "clean_tweets": "Were hiring Click to apply CNC MACHINIST  httpstcoAVdYcULaC Job SkilledTrade Moorpark CA Jobs Caree…",
         "prediction": "('en', 0.6955596804618835)",
         "language": "en",
         "confidence": 0.6955596804618835,
         "_deepnote_index_column": 4262
        },
        {
         "Unnamed: 0": 10432,
         "clean_tweets": "Local Weather   nTemp  ºC Current WindGust    mph WindSWnRainfall today  Baro amp Falling",
         "prediction": "('en', 0.8505831360816956)",
         "language": "en",
         "confidence": 0.8505831360816956,
         "_deepnote_index_column": 4263
        },
        {
         "Unnamed: 0": 10433,
         "clean_tweets": "Em jom laa masuk kedai tu nak tengok jee   Lavender Garden Cameron Highlands httpstcoZtLOgdp",
         "prediction": "('en', 0.5068055987358093)",
         "language": "en",
         "confidence": 0.5068055987358093,
         "_deepnote_index_column": 4264
        },
        {
         "Unnamed: 0": 10435,
         "clean_tweets": "Labor Day go  Up on the Roof httpstcoMLBbFPMGCa",
         "prediction": "('en', 0.7314872145652771)",
         "language": "en",
         "confidence": 0.7314872145652771,
         "_deepnote_index_column": 4265
        },
        {
         "Unnamed: 0": 10436,
         "clean_tweets": "Im at San Fernando Pampanga httpstcoZDZSRo",
         "prediction": "('en', 0.5861769318580627)",
         "language": "en",
         "confidence": 0.5861769318580627,
         "_deepnote_index_column": 4266
        },
        {
         "Unnamed: 0": 10437,
         "clean_tweets": "Just posted a photo  I Near North Platte Nebraska httpstcomAJWiIDJF",
         "prediction": "('en', 0.7201416492462158)",
         "language": "en",
         "confidence": 0.7201416492462158,
         "_deepnote_index_column": 4267
        },
        {
         "Unnamed: 0": 10438,
         "clean_tweets": "Im at NI SOLUTION SDN BHD in Skudai Johor httpstcosSMqQdIQn",
         "prediction": "('en', 0.7134904861450195)",
         "language": "en",
         "confidence": 0.7134904861450195,
         "_deepnote_index_column": 4268
        },
        {
         "Unnamed: 0": 10439,
         "clean_tweets": "Too much sauce  lastnightinmiami  Miami Florida httpstcolqFVhIyN",
         "prediction": "('en', 0.7772868871688843)",
         "language": "en",
         "confidence": 0.7772868871688843,
         "_deepnote_index_column": 4269
        },
        {
         "Unnamed: 0": 10440,
         "clean_tweets": "family portrait photographer newportbeach orangecounty oc photography studio  Newport… httpstcotnBO…",
         "prediction": "('en', 0.9279006123542786)",
         "language": "en",
         "confidence": 0.9279006123542786,
         "_deepnote_index_column": 4270
        },
        {
         "Unnamed: 0": 10441,
         "clean_tweets": "Im at  in Kitakyūshū  httpstcowcQmpSo",
         "prediction": "('en', 0.5447929501533508)",
         "language": "en",
         "confidence": 0.5447929501533508,
         "_deepnote_index_column": 4271
        },
        {
         "Unnamed: 0": 10442,
         "clean_tweets": "View at this AMs search at KNW camp  Camp Westmont httpstcomPJAsIUq",
         "prediction": "('en', 0.8867635726928711)",
         "language": "en",
         "confidence": 0.8867635726928711,
         "_deepnote_index_column": 4272
        },
        {
         "Unnamed: 0": 10443,
         "clean_tweets": "Two Poles attacked in UK town which saw possible hate killing httpstcofNlZrPkBuJ",
         "prediction": "('en', 0.9240355491638184)",
         "language": "en",
         "confidence": 0.9240355491638184,
         "_deepnote_index_column": 4273
        },
        {
         "Unnamed: 0": 10444,
         "clean_tweets": "Im at Prague Main Railway Station in Praha httpstcokoNHwka",
         "prediction": "('en', 0.6364592909812927)",
         "language": "en",
         "confidence": 0.6364592909812927,
         "_deepnote_index_column": 4274
        },
        {
         "Unnamed: 0": 10445,
         "clean_tweets": "TALES FROM BALTIMORECOMICCON DAY nnWhat an eclectic range of tastes from this fun… httpstcoeLyFVWch…",
         "prediction": "('en', 0.7347042560577393)",
         "language": "en",
         "confidence": 0.7347042560577393,
         "_deepnote_index_column": 4275
        },
        {
         "Unnamed: 0": 10447,
         "clean_tweets": "Parents urged to complete secondary school applications for September  before… httpstcomKkbnzttdp B…",
         "prediction": "('en', 0.733847439289093)",
         "language": "en",
         "confidence": 0.733847439289093,
         "_deepnote_index_column": 4276
        },
        {
         "Unnamed: 0": 10448,
         "clean_tweets": "Im at Sykes httpstcocquhZahJS",
         "prediction": "('en', 0.5541133284568787)",
         "language": "en",
         "confidence": 0.5541133284568787,
         "_deepnote_index_column": 4277
        },
        {
         "Unnamed: 0": 10451,
         "clean_tweets": "Were hiring Click to apply ReturnsRecarton Clerical Position  httpstcofZkcPeHNgG Job SupplyChain Mi…",
         "prediction": "('en', 0.6965083479881287)",
         "language": "en",
         "confidence": 0.6965083479881287,
         "_deepnote_index_column": 4278
        },
        {
         "Unnamed: 0": 10452,
         "clean_tweets": "Day off Come spend it with us as we take on UAV at our home field at  LaborDay GameDay… httpstcoYQS…",
         "prediction": "('en', 0.8972151279449463)",
         "language": "en",
         "confidence": 0.8972151279449463,
         "_deepnote_index_column": 4279
        },
        {
         "Unnamed: 0": 10453,
         "clean_tweets": "Just posted a photo  Bier Markt  St Johns httpstcoUCMcwTmTkb",
         "prediction": "('en', 0.7088297605514526)",
         "language": "en",
         "confidence": 0.7088297605514526,
         "_deepnote_index_column": 4280
        },
        {
         "Unnamed: 0": 10454,
         "clean_tweets": "Im at Warm Wood Café in Vadhana httpstcoXPVvanoU",
         "prediction": "('en', 0.7291531562805176)",
         "language": "en",
         "confidence": 0.7291531562805176,
         "_deepnote_index_column": 4281
        },
        {
         "Unnamed: 0": 10456,
         "clean_tweets": "Were hiring Click to apply Office Manager  httpstconLbXzISzz Job Clerical Tucson AZ Jobs",
         "prediction": "('en', 0.592983603477478)",
         "language": "en",
         "confidence": 0.592983603477478,
         "_deepnote_index_column": 4282
        },
        {
         "Unnamed: 0": 10457,
         "clean_tweets": "Christ is in me I am enough  Elevation Church  University City httpstcoydKZwIheo",
         "prediction": "('en', 0.8491924405097961)",
         "language": "en",
         "confidence": 0.8491924405097961,
         "_deepnote_index_column": 4283
        },
        {
         "Unnamed: 0": 10458,
         "clean_tweets": "Im at Hard Rock Cafe London in Mayfair Greater London httpstcofIXEFHljSj httpstcoQpYJJOViqQ",
         "prediction": "('en', 0.6908482909202576)",
         "language": "en",
         "confidence": 0.6908482909202576,
         "_deepnote_index_column": 4284
        },
        {
         "Unnamed: 0": 10459,
         "clean_tweets": "Can you recommend anyone for this job in WestCarrollton OH httpstcooioFq Retail Hiring CareerArc",
         "prediction": "('en', 0.8819437026977539)",
         "language": "en",
         "confidence": 0.8819437026977539,
         "_deepnote_index_column": 4285
        },
        {
         "Unnamed: 0": 10460,
         "clean_tweets": "Live every day  like is your last day art illustration drawing draw picture photography… httpstcoNs…",
         "prediction": "('en', 0.8838642239570618)",
         "language": "en",
         "confidence": 0.8838642239570618,
         "_deepnote_index_column": 4286
        },
        {
         "Unnamed: 0": 10461,
         "clean_tweets": "Im at Kızılay in Çankaya Ankara httpstcoAQQyKahR",
         "prediction": "('en', 0.7863408923149109)",
         "language": "en",
         "confidence": 0.7863408923149109,
         "_deepnote_index_column": 4287
        },
        {
         "Unnamed: 0": 10462,
         "clean_tweets": "Im at Antalya in Antalya Türkiye httpstcoIaeuorY",
         "prediction": "('en', 0.747382640838623)",
         "language": "en",
         "confidence": 0.747382640838623,
         "_deepnote_index_column": 4288
        },
        {
         "Unnamed: 0": 10464,
         "clean_tweets": " ℃n℃nn sakai   httpstcogqgDsq",
         "prediction": "('en', 0.6685195565223694)",
         "language": "en",
         "confidence": 0.6685195565223694,
         "_deepnote_index_column": 4289
        },
        {
         "Unnamed: 0": 10465,
         "clean_tweets": "Im at Wilmington Library in Wilmington DE httpstcorCDkDaoBk",
         "prediction": "('en', 0.7573989033699036)",
         "language": "en",
         "confidence": 0.7573989033699036,
         "_deepnote_index_column": 4290
        },
        {
         "Unnamed: 0": 10468,
         "clean_tweets": "Join the UPS team See our latest job opening here httpstcoGrgarnZL Transportation Butler PA Hiring …",
         "prediction": "('en', 0.7430574893951416)",
         "language": "en",
         "confidence": 0.7430574893951416,
         "_deepnote_index_column": 4291
        },
        {
         "Unnamed: 0": 10469,
         "clean_tweets": "Todays pick of the day is this elegant mustsee property in Pasadena CA This stunning hilltop… https…",
         "prediction": "('en', 0.7838190197944641)",
         "language": "en",
         "confidence": 0.7838190197944641,
         "_deepnote_index_column": 4292
        },
        {
         "Unnamed: 0": 10471,
         "clean_tweets": "Want to work in Lexington KY View our latest opening httpstcoAtIuRZNtz Job Finance Jobs Hiring http…",
         "prediction": "('en', 0.7080407738685608)",
         "language": "en",
         "confidence": 0.7080407738685608,
         "_deepnote_index_column": 4293
        },
        {
         "Unnamed: 0": 10472,
         "clean_tweets": "  Zurich in Zürich Suisse httpstcoTbKnLNAWBB",
         "prediction": "('en', 0.6758584976196289)",
         "language": "en",
         "confidence": 0.6758584976196289,
         "_deepnote_index_column": 4294
        },
        {
         "Unnamed: 0": 10475,
         "clean_tweets": "This job might be a great fit for you Food Services Assistant  Full Time  httpstcoEQqQjDP FoodServi…",
         "prediction": "('en', 0.8684480786323547)",
         "language": "en",
         "confidence": 0.8684480786323547,
         "_deepnote_index_column": 4295
        },
        {
         "Unnamed: 0": 10478,
         "clean_tweets": "Im at  in Funabashi  httpstcovHJrprXr",
         "prediction": "('en', 0.7258040308952332)",
         "language": "en",
         "confidence": 0.7258040308952332,
         "_deepnote_index_column": 4296
        },
        {
         "Unnamed: 0": 10480,
         "clean_tweets": "This one picture perfectly describes my experience at this school I… httpstcoMOgLSqQBp",
         "prediction": "('en', 0.80570387840271)",
         "language": "en",
         "confidence": 0.80570387840271,
         "_deepnote_index_column": 4297
        },
        {
         "Unnamed: 0": 10481,
         "clean_tweets": "Im at Sinking Spring PA in Sinking Spring PA httpstcoQjOiGjLF",
         "prediction": "('en', 0.7191875576972961)",
         "language": "en",
         "confidence": 0.7191875576972961,
         "_deepnote_index_column": 4298
        },
        {
         "Unnamed: 0": 10482,
         "clean_tweets": "Update Construction on BBus at th Streetth Avenue httpstcoRMdgN",
         "prediction": "('en', 0.7616925835609436)",
         "language": "en",
         "confidence": 0.7616925835609436,
         "_deepnote_index_column": 4299
        },
        {
         "Unnamed: 0": 10483,
         "clean_tweets": "Im at Bus Stop  Aft Sembawang Shopping Centre httpstcoRRQGdIqQH",
         "prediction": "('en', 0.6773942708969116)",
         "language": "en",
         "confidence": 0.6773942708969116,
         "_deepnote_index_column": 4300
        },
        {
         "Unnamed: 0": 10484,
         "clean_tweets": "Chicken Teriyaki Ojyu Sauteed teriyaki chicken and japanese mushrooms on rice  Tokyo… httpstcodzfFS…",
         "prediction": "('en', 0.6539071202278137)",
         "language": "en",
         "confidence": 0.6539071202278137,
         "_deepnote_index_column": 4301
        },
        {
         "Unnamed: 0": 10485,
         "clean_tweets": "My daughter and I at the MagicKingdom the other day AnaWarrior Doitforher fabana… httpstcoDbRbKHqt",
         "prediction": "('en', 0.8759638667106628)",
         "language": "en",
         "confidence": 0.8759638667106628,
         "_deepnote_index_column": 4302
        },
        {
         "Unnamed: 0": 10486,
         "clean_tweets": "You bet Ben was belting louder than any girl in the crowd when I Dont Want to Be played  … httpstco…",
         "prediction": "('en', 0.9866980314254761)",
         "language": "en",
         "confidence": 0.986698031425476,
         "_deepnote_index_column": 4303
        },
        {
         "Unnamed: 0": 10487,
         "clean_tweets": "Im at Wat Phananchoeng in Phra Nakhon Si Ayutthaya httpstcovTKJfNpm",
         "prediction": "('en', 0.5056973695755005)",
         "language": "en",
         "confidence": 0.5056973695755005,
         "_deepnote_index_column": 4304
        },
        {
         "Unnamed: 0": 10488,
         "clean_tweets": "Nemenin big boss motong rambut di big boys barbershop  with Aunk at Big Boyz Barbershop — httpstcoA…",
         "prediction": "('en', 0.8679720759391785)",
         "language": "en",
         "confidence": 0.8679720759391785,
         "_deepnote_index_column": 4305
        },
        {
         "Unnamed: 0": 10490,
         "clean_tweets": "One of my hobby  Ma Hood httpstcoSHJDDWQQB",
         "prediction": "('en', 0.6685195565223694)",
         "language": "en",
         "confidence": 0.6685195565223694,
         "_deepnote_index_column": 4306
        },
        {
         "Unnamed: 0": 10492,
         "clean_tweets": "Another Cardigan Records Hopscotch Day Party in the books  Thanks to all that came out all who… htt…",
         "prediction": "('en', 0.920673131942749)",
         "language": "en",
         "confidence": 0.920673131942749,
         "_deepnote_index_column": 4307
        },
        {
         "Unnamed: 0": 10493,
         "clean_tweets": "Im at Hempstead Hair World in Elmont NY httpstcohVYgHZyEHc",
         "prediction": "('en', 0.5241799354553223)",
         "language": "en",
         "confidence": 0.5241799354553223,
         "_deepnote_index_column": 4308
        },
        {
         "Unnamed: 0": 10494,
         "clean_tweets": "Bachelorette   Laurita Winery httpstcoBsIIFmdGz",
         "prediction": "('en', 0.6609522104263306)",
         "language": "en",
         "confidence": 0.6609522104263306,
         "_deepnote_index_column": 4309
        },
        {
         "Unnamed: 0": 10496,
         "clean_tweets": "This job might be a great fit for you Sr Information Architect Supervisor  httpstcollJlFiHz Alphare…",
         "prediction": "('en', 0.6981475949287415)",
         "language": "en",
         "confidence": 0.6981475949287415,
         "_deepnote_index_column": 4310
        },
        {
         "Unnamed: 0": 10497,
         "clean_tweets": "Im at PiazzaAvym in Canik Samsun w mertarmann debeabcbce tanrioveri httpstcogxKOUJp",
         "prediction": "('en', 0.6175498366355896)",
         "language": "en",
         "confidence": 0.6175498366355896,
         "_deepnote_index_column": 4311
        }
       ]
      },
      "text/plain": "      Unnamed: 0                                       clean_tweets  \\\n0              3  I felt my first flash of violence at some fool...   \n1              4                 Ladies drink and get in free till    \n2              7    Watching Miranda On bbc mermhart u r HILARIOUS    \n3              9                      Shopping  Kohls httptcoIZkQHT   \n4             16  Dennycrowe all over twitter because you and yo...   \n...          ...                                                ...   \n4307       10492  Another Cardigan Records Hopscotch Day Party i...   \n4308       10493  Im at Hempstead Hair World in Elmont NY httpst...   \n4309       10494    Bachelorette   Laurita Winery httpstcoBsIIFmdGz   \n4310       10496  This job might be a great fit for you Sr Infor...   \n4311       10497  Im at PiazzaAvym in Canik Samsun w mertarmann ...   \n\n                      prediction language  confidence  \n0     ('en', 0.9772645831108093)       en    0.977265  \n1     ('en', 0.6527988910675049)       en    0.652799  \n2     ('en', 0.5819909572601318)       en    0.581991  \n3     ('en', 0.5320528745651245)       en    0.532053  \n4      ('en', 0.768022358417511)       en    0.768022  \n...                          ...      ...         ...  \n4307   ('en', 0.920673131942749)       en    0.920673  \n4308  ('en', 0.5241799354553223)       en    0.524180  \n4309  ('en', 0.6609522104263306)       en    0.660952  \n4310  ('en', 0.6981475949287415)       en    0.698148  \n4311  ('en', 0.6175498366355896)       en    0.617550  \n\n[4312 rows x 5 columns]",
      "text/html": "<div>\n<style scoped>\n    .dataframe tbody tr th:only-of-type {\n        vertical-align: middle;\n    }\n\n    .dataframe tbody tr th {\n        vertical-align: top;\n    }\n\n    .dataframe thead th {\n        text-align: right;\n    }\n</style>\n<table border=\"1\" class=\"dataframe\">\n  <thead>\n    <tr style=\"text-align: right;\">\n      <th></th>\n      <th>Unnamed: 0</th>\n      <th>clean_tweets</th>\n      <th>prediction</th>\n      <th>language</th>\n      <th>confidence</th>\n    </tr>\n  </thead>\n  <tbody>\n    <tr>\n      <th>0</th>\n      <td>3</td>\n      <td>I felt my first flash of violence at some fool...</td>\n      <td>('en', 0.9772645831108093)</td>\n      <td>en</td>\n      <td>0.977265</td>\n    </tr>\n    <tr>\n      <th>1</th>\n      <td>4</td>\n      <td>Ladies drink and get in free till</td>\n      <td>('en', 0.6527988910675049)</td>\n      <td>en</td>\n      <td>0.652799</td>\n    </tr>\n    <tr>\n      <th>2</th>\n      <td>7</td>\n      <td>Watching Miranda On bbc mermhart u r HILARIOUS</td>\n      <td>('en', 0.5819909572601318)</td>\n      <td>en</td>\n      <td>0.581991</td>\n    </tr>\n    <tr>\n      <th>3</th>\n      <td>9</td>\n      <td>Shopping  Kohls httptcoIZkQHT</td>\n      <td>('en', 0.5320528745651245)</td>\n      <td>en</td>\n      <td>0.532053</td>\n    </tr>\n    <tr>\n      <th>4</th>\n      <td>16</td>\n      <td>Dennycrowe all over twitter because you and yo...</td>\n      <td>('en', 0.768022358417511)</td>\n      <td>en</td>\n      <td>0.768022</td>\n    </tr>\n    <tr>\n      <th>...</th>\n      <td>...</td>\n      <td>...</td>\n      <td>...</td>\n      <td>...</td>\n      <td>...</td>\n    </tr>\n    <tr>\n      <th>4307</th>\n      <td>10492</td>\n      <td>Another Cardigan Records Hopscotch Day Party i...</td>\n      <td>('en', 0.920673131942749)</td>\n      <td>en</td>\n      <td>0.920673</td>\n    </tr>\n    <tr>\n      <th>4308</th>\n      <td>10493</td>\n      <td>Im at Hempstead Hair World in Elmont NY httpst...</td>\n      <td>('en', 0.5241799354553223)</td>\n      <td>en</td>\n      <td>0.524180</td>\n    </tr>\n    <tr>\n      <th>4309</th>\n      <td>10494</td>\n      <td>Bachelorette   Laurita Winery httpstcoBsIIFmdGz</td>\n      <td>('en', 0.6609522104263306)</td>\n      <td>en</td>\n      <td>0.660952</td>\n    </tr>\n    <tr>\n      <th>4310</th>\n      <td>10496</td>\n      <td>This job might be a great fit for you Sr Infor...</td>\n      <td>('en', 0.6981475949287415)</td>\n      <td>en</td>\n      <td>0.698148</td>\n    </tr>\n    <tr>\n      <th>4311</th>\n      <td>10497</td>\n      <td>Im at PiazzaAvym in Canik Samsun w mertarmann ...</td>\n      <td>('en', 0.6175498366355896)</td>\n      <td>en</td>\n      <td>0.617550</td>\n    </tr>\n  </tbody>\n</table>\n<p>4312 rows × 5 columns</p>\n</div>"
     },
     "metadata": {}
    }
   ],
   "execution_count": 3
  },
  {
   "cell_type": "markdown",
   "source": "Since we just want the `clean_tweets` we can just omit other columns.",
   "metadata": {
    "cell_id": "00005-a30a35ea-0909-41f0-bd38-b07ef9b32e84",
    "deepnote_cell_type": "markdown"
   }
  },
  {
   "cell_type": "code",
   "metadata": {
    "scrolled": true,
    "cell_id": "00006-12419b4a-20c2-425b-afa6-1e5a7ea7d31c",
    "deepnote_to_be_reexecuted": false,
    "source_hash": "795b0fc6",
    "execution_start": 1633378628264,
    "execution_millis": 156,
    "deepnote_cell_type": "code"
   },
   "source": "df_eng_clean_tweets = df_eng[['clean_tweets']]\ndf_eng_clean_tweets",
   "outputs": [
    {
     "output_type": "execute_result",
     "execution_count": 4,
     "data": {
      "application/vnd.deepnote.dataframe.v2+json": {
       "row_count": 4312,
       "column_count": 1,
       "columns": [
        {
         "name": "clean_tweets",
         "dtype": "object",
         "stats": {
          "unique_count": 4312,
          "nan_count": 0,
          "categories": [
           {
            "name": "I felt my first flash of violence at some fool who bumped into me I pity the fool",
            "count": 1
           },
           {
            "name": "Ladies drink and get in free till ",
            "count": 1
           },
           {
            "name": "4310 others",
            "count": 4310
           }
          ]
         }
        },
        {
         "name": "_deepnote_index_column",
         "dtype": "int64"
        }
       ],
       "rows_top": [
        {
         "clean_tweets": "I felt my first flash of violence at some fool who bumped into me I pity the fool",
         "_deepnote_index_column": 0
        },
        {
         "clean_tweets": "Ladies drink and get in free till ",
         "_deepnote_index_column": 1
        },
        {
         "clean_tweets": "Watching Miranda On bbc mermhart u r HILARIOUS ",
         "_deepnote_index_column": 2
        },
        {
         "clean_tweets": "Shopping  Kohls httptcoIZkQHT",
         "_deepnote_index_column": 3
        },
        {
         "clean_tweets": "Dennycrowe all over twitter because you and your friends cant stick up for yourselves",
         "_deepnote_index_column": 4
        },
        {
         "clean_tweets": "The way you treat me The way you accept me and love me How much you care about me Thats what makes …",
         "_deepnote_index_column": 5
        },
        {
         "clean_tweets": "I just wanna get pulled on the sled by the four wheeler again goodshit",
         "_deepnote_index_column": 6
        },
        {
         "clean_tweets": "Oh theres that fake door slam noise  ugh CBB",
         "_deepnote_index_column": 7
        },
        {
         "clean_tweets": "Taybaybay cool Wanna see when u get it",
         "_deepnote_index_column": 8
        },
        {
         "clean_tweets": "delwebb hahaa I never get told to be a post  But Ill most likely guard yaaaa",
         "_deepnote_index_column": 9
        },
        {
         "clean_tweets": "Opucar timallen Im in Tennessee Only bears and mountain lions round these parts",
         "_deepnote_index_column": 10
        },
        {
         "clean_tweets": "Cant do right without doing wrong first",
         "_deepnote_index_column": 11
        },
        {
         "clean_tweets": "FlaccidDaddy and goodluck on that young occupation",
         "_deepnote_index_column": 12
        },
        {
         "clean_tweets": "kiapegg ahh okay how old ate you I am ",
         "_deepnote_index_column": 13
        },
        {
         "clean_tweets": "Rain bitches but get my dick on with  at least  chicks at York these hoes are easy game dont change…",
         "_deepnote_index_column": 14
        },
        {
         "clean_tweets": "SexSurvey  If you were a stripper what would your name be Trixie or Tricktina as a girl  as a boy m…",
         "_deepnote_index_column": 15
        },
        {
         "clean_tweets": "RT“iLeexi I feel shittttttty I cant even get off my bed No srsly I feel rlly sick and shitty”",
         "_deepnote_index_column": 16
        },
        {
         "clean_tweets": "adampoulos TyreceSpeaight even me Are you at the party",
         "_deepnote_index_column": 17
        },
        {
         "clean_tweets": "Drinking a Mamas Little Yella Pils by oskarblues  Thunderdome — httptcoVEwnxn",
         "_deepnote_index_column": 18
        },
        {
         "clean_tweets": " PM  Harrahs Las Vegas  NL Holdem Poker Tournament w  Bounties HarrahsVegas httptcofmxWZT",
         "_deepnote_index_column": 19
        },
        {
         "clean_tweets": "Fifi gatal Takk abes nk double meaning Iyewwww",
         "_deepnote_index_column": 20
        },
        {
         "clean_tweets": "And my grades are top notch ",
         "_deepnote_index_column": 21
        },
        {
         "clean_tweets": "Yeah fuck saqouit fans i aint scared",
         "_deepnote_index_column": 22
        },
        {
         "clean_tweets": "geegrapes Its all about being real and true to yourself The opposite of real is fake",
         "_deepnote_index_column": 23
        },
        {
         "clean_tweets": "Whistle baby",
         "_deepnote_index_column": 24
        },
        {
         "clean_tweets": " Joos DLP ThroughFeed Hot Veneer Press Please feel free to make an offer All offers will be conside…",
         "_deepnote_index_column": 25
        },
        {
         "clean_tweets": "Seriously I feel Betrayed",
         "_deepnote_index_column": 26
        },
        {
         "clean_tweets": "BigJoe I plugged it in the computer so no",
         "_deepnote_index_column": 27
        },
        {
         "clean_tweets": "FucKUPayyMee Lawwdd it feel like somebody just punchin me in my cat Lmaoo see nasty asz",
         "_deepnote_index_column": 28
        },
        {
         "clean_tweets": "ronaldtoswoll lmfaooo thats a girl store",
         "_deepnote_index_column": 29
        },
        {
         "clean_tweets": "My ears once again hurt so much",
         "_deepnote_index_column": 30
        },
        {
         "clean_tweets": "Safe to say I teared up more than I do in the average year in one night at Les Mis musicgotmegoing …",
         "_deepnote_index_column": 31
        },
        {
         "clean_tweets": "Jinki do you know that she has passed on",
         "_deepnote_index_column": 32
        },
        {
         "clean_tweets": "Damn your ex is a cry baby He dont wanna talk to me",
         "_deepnote_index_column": 33
        },
        {
         "clean_tweets": "AndyMolitor she will be devastated",
         "_deepnote_index_column": 34
        },
        {
         "clean_tweets": "LukeMalvern ahwwww Lukey your profile picture is so adorable",
         "_deepnote_index_column": 35
        },
        {
         "clean_tweets": "My baby Is completely frozen no way I can drive this shit no time soon httptcofBvytx",
         "_deepnote_index_column": 36
        },
        {
         "clean_tweets": "MarcAnthony nallelyyj Well instead of scaring her you scared me",
         "_deepnote_index_column": 37
        },
        {
         "clean_tweets": "Everything I dont want to happen is happening Smh I hate my life right now ",
         "_deepnote_index_column": 38
        },
        {
         "clean_tweets": "Its funny because in every situation we go threw your aloud to tell ur best friend but I cant tooba…",
         "_deepnote_index_column": 39
        },
        {
         "clean_tweets": "I am not a godly person or a religious one for that matter Mostly because Im logical and I grew out…",
         "_deepnote_index_column": 40
        },
        {
         "clean_tweets": "Ughh HeavyHitterz needs to hurry the hell up and get outta work",
         "_deepnote_index_column": 41
        },
        {
         "clean_tweets": "SheeRatchettt Amen",
         "_deepnote_index_column": 42
        },
        {
         "clean_tweets": "ChineseJasminee okay good  Please come  And no I dont talk to her nor joselin  Yes  Saturday Sunday…",
         "_deepnote_index_column": 43
        },
        {
         "clean_tweets": "parcelgoHelp sadly this BOSE DOCKING STATION has not arrived and I am most annoyed I want this item…",
         "_deepnote_index_column": 44
        },
        {
         "clean_tweets": "Catfish need some hood ppl though That would be funny",
         "_deepnote_index_column": 45
        },
        {
         "clean_tweets": "Finally bedtime Goood freaking niighhtt",
         "_deepnote_index_column": 46
        },
        {
         "clean_tweets": "EdDJGex i did the bpm because i mix quickly so i can pitch them up for quick inmixing",
         "_deepnote_index_column": 47
        },
        {
         "clean_tweets": "Aww how cute is that  you can text every other fucker in this world but not me Shocking",
         "_deepnote_index_column": 48
        },
        {
         "clean_tweets": "kristacipriani sleep is for the weak  week",
         "_deepnote_index_column": 49
        },
        {
         "clean_tweets": "I wish you would just text me this once",
         "_deepnote_index_column": 50
        },
        {
         "clean_tweets": "Bought Al Fakher Orange  Grape and Vanilla Its gonna be Vanilla Twilight",
         "_deepnote_index_column": 51
        },
        {
         "clean_tweets": "just set my alarm for the first time in weeks morningstruggle ⏰",
         "_deepnote_index_column": 52
        },
        {
         "clean_tweets": "Baltimore is going CRAZY  The celebration has just begun ",
         "_deepnote_index_column": 53
        },
        {
         "clean_tweets": "i got my days amp nights mixed up like ima newborn or sum sht ",
         "_deepnote_index_column": 54
        },
        {
         "clean_tweets": "Bugis like got a lot of nice clothes ah",
         "_deepnote_index_column": 55
        },
        {
         "clean_tweets": "skatherine its okay lt",
         "_deepnote_index_column": 56
        },
        {
         "clean_tweets": "pinchedandan Im calling u a bitch dummy",
         "_deepnote_index_column": 57
        },
        {
         "clean_tweets": "Broph why was I the last to know Haha",
         "_deepnote_index_column": 58
        },
        {
         "clean_tweets": "BamBamBeast NeilChallis not the rd ",
         "_deepnote_index_column": 59
        },
        {
         "clean_tweets": "Dear BMSNard is by far the best bit on the BMSOnTheAir killinit",
         "_deepnote_index_column": 60
        },
        {
         "clean_tweets": "After these exams Im definitly gonna have to get together with friends whatmakesthedaybetter",
         "_deepnote_index_column": 61
        },
        {
         "clean_tweets": "Dense Fog Advisory issued January  at PM CST until January  at AM CST by NWS Lake Charles httptcoRb…",
         "_deepnote_index_column": 62
        },
        {
         "clean_tweets": "WOLFwinningWOLF alottttttttt",
         "_deepnote_index_column": 63
        },
        {
         "clean_tweets": "Everything makes more sense on a legal pad",
         "_deepnote_index_column": 64
        },
        {
         "clean_tweets": "I didnt stop loving you I just stopped showing it Inspired by echiprutt wakakak",
         "_deepnote_index_column": 65
        },
        {
         "clean_tweets": "Time to do work gtgtgtgtgt",
         "_deepnote_index_column": 66
        },
        {
         "clean_tweets": "thxyuuu jepa zevansca Oke syg pasti ˘ʃƪ˘ rindySW zevansca yaa gpp jepa doain cepet taken yaaa",
         "_deepnote_index_column": 67
        },
        {
         "clean_tweets": " “ForTheFame How some of you gays take pics wit yall fingers in yall asses amp then post them on th…",
         "_deepnote_index_column": 68
        },
        {
         "clean_tweets": "After all the dancehall artists I still get mad ova Busy Signal",
         "_deepnote_index_column": 69
        },
        {
         "clean_tweets": "DanReader I chose DRTammunition Its safe enough to do a mag dump at contact distance on steel amp h…",
         "_deepnote_index_column": 70
        },
        {
         "clean_tweets": "WaysToGetSlapped fuckin with my nigga",
         "_deepnote_index_column": 71
        },
        {
         "clean_tweets": "We rang  and they told us to go away Rude that",
         "_deepnote_index_column": 72
        },
        {
         "clean_tweets": "I just wanna sleep all day tomorrow",
         "_deepnote_index_column": 73
        },
        {
         "clean_tweets": "AmVolunteer porque",
         "_deepnote_index_column": 74
        },
        {
         "clean_tweets": "Its not even like she tryin tk hide I see ur name",
         "_deepnote_index_column": 75
        },
        {
         "clean_tweets": "Ciaraannbarry hha where did ya meet this gay fella ",
         "_deepnote_index_column": 76
        },
        {
         "clean_tweets": "You never miss something tilours gone",
         "_deepnote_index_column": 77
        },
        {
         "clean_tweets": "JLIsley well two of my friends are on the way right now So thats random again u picked Dallas Lol S…",
         "_deepnote_index_column": 78
        },
        {
         "clean_tweets": "But I love AshleyKirwanMBE more Better than David at footy too",
         "_deepnote_index_column": 79
        },
        {
         "clean_tweets": "Today I tripped and Im  sure a fuck ton of people driving on Johnston saw it My dayltltlt",
         "_deepnote_index_column": 80
        },
        {
         "clean_tweets": "BisforBooYah showin no mercy",
         "_deepnote_index_column": 81
        },
        {
         "clean_tweets": "KREAYSHAWN you have the most perf voice ever",
         "_deepnote_index_column": 82
        },
        {
         "clean_tweets": "All day I thought it was weird Wednesday letdown",
         "_deepnote_index_column": 83
        },
        {
         "clean_tweets": "kahnman not even cool hes seriously hurt",
         "_deepnote_index_column": 84
        },
        {
         "clean_tweets": "   Jimmuji Sta KK httptcotqDVFG",
         "_deepnote_index_column": 85
        },
        {
         "clean_tweets": "sloanetweets asksloane favorite for the superbowl and what team do you support",
         "_deepnote_index_column": 86
        },
        {
         "clean_tweets": "Time is a thing not to waste",
         "_deepnote_index_column": 87
        },
        {
         "clean_tweets": "Lakers win tip off",
         "_deepnote_index_column": 88
        },
        {
         "clean_tweets": "I gotta stop talking and just do it Talk is cheap",
         "_deepnote_index_column": 89
        },
        {
         "clean_tweets": "emilysarahjohn Hahaha so awks but so funny",
         "_deepnote_index_column": 90
        },
        {
         "clean_tweets": "Listening to EDC recaps cant wait for EDCNY  at Citi Field insomniacevents",
         "_deepnote_index_column": 91
        },
        {
         "clean_tweets": "I turned up currently httptcolcsVaSs",
         "_deepnote_index_column": 92
        },
        {
         "clean_tweets": "This heart is on fire",
         "_deepnote_index_column": 93
        },
        {
         "clean_tweets": "Oh brill so now my bumpers hanging off might as well just leave it falls off completely",
         "_deepnote_index_column": 94
        },
        {
         "clean_tweets": "I miss that time when you text me and said iman tolong aku it surprised me  XD im really miss that …",
         "_deepnote_index_column": 95
        },
        {
         "clean_tweets": "And I say hey ey ey ey ey hey ey ey I said hey whats going on",
         "_deepnote_index_column": 96
        },
        {
         "clean_tweets": "How are you mixed and have an inch of nappy hair on yo head tho youre mixed alright  with Black  Bl…",
         "_deepnote_index_column": 97
        },
        {
         "clean_tweets": "Those flautas were good D",
         "_deepnote_index_column": 98
        },
        {
         "clean_tweets": "I really want to study abroad in Israel",
         "_deepnote_index_column": 99
        },
        {
         "clean_tweets": "I need a blunt",
         "_deepnote_index_column": 100
        },
        {
         "clean_tweets": "me and makarah got matching underwear again  nbestfriendprobs",
         "_deepnote_index_column": 101
        },
        {
         "clean_tweets": "Wooo Bye malaysia ",
         "_deepnote_index_column": 102
        },
        {
         "clean_tweets": "I was so productive this weekend I think I should get this week off ",
         "_deepnote_index_column": 103
        },
        {
         "clean_tweets": "ChefKarlMace Ive been spun all day",
         "_deepnote_index_column": 104
        },
        {
         "clean_tweets": "Im at Bistro Kafe Tekirdağ Türkiye w  others httptcoToaUaXHg",
         "_deepnote_index_column": 105
        },
        {
         "clean_tweets": "I would love to know why everybody hates everybody  makes no sense to me sometimes",
         "_deepnote_index_column": 106
        },
        {
         "clean_tweets": "Thursday gonna be the busiest",
         "_deepnote_index_column": 107
        },
        {
         "clean_tweets": "tsnotoole Danny boy when is NHL trade deadline this year",
         "_deepnote_index_column": 108
        },
        {
         "clean_tweets": "I just became the mayor of Сканира on foursquare httptcomOmFZGy",
         "_deepnote_index_column": 109
        },
        {
         "clean_tweets": "Every single day I think about how we came all this way the sleepless nights and the tears you crie…",
         "_deepnote_index_column": 110
        },
        {
         "clean_tweets": "This girl is so bad",
         "_deepnote_index_column": 111
        },
        {
         "clean_tweets": "Coffee time at SbuxIndonesia pic — httptcoenNvaNDa",
         "_deepnote_index_column": 112
        },
        {
         "clean_tweets": "“lauracharlotte tbt happy birthday jadelouiselucas  httptcodAAFCKV” you amp BRCarter look buzzed ab…",
         "_deepnote_index_column": 113
        },
        {
         "clean_tweets": "Thats iite my ma bout to give me some  anyway lol",
         "_deepnote_index_column": 114
        },
        {
         "clean_tweets": "what do i stand for most nights i dont know anymore",
         "_deepnote_index_column": 115
        },
        {
         "clean_tweets": "torquespeak just read that you have landed a new job Congratulations",
         "_deepnote_index_column": 116
        },
        {
         "clean_tweets": "CaramelCandy HerbInhaler lmaooo damnits ok nothing good has came out anyway your not missing out lol",
         "_deepnote_index_column": 117
        },
        {
         "clean_tweets": "ClaireKeeegans hahahaha boys night in slut dropping and getting mwi sostraight",
         "_deepnote_index_column": 118
        },
        {
         "clean_tweets": "blackMamba wait You told your mum Ohmygod Wait You show her my picture Whats wrong with you Hahahaha",
         "_deepnote_index_column": 119
        },
        {
         "clean_tweets": "Tottenham  Bale FavoritePlayerFromEachPremierLeagueTeam",
         "_deepnote_index_column": 120
        },
        {
         "clean_tweets": "With RVP and Rooney and Danny and Chicha I smell another treble in the making ForeverUnited",
         "_deepnote_index_column": 121
        },
        {
         "clean_tweets": "Cavs suite and dinner with my favorites  cantwait",
         "_deepnote_index_column": 122
        },
        {
         "clean_tweets": "ampamp She just had to come bring me all this work",
         "_deepnote_index_column": 123
        },
        {
         "clean_tweets": "“AllisonStreng can this day get any fucking worse honestlynnnHONESTLY”",
         "_deepnote_index_column": 124
        },
        {
         "clean_tweets": "Shouldnt get sunbeds me httptcofgRUpga",
         "_deepnote_index_column": 125
        },
        {
         "clean_tweets": "Im at Childrens Pediatric Center Canton GA httptconZVOuyD",
         "_deepnote_index_column": 126
        },
        {
         "clean_tweets": "Askfm is pointless and stupid",
         "_deepnote_index_column": 127
        },
        {
         "clean_tweets": "Hey AlexButelli httptcoMGLAAE",
         "_deepnote_index_column": 128
        },
        {
         "clean_tweets": "JaimeNicolish esmegracexo  agreed It was amazing",
         "_deepnote_index_column": 129
        },
        {
         "clean_tweets": "Netflix until I fall asleep have an early day tomorrow",
         "_deepnote_index_column": 130
        },
        {
         "clean_tweets": "asteazy haha then i got bitched at ",
         "_deepnote_index_column": 131
        },
        {
         "clean_tweets": "chelseajewell MagicCJohnson You should probably just go back to bed hotmessexpress Amen to that wis…",
         "_deepnote_index_column": 132
        },
        {
         "clean_tweets": "EdaKiDD word ill call you tomorrow",
         "_deepnote_index_column": 133
        },
        {
         "clean_tweets": "alicialynnMEOW I would never Haha",
         "_deepnote_index_column": 134
        },
        {
         "clean_tweets": "JETSjetsFAN no its not",
         "_deepnote_index_column": 135
        },
        {
         "clean_tweets": "Perdidamenteeeeee",
         "_deepnote_index_column": 136
        },
        {
         "clean_tweets": "JefferyDean what are you getting next",
         "_deepnote_index_column": 137
        },
        {
         "clean_tweets": "Nitta I do doe u live in Willingboro next to that one house wit the grass and the roof and shit yeh…",
         "_deepnote_index_column": 138
        },
        {
         "clean_tweets": "Moving furniture and getting ready for a choir photo shoot  James F Dicke College of Business Admin…",
         "_deepnote_index_column": 139
        },
        {
         "clean_tweets": "Yeahhhh we went out last night one thing started leading to another",
         "_deepnote_index_column": 140
        },
        {
         "clean_tweets": "valforg everytime",
         "_deepnote_index_column": 141
        },
        {
         "clean_tweets": "I want you in my room  Lets spend the night together  I Wanna be with you I want you in my room",
         "_deepnote_index_column": 142
        },
        {
         "clean_tweets": "nagatocitybus n",
         "_deepnote_index_column": 143
        },
        {
         "clean_tweets": "Whelp bouta head on to work ",
         "_deepnote_index_column": 144
        },
        {
         "clean_tweets": "weldonmagners your more special than I first thought haha",
         "_deepnote_index_column": 145
        },
        {
         "clean_tweets": "Only thing we got on is the radio",
         "_deepnote_index_column": 146
        },
        {
         "clean_tweets": "acolherdoliam this ",
         "_deepnote_index_column": 147
        },
        {
         "clean_tweets": "mentionsomeoneyoucantrust cadestratt only in LA sometimes",
         "_deepnote_index_column": 148
        },
        {
         "clean_tweets": "Love is pain and pain is Love ",
         "_deepnote_index_column": 149
        },
        {
         "clean_tweets": "I just ousted markook as the mayor of Taksi Oulu on foursquare httptcoHJKVClwfu",
         "_deepnote_index_column": 150
        },
        {
         "clean_tweets": "  Jimmys Food amp Drink w  others httptcoGFxVFmob",
         "_deepnote_index_column": 151
        },
        {
         "clean_tweets": "You are beautiful dont let no one tell you different",
         "_deepnote_index_column": 152
        },
        {
         "clean_tweets": "lovelaceinjuly Ill sell you my Pentax if I can get it fixed I just had to order a new mm",
         "_deepnote_index_column": 153
        },
        {
         "clean_tweets": "DanMarchbank technically he is really bad lol just think £m could of been spent more wisely Need a …",
         "_deepnote_index_column": 154
        },
        {
         "clean_tweets": "ThaReaLgreeKid youngwill most likely",
         "_deepnote_index_column": 155
        },
        {
         "clean_tweets": "Wind gods are angry again",
         "_deepnote_index_column": 156
        },
        {
         "clean_tweets": "Im staying in a lot this week",
         "_deepnote_index_column": 157
        },
        {
         "clean_tweets": "KyWaller do you hate it too I cant stand it",
         "_deepnote_index_column": 158
        },
        {
         "clean_tweets": "Cracker barrel then its back to Ft Hell",
         "_deepnote_index_column": 159
        },
        {
         "clean_tweets": "No school but still no more snow D",
         "_deepnote_index_column": 160
        },
        {
         "clean_tweets": "“chelseanewfield Some people are just gimpslaughable” sorry",
         "_deepnote_index_column": 161
        },
        {
         "clean_tweets": "Sometimes its not what you say its how you say it  The Towers httptcofYfAQCdzbE",
         "_deepnote_index_column": 162
        },
        {
         "clean_tweets": "A few people said that my belly had reduced in size bestcarryon gym tour",
         "_deepnote_index_column": 163
        },
        {
         "clean_tweets": "ValleeBoo really  Haha",
         "_deepnote_index_column": 164
        },
        {
         "clean_tweets": "colling I could say so many shitty things about you but I wont because Im better than that",
         "_deepnote_index_column": 165
        },
        {
         "clean_tweets": "There was a fight in my class today lmaoooo turn up",
         "_deepnote_index_column": 166
        },
        {
         "clean_tweets": "Ahhh Love and Basketball is on  nightismade lovethismovie yayy",
         "_deepnote_index_column": 167
        },
        {
         "clean_tweets": "Rage against the machine are on the see live before I die list",
         "_deepnote_index_column": 168
        },
        {
         "clean_tweets": "MHRoe he followed me",
         "_deepnote_index_column": 169
        },
        {
         "clean_tweets": "Im so excited for the game tomorrow I cant sleep AthleteProbs",
         "_deepnote_index_column": 170
        },
        {
         "clean_tweets": "thatgirlchann NF",
         "_deepnote_index_column": 171
        },
        {
         "clean_tweets": "For glubberts TED TEDActive dataviz Senior Project Best wishes Glen   TEDActive  httptcoBTlqxWQk",
         "_deepnote_index_column": 172
        },
        {
         "clean_tweets": "Biggest Fans of UKwon ",
         "_deepnote_index_column": 173
        },
        {
         "clean_tweets": "Keep me close  keep me closeeee Keep me head above water",
         "_deepnote_index_column": 174
        },
        {
         "clean_tweets": "change ",
         "_deepnote_index_column": 175
        },
        {
         "clean_tweets": "Waiting to head to the resort  Disneys Magical Express Depot pic httptcoAExOHWf",
         "_deepnote_index_column": 176
        },
        {
         "clean_tweets": "markwhite well shit that was fast Glad you made it safe",
         "_deepnote_index_column": 177
        },
        {
         "clean_tweets": "Im at     w  others httptcommXCrJBIlE",
         "_deepnote_index_column": 178
        },
        {
         "clean_tweets": "damarisobiri jeremychuks cygnenoire nathanobiri yea Pearl is ready I believe but no please I feel s…",
         "_deepnote_index_column": 179
        },
        {
         "clean_tweets": "Pandoras being good today ",
         "_deepnote_index_column": 180
        },
        {
         "clean_tweets": "MVC Unknown Injury  S RIVERSIDE AVEE TH ST MF  Units    Time  ",
         "_deepnote_index_column": 181
        },
        {
         "clean_tweets": "jmathews she looks retarded",
         "_deepnote_index_column": 182
        },
        {
         "clean_tweets": "Doing MsAbads homework I will forever dislike that woman with all my heart I cant say hate I dont h…",
         "_deepnote_index_column": 183
        },
        {
         "clean_tweets": "Havent eaten URGHHHHHH",
         "_deepnote_index_column": 184
        },
        {
         "clean_tweets": "do things the way GOD intended in the first place then you wont have to worry about shortcuts",
         "_deepnote_index_column": 185
        },
        {
         "clean_tweets": "The day I wear a short sleeve its freezing FuckMyLife",
         "_deepnote_index_column": 186
        },
        {
         "clean_tweets": "i love coming out of the shower smelling of strawberries ",
         "_deepnote_index_column": 187
        },
        {
         "clean_tweets": "Im at Disney Technology Solutions amp Services Seattle WA httptcoBhiqCesF",
         "_deepnote_index_column": 188
        },
        {
         "clean_tweets": "jebaby my friendje i know ppl lol i was gonna do it today but i dk i know what mami was gonna say",
         "_deepnote_index_column": 189
        },
        {
         "clean_tweets": "Mcgee yay okay and how are you getting there",
         "_deepnote_index_column": 190
        },
        {
         "clean_tweets": "CeeSandra  never want to FaceTime me",
         "_deepnote_index_column": 191
        },
        {
         "clean_tweets": "That had to hurt",
         "_deepnote_index_column": 192
        },
        {
         "clean_tweets": "ªƿāӑ beeunyilrmdhni ",
         "_deepnote_index_column": 193
        },
        {
         "clean_tweets": "Not talking to him no more",
         "_deepnote_index_column": 194
        },
        {
         "clean_tweets": "NDTurf thanks for your kind words Tim   I hope our paths continue to cross  Have a great week",
         "_deepnote_index_column": 195
        },
        {
         "clean_tweets": "wesharper most definitely",
         "_deepnote_index_column": 196
        },
        {
         "clean_tweets": "Ill give you a polite handshake if you do",
         "_deepnote_index_column": 197
        },
        {
         "clean_tweets": "Dont want to deal with it",
         "_deepnote_index_column": 198
        },
        {
         "clean_tweets": "I wonder what my life would be like if I never met my bestfriend",
         "_deepnote_index_column": 199
        },
        {
         "clean_tweets": "Happenpappen  YamYam w  others httptcoSSyHKDpGw",
         "_deepnote_index_column": 200
        },
        {
         "clean_tweets": "keiralouisexx simranbassra mate he mentioned my name in famous",
         "_deepnote_index_column": 201
        },
        {
         "clean_tweets": "“justinbieber u just gotta smile sometimes”",
         "_deepnote_index_column": 202
        },
        {
         "clean_tweets": "Actually an unbelievably impressive dj and performer vinnyvibe httptcoQWOWcbIp",
         "_deepnote_index_column": 203
        },
        {
         "clean_tweets": "These late night cravings make me wonder if I may be pregnant after all",
         "_deepnote_index_column": 204
        },
        {
         "clean_tweets": "I was such a happy person in Taiwan Excluding the terrible pms days I wanna go back every winter an…",
         "_deepnote_index_column": 205
        },
        {
         "clean_tweets": "YOanthony naw she knows Im not like that lol",
         "_deepnote_index_column": 206
        },
        {
         "clean_tweets": "KoryArch please follow me  ",
         "_deepnote_index_column": 207
        },
        {
         "clean_tweets": "Im at Bulvar AVM Samsun Türkiye w  others httptcouWknOZRoNA",
         "_deepnote_index_column": 208
        },
        {
         "clean_tweets": "Packing equals lame ncanihaveamaid please",
         "_deepnote_index_column": 209
        },
        {
         "clean_tweets": "Cant wait to trade her in thou Black on black all blacked out my next car",
         "_deepnote_index_column": 210
        },
        {
         "clean_tweets": "Agiels day  with rezaoloy edrianeri and  others at Solos Bistro pic — httptcoETnLGTcYet",
         "_deepnote_index_column": 211
        },
        {
         "clean_tweets": "aaronware thanks I have Android now but not too many paid apps",
         "_deepnote_index_column": 212
        },
        {
         "clean_tweets": "In such a shitty mood ",
         "_deepnote_index_column": 213
        },
        {
         "clean_tweets": "Springsteen is such a happy song it always makes me feel better lol",
         "_deepnote_index_column": 214
        },
        {
         "clean_tweets": "MrTrellTate Get cho Ol Broke foot having ass outta here lol",
         "_deepnote_index_column": 215
        },
        {
         "clean_tweets": "Dennis rodman is  letters away from being penis rodman ok the bus is here peace",
         "_deepnote_index_column": 216
        },
        {
         "clean_tweets": "i wish I could just sleep alll day",
         "_deepnote_index_column": 217
        },
        {
         "clean_tweets": "JYira it will be close iamblack",
         "_deepnote_index_column": 218
        },
        {
         "clean_tweets": "If trey songs doesnt make it in music he should model oohlala",
         "_deepnote_index_column": 219
        },
        {
         "clean_tweets": "goldngteBRIDGE holy crappies I was just about to tweet this at you ",
         "_deepnote_index_column": 220
        },
        {
         "clean_tweets": "banthxnyd Bruh Waka stupid as fuck for whatever he did to Gucci thats like me dissing my parents ni…",
         "_deepnote_index_column": 221
        },
        {
         "clean_tweets": "alexxxh she wants theeee V you dirty slota",
         "_deepnote_index_column": 222
        },
        {
         "clean_tweets": "Drinking and Arctic Monkeys doesnt get much better",
         "_deepnote_index_column": 223
        },
        {
         "clean_tweets": "Chilling with the ladies at the park its such a nice day out today ",
         "_deepnote_index_column": 224
        },
        {
         "clean_tweets": "The drunk texts Im getting right nowgtgt",
         "_deepnote_index_column": 225
        },
        {
         "clean_tweets": "BeezyKilla lexrockss dnt got yo numba",
         "_deepnote_index_column": 226
        },
        {
         "clean_tweets": "If you need me youll come find me",
         "_deepnote_index_column": 227
        },
        {
         "clean_tweets": "suxmykockiness eattmywords ZEE",
         "_deepnote_index_column": 228
        },
        {
         "clean_tweets": "Im at Maju Ahmad Paya Jaras Sunga Buloh Selangor httptcoaQhvXvlCaK",
         "_deepnote_index_column": 229
        },
        {
         "clean_tweets": "I aint sleeping Im working out all day   gettingfit",
         "_deepnote_index_column": 230
        },
        {
         "clean_tweets": "evrKidraul every once and a while I try to help another belieber I gifted like  believe albums on i…",
         "_deepnote_index_column": 231
        },
        {
         "clean_tweets": "talking bout I cant talk to boys round him lol chile bye",
         "_deepnote_index_column": 232
        },
        {
         "clean_tweets": "MNaLiSaSmiLe relax with the emojis",
         "_deepnote_index_column": 233
        },
        {
         "clean_tweets": "Accountemps Accounting Job Bookkeeper  CENTENNIAL  CO httptcoeCgigQjEIn Jobs TweetMyJobs",
         "_deepnote_index_column": 234
        },
        {
         "clean_tweets": "Real talk please dont laugh if I DM you amp ask who you talkin bout ",
         "_deepnote_index_column": 235
        },
        {
         "clean_tweets": "SimplyPD should come wake and bake",
         "_deepnote_index_column": 236
        },
        {
         "clean_tweets": "Thats just thats just so fun",
         "_deepnote_index_column": 237
        },
        {
         "clean_tweets": "I would love to be left alone",
         "_deepnote_index_column": 238
        },
        {
         "clean_tweets": "Im at Petek Cafe Hatay Türkiye w  others pic httptcoIdKrSpXkAp",
         "_deepnote_index_column": 239
        },
        {
         "clean_tweets": "Lets get it started Crew nnWe are massive httptcohQIeBGGRxS",
         "_deepnote_index_column": 240
        },
        {
         "clean_tweets": "Mineee",
         "_deepnote_index_column": 241
        },
        {
         "clean_tweets": "Hungry",
         "_deepnote_index_column": 242
        },
        {
         "clean_tweets": "If only I woke up this damn early in New York",
         "_deepnote_index_column": 243
        },
        {
         "clean_tweets": "At My Daddy Shit BoredSkii",
         "_deepnote_index_column": 244
        },
        {
         "clean_tweets": "Good win Kansas ",
         "_deepnote_index_column": 245
        },
        {
         "clean_tweets": "AlsopBen so youd rather wed played Parker Walker Defoe and Huddleston And you say spurs are a crap …",
         "_deepnote_index_column": 246
        },
        {
         "clean_tweets": "Wanna say smthg but im not that brave",
         "_deepnote_index_column": 247
        },
        {
         "clean_tweets": "clarketo ceros",
         "_deepnote_index_column": 248
        },
        {
         "clean_tweets": "Bitches and bottles micasa",
         "_deepnote_index_column": 249
        },
        {
         "clean_tweets": "Came out the bank bye teller Give a bum money hi fella Bad lil hoe high yellow brand new Roley Sky …",
         "_deepnote_index_column": 250
        },
        {
         "clean_tweets": "Post office blues",
         "_deepnote_index_column": 251
        },
        {
         "clean_tweets": "SpangleOMalley CherylCooper Yesalso have some Karma perfume from Lush which has patchouli in itsmel…",
         "_deepnote_index_column": 252
        },
        {
         "clean_tweets": "I guess ill just sit here an do nothing",
         "_deepnote_index_column": 253
        },
        {
         "clean_tweets": "Im at Hillel Moscow w romkagold httptcoNSxctKA",
         "_deepnote_index_column": 254
        },
        {
         "clean_tweets": "My legs are sore as fuck squatsfordays",
         "_deepnote_index_column": 255
        },
        {
         "clean_tweets": "ItsVinnyMac just say happy Easter haha",
         "_deepnote_index_column": 256
        },
        {
         "clean_tweets": "larissafariasss kkkkk ok",
         "_deepnote_index_column": 257
        },
        {
         "clean_tweets": "If we was really fighting it would be alot more serious",
         "_deepnote_index_column": 258
        },
        {
         "clean_tweets": "DID YOU KNOW Courtney Cox was supposed to play Rachael and Jennifer Aniston was supposed to play Mo…",
         "_deepnote_index_column": 259
        },
        {
         "clean_tweets": "I hope they dont watch the videos cus i just throw shit",
         "_deepnote_index_column": 260
        },
        {
         "clean_tweets": "Just posted a photo  Court house httptcoWzVSxeEN",
         "_deepnote_index_column": 261
        },
        {
         "clean_tweets": "God damn too much Chinese food want To Vomit",
         "_deepnote_index_column": 262
        },
        {
         "clean_tweets": "RamiTMSW aww l those suck How long were u guys together",
         "_deepnote_index_column": 263
        },
        {
         "clean_tweets": "The smallest Mcdonalds i have ever seen  Cancun Mexico  La Isla Shopping Village httptcoxEIOLDbDY",
         "_deepnote_index_column": 264
        },
        {
         "clean_tweets": "Im so pretty today  ",
         "_deepnote_index_column": 265
        },
        {
         "clean_tweets": "I am struggling My body is betraying me Mutiny",
         "_deepnote_index_column": 266
        },
        {
         "clean_tweets": "hallock CassandraTenace  its just windy Dont be a bum last time it was corny",
         "_deepnote_index_column": 267
        },
        {
         "clean_tweets": "RhysSachett can I marry you",
         "_deepnote_index_column": 268
        },
        {
         "clean_tweets": "This is getting ridicolous",
         "_deepnote_index_column": 269
        },
        {
         "clean_tweets": "Celebrating Peter Shankmans book release  YOTEL New York  yotelhq w kirashalom httptcoackNfQX",
         "_deepnote_index_column": 270
        },
        {
         "clean_tweets": "The Evil Dead was the goriest movie Ive seen by far EvilDead",
         "_deepnote_index_column": 271
        },
        {
         "clean_tweets": "Kateturner I didnt know my Mum was in Southend today",
         "_deepnote_index_column": 272
        },
        {
         "clean_tweets": "suzieeebeee omgeeee why are you up right now nI thought I was the only crazy one Lol",
         "_deepnote_index_column": 273
        },
        {
         "clean_tweets": "How do you write about something called Zen Arcade and not talk about Husker Du This legitimately b…",
         "_deepnote_index_column": 274
        },
        {
         "clean_tweets": "Jorgeeeeeeee iSeek",
         "_deepnote_index_column": 275
        },
        {
         "clean_tweets": "I can be the nicest person  but when you run across me to many time  that NICE SHIT RUN OUT ",
         "_deepnote_index_column": 276
        },
        {
         "clean_tweets": "HannahhElainee hahaha i lived alone this year I can protect us",
         "_deepnote_index_column": 277
        },
        {
         "clean_tweets": "I did horrible",
         "_deepnote_index_column": 278
        },
        {
         "clean_tweets": "dirtyboynow would love to see you bend over  ",
         "_deepnote_index_column": 279
        },
        {
         "clean_tweets": "Im just a soul whos intentions are good ",
         "_deepnote_index_column": 280
        },
        {
         "clean_tweets": "Blake Shelton is a tall glass of water",
         "_deepnote_index_column": 281
        },
        {
         "clean_tweets": "One season doesnt prove jack shit need more than that to say your a better team than others",
         "_deepnote_index_column": 282
        },
        {
         "clean_tweets": "Cant wait to see you c",
         "_deepnote_index_column": 283
        },
        {
         "clean_tweets": "Heart to hearts with my mum ",
         "_deepnote_index_column": 284
        },
        {
         "clean_tweets": "Im at Pça XV httptcoyrMhqCC",
         "_deepnote_index_column": 285
        },
        {
         "clean_tweets": "Hosting open mic tonight from  All yall sangerscmon out m  Crooked Ferret httptcoroPACERCbr",
         "_deepnote_index_column": 286
        },
        {
         "clean_tweets": "LMFAOO we went from Playfighting to WorldstarHipHop in  seconds ",
         "_deepnote_index_column": 287
        },
        {
         "clean_tweets": "“edsheeran Whoop” there it is",
         "_deepnote_index_column": 288
        },
        {
         "clean_tweets": "More rain water damage ServiceMaster Advantage is here to help   Servicemaster Advantage httptcolfL…",
         "_deepnote_index_column": 289
        },
        {
         "clean_tweets": "Am so dark now the sun in this country though",
         "_deepnote_index_column": 290
        },
        {
         "clean_tweets": "ToxicToothFairy madelny addypink Thatd be fun actually lol",
         "_deepnote_index_column": 291
        },
        {
         "clean_tweets": "EricaSchuman thanks I havent even seen my tabs yet though",
         "_deepnote_index_column": 292
        },
        {
         "clean_tweets": "I catch mines you catch yours we both happy",
         "_deepnote_index_column": 293
        },
        {
         "clean_tweets": "Woahanother pt play",
         "_deepnote_index_column": 294
        },
        {
         "clean_tweets": "Wind  mph ENE Barometer  in Falling quickly Temperature  °F Rain today  in Humidity ",
         "_deepnote_index_column": 295
        },
        {
         "clean_tweets": "This is how Majors are supposed to be majorpressure",
         "_deepnote_index_column": 296
        },
        {
         "clean_tweets": "I havent spoken to my grandma since our argument but Im not apologizing for what I said because its…",
         "_deepnote_index_column": 297
        },
        {
         "clean_tweets": "HoesHateDetDet Goodmorning Boo ",
         "_deepnote_index_column": 298
        },
        {
         "clean_tweets": "Its better to hold your tongue than to say something you regret Be quick to listen slow to speak an…",
         "_deepnote_index_column": 299
        },
        {
         "clean_tweets": "claytonn haha you should buy me something Lol",
         "_deepnote_index_column": 300
        },
        {
         "clean_tweets": "So Hungry",
         "_deepnote_index_column": 301
        },
        {
         "clean_tweets": "AsiaRedd  The Block ",
         "_deepnote_index_column": 302
        },
        {
         "clean_tweets": "JaCarRiA well it would a beau if u followed and listened to the music",
         "_deepnote_index_column": 303
        },
        {
         "clean_tweets": "CHoskins theyre sending me a new one",
         "_deepnote_index_column": 304
        },
        {
         "clean_tweets": "Truth has been told jaymon Millard west faggot wants to fight me he says",
         "_deepnote_index_column": 305
        },
        {
         "clean_tweets": "Such a nice day for outdoor activities ",
         "_deepnote_index_column": 306
        },
        {
         "clean_tweets": "jacquelineMjos morning xx",
         "_deepnote_index_column": 307
        },
        {
         "clean_tweets": "I wasnt even talking about you shut the fuck up I will ruin everything for you",
         "_deepnote_index_column": 308
        },
        {
         "clean_tweets": "sleazysance hard",
         "_deepnote_index_column": 309
        },
        {
         "clean_tweets": "Been in the car all night Stopping to eat at Cracker Barrel Its getting more unFlorida with… httptc…",
         "_deepnote_index_column": 310
        },
        {
         "clean_tweets": "Getting more drunk cause that makes me happeeeeeh lmao",
         "_deepnote_index_column": 311
        },
        {
         "clean_tweets": " of the San Antonios Trending Topics for Thursday  were hashtags httptconyOvzAuTd",
         "_deepnote_index_column": 312
        },
        {
         "clean_tweets": "modahir hate that",
         "_deepnote_index_column": 313
        },
        {
         "clean_tweets": "ThinkFirst Sure but if pro life people say he said that then the burden is on them to show what he …",
         "_deepnote_index_column": 314
        },
        {
         "clean_tweets": "I always liked Monte Elliss game",
         "_deepnote_index_column": 315
        },
        {
         "clean_tweets": "listen to that Intro off dat Touch Money Forever mixtape by my nigga HotBoyBillz",
         "_deepnote_index_column": 316
        },
        {
         "clean_tweets": "Okay clearly these scout paper towel people have not met me Or lived with me No paper is cleaning u…",
         "_deepnote_index_column": 317
        },
        {
         "clean_tweets": "I would have fd Joseline up but thats just me lol",
         "_deepnote_index_column": 318
        },
        {
         "clean_tweets": "TaylerEpton when you want to book Venice",
         "_deepnote_index_column": 319
        },
        {
         "clean_tweets": "XxAbelsxX Annabel Jones Laurie What would your father say haha P xx",
         "_deepnote_index_column": 320
        },
        {
         "clean_tweets": "A penis lives a sad life His hair is a mess his family is nuts his neighbor is an asshole best frie…",
         "_deepnote_index_column": 321
        },
        {
         "clean_tweets": "iMustRelate First dates are awkward first kisses are heavenly first love is irreplaceable and first…",
         "_deepnote_index_column": 322
        },
        {
         "clean_tweets": "Oh my god Bryce Harper absolutely rakes every single plate appearance",
         "_deepnote_index_column": 323
        },
        {
         "clean_tweets": "Omg there is civilization in this airport a janitor",
         "_deepnote_index_column": 324
        },
        {
         "clean_tweets": "I hate when guys give me so much attention to where its overbearing and then a day or two after not…",
         "_deepnote_index_column": 325
        },
        {
         "clean_tweets": "I will not tweet about the weather for the rest of this terrible scorching summer",
         "_deepnote_index_column": 326
        },
        {
         "clean_tweets": "I would wear a hat everyday if I could",
         "_deepnote_index_column": 327
        },
        {
         "clean_tweets": "Mmmm nice httptcoWOsvjBFRX",
         "_deepnote_index_column": 328
        },
        {
         "clean_tweets": "and yu know what Im happy being single ",
         "_deepnote_index_column": 329
        },
        {
         "clean_tweets": "EmblemThree you guys are adorable",
         "_deepnote_index_column": 330
        },
        {
         "clean_tweets": "Kendime yeni gozluk aldim httptcoyciQATcNdO",
         "_deepnote_index_column": 331
        },
        {
         "clean_tweets": "I wish my major was English or journalism now this professor be on that bullshit",
         "_deepnote_index_column": 332
        },
        {
         "clean_tweets": "aoifemcgrath hahahaha I was just thinking that",
         "_deepnote_index_column": 333
        },
        {
         "clean_tweets": "Praymadrid for final wembley o",
         "_deepnote_index_column": 334
        },
        {
         "clean_tweets": "Only  draws and  defeats the whole season Scored  conceded ",
         "_deepnote_index_column": 335
        },
        {
         "clean_tweets": "Pinche solazo  San Antonio Soccer w  others httptcoMlzZiTc",
         "_deepnote_index_column": 336
        },
        {
         "clean_tweets": "Just got a marketing email from Navii addressed to Dear Example Forename Fail",
         "_deepnote_index_column": 337
        },
        {
         "clean_tweets": "The breakfast club is sucha classic",
         "_deepnote_index_column": 338
        },
        {
         "clean_tweets": "Where can I get cute iPhone  phone cases replytothis lmk",
         "_deepnote_index_column": 339
        },
        {
         "clean_tweets": "I think micky adams was right givin peopke contratcs but thanjs to the four who avernt",
         "_deepnote_index_column": 340
        },
        {
         "clean_tweets": "LounaTF bah t as changé d avis ",
         "_deepnote_index_column": 341
        },
        {
         "clean_tweets": "It was a good night ",
         "_deepnote_index_column": 342
        },
        {
         "clean_tweets": "snowy Sharonross wish it was u in my bed snowball notthatlucky",
         "_deepnote_index_column": 343
        },
        {
         "clean_tweets": "iKrwcial album The Heart of War drops today Yall go get it show some love Outlander",
         "_deepnote_index_column": 344
        },
        {
         "clean_tweets": "Beach babes with hollygirl  The Beach  th amp Collins httptcotKSweiAWB",
         "_deepnote_index_column": 345
        },
        {
         "clean_tweets": "CookingTy Get out your feelings girl I was joking",
         "_deepnote_index_column": 346
        },
        {
         "clean_tweets": "hale so in this case yes you are special",
         "_deepnote_index_column": 347
        },
        {
         "clean_tweets": "kristenbaxterr thats what Im saying",
         "_deepnote_index_column": 348
        },
        {
         "clean_tweets": "would LUV the nite off BUT cannot make the  that waybringit",
         "_deepnote_index_column": 349
        },
        {
         "clean_tweets": "thepugsmummy kennymichelle hahahaaaaaa aaahhhhhhh man",
         "_deepnote_index_column": 350
        },
        {
         "clean_tweets": "katiehogan stephguillotte  I need to see this Where we at",
         "_deepnote_index_column": 351
        },
        {
         "clean_tweets": "“WarrenBuffett Read my new essay on why women are key to Americas prosperity httptcoCLixEUlX” mustr…",
         "_deepnote_index_column": 352
        },
        {
         "clean_tweets": "Great folks and great crowd at SocialMediaPalmCoast this morning  Arnies Grille on Golf Course … ht…",
         "_deepnote_index_column": 353
        },
        {
         "clean_tweets": "PungkiDiaz he dek",
         "_deepnote_index_column": 354
        },
        {
         "clean_tweets": "Oh well Ive already ruined everything in my life",
         "_deepnote_index_column": 355
        },
        {
         "clean_tweets": "ashlelauren well darn I didnt get there till  haha ",
         "_deepnote_index_column": 356
        },
        {
         "clean_tweets": "toneitup I just had so much fun on beach walk with my Fav Beach Babe amp Tone It Up Partner… httptc…",
         "_deepnote_index_column": 357
        },
        {
         "clean_tweets": "Okee hahaa D",
         "_deepnote_index_column": 358
        },
        {
         "clean_tweets": "LilMissNYJet thats what leads me to believe its Joe",
         "_deepnote_index_column": 359
        },
        {
         "clean_tweets": "kiddohmonstuhh it is lol ",
         "_deepnote_index_column": 360
        },
        {
         "clean_tweets": "shannonmignano why is vegetables your header freak",
         "_deepnote_index_column": 361
        },
        {
         "clean_tweets": "TGF gathering weekly at Sunny  Cafe — httptcothJYLDCg",
         "_deepnote_index_column": 362
        },
        {
         "clean_tweets": "If you can never love you can never hate",
         "_deepnote_index_column": 363
        },
        {
         "clean_tweets": "rororoderick The Soviet Union",
         "_deepnote_index_column": 364
        },
        {
         "clean_tweets": "jonnypeacock fair enough haha",
         "_deepnote_index_column": 365
        },
        {
         "clean_tweets": "xbackoffbitch lol Im still proud to own it HAHAHAHAHA",
         "_deepnote_index_column": 366
        },
        {
         "clean_tweets": "morning world happy tuesday",
         "_deepnote_index_column": 367
        },
        {
         "clean_tweets": "Gonna grill some big ole ribs tonight Score",
         "_deepnote_index_column": 368
        },
        {
         "clean_tweets": "these niggas is hoes  but just dressed in mens clothes ",
         "_deepnote_index_column": 369
        },
        {
         "clean_tweets": "My stomach hurts from coughing so much ",
         "_deepnote_index_column": 370
        },
        {
         "clean_tweets": "therealjwheaty so funni",
         "_deepnote_index_column": 371
        },
        {
         "clean_tweets": "Fudge is too sweet for me ",
         "_deepnote_index_column": 372
        },
        {
         "clean_tweets": "Im at Academia Mix Fighting Assis SP httptcoZkpvLGfDpG",
         "_deepnote_index_column": 373
        },
        {
         "clean_tweets": "Why are they so fat  my sister on the AI contestants",
         "_deepnote_index_column": 374
        },
        {
         "clean_tweets": "Frosted flakes in bed ",
         "_deepnote_index_column": 375
        },
        {
         "clean_tweets": "I have a Note in my phone that just says make an mmmmbop remix  Idk what level I was on to think th…",
         "_deepnote_index_column": 376
        },
        {
         "clean_tweets": "Thx same  u gabyGjolie dekebridges AmitVTweets carolynwells MMediaCEO CiphrHRSoftware",
         "_deepnote_index_column": 377
        },
        {
         "clean_tweets": "DenLowery jcgrayum but  pounds on you is good Your not big at all Heck you may be to small now Lol",
         "_deepnote_index_column": 378
        },
        {
         "clean_tweets": "Shouldve left when I had time",
         "_deepnote_index_column": 379
        },
        {
         "clean_tweets": "When the desert gets to your headdrink wine and eat pbampj fml httptcoVeDHQXcbw",
         "_deepnote_index_column": 380
        },
        {
         "clean_tweets": "LeonardoDePiers Ikrrrrrrrrr its been awhile those precious childhood memories Awwwwww ",
         "_deepnote_index_column": 381
        },
        {
         "clean_tweets": "Stupid bitch posting about women who dont have to be half naked to impress a man stay classy we all…",
         "_deepnote_index_column": 382
        },
        {
         "clean_tweets": "It doesnt matter who am i in the pastbut it does matter who am i in the future  determination n cou…",
         "_deepnote_index_column": 383
        },
        {
         "clean_tweets": "a pillow is sounding pretty damn good right now",
         "_deepnote_index_column": 384
        },
        {
         "clean_tweets": "SkyscraperNora at  am hahahahahahahahahahaha",
         "_deepnote_index_column": 385
        },
        {
         "clean_tweets": "Its never good enough",
         "_deepnote_index_column": 386
        },
        {
         "clean_tweets": "AleviateArts if games consoles stuck to gaming wed be like  years more advanced lol",
         "_deepnote_index_column": 387
        },
        {
         "clean_tweets": "Yep I totally do this httptcoeucMMBdkcF",
         "_deepnote_index_column": 388
        },
        {
         "clean_tweets": "When you know theres nothing you can do ltltltlt",
         "_deepnote_index_column": 389
        },
        {
         "clean_tweets": "tariqbryant nope  I need this for  more weeks lol",
         "_deepnote_index_column": 390
        },
        {
         "clean_tweets": "Karli gets to pick out a pink gun today roadtrip",
         "_deepnote_index_column": 391
        },
        {
         "clean_tweets": "Hes my sun he makes me shine like diamonds",
         "_deepnote_index_column": 392
        },
        {
         "clean_tweets": "Do you know why this movie didnt win best picture NO CROTCHLESS YOGA PANTS",
         "_deepnote_index_column": 393
        },
        {
         "clean_tweets": "I work way too much Lol but this money Im making between my  jobs cash flow",
         "_deepnote_index_column": 394
        },
        {
         "clean_tweets": "tbt the good ´ole days with Liz and Court  new jersey httptcoMTOhOVTLI",
         "_deepnote_index_column": 395
        },
        {
         "clean_tweets": "Sudah tiada rifkipradika Okedonggggg RT TantanHaPe Naek sapeda meren tikusruk rifkipradika Gimana k…",
         "_deepnote_index_column": 396
        },
        {
         "clean_tweets": "  Its Going Down by Yung Joc w ozanndede rinaldiagustian amp  others at rendioioi — httptcoxWkMMzCUr",
         "_deepnote_index_column": 397
        },
        {
         "clean_tweets": "mikeholt zero is fake coke Its diet but boy version Aka fake",
         "_deepnote_index_column": 398
        },
        {
         "clean_tweets": "When AshleySkipworth is a shitty friend …",
         "_deepnote_index_column": 399
        },
        {
         "clean_tweets": "Why do dunking takes up so much energy",
         "_deepnote_index_column": 400
        },
        {
         "clean_tweets": "luceTD pleeeease get one thebest",
         "_deepnote_index_column": 401
        },
        {
         "clean_tweets": "Wishing hepy NINETEEN to IzzatiSyazwana  today is ur birthday Barakallah  ya my little cute friend …",
         "_deepnote_index_column": 402
        },
        {
         "clean_tweets": "Myu mainan with Albhikautsar Aresty Amalia and Latifa at Milas Resto pic — httptcoksWMTCE",
         "_deepnote_index_column": 403
        },
        {
         "clean_tweets": "u can call me Pocahontas frenchbraid by taylorminter  lake life httptcoeSoVpGiV",
         "_deepnote_index_column": 404
        },
        {
         "clean_tweets": "Im at TopGolfaustin Austin TX w  others httptcoSDTLjkRn",
         "_deepnote_index_column": 405
        },
        {
         "clean_tweets": "ayeyoungx Lmaoo everyone says that",
         "_deepnote_index_column": 406
        },
        {
         "clean_tweets": "Back in hull for an evening with the fam",
         "_deepnote_index_column": 407
        },
        {
         "clean_tweets": "AmannduhXO mall",
         "_deepnote_index_column": 408
        },
        {
         "clean_tweets": "Dinner is served httptcojsudLerckT",
         "_deepnote_index_column": 409
        },
        {
         "clean_tweets": "Cali baby",
         "_deepnote_index_column": 410
        },
        {
         "clean_tweets": "nw Breaking Dawn part ",
         "_deepnote_index_column": 411
        },
        {
         "clean_tweets": "“ThatGurlEfe Dark girls have been underrated ” i swear sigh ",
         "_deepnote_index_column": 412
        },
        {
         "clean_tweets": "Letting her win is the hardest thing Ive ever done",
         "_deepnote_index_column": 413
        },
        {
         "clean_tweets": "My mouth and stomach is literally burning",
         "_deepnote_index_column": 414
        },
        {
         "clean_tweets": "babymose she is insane haha she isnt here next year though",
         "_deepnote_index_column": 415
        },
        {
         "clean_tweets": "I really hate the new tweet things",
         "_deepnote_index_column": 416
        },
        {
         "clean_tweets": "savannahlove haha I didnt know what to write xD",
         "_deepnote_index_column": 417
        },
        {
         "clean_tweets": "Audino ight",
         "_deepnote_index_column": 418
        },
        {
         "clean_tweets": "Done making the effort with people that dont give two flying fucks",
         "_deepnote_index_column": 419
        },
        {
         "clean_tweets": "Im sorry but its not possible to grow up in Fc or the surrounding communities and be gangster",
         "_deepnote_index_column": 420
        },
        {
         "clean_tweets": "KatieRalke the sl is not that nice",
         "_deepnote_index_column": 421
        },
        {
         "clean_tweets": "Marron   she will beloved",
         "_deepnote_index_column": 422
        },
        {
         "clean_tweets": "Yall picking the Pacers or Heat to win it all",
         "_deepnote_index_column": 423
        },
        {
         "clean_tweets": "This is not what we planned",
         "_deepnote_index_column": 424
        },
        {
         "clean_tweets": "How it feel to be a real nigga",
         "_deepnote_index_column": 425
        },
        {
         "clean_tweets": " My hopes are so high that your kill might kiss me ",
         "_deepnote_index_column": 426
        },
        {
         "clean_tweets": "Came in the game killin niggasJLin",
         "_deepnote_index_column": 427
        },
        {
         "clean_tweets": "“KayceeMarie laurentpendery shannbabyy we have to go tm  So us  amp xemmajackson can ho b small gro…",
         "_deepnote_index_column": 428
        },
        {
         "clean_tweets": "SophieRix hahhaha it was so funny",
         "_deepnote_index_column": 429
        },
        {
         "clean_tweets": "I wanna sleep but this movie is so interesting",
         "_deepnote_index_column": 430
        },
        {
         "clean_tweets": "Reading Dean Karnazes ultra marathon man for the second time amp watching the sun set Feeling inspi…",
         "_deepnote_index_column": 431
        },
        {
         "clean_tweets": "Rekar my first mg too Ive met them before but not like this Im sort of a newbie became a goose in J…",
         "_deepnote_index_column": 432
        },
        {
         "clean_tweets": "This steroid baseball story could be big time",
         "_deepnote_index_column": 433
        },
        {
         "clean_tweets": "I got to  retweets Awesome",
         "_deepnote_index_column": 434
        },
        {
         "clean_tweets": "Taylor gang out here stabbing people in American flag skinny jeans they must be stop",
         "_deepnote_index_column": 435
        },
        {
         "clean_tweets": "TheEllenShow what you so for people is amazing shutthome",
         "_deepnote_index_column": 436
        },
        {
         "clean_tweets": "Drinking an Oceania by toccalmatto  Freiburg — httptcoGWEinXRCz",
         "_deepnote_index_column": 437
        },
        {
         "clean_tweets": "I should stop trying to fix that shit And stop burning bridges to people who actually want to be my…",
         "_deepnote_index_column": 438
        },
        {
         "clean_tweets": "A lot of people shop at my auntie shop LaBells for prom amp homecoming she be boomin lol",
         "_deepnote_index_column": 439
        },
        {
         "clean_tweets": "Sometimes love is staring you right in the face Just open your eyes ",
         "_deepnote_index_column": 440
        },
        {
         "clean_tweets": "He makes my days so much better lt ",
         "_deepnote_index_column": 441
        },
        {
         "clean_tweets": "Shooting at Santa Monica",
         "_deepnote_index_column": 442
        },
        {
         "clean_tweets": "All we want to know is where the party at And can I bring my gat",
         "_deepnote_index_column": 443
        },
        {
         "clean_tweets": "Lol SimonCowell just got egged",
         "_deepnote_index_column": 444
        },
        {
         "clean_tweets": "BeccaBoo Fine with me just tell me when youre home ",
         "_deepnote_index_column": 445
        },
        {
         "clean_tweets": "Xyoon Lol  of the world hated me before that tweet I think Ill live",
         "_deepnote_index_column": 446
        },
        {
         "clean_tweets": "RafaelNadal  tweet sam a congrats on his bar mitzvah  yr old super fan of yours thanks",
         "_deepnote_index_column": 447
        },
        {
         "clean_tweets": "ThatTRILLLoVe finally",
         "_deepnote_index_column": 448
        },
        {
         "clean_tweets": "tylerayles  just for you me with realyy curly httptcoBJeNNaZT",
         "_deepnote_index_column": 449
        },
        {
         "clean_tweets": "“sammargiotta crazy how different things were just a year ago”",
         "_deepnote_index_column": 450
        },
        {
         "clean_tweets": "JeremieMasuka jarrive ",
         "_deepnote_index_column": 451
        },
        {
         "clean_tweets": "MileyCyrus are you kidding me This is just the beggining I wont survive for sure ",
         "_deepnote_index_column": 452
        },
        {
         "clean_tweets": "So I guess Cleveland is gonna get a tornado ",
         "_deepnote_index_column": 453
        },
        {
         "clean_tweets": "olliecollins where Please say Next haha",
         "_deepnote_index_column": 454
        },
        {
         "clean_tweets": "SakinhaM I fecking love bananas Omg Go back and put some in a box and bring it home and we can shar…",
         "_deepnote_index_column": 455
        },
        {
         "clean_tweets": "Love how she has specific name for them idiots ",
         "_deepnote_index_column": 456
        },
        {
         "clean_tweets": "Ill make you stay The one that got away",
         "_deepnote_index_column": 457
        },
        {
         "clean_tweets": "Im at Ugur Dershanesi Buca w  others httptcoHzkHARXa",
         "_deepnote_index_column": 458
        },
        {
         "clean_tweets": "chaelgylestary loh kirain bareng",
         "_deepnote_index_column": 459
        },
        {
         "clean_tweets": "My circle aint too deep jus a couple of folks that keeps it ",
         "_deepnote_index_column": 460
        },
        {
         "clean_tweets": "The Indians game is not on on FloridaI need updates people",
         "_deepnote_index_column": 461
        },
        {
         "clean_tweets": "Jaroddy dont pay them no mind",
         "_deepnote_index_column": 462
        },
        {
         "clean_tweets": "Finally home Yeah lol",
         "_deepnote_index_column": 463
        },
        {
         "clean_tweets": "BomDia BoaSegunda BoaSemana  Shopping Center Iguatemi  iguatemifor httptcoNVocUTPr",
         "_deepnote_index_column": 464
        },
        {
         "clean_tweets": "Im gonna start a hunting trip soon",
         "_deepnote_index_column": 465
        },
        {
         "clean_tweets": "what did I do",
         "_deepnote_index_column": 466
        },
        {
         "clean_tweets": "Its official AlisterMcCrae is the worlds worst replier  Ever ",
         "_deepnote_index_column": 467
        },
        {
         "clean_tweets": "Im just realizing that my charger has a legit shortage in it",
         "_deepnote_index_column": 468
        },
        {
         "clean_tweets": "joeecollins I didnt eat all day",
         "_deepnote_index_column": 469
        },
        {
         "clean_tweets": "I get the feeling well be sharing a street corner someday",
         "_deepnote_index_column": 470
        },
        {
         "clean_tweets": "I Would Do A Few Things Different",
         "_deepnote_index_column": 471
        },
        {
         "clean_tweets": "IncogKneegro can I bring my him to the pool party ",
         "_deepnote_index_column": 472
        },
        {
         "clean_tweets": "RonnieU i bet they did the same thing lmbo It already happen to me twicenn",
         "_deepnote_index_column": 473
        },
        {
         "clean_tweets": "tommyled  yes",
         "_deepnote_index_column": 474
        },
        {
         "clean_tweets": "Scared to  u lol ",
         "_deepnote_index_column": 475
        },
        {
         "clean_tweets": "ShelbyyTweetMe thats what in saying hook some niggas up",
         "_deepnote_index_column": 476
        },
        {
         "clean_tweets": "At the beach again indianriverinlet",
         "_deepnote_index_column": 477
        },
        {
         "clean_tweets": "we need birdman and Haslem in I dont e eem fucks with Battier like that but he showed his worth las…",
         "_deepnote_index_column": 478
        },
        {
         "clean_tweets": "cochranjacob haha thanks",
         "_deepnote_index_column": 479
        },
        {
         "clean_tweets": "Thats whats Im saying haha “dangDevinKahlil Were tf are the twerking videos on instagram  lmao”",
         "_deepnote_index_column": 480
        },
        {
         "clean_tweets": "yellywelly i dont think so Wind directions ",
         "_deepnote_index_column": 481
        },
        {
         "clean_tweets": "I never really appreciate summer until the day I go back to school truth",
         "_deepnote_index_column": 482
        },
        {
         "clean_tweets": "I just almost bought a kitten Stay tuned it still might happen",
         "_deepnote_index_column": 483
        },
        {
         "clean_tweets": "RianneStratford another reason were soulmates theyre the two I picked ",
         "_deepnote_index_column": 484
        },
        {
         "clean_tweets": "jordanwrightt ",
         "_deepnote_index_column": 485
        },
        {
         "clean_tweets": "heyyitsAudi dont tweet at meeeee  the only reason your unblocked is because he changed my mind",
         "_deepnote_index_column": 486
        },
        {
         "clean_tweets": "I wont start because then I wont stop lol But Im grateful for it all ThankYou",
         "_deepnote_index_column": 487
        },
        {
         "clean_tweets": "Im at IKEASunrise Plantation FL w  others httptcowGHxOdpe",
         "_deepnote_index_column": 488
        },
        {
         "clean_tweets": " RJs watching the bruins drinking  and eating  kseddy",
         "_deepnote_index_column": 489
        },
        {
         "clean_tweets": "Typical Hurt my back squatting with weights and start my first day of work today Can hardly stand u…",
         "_deepnote_index_column": 490
        },
        {
         "clean_tweets": "Watching movies",
         "_deepnote_index_column": 491
        },
        {
         "clean_tweets": "NiallSpanish  matame",
         "_deepnote_index_column": 492
        },
        {
         "clean_tweets": "I hate when I wake up crying",
         "_deepnote_index_column": 493
        },
        {
         "clean_tweets": "Time to read game of thrones Woo",
         "_deepnote_index_column": 494
        },
        {
         "clean_tweets": "Its funny when Im laying in the dark looking at my phone and think Im laying at the opposite foot i…",
         "_deepnote_index_column": 495
        },
        {
         "clean_tweets": "Dumbass",
         "_deepnote_index_column": 496
        },
        {
         "clean_tweets": "Football talk with the boys gtgtgtgtgt",
         "_deepnote_index_column": 497
        },
        {
         "clean_tweets": "Need some motivation to get ready ",
         "_deepnote_index_column": 498
        },
        {
         "clean_tweets": "MaryXJeanieX your finger is so short and cute ",
         "_deepnote_index_column": 499
        }
       ],
       "rows_bottom": [
        {
         "clean_tweets": "Client weekly MealsnArugala and Kale side saladsnHerb Roasted Quail with sour cream and chive… http…",
         "_deepnote_index_column": 3812
        },
        {
         "clean_tweets": "O Retail Advisor hrs Brighton  Western Road BrightonEastSussex httpstcoPxsaRvEQk Retail ojobs Job J…",
         "_deepnote_index_column": 3813
        },
        {
         "clean_tweets": "Im at İstiklal Caddesi  beyoglubld in Beyoğlu Istanbul httpstconUHXelWAB",
         "_deepnote_index_column": 3814
        },
        {
         "clean_tweets": "Im at ÖNAL HOUSE in Manisa Yunusemre httpstcobYOtqJIIaC",
         "_deepnote_index_column": 3815
        },
        {
         "clean_tweets": "Opened Rodent Sighting report via iphone at   Charles St httpstcolfwLCcRKB httpstcoNTOujKUGi",
         "_deepnote_index_column": 3816
        },
        {
         "clean_tweets": "Disabled vehicle left lane blocked in NorthMiami on I Express SB at NW th St SFLtraffic httpstcoUSj…",
         "_deepnote_index_column": 3817
        },
        {
         "clean_tweets": "Can you recommend anyone for this Nursing job httpstcoJsIWICvJB SugarLand TX Hiring httpstcoBuxoUdaC",
         "_deepnote_index_column": 3818
        },
        {
         "clean_tweets": "Im at Via Sul Transportes in São Paulo SP httpstcoLPkIWAxvDt",
         "_deepnote_index_column": 3819
        },
        {
         "clean_tweets": "Nina amp nico wedding at Royal Kuningan Hotel pic — httpstcoCvGRbPbALx",
         "_deepnote_index_column": 3820
        },
        {
         "clean_tweets": "  ℃ ℃         httpstcoHdKVRUCjjA ",
         "_deepnote_index_column": 3821
        },
        {
         "clean_tweets": "Alert MOTOR VEHICLE COLLISION  HOWARD FRANKLAND BRIDGE Tac G Sent E T httpstcoXCvtgt",
         "_deepnote_index_column": 3822
        },
        {
         "clean_tweets": "Ready for Brat Fest Stop by and say hi to the  Z She will be hanging out at the car show… httpstcoe…",
         "_deepnote_index_column": 3823
        },
        {
         "clean_tweets": "Join the Allstate Insurance team See our latest ProductMgmt job opening here httpstcoFRcufEiCW alls…",
         "_deepnote_index_column": 3824
        },
        {
         "clean_tweets": "My mother stylemama weekendselfie   Kebun Raya Bogor Jabar httpstcoeTfbcjG",
         "_deepnote_index_column": 3825
        },
        {
         "clean_tweets": "Hospitality Job alert CarhopSkating Carhop Server  SONIC DriveIn  GrandPrairie TX httpstcoSJKLROq S…",
         "_deepnote_index_column": 3826
        },
        {
         "clean_tweets": "Wind  kmh NW Barometer  hPa Falling slowly Temperature  °C Rain today  mm Humidity ",
         "_deepnote_index_column": 3827
        },
        {
         "clean_tweets": "Im at ICI Brasserie in São Paulo SP httpstcoVykWsKpsDl",
         "_deepnote_index_column": 3828
        },
        {
         "clean_tweets": "Join the The Cellular Connection team See our latest Marketing job opening here httpstcoegltqqXa Hi…",
         "_deepnote_index_column": 3829
        },
        {
         "clean_tweets": "I just finished running  km in hms with Endomondo endorphins httpstcobugbJOvJ",
         "_deepnote_index_column": 3830
        },
        {
         "clean_tweets": "Vamos la  httpstcoHQhCTyRt",
         "_deepnote_index_column": 3831
        },
        {
         "clean_tweets": "Im at    akikolawson in Katsushika  httpstcoWigGGmufRl",
         "_deepnote_index_column": 3832
        },
        {
         "clean_tweets": "  Bahçelievler in İstanbul Türkiye httpstcorouapJOr",
         "_deepnote_index_column": 3833
        },
        {
         "clean_tweets": "Im at Paella Place by Churros Factory in Singapore httpstcoHgzHdlreW httpstcolsPpgXET",
         "_deepnote_index_column": 3834
        },
        {
         "clean_tweets": "Im at Srisun Express httpstcoWqaylAA",
         "_deepnote_index_column": 3835
        },
        {
         "clean_tweets": "Im at Gaziosmanpaşa in Çankaya Ankara httpstcodvfUMFfsn",
         "_deepnote_index_column": 3836
        },
        {
         "clean_tweets": "Catch me and the beautiful jacquiebabi on Knownrecordings this Friday Download that app  … httpstco…",
         "_deepnote_index_column": 3837
        },
        {
         "clean_tweets": "Nice view over Vårruset  Norra Berget httpstcoSEXHnfenu",
         "_deepnote_index_column": 3838
        },
        {
         "clean_tweets": "I forgot about this pic  Wildwood New Jersey httpstcomWpcsVos",
         "_deepnote_index_column": 3839
        },
        {
         "clean_tweets": "We dont always drink wine but when we do its made by a KingnWildberry ShiraznBottled… httpstcoAGTXr…",
         "_deepnote_index_column": 3840
        },
        {
         "clean_tweets": "Patrick Rock exDavid Cameron aide to be sentenced for making indecent child… httpstcoRfuqKrL Politi…",
         "_deepnote_index_column": 3841
        },
        {
         "clean_tweets": "Im at  in Yokohama  httpstcozUqPTYBcg",
         "_deepnote_index_column": 3842
        },
        {
         "clean_tweets": "Ryan and Rooteds facility httpstcojAjqpHf",
         "_deepnote_index_column": 3843
        },
        {
         "clean_tweets": "nnnnkeisukewomb… httpstcoaFaVaWg",
         "_deepnote_index_column": 3844
        },
        {
         "clean_tweets": "Im at ᴾᴵᶜᴴᴷᶜ  in Bangna httpstcodPRPlMhiWM",
         "_deepnote_index_column": 3845
        },
        {
         "clean_tweets": "Wedding table goals Those flowers with the  candle sticks  knotandpop acehotel… httpstcoHUpZHCDF",
         "_deepnote_index_column": 3846
        },
        {
         "clean_tweets": "Were here  takeovertour chicago  Chicago OHare International Airport httpstcoaGGtRJKZr",
         "_deepnote_index_column": 3847
        },
        {
         "clean_tweets": "Im at El Gallito in Benito Juárez Df httpstcoIoOQtzXF",
         "_deepnote_index_column": 3848
        },
        {
         "clean_tweets": "Cool club Saaaaaatdaylove life lifeJETS… httpstcodOcgpFUvkB",
         "_deepnote_index_column": 3849
        },
        {
         "clean_tweets": "Im at   in   httpstcoepQeNNTrp",
         "_deepnote_index_column": 3850
        },
        {
         "clean_tweets": "  Mazda Stadium httpstcoNoXAfBIDk",
         "_deepnote_index_column": 3851
        },
        {
         "clean_tweets": "Angry bird   Olympian City httpstcoeUJKsIN",
         "_deepnote_index_column": 3852
        },
        {
         "clean_tweets": "Something New by Axwell And Ingrosso is nowplaying in Stokewood Leisure Centre Bournemouth  Downloa…",
         "_deepnote_index_column": 3853
        },
        {
         "clean_tweets": "ramai manusia  with Danang rakhmat and  others at KFC Unsoed — httpstcocNAKDzmsY",
         "_deepnote_index_column": 3854
        },
        {
         "clean_tweets": "Real madrid legends vs ajax legends madrid comonotevoyaquerer… httpstcotywWiBvme",
         "_deepnote_index_column": 3855
        },
        {
         "clean_tweets": "Trend Alert TRIGGERMEMONDAY More trends at httpstcoRztqeSYZJ trndnl httpstcoViZngyO",
         "_deepnote_index_column": 3856
        },
        {
         "clean_tweets": "Im at Nilüfer in Bursa httpstcoxMgxyI httpstcornDCTVPFv",
         "_deepnote_index_column": 3857
        },
        {
         "clean_tweets": "ER RN Travel RN Emergency Room RN  Supplemental Health Care NewYork NY httpstcoaiJyVMeC Healthcare …",
         "_deepnote_index_column": 3858
        },
        {
         "clean_tweets": "Heaven on earth  The Cheesecake Factory México httpstcognsDMklz",
         "_deepnote_index_column": 3859
        },
        {
         "clean_tweets": "Its sunny on the hill this morning  degrees before am  Glossop httpstcosKGwFlzGmx",
         "_deepnote_index_column": 3860
        },
        {
         "clean_tweets": " httpstcoAWLIKLuNL",
         "_deepnote_index_column": 3861
        },
        {
         "clean_tweets": "Wherever you are find the beautiful",
         "_deepnote_index_column": 3862
        },
        {
         "clean_tweets": "DavidJo Of course the church has information sources of the highest quality httpstcowOaqbxlDg",
         "_deepnote_index_column": 3863
        },
        {
         "clean_tweets": "Game time   Wellesley High School httpstcoGVqOmTyjZ",
         "_deepnote_index_column": 3864
        },
        {
         "clean_tweets": "Banho janta e cama   Ale House httpstcojqIddjLhf",
         "_deepnote_index_column": 3865
        },
        {
         "clean_tweets": "Just another day in the office Some exciting VR action planned for my clients this summer … httpstc…",
         "_deepnote_index_column": 3866
        },
        {
         "clean_tweets": " at pondokindahmall — httpstcoVsxPaml",
         "_deepnote_index_column": 3867
        },
        {
         "clean_tweets": "Huftttt  at STIE YAI Jakarta Pusat — httpstcolqCmofuFC",
         "_deepnote_index_column": 3868
        },
        {
         "clean_tweets": "It seems a hunt is about to start in central London Tally Ho   London Belgravia httpstcoTdSLABU",
         "_deepnote_index_column": 3869
        },
        {
         "clean_tweets": "current weather in Belfast clear sky °Cn humidity wind kmh pressure mb",
         "_deepnote_index_column": 3870
        },
        {
         "clean_tweets": "     keiodentetsu in   httpstcowAbkJpxwwd",
         "_deepnote_index_column": 3871
        },
        {
         "clean_tweets": "temperature down °F gt °Fnhumidity up  gt ",
         "_deepnote_index_column": 3872
        },
        {
         "clean_tweets": "Glad to have catch a roll with you two lions tonight chrishaueter  jeanpaul … httpstcoZkRmeAkB",
         "_deepnote_index_column": 3873
        },
        {
         "clean_tweets": "🤒 at Mitra husada — httpstcoyzJQCZUhV",
         "_deepnote_index_column": 3874
        },
        {
         "clean_tweets": "Want to work in Rochester MN View our latest opening httpstcoJVjPBXas FacilitiesMgmt Job Jobs Hiring",
         "_deepnote_index_column": 3875
        },
        {
         "clean_tweets": "See our latest ElPaso TX job and click to apply Pharmacy Technician  httpstcoeIfVCbDpM Healthcare H…",
         "_deepnote_index_column": 3876
        },
        {
         "clean_tweets": "Friday  Reed Smith in Princeton NJ httpstcoNMnlCTi",
         "_deepnote_index_column": 3877
        },
        {
         "clean_tweets": "Im at Qin Tian Te Wei in Brasília DF httpstcoeSNqCPiQ",
         "_deepnote_index_column": 3878
        },
        {
         "clean_tweets": "I got carded LMAO at BarLouie in San Antonio TX httpstcoluSHaZAuP",
         "_deepnote_index_column": 3879
        },
        {
         "clean_tweets": "    httpstcovtonxoQK",
         "_deepnote_index_column": 3880
        },
        {
         "clean_tweets": "clear sky gt scattered cloudsntemperature down °C gt °Cnhumidity up  gt ",
         "_deepnote_index_column": 3881
        },
        {
         "clean_tweets": "Ciwikciwik  with Miranda Irantha and Claudia at Jade Authentic Sisha pic — httpstcoLDmwlX",
         "_deepnote_index_column": 3882
        },
        {
         "clean_tweets": "Working weekend completely worth it to host a very special ladys birthday party… httpstcolUWhIjFhj",
         "_deepnote_index_column": 3883
        },
        {
         "clean_tweets": "See our latest Irwindale CA job and click to apply Contract Manager ITS  httpstcopERAynCH cityofhop…",
         "_deepnote_index_column": 3884
        },
        {
         "clean_tweets": "Retail Job in SanCarlos CA store manager  San CarlosRedwood City at Starbucks httpstcocIWmNxVNM Job…",
         "_deepnote_index_column": 3885
        },
        {
         "clean_tweets": "Were hiring Click to apply Entry Level Service Advisor  httpstcotMhVelbRM Automotive SantaAna CA Jo…",
         "_deepnote_index_column": 3886
        },
        {
         "clean_tweets": "off to school  httpstcosscaTtuZW",
         "_deepnote_index_column": 3887
        },
        {
         "clean_tweets": "Hheee with ENDORE at Liwet Pak Asep Stroberi — httpstcoQtDORoYSK",
         "_deepnote_index_column": 3888
        },
        {
         "clean_tweets": "friends SoL office smile mondaymadness Likelike swag mac followforfollow  School of… httpstcoERKpvR…",
         "_deepnote_index_column": 3889
        },
        {
         "clean_tweets": "Im at Salwa in Kuwait httpstcoDneXdtqNiK",
         "_deepnote_index_column": 3890
        },
        {
         "clean_tweets": "PRATTVILLE AND MONTGOMERY FRIENDS nMark your calendar for Friday July nd The Velcro Pygmies… httpst…",
         "_deepnote_index_column": 3891
        },
        {
         "clean_tweets": "Time goes by fast",
         "_deepnote_index_column": 3892
        },
        {
         "clean_tweets": "Can you recommend anyone for this Manufacturing job httpstcotEQiVbrz Twinsburg Ohio Hiring httpstco…",
         "_deepnote_index_column": 3893
        },
        {
         "clean_tweets": "OnePlus  ad in India reveals everything theres to know before the global launch httpstcoXtkWWrgv",
         "_deepnote_index_column": 3894
        },
        {
         "clean_tweets": "wihiw at Ganda — httpstcoCCrafxTamy",
         "_deepnote_index_column": 3895
        },
        {
         "clean_tweets": "  Piazzale Michelangelo Firenze Italy httpstcoMnrvUjWn",
         "_deepnote_index_column": 3896
        },
        {
         "clean_tweets": "Lockbourne OH Manufacturing Job Warehouse Clerk  Lockbourne OH   st Shift Available at ProLogistix …",
         "_deepnote_index_column": 3897
        },
        {
         "clean_tweets": "Im at  in   httpstcoycnBRYsC",
         "_deepnote_index_column": 3898
        },
        {
         "clean_tweets": "hailstorm rain  Casina httpstcoAcxGWnSt",
         "_deepnote_index_column": 3899
        },
        {
         "clean_tweets": "Ñamiiii  at NiuSushi in Vitacura Santiago w jmangelsdorff httpstcorOgZzVWlss",
         "_deepnote_index_column": 3900
        },
        {
         "clean_tweets": "Im at Leman Kültür  lemankadikoy in İstanbul Kadıköy httpstconsfNCxom",
         "_deepnote_index_column": 3901
        },
        {
         "clean_tweets": "Somebody come take off the rest of my clothes for me  Ashley Auburn… httpstcoWQQfpomevN",
         "_deepnote_index_column": 3902
        },
        {
         "clean_tweets": "chrisbrownofficial officialsectionboyz   Arena httpstcoVcfmDvpR",
         "_deepnote_index_column": 3903
        },
        {
         "clean_tweets": "Oracle Big Data Industry Lead Telecommunications and Media EMEA Stockholm httpstcoMnrgwHzX Sales Jo…",
         "_deepnote_index_column": 3904
        },
        {
         "clean_tweets": "Bem lesgou bem tbt  Prime Dog httpstcoAKxMyiZlW",
         "_deepnote_index_column": 3905
        },
        {
         "clean_tweets": "June th  updatennRepost goofballwebb with repostappnnGamer News The Division… httpstcoTBTbBwquy",
         "_deepnote_index_column": 3906
        },
        {
         "clean_tweets": "Im at Family Store Masjid Tanah in Masjid Tanah httpstcoSvXHliHvD",
         "_deepnote_index_column": 3907
        },
        {
         "clean_tweets": "Im at Living Room in La LA httpstcokPUPDyML",
         "_deepnote_index_column": 3908
        },
        {
         "clean_tweets": "Im at Queens Club w joeyjaycey sarmandalee httpstcoeTSViwmsP",
         "_deepnote_index_column": 3909
        },
        {
         "clean_tweets": "It is indeed a happy birthday to me  Panglao Island httpstcoHnVWrUs",
         "_deepnote_index_column": 3910
        },
        {
         "clean_tweets": "Im at  in   httpstcokwzwGbfD",
         "_deepnote_index_column": 3911
        },
        {
         "clean_tweets": "closing out the night with djjedi classic hiphopdays thank you musiccenterla a good time was… https…",
         "_deepnote_index_column": 3912
        },
        {
         "clean_tweets": " MORE DAYS We are so pumped for youthamerica    Youth America httpstcoVZhVCiVWU",
         "_deepnote_index_column": 3913
        },
        {
         "clean_tweets": "Join the Robert Half Management Resources team See our latest Accounting job opening here httpstcop…",
         "_deepnote_index_column": 3914
        },
        {
         "clean_tweets": "Finally had a run through goldengatepark  Golden Gate Park httpstcoOEVMuVOo",
         "_deepnote_index_column": 3915
        },
        {
         "clean_tweets": "Great assorted vegetarian food From local food Western menu to dessert Everything vegetarian Reason…",
         "_deepnote_index_column": 3916
        },
        {
         "clean_tweets": "Cleared Incident on INYSThruway WB at  before Exit  I  Batavia Rte ",
         "_deepnote_index_column": 3917
        },
        {
         "clean_tweets": "TopApps for StoriesFromTheBatcavennTwitter for Android nTwitter Web Client nTwitter for iPhone ",
         "_deepnote_index_column": 3918
        },
        {
         "clean_tweets": "Were hiring Click to apply Social Services Assistant  httpstcoWtEgGri SocialSciences MatherAFB CA V…",
         "_deepnote_index_column": 3919
        },
        {
         "clean_tweets": "Happy fathers day Go Warriors at WhiteSpot in West Vancouver BC httpstcoKruKbX",
         "_deepnote_index_column": 3920
        },
        {
         "clean_tweets": "Im at Sunway Medical Centre in Petaling Jaya Selangor httpstcoATxUhfBg",
         "_deepnote_index_column": 3921
        },
        {
         "clean_tweets": "Hooaaaammmmm Ada kasur ga at Basko Grand Mall — httpstcoEdqHHDUdI",
         "_deepnote_index_column": 3922
        },
        {
         "clean_tweets": "Update Construction on MarineParkwayBridge SB from Brooklyn Side to Rockaway Side httpstcoNDHoFowYu",
         "_deepnote_index_column": 3923
        },
        {
         "clean_tweets": "Interested in a Nursing job near GrandIsland NE This could be a great fit httpstcocsuGQVWq Hiring C…",
         "_deepnote_index_column": 3924
        },
        {
         "clean_tweets": "Finance alert Senior Financial Analyst  Consultants Wanted  Robert Half Management Resources  Dayto…",
         "_deepnote_index_column": 3925
        },
        {
         "clean_tweets": "ESN   Croatia crowd trouble fears overshadow Spain clash Bordeaux AFP – Croatia can secure their pl…",
         "_deepnote_index_column": 3926
        },
        {
         "clean_tweets": "Im at Curral Zeca Xibelão  BoiBumbá Caprichoso  oboicaprichoso in Parintins Amazonas w arysonleonar…",
         "_deepnote_index_column": 3927
        },
        {
         "clean_tweets": "kalian sudah besar yah with Dzakwan and Farahaura at COCCA  Casual Dining amp Cake Shop pic — https…",
         "_deepnote_index_column": 3928
        },
        {
         "clean_tweets": "finebaum babies  Dude you gotta be kidding me Babies  Theyre pretty big babies then",
         "_deepnote_index_column": 3929
        },
        {
         "clean_tweets": "Loyalty matters   years in and theres still no smartphone that beats BlackBerry  httpstcoVGbGYUvp",
         "_deepnote_index_column": 3930
        },
        {
         "clean_tweets": "Just posted a photo  Terminal Bus Tirtonadi Solo httpstcoQRBSIYm",
         "_deepnote_index_column": 3931
        },
        {
         "clean_tweets": "Construction on NY EB at Exit    Wantagh State Parkway httpstcoLgjCXkZ",
         "_deepnote_index_column": 3932
        },
        {
         "clean_tweets": "Im at Florya in Bakırköy Istanbul httpstcosDlbOzz",
         "_deepnote_index_column": 3933
        },
        {
         "clean_tweets": "Check out my listing in GulfShores AL httpstcogaIbnCb realestate realtor httpstcoHIsCJCB",
         "_deepnote_index_column": 3934
        },
        {
         "clean_tweets": "Thanks IsaVillaGarcia for leading an excellent Legislative Visit for raleighrealtors and our… https…",
         "_deepnote_index_column": 3935
        },
        {
         "clean_tweets": "Managed to check two off the list tonight  Ray LaMontagne accompanied by My Morning Jacket is… http…",
         "_deepnote_index_column": 3936
        },
        {
         "clean_tweets": "I literally woke up to fifth harmony posted a video and I SAW THAT IT WAS THE AIMH MUSIC VIDEO AND …",
         "_deepnote_index_column": 3937
        },
        {
         "clean_tweets": " watts httpstcoDtOzerC",
         "_deepnote_index_column": 3938
        },
        {
         "clean_tweets": "This Nursing job might be a great fit for you URGENT need for ICU RN  httpstcopemMOnWSu NewYork NY …",
         "_deepnote_index_column": 3939
        },
        {
         "clean_tweets": "We had so much fun swimming at Los Altos emmakaylee swimming… httpstcoqtaqAd",
         "_deepnote_index_column": 3940
        },
        {
         "clean_tweets": "Im at  in   httpstcoCqaDLNAH",
         "_deepnote_index_column": 3941
        },
        {
         "clean_tweets": "Im at  in Kamisu Ibaraki Prefecture httpstcoXbEvIu",
         "_deepnote_index_column": 3942
        },
        {
         "clean_tweets": "I love this city The weekend continues Find me tonight at Church Nightclub for Breathe… httpstcoyAS…",
         "_deepnote_index_column": 3943
        },
        {
         "clean_tweets": "Cleared Construction on NY Both directions from Town of Alfred Town of Ward Line to CR  Five Corners",
         "_deepnote_index_column": 3944
        },
        {
         "clean_tweets": "With Parada Kendy and Hanif at Starbucks Coffee Big Mall — httpstcozygYcGwB",
         "_deepnote_index_column": 3945
        },
        {
         "clean_tweets": "Actually loling at Madness ",
         "_deepnote_index_column": 3946
        },
        {
         "clean_tweets": "This Nursing job might be a great fit for you Registered Nurse Weekender Gilchrist Hospice Care  ht…",
         "_deepnote_index_column": 3947
        },
        {
         "clean_tweets": "This IT job might be a great fit for you Software Algorithm Engineer  httpstcotAlAQBm Exton PA Hiri…",
         "_deepnote_index_column": 3948
        },
        {
         "clean_tweets": "Scottsdale AZ Nursing Job Travel Nurse TELE RN at Travel Nurse Across America httpstcoUuxQypYBF Job…",
         "_deepnote_index_column": 3949
        },
        {
         "clean_tweets": "Do you even read bro at Powells City of Books in Portland OR httpstcoplAcrzFpr",
         "_deepnote_index_column": 3950
        },
        {
         "clean_tweets": "Story Base jumper dies in Stawamus Chief incident httpstcoEjAgJOCs",
         "_deepnote_index_column": 3951
        },
        {
         "clean_tweets": "Ladies you dont have to know how to cook to get married Ever guy at my job thats married they wife …",
         "_deepnote_index_column": 3952
        },
        {
         "clean_tweets": "Im at Çamoluk httpstcoZcKgbgckIM",
         "_deepnote_index_column": 3953
        },
        {
         "clean_tweets": "MrFlight yea they did",
         "_deepnote_index_column": 3954
        },
        {
         "clean_tweets": "Did some wild camping last night where I was put to sleep by the sound of sheep and a slight bit… h…",
         "_deepnote_index_column": 3955
        },
        {
         "clean_tweets": "Slow traffic in Birmingham on I  SB between Finley Blvd and I  Malfunction Jctn  Exit  delay of  mi…",
         "_deepnote_index_column": 3956
        },
        {
         "clean_tweets": "pathdaily with Reynaldo at jabodetabek pic — httpstcotbXoQUtf",
         "_deepnote_index_column": 3957
        },
        {
         "clean_tweets": "Im at  in   httpstcoUjdqdicN",
         "_deepnote_index_column": 3958
        },
        {
         "clean_tweets": " BST °C     mph WSW  mmhr  hPa rising httpstcoCBzpwmeH",
         "_deepnote_index_column": 3959
        },
        {
         "clean_tweets": "Drinking an Alternate Takes  by dogfishbeer at dogfishbeer — httpstcoWSFnjjBha photo",
         "_deepnote_index_column": 3960
        },
        {
         "clean_tweets": "When things got heated but you tried to stay mellow artisan marshmallows from thepresscafe… httpstc…",
         "_deepnote_index_column": 3961
        },
        {
         "clean_tweets": "Clerical Job in Monterey CA Patient Access Representative at CHOMP httpstcoGKPOenrKw CHOMP NorCal h…",
         "_deepnote_index_column": 3962
        },
        {
         "clean_tweets": "Just posted a photo  Barrio La Estrada httpstcoOixsiISKZ",
         "_deepnote_index_column": 3963
        },
        {
         "clean_tweets": "Im at  in Yokohama  httpstcohcSPynYEsN",
         "_deepnote_index_column": 3964
        },
        {
         "clean_tweets": "Im at Lot One Shoppers Mall in Singapore httpstcoOiBjcd",
         "_deepnote_index_column": 3965
        },
        {
         "clean_tweets": "nezmoments  Johannesburg South Africa httpstcogQYDJnJOs",
         "_deepnote_index_column": 3966
        },
        {
         "clean_tweets": "Nathi has done it again InCommon realblackcoffee aliciakeys  Durban South Africa httpstcoLxmoexzHV",
         "_deepnote_index_column": 3967
        },
        {
         "clean_tweets": "beach vibesgt town vibes  Doylestown Pennsylvania httpstcoGYfait",
         "_deepnote_index_column": 3968
        },
        {
         "clean_tweets": "throwback to cityandcolour dallasgreen tribute to thehip bobcaygeon happycanadaday … httpstcouoTSty…",
         "_deepnote_index_column": 3969
        },
        {
         "clean_tweets": "MVATransport Dubbo Newell Hwy Brocklehurst NSW  at  Jul   httpstcoeZbtQmTC NSWRFS MVATransport",
         "_deepnote_index_column": 3970
        },
        {
         "clean_tweets": "finallymore than snnrapsmash musicallyid rapsmashindo rapsmashid musicallyindo… httpstcojjhuyBndL",
         "_deepnote_index_column": 3971
        },
        {
         "clean_tweets": "Next year Sue Barker will call the ENG team sorry that should be WAL team on the middle Saturday",
         "_deepnote_index_column": 3972
        },
        {
         "clean_tweets": "Just posted a photo  York beach York ME httpstcoLLeDyJW",
         "_deepnote_index_column": 3973
        },
        {
         "clean_tweets": "Interested in a Clerical job near BRISBANE California This could be a great fit httpstconZyGcgEI ht…",
         "_deepnote_index_column": 3974
        },
        {
         "clean_tweets": "Day at the Columbia phelpscreekvineyards mthoodwinery cascadecliffsvineyardandwinery… httpstcoUBJJh…",
         "_deepnote_index_column": 3975
        },
        {
         "clean_tweets": "This is mudik at Pos pam Pertigaan Losari  Ops Ketupat Lodaya  Res Cirebon pic — httpstcoEutCfmvdi",
         "_deepnote_index_column": 3976
        },
        {
         "clean_tweets": "Team Member  Cook  Noodles amp Co MANITOWOC WI httpstcouQRKFoxFD Hospitality MadeDifferent Job Jobs…",
         "_deepnote_index_column": 3977
        },
        {
         "clean_tweets": "Happy Fourth  Wantage New Jersey httpstcojagkNDyG",
         "_deepnote_index_column": 3978
        },
        {
         "clean_tweets": "And you thought Golden Corral had a good Buffett  ShangriLa at the Fort Manila httpstcoYhbFZAwhL",
         "_deepnote_index_column": 3979
        },
        {
         "clean_tweets": "Talk down on me Im flattered  Hater gonna hate httpstcoPXzUvigBN",
         "_deepnote_index_column": 3980
        },
        {
         "clean_tweets": "Im at Plaza Angsana in Johor Bahru Johor httpstcoBUraNymQ",
         "_deepnote_index_column": 3981
        },
        {
         "clean_tweets": "Cat amp bird icons kyivlove kyivgraphics  Maidan Square httpstcoDqkHXGmpC",
         "_deepnote_index_column": 3982
        },
        {
         "clean_tweets": " BST Temperature °C Wind NNE  mph ave  mph gust Humidity  Rain hourly  mm Pressure  hPa falling slo…",
         "_deepnote_index_column": 3983
        },
        {
         "clean_tweets": "Im at CrossFit Jersey City  cfjerseycity in Jersey City NJ httpstcouFHtAVAl",
         "_deepnote_index_column": 3984
        },
        {
         "clean_tweets": "Can you recommend anyone for this job STORE MANAGER CANDIDATE  httpstcoCujBrrej Philadelphia TN Ret…",
         "_deepnote_index_column": 3985
        },
        {
         "clean_tweets": "Join the Robert Half Technology team See our latest IT job opening here httpstcopseXRzyqk WestLosAn…",
         "_deepnote_index_column": 3986
        },
        {
         "clean_tweets": "  Katy Mills httpstcoApsvcQwtq",
         "_deepnote_index_column": 3987
        },
        {
         "clean_tweets": "Im at MasalKafe in Trabzon Türkiye w erenazakliii httpstcoZxrzKQpZl",
         "_deepnote_index_column": 3988
        },
        {
         "clean_tweets": "Banterific lunch with the lads to celebrate MrPru belated birthday  Gordon Ramsey Bread Street… htt…",
         "_deepnote_index_column": 3989
        },
        {
         "clean_tweets": "This is a post for all the good deeds people do but without any appreciation I lost my driving… htt…",
         "_deepnote_index_column": 3990
        },
        {
         "clean_tweets": "its funny how a small fishing village n a beautifull beach makes you want to head back home… httpst…",
         "_deepnote_index_column": 3991
        },
        {
         "clean_tweets": "Im at Taman melor in Sungai Petani Kedah httpstcolZJoMqMZg",
         "_deepnote_index_column": 3992
        },
        {
         "clean_tweets": " at jabodetabek — httpstcoJaPOeb",
         "_deepnote_index_column": 3993
        },
        {
         "clean_tweets": "  Davids Salon in Taguig httpstcoredossLR",
         "_deepnote_index_column": 3994
        },
        {
         "clean_tweets": "Passt  Portugal Lisboa httpstcocpuwtGAV",
         "_deepnote_index_column": 3995
        },
        {
         "clean_tweets": "Cleared Special Event on BrooklynPortAuthorityMarineTerminal",
         "_deepnote_index_column": 3996
        },
        {
         "clean_tweets": "Can you recommend anyone for this job httpstcoHztEhDsS Banking Miami FL Hiring CareerArc",
         "_deepnote_index_column": 3997
        },
        {
         "clean_tweets": "faliceanokeithturk is the coolest and best part of this dmanntap nationals His class was… httpstcop…",
         "_deepnote_index_column": 3998
        },
        {
         "clean_tweets": "Montgomery County Sheriffs blotter for The Woodlands June   July  httpstcoSFxTrlpp",
         "_deepnote_index_column": 3999
        },
        {
         "clean_tweets": "Another peak at Pamella Roland resort gorgeous artistryus rickdiceccabeauty… httpstcoxosvCff",
         "_deepnote_index_column": 4000
        },
        {
         "clean_tweets": "An honor to be a part of witnessing Fayetteville making history at the  KISS NWA ribbon… httpstcoDE…",
         "_deepnote_index_column": 4001
        },
        {
         "clean_tweets": "Santa Clara Vanguard   Weber State University httpstcoMgPEjDcT",
         "_deepnote_index_column": 4002
        },
        {
         "clean_tweets": "Accident left lane blocked in Downtown on I NB at University Ave stopped traffic back to Langford P…",
         "_deepnote_index_column": 4003
        },
        {
         "clean_tweets": "Sad day  Warehouse HQ today saying goodbye to  of the greats nnYou lovely pair of fruit loops… http…",
         "_deepnote_index_column": 4004
        },
        {
         "clean_tweets": "anneteresadekeersmaeker tateshots chrisdercon inspiring and beautiful performance  Tate… httpstcodR…",
         "_deepnote_index_column": 4005
        },
        {
         "clean_tweets": "The Red Spotted Purple Butterfly gorgeous  Flying around our garden all morning … httpstcoEAdGpgqbL",
         "_deepnote_index_column": 4006
        },
        {
         "clean_tweets": "Can you recommend anyone for this job Assistant Mgr PTmaurices  httpstcoYRrtxvK Decatur IN Hiring h…",
         "_deepnote_index_column": 4007
        },
        {
         "clean_tweets": "Sure this is old golden hen rebranded for Indian restaurants Indian Runner Golden Ale httpstcoIHRJH…",
         "_deepnote_index_column": 4008
        },
        {
         "clean_tweets": "Im at OPERAÇÃO LATAM  TAM RESERVAS CONTAX in Joao Pessoa PARAÍBA httpstcoQEpoEVWvr",
         "_deepnote_index_column": 4009
        },
        {
         "clean_tweets": "SelfienRocky nBlackMouthCur ndogsofinstagram  Mount Juliet Tennessee httpstcoLglfFLnGP",
         "_deepnote_index_column": 4010
        },
        {
         "clean_tweets": "Im at   in   httpstcovraEacBtIE",
         "_deepnote_index_column": 4011
        },
        {
         "clean_tweets": "Coffee Shop Art woodennickels drewpanckeri  Red Hook Coffee and Tea httpstcoMyHcghQs",
         "_deepnote_index_column": 4012
        },
        {
         "clean_tweets": "Lets go to the beach nnbermudabloggers bermudablogger islandblogger bblogger lblogger… httpstcoLpoP…",
         "_deepnote_index_column": 4013
        },
        {
         "clean_tweets": "Want to work at Panera Bread Were hiring in Greenville NC Click for details httpstcoPbLIukrUkt Job …",
         "_deepnote_index_column": 4014
        },
        {
         "clean_tweets": "Im at Seksyen  in Shah Alam Selangor httpstcoBCwvdhis",
         "_deepnote_index_column": 4015
        },
        {
         "clean_tweets": "   httpstcouOWSrxHCI",
         "_deepnote_index_column": 4016
        },
        {
         "clean_tweets": "Im at Raiz in Manaus AM httpstcoWiKnqrYtq",
         "_deepnote_index_column": 4017
        },
        {
         "clean_tweets": "Interested in a job near  This could be a great fit httpstcoQabxuhU Hospitality Veterans Hiring Car…",
         "_deepnote_index_column": 4018
        },
        {
         "clean_tweets": "My baby is in LA I cant even believe this is happening for her nThank you to everyone that… httpstc…",
         "_deepnote_index_column": 4019
        },
        {
         "clean_tweets": "Want to work in Greenville SC View our latest opening httpstcoEDVrhEI Job Healthcare Jobs Hiring Ca…",
         "_deepnote_index_column": 4020
        },
        {
         "clean_tweets": "Want to work at dressbarn Were hiring in Ankeny IA Click for details httpstcodlWtQvPvXK Job Sales J…",
         "_deepnote_index_column": 4021
        },
        {
         "clean_tweets": "Were hiring Click to apply System Administrator  nd Shift  Arkansas Passport  httpstcoHlHKCax https…",
         "_deepnote_index_column": 4022
        },
        {
         "clean_tweets": "ikan bumbu pedas nnmaked  by  chef dera chan   Lasoani Atas  LA httpstcouuwAg",
         "_deepnote_index_column": 4023
        },
        {
         "clean_tweets": "Kicking it with Teamer and Family akaboule  Atlanta Marriott… httpstcoXgqIdQMGd",
         "_deepnote_index_column": 4024
        },
        {
         "clean_tweets": "Come Hang out with Bartender Thomas and myself in the mix   Spin  Tuesday httpstcoOwCOqmKir httpstc…",
         "_deepnote_index_column": 4025
        },
        {
         "clean_tweets": "Always love when people say hi Free yoga Free coffee Next is the chiculturcenter… httpstcoNZfdGlha",
         "_deepnote_index_column": 4026
        },
        {
         "clean_tweets": "Expert Appliance repair services near PointLoma httpstcoLfSs",
         "_deepnote_index_column": 4027
        },
        {
         "clean_tweets": "Dia de exames da veia Mamis Oftalmologista  Oftalmax Clinica e Cirurgia Ocular in Recife Pernambuco…",
         "_deepnote_index_column": 4028
        },
        {
         "clean_tweets": "Im at Banorte in Mexico City httpstcoAmWgAili",
         "_deepnote_index_column": 4029
        },
        {
         "clean_tweets": "Want to work at Flex Were hiring in ShanghaiZhangjiang Click for details httpstcoEbGMEALrJF Job Pur…",
         "_deepnote_index_column": 4030
        },
        {
         "clean_tweets": "At dr IG Nyoman Sudarmika WuaWua Farma — httpstcomBcfbPBgl",
         "_deepnote_index_column": 4031
        },
        {
         "clean_tweets": "See our latest Hartford CT job and click to apply Field Installations Technician  httpstcocwBoFh Gr…",
         "_deepnote_index_column": 4032
        },
        {
         "clean_tweets": "Snapchat case victim says she saw flashes didnt know someone was taking pictures of her wbz",
         "_deepnote_index_column": 4033
        },
        {
         "clean_tweets": "Join the Regions Bank team See our latest job opening here httpstcorIZKDauzz regions regionsbank St…",
         "_deepnote_index_column": 4034
        },
        {
         "clean_tweets": "Drinking a Traditional Lager by YuenglingBeer at applebees — httpstcolktZhiMki",
         "_deepnote_index_column": 4035
        },
        {
         "clean_tweets": "Can you recommend anyone for this job Food Scientist  Meat  httpstcoQIWFVUOka GeneralScience Glenvi…",
         "_deepnote_index_column": 4036
        },
        {
         "clean_tweets": "Bom dia sexta  BT Call Center in Curitiba PR httpstcoiozyQHaRsO",
         "_deepnote_index_column": 4037
        },
        {
         "clean_tweets": "Just posted a photo  Best Western Kuta Beach httpstcomvtErkQGf",
         "_deepnote_index_column": 4038
        },
        {
         "clean_tweets": "Interested in a job near Washington DC This could be a great fit httpstcoPZBZglsSU Hospitality Hiri…",
         "_deepnote_index_column": 4039
        },
        {
         "clean_tweets": "Join the Holiday Inn Express  Lewiston team See our latest job opening here httpstcoOzkhllOW Lewist…",
         "_deepnote_index_column": 4040
        },
        {
         "clean_tweets": "Come hear the fascinating stories you never knew about the life of NEIL DIAMOND from his… httpstcol…",
         "_deepnote_index_column": 4041
        },
        {
         "clean_tweets": "  Anthias Cafe httpstcoWtITLojyv",
         "_deepnote_index_column": 4042
        },
        {
         "clean_tweets": "thelegoladybot its not looking promising so far ",
         "_deepnote_index_column": 4043
        },
        {
         "clean_tweets": "See our latest NewYorkCity NY job and click to apply Senior Tax Manager  httpstcowLheVonu Accountin…",
         "_deepnote_index_column": 4044
        },
        {
         "clean_tweets": "motoweekend motorcycle motorbike truelove ducatimonster  Passo Del Vestito httpstcokNvQVt",
         "_deepnote_index_column": 4045
        },
        {
         "clean_tweets": "Im at Divine Mercy Chaplet Shrine in La Habra Calif httpstcoaCcgJXvX",
         "_deepnote_index_column": 4046
        },
        {
         "clean_tweets": "If youre looking for work in Bath NY check out this job httpstcoLTuzUAwC Nursing Veterans Hiring ht…",
         "_deepnote_index_column": 4047
        },
        {
         "clean_tweets": "Were hiring Read about our latest job opening here Shift Supervisor US  httpstcobpdDNmgvji  WILLOW …",
         "_deepnote_index_column": 4048
        },
        {
         "clean_tweets": "Again  King Faisal Specialist Hospital KFSHRC in Riyadh Ar Riyāḑ httpstcomkuorFV",
         "_deepnote_index_column": 4049
        },
        {
         "clean_tweets": "sisters sis reflex mare family sea seaside beach water aryblue beach sun nature… httpstcoAhGYyuQt",
         "_deepnote_index_column": 4050
        },
        {
         "clean_tweets": "Blessed seasons form blessed fish Upon gathering replenish under i called make him Let he",
         "_deepnote_index_column": 4051
        },
        {
         "clean_tweets": "  cat   httpstcoXuDiyQMeK",
         "_deepnote_index_column": 4052
        },
        {
         "clean_tweets": "Want to work in Cooperstown NY View our latest opening httpstcouRfocJBB Job Nursing Jobs Hiring htt…",
         "_deepnote_index_column": 4053
        },
        {
         "clean_tweets": "Want to work in Hicksville NY View our latest opening httpstcoMqduRoQl Job Retail Jobs Hiring Caree…",
         "_deepnote_index_column": 4054
        },
        {
         "clean_tweets": "Can you recommend anyone for this job Shift Supervisor US  httpstconrbzgpBvcA Hospitality Veterans …",
         "_deepnote_index_column": 4055
        },
        {
         "clean_tweets": "Im at TheDubaiMall in Dubai httpstcoIWUodu",
         "_deepnote_index_column": 4056
        },
        {
         "clean_tweets": "Drinking a Stone IPA by StoneBrewingCo at teosolobirra — httpstcoNZPCnfCE",
         "_deepnote_index_column": 4057
        },
        {
         "clean_tweets": "Im at Limonlu Sahili in Erdemli Mersin httpstcoegbXNWQC",
         "_deepnote_index_column": 4058
        },
        {
         "clean_tweets": "Graffiti Tracking  Echo Ave Bakersfield",
         "_deepnote_index_column": 4059
        },
        {
         "clean_tweets": "Drinking a Pilsner by bomberbrewing at biercraft — httpstcoWXrAuOaFC",
         "_deepnote_index_column": 4060
        },
        {
         "clean_tweets": "After Practice BLUSEnn  Khanapara Field httpstcoFBaAxlKTF",
         "_deepnote_index_column": 4061
        },
        {
         "clean_tweets": "Im at Vizor Ortopedi httpstcoPvAfAlhn",
         "_deepnote_index_column": 4062
        },
        {
         "clean_tweets": "Perfect spot for a little Romani camp complete with local residents… httpstcooNubzJqNEF",
         "_deepnote_index_column": 4063
        },
        {
         "clean_tweets": "I love capturing the sunsets after a day of rains  Walter Hall Park httpstcoarQpIFnc",
         "_deepnote_index_column": 4064
        },
        {
         "clean_tweets": "     httpstcoEuONTOZh",
         "_deepnote_index_column": 4065
        },
        {
         "clean_tweets": "Going live in just under twenty minutes for todays Thoughtful Thursday broadcast of… httpstcoFQNPNf…",
         "_deepnote_index_column": 4066
        },
        {
         "clean_tweets": "art from the heart  Feeling the love  in   Bad Griesbach Therme httpstcoBMUgtakUi",
         "_deepnote_index_column": 4067
        },
        {
         "clean_tweets": " people could have seen Ankara Valiliği since its st mention until it became a Trending Topic trndnl",
         "_deepnote_index_column": 4068
        },
        {
         "clean_tweets": "Im at Buyuk Kulup Cafe Dorient in Istanbul httpstcoGqYzqAvFAy",
         "_deepnote_index_column": 4069
        },
        {
         "clean_tweets": "Accident in PennHills on Beulah Rd EB at Melvin Ct traffic httpstcoSLOqniwpZ",
         "_deepnote_index_column": 4070
        },
        {
         "clean_tweets": "So blessed to have met this pup   Arizona State University West… httpstcolNuyjooft",
         "_deepnote_index_column": 4071
        },
        {
         "clean_tweets": "Look Danny Arnold is leading the underwear run through Main Street lakeplacid lakeplacidadk … https…",
         "_deepnote_index_column": 4072
        },
        {
         "clean_tweets": "Im at Crystal Pub w wxhuii httpstcoerVUbZPnY",
         "_deepnote_index_column": 4073
        },
        {
         "clean_tweets": "Paz   Orla Beira Mar Fortaleza Ce httpstcoVEehDw",
         "_deepnote_index_column": 4074
        },
        {
         "clean_tweets": " Take Cover Severe Thunderstorm Warning including Hutchinson MN and Glencoe MN until  PM CDT httpst…",
         "_deepnote_index_column": 4075
        },
        {
         "clean_tweets": "Rolled ice cream belowicecream   below Ice Cream httpstcoSQVGufLktw",
         "_deepnote_index_column": 4076
        },
        {
         "clean_tweets": "Hakot awards again please PushAwardsKathNiels",
         "_deepnote_index_column": 4077
        },
        {
         "clean_tweets": "Were hiring Read about our latest job opening here Store Counter Sales  httpstcoxIOMMQn Sales OCALA…",
         "_deepnote_index_column": 4078
        },
        {
         "clean_tweets": "Were hiring Click to apply Sr Network Systems Administrator  httpstcobpfaGShkV Job IT Wilsonville O…",
         "_deepnote_index_column": 4079
        },
        {
         "clean_tweets": "One wrong move bird…roasted pidgey Costco bayarea richmond albany pokemongo  Costco httpstcoNPaRMhpD",
         "_deepnote_index_column": 4080
        },
        {
         "clean_tweets": "lovelpevilregal Remember when we met in hollywood at fredsegal when you got my original gold… https…",
         "_deepnote_index_column": 4081
        },
        {
         "clean_tweets": "Im at Arts District CoOp in Los Angeles Calif httpstcoBQIInmel",
         "_deepnote_index_column": 4082
        },
        {
         "clean_tweets": " ℃n℃n sakai  httpstcoEjLpIyPq",
         "_deepnote_index_column": 4083
        },
        {
         "clean_tweets": "Abelha cachorra no chão  Sao Jacinto  Cabo Frio httpstcoXFFCVbOfOx",
         "_deepnote_index_column": 4084
        },
        {
         "clean_tweets": "Look at the sushi and the fishso fresh and tempting happyseafood schipholairport… httpstcoLfCOVNyqy",
         "_deepnote_index_column": 4085
        },
        {
         "clean_tweets": "Join the Macys Retail team See our latest job opening here httpstcosdvIoaBI Retail SanJose CA Hirin…",
         "_deepnote_index_column": 4086
        },
        {
         "clean_tweets": "    httpstcogvcNAmz",
         "_deepnote_index_column": 4087
        },
        {
         "clean_tweets": "summersale online and instore   Indigo amp Cloth httpstcofHKoIzJ",
         "_deepnote_index_column": 4088
        },
        {
         "clean_tweets": "Im at Denver International Airport  denairport in Denver CO httpstcoRHRJCbQHsc",
         "_deepnote_index_column": 4089
        },
        {
         "clean_tweets": "This job might be a great fit for you Supervisor Legends at Sparks NV  httpstcoLbrGetVh Retail Spar…",
         "_deepnote_index_column": 4090
        },
        {
         "clean_tweets": "Just posted a photo  Bertioga Sao Paulo Brazil httpstcoJCFBMC",
         "_deepnote_index_column": 4091
        },
        {
         "clean_tweets": "Drinking a White Rascal by AveryBrewingCo at kraftworkbar — httpstcobrxveJeWvh",
         "_deepnote_index_column": 4092
        },
        {
         "clean_tweets": "Can you recommend anyone for this job httpstcovUcHxebPy Banking NUTLEY NJ Hiring CareerArc",
         "_deepnote_index_column": 4093
        },
        {
         "clean_tweets": "Love these pictures from the beach two years ago  On The Beach … httpstcoqyKdVLQb",
         "_deepnote_index_column": 4094
        },
        {
         "clean_tweets": "Whisky is sunlight held together by water Happy National Scotch Day whisky scotch… httpstcoNUIsYLeY",
         "_deepnote_index_column": 4095
        },
        {
         "clean_tweets": "Im at Universiti Tunku Abdul Rahman UTAR  utarnet in Kajang Selangor httpstcoAspYTTvWk",
         "_deepnote_index_column": 4096
        },
        {
         "clean_tweets": "vibes  karlynw  CAFÉ MEDI httpstcokmKJRIUUm",
         "_deepnote_index_column": 4097
        },
        {
         "clean_tweets": "Im at SunwayPyramid in Petaling Jaya Selangor w maisarahreza kaeshen httpstcoKowXhgvwy",
         "_deepnote_index_column": 4098
        },
        {
         "clean_tweets": "Part  of my friends beautiful traveling pictures nnPhoto credit  dominiricanlife  Marine… httpstcoY…",
         "_deepnote_index_column": 4099
        },
        {
         "clean_tweets": "Hasan  Elma Pub amp Beercity in Beşiktaş Istanbul w erdiarkutcu httpstcoGtUXQJqtB",
         "_deepnote_index_column": 4100
        },
        {
         "clean_tweets": "HiltonSuggests SamLDonaldson Is it swimming weather as August starts surely  Corte Madera or down t…",
         "_deepnote_index_column": 4101
        },
        {
         "clean_tweets": "Were hiring Click to apply Medical Compliance Auditor  Health Plan  httpstcoqKoGoJhLA Job Nursing H…",
         "_deepnote_index_column": 4102
        },
        {
         "clean_tweets": "My new home  vscocam vsco happymoments summer july yucatan méxico trip inlove … httpstcodhVygvZf",
         "_deepnote_index_column": 4103
        },
        {
         "clean_tweets": "Im at  in   httpstcoqyOAlQdbj",
         "_deepnote_index_column": 4104
        },
        {
         "clean_tweets": "A wild Fearow appeared at  Clark Way Only  minutes left PokemonGo Stanford httpstcorItNabbb",
         "_deepnote_index_column": 4105
        },
        {
         "clean_tweets": "I just finished running  km in ms with Endomondo endorphins httpstcolWyIdIj",
         "_deepnote_index_column": 4106
        },
        {
         "clean_tweets": "ready to take on the sfmarathon  San Francisco California httpstcoaxXeYbOj",
         "_deepnote_index_column": 4107
        },
        {
         "clean_tweets": "Im at    sukiyacp in Nagoyashi  httpstcoNYzzwHnvBP",
         "_deepnote_index_column": 4108
        },
        {
         "clean_tweets": "Im at Tops Market in Sathon Bangkok httpstcocTqgMbOziw",
         "_deepnote_index_column": 4109
        },
        {
         "clean_tweets": "temperature down °F gt °Fnhumidity up  gt nwind mph gt mph",
         "_deepnote_index_column": 4110
        },
        {
         "clean_tweets": "We all got the gene for peanut butter obsession CousinLove   Akron Ohio httpstcoQhtzEctBW",
         "_deepnote_index_column": 4111
        },
        {
         "clean_tweets": " Sunday July  nn∘nHope you all are having an… httpstcohDZjNhd",
         "_deepnote_index_column": 4112
        },
        {
         "clean_tweets": " places to celebrate shavedicesundayn• at imogenewillie w BaoDownTNn• at… httpstcoKTHnosHW",
         "_deepnote_index_column": 4113
        },
        {
         "clean_tweets": "lushbandofficial newcastle timessquare  Live from Times Square httpstcoWqlaHVysg",
         "_deepnote_index_column": 4114
        },
        {
         "clean_tweets": "Lol  Department of civil engineering httpstcoeKhCQIyKzJ",
         "_deepnote_index_column": 4115
        },
        {
         "clean_tweets": "Im at   in   httpstcogPReRJwD",
         "_deepnote_index_column": 4116
        },
        {
         "clean_tweets": " watts httpstcoHRLFCwFuDf",
         "_deepnote_index_column": 4117
        },
        {
         "clean_tweets": "jamuelscones Christ keep well clearnnThough normally the alcohol will kill the bugs its why beer be…",
         "_deepnote_index_column": 4118
        },
        {
         "clean_tweets": "This job might be a great fit for you Emergency Medicine  EM Physician  httpstcoFfLyuJLsy Emergency…",
         "_deepnote_index_column": 4119
        },
        {
         "clean_tweets": "this is always happening  Museum of Fine Arts Boston httpstcoqXdMV",
         "_deepnote_index_column": 4120
        },
        {
         "clean_tweets": " Positive Energy   Jakarta Indonesia httpstcoxkTwB",
         "_deepnote_index_column": 4121
        },
        {
         "clean_tweets": "Im at  in   httpstcomFDlZdx",
         "_deepnote_index_column": 4122
        },
        {
         "clean_tweets": "Interested in a job near Pittsburgh PA This could be a great fit httpstcorLlDQzRdK Retail Hiring",
         "_deepnote_index_column": 4123
        },
        {
         "clean_tweets": "Monthly DPA Meeting with OSH highlights Wayne  Republic Airport in Farmingdale NY httpstcouQRwsg",
         "_deepnote_index_column": 4124
        },
        {
         "clean_tweets": "rafal AuthenticDane wildernerd This could totally be from a park no httpstcoLOCgHCvP",
         "_deepnote_index_column": 4125
        },
        {
         "clean_tweets": "Bagaimana uas lisan bahasa… w Muhammad Rijha Sakinah amp  others at Universitas Maritim Raja Ali Ha…",
         "_deepnote_index_column": 4126
        },
        {
         "clean_tweets": "Eh Mfundisi Ayanda Deejaying at the Beach Uzalo",
         "_deepnote_index_column": 4127
        },
        {
         "clean_tweets": "Check out our listing in Hickory KY httpstcoWpGMsQupC realestate realtor httpstcooCztRdRXG",
         "_deepnote_index_column": 4128
        },
        {
         "clean_tweets": "Nongki Pasisiang nselfie me instalike insatagram likeforlike likelike nongki… httpstcoIjEyiYODu",
         "_deepnote_index_column": 4129
        },
        {
         "clean_tweets": "Im at Seri Market in Prawet Bangkok httpstcoSiDbUWHxQz",
         "_deepnote_index_column": 4130
        },
        {
         "clean_tweets": "Want to work at Macys Retail Were hiring in Warwick RI Click for details httpstcodOCPvilH Job Finan…",
         "_deepnote_index_column": 4131
        },
        {
         "clean_tweets": "Im at Sushi King in Kuching Sarawak httpstcorQyqEYkJy",
         "_deepnote_index_column": 4132
        },
        {
         "clean_tweets": "Im at Hanbing Korean Dessert Cafe  Subang Courtyard w chunleng httpstcovpBlWmVjJ",
         "_deepnote_index_column": 4133
        },
        {
         "clean_tweets": "Im at Ordu in Ordu Türkiye httpstconBjHkOXI",
         "_deepnote_index_column": 4134
        },
        {
         "clean_tweets": "Ed Jake an JD newhaircut lookinggood beautifulsons cutekidsofinstagram happymomma xxx … httpstcoIrH…",
         "_deepnote_index_column": 4135
        },
        {
         "clean_tweets": "Accident cleared in HudsonRiverCrossingsGwbLowerUnderTheApartments on The GWB Lower Level NB betwee…",
         "_deepnote_index_column": 4136
        },
        {
         "clean_tweets": "Im at Hayal Kahvesi in Adana Türkiye w ablakalican httpstcoSrnGYyia",
         "_deepnote_index_column": 4137
        },
        {
         "clean_tweets": "This dude is killing me Love him  Point State Park httpstcoVYgWnXd",
         "_deepnote_index_column": 4138
        },
        {
         "clean_tweets": "See our latest job and click to apply Barista US  httpstcodBfcxGWg Hospitality Veterans Hiring Care…",
         "_deepnote_index_column": 4139
        },
        {
         "clean_tweets": "hfffftttt at Pondok titan — httpstcoUAoqvlqd",
         "_deepnote_index_column": 4140
        },
        {
         "clean_tweets": "Got the Whole Bethal Down filled with these AsnGetYourSwaggOnTonightnWe out at… httpstcoiXQXUbavl",
         "_deepnote_index_column": 4141
        },
        {
         "clean_tweets": "Great night   Slate  The Row in Kuala Lumpur w thejayleong johnathanyjj httpstcohyoyfWN",
         "_deepnote_index_column": 4142
        },
        {
         "clean_tweets": "Watching Suicide Squad at cinema — httpstcoVIzNVUVVu",
         "_deepnote_index_column": 4143
        },
        {
         "clean_tweets": "Shopping day with mommy  at PaseoSanPedro in San Pedro Garza García NL httpstcoURsBCHKZfb",
         "_deepnote_index_column": 4144
        },
        {
         "clean_tweets": "Can you recommend anyone for this job httpstcozmRVIiBDF IT StLouis MO Hiring",
         "_deepnote_index_column": 4145
        },
        {
         "clean_tweets": "Im at Altınkum Plajı in Edremit Balıkesir Balıkesir httpstcoPWNTNJz",
         "_deepnote_index_column": 4146
        },
        {
         "clean_tweets": "Im at  in Koto  httpstcoqskilmuhK",
         "_deepnote_index_column": 4147
        },
        {
         "clean_tweets": "Back to it tomorrow  Trail Ridge Middle School httpstcohucboaxmP",
         "_deepnote_index_column": 4148
        },
        {
         "clean_tweets": "gigilevangie cant let me watch the game quietly  Cooperstown All Star Village httpstcobuNOfzMjp",
         "_deepnote_index_column": 4149
        },
        {
         "clean_tweets": "Roll tide Bama  Mobile Regional Airport in Mobile AL httpstcoeQyKKfFjJ",
         "_deepnote_index_column": 4150
        },
        {
         "clean_tweets": "Yup RT DreEastwood OVERRATED  httpstcohhAoUbshc",
         "_deepnote_index_column": 4151
        },
        {
         "clean_tweets": "Playing with wave sensitive androwave LED lights Check our website for full range  Buller httpstcol…",
         "_deepnote_index_column": 4152
        },
        {
         "clean_tweets": "Can you recommend anyone for this job Ecommerce Human Resources Manager  httpstcoeJiuAzqbGh HR Seat…",
         "_deepnote_index_column": 4153
        },
        {
         "clean_tweets": "Greenniloveit lovenature terranaturamurcia terranatura instagreen instalike green… httpstcoFaxFWasXg",
         "_deepnote_index_column": 4154
        },
        {
         "clean_tweets": "Want to work at Robert Half Finance amp Accounting Were hiring in Inglewood CA Click for details ht…",
         "_deepnote_index_column": 4155
        },
        {
         "clean_tweets": "Left Hand Rye On The Prize now available in bottles httpstcoNTxvmbxAhW lefthandbrewing BeerMenus",
         "_deepnote_index_column": 4156
        },
        {
         "clean_tweets": "current weather in Willowbrook clear sky °Fn humidity wind mph pressure mb",
         "_deepnote_index_column": 4157
        },
        {
         "clean_tweets": "If youre looking for work in Westport CT check out this job httpstcoxeAKrDr stepintoourshoes Retail…",
         "_deepnote_index_column": 4158
        },
        {
         "clean_tweets": "Im at  İstanbul in İstanbul Türkiye httpstcokEVoYVCCM",
         "_deepnote_index_column": 4159
        },
        {
         "clean_tweets": "FireAlarm Collins St Docklands Responding  Appliances Timeline httpstcoVtwIwMj httpstcoNabZILW",
         "_deepnote_index_column": 4160
        },
        {
         "clean_tweets": "Just posted a photo  Lake Shenandoah County Park httpstcoLRuhllrGM",
         "_deepnote_index_column": 4161
        },
        {
         "clean_tweets": "Interested in a job near LosAngeles CA This could be a great fit httpstcoHwZxdUPPJ Hospitality Hiri…",
         "_deepnote_index_column": 4162
        },
        {
         "clean_tweets": "At ShimoOtai Station  — httpstcopSYfltUVtP",
         "_deepnote_index_column": 4163
        },
        {
         "clean_tweets": "SteamController ValveCorporation BellevueWA  Valve Software Corporation httpstcoMJTFNdADk",
         "_deepnote_index_column": 4164
        },
        {
         "clean_tweets": "Nothing beats our white beaches  … httpstcouPMlVRJS",
         "_deepnote_index_column": 4165
        },
        {
         "clean_tweets": "Excuse my nails  Pasay City Philippines httpstcoxQumqK",
         "_deepnote_index_column": 4166
        },
        {
         "clean_tweets": "birthday celebrations at hostel thanks a lot guys  I I T T… httpstcoGTyBOxXuU",
         "_deepnote_index_column": 4167
        },
        {
         "clean_tweets": "Here again for bfast    in  httpstcokXXBIYqcV",
         "_deepnote_index_column": 4168
        },
        {
         "clean_tweets": "budweiser fridaynight happy  CR House Bar httpstcosmJbJQG",
         "_deepnote_index_column": 4169
        },
        {
         "clean_tweets": "     twrofficial in   httpstcohdScsSqwz httpstcokVVEEU",
         "_deepnote_index_column": 4170
        },
        {
         "clean_tweets": "Rather Be by Clean Bandit Featuring Jess Glynne is nowplaying in Collector Hotel Parramatta",
         "_deepnote_index_column": 4171
        },
        {
         "clean_tweets": "Surely the castle would be a no fly zone but I assume britishairwaysunitedkingdom has a… httpstcozw…",
         "_deepnote_index_column": 4172
        },
        {
         "clean_tweets": "See our latest job and click to apply Shift Supervisor US  httpstcoJLWccsL Hospitality Veterans Hir…",
         "_deepnote_index_column": 4173
        },
        {
         "clean_tweets": "Just posted a photo  Musée Dali Figueras httpstcoWjIzqMbK",
         "_deepnote_index_column": 4174
        },
        {
         "clean_tweets": "  Putri House httpstcovJjEhHWIsQ",
         "_deepnote_index_column": 4175
        },
        {
         "clean_tweets": "Its time for another openhouse Drop by  Imogene Crescent today from pm royallepage… httpstcoqZxdFPp…",
         "_deepnote_index_column": 4176
        },
        {
         "clean_tweets": "The Dynamic Duo at it again gatorsdockside in Julington Creek Come out amp show some love… httpstco…",
         "_deepnote_index_column": 4177
        },
        {
         "clean_tweets": "Im at Sanduiche vila  httpstcoGbFUPvsV",
         "_deepnote_index_column": 4178
        },
        {
         "clean_tweets": "GuidingnGuatemala outdoor photography architecture trip hiking camping lifestyle… httpstcoYUysKxfUa",
         "_deepnote_index_column": 4179
        },
        {
         "clean_tweets": "This job might be a great fit for you Full Time Store Associate  Sperry  httpstcoApiBMLxR Retail In…",
         "_deepnote_index_column": 4180
        },
        {
         "clean_tweets": "Im at KTM Line  Shah Alam Station KD  ktmkomuter in Shah Alam Selangor httpstcoXqvYGGFAV",
         "_deepnote_index_column": 4181
        },
        {
         "clean_tweets": "Wind  mph NEnBarometer  mb FallingnTemperature  CnRain today  mmnHumidity  nClacton Weathernhttpstc…",
         "_deepnote_index_column": 4182
        },
        {
         "clean_tweets": "Were hiring Read about our latest job opening here Cook  httpstcoXsKsgSDb Hospitality Mauriceville …",
         "_deepnote_index_column": 4183
        },
        {
         "clean_tweets": "Im at izumoden in   httpstcokCgzAWUZH",
         "_deepnote_index_column": 4184
        },
        {
         "clean_tweets": "current weather in Gizeh clear sky °Cn humidity wind kmh pressure mb",
         "_deepnote_index_column": 4185
        },
        {
         "clean_tweets": "Hats off for having Keep It Like a Secret by Built To Spill be the soundtrack to my httpstcoXUlIRgU…",
         "_deepnote_index_column": 4186
        },
        {
         "clean_tweets": "Omg best httpstcorEXAvbG",
         "_deepnote_index_column": 4187
        },
        {
         "clean_tweets": "Im at   in   httpstcoUIGaVk",
         "_deepnote_index_column": 4188
        },
        {
         "clean_tweets": "weatherhutton essex Fine weather Temp °C Humid  Wind mph ENE Baro  hPa Steady Rain Today mm",
         "_deepnote_index_column": 4189
        },
        {
         "clean_tweets": "Im at  in   httpstconlzTZNce",
         "_deepnote_index_column": 4190
        },
        {
         "clean_tweets": "The best family to be apart of Join us on the weekends  Studentlife NW httpstcowNPWyGVcT",
         "_deepnote_index_column": 4191
        },
        {
         "clean_tweets": "Throwback to Svalbard photo nnWhile its a bit quiet for me and earning cash for my next… httpstcozm…",
         "_deepnote_index_column": 4192
        },
        {
         "clean_tweets": "Im at Taksim in Beyoğlu Istanbul httpstcoDmZZcvUdKq",
         "_deepnote_index_column": 4193
        },
        {
         "clean_tweets": "Now to end the work day with a little music TodayInNashville shanklesandrew greenfleet … httpstcoXq…",
         "_deepnote_index_column": 4194
        },
        {
         "clean_tweets": "BarbraStreisand themusicthememriesthemagic from Brooklyn  August    banter Barbra… httpstcoRripfgc",
         "_deepnote_index_column": 4195
        },
        {
         "clean_tweets": "Were hiring Read about our latest job opening here RN Registered Nurse  Med  httpstcoVkBfEHkcR http…",
         "_deepnote_index_column": 4196
        },
        {
         "clean_tweets": "Im at Des Moines International Airport DSM  dsmairport in Des Moines IA httpstcoNObVmXXST",
         "_deepnote_index_column": 4197
        },
        {
         "clean_tweets": "Say uncle  Mike Archerporter  FQ Story Historic Neighborhood httpstcoeCtDuZwe",
         "_deepnote_index_column": 4198
        },
        {
         "clean_tweets": "  City of San Carlos httpstcoMuFlvijQJ",
         "_deepnote_index_column": 4199
        },
        {
         "clean_tweets": "Im at   in   httpstcoWWHgeTmJ",
         "_deepnote_index_column": 4200
        },
        {
         "clean_tweets": "Im at  Yıl Parkı in Ankara Türkiye httpstcoGQEHygk",
         "_deepnote_index_column": 4201
        },
        {
         "clean_tweets": "Interested in a job near Louisville KY This could be a great fit httpstcoGbGgiEX dialysis Healthcar…",
         "_deepnote_index_column": 4202
        },
        {
         "clean_tweets": "littlebigtown usbankstadium lukebryan  US Bank Stadium httpstcokFtCjDKT",
         "_deepnote_index_column": 4203
        },
        {
         "clean_tweets": "Tennessee  usa summer summer summer like happy friends… httpstcoLXuMEwAM",
         "_deepnote_index_column": 4204
        },
        {
         "clean_tweets": "Congratulations to our BEAUTIFUL bride Kayli We are rockin out brides amp bridesmaids all day… http…",
         "_deepnote_index_column": 4205
        },
        {
         "clean_tweets": "Such a wonderful gathering theorchard at our last weekend at this site gloriadei paxdeo… httpstcoSJ…",
         "_deepnote_index_column": 4206
        },
        {
         "clean_tweets": "Im at   in   httpstcoJCBQDXmM",
         "_deepnote_index_column": 4207
        },
        {
         "clean_tweets": "I had a blast in AsiaNow Im back on road nCc coreytstokes ThaFitnessGuru PaceforSuccess… httpstcoHb…",
         "_deepnote_index_column": 4208
        },
        {
         "clean_tweets": "Im at Point Pleasant Manor  ptpleasantmanor in Point Pleasant Beach NJ httpstcoelDBqUQ",
         "_deepnote_index_column": 4209
        },
        {
         "clean_tweets": "  Feria De Malaga httpstcoEJFldWA",
         "_deepnote_index_column": 4210
        },
        {
         "clean_tweets": "Opened Illegal Parking report via iphone at  Chestnut St httpstcoTyigow httpstcoRfdCyKRKx",
         "_deepnote_index_column": 4211
        },
        {
         "clean_tweets": "Im at   in   httpstcozpbuSRDvR",
         "_deepnote_index_column": 4212
        },
        {
         "clean_tweets": "FLAWLESS   Playa La Manga Del Mar Menor httpstcopPcNvjB",
         "_deepnote_index_column": 4213
        },
        {
         "clean_tweets": "Heladeandoo  Amandau httpstcotcOgly",
         "_deepnote_index_column": 4214
        },
        {
         "clean_tweets": "n   httpstcoPQPaUbLY",
         "_deepnote_index_column": 4215
        },
        {
         "clean_tweets": " Lunch at Polpo in Soho A mezze of goodies lunch Italian tapas summer europe london… httpstcoyKcDEw…",
         "_deepnote_index_column": 4216
        },
        {
         "clean_tweets": "Im at Gabrielas House in Agronômica Santa Catarina httpstcoYdvarbrq",
         "_deepnote_index_column": 4217
        },
        {
         "clean_tweets": "Im at Londrina Lanches in Ipanema PR httpstcoSRZQvumBCf",
         "_deepnote_index_column": 4218
        },
        {
         "clean_tweets": "Icecreamfuninthesun summersouthsea SouthCoast  Clarence Pier httpstcoZSFzEFHv",
         "_deepnote_index_column": 4219
        },
        {
         "clean_tweets": " with Mutia Vallery and Ivana at warunkupnormal — httpstcoueBistAK",
         "_deepnote_index_column": 4220
        },
        {
         "clean_tweets": "mist gt sky is clearntemperature up °F gt °Fnhumidity down  gt nwind mph gt mph",
         "_deepnote_index_column": 4221
        },
        {
         "clean_tweets": "Red eyes dont seem too bad when you get to eat breakfast here  Boston Common Duck Pond httpstcoYzYf…",
         "_deepnote_index_column": 4222
        },
        {
         "clean_tweets": "Timeless Fashion By hamletsvintage manhattan moda fashion collection colorful vintage… httpstcoNStT…",
         "_deepnote_index_column": 4223
        },
        {
         "clean_tweets": "Im at  in Aydın Efeler httpstcoCxfTmqElJt",
         "_deepnote_index_column": 4224
        },
        {
         "clean_tweets": "Want to work in  View our latest opening httpstconOHNZIZCE Job Hospitality Veterans Jobs Hiring Car…",
         "_deepnote_index_column": 4225
        },
        {
         "clean_tweets": "Im at Ice Skating Rink in Kuwait City Kuwait w freakyq httpstcoIMPQscEOh",
         "_deepnote_index_column": 4226
        },
        {
         "clean_tweets": "I love this town  ATLAtlanta nAwesome view from denisepricetoos new home   Jackson… httpstcohZoFZYw",
         "_deepnote_index_column": 4227
        },
        {
         "clean_tweets": "Im at  in   httpstcotZJZoKPlG",
         "_deepnote_index_column": 4228
        },
        {
         "clean_tweets": "NEW PRODUCT ALERT we have new bath bombs and bodyfacial soap all available in different yummy… http…",
         "_deepnote_index_column": 4229
        },
        {
         "clean_tweets": "Can you recommend anyone for this job httpstcoGAGYOB Hospitality Stevenson WA Hiring",
         "_deepnote_index_column": 4230
        },
        {
         "clean_tweets": "Want to work in Springfield MO View our latest opening httpstcoERDDRejM Job Jobs Hiring",
         "_deepnote_index_column": 4231
        },
        {
         "clean_tweets": "This job might be a great fit for you Director of Major Gifts  httpstcoTHvncRNO Chicago IL Veterans…",
         "_deepnote_index_column": 4232
        },
        {
         "clean_tweets": "Im at Star AVM in Yalova Türkiye httpstcoJwPrcMN",
         "_deepnote_index_column": 4233
        },
        {
         "clean_tweets": "Ciao for now montauk  Ill be teaching the swervesixty in midtown tomorrow but back on the… httpstco…",
         "_deepnote_index_column": 4234
        },
        {
         "clean_tweets": "What to do on a hot summer day at the beach Take a swim of course adorbz yellowlab… httpstcoPLtoHMgG",
         "_deepnote_index_column": 4235
        },
        {
         "clean_tweets": "birthdaycake mom love cherish  Romanos Macaroni Grill  Dulles httpstcocoQbtbZWs",
         "_deepnote_index_column": 4236
        },
        {
         "clean_tweets": "Unexpected reunions are the best bestfriends longdistancebestfriends  Taguig Philippines httpstcoFP…",
         "_deepnote_index_column": 4237
        },
        {
         "clean_tweets": "brothers from another mother  Justin Mehall Memorial Soccer Field httpstcoSASDpapN",
         "_deepnote_index_column": 4238
        },
        {
         "clean_tweets": "Were hiring Read about our latest job opening here REGISTERED NURSE  httpstcoYrKrzdTCs Nursing Anna…",
         "_deepnote_index_column": 4239
        },
        {
         "clean_tweets": "Im at Çenedağı  Zirve in İzmit Kocaeli w serhattmuratt muhammedmalo httpstcoXyaFMNnRUr",
         "_deepnote_index_column": 4240
        },
        {
         "clean_tweets": "Interested in a job near FRANKLIN OH This could be a great fit httpstcoceFmNulx Retail Hiring Caree…",
         "_deepnote_index_column": 4241
        },
        {
         "clean_tweets": "With Dimaz  at Legian beach festival pic — httpstcoFIEZmqrEa",
         "_deepnote_index_column": 4242
        },
        {
         "clean_tweets": "Look at these handsome boys firstdayofschool wherehasthetimegone  Manchester Elementary httpstcoUJq…",
         "_deepnote_index_column": 4243
        },
        {
         "clean_tweets": "Reading   Reading Festival Main Stage httpstcoSJbiYPZ",
         "_deepnote_index_column": 4244
        },
        {
         "clean_tweets": "Im at TheBistroBl httpstcoAsaHItgu",
         "_deepnote_index_column": 4245
        },
        {
         "clean_tweets": "Abang KO dekbutuh pijit  at Gedung Nusantara II pic — httpstcoaqYNEWrqb",
         "_deepnote_index_column": 4246
        },
        {
         "clean_tweets": "Chesham man retires after  years of service to education httpstcogQOmSgbVUG Bucks httpstcorGcnqsP",
         "_deepnote_index_column": 4247
        },
        {
         "clean_tweets": "Can you recommend anyone for this job in Irving TX httpstcovluPqcn Nursing Hiring httpstcoOhgBwlWFcN",
         "_deepnote_index_column": 4248
        },
        {
         "clean_tweets": "Sometimes humpday requires extra coffee  RobotTheDog is all smiles amp caffeine free on… httpstcoOO…",
         "_deepnote_index_column": 4249
        },
        {
         "clean_tweets": "veryselectivesocialcircle   Rittenhouse Square httpstcowfqvAPZs",
         "_deepnote_index_column": 4250
        },
        {
         "clean_tweets": "Todays member happy hour hosted by BLANKSPACES In the photo  George is demoing bailiwik to… httpstc…",
         "_deepnote_index_column": 4251
        },
        {
         "clean_tweets": "I Hope You Dance by Ronan Keating is nowplaying in The Beacon Hotel",
         "_deepnote_index_column": 4252
        },
        {
         "clean_tweets": "Im at Julinhas house in Jaguarão RS httpstcorcNeqRaNrD",
         "_deepnote_index_column": 4253
        },
        {
         "clean_tweets": " cmpphoto nsummer summerseries baewatch lifeguardonduty beach myrtle bikini… httpstcoDbflNCnE",
         "_deepnote_index_column": 4254
        },
        {
         "clean_tweets": "Im at Pcghs Blok Utama httpstcoLlAjyyr",
         "_deepnote_index_column": 4255
        },
        {
         "clean_tweets": "mom and dad  University of Kentucky httpstcoYzMxQhilm",
         "_deepnote_index_column": 4256
        },
        {
         "clean_tweets": "Im at M Café in Makati City Metro Manila httpstcoHQmEHANHK",
         "_deepnote_index_column": 4257
        },
        {
         "clean_tweets": "Im at Lavazza  bestcoffeeshop in İstanbul Türkiye w uyrdlr httpstcoPrpayUAUc",
         "_deepnote_index_column": 4258
        },
        {
         "clean_tweets": "Offramp closed in Edina on Crosstown Hwy WB at Lyndale Ave traffic httpstcocYOdRRKz",
         "_deepnote_index_column": 4259
        },
        {
         "clean_tweets": "  Sakit Hati by Yovie amp Nuno at Banjir Kanal Barat — httpstcotdTvxALpOG",
         "_deepnote_index_column": 4260
        },
        {
         "clean_tweets": "Wine festival drunk  My Wines Gibraltar Ltd httpstcogbtfvpMX",
         "_deepnote_index_column": 4261
        },
        {
         "clean_tweets": "Were hiring Click to apply CNC MACHINIST  httpstcoAVdYcULaC Job SkilledTrade Moorpark CA Jobs Caree…",
         "_deepnote_index_column": 4262
        },
        {
         "clean_tweets": "Local Weather   nTemp  ºC Current WindGust    mph WindSWnRainfall today  Baro amp Falling",
         "_deepnote_index_column": 4263
        },
        {
         "clean_tweets": "Em jom laa masuk kedai tu nak tengok jee   Lavender Garden Cameron Highlands httpstcoZtLOgdp",
         "_deepnote_index_column": 4264
        },
        {
         "clean_tweets": "Labor Day go  Up on the Roof httpstcoMLBbFPMGCa",
         "_deepnote_index_column": 4265
        },
        {
         "clean_tweets": "Im at San Fernando Pampanga httpstcoZDZSRo",
         "_deepnote_index_column": 4266
        },
        {
         "clean_tweets": "Just posted a photo  I Near North Platte Nebraska httpstcomAJWiIDJF",
         "_deepnote_index_column": 4267
        },
        {
         "clean_tweets": "Im at NI SOLUTION SDN BHD in Skudai Johor httpstcosSMqQdIQn",
         "_deepnote_index_column": 4268
        },
        {
         "clean_tweets": "Too much sauce  lastnightinmiami  Miami Florida httpstcolqFVhIyN",
         "_deepnote_index_column": 4269
        },
        {
         "clean_tweets": "family portrait photographer newportbeach orangecounty oc photography studio  Newport… httpstcotnBO…",
         "_deepnote_index_column": 4270
        },
        {
         "clean_tweets": "Im at  in Kitakyūshū  httpstcowcQmpSo",
         "_deepnote_index_column": 4271
        },
        {
         "clean_tweets": "View at this AMs search at KNW camp  Camp Westmont httpstcomPJAsIUq",
         "_deepnote_index_column": 4272
        },
        {
         "clean_tweets": "Two Poles attacked in UK town which saw possible hate killing httpstcofNlZrPkBuJ",
         "_deepnote_index_column": 4273
        },
        {
         "clean_tweets": "Im at Prague Main Railway Station in Praha httpstcokoNHwka",
         "_deepnote_index_column": 4274
        },
        {
         "clean_tweets": "TALES FROM BALTIMORECOMICCON DAY nnWhat an eclectic range of tastes from this fun… httpstcoeLyFVWch…",
         "_deepnote_index_column": 4275
        },
        {
         "clean_tweets": "Parents urged to complete secondary school applications for September  before… httpstcomKkbnzttdp B…",
         "_deepnote_index_column": 4276
        },
        {
         "clean_tweets": "Im at Sykes httpstcocquhZahJS",
         "_deepnote_index_column": 4277
        },
        {
         "clean_tweets": "Were hiring Click to apply ReturnsRecarton Clerical Position  httpstcofZkcPeHNgG Job SupplyChain Mi…",
         "_deepnote_index_column": 4278
        },
        {
         "clean_tweets": "Day off Come spend it with us as we take on UAV at our home field at  LaborDay GameDay… httpstcoYQS…",
         "_deepnote_index_column": 4279
        },
        {
         "clean_tweets": "Just posted a photo  Bier Markt  St Johns httpstcoUCMcwTmTkb",
         "_deepnote_index_column": 4280
        },
        {
         "clean_tweets": "Im at Warm Wood Café in Vadhana httpstcoXPVvanoU",
         "_deepnote_index_column": 4281
        },
        {
         "clean_tweets": "Were hiring Click to apply Office Manager  httpstconLbXzISzz Job Clerical Tucson AZ Jobs",
         "_deepnote_index_column": 4282
        },
        {
         "clean_tweets": "Christ is in me I am enough  Elevation Church  University City httpstcoydKZwIheo",
         "_deepnote_index_column": 4283
        },
        {
         "clean_tweets": "Im at Hard Rock Cafe London in Mayfair Greater London httpstcofIXEFHljSj httpstcoQpYJJOViqQ",
         "_deepnote_index_column": 4284
        },
        {
         "clean_tweets": "Can you recommend anyone for this job in WestCarrollton OH httpstcooioFq Retail Hiring CareerArc",
         "_deepnote_index_column": 4285
        },
        {
         "clean_tweets": "Live every day  like is your last day art illustration drawing draw picture photography… httpstcoNs…",
         "_deepnote_index_column": 4286
        },
        {
         "clean_tweets": "Im at Kızılay in Çankaya Ankara httpstcoAQQyKahR",
         "_deepnote_index_column": 4287
        },
        {
         "clean_tweets": "Im at Antalya in Antalya Türkiye httpstcoIaeuorY",
         "_deepnote_index_column": 4288
        },
        {
         "clean_tweets": " ℃n℃nn sakai   httpstcogqgDsq",
         "_deepnote_index_column": 4289
        },
        {
         "clean_tweets": "Im at Wilmington Library in Wilmington DE httpstcorCDkDaoBk",
         "_deepnote_index_column": 4290
        },
        {
         "clean_tweets": "Join the UPS team See our latest job opening here httpstcoGrgarnZL Transportation Butler PA Hiring …",
         "_deepnote_index_column": 4291
        },
        {
         "clean_tweets": "Todays pick of the day is this elegant mustsee property in Pasadena CA This stunning hilltop… https…",
         "_deepnote_index_column": 4292
        },
        {
         "clean_tweets": "Want to work in Lexington KY View our latest opening httpstcoAtIuRZNtz Job Finance Jobs Hiring http…",
         "_deepnote_index_column": 4293
        },
        {
         "clean_tweets": "  Zurich in Zürich Suisse httpstcoTbKnLNAWBB",
         "_deepnote_index_column": 4294
        },
        {
         "clean_tweets": "This job might be a great fit for you Food Services Assistant  Full Time  httpstcoEQqQjDP FoodServi…",
         "_deepnote_index_column": 4295
        },
        {
         "clean_tweets": "Im at  in Funabashi  httpstcovHJrprXr",
         "_deepnote_index_column": 4296
        },
        {
         "clean_tweets": "This one picture perfectly describes my experience at this school I… httpstcoMOgLSqQBp",
         "_deepnote_index_column": 4297
        },
        {
         "clean_tweets": "Im at Sinking Spring PA in Sinking Spring PA httpstcoQjOiGjLF",
         "_deepnote_index_column": 4298
        },
        {
         "clean_tweets": "Update Construction on BBus at th Streetth Avenue httpstcoRMdgN",
         "_deepnote_index_column": 4299
        },
        {
         "clean_tweets": "Im at Bus Stop  Aft Sembawang Shopping Centre httpstcoRRQGdIqQH",
         "_deepnote_index_column": 4300
        },
        {
         "clean_tweets": "Chicken Teriyaki Ojyu Sauteed teriyaki chicken and japanese mushrooms on rice  Tokyo… httpstcodzfFS…",
         "_deepnote_index_column": 4301
        },
        {
         "clean_tweets": "My daughter and I at the MagicKingdom the other day AnaWarrior Doitforher fabana… httpstcoDbRbKHqt",
         "_deepnote_index_column": 4302
        },
        {
         "clean_tweets": "You bet Ben was belting louder than any girl in the crowd when I Dont Want to Be played  … httpstco…",
         "_deepnote_index_column": 4303
        },
        {
         "clean_tweets": "Im at Wat Phananchoeng in Phra Nakhon Si Ayutthaya httpstcovTKJfNpm",
         "_deepnote_index_column": 4304
        },
        {
         "clean_tweets": "Nemenin big boss motong rambut di big boys barbershop  with Aunk at Big Boyz Barbershop — httpstcoA…",
         "_deepnote_index_column": 4305
        },
        {
         "clean_tweets": "One of my hobby  Ma Hood httpstcoSHJDDWQQB",
         "_deepnote_index_column": 4306
        },
        {
         "clean_tweets": "Another Cardigan Records Hopscotch Day Party in the books  Thanks to all that came out all who… htt…",
         "_deepnote_index_column": 4307
        },
        {
         "clean_tweets": "Im at Hempstead Hair World in Elmont NY httpstcohVYgHZyEHc",
         "_deepnote_index_column": 4308
        },
        {
         "clean_tweets": "Bachelorette   Laurita Winery httpstcoBsIIFmdGz",
         "_deepnote_index_column": 4309
        },
        {
         "clean_tweets": "This job might be a great fit for you Sr Information Architect Supervisor  httpstcollJlFiHz Alphare…",
         "_deepnote_index_column": 4310
        },
        {
         "clean_tweets": "Im at PiazzaAvym in Canik Samsun w mertarmann debeabcbce tanrioveri httpstcogxKOUJp",
         "_deepnote_index_column": 4311
        }
       ]
      },
      "text/plain": "                                           clean_tweets\n0     I felt my first flash of violence at some fool...\n1                    Ladies drink and get in free till \n2       Watching Miranda On bbc mermhart u r HILARIOUS \n3                         Shopping  Kohls httptcoIZkQHT\n4     Dennycrowe all over twitter because you and yo...\n...                                                 ...\n4307  Another Cardigan Records Hopscotch Day Party i...\n4308  Im at Hempstead Hair World in Elmont NY httpst...\n4309    Bachelorette   Laurita Winery httpstcoBsIIFmdGz\n4310  This job might be a great fit for you Sr Infor...\n4311  Im at PiazzaAvym in Canik Samsun w mertarmann ...\n\n[4312 rows x 1 columns]",
      "text/html": "<div>\n<style scoped>\n    .dataframe tbody tr th:only-of-type {\n        vertical-align: middle;\n    }\n\n    .dataframe tbody tr th {\n        vertical-align: top;\n    }\n\n    .dataframe thead th {\n        text-align: right;\n    }\n</style>\n<table border=\"1\" class=\"dataframe\">\n  <thead>\n    <tr style=\"text-align: right;\">\n      <th></th>\n      <th>clean_tweets</th>\n    </tr>\n  </thead>\n  <tbody>\n    <tr>\n      <th>0</th>\n      <td>I felt my first flash of violence at some fool...</td>\n    </tr>\n    <tr>\n      <th>1</th>\n      <td>Ladies drink and get in free till</td>\n    </tr>\n    <tr>\n      <th>2</th>\n      <td>Watching Miranda On bbc mermhart u r HILARIOUS</td>\n    </tr>\n    <tr>\n      <th>3</th>\n      <td>Shopping  Kohls httptcoIZkQHT</td>\n    </tr>\n    <tr>\n      <th>4</th>\n      <td>Dennycrowe all over twitter because you and yo...</td>\n    </tr>\n    <tr>\n      <th>...</th>\n      <td>...</td>\n    </tr>\n    <tr>\n      <th>4307</th>\n      <td>Another Cardigan Records Hopscotch Day Party i...</td>\n    </tr>\n    <tr>\n      <th>4308</th>\n      <td>Im at Hempstead Hair World in Elmont NY httpst...</td>\n    </tr>\n    <tr>\n      <th>4309</th>\n      <td>Bachelorette   Laurita Winery httpstcoBsIIFmdGz</td>\n    </tr>\n    <tr>\n      <th>4310</th>\n      <td>This job might be a great fit for you Sr Infor...</td>\n    </tr>\n    <tr>\n      <th>4311</th>\n      <td>Im at PiazzaAvym in Canik Samsun w mertarmann ...</td>\n    </tr>\n  </tbody>\n</table>\n<p>4312 rows × 1 columns</p>\n</div>"
     },
     "metadata": {}
    }
   ],
   "execution_count": 4
  },
  {
   "cell_type": "markdown",
   "source": "Firstly, we want to lowercase everything.",
   "metadata": {
    "cell_id": "00007-cc7995c1-5e21-459d-8340-a0fc2c98faea",
    "deepnote_cell_type": "markdown"
   }
  },
  {
   "cell_type": "code",
   "metadata": {
    "scrolled": false,
    "cell_id": "00008-b5a35b18-5984-4d63-8a1e-4db055fe8444",
    "deepnote_to_be_reexecuted": false,
    "source_hash": "abe48794",
    "execution_start": 1633378628405,
    "execution_millis": 189,
    "deepnote_cell_type": "code"
   },
   "source": "df_eng_clean_tweets['lowercase'] = df_eng_clean_tweets['clean_tweets'].apply(lambda x: x.lower())\ndf_eng_clean_tweets",
   "outputs": [
    {
     "output_type": "execute_result",
     "execution_count": 5,
     "data": {
      "application/vnd.deepnote.dataframe.v2+json": {
       "row_count": 4312,
       "column_count": 2,
       "columns": [
        {
         "name": "clean_tweets",
         "dtype": "object",
         "stats": {
          "unique_count": 4312,
          "nan_count": 0,
          "categories": [
           {
            "name": "I felt my first flash of violence at some fool who bumped into me I pity the fool",
            "count": 1
           },
           {
            "name": "Ladies drink and get in free till ",
            "count": 1
           },
           {
            "name": "4310 others",
            "count": 4310
           }
          ]
         }
        },
        {
         "name": "lowercase",
         "dtype": "object",
         "stats": {
          "unique_count": 4311,
          "nan_count": 0,
          "categories": [
           {
            "name": "so hungry",
            "count": 2
           },
           {
            "name": "i felt my first flash of violence at some fool who bumped into me i pity the fool",
            "count": 1
           },
           {
            "name": "4309 others",
            "count": 4309
           }
          ]
         }
        },
        {
         "name": "_deepnote_index_column",
         "dtype": "int64"
        }
       ],
       "rows_top": [
        {
         "clean_tweets": "I felt my first flash of violence at some fool who bumped into me I pity the fool",
         "lowercase": "i felt my first flash of violence at some fool who bumped into me i pity the fool",
         "_deepnote_index_column": 0
        },
        {
         "clean_tweets": "Ladies drink and get in free till ",
         "lowercase": "ladies drink and get in free till ",
         "_deepnote_index_column": 1
        },
        {
         "clean_tweets": "Watching Miranda On bbc mermhart u r HILARIOUS ",
         "lowercase": "watching miranda on bbc mermhart u r hilarious ",
         "_deepnote_index_column": 2
        },
        {
         "clean_tweets": "Shopping  Kohls httptcoIZkQHT",
         "lowercase": "shopping  kohls httptcoizkqht",
         "_deepnote_index_column": 3
        },
        {
         "clean_tweets": "Dennycrowe all over twitter because you and your friends cant stick up for yourselves",
         "lowercase": "dennycrowe all over twitter because you and your friends cant stick up for yourselves",
         "_deepnote_index_column": 4
        },
        {
         "clean_tweets": "The way you treat me The way you accept me and love me How much you care about me Thats what makes …",
         "lowercase": "the way you treat me the way you accept me and love me how much you care about me thats what makes …",
         "_deepnote_index_column": 5
        },
        {
         "clean_tweets": "I just wanna get pulled on the sled by the four wheeler again goodshit",
         "lowercase": "i just wanna get pulled on the sled by the four wheeler again goodshit",
         "_deepnote_index_column": 6
        },
        {
         "clean_tweets": "Oh theres that fake door slam noise  ugh CBB",
         "lowercase": "oh theres that fake door slam noise  ugh cbb",
         "_deepnote_index_column": 7
        },
        {
         "clean_tweets": "Taybaybay cool Wanna see when u get it",
         "lowercase": "taybaybay cool wanna see when u get it",
         "_deepnote_index_column": 8
        },
        {
         "clean_tweets": "delwebb hahaa I never get told to be a post  But Ill most likely guard yaaaa",
         "lowercase": "delwebb hahaa i never get told to be a post  but ill most likely guard yaaaa",
         "_deepnote_index_column": 9
        },
        {
         "clean_tweets": "Opucar timallen Im in Tennessee Only bears and mountain lions round these parts",
         "lowercase": "opucar timallen im in tennessee only bears and mountain lions round these parts",
         "_deepnote_index_column": 10
        },
        {
         "clean_tweets": "Cant do right without doing wrong first",
         "lowercase": "cant do right without doing wrong first",
         "_deepnote_index_column": 11
        },
        {
         "clean_tweets": "FlaccidDaddy and goodluck on that young occupation",
         "lowercase": "flacciddaddy and goodluck on that young occupation",
         "_deepnote_index_column": 12
        },
        {
         "clean_tweets": "kiapegg ahh okay how old ate you I am ",
         "lowercase": "kiapegg ahh okay how old ate you i am ",
         "_deepnote_index_column": 13
        },
        {
         "clean_tweets": "Rain bitches but get my dick on with  at least  chicks at York these hoes are easy game dont change…",
         "lowercase": "rain bitches but get my dick on with  at least  chicks at york these hoes are easy game dont change…",
         "_deepnote_index_column": 14
        },
        {
         "clean_tweets": "SexSurvey  If you were a stripper what would your name be Trixie or Tricktina as a girl  as a boy m…",
         "lowercase": "sexsurvey  if you were a stripper what would your name be trixie or tricktina as a girl  as a boy m…",
         "_deepnote_index_column": 15
        },
        {
         "clean_tweets": "RT“iLeexi I feel shittttttty I cant even get off my bed No srsly I feel rlly sick and shitty”",
         "lowercase": "rt“ileexi i feel shittttttty i cant even get off my bed no srsly i feel rlly sick and shitty”",
         "_deepnote_index_column": 16
        },
        {
         "clean_tweets": "adampoulos TyreceSpeaight even me Are you at the party",
         "lowercase": "adampoulos tyrecespeaight even me are you at the party",
         "_deepnote_index_column": 17
        },
        {
         "clean_tweets": "Drinking a Mamas Little Yella Pils by oskarblues  Thunderdome — httptcoVEwnxn",
         "lowercase": "drinking a mamas little yella pils by oskarblues  thunderdome — httptcovewnxn",
         "_deepnote_index_column": 18
        },
        {
         "clean_tweets": " PM  Harrahs Las Vegas  NL Holdem Poker Tournament w  Bounties HarrahsVegas httptcofmxWZT",
         "lowercase": " pm  harrahs las vegas  nl holdem poker tournament w  bounties harrahsvegas httptcofmxwzt",
         "_deepnote_index_column": 19
        },
        {
         "clean_tweets": "Fifi gatal Takk abes nk double meaning Iyewwww",
         "lowercase": "fifi gatal takk abes nk double meaning iyewwww",
         "_deepnote_index_column": 20
        },
        {
         "clean_tweets": "And my grades are top notch ",
         "lowercase": "and my grades are top notch ",
         "_deepnote_index_column": 21
        },
        {
         "clean_tweets": "Yeah fuck saqouit fans i aint scared",
         "lowercase": "yeah fuck saqouit fans i aint scared",
         "_deepnote_index_column": 22
        },
        {
         "clean_tweets": "geegrapes Its all about being real and true to yourself The opposite of real is fake",
         "lowercase": "geegrapes its all about being real and true to yourself the opposite of real is fake",
         "_deepnote_index_column": 23
        },
        {
         "clean_tweets": "Whistle baby",
         "lowercase": "whistle baby",
         "_deepnote_index_column": 24
        },
        {
         "clean_tweets": " Joos DLP ThroughFeed Hot Veneer Press Please feel free to make an offer All offers will be conside…",
         "lowercase": " joos dlp throughfeed hot veneer press please feel free to make an offer all offers will be conside…",
         "_deepnote_index_column": 25
        },
        {
         "clean_tweets": "Seriously I feel Betrayed",
         "lowercase": "seriously i feel betrayed",
         "_deepnote_index_column": 26
        },
        {
         "clean_tweets": "BigJoe I plugged it in the computer so no",
         "lowercase": "bigjoe i plugged it in the computer so no",
         "_deepnote_index_column": 27
        },
        {
         "clean_tweets": "FucKUPayyMee Lawwdd it feel like somebody just punchin me in my cat Lmaoo see nasty asz",
         "lowercase": "fuckupayymee lawwdd it feel like somebody just punchin me in my cat lmaoo see nasty asz",
         "_deepnote_index_column": 28
        },
        {
         "clean_tweets": "ronaldtoswoll lmfaooo thats a girl store",
         "lowercase": "ronaldtoswoll lmfaooo thats a girl store",
         "_deepnote_index_column": 29
        },
        {
         "clean_tweets": "My ears once again hurt so much",
         "lowercase": "my ears once again hurt so much",
         "_deepnote_index_column": 30
        },
        {
         "clean_tweets": "Safe to say I teared up more than I do in the average year in one night at Les Mis musicgotmegoing …",
         "lowercase": "safe to say i teared up more than i do in the average year in one night at les mis musicgotmegoing …",
         "_deepnote_index_column": 31
        },
        {
         "clean_tweets": "Jinki do you know that she has passed on",
         "lowercase": "jinki do you know that she has passed on",
         "_deepnote_index_column": 32
        },
        {
         "clean_tweets": "Damn your ex is a cry baby He dont wanna talk to me",
         "lowercase": "damn your ex is a cry baby he dont wanna talk to me",
         "_deepnote_index_column": 33
        },
        {
         "clean_tweets": "AndyMolitor she will be devastated",
         "lowercase": "andymolitor she will be devastated",
         "_deepnote_index_column": 34
        },
        {
         "clean_tweets": "LukeMalvern ahwwww Lukey your profile picture is so adorable",
         "lowercase": "lukemalvern ahwwww lukey your profile picture is so adorable",
         "_deepnote_index_column": 35
        },
        {
         "clean_tweets": "My baby Is completely frozen no way I can drive this shit no time soon httptcofBvytx",
         "lowercase": "my baby is completely frozen no way i can drive this shit no time soon httptcofbvytx",
         "_deepnote_index_column": 36
        },
        {
         "clean_tweets": "MarcAnthony nallelyyj Well instead of scaring her you scared me",
         "lowercase": "marcanthony nallelyyj well instead of scaring her you scared me",
         "_deepnote_index_column": 37
        },
        {
         "clean_tweets": "Everything I dont want to happen is happening Smh I hate my life right now ",
         "lowercase": "everything i dont want to happen is happening smh i hate my life right now ",
         "_deepnote_index_column": 38
        },
        {
         "clean_tweets": "Its funny because in every situation we go threw your aloud to tell ur best friend but I cant tooba…",
         "lowercase": "its funny because in every situation we go threw your aloud to tell ur best friend but i cant tooba…",
         "_deepnote_index_column": 39
        },
        {
         "clean_tweets": "I am not a godly person or a religious one for that matter Mostly because Im logical and I grew out…",
         "lowercase": "i am not a godly person or a religious one for that matter mostly because im logical and i grew out…",
         "_deepnote_index_column": 40
        },
        {
         "clean_tweets": "Ughh HeavyHitterz needs to hurry the hell up and get outta work",
         "lowercase": "ughh heavyhitterz needs to hurry the hell up and get outta work",
         "_deepnote_index_column": 41
        },
        {
         "clean_tweets": "SheeRatchettt Amen",
         "lowercase": "sheeratchettt amen",
         "_deepnote_index_column": 42
        },
        {
         "clean_tweets": "ChineseJasminee okay good  Please come  And no I dont talk to her nor joselin  Yes  Saturday Sunday…",
         "lowercase": "chinesejasminee okay good  please come  and no i dont talk to her nor joselin  yes  saturday sunday…",
         "_deepnote_index_column": 43
        },
        {
         "clean_tweets": "parcelgoHelp sadly this BOSE DOCKING STATION has not arrived and I am most annoyed I want this item…",
         "lowercase": "parcelgohelp sadly this bose docking station has not arrived and i am most annoyed i want this item…",
         "_deepnote_index_column": 44
        },
        {
         "clean_tweets": "Catfish need some hood ppl though That would be funny",
         "lowercase": "catfish need some hood ppl though that would be funny",
         "_deepnote_index_column": 45
        },
        {
         "clean_tweets": "Finally bedtime Goood freaking niighhtt",
         "lowercase": "finally bedtime goood freaking niighhtt",
         "_deepnote_index_column": 46
        },
        {
         "clean_tweets": "EdDJGex i did the bpm because i mix quickly so i can pitch them up for quick inmixing",
         "lowercase": "eddjgex i did the bpm because i mix quickly so i can pitch them up for quick inmixing",
         "_deepnote_index_column": 47
        },
        {
         "clean_tweets": "Aww how cute is that  you can text every other fucker in this world but not me Shocking",
         "lowercase": "aww how cute is that  you can text every other fucker in this world but not me shocking",
         "_deepnote_index_column": 48
        },
        {
         "clean_tweets": "kristacipriani sleep is for the weak  week",
         "lowercase": "kristacipriani sleep is for the weak  week",
         "_deepnote_index_column": 49
        },
        {
         "clean_tweets": "I wish you would just text me this once",
         "lowercase": "i wish you would just text me this once",
         "_deepnote_index_column": 50
        },
        {
         "clean_tweets": "Bought Al Fakher Orange  Grape and Vanilla Its gonna be Vanilla Twilight",
         "lowercase": "bought al fakher orange  grape and vanilla its gonna be vanilla twilight",
         "_deepnote_index_column": 51
        },
        {
         "clean_tweets": "just set my alarm for the first time in weeks morningstruggle ⏰",
         "lowercase": "just set my alarm for the first time in weeks morningstruggle ⏰",
         "_deepnote_index_column": 52
        },
        {
         "clean_tweets": "Baltimore is going CRAZY  The celebration has just begun ",
         "lowercase": "baltimore is going crazy  the celebration has just begun ",
         "_deepnote_index_column": 53
        },
        {
         "clean_tweets": "i got my days amp nights mixed up like ima newborn or sum sht ",
         "lowercase": "i got my days amp nights mixed up like ima newborn or sum sht ",
         "_deepnote_index_column": 54
        },
        {
         "clean_tweets": "Bugis like got a lot of nice clothes ah",
         "lowercase": "bugis like got a lot of nice clothes ah",
         "_deepnote_index_column": 55
        },
        {
         "clean_tweets": "skatherine its okay lt",
         "lowercase": "skatherine its okay lt",
         "_deepnote_index_column": 56
        },
        {
         "clean_tweets": "pinchedandan Im calling u a bitch dummy",
         "lowercase": "pinchedandan im calling u a bitch dummy",
         "_deepnote_index_column": 57
        },
        {
         "clean_tweets": "Broph why was I the last to know Haha",
         "lowercase": "broph why was i the last to know haha",
         "_deepnote_index_column": 58
        },
        {
         "clean_tweets": "BamBamBeast NeilChallis not the rd ",
         "lowercase": "bambambeast neilchallis not the rd ",
         "_deepnote_index_column": 59
        },
        {
         "clean_tweets": "Dear BMSNard is by far the best bit on the BMSOnTheAir killinit",
         "lowercase": "dear bmsnard is by far the best bit on the bmsontheair killinit",
         "_deepnote_index_column": 60
        },
        {
         "clean_tweets": "After these exams Im definitly gonna have to get together with friends whatmakesthedaybetter",
         "lowercase": "after these exams im definitly gonna have to get together with friends whatmakesthedaybetter",
         "_deepnote_index_column": 61
        },
        {
         "clean_tweets": "Dense Fog Advisory issued January  at PM CST until January  at AM CST by NWS Lake Charles httptcoRb…",
         "lowercase": "dense fog advisory issued january  at pm cst until january  at am cst by nws lake charles httptcorb…",
         "_deepnote_index_column": 62
        },
        {
         "clean_tweets": "WOLFwinningWOLF alottttttttt",
         "lowercase": "wolfwinningwolf alottttttttt",
         "_deepnote_index_column": 63
        },
        {
         "clean_tweets": "Everything makes more sense on a legal pad",
         "lowercase": "everything makes more sense on a legal pad",
         "_deepnote_index_column": 64
        },
        {
         "clean_tweets": "I didnt stop loving you I just stopped showing it Inspired by echiprutt wakakak",
         "lowercase": "i didnt stop loving you i just stopped showing it inspired by echiprutt wakakak",
         "_deepnote_index_column": 65
        },
        {
         "clean_tweets": "Time to do work gtgtgtgtgt",
         "lowercase": "time to do work gtgtgtgtgt",
         "_deepnote_index_column": 66
        },
        {
         "clean_tweets": "thxyuuu jepa zevansca Oke syg pasti ˘ʃƪ˘ rindySW zevansca yaa gpp jepa doain cepet taken yaaa",
         "lowercase": "thxyuuu jepa zevansca oke syg pasti ˘ʃƪ˘ rindysw zevansca yaa gpp jepa doain cepet taken yaaa",
         "_deepnote_index_column": 67
        },
        {
         "clean_tweets": " “ForTheFame How some of you gays take pics wit yall fingers in yall asses amp then post them on th…",
         "lowercase": " “forthefame how some of you gays take pics wit yall fingers in yall asses amp then post them on th…",
         "_deepnote_index_column": 68
        },
        {
         "clean_tweets": "After all the dancehall artists I still get mad ova Busy Signal",
         "lowercase": "after all the dancehall artists i still get mad ova busy signal",
         "_deepnote_index_column": 69
        },
        {
         "clean_tweets": "DanReader I chose DRTammunition Its safe enough to do a mag dump at contact distance on steel amp h…",
         "lowercase": "danreader i chose drtammunition its safe enough to do a mag dump at contact distance on steel amp h…",
         "_deepnote_index_column": 70
        },
        {
         "clean_tweets": "WaysToGetSlapped fuckin with my nigga",
         "lowercase": "waystogetslapped fuckin with my nigga",
         "_deepnote_index_column": 71
        },
        {
         "clean_tweets": "We rang  and they told us to go away Rude that",
         "lowercase": "we rang  and they told us to go away rude that",
         "_deepnote_index_column": 72
        },
        {
         "clean_tweets": "I just wanna sleep all day tomorrow",
         "lowercase": "i just wanna sleep all day tomorrow",
         "_deepnote_index_column": 73
        },
        {
         "clean_tweets": "AmVolunteer porque",
         "lowercase": "amvolunteer porque",
         "_deepnote_index_column": 74
        },
        {
         "clean_tweets": "Its not even like she tryin tk hide I see ur name",
         "lowercase": "its not even like she tryin tk hide i see ur name",
         "_deepnote_index_column": 75
        },
        {
         "clean_tweets": "Ciaraannbarry hha where did ya meet this gay fella ",
         "lowercase": "ciaraannbarry hha where did ya meet this gay fella ",
         "_deepnote_index_column": 76
        },
        {
         "clean_tweets": "You never miss something tilours gone",
         "lowercase": "you never miss something tilours gone",
         "_deepnote_index_column": 77
        },
        {
         "clean_tweets": "JLIsley well two of my friends are on the way right now So thats random again u picked Dallas Lol S…",
         "lowercase": "jlisley well two of my friends are on the way right now so thats random again u picked dallas lol s…",
         "_deepnote_index_column": 78
        },
        {
         "clean_tweets": "But I love AshleyKirwanMBE more Better than David at footy too",
         "lowercase": "but i love ashleykirwanmbe more better than david at footy too",
         "_deepnote_index_column": 79
        },
        {
         "clean_tweets": "Today I tripped and Im  sure a fuck ton of people driving on Johnston saw it My dayltltlt",
         "lowercase": "today i tripped and im  sure a fuck ton of people driving on johnston saw it my dayltltlt",
         "_deepnote_index_column": 80
        },
        {
         "clean_tweets": "BisforBooYah showin no mercy",
         "lowercase": "bisforbooyah showin no mercy",
         "_deepnote_index_column": 81
        },
        {
         "clean_tweets": "KREAYSHAWN you have the most perf voice ever",
         "lowercase": "kreayshawn you have the most perf voice ever",
         "_deepnote_index_column": 82
        },
        {
         "clean_tweets": "All day I thought it was weird Wednesday letdown",
         "lowercase": "all day i thought it was weird wednesday letdown",
         "_deepnote_index_column": 83
        },
        {
         "clean_tweets": "kahnman not even cool hes seriously hurt",
         "lowercase": "kahnman not even cool hes seriously hurt",
         "_deepnote_index_column": 84
        },
        {
         "clean_tweets": "   Jimmuji Sta KK httptcotqDVFG",
         "lowercase": "   jimmuji sta kk httptcotqdvfg",
         "_deepnote_index_column": 85
        },
        {
         "clean_tweets": "sloanetweets asksloane favorite for the superbowl and what team do you support",
         "lowercase": "sloanetweets asksloane favorite for the superbowl and what team do you support",
         "_deepnote_index_column": 86
        },
        {
         "clean_tweets": "Time is a thing not to waste",
         "lowercase": "time is a thing not to waste",
         "_deepnote_index_column": 87
        },
        {
         "clean_tweets": "Lakers win tip off",
         "lowercase": "lakers win tip off",
         "_deepnote_index_column": 88
        },
        {
         "clean_tweets": "I gotta stop talking and just do it Talk is cheap",
         "lowercase": "i gotta stop talking and just do it talk is cheap",
         "_deepnote_index_column": 89
        },
        {
         "clean_tweets": "emilysarahjohn Hahaha so awks but so funny",
         "lowercase": "emilysarahjohn hahaha so awks but so funny",
         "_deepnote_index_column": 90
        },
        {
         "clean_tweets": "Listening to EDC recaps cant wait for EDCNY  at Citi Field insomniacevents",
         "lowercase": "listening to edc recaps cant wait for edcny  at citi field insomniacevents",
         "_deepnote_index_column": 91
        },
        {
         "clean_tweets": "I turned up currently httptcolcsVaSs",
         "lowercase": "i turned up currently httptcolcsvass",
         "_deepnote_index_column": 92
        },
        {
         "clean_tweets": "This heart is on fire",
         "lowercase": "this heart is on fire",
         "_deepnote_index_column": 93
        },
        {
         "clean_tweets": "Oh brill so now my bumpers hanging off might as well just leave it falls off completely",
         "lowercase": "oh brill so now my bumpers hanging off might as well just leave it falls off completely",
         "_deepnote_index_column": 94
        },
        {
         "clean_tweets": "I miss that time when you text me and said iman tolong aku it surprised me  XD im really miss that …",
         "lowercase": "i miss that time when you text me and said iman tolong aku it surprised me  xd im really miss that …",
         "_deepnote_index_column": 95
        },
        {
         "clean_tweets": "And I say hey ey ey ey ey hey ey ey I said hey whats going on",
         "lowercase": "and i say hey ey ey ey ey hey ey ey i said hey whats going on",
         "_deepnote_index_column": 96
        },
        {
         "clean_tweets": "How are you mixed and have an inch of nappy hair on yo head tho youre mixed alright  with Black  Bl…",
         "lowercase": "how are you mixed and have an inch of nappy hair on yo head tho youre mixed alright  with black  bl…",
         "_deepnote_index_column": 97
        },
        {
         "clean_tweets": "Those flautas were good D",
         "lowercase": "those flautas were good d",
         "_deepnote_index_column": 98
        },
        {
         "clean_tweets": "I really want to study abroad in Israel",
         "lowercase": "i really want to study abroad in israel",
         "_deepnote_index_column": 99
        },
        {
         "clean_tweets": "I need a blunt",
         "lowercase": "i need a blunt",
         "_deepnote_index_column": 100
        },
        {
         "clean_tweets": "me and makarah got matching underwear again  nbestfriendprobs",
         "lowercase": "me and makarah got matching underwear again  nbestfriendprobs",
         "_deepnote_index_column": 101
        },
        {
         "clean_tweets": "Wooo Bye malaysia ",
         "lowercase": "wooo bye malaysia ",
         "_deepnote_index_column": 102
        },
        {
         "clean_tweets": "I was so productive this weekend I think I should get this week off ",
         "lowercase": "i was so productive this weekend i think i should get this week off ",
         "_deepnote_index_column": 103
        },
        {
         "clean_tweets": "ChefKarlMace Ive been spun all day",
         "lowercase": "chefkarlmace ive been spun all day",
         "_deepnote_index_column": 104
        },
        {
         "clean_tweets": "Im at Bistro Kafe Tekirdağ Türkiye w  others httptcoToaUaXHg",
         "lowercase": "im at bistro kafe tekirdağ türkiye w  others httptcotoauaxhg",
         "_deepnote_index_column": 105
        },
        {
         "clean_tweets": "I would love to know why everybody hates everybody  makes no sense to me sometimes",
         "lowercase": "i would love to know why everybody hates everybody  makes no sense to me sometimes",
         "_deepnote_index_column": 106
        },
        {
         "clean_tweets": "Thursday gonna be the busiest",
         "lowercase": "thursday gonna be the busiest",
         "_deepnote_index_column": 107
        },
        {
         "clean_tweets": "tsnotoole Danny boy when is NHL trade deadline this year",
         "lowercase": "tsnotoole danny boy when is nhl trade deadline this year",
         "_deepnote_index_column": 108
        },
        {
         "clean_tweets": "I just became the mayor of Сканира on foursquare httptcomOmFZGy",
         "lowercase": "i just became the mayor of сканира on foursquare httptcomomfzgy",
         "_deepnote_index_column": 109
        },
        {
         "clean_tweets": "Every single day I think about how we came all this way the sleepless nights and the tears you crie…",
         "lowercase": "every single day i think about how we came all this way the sleepless nights and the tears you crie…",
         "_deepnote_index_column": 110
        },
        {
         "clean_tweets": "This girl is so bad",
         "lowercase": "this girl is so bad",
         "_deepnote_index_column": 111
        },
        {
         "clean_tweets": "Coffee time at SbuxIndonesia pic — httptcoenNvaNDa",
         "lowercase": "coffee time at sbuxindonesia pic — httptcoennvanda",
         "_deepnote_index_column": 112
        },
        {
         "clean_tweets": "“lauracharlotte tbt happy birthday jadelouiselucas  httptcodAAFCKV” you amp BRCarter look buzzed ab…",
         "lowercase": "“lauracharlotte tbt happy birthday jadelouiselucas  httptcodaafckv” you amp brcarter look buzzed ab…",
         "_deepnote_index_column": 113
        },
        {
         "clean_tweets": "Thats iite my ma bout to give me some  anyway lol",
         "lowercase": "thats iite my ma bout to give me some  anyway lol",
         "_deepnote_index_column": 114
        },
        {
         "clean_tweets": "what do i stand for most nights i dont know anymore",
         "lowercase": "what do i stand for most nights i dont know anymore",
         "_deepnote_index_column": 115
        },
        {
         "clean_tweets": "torquespeak just read that you have landed a new job Congratulations",
         "lowercase": "torquespeak just read that you have landed a new job congratulations",
         "_deepnote_index_column": 116
        },
        {
         "clean_tweets": "CaramelCandy HerbInhaler lmaooo damnits ok nothing good has came out anyway your not missing out lol",
         "lowercase": "caramelcandy herbinhaler lmaooo damnits ok nothing good has came out anyway your not missing out lol",
         "_deepnote_index_column": 117
        },
        {
         "clean_tweets": "ClaireKeeegans hahahaha boys night in slut dropping and getting mwi sostraight",
         "lowercase": "clairekeeegans hahahaha boys night in slut dropping and getting mwi sostraight",
         "_deepnote_index_column": 118
        },
        {
         "clean_tweets": "blackMamba wait You told your mum Ohmygod Wait You show her my picture Whats wrong with you Hahahaha",
         "lowercase": "blackmamba wait you told your mum ohmygod wait you show her my picture whats wrong with you hahahaha",
         "_deepnote_index_column": 119
        },
        {
         "clean_tweets": "Tottenham  Bale FavoritePlayerFromEachPremierLeagueTeam",
         "lowercase": "tottenham  bale favoriteplayerfromeachpremierleagueteam",
         "_deepnote_index_column": 120
        },
        {
         "clean_tweets": "With RVP and Rooney and Danny and Chicha I smell another treble in the making ForeverUnited",
         "lowercase": "with rvp and rooney and danny and chicha i smell another treble in the making foreverunited",
         "_deepnote_index_column": 121
        },
        {
         "clean_tweets": "Cavs suite and dinner with my favorites  cantwait",
         "lowercase": "cavs suite and dinner with my favorites  cantwait",
         "_deepnote_index_column": 122
        },
        {
         "clean_tweets": "ampamp She just had to come bring me all this work",
         "lowercase": "ampamp she just had to come bring me all this work",
         "_deepnote_index_column": 123
        },
        {
         "clean_tweets": "“AllisonStreng can this day get any fucking worse honestlynnnHONESTLY”",
         "lowercase": "“allisonstreng can this day get any fucking worse honestlynnnhonestly”",
         "_deepnote_index_column": 124
        },
        {
         "clean_tweets": "Shouldnt get sunbeds me httptcofgRUpga",
         "lowercase": "shouldnt get sunbeds me httptcofgrupga",
         "_deepnote_index_column": 125
        },
        {
         "clean_tweets": "Im at Childrens Pediatric Center Canton GA httptconZVOuyD",
         "lowercase": "im at childrens pediatric center canton ga httptconzvouyd",
         "_deepnote_index_column": 126
        },
        {
         "clean_tweets": "Askfm is pointless and stupid",
         "lowercase": "askfm is pointless and stupid",
         "_deepnote_index_column": 127
        },
        {
         "clean_tweets": "Hey AlexButelli httptcoMGLAAE",
         "lowercase": "hey alexbutelli httptcomglaae",
         "_deepnote_index_column": 128
        },
        {
         "clean_tweets": "JaimeNicolish esmegracexo  agreed It was amazing",
         "lowercase": "jaimenicolish esmegracexo  agreed it was amazing",
         "_deepnote_index_column": 129
        },
        {
         "clean_tweets": "Netflix until I fall asleep have an early day tomorrow",
         "lowercase": "netflix until i fall asleep have an early day tomorrow",
         "_deepnote_index_column": 130
        },
        {
         "clean_tweets": "asteazy haha then i got bitched at ",
         "lowercase": "asteazy haha then i got bitched at ",
         "_deepnote_index_column": 131
        },
        {
         "clean_tweets": "chelseajewell MagicCJohnson You should probably just go back to bed hotmessexpress Amen to that wis…",
         "lowercase": "chelseajewell magiccjohnson you should probably just go back to bed hotmessexpress amen to that wis…",
         "_deepnote_index_column": 132
        },
        {
         "clean_tweets": "EdaKiDD word ill call you tomorrow",
         "lowercase": "edakidd word ill call you tomorrow",
         "_deepnote_index_column": 133
        },
        {
         "clean_tweets": "alicialynnMEOW I would never Haha",
         "lowercase": "alicialynnmeow i would never haha",
         "_deepnote_index_column": 134
        },
        {
         "clean_tweets": "JETSjetsFAN no its not",
         "lowercase": "jetsjetsfan no its not",
         "_deepnote_index_column": 135
        },
        {
         "clean_tweets": "Perdidamenteeeeee",
         "lowercase": "perdidamenteeeeee",
         "_deepnote_index_column": 136
        },
        {
         "clean_tweets": "JefferyDean what are you getting next",
         "lowercase": "jefferydean what are you getting next",
         "_deepnote_index_column": 137
        },
        {
         "clean_tweets": "Nitta I do doe u live in Willingboro next to that one house wit the grass and the roof and shit yeh…",
         "lowercase": "nitta i do doe u live in willingboro next to that one house wit the grass and the roof and shit yeh…",
         "_deepnote_index_column": 138
        },
        {
         "clean_tweets": "Moving furniture and getting ready for a choir photo shoot  James F Dicke College of Business Admin…",
         "lowercase": "moving furniture and getting ready for a choir photo shoot  james f dicke college of business admin…",
         "_deepnote_index_column": 139
        },
        {
         "clean_tweets": "Yeahhhh we went out last night one thing started leading to another",
         "lowercase": "yeahhhh we went out last night one thing started leading to another",
         "_deepnote_index_column": 140
        },
        {
         "clean_tweets": "valforg everytime",
         "lowercase": "valforg everytime",
         "_deepnote_index_column": 141
        },
        {
         "clean_tweets": "I want you in my room  Lets spend the night together  I Wanna be with you I want you in my room",
         "lowercase": "i want you in my room  lets spend the night together  i wanna be with you i want you in my room",
         "_deepnote_index_column": 142
        },
        {
         "clean_tweets": "nagatocitybus n",
         "lowercase": "nagatocitybus n",
         "_deepnote_index_column": 143
        },
        {
         "clean_tweets": "Whelp bouta head on to work ",
         "lowercase": "whelp bouta head on to work ",
         "_deepnote_index_column": 144
        },
        {
         "clean_tweets": "weldonmagners your more special than I first thought haha",
         "lowercase": "weldonmagners your more special than i first thought haha",
         "_deepnote_index_column": 145
        },
        {
         "clean_tweets": "Only thing we got on is the radio",
         "lowercase": "only thing we got on is the radio",
         "_deepnote_index_column": 146
        },
        {
         "clean_tweets": "acolherdoliam this ",
         "lowercase": "acolherdoliam this ",
         "_deepnote_index_column": 147
        },
        {
         "clean_tweets": "mentionsomeoneyoucantrust cadestratt only in LA sometimes",
         "lowercase": "mentionsomeoneyoucantrust cadestratt only in la sometimes",
         "_deepnote_index_column": 148
        },
        {
         "clean_tweets": "Love is pain and pain is Love ",
         "lowercase": "love is pain and pain is love ",
         "_deepnote_index_column": 149
        },
        {
         "clean_tweets": "I just ousted markook as the mayor of Taksi Oulu on foursquare httptcoHJKVClwfu",
         "lowercase": "i just ousted markook as the mayor of taksi oulu on foursquare httptcohjkvclwfu",
         "_deepnote_index_column": 150
        },
        {
         "clean_tweets": "  Jimmys Food amp Drink w  others httptcoGFxVFmob",
         "lowercase": "  jimmys food amp drink w  others httptcogfxvfmob",
         "_deepnote_index_column": 151
        },
        {
         "clean_tweets": "You are beautiful dont let no one tell you different",
         "lowercase": "you are beautiful dont let no one tell you different",
         "_deepnote_index_column": 152
        },
        {
         "clean_tweets": "lovelaceinjuly Ill sell you my Pentax if I can get it fixed I just had to order a new mm",
         "lowercase": "lovelaceinjuly ill sell you my pentax if i can get it fixed i just had to order a new mm",
         "_deepnote_index_column": 153
        },
        {
         "clean_tweets": "DanMarchbank technically he is really bad lol just think £m could of been spent more wisely Need a …",
         "lowercase": "danmarchbank technically he is really bad lol just think £m could of been spent more wisely need a …",
         "_deepnote_index_column": 154
        },
        {
         "clean_tweets": "ThaReaLgreeKid youngwill most likely",
         "lowercase": "tharealgreekid youngwill most likely",
         "_deepnote_index_column": 155
        },
        {
         "clean_tweets": "Wind gods are angry again",
         "lowercase": "wind gods are angry again",
         "_deepnote_index_column": 156
        },
        {
         "clean_tweets": "Im staying in a lot this week",
         "lowercase": "im staying in a lot this week",
         "_deepnote_index_column": 157
        },
        {
         "clean_tweets": "KyWaller do you hate it too I cant stand it",
         "lowercase": "kywaller do you hate it too i cant stand it",
         "_deepnote_index_column": 158
        },
        {
         "clean_tweets": "Cracker barrel then its back to Ft Hell",
         "lowercase": "cracker barrel then its back to ft hell",
         "_deepnote_index_column": 159
        },
        {
         "clean_tweets": "No school but still no more snow D",
         "lowercase": "no school but still no more snow d",
         "_deepnote_index_column": 160
        },
        {
         "clean_tweets": "“chelseanewfield Some people are just gimpslaughable” sorry",
         "lowercase": "“chelseanewfield some people are just gimpslaughable” sorry",
         "_deepnote_index_column": 161
        },
        {
         "clean_tweets": "Sometimes its not what you say its how you say it  The Towers httptcofYfAQCdzbE",
         "lowercase": "sometimes its not what you say its how you say it  the towers httptcofyfaqcdzbe",
         "_deepnote_index_column": 162
        },
        {
         "clean_tweets": "A few people said that my belly had reduced in size bestcarryon gym tour",
         "lowercase": "a few people said that my belly had reduced in size bestcarryon gym tour",
         "_deepnote_index_column": 163
        },
        {
         "clean_tweets": "ValleeBoo really  Haha",
         "lowercase": "valleeboo really  haha",
         "_deepnote_index_column": 164
        },
        {
         "clean_tweets": "colling I could say so many shitty things about you but I wont because Im better than that",
         "lowercase": "colling i could say so many shitty things about you but i wont because im better than that",
         "_deepnote_index_column": 165
        },
        {
         "clean_tweets": "There was a fight in my class today lmaoooo turn up",
         "lowercase": "there was a fight in my class today lmaoooo turn up",
         "_deepnote_index_column": 166
        },
        {
         "clean_tweets": "Ahhh Love and Basketball is on  nightismade lovethismovie yayy",
         "lowercase": "ahhh love and basketball is on  nightismade lovethismovie yayy",
         "_deepnote_index_column": 167
        },
        {
         "clean_tweets": "Rage against the machine are on the see live before I die list",
         "lowercase": "rage against the machine are on the see live before i die list",
         "_deepnote_index_column": 168
        },
        {
         "clean_tweets": "MHRoe he followed me",
         "lowercase": "mhroe he followed me",
         "_deepnote_index_column": 169
        },
        {
         "clean_tweets": "Im so excited for the game tomorrow I cant sleep AthleteProbs",
         "lowercase": "im so excited for the game tomorrow i cant sleep athleteprobs",
         "_deepnote_index_column": 170
        },
        {
         "clean_tweets": "thatgirlchann NF",
         "lowercase": "thatgirlchann nf",
         "_deepnote_index_column": 171
        },
        {
         "clean_tweets": "For glubberts TED TEDActive dataviz Senior Project Best wishes Glen   TEDActive  httptcoBTlqxWQk",
         "lowercase": "for glubberts ted tedactive dataviz senior project best wishes glen   tedactive  httptcobtlqxwqk",
         "_deepnote_index_column": 172
        },
        {
         "clean_tweets": "Biggest Fans of UKwon ",
         "lowercase": "biggest fans of ukwon ",
         "_deepnote_index_column": 173
        },
        {
         "clean_tweets": "Keep me close  keep me closeeee Keep me head above water",
         "lowercase": "keep me close  keep me closeeee keep me head above water",
         "_deepnote_index_column": 174
        },
        {
         "clean_tweets": "change ",
         "lowercase": "change ",
         "_deepnote_index_column": 175
        },
        {
         "clean_tweets": "Waiting to head to the resort  Disneys Magical Express Depot pic httptcoAExOHWf",
         "lowercase": "waiting to head to the resort  disneys magical express depot pic httptcoaexohwf",
         "_deepnote_index_column": 176
        },
        {
         "clean_tweets": "markwhite well shit that was fast Glad you made it safe",
         "lowercase": "markwhite well shit that was fast glad you made it safe",
         "_deepnote_index_column": 177
        },
        {
         "clean_tweets": "Im at     w  others httptcommXCrJBIlE",
         "lowercase": "im at     w  others httptcommxcrjbile",
         "_deepnote_index_column": 178
        },
        {
         "clean_tweets": "damarisobiri jeremychuks cygnenoire nathanobiri yea Pearl is ready I believe but no please I feel s…",
         "lowercase": "damarisobiri jeremychuks cygnenoire nathanobiri yea pearl is ready i believe but no please i feel s…",
         "_deepnote_index_column": 179
        },
        {
         "clean_tweets": "Pandoras being good today ",
         "lowercase": "pandoras being good today ",
         "_deepnote_index_column": 180
        },
        {
         "clean_tweets": "MVC Unknown Injury  S RIVERSIDE AVEE TH ST MF  Units    Time  ",
         "lowercase": "mvc unknown injury  s riverside avee th st mf  units    time  ",
         "_deepnote_index_column": 181
        },
        {
         "clean_tweets": "jmathews she looks retarded",
         "lowercase": "jmathews she looks retarded",
         "_deepnote_index_column": 182
        },
        {
         "clean_tweets": "Doing MsAbads homework I will forever dislike that woman with all my heart I cant say hate I dont h…",
         "lowercase": "doing msabads homework i will forever dislike that woman with all my heart i cant say hate i dont h…",
         "_deepnote_index_column": 183
        },
        {
         "clean_tweets": "Havent eaten URGHHHHHH",
         "lowercase": "havent eaten urghhhhhh",
         "_deepnote_index_column": 184
        },
        {
         "clean_tweets": "do things the way GOD intended in the first place then you wont have to worry about shortcuts",
         "lowercase": "do things the way god intended in the first place then you wont have to worry about shortcuts",
         "_deepnote_index_column": 185
        },
        {
         "clean_tweets": "The day I wear a short sleeve its freezing FuckMyLife",
         "lowercase": "the day i wear a short sleeve its freezing fuckmylife",
         "_deepnote_index_column": 186
        },
        {
         "clean_tweets": "i love coming out of the shower smelling of strawberries ",
         "lowercase": "i love coming out of the shower smelling of strawberries ",
         "_deepnote_index_column": 187
        },
        {
         "clean_tweets": "Im at Disney Technology Solutions amp Services Seattle WA httptcoBhiqCesF",
         "lowercase": "im at disney technology solutions amp services seattle wa httptcobhiqcesf",
         "_deepnote_index_column": 188
        },
        {
         "clean_tweets": "jebaby my friendje i know ppl lol i was gonna do it today but i dk i know what mami was gonna say",
         "lowercase": "jebaby my friendje i know ppl lol i was gonna do it today but i dk i know what mami was gonna say",
         "_deepnote_index_column": 189
        },
        {
         "clean_tweets": "Mcgee yay okay and how are you getting there",
         "lowercase": "mcgee yay okay and how are you getting there",
         "_deepnote_index_column": 190
        },
        {
         "clean_tweets": "CeeSandra  never want to FaceTime me",
         "lowercase": "ceesandra  never want to facetime me",
         "_deepnote_index_column": 191
        },
        {
         "clean_tweets": "That had to hurt",
         "lowercase": "that had to hurt",
         "_deepnote_index_column": 192
        },
        {
         "clean_tweets": "ªƿāӑ beeunyilrmdhni ",
         "lowercase": "ªƿāӑ beeunyilrmdhni ",
         "_deepnote_index_column": 193
        },
        {
         "clean_tweets": "Not talking to him no more",
         "lowercase": "not talking to him no more",
         "_deepnote_index_column": 194
        },
        {
         "clean_tweets": "NDTurf thanks for your kind words Tim   I hope our paths continue to cross  Have a great week",
         "lowercase": "ndturf thanks for your kind words tim   i hope our paths continue to cross  have a great week",
         "_deepnote_index_column": 195
        },
        {
         "clean_tweets": "wesharper most definitely",
         "lowercase": "wesharper most definitely",
         "_deepnote_index_column": 196
        },
        {
         "clean_tweets": "Ill give you a polite handshake if you do",
         "lowercase": "ill give you a polite handshake if you do",
         "_deepnote_index_column": 197
        },
        {
         "clean_tweets": "Dont want to deal with it",
         "lowercase": "dont want to deal with it",
         "_deepnote_index_column": 198
        },
        {
         "clean_tweets": "I wonder what my life would be like if I never met my bestfriend",
         "lowercase": "i wonder what my life would be like if i never met my bestfriend",
         "_deepnote_index_column": 199
        },
        {
         "clean_tweets": "Happenpappen  YamYam w  others httptcoSSyHKDpGw",
         "lowercase": "happenpappen  yamyam w  others httptcossyhkdpgw",
         "_deepnote_index_column": 200
        },
        {
         "clean_tweets": "keiralouisexx simranbassra mate he mentioned my name in famous",
         "lowercase": "keiralouisexx simranbassra mate he mentioned my name in famous",
         "_deepnote_index_column": 201
        },
        {
         "clean_tweets": "“justinbieber u just gotta smile sometimes”",
         "lowercase": "“justinbieber u just gotta smile sometimes”",
         "_deepnote_index_column": 202
        },
        {
         "clean_tweets": "Actually an unbelievably impressive dj and performer vinnyvibe httptcoQWOWcbIp",
         "lowercase": "actually an unbelievably impressive dj and performer vinnyvibe httptcoqwowcbip",
         "_deepnote_index_column": 203
        },
        {
         "clean_tweets": "These late night cravings make me wonder if I may be pregnant after all",
         "lowercase": "these late night cravings make me wonder if i may be pregnant after all",
         "_deepnote_index_column": 204
        },
        {
         "clean_tweets": "I was such a happy person in Taiwan Excluding the terrible pms days I wanna go back every winter an…",
         "lowercase": "i was such a happy person in taiwan excluding the terrible pms days i wanna go back every winter an…",
         "_deepnote_index_column": 205
        },
        {
         "clean_tweets": "YOanthony naw she knows Im not like that lol",
         "lowercase": "yoanthony naw she knows im not like that lol",
         "_deepnote_index_column": 206
        },
        {
         "clean_tweets": "KoryArch please follow me  ",
         "lowercase": "koryarch please follow me  ",
         "_deepnote_index_column": 207
        },
        {
         "clean_tweets": "Im at Bulvar AVM Samsun Türkiye w  others httptcouWknOZRoNA",
         "lowercase": "im at bulvar avm samsun türkiye w  others httptcouwknozrona",
         "_deepnote_index_column": 208
        },
        {
         "clean_tweets": "Packing equals lame ncanihaveamaid please",
         "lowercase": "packing equals lame ncanihaveamaid please",
         "_deepnote_index_column": 209
        },
        {
         "clean_tweets": "Cant wait to trade her in thou Black on black all blacked out my next car",
         "lowercase": "cant wait to trade her in thou black on black all blacked out my next car",
         "_deepnote_index_column": 210
        },
        {
         "clean_tweets": "Agiels day  with rezaoloy edrianeri and  others at Solos Bistro pic — httptcoETnLGTcYet",
         "lowercase": "agiels day  with rezaoloy edrianeri and  others at solos bistro pic — httptcoetnlgtcyet",
         "_deepnote_index_column": 211
        },
        {
         "clean_tweets": "aaronware thanks I have Android now but not too many paid apps",
         "lowercase": "aaronware thanks i have android now but not too many paid apps",
         "_deepnote_index_column": 212
        },
        {
         "clean_tweets": "In such a shitty mood ",
         "lowercase": "in such a shitty mood ",
         "_deepnote_index_column": 213
        },
        {
         "clean_tweets": "Springsteen is such a happy song it always makes me feel better lol",
         "lowercase": "springsteen is such a happy song it always makes me feel better lol",
         "_deepnote_index_column": 214
        },
        {
         "clean_tweets": "MrTrellTate Get cho Ol Broke foot having ass outta here lol",
         "lowercase": "mrtrelltate get cho ol broke foot having ass outta here lol",
         "_deepnote_index_column": 215
        },
        {
         "clean_tweets": "Dennis rodman is  letters away from being penis rodman ok the bus is here peace",
         "lowercase": "dennis rodman is  letters away from being penis rodman ok the bus is here peace",
         "_deepnote_index_column": 216
        },
        {
         "clean_tweets": "i wish I could just sleep alll day",
         "lowercase": "i wish i could just sleep alll day",
         "_deepnote_index_column": 217
        },
        {
         "clean_tweets": "JYira it will be close iamblack",
         "lowercase": "jyira it will be close iamblack",
         "_deepnote_index_column": 218
        },
        {
         "clean_tweets": "If trey songs doesnt make it in music he should model oohlala",
         "lowercase": "if trey songs doesnt make it in music he should model oohlala",
         "_deepnote_index_column": 219
        },
        {
         "clean_tweets": "goldngteBRIDGE holy crappies I was just about to tweet this at you ",
         "lowercase": "goldngtebridge holy crappies i was just about to tweet this at you ",
         "_deepnote_index_column": 220
        },
        {
         "clean_tweets": "banthxnyd Bruh Waka stupid as fuck for whatever he did to Gucci thats like me dissing my parents ni…",
         "lowercase": "banthxnyd bruh waka stupid as fuck for whatever he did to gucci thats like me dissing my parents ni…",
         "_deepnote_index_column": 221
        },
        {
         "clean_tweets": "alexxxh she wants theeee V you dirty slota",
         "lowercase": "alexxxh she wants theeee v you dirty slota",
         "_deepnote_index_column": 222
        },
        {
         "clean_tweets": "Drinking and Arctic Monkeys doesnt get much better",
         "lowercase": "drinking and arctic monkeys doesnt get much better",
         "_deepnote_index_column": 223
        },
        {
         "clean_tweets": "Chilling with the ladies at the park its such a nice day out today ",
         "lowercase": "chilling with the ladies at the park its such a nice day out today ",
         "_deepnote_index_column": 224
        },
        {
         "clean_tweets": "The drunk texts Im getting right nowgtgt",
         "lowercase": "the drunk texts im getting right nowgtgt",
         "_deepnote_index_column": 225
        },
        {
         "clean_tweets": "BeezyKilla lexrockss dnt got yo numba",
         "lowercase": "beezykilla lexrockss dnt got yo numba",
         "_deepnote_index_column": 226
        },
        {
         "clean_tweets": "If you need me youll come find me",
         "lowercase": "if you need me youll come find me",
         "_deepnote_index_column": 227
        },
        {
         "clean_tweets": "suxmykockiness eattmywords ZEE",
         "lowercase": "suxmykockiness eattmywords zee",
         "_deepnote_index_column": 228
        },
        {
         "clean_tweets": "Im at Maju Ahmad Paya Jaras Sunga Buloh Selangor httptcoaQhvXvlCaK",
         "lowercase": "im at maju ahmad paya jaras sunga buloh selangor httptcoaqhvxvlcak",
         "_deepnote_index_column": 229
        },
        {
         "clean_tweets": "I aint sleeping Im working out all day   gettingfit",
         "lowercase": "i aint sleeping im working out all day   gettingfit",
         "_deepnote_index_column": 230
        },
        {
         "clean_tweets": "evrKidraul every once and a while I try to help another belieber I gifted like  believe albums on i…",
         "lowercase": "evrkidraul every once and a while i try to help another belieber i gifted like  believe albums on i…",
         "_deepnote_index_column": 231
        },
        {
         "clean_tweets": "talking bout I cant talk to boys round him lol chile bye",
         "lowercase": "talking bout i cant talk to boys round him lol chile bye",
         "_deepnote_index_column": 232
        },
        {
         "clean_tweets": "MNaLiSaSmiLe relax with the emojis",
         "lowercase": "mnalisasmile relax with the emojis",
         "_deepnote_index_column": 233
        },
        {
         "clean_tweets": "Accountemps Accounting Job Bookkeeper  CENTENNIAL  CO httptcoeCgigQjEIn Jobs TweetMyJobs",
         "lowercase": "accountemps accounting job bookkeeper  centennial  co httptcoecgigqjein jobs tweetmyjobs",
         "_deepnote_index_column": 234
        },
        {
         "clean_tweets": "Real talk please dont laugh if I DM you amp ask who you talkin bout ",
         "lowercase": "real talk please dont laugh if i dm you amp ask who you talkin bout ",
         "_deepnote_index_column": 235
        },
        {
         "clean_tweets": "SimplyPD should come wake and bake",
         "lowercase": "simplypd should come wake and bake",
         "_deepnote_index_column": 236
        },
        {
         "clean_tweets": "Thats just thats just so fun",
         "lowercase": "thats just thats just so fun",
         "_deepnote_index_column": 237
        },
        {
         "clean_tweets": "I would love to be left alone",
         "lowercase": "i would love to be left alone",
         "_deepnote_index_column": 238
        },
        {
         "clean_tweets": "Im at Petek Cafe Hatay Türkiye w  others pic httptcoIdKrSpXkAp",
         "lowercase": "im at petek cafe hatay türkiye w  others pic httptcoidkrspxkap",
         "_deepnote_index_column": 239
        },
        {
         "clean_tweets": "Lets get it started Crew nnWe are massive httptcohQIeBGGRxS",
         "lowercase": "lets get it started crew nnwe are massive httptcohqiebggrxs",
         "_deepnote_index_column": 240
        },
        {
         "clean_tweets": "Mineee",
         "lowercase": "mineee",
         "_deepnote_index_column": 241
        },
        {
         "clean_tweets": "Hungry",
         "lowercase": "hungry",
         "_deepnote_index_column": 242
        },
        {
         "clean_tweets": "If only I woke up this damn early in New York",
         "lowercase": "if only i woke up this damn early in new york",
         "_deepnote_index_column": 243
        },
        {
         "clean_tweets": "At My Daddy Shit BoredSkii",
         "lowercase": "at my daddy shit boredskii",
         "_deepnote_index_column": 244
        },
        {
         "clean_tweets": "Good win Kansas ",
         "lowercase": "good win kansas ",
         "_deepnote_index_column": 245
        },
        {
         "clean_tweets": "AlsopBen so youd rather wed played Parker Walker Defoe and Huddleston And you say spurs are a crap …",
         "lowercase": "alsopben so youd rather wed played parker walker defoe and huddleston and you say spurs are a crap …",
         "_deepnote_index_column": 246
        },
        {
         "clean_tweets": "Wanna say smthg but im not that brave",
         "lowercase": "wanna say smthg but im not that brave",
         "_deepnote_index_column": 247
        },
        {
         "clean_tweets": "clarketo ceros",
         "lowercase": "clarketo ceros",
         "_deepnote_index_column": 248
        },
        {
         "clean_tweets": "Bitches and bottles micasa",
         "lowercase": "bitches and bottles micasa",
         "_deepnote_index_column": 249
        }
       ],
       "rows_bottom": [
        {
         "clean_tweets": "Im at Vizor Ortopedi httpstcoPvAfAlhn",
         "lowercase": "im at vizor ortopedi httpstcopvafalhn",
         "_deepnote_index_column": 4062
        },
        {
         "clean_tweets": "Perfect spot for a little Romani camp complete with local residents… httpstcooNubzJqNEF",
         "lowercase": "perfect spot for a little romani camp complete with local residents… httpstcoonubzjqnef",
         "_deepnote_index_column": 4063
        },
        {
         "clean_tweets": "I love capturing the sunsets after a day of rains  Walter Hall Park httpstcoarQpIFnc",
         "lowercase": "i love capturing the sunsets after a day of rains  walter hall park httpstcoarqpifnc",
         "_deepnote_index_column": 4064
        },
        {
         "clean_tweets": "     httpstcoEuONTOZh",
         "lowercase": "     httpstcoeuontozh",
         "_deepnote_index_column": 4065
        },
        {
         "clean_tweets": "Going live in just under twenty minutes for todays Thoughtful Thursday broadcast of… httpstcoFQNPNf…",
         "lowercase": "going live in just under twenty minutes for todays thoughtful thursday broadcast of… httpstcofqnpnf…",
         "_deepnote_index_column": 4066
        },
        {
         "clean_tweets": "art from the heart  Feeling the love  in   Bad Griesbach Therme httpstcoBMUgtakUi",
         "lowercase": "art from the heart  feeling the love  in   bad griesbach therme httpstcobmugtakui",
         "_deepnote_index_column": 4067
        },
        {
         "clean_tweets": " people could have seen Ankara Valiliği since its st mention until it became a Trending Topic trndnl",
         "lowercase": " people could have seen ankara valiliği since its st mention until it became a trending topic trndnl",
         "_deepnote_index_column": 4068
        },
        {
         "clean_tweets": "Im at Buyuk Kulup Cafe Dorient in Istanbul httpstcoGqYzqAvFAy",
         "lowercase": "im at buyuk kulup cafe dorient in istanbul httpstcogqyzqavfay",
         "_deepnote_index_column": 4069
        },
        {
         "clean_tweets": "Accident in PennHills on Beulah Rd EB at Melvin Ct traffic httpstcoSLOqniwpZ",
         "lowercase": "accident in pennhills on beulah rd eb at melvin ct traffic httpstcosloqniwpz",
         "_deepnote_index_column": 4070
        },
        {
         "clean_tweets": "So blessed to have met this pup   Arizona State University West… httpstcolNuyjooft",
         "lowercase": "so blessed to have met this pup   arizona state university west… httpstcolnuyjooft",
         "_deepnote_index_column": 4071
        },
        {
         "clean_tweets": "Look Danny Arnold is leading the underwear run through Main Street lakeplacid lakeplacidadk … https…",
         "lowercase": "look danny arnold is leading the underwear run through main street lakeplacid lakeplacidadk … https…",
         "_deepnote_index_column": 4072
        },
        {
         "clean_tweets": "Im at Crystal Pub w wxhuii httpstcoerVUbZPnY",
         "lowercase": "im at crystal pub w wxhuii httpstcoervubzpny",
         "_deepnote_index_column": 4073
        },
        {
         "clean_tweets": "Paz   Orla Beira Mar Fortaleza Ce httpstcoVEehDw",
         "lowercase": "paz   orla beira mar fortaleza ce httpstcoveehdw",
         "_deepnote_index_column": 4074
        },
        {
         "clean_tweets": " Take Cover Severe Thunderstorm Warning including Hutchinson MN and Glencoe MN until  PM CDT httpst…",
         "lowercase": " take cover severe thunderstorm warning including hutchinson mn and glencoe mn until  pm cdt httpst…",
         "_deepnote_index_column": 4075
        },
        {
         "clean_tweets": "Rolled ice cream belowicecream   below Ice Cream httpstcoSQVGufLktw",
         "lowercase": "rolled ice cream belowicecream   below ice cream httpstcosqvguflktw",
         "_deepnote_index_column": 4076
        },
        {
         "clean_tweets": "Hakot awards again please PushAwardsKathNiels",
         "lowercase": "hakot awards again please pushawardskathniels",
         "_deepnote_index_column": 4077
        },
        {
         "clean_tweets": "Were hiring Read about our latest job opening here Store Counter Sales  httpstcoxIOMMQn Sales OCALA…",
         "lowercase": "were hiring read about our latest job opening here store counter sales  httpstcoxiommqn sales ocala…",
         "_deepnote_index_column": 4078
        },
        {
         "clean_tweets": "Were hiring Click to apply Sr Network Systems Administrator  httpstcobpfaGShkV Job IT Wilsonville O…",
         "lowercase": "were hiring click to apply sr network systems administrator  httpstcobpfagshkv job it wilsonville o…",
         "_deepnote_index_column": 4079
        },
        {
         "clean_tweets": "One wrong move bird…roasted pidgey Costco bayarea richmond albany pokemongo  Costco httpstcoNPaRMhpD",
         "lowercase": "one wrong move bird…roasted pidgey costco bayarea richmond albany pokemongo  costco httpstconparmhpd",
         "_deepnote_index_column": 4080
        },
        {
         "clean_tweets": "lovelpevilregal Remember when we met in hollywood at fredsegal when you got my original gold… https…",
         "lowercase": "lovelpevilregal remember when we met in hollywood at fredsegal when you got my original gold… https…",
         "_deepnote_index_column": 4081
        },
        {
         "clean_tweets": "Im at Arts District CoOp in Los Angeles Calif httpstcoBQIInmel",
         "lowercase": "im at arts district coop in los angeles calif httpstcobqiinmel",
         "_deepnote_index_column": 4082
        },
        {
         "clean_tweets": " ℃n℃n sakai  httpstcoEjLpIyPq",
         "lowercase": " ℃n℃n sakai  httpstcoejlpiypq",
         "_deepnote_index_column": 4083
        },
        {
         "clean_tweets": "Abelha cachorra no chão  Sao Jacinto  Cabo Frio httpstcoXFFCVbOfOx",
         "lowercase": "abelha cachorra no chão  sao jacinto  cabo frio httpstcoxffcvbofox",
         "_deepnote_index_column": 4084
        },
        {
         "clean_tweets": "Look at the sushi and the fishso fresh and tempting happyseafood schipholairport… httpstcoLfCOVNyqy",
         "lowercase": "look at the sushi and the fishso fresh and tempting happyseafood schipholairport… httpstcolfcovnyqy",
         "_deepnote_index_column": 4085
        },
        {
         "clean_tweets": "Join the Macys Retail team See our latest job opening here httpstcosdvIoaBI Retail SanJose CA Hirin…",
         "lowercase": "join the macys retail team see our latest job opening here httpstcosdvioabi retail sanjose ca hirin…",
         "_deepnote_index_column": 4086
        },
        {
         "clean_tweets": "    httpstcogvcNAmz",
         "lowercase": "    httpstcogvcnamz",
         "_deepnote_index_column": 4087
        },
        {
         "clean_tweets": "summersale online and instore   Indigo amp Cloth httpstcofHKoIzJ",
         "lowercase": "summersale online and instore   indigo amp cloth httpstcofhkoizj",
         "_deepnote_index_column": 4088
        },
        {
         "clean_tweets": "Im at Denver International Airport  denairport in Denver CO httpstcoRHRJCbQHsc",
         "lowercase": "im at denver international airport  denairport in denver co httpstcorhrjcbqhsc",
         "_deepnote_index_column": 4089
        },
        {
         "clean_tweets": "This job might be a great fit for you Supervisor Legends at Sparks NV  httpstcoLbrGetVh Retail Spar…",
         "lowercase": "this job might be a great fit for you supervisor legends at sparks nv  httpstcolbrgetvh retail spar…",
         "_deepnote_index_column": 4090
        },
        {
         "clean_tweets": "Just posted a photo  Bertioga Sao Paulo Brazil httpstcoJCFBMC",
         "lowercase": "just posted a photo  bertioga sao paulo brazil httpstcojcfbmc",
         "_deepnote_index_column": 4091
        },
        {
         "clean_tweets": "Drinking a White Rascal by AveryBrewingCo at kraftworkbar — httpstcobrxveJeWvh",
         "lowercase": "drinking a white rascal by averybrewingco at kraftworkbar — httpstcobrxvejewvh",
         "_deepnote_index_column": 4092
        },
        {
         "clean_tweets": "Can you recommend anyone for this job httpstcovUcHxebPy Banking NUTLEY NJ Hiring CareerArc",
         "lowercase": "can you recommend anyone for this job httpstcovuchxebpy banking nutley nj hiring careerarc",
         "_deepnote_index_column": 4093
        },
        {
         "clean_tweets": "Love these pictures from the beach two years ago  On The Beach … httpstcoqyKdVLQb",
         "lowercase": "love these pictures from the beach two years ago  on the beach … httpstcoqykdvlqb",
         "_deepnote_index_column": 4094
        },
        {
         "clean_tweets": "Whisky is sunlight held together by water Happy National Scotch Day whisky scotch… httpstcoNUIsYLeY",
         "lowercase": "whisky is sunlight held together by water happy national scotch day whisky scotch… httpstconuisyley",
         "_deepnote_index_column": 4095
        },
        {
         "clean_tweets": "Im at Universiti Tunku Abdul Rahman UTAR  utarnet in Kajang Selangor httpstcoAspYTTvWk",
         "lowercase": "im at universiti tunku abdul rahman utar  utarnet in kajang selangor httpstcoaspyttvwk",
         "_deepnote_index_column": 4096
        },
        {
         "clean_tweets": "vibes  karlynw  CAFÉ MEDI httpstcokmKJRIUUm",
         "lowercase": "vibes  karlynw  café medi httpstcokmkjriuum",
         "_deepnote_index_column": 4097
        },
        {
         "clean_tweets": "Im at SunwayPyramid in Petaling Jaya Selangor w maisarahreza kaeshen httpstcoKowXhgvwy",
         "lowercase": "im at sunwaypyramid in petaling jaya selangor w maisarahreza kaeshen httpstcokowxhgvwy",
         "_deepnote_index_column": 4098
        },
        {
         "clean_tweets": "Part  of my friends beautiful traveling pictures nnPhoto credit  dominiricanlife  Marine… httpstcoY…",
         "lowercase": "part  of my friends beautiful traveling pictures nnphoto credit  dominiricanlife  marine… httpstcoy…",
         "_deepnote_index_column": 4099
        },
        {
         "clean_tweets": "Hasan  Elma Pub amp Beercity in Beşiktaş Istanbul w erdiarkutcu httpstcoGtUXQJqtB",
         "lowercase": "hasan  elma pub amp beercity in beşiktaş istanbul w erdiarkutcu httpstcogtuxqjqtb",
         "_deepnote_index_column": 4100
        },
        {
         "clean_tweets": "HiltonSuggests SamLDonaldson Is it swimming weather as August starts surely  Corte Madera or down t…",
         "lowercase": "hiltonsuggests samldonaldson is it swimming weather as august starts surely  corte madera or down t…",
         "_deepnote_index_column": 4101
        },
        {
         "clean_tweets": "Were hiring Click to apply Medical Compliance Auditor  Health Plan  httpstcoqKoGoJhLA Job Nursing H…",
         "lowercase": "were hiring click to apply medical compliance auditor  health plan  httpstcoqkogojhla job nursing h…",
         "_deepnote_index_column": 4102
        },
        {
         "clean_tweets": "My new home  vscocam vsco happymoments summer july yucatan méxico trip inlove … httpstcodhVygvZf",
         "lowercase": "my new home  vscocam vsco happymoments summer july yucatan méxico trip inlove … httpstcodhvygvzf",
         "_deepnote_index_column": 4103
        },
        {
         "clean_tweets": "Im at  in   httpstcoqyOAlQdbj",
         "lowercase": "im at  in   httpstcoqyoalqdbj",
         "_deepnote_index_column": 4104
        },
        {
         "clean_tweets": "A wild Fearow appeared at  Clark Way Only  minutes left PokemonGo Stanford httpstcorItNabbb",
         "lowercase": "a wild fearow appeared at  clark way only  minutes left pokemongo stanford httpstcoritnabbb",
         "_deepnote_index_column": 4105
        },
        {
         "clean_tweets": "I just finished running  km in ms with Endomondo endorphins httpstcolWyIdIj",
         "lowercase": "i just finished running  km in ms with endomondo endorphins httpstcolwyidij",
         "_deepnote_index_column": 4106
        },
        {
         "clean_tweets": "ready to take on the sfmarathon  San Francisco California httpstcoaxXeYbOj",
         "lowercase": "ready to take on the sfmarathon  san francisco california httpstcoaxxeyboj",
         "_deepnote_index_column": 4107
        },
        {
         "clean_tweets": "Im at    sukiyacp in Nagoyashi  httpstcoNYzzwHnvBP",
         "lowercase": "im at    sukiyacp in nagoyashi  httpstconyzzwhnvbp",
         "_deepnote_index_column": 4108
        },
        {
         "clean_tweets": "Im at Tops Market in Sathon Bangkok httpstcocTqgMbOziw",
         "lowercase": "im at tops market in sathon bangkok httpstcoctqgmboziw",
         "_deepnote_index_column": 4109
        },
        {
         "clean_tweets": "temperature down °F gt °Fnhumidity up  gt nwind mph gt mph",
         "lowercase": "temperature down °f gt °fnhumidity up  gt nwind mph gt mph",
         "_deepnote_index_column": 4110
        },
        {
         "clean_tweets": "We all got the gene for peanut butter obsession CousinLove   Akron Ohio httpstcoQhtzEctBW",
         "lowercase": "we all got the gene for peanut butter obsession cousinlove   akron ohio httpstcoqhtzectbw",
         "_deepnote_index_column": 4111
        },
        {
         "clean_tweets": " Sunday July  nn∘nHope you all are having an… httpstcohDZjNhd",
         "lowercase": " sunday july  nn∘nhope you all are having an… httpstcohdzjnhd",
         "_deepnote_index_column": 4112
        },
        {
         "clean_tweets": " places to celebrate shavedicesundayn• at imogenewillie w BaoDownTNn• at… httpstcoKTHnosHW",
         "lowercase": " places to celebrate shavedicesundayn• at imogenewillie w baodowntnn• at… httpstcokthnoshw",
         "_deepnote_index_column": 4113
        },
        {
         "clean_tweets": "lushbandofficial newcastle timessquare  Live from Times Square httpstcoWqlaHVysg",
         "lowercase": "lushbandofficial newcastle timessquare  live from times square httpstcowqlahvysg",
         "_deepnote_index_column": 4114
        },
        {
         "clean_tweets": "Lol  Department of civil engineering httpstcoeKhCQIyKzJ",
         "lowercase": "lol  department of civil engineering httpstcoekhcqiykzj",
         "_deepnote_index_column": 4115
        },
        {
         "clean_tweets": "Im at   in   httpstcogPReRJwD",
         "lowercase": "im at   in   httpstcogprerjwd",
         "_deepnote_index_column": 4116
        },
        {
         "clean_tweets": " watts httpstcoHRLFCwFuDf",
         "lowercase": " watts httpstcohrlfcwfudf",
         "_deepnote_index_column": 4117
        },
        {
         "clean_tweets": "jamuelscones Christ keep well clearnnThough normally the alcohol will kill the bugs its why beer be…",
         "lowercase": "jamuelscones christ keep well clearnnthough normally the alcohol will kill the bugs its why beer be…",
         "_deepnote_index_column": 4118
        },
        {
         "clean_tweets": "This job might be a great fit for you Emergency Medicine  EM Physician  httpstcoFfLyuJLsy Emergency…",
         "lowercase": "this job might be a great fit for you emergency medicine  em physician  httpstcofflyujlsy emergency…",
         "_deepnote_index_column": 4119
        },
        {
         "clean_tweets": "this is always happening  Museum of Fine Arts Boston httpstcoqXdMV",
         "lowercase": "this is always happening  museum of fine arts boston httpstcoqxdmv",
         "_deepnote_index_column": 4120
        },
        {
         "clean_tweets": " Positive Energy   Jakarta Indonesia httpstcoxkTwB",
         "lowercase": " positive energy   jakarta indonesia httpstcoxktwb",
         "_deepnote_index_column": 4121
        },
        {
         "clean_tweets": "Im at  in   httpstcomFDlZdx",
         "lowercase": "im at  in   httpstcomfdlzdx",
         "_deepnote_index_column": 4122
        },
        {
         "clean_tweets": "Interested in a job near Pittsburgh PA This could be a great fit httpstcorLlDQzRdK Retail Hiring",
         "lowercase": "interested in a job near pittsburgh pa this could be a great fit httpstcorlldqzrdk retail hiring",
         "_deepnote_index_column": 4123
        },
        {
         "clean_tweets": "Monthly DPA Meeting with OSH highlights Wayne  Republic Airport in Farmingdale NY httpstcouQRwsg",
         "lowercase": "monthly dpa meeting with osh highlights wayne  republic airport in farmingdale ny httpstcouqrwsg",
         "_deepnote_index_column": 4124
        },
        {
         "clean_tweets": "rafal AuthenticDane wildernerd This could totally be from a park no httpstcoLOCgHCvP",
         "lowercase": "rafal authenticdane wildernerd this could totally be from a park no httpstcolocghcvp",
         "_deepnote_index_column": 4125
        },
        {
         "clean_tweets": "Bagaimana uas lisan bahasa… w Muhammad Rijha Sakinah amp  others at Universitas Maritim Raja Ali Ha…",
         "lowercase": "bagaimana uas lisan bahasa… w muhammad rijha sakinah amp  others at universitas maritim raja ali ha…",
         "_deepnote_index_column": 4126
        },
        {
         "clean_tweets": "Eh Mfundisi Ayanda Deejaying at the Beach Uzalo",
         "lowercase": "eh mfundisi ayanda deejaying at the beach uzalo",
         "_deepnote_index_column": 4127
        },
        {
         "clean_tweets": "Check out our listing in Hickory KY httpstcoWpGMsQupC realestate realtor httpstcooCztRdRXG",
         "lowercase": "check out our listing in hickory ky httpstcowpgmsqupc realestate realtor httpstcoocztrdrxg",
         "_deepnote_index_column": 4128
        },
        {
         "clean_tweets": "Nongki Pasisiang nselfie me instalike insatagram likeforlike likelike nongki… httpstcoIjEyiYODu",
         "lowercase": "nongki pasisiang nselfie me instalike insatagram likeforlike likelike nongki… httpstcoijeyiyodu",
         "_deepnote_index_column": 4129
        },
        {
         "clean_tweets": "Im at Seri Market in Prawet Bangkok httpstcoSiDbUWHxQz",
         "lowercase": "im at seri market in prawet bangkok httpstcosidbuwhxqz",
         "_deepnote_index_column": 4130
        },
        {
         "clean_tweets": "Want to work at Macys Retail Were hiring in Warwick RI Click for details httpstcodOCPvilH Job Finan…",
         "lowercase": "want to work at macys retail were hiring in warwick ri click for details httpstcodocpvilh job finan…",
         "_deepnote_index_column": 4131
        },
        {
         "clean_tweets": "Im at Sushi King in Kuching Sarawak httpstcorQyqEYkJy",
         "lowercase": "im at sushi king in kuching sarawak httpstcorqyqeykjy",
         "_deepnote_index_column": 4132
        },
        {
         "clean_tweets": "Im at Hanbing Korean Dessert Cafe  Subang Courtyard w chunleng httpstcovpBlWmVjJ",
         "lowercase": "im at hanbing korean dessert cafe  subang courtyard w chunleng httpstcovpblwmvjj",
         "_deepnote_index_column": 4133
        },
        {
         "clean_tweets": "Im at Ordu in Ordu Türkiye httpstconBjHkOXI",
         "lowercase": "im at ordu in ordu türkiye httpstconbjhkoxi",
         "_deepnote_index_column": 4134
        },
        {
         "clean_tweets": "Ed Jake an JD newhaircut lookinggood beautifulsons cutekidsofinstagram happymomma xxx … httpstcoIrH…",
         "lowercase": "ed jake an jd newhaircut lookinggood beautifulsons cutekidsofinstagram happymomma xxx … httpstcoirh…",
         "_deepnote_index_column": 4135
        },
        {
         "clean_tweets": "Accident cleared in HudsonRiverCrossingsGwbLowerUnderTheApartments on The GWB Lower Level NB betwee…",
         "lowercase": "accident cleared in hudsonrivercrossingsgwblowerundertheapartments on the gwb lower level nb betwee…",
         "_deepnote_index_column": 4136
        },
        {
         "clean_tweets": "Im at Hayal Kahvesi in Adana Türkiye w ablakalican httpstcoSrnGYyia",
         "lowercase": "im at hayal kahvesi in adana türkiye w ablakalican httpstcosrngyyia",
         "_deepnote_index_column": 4137
        },
        {
         "clean_tweets": "This dude is killing me Love him  Point State Park httpstcoVYgWnXd",
         "lowercase": "this dude is killing me love him  point state park httpstcovygwnxd",
         "_deepnote_index_column": 4138
        },
        {
         "clean_tweets": "See our latest job and click to apply Barista US  httpstcodBfcxGWg Hospitality Veterans Hiring Care…",
         "lowercase": "see our latest job and click to apply barista us  httpstcodbfcxgwg hospitality veterans hiring care…",
         "_deepnote_index_column": 4139
        },
        {
         "clean_tweets": "hfffftttt at Pondok titan — httpstcoUAoqvlqd",
         "lowercase": "hfffftttt at pondok titan — httpstcouaoqvlqd",
         "_deepnote_index_column": 4140
        },
        {
         "clean_tweets": "Got the Whole Bethal Down filled with these AsnGetYourSwaggOnTonightnWe out at… httpstcoiXQXUbavl",
         "lowercase": "got the whole bethal down filled with these asngetyourswaggontonightnwe out at… httpstcoixqxubavl",
         "_deepnote_index_column": 4141
        },
        {
         "clean_tweets": "Great night   Slate  The Row in Kuala Lumpur w thejayleong johnathanyjj httpstcohyoyfWN",
         "lowercase": "great night   slate  the row in kuala lumpur w thejayleong johnathanyjj httpstcohyoyfwn",
         "_deepnote_index_column": 4142
        },
        {
         "clean_tweets": "Watching Suicide Squad at cinema — httpstcoVIzNVUVVu",
         "lowercase": "watching suicide squad at cinema — httpstcoviznvuvvu",
         "_deepnote_index_column": 4143
        },
        {
         "clean_tweets": "Shopping day with mommy  at PaseoSanPedro in San Pedro Garza García NL httpstcoURsBCHKZfb",
         "lowercase": "shopping day with mommy  at paseosanpedro in san pedro garza garcía nl httpstcoursbchkzfb",
         "_deepnote_index_column": 4144
        },
        {
         "clean_tweets": "Can you recommend anyone for this job httpstcozmRVIiBDF IT StLouis MO Hiring",
         "lowercase": "can you recommend anyone for this job httpstcozmrviibdf it stlouis mo hiring",
         "_deepnote_index_column": 4145
        },
        {
         "clean_tweets": "Im at Altınkum Plajı in Edremit Balıkesir Balıkesir httpstcoPWNTNJz",
         "lowercase": "im at altınkum plajı in edremit balıkesir balıkesir httpstcopwntnjz",
         "_deepnote_index_column": 4146
        },
        {
         "clean_tweets": "Im at  in Koto  httpstcoqskilmuhK",
         "lowercase": "im at  in koto  httpstcoqskilmuhk",
         "_deepnote_index_column": 4147
        },
        {
         "clean_tweets": "Back to it tomorrow  Trail Ridge Middle School httpstcohucboaxmP",
         "lowercase": "back to it tomorrow  trail ridge middle school httpstcohucboaxmp",
         "_deepnote_index_column": 4148
        },
        {
         "clean_tweets": "gigilevangie cant let me watch the game quietly  Cooperstown All Star Village httpstcobuNOfzMjp",
         "lowercase": "gigilevangie cant let me watch the game quietly  cooperstown all star village httpstcobunofzmjp",
         "_deepnote_index_column": 4149
        },
        {
         "clean_tweets": "Roll tide Bama  Mobile Regional Airport in Mobile AL httpstcoeQyKKfFjJ",
         "lowercase": "roll tide bama  mobile regional airport in mobile al httpstcoeqykkffjj",
         "_deepnote_index_column": 4150
        },
        {
         "clean_tweets": "Yup RT DreEastwood OVERRATED  httpstcohhAoUbshc",
         "lowercase": "yup rt dreeastwood overrated  httpstcohhaoubshc",
         "_deepnote_index_column": 4151
        },
        {
         "clean_tweets": "Playing with wave sensitive androwave LED lights Check our website for full range  Buller httpstcol…",
         "lowercase": "playing with wave sensitive androwave led lights check our website for full range  buller httpstcol…",
         "_deepnote_index_column": 4152
        },
        {
         "clean_tweets": "Can you recommend anyone for this job Ecommerce Human Resources Manager  httpstcoeJiuAzqbGh HR Seat…",
         "lowercase": "can you recommend anyone for this job ecommerce human resources manager  httpstcoejiuazqbgh hr seat…",
         "_deepnote_index_column": 4153
        },
        {
         "clean_tweets": "Greenniloveit lovenature terranaturamurcia terranatura instagreen instalike green… httpstcoFaxFWasXg",
         "lowercase": "greenniloveit lovenature terranaturamurcia terranatura instagreen instalike green… httpstcofaxfwasxg",
         "_deepnote_index_column": 4154
        },
        {
         "clean_tweets": "Want to work at Robert Half Finance amp Accounting Were hiring in Inglewood CA Click for details ht…",
         "lowercase": "want to work at robert half finance amp accounting were hiring in inglewood ca click for details ht…",
         "_deepnote_index_column": 4155
        },
        {
         "clean_tweets": "Left Hand Rye On The Prize now available in bottles httpstcoNTxvmbxAhW lefthandbrewing BeerMenus",
         "lowercase": "left hand rye on the prize now available in bottles httpstcontxvmbxahw lefthandbrewing beermenus",
         "_deepnote_index_column": 4156
        },
        {
         "clean_tweets": "current weather in Willowbrook clear sky °Fn humidity wind mph pressure mb",
         "lowercase": "current weather in willowbrook clear sky °fn humidity wind mph pressure mb",
         "_deepnote_index_column": 4157
        },
        {
         "clean_tweets": "If youre looking for work in Westport CT check out this job httpstcoxeAKrDr stepintoourshoes Retail…",
         "lowercase": "if youre looking for work in westport ct check out this job httpstcoxeakrdr stepintoourshoes retail…",
         "_deepnote_index_column": 4158
        },
        {
         "clean_tweets": "Im at  İstanbul in İstanbul Türkiye httpstcokEVoYVCCM",
         "lowercase": "im at  i̇stanbul in i̇stanbul türkiye httpstcokevoyvccm",
         "_deepnote_index_column": 4159
        },
        {
         "clean_tweets": "FireAlarm Collins St Docklands Responding  Appliances Timeline httpstcoVtwIwMj httpstcoNabZILW",
         "lowercase": "firealarm collins st docklands responding  appliances timeline httpstcovtwiwmj httpstconabzilw",
         "_deepnote_index_column": 4160
        },
        {
         "clean_tweets": "Just posted a photo  Lake Shenandoah County Park httpstcoLRuhllrGM",
         "lowercase": "just posted a photo  lake shenandoah county park httpstcolruhllrgm",
         "_deepnote_index_column": 4161
        },
        {
         "clean_tweets": "Interested in a job near LosAngeles CA This could be a great fit httpstcoHwZxdUPPJ Hospitality Hiri…",
         "lowercase": "interested in a job near losangeles ca this could be a great fit httpstcohwzxduppj hospitality hiri…",
         "_deepnote_index_column": 4162
        },
        {
         "clean_tweets": "At ShimoOtai Station  — httpstcopSYfltUVtP",
         "lowercase": "at shimootai station  — httpstcopsyfltuvtp",
         "_deepnote_index_column": 4163
        },
        {
         "clean_tweets": "SteamController ValveCorporation BellevueWA  Valve Software Corporation httpstcoMJTFNdADk",
         "lowercase": "steamcontroller valvecorporation bellevuewa  valve software corporation httpstcomjtfndadk",
         "_deepnote_index_column": 4164
        },
        {
         "clean_tweets": "Nothing beats our white beaches  … httpstcouPMlVRJS",
         "lowercase": "nothing beats our white beaches  … httpstcoupmlvrjs",
         "_deepnote_index_column": 4165
        },
        {
         "clean_tweets": "Excuse my nails  Pasay City Philippines httpstcoxQumqK",
         "lowercase": "excuse my nails  pasay city philippines httpstcoxqumqk",
         "_deepnote_index_column": 4166
        },
        {
         "clean_tweets": "birthday celebrations at hostel thanks a lot guys  I I T T… httpstcoGTyBOxXuU",
         "lowercase": "birthday celebrations at hostel thanks a lot guys  i i t t… httpstcogtyboxxuu",
         "_deepnote_index_column": 4167
        },
        {
         "clean_tweets": "Here again for bfast    in  httpstcokXXBIYqcV",
         "lowercase": "here again for bfast    in  httpstcokxxbiyqcv",
         "_deepnote_index_column": 4168
        },
        {
         "clean_tweets": "budweiser fridaynight happy  CR House Bar httpstcosmJbJQG",
         "lowercase": "budweiser fridaynight happy  cr house bar httpstcosmjbjqg",
         "_deepnote_index_column": 4169
        },
        {
         "clean_tweets": "     twrofficial in   httpstcohdScsSqwz httpstcokVVEEU",
         "lowercase": "     twrofficial in   httpstcohdscssqwz httpstcokvveeu",
         "_deepnote_index_column": 4170
        },
        {
         "clean_tweets": "Rather Be by Clean Bandit Featuring Jess Glynne is nowplaying in Collector Hotel Parramatta",
         "lowercase": "rather be by clean bandit featuring jess glynne is nowplaying in collector hotel parramatta",
         "_deepnote_index_column": 4171
        },
        {
         "clean_tweets": "Surely the castle would be a no fly zone but I assume britishairwaysunitedkingdom has a… httpstcozw…",
         "lowercase": "surely the castle would be a no fly zone but i assume britishairwaysunitedkingdom has a… httpstcozw…",
         "_deepnote_index_column": 4172
        },
        {
         "clean_tweets": "See our latest job and click to apply Shift Supervisor US  httpstcoJLWccsL Hospitality Veterans Hir…",
         "lowercase": "see our latest job and click to apply shift supervisor us  httpstcojlwccsl hospitality veterans hir…",
         "_deepnote_index_column": 4173
        },
        {
         "clean_tweets": "Just posted a photo  Musée Dali Figueras httpstcoWjIzqMbK",
         "lowercase": "just posted a photo  musée dali figueras httpstcowjizqmbk",
         "_deepnote_index_column": 4174
        },
        {
         "clean_tweets": "  Putri House httpstcovJjEhHWIsQ",
         "lowercase": "  putri house httpstcovjjehhwisq",
         "_deepnote_index_column": 4175
        },
        {
         "clean_tweets": "Its time for another openhouse Drop by  Imogene Crescent today from pm royallepage… httpstcoqZxdFPp…",
         "lowercase": "its time for another openhouse drop by  imogene crescent today from pm royallepage… httpstcoqzxdfpp…",
         "_deepnote_index_column": 4176
        },
        {
         "clean_tweets": "The Dynamic Duo at it again gatorsdockside in Julington Creek Come out amp show some love… httpstco…",
         "lowercase": "the dynamic duo at it again gatorsdockside in julington creek come out amp show some love… httpstco…",
         "_deepnote_index_column": 4177
        },
        {
         "clean_tweets": "Im at Sanduiche vila  httpstcoGbFUPvsV",
         "lowercase": "im at sanduiche vila  httpstcogbfupvsv",
         "_deepnote_index_column": 4178
        },
        {
         "clean_tweets": "GuidingnGuatemala outdoor photography architecture trip hiking camping lifestyle… httpstcoYUysKxfUa",
         "lowercase": "guidingnguatemala outdoor photography architecture trip hiking camping lifestyle… httpstcoyuyskxfua",
         "_deepnote_index_column": 4179
        },
        {
         "clean_tweets": "This job might be a great fit for you Full Time Store Associate  Sperry  httpstcoApiBMLxR Retail In…",
         "lowercase": "this job might be a great fit for you full time store associate  sperry  httpstcoapibmlxr retail in…",
         "_deepnote_index_column": 4180
        },
        {
         "clean_tweets": "Im at KTM Line  Shah Alam Station KD  ktmkomuter in Shah Alam Selangor httpstcoXqvYGGFAV",
         "lowercase": "im at ktm line  shah alam station kd  ktmkomuter in shah alam selangor httpstcoxqvyggfav",
         "_deepnote_index_column": 4181
        },
        {
         "clean_tweets": "Wind  mph NEnBarometer  mb FallingnTemperature  CnRain today  mmnHumidity  nClacton Weathernhttpstc…",
         "lowercase": "wind  mph nenbarometer  mb fallingntemperature  cnrain today  mmnhumidity  nclacton weathernhttpstc…",
         "_deepnote_index_column": 4182
        },
        {
         "clean_tweets": "Were hiring Read about our latest job opening here Cook  httpstcoXsKsgSDb Hospitality Mauriceville …",
         "lowercase": "were hiring read about our latest job opening here cook  httpstcoxsksgsdb hospitality mauriceville …",
         "_deepnote_index_column": 4183
        },
        {
         "clean_tweets": "Im at izumoden in   httpstcokCgzAWUZH",
         "lowercase": "im at izumoden in   httpstcokcgzawuzh",
         "_deepnote_index_column": 4184
        },
        {
         "clean_tweets": "current weather in Gizeh clear sky °Cn humidity wind kmh pressure mb",
         "lowercase": "current weather in gizeh clear sky °cn humidity wind kmh pressure mb",
         "_deepnote_index_column": 4185
        },
        {
         "clean_tweets": "Hats off for having Keep It Like a Secret by Built To Spill be the soundtrack to my httpstcoXUlIRgU…",
         "lowercase": "hats off for having keep it like a secret by built to spill be the soundtrack to my httpstcoxulirgu…",
         "_deepnote_index_column": 4186
        },
        {
         "clean_tweets": "Omg best httpstcorEXAvbG",
         "lowercase": "omg best httpstcorexavbg",
         "_deepnote_index_column": 4187
        },
        {
         "clean_tweets": "Im at   in   httpstcoUIGaVk",
         "lowercase": "im at   in   httpstcouigavk",
         "_deepnote_index_column": 4188
        },
        {
         "clean_tweets": "weatherhutton essex Fine weather Temp °C Humid  Wind mph ENE Baro  hPa Steady Rain Today mm",
         "lowercase": "weatherhutton essex fine weather temp °c humid  wind mph ene baro  hpa steady rain today mm",
         "_deepnote_index_column": 4189
        },
        {
         "clean_tweets": "Im at  in   httpstconlzTZNce",
         "lowercase": "im at  in   httpstconlztznce",
         "_deepnote_index_column": 4190
        },
        {
         "clean_tweets": "The best family to be apart of Join us on the weekends  Studentlife NW httpstcowNPWyGVcT",
         "lowercase": "the best family to be apart of join us on the weekends  studentlife nw httpstcownpwygvct",
         "_deepnote_index_column": 4191
        },
        {
         "clean_tweets": "Throwback to Svalbard photo nnWhile its a bit quiet for me and earning cash for my next… httpstcozm…",
         "lowercase": "throwback to svalbard photo nnwhile its a bit quiet for me and earning cash for my next… httpstcozm…",
         "_deepnote_index_column": 4192
        },
        {
         "clean_tweets": "Im at Taksim in Beyoğlu Istanbul httpstcoDmZZcvUdKq",
         "lowercase": "im at taksim in beyoğlu istanbul httpstcodmzzcvudkq",
         "_deepnote_index_column": 4193
        },
        {
         "clean_tweets": "Now to end the work day with a little music TodayInNashville shanklesandrew greenfleet … httpstcoXq…",
         "lowercase": "now to end the work day with a little music todayinnashville shanklesandrew greenfleet … httpstcoxq…",
         "_deepnote_index_column": 4194
        },
        {
         "clean_tweets": "BarbraStreisand themusicthememriesthemagic from Brooklyn  August    banter Barbra… httpstcoRripfgc",
         "lowercase": "barbrastreisand themusicthememriesthemagic from brooklyn  august    banter barbra… httpstcorripfgc",
         "_deepnote_index_column": 4195
        },
        {
         "clean_tweets": "Were hiring Read about our latest job opening here RN Registered Nurse  Med  httpstcoVkBfEHkcR http…",
         "lowercase": "were hiring read about our latest job opening here rn registered nurse  med  httpstcovkbfehkcr http…",
         "_deepnote_index_column": 4196
        },
        {
         "clean_tweets": "Im at Des Moines International Airport DSM  dsmairport in Des Moines IA httpstcoNObVmXXST",
         "lowercase": "im at des moines international airport dsm  dsmairport in des moines ia httpstconobvmxxst",
         "_deepnote_index_column": 4197
        },
        {
         "clean_tweets": "Say uncle  Mike Archerporter  FQ Story Historic Neighborhood httpstcoeCtDuZwe",
         "lowercase": "say uncle  mike archerporter  fq story historic neighborhood httpstcoectduzwe",
         "_deepnote_index_column": 4198
        },
        {
         "clean_tweets": "  City of San Carlos httpstcoMuFlvijQJ",
         "lowercase": "  city of san carlos httpstcomuflvijqj",
         "_deepnote_index_column": 4199
        },
        {
         "clean_tweets": "Im at   in   httpstcoWWHgeTmJ",
         "lowercase": "im at   in   httpstcowwhgetmj",
         "_deepnote_index_column": 4200
        },
        {
         "clean_tweets": "Im at  Yıl Parkı in Ankara Türkiye httpstcoGQEHygk",
         "lowercase": "im at  yıl parkı in ankara türkiye httpstcogqehygk",
         "_deepnote_index_column": 4201
        },
        {
         "clean_tweets": "Interested in a job near Louisville KY This could be a great fit httpstcoGbGgiEX dialysis Healthcar…",
         "lowercase": "interested in a job near louisville ky this could be a great fit httpstcogbggiex dialysis healthcar…",
         "_deepnote_index_column": 4202
        },
        {
         "clean_tweets": "littlebigtown usbankstadium lukebryan  US Bank Stadium httpstcokFtCjDKT",
         "lowercase": "littlebigtown usbankstadium lukebryan  us bank stadium httpstcokftcjdkt",
         "_deepnote_index_column": 4203
        },
        {
         "clean_tweets": "Tennessee  usa summer summer summer like happy friends… httpstcoLXuMEwAM",
         "lowercase": "tennessee  usa summer summer summer like happy friends… httpstcolxumewam",
         "_deepnote_index_column": 4204
        },
        {
         "clean_tweets": "Congratulations to our BEAUTIFUL bride Kayli We are rockin out brides amp bridesmaids all day… http…",
         "lowercase": "congratulations to our beautiful bride kayli we are rockin out brides amp bridesmaids all day… http…",
         "_deepnote_index_column": 4205
        },
        {
         "clean_tweets": "Such a wonderful gathering theorchard at our last weekend at this site gloriadei paxdeo… httpstcoSJ…",
         "lowercase": "such a wonderful gathering theorchard at our last weekend at this site gloriadei paxdeo… httpstcosj…",
         "_deepnote_index_column": 4206
        },
        {
         "clean_tweets": "Im at   in   httpstcoJCBQDXmM",
         "lowercase": "im at   in   httpstcojcbqdxmm",
         "_deepnote_index_column": 4207
        },
        {
         "clean_tweets": "I had a blast in AsiaNow Im back on road nCc coreytstokes ThaFitnessGuru PaceforSuccess… httpstcoHb…",
         "lowercase": "i had a blast in asianow im back on road ncc coreytstokes thafitnessguru paceforsuccess… httpstcohb…",
         "_deepnote_index_column": 4208
        },
        {
         "clean_tweets": "Im at Point Pleasant Manor  ptpleasantmanor in Point Pleasant Beach NJ httpstcoelDBqUQ",
         "lowercase": "im at point pleasant manor  ptpleasantmanor in point pleasant beach nj httpstcoeldbquq",
         "_deepnote_index_column": 4209
        },
        {
         "clean_tweets": "  Feria De Malaga httpstcoEJFldWA",
         "lowercase": "  feria de malaga httpstcoejfldwa",
         "_deepnote_index_column": 4210
        },
        {
         "clean_tweets": "Opened Illegal Parking report via iphone at  Chestnut St httpstcoTyigow httpstcoRfdCyKRKx",
         "lowercase": "opened illegal parking report via iphone at  chestnut st httpstcotyigow httpstcorfdcykrkx",
         "_deepnote_index_column": 4211
        },
        {
         "clean_tweets": "Im at   in   httpstcozpbuSRDvR",
         "lowercase": "im at   in   httpstcozpbusrdvr",
         "_deepnote_index_column": 4212
        },
        {
         "clean_tweets": "FLAWLESS   Playa La Manga Del Mar Menor httpstcopPcNvjB",
         "lowercase": "flawless   playa la manga del mar menor httpstcoppcnvjb",
         "_deepnote_index_column": 4213
        },
        {
         "clean_tweets": "Heladeandoo  Amandau httpstcotcOgly",
         "lowercase": "heladeandoo  amandau httpstcotcogly",
         "_deepnote_index_column": 4214
        },
        {
         "clean_tweets": "n   httpstcoPQPaUbLY",
         "lowercase": "n   httpstcopqpaubly",
         "_deepnote_index_column": 4215
        },
        {
         "clean_tweets": " Lunch at Polpo in Soho A mezze of goodies lunch Italian tapas summer europe london… httpstcoyKcDEw…",
         "lowercase": " lunch at polpo in soho a mezze of goodies lunch italian tapas summer europe london… httpstcoykcdew…",
         "_deepnote_index_column": 4216
        },
        {
         "clean_tweets": "Im at Gabrielas House in Agronômica Santa Catarina httpstcoYdvarbrq",
         "lowercase": "im at gabrielas house in agronômica santa catarina httpstcoydvarbrq",
         "_deepnote_index_column": 4217
        },
        {
         "clean_tweets": "Im at Londrina Lanches in Ipanema PR httpstcoSRZQvumBCf",
         "lowercase": "im at londrina lanches in ipanema pr httpstcosrzqvumbcf",
         "_deepnote_index_column": 4218
        },
        {
         "clean_tweets": "Icecreamfuninthesun summersouthsea SouthCoast  Clarence Pier httpstcoZSFzEFHv",
         "lowercase": "icecreamfuninthesun summersouthsea southcoast  clarence pier httpstcozsfzefhv",
         "_deepnote_index_column": 4219
        },
        {
         "clean_tweets": " with Mutia Vallery and Ivana at warunkupnormal — httpstcoueBistAK",
         "lowercase": " with mutia vallery and ivana at warunkupnormal — httpstcouebistak",
         "_deepnote_index_column": 4220
        },
        {
         "clean_tweets": "mist gt sky is clearntemperature up °F gt °Fnhumidity down  gt nwind mph gt mph",
         "lowercase": "mist gt sky is clearntemperature up °f gt °fnhumidity down  gt nwind mph gt mph",
         "_deepnote_index_column": 4221
        },
        {
         "clean_tweets": "Red eyes dont seem too bad when you get to eat breakfast here  Boston Common Duck Pond httpstcoYzYf…",
         "lowercase": "red eyes dont seem too bad when you get to eat breakfast here  boston common duck pond httpstcoyzyf…",
         "_deepnote_index_column": 4222
        },
        {
         "clean_tweets": "Timeless Fashion By hamletsvintage manhattan moda fashion collection colorful vintage… httpstcoNStT…",
         "lowercase": "timeless fashion by hamletsvintage manhattan moda fashion collection colorful vintage… httpstconstt…",
         "_deepnote_index_column": 4223
        },
        {
         "clean_tweets": "Im at  in Aydın Efeler httpstcoCxfTmqElJt",
         "lowercase": "im at  in aydın efeler httpstcocxftmqeljt",
         "_deepnote_index_column": 4224
        },
        {
         "clean_tweets": "Want to work in  View our latest opening httpstconOHNZIZCE Job Hospitality Veterans Jobs Hiring Car…",
         "lowercase": "want to work in  view our latest opening httpstconohnzizce job hospitality veterans jobs hiring car…",
         "_deepnote_index_column": 4225
        },
        {
         "clean_tweets": "Im at Ice Skating Rink in Kuwait City Kuwait w freakyq httpstcoIMPQscEOh",
         "lowercase": "im at ice skating rink in kuwait city kuwait w freakyq httpstcoimpqsceoh",
         "_deepnote_index_column": 4226
        },
        {
         "clean_tweets": "I love this town  ATLAtlanta nAwesome view from denisepricetoos new home   Jackson… httpstcohZoFZYw",
         "lowercase": "i love this town  atlatlanta nawesome view from denisepricetoos new home   jackson… httpstcohzofzyw",
         "_deepnote_index_column": 4227
        },
        {
         "clean_tweets": "Im at  in   httpstcotZJZoKPlG",
         "lowercase": "im at  in   httpstcotzjzokplg",
         "_deepnote_index_column": 4228
        },
        {
         "clean_tweets": "NEW PRODUCT ALERT we have new bath bombs and bodyfacial soap all available in different yummy… http…",
         "lowercase": "new product alert we have new bath bombs and bodyfacial soap all available in different yummy… http…",
         "_deepnote_index_column": 4229
        },
        {
         "clean_tweets": "Can you recommend anyone for this job httpstcoGAGYOB Hospitality Stevenson WA Hiring",
         "lowercase": "can you recommend anyone for this job httpstcogagyob hospitality stevenson wa hiring",
         "_deepnote_index_column": 4230
        },
        {
         "clean_tweets": "Want to work in Springfield MO View our latest opening httpstcoERDDRejM Job Jobs Hiring",
         "lowercase": "want to work in springfield mo view our latest opening httpstcoerddrejm job jobs hiring",
         "_deepnote_index_column": 4231
        },
        {
         "clean_tweets": "This job might be a great fit for you Director of Major Gifts  httpstcoTHvncRNO Chicago IL Veterans…",
         "lowercase": "this job might be a great fit for you director of major gifts  httpstcothvncrno chicago il veterans…",
         "_deepnote_index_column": 4232
        },
        {
         "clean_tweets": "Im at Star AVM in Yalova Türkiye httpstcoJwPrcMN",
         "lowercase": "im at star avm in yalova türkiye httpstcojwprcmn",
         "_deepnote_index_column": 4233
        },
        {
         "clean_tweets": "Ciao for now montauk  Ill be teaching the swervesixty in midtown tomorrow but back on the… httpstco…",
         "lowercase": "ciao for now montauk  ill be teaching the swervesixty in midtown tomorrow but back on the… httpstco…",
         "_deepnote_index_column": 4234
        },
        {
         "clean_tweets": "What to do on a hot summer day at the beach Take a swim of course adorbz yellowlab… httpstcoPLtoHMgG",
         "lowercase": "what to do on a hot summer day at the beach take a swim of course adorbz yellowlab… httpstcopltohmgg",
         "_deepnote_index_column": 4235
        },
        {
         "clean_tweets": "birthdaycake mom love cherish  Romanos Macaroni Grill  Dulles httpstcocoQbtbZWs",
         "lowercase": "birthdaycake mom love cherish  romanos macaroni grill  dulles httpstcocoqbtbzws",
         "_deepnote_index_column": 4236
        },
        {
         "clean_tweets": "Unexpected reunions are the best bestfriends longdistancebestfriends  Taguig Philippines httpstcoFP…",
         "lowercase": "unexpected reunions are the best bestfriends longdistancebestfriends  taguig philippines httpstcofp…",
         "_deepnote_index_column": 4237
        },
        {
         "clean_tweets": "brothers from another mother  Justin Mehall Memorial Soccer Field httpstcoSASDpapN",
         "lowercase": "brothers from another mother  justin mehall memorial soccer field httpstcosasdpapn",
         "_deepnote_index_column": 4238
        },
        {
         "clean_tweets": "Were hiring Read about our latest job opening here REGISTERED NURSE  httpstcoYrKrzdTCs Nursing Anna…",
         "lowercase": "were hiring read about our latest job opening here registered nurse  httpstcoyrkrzdtcs nursing anna…",
         "_deepnote_index_column": 4239
        },
        {
         "clean_tweets": "Im at Çenedağı  Zirve in İzmit Kocaeli w serhattmuratt muhammedmalo httpstcoXyaFMNnRUr",
         "lowercase": "im at çenedağı  zirve in i̇zmit kocaeli w serhattmuratt muhammedmalo httpstcoxyafmnnrur",
         "_deepnote_index_column": 4240
        },
        {
         "clean_tweets": "Interested in a job near FRANKLIN OH This could be a great fit httpstcoceFmNulx Retail Hiring Caree…",
         "lowercase": "interested in a job near franklin oh this could be a great fit httpstcocefmnulx retail hiring caree…",
         "_deepnote_index_column": 4241
        },
        {
         "clean_tweets": "With Dimaz  at Legian beach festival pic — httpstcoFIEZmqrEa",
         "lowercase": "with dimaz  at legian beach festival pic — httpstcofiezmqrea",
         "_deepnote_index_column": 4242
        },
        {
         "clean_tweets": "Look at these handsome boys firstdayofschool wherehasthetimegone  Manchester Elementary httpstcoUJq…",
         "lowercase": "look at these handsome boys firstdayofschool wherehasthetimegone  manchester elementary httpstcoujq…",
         "_deepnote_index_column": 4243
        },
        {
         "clean_tweets": "Reading   Reading Festival Main Stage httpstcoSJbiYPZ",
         "lowercase": "reading   reading festival main stage httpstcosjbiypz",
         "_deepnote_index_column": 4244
        },
        {
         "clean_tweets": "Im at TheBistroBl httpstcoAsaHItgu",
         "lowercase": "im at thebistrobl httpstcoasahitgu",
         "_deepnote_index_column": 4245
        },
        {
         "clean_tweets": "Abang KO dekbutuh pijit  at Gedung Nusantara II pic — httpstcoaqYNEWrqb",
         "lowercase": "abang ko dekbutuh pijit  at gedung nusantara ii pic — httpstcoaqynewrqb",
         "_deepnote_index_column": 4246
        },
        {
         "clean_tweets": "Chesham man retires after  years of service to education httpstcogQOmSgbVUG Bucks httpstcorGcnqsP",
         "lowercase": "chesham man retires after  years of service to education httpstcogqomsgbvug bucks httpstcorgcnqsp",
         "_deepnote_index_column": 4247
        },
        {
         "clean_tweets": "Can you recommend anyone for this job in Irving TX httpstcovluPqcn Nursing Hiring httpstcoOhgBwlWFcN",
         "lowercase": "can you recommend anyone for this job in irving tx httpstcovlupqcn nursing hiring httpstcoohgbwlwfcn",
         "_deepnote_index_column": 4248
        },
        {
         "clean_tweets": "Sometimes humpday requires extra coffee  RobotTheDog is all smiles amp caffeine free on… httpstcoOO…",
         "lowercase": "sometimes humpday requires extra coffee  robotthedog is all smiles amp caffeine free on… httpstcooo…",
         "_deepnote_index_column": 4249
        },
        {
         "clean_tweets": "veryselectivesocialcircle   Rittenhouse Square httpstcowfqvAPZs",
         "lowercase": "veryselectivesocialcircle   rittenhouse square httpstcowfqvapzs",
         "_deepnote_index_column": 4250
        },
        {
         "clean_tweets": "Todays member happy hour hosted by BLANKSPACES In the photo  George is demoing bailiwik to… httpstc…",
         "lowercase": "todays member happy hour hosted by blankspaces in the photo  george is demoing bailiwik to… httpstc…",
         "_deepnote_index_column": 4251
        },
        {
         "clean_tweets": "I Hope You Dance by Ronan Keating is nowplaying in The Beacon Hotel",
         "lowercase": "i hope you dance by ronan keating is nowplaying in the beacon hotel",
         "_deepnote_index_column": 4252
        },
        {
         "clean_tweets": "Im at Julinhas house in Jaguarão RS httpstcorcNeqRaNrD",
         "lowercase": "im at julinhas house in jaguarão rs httpstcorcneqranrd",
         "_deepnote_index_column": 4253
        },
        {
         "clean_tweets": " cmpphoto nsummer summerseries baewatch lifeguardonduty beach myrtle bikini… httpstcoDbflNCnE",
         "lowercase": " cmpphoto nsummer summerseries baewatch lifeguardonduty beach myrtle bikini… httpstcodbflncne",
         "_deepnote_index_column": 4254
        },
        {
         "clean_tweets": "Im at Pcghs Blok Utama httpstcoLlAjyyr",
         "lowercase": "im at pcghs blok utama httpstcollajyyr",
         "_deepnote_index_column": 4255
        },
        {
         "clean_tweets": "mom and dad  University of Kentucky httpstcoYzMxQhilm",
         "lowercase": "mom and dad  university of kentucky httpstcoyzmxqhilm",
         "_deepnote_index_column": 4256
        },
        {
         "clean_tweets": "Im at M Café in Makati City Metro Manila httpstcoHQmEHANHK",
         "lowercase": "im at m café in makati city metro manila httpstcohqmehanhk",
         "_deepnote_index_column": 4257
        },
        {
         "clean_tweets": "Im at Lavazza  bestcoffeeshop in İstanbul Türkiye w uyrdlr httpstcoPrpayUAUc",
         "lowercase": "im at lavazza  bestcoffeeshop in i̇stanbul türkiye w uyrdlr httpstcoprpayuauc",
         "_deepnote_index_column": 4258
        },
        {
         "clean_tweets": "Offramp closed in Edina on Crosstown Hwy WB at Lyndale Ave traffic httpstcocYOdRRKz",
         "lowercase": "offramp closed in edina on crosstown hwy wb at lyndale ave traffic httpstcocyodrrkz",
         "_deepnote_index_column": 4259
        },
        {
         "clean_tweets": "  Sakit Hati by Yovie amp Nuno at Banjir Kanal Barat — httpstcotdTvxALpOG",
         "lowercase": "  sakit hati by yovie amp nuno at banjir kanal barat — httpstcotdtvxalpog",
         "_deepnote_index_column": 4260
        },
        {
         "clean_tweets": "Wine festival drunk  My Wines Gibraltar Ltd httpstcogbtfvpMX",
         "lowercase": "wine festival drunk  my wines gibraltar ltd httpstcogbtfvpmx",
         "_deepnote_index_column": 4261
        },
        {
         "clean_tweets": "Were hiring Click to apply CNC MACHINIST  httpstcoAVdYcULaC Job SkilledTrade Moorpark CA Jobs Caree…",
         "lowercase": "were hiring click to apply cnc machinist  httpstcoavdyculac job skilledtrade moorpark ca jobs caree…",
         "_deepnote_index_column": 4262
        },
        {
         "clean_tweets": "Local Weather   nTemp  ºC Current WindGust    mph WindSWnRainfall today  Baro amp Falling",
         "lowercase": "local weather   ntemp  ºc current windgust    mph windswnrainfall today  baro amp falling",
         "_deepnote_index_column": 4263
        },
        {
         "clean_tweets": "Em jom laa masuk kedai tu nak tengok jee   Lavender Garden Cameron Highlands httpstcoZtLOgdp",
         "lowercase": "em jom laa masuk kedai tu nak tengok jee   lavender garden cameron highlands httpstcoztlogdp",
         "_deepnote_index_column": 4264
        },
        {
         "clean_tweets": "Labor Day go  Up on the Roof httpstcoMLBbFPMGCa",
         "lowercase": "labor day go  up on the roof httpstcomlbbfpmgca",
         "_deepnote_index_column": 4265
        },
        {
         "clean_tweets": "Im at San Fernando Pampanga httpstcoZDZSRo",
         "lowercase": "im at san fernando pampanga httpstcozdzsro",
         "_deepnote_index_column": 4266
        },
        {
         "clean_tweets": "Just posted a photo  I Near North Platte Nebraska httpstcomAJWiIDJF",
         "lowercase": "just posted a photo  i near north platte nebraska httpstcomajwiidjf",
         "_deepnote_index_column": 4267
        },
        {
         "clean_tweets": "Im at NI SOLUTION SDN BHD in Skudai Johor httpstcosSMqQdIQn",
         "lowercase": "im at ni solution sdn bhd in skudai johor httpstcossmqqdiqn",
         "_deepnote_index_column": 4268
        },
        {
         "clean_tweets": "Too much sauce  lastnightinmiami  Miami Florida httpstcolqFVhIyN",
         "lowercase": "too much sauce  lastnightinmiami  miami florida httpstcolqfvhiyn",
         "_deepnote_index_column": 4269
        },
        {
         "clean_tweets": "family portrait photographer newportbeach orangecounty oc photography studio  Newport… httpstcotnBO…",
         "lowercase": "family portrait photographer newportbeach orangecounty oc photography studio  newport… httpstcotnbo…",
         "_deepnote_index_column": 4270
        },
        {
         "clean_tweets": "Im at  in Kitakyūshū  httpstcowcQmpSo",
         "lowercase": "im at  in kitakyūshū  httpstcowcqmpso",
         "_deepnote_index_column": 4271
        },
        {
         "clean_tweets": "View at this AMs search at KNW camp  Camp Westmont httpstcomPJAsIUq",
         "lowercase": "view at this ams search at knw camp  camp westmont httpstcompjasiuq",
         "_deepnote_index_column": 4272
        },
        {
         "clean_tweets": "Two Poles attacked in UK town which saw possible hate killing httpstcofNlZrPkBuJ",
         "lowercase": "two poles attacked in uk town which saw possible hate killing httpstcofnlzrpkbuj",
         "_deepnote_index_column": 4273
        },
        {
         "clean_tweets": "Im at Prague Main Railway Station in Praha httpstcokoNHwka",
         "lowercase": "im at prague main railway station in praha httpstcokonhwka",
         "_deepnote_index_column": 4274
        },
        {
         "clean_tweets": "TALES FROM BALTIMORECOMICCON DAY nnWhat an eclectic range of tastes from this fun… httpstcoeLyFVWch…",
         "lowercase": "tales from baltimorecomiccon day nnwhat an eclectic range of tastes from this fun… httpstcoelyfvwch…",
         "_deepnote_index_column": 4275
        },
        {
         "clean_tweets": "Parents urged to complete secondary school applications for September  before… httpstcomKkbnzttdp B…",
         "lowercase": "parents urged to complete secondary school applications for september  before… httpstcomkkbnzttdp b…",
         "_deepnote_index_column": 4276
        },
        {
         "clean_tweets": "Im at Sykes httpstcocquhZahJS",
         "lowercase": "im at sykes httpstcocquhzahjs",
         "_deepnote_index_column": 4277
        },
        {
         "clean_tweets": "Were hiring Click to apply ReturnsRecarton Clerical Position  httpstcofZkcPeHNgG Job SupplyChain Mi…",
         "lowercase": "were hiring click to apply returnsrecarton clerical position  httpstcofzkcpehngg job supplychain mi…",
         "_deepnote_index_column": 4278
        },
        {
         "clean_tweets": "Day off Come spend it with us as we take on UAV at our home field at  LaborDay GameDay… httpstcoYQS…",
         "lowercase": "day off come spend it with us as we take on uav at our home field at  laborday gameday… httpstcoyqs…",
         "_deepnote_index_column": 4279
        },
        {
         "clean_tweets": "Just posted a photo  Bier Markt  St Johns httpstcoUCMcwTmTkb",
         "lowercase": "just posted a photo  bier markt  st johns httpstcoucmcwtmtkb",
         "_deepnote_index_column": 4280
        },
        {
         "clean_tweets": "Im at Warm Wood Café in Vadhana httpstcoXPVvanoU",
         "lowercase": "im at warm wood café in vadhana httpstcoxpvvanou",
         "_deepnote_index_column": 4281
        },
        {
         "clean_tweets": "Were hiring Click to apply Office Manager  httpstconLbXzISzz Job Clerical Tucson AZ Jobs",
         "lowercase": "were hiring click to apply office manager  httpstconlbxziszz job clerical tucson az jobs",
         "_deepnote_index_column": 4282
        },
        {
         "clean_tweets": "Christ is in me I am enough  Elevation Church  University City httpstcoydKZwIheo",
         "lowercase": "christ is in me i am enough  elevation church  university city httpstcoydkzwiheo",
         "_deepnote_index_column": 4283
        },
        {
         "clean_tweets": "Im at Hard Rock Cafe London in Mayfair Greater London httpstcofIXEFHljSj httpstcoQpYJJOViqQ",
         "lowercase": "im at hard rock cafe london in mayfair greater london httpstcofixefhljsj httpstcoqpyjjoviqq",
         "_deepnote_index_column": 4284
        },
        {
         "clean_tweets": "Can you recommend anyone for this job in WestCarrollton OH httpstcooioFq Retail Hiring CareerArc",
         "lowercase": "can you recommend anyone for this job in westcarrollton oh httpstcooiofq retail hiring careerarc",
         "_deepnote_index_column": 4285
        },
        {
         "clean_tweets": "Live every day  like is your last day art illustration drawing draw picture photography… httpstcoNs…",
         "lowercase": "live every day  like is your last day art illustration drawing draw picture photography… httpstcons…",
         "_deepnote_index_column": 4286
        },
        {
         "clean_tweets": "Im at Kızılay in Çankaya Ankara httpstcoAQQyKahR",
         "lowercase": "im at kızılay in çankaya ankara httpstcoaqqykahr",
         "_deepnote_index_column": 4287
        },
        {
         "clean_tweets": "Im at Antalya in Antalya Türkiye httpstcoIaeuorY",
         "lowercase": "im at antalya in antalya türkiye httpstcoiaeuory",
         "_deepnote_index_column": 4288
        },
        {
         "clean_tweets": " ℃n℃nn sakai   httpstcogqgDsq",
         "lowercase": " ℃n℃nn sakai   httpstcogqgdsq",
         "_deepnote_index_column": 4289
        },
        {
         "clean_tweets": "Im at Wilmington Library in Wilmington DE httpstcorCDkDaoBk",
         "lowercase": "im at wilmington library in wilmington de httpstcorcdkdaobk",
         "_deepnote_index_column": 4290
        },
        {
         "clean_tweets": "Join the UPS team See our latest job opening here httpstcoGrgarnZL Transportation Butler PA Hiring …",
         "lowercase": "join the ups team see our latest job opening here httpstcogrgarnzl transportation butler pa hiring …",
         "_deepnote_index_column": 4291
        },
        {
         "clean_tweets": "Todays pick of the day is this elegant mustsee property in Pasadena CA This stunning hilltop… https…",
         "lowercase": "todays pick of the day is this elegant mustsee property in pasadena ca this stunning hilltop… https…",
         "_deepnote_index_column": 4292
        },
        {
         "clean_tweets": "Want to work in Lexington KY View our latest opening httpstcoAtIuRZNtz Job Finance Jobs Hiring http…",
         "lowercase": "want to work in lexington ky view our latest opening httpstcoatiurzntz job finance jobs hiring http…",
         "_deepnote_index_column": 4293
        },
        {
         "clean_tweets": "  Zurich in Zürich Suisse httpstcoTbKnLNAWBB",
         "lowercase": "  zurich in zürich suisse httpstcotbknlnawbb",
         "_deepnote_index_column": 4294
        },
        {
         "clean_tweets": "This job might be a great fit for you Food Services Assistant  Full Time  httpstcoEQqQjDP FoodServi…",
         "lowercase": "this job might be a great fit for you food services assistant  full time  httpstcoeqqqjdp foodservi…",
         "_deepnote_index_column": 4295
        },
        {
         "clean_tweets": "Im at  in Funabashi  httpstcovHJrprXr",
         "lowercase": "im at  in funabashi  httpstcovhjrprxr",
         "_deepnote_index_column": 4296
        },
        {
         "clean_tweets": "This one picture perfectly describes my experience at this school I… httpstcoMOgLSqQBp",
         "lowercase": "this one picture perfectly describes my experience at this school i… httpstcomoglsqqbp",
         "_deepnote_index_column": 4297
        },
        {
         "clean_tweets": "Im at Sinking Spring PA in Sinking Spring PA httpstcoQjOiGjLF",
         "lowercase": "im at sinking spring pa in sinking spring pa httpstcoqjoigjlf",
         "_deepnote_index_column": 4298
        },
        {
         "clean_tweets": "Update Construction on BBus at th Streetth Avenue httpstcoRMdgN",
         "lowercase": "update construction on bbus at th streetth avenue httpstcormdgn",
         "_deepnote_index_column": 4299
        },
        {
         "clean_tweets": "Im at Bus Stop  Aft Sembawang Shopping Centre httpstcoRRQGdIqQH",
         "lowercase": "im at bus stop  aft sembawang shopping centre httpstcorrqgdiqqh",
         "_deepnote_index_column": 4300
        },
        {
         "clean_tweets": "Chicken Teriyaki Ojyu Sauteed teriyaki chicken and japanese mushrooms on rice  Tokyo… httpstcodzfFS…",
         "lowercase": "chicken teriyaki ojyu sauteed teriyaki chicken and japanese mushrooms on rice  tokyo… httpstcodzffs…",
         "_deepnote_index_column": 4301
        },
        {
         "clean_tweets": "My daughter and I at the MagicKingdom the other day AnaWarrior Doitforher fabana… httpstcoDbRbKHqt",
         "lowercase": "my daughter and i at the magickingdom the other day anawarrior doitforher fabana… httpstcodbrbkhqt",
         "_deepnote_index_column": 4302
        },
        {
         "clean_tweets": "You bet Ben was belting louder than any girl in the crowd when I Dont Want to Be played  … httpstco…",
         "lowercase": "you bet ben was belting louder than any girl in the crowd when i dont want to be played  … httpstco…",
         "_deepnote_index_column": 4303
        },
        {
         "clean_tweets": "Im at Wat Phananchoeng in Phra Nakhon Si Ayutthaya httpstcovTKJfNpm",
         "lowercase": "im at wat phananchoeng in phra nakhon si ayutthaya httpstcovtkjfnpm",
         "_deepnote_index_column": 4304
        },
        {
         "clean_tweets": "Nemenin big boss motong rambut di big boys barbershop  with Aunk at Big Boyz Barbershop — httpstcoA…",
         "lowercase": "nemenin big boss motong rambut di big boys barbershop  with aunk at big boyz barbershop — httpstcoa…",
         "_deepnote_index_column": 4305
        },
        {
         "clean_tweets": "One of my hobby  Ma Hood httpstcoSHJDDWQQB",
         "lowercase": "one of my hobby  ma hood httpstcoshjddwqqb",
         "_deepnote_index_column": 4306
        },
        {
         "clean_tweets": "Another Cardigan Records Hopscotch Day Party in the books  Thanks to all that came out all who… htt…",
         "lowercase": "another cardigan records hopscotch day party in the books  thanks to all that came out all who… htt…",
         "_deepnote_index_column": 4307
        },
        {
         "clean_tweets": "Im at Hempstead Hair World in Elmont NY httpstcohVYgHZyEHc",
         "lowercase": "im at hempstead hair world in elmont ny httpstcohvyghzyehc",
         "_deepnote_index_column": 4308
        },
        {
         "clean_tweets": "Bachelorette   Laurita Winery httpstcoBsIIFmdGz",
         "lowercase": "bachelorette   laurita winery httpstcobsiifmdgz",
         "_deepnote_index_column": 4309
        },
        {
         "clean_tweets": "This job might be a great fit for you Sr Information Architect Supervisor  httpstcollJlFiHz Alphare…",
         "lowercase": "this job might be a great fit for you sr information architect supervisor  httpstcolljlfihz alphare…",
         "_deepnote_index_column": 4310
        },
        {
         "clean_tweets": "Im at PiazzaAvym in Canik Samsun w mertarmann debeabcbce tanrioveri httpstcogxKOUJp",
         "lowercase": "im at piazzaavym in canik samsun w mertarmann debeabcbce tanrioveri httpstcogxkoujp",
         "_deepnote_index_column": 4311
        }
       ]
      },
      "text/plain": "                                           clean_tweets  \\\n0     I felt my first flash of violence at some fool...   \n1                    Ladies drink and get in free till    \n2       Watching Miranda On bbc mermhart u r HILARIOUS    \n3                         Shopping  Kohls httptcoIZkQHT   \n4     Dennycrowe all over twitter because you and yo...   \n...                                                 ...   \n4307  Another Cardigan Records Hopscotch Day Party i...   \n4308  Im at Hempstead Hair World in Elmont NY httpst...   \n4309    Bachelorette   Laurita Winery httpstcoBsIIFmdGz   \n4310  This job might be a great fit for you Sr Infor...   \n4311  Im at PiazzaAvym in Canik Samsun w mertarmann ...   \n\n                                              lowercase  \n0     i felt my first flash of violence at some fool...  \n1                    ladies drink and get in free till   \n2       watching miranda on bbc mermhart u r hilarious   \n3                         shopping  kohls httptcoizkqht  \n4     dennycrowe all over twitter because you and yo...  \n...                                                 ...  \n4307  another cardigan records hopscotch day party i...  \n4308  im at hempstead hair world in elmont ny httpst...  \n4309    bachelorette   laurita winery httpstcobsiifmdgz  \n4310  this job might be a great fit for you sr infor...  \n4311  im at piazzaavym in canik samsun w mertarmann ...  \n\n[4312 rows x 2 columns]",
      "text/html": "<div>\n<style scoped>\n    .dataframe tbody tr th:only-of-type {\n        vertical-align: middle;\n    }\n\n    .dataframe tbody tr th {\n        vertical-align: top;\n    }\n\n    .dataframe thead th {\n        text-align: right;\n    }\n</style>\n<table border=\"1\" class=\"dataframe\">\n  <thead>\n    <tr style=\"text-align: right;\">\n      <th></th>\n      <th>clean_tweets</th>\n      <th>lowercase</th>\n    </tr>\n  </thead>\n  <tbody>\n    <tr>\n      <th>0</th>\n      <td>I felt my first flash of violence at some fool...</td>\n      <td>i felt my first flash of violence at some fool...</td>\n    </tr>\n    <tr>\n      <th>1</th>\n      <td>Ladies drink and get in free till</td>\n      <td>ladies drink and get in free till</td>\n    </tr>\n    <tr>\n      <th>2</th>\n      <td>Watching Miranda On bbc mermhart u r HILARIOUS</td>\n      <td>watching miranda on bbc mermhart u r hilarious</td>\n    </tr>\n    <tr>\n      <th>3</th>\n      <td>Shopping  Kohls httptcoIZkQHT</td>\n      <td>shopping  kohls httptcoizkqht</td>\n    </tr>\n    <tr>\n      <th>4</th>\n      <td>Dennycrowe all over twitter because you and yo...</td>\n      <td>dennycrowe all over twitter because you and yo...</td>\n    </tr>\n    <tr>\n      <th>...</th>\n      <td>...</td>\n      <td>...</td>\n    </tr>\n    <tr>\n      <th>4307</th>\n      <td>Another Cardigan Records Hopscotch Day Party i...</td>\n      <td>another cardigan records hopscotch day party i...</td>\n    </tr>\n    <tr>\n      <th>4308</th>\n      <td>Im at Hempstead Hair World in Elmont NY httpst...</td>\n      <td>im at hempstead hair world in elmont ny httpst...</td>\n    </tr>\n    <tr>\n      <th>4309</th>\n      <td>Bachelorette   Laurita Winery httpstcoBsIIFmdGz</td>\n      <td>bachelorette   laurita winery httpstcobsiifmdgz</td>\n    </tr>\n    <tr>\n      <th>4310</th>\n      <td>This job might be a great fit for you Sr Infor...</td>\n      <td>this job might be a great fit for you sr infor...</td>\n    </tr>\n    <tr>\n      <th>4311</th>\n      <td>Im at PiazzaAvym in Canik Samsun w mertarmann ...</td>\n      <td>im at piazzaavym in canik samsun w mertarmann ...</td>\n    </tr>\n  </tbody>\n</table>\n<p>4312 rows × 2 columns</p>\n</div>"
     },
     "metadata": {}
    }
   ],
   "execution_count": 5
  },
  {
   "cell_type": "code",
   "metadata": {
    "tags": [],
    "cell_id": "00009-86a8e94b-775c-4a34-8e6f-c9f369db7e60",
    "deepnote_to_be_reexecuted": false,
    "source_hash": "16651822",
    "execution_start": 1633380877113,
    "execution_millis": 970,
    "deepnote_cell_type": "code"
   },
   "source": "# Import the wordcloud library\nfrom wordcloud import WordCloud\n# Join the different processed titles together.\nlong_string = ','.join(list(df_eng_clean_tweets['lowercase'].values))\n# Create a WordCloud object\nwordcloud = WordCloud(background_color=\"white\", max_words=5000, contour_width=3, contour_color='steelblue')\n# Generate a word cloud\nwordcloud.generate(long_string)\n# Visualize the word cloud\nwordcloud.to_image()",
   "outputs": [
    {
     "output_type": "execute_result",
     "execution_count": 59,
     "data": {
      "text/plain": "<PIL.Image.Image image mode=RGB size=400x200 at 0x7F216FBD1A10>",
      "image/png": "[encoded data removed]"
     },
     "metadata": {
      "image/png": {
       "width": 400,
       "height": 200
      }
     }
    }
   ],
   "execution_count": 59
  },
  {
   "cell_type": "markdown",
   "source": "A simple wordcloud to visualize which words are more common. The big im tells us that it is a stop words since it does not really have meanings, some words like cant, lol are not very useful either. We would want to add them in the stopwords.",
   "metadata": {
    "tags": [],
    "cell_id": "00010-2f81a074-0ed5-4788-a467-b15222bbadd2",
    "deepnote_cell_type": "markdown"
   }
  },
  {
   "cell_type": "markdown",
   "source": "Then we remove the stopwords.",
   "metadata": {
    "cell_id": "00009-d4c8d627-92ed-4e40-b3ab-751ab00281c1",
    "deepnote_cell_type": "markdown"
   }
  },
  {
   "cell_type": "code",
   "metadata": {
    "scrolled": false,
    "cell_id": "00010-21f36775-b115-4de7-8d09-965d30fd02c6",
    "deepnote_to_be_reexecuted": false,
    "source_hash": "1dac2eca",
    "execution_start": 1633381039602,
    "execution_millis": 240,
    "deepnote_cell_type": "code"
   },
   "source": "nltk.download('stopwords')\nfrom nltk.corpus import stopwords\n\nstop_words = stopwords.words(lang_dict[lang])\nstop_words.append('cant')\nstop_words.append('im')\nstop_words.append('lol')\n\n\ndf_eng_clean_tweets['stopwords_removed'] = df_eng_clean_tweets['lowercase'].apply(lambda x: ' '.join([item for item in x.split() if item not in stop_words]))\ndf_eng_clean_tweets",
   "outputs": [
    {
     "name": "stderr",
     "text": "[nltk_data] Downloading package stopwords to /root/nltk_data...\n[nltk_data]   Package stopwords is already up-to-date!\n",
     "output_type": "stream"
    },
    {
     "output_type": "execute_result",
     "execution_count": 63,
     "data": {
      "application/vnd.deepnote.dataframe.v2+json": {
       "row_count": 4312,
       "column_count": 4,
       "columns": [
        {
         "name": "clean_tweets",
         "dtype": "object",
         "stats": {
          "unique_count": 4312,
          "nan_count": 0,
          "categories": [
           {
            "name": "I felt my first flash of violence at some fool who bumped into me I pity the fool",
            "count": 1
           },
           {
            "name": "Ladies drink and get in free till ",
            "count": 1
           },
           {
            "name": "4310 others",
            "count": 4310
           }
          ]
         }
        },
        {
         "name": "lowercase",
         "dtype": "object",
         "stats": {
          "unique_count": 4311,
          "nan_count": 0,
          "categories": [
           {
            "name": "so hungry",
            "count": 2
           },
           {
            "name": "i felt my first flash of violence at some fool who bumped into me i pity the fool",
            "count": 1
           },
           {
            "name": "4309 others",
            "count": 4309
           }
          ]
         }
        },
        {
         "name": "stopwords_removed",
         "dtype": "object",
         "stats": {
          "unique_count": 4304,
          "nan_count": 0,
          "categories": [
           {
            "name": "",
            "count": 4
           },
           {
            "name": "hungry",
            "count": 3
           },
           {
            "name": "4302 others",
            "count": 4305
           }
          ]
         }
        },
        {
         "name": "lemmatized",
         "dtype": "object",
         "stats": {
          "unique_count": 4305,
          "nan_count": 0,
          "categories": [
           {
            "name": "",
            "count": 4
           },
           {
            "name": "hungry",
            "count": 3
           },
           {
            "name": "4303 others",
            "count": 4305
           }
          ]
         }
        },
        {
         "name": "_deepnote_index_column",
         "dtype": "int64"
        }
       ],
       "rows_top": [
        {
         "clean_tweets": "I felt my first flash of violence at some fool who bumped into me I pity the fool",
         "lowercase": "i felt my first flash of violence at some fool who bumped into me i pity the fool",
         "stopwords_removed": "felt first flash violence fool bumped pity fool",
         "lemmatized": "feel first flash violence fool bump pity fool",
         "_deepnote_index_column": 0
        },
        {
         "clean_tweets": "Ladies drink and get in free till ",
         "lowercase": "ladies drink and get in free till ",
         "stopwords_removed": "ladies drink get free till",
         "lemmatized": "lady drink get free till",
         "_deepnote_index_column": 1
        },
        {
         "clean_tweets": "Watching Miranda On bbc mermhart u r HILARIOUS ",
         "lowercase": "watching miranda on bbc mermhart u r hilarious ",
         "stopwords_removed": "watching miranda bbc mermhart u r hilarious",
         "lemmatized": "watch miranda bbc mermhart u r hilarious",
         "_deepnote_index_column": 2
        },
        {
         "clean_tweets": "Shopping  Kohls httptcoIZkQHT",
         "lowercase": "shopping  kohls httptcoizkqht",
         "stopwords_removed": "shopping kohls httptcoizkqht",
         "lemmatized": "shopping kohls httptcoizkqht",
         "_deepnote_index_column": 3
        },
        {
         "clean_tweets": "Dennycrowe all over twitter because you and your friends cant stick up for yourselves",
         "lowercase": "dennycrowe all over twitter because you and your friends cant stick up for yourselves",
         "stopwords_removed": "dennycrowe twitter friends stick",
         "lemmatized": "dennycrowe twitter friend ca nt stick",
         "_deepnote_index_column": 4
        },
        {
         "clean_tweets": "The way you treat me The way you accept me and love me How much you care about me Thats what makes …",
         "lowercase": "the way you treat me the way you accept me and love me how much you care about me thats what makes …",
         "stopwords_removed": "way treat way accept love much care thats makes perfect",
         "lemmatized": "way treat way accept love much care that s make perfect",
         "_deepnote_index_column": 5
        },
        {
         "clean_tweets": "I just wanna get pulled on the sled by the four wheeler again goodshit",
         "lowercase": "i just wanna get pulled on the sled by the four wheeler again goodshit",
         "stopwords_removed": "wanna get pulled sled four wheeler goodshit",
         "lemmatized": "wanna get pull sle four wheeler goodshit",
         "_deepnote_index_column": 6
        },
        {
         "clean_tweets": "Oh theres that fake door slam noise  ugh CBB",
         "lowercase": "oh theres that fake door slam noise  ugh cbb",
         "stopwords_removed": "oh theres fake door slam noise ugh cbb",
         "lemmatized": "oh there s fake door slam noise ugh cbb",
         "_deepnote_index_column": 7
        },
        {
         "clean_tweets": "Taybaybay cool Wanna see when u get it",
         "lowercase": "taybaybay cool wanna see when u get it",
         "stopwords_removed": "taybaybay cool wanna see u get",
         "lemmatized": "taybaybay cool wanna see u get",
         "_deepnote_index_column": 8
        },
        {
         "clean_tweets": "delwebb hahaa I never get told to be a post  But Ill most likely guard yaaaa",
         "lowercase": "delwebb hahaa i never get told to be a post  but ill most likely guard yaaaa",
         "stopwords_removed": "delwebb hahaa never get told post ill likely guard yaaaa",
         "lemmatized": "delwebb hahaa never get tell post ill likely guard yaaaa",
         "_deepnote_index_column": 9
        },
        {
         "clean_tweets": "Opucar timallen Im in Tennessee Only bears and mountain lions round these parts",
         "lowercase": "opucar timallen im in tennessee only bears and mountain lions round these parts",
         "stopwords_removed": "opucar timallen tennessee bears mountain lions round parts",
         "lemmatized": "opucar timallen I m tennessee bear mountain lion round part",
         "_deepnote_index_column": 10
        },
        {
         "clean_tweets": "Cant do right without doing wrong first",
         "lowercase": "cant do right without doing wrong first",
         "stopwords_removed": "right without wrong first",
         "lemmatized": "ca nt right without wrong first",
         "_deepnote_index_column": 11
        },
        {
         "clean_tweets": "FlaccidDaddy and goodluck on that young occupation",
         "lowercase": "flacciddaddy and goodluck on that young occupation",
         "stopwords_removed": "flacciddaddy goodluck young occupation",
         "lemmatized": "flacciddaddy goodluck young occupation",
         "_deepnote_index_column": 12
        },
        {
         "clean_tweets": "kiapegg ahh okay how old ate you I am ",
         "lowercase": "kiapegg ahh okay how old ate you i am ",
         "stopwords_removed": "kiapegg ahh okay old ate",
         "lemmatized": "kiapegg ahh okay old eat",
         "_deepnote_index_column": 13
        },
        {
         "clean_tweets": "Rain bitches but get my dick on with  at least  chicks at York these hoes are easy game dont change…",
         "lowercase": "rain bitches but get my dick on with  at least  chicks at york these hoes are easy game dont change…",
         "stopwords_removed": "rain bitches get dick least chicks york hoes easy game dont change baby haha",
         "lemmatized": "rain bitch get dick least chick york hoe easy game do nt change baby haha",
         "_deepnote_index_column": 14
        },
        {
         "clean_tweets": "SexSurvey  If you were a stripper what would your name be Trixie or Tricktina as a girl  as a boy m…",
         "lowercase": "sexsurvey  if you were a stripper what would your name be trixie or tricktina as a girl  as a boy m…",
         "stopwords_removed": "sexsurvey stripper would name trixie tricktina girl boy name",
         "lemmatized": "sexsurvey stripper would name trixie tricktina girl boy name",
         "_deepnote_index_column": 15
        },
        {
         "clean_tweets": "RT“iLeexi I feel shittttttty I cant even get off my bed No srsly I feel rlly sick and shitty”",
         "lowercase": "rt“ileexi i feel shittttttty i cant even get off my bed no srsly i feel rlly sick and shitty”",
         "stopwords_removed": "rt“ileexi feel shittttttty even get bed srsly feel rlly sick shitty”",
         "lemmatized": "rt“ileexi feel shittttttty ca nt even get bed srsly feel rlly sick shitty \"",
         "_deepnote_index_column": 16
        },
        {
         "clean_tweets": "adampoulos TyreceSpeaight even me Are you at the party",
         "lowercase": "adampoulos tyrecespeaight even me are you at the party",
         "stopwords_removed": "adampoulos tyrecespeaight even party",
         "lemmatized": "adampoulos tyrecespeaight even party",
         "_deepnote_index_column": 17
        },
        {
         "clean_tweets": "Drinking a Mamas Little Yella Pils by oskarblues  Thunderdome — httptcoVEwnxn",
         "lowercase": "drinking a mamas little yella pils by oskarblues  thunderdome — httptcovewnxn",
         "stopwords_removed": "drinking mamas little yella pils oskarblues thunderdome — httptcovewnxn",
         "lemmatized": "drinking mama little yella pil oskarblue thunderdome — httptcovewnxn",
         "_deepnote_index_column": 18
        },
        {
         "clean_tweets": " PM  Harrahs Las Vegas  NL Holdem Poker Tournament w  Bounties HarrahsVegas httptcofmxWZT",
         "lowercase": " pm  harrahs las vegas  nl holdem poker tournament w  bounties harrahsvegas httptcofmxwzt",
         "stopwords_removed": "pm harrahs las vegas nl holdem poker tournament w bounties harrahsvegas httptcofmxwzt",
         "lemmatized": "pm harrahs las vegas nl holdem poker tournament w bounty harrahsvegas httptcofmxwzt",
         "_deepnote_index_column": 19
        },
        {
         "clean_tweets": "Fifi gatal Takk abes nk double meaning Iyewwww",
         "lowercase": "fifi gatal takk abes nk double meaning iyewwww",
         "stopwords_removed": "fifi gatal takk abes nk double meaning iyewwww",
         "lemmatized": "fifi gatal takk abe nk double mean iyewwww",
         "_deepnote_index_column": 20
        },
        {
         "clean_tweets": "And my grades are top notch ",
         "lowercase": "and my grades are top notch ",
         "stopwords_removed": "grades top notch",
         "lemmatized": "grade top notch",
         "_deepnote_index_column": 21
        },
        {
         "clean_tweets": "Yeah fuck saqouit fans i aint scared",
         "lowercase": "yeah fuck saqouit fans i aint scared",
         "stopwords_removed": "yeah fuck saqouit fans aint scared",
         "lemmatized": "yeah fuck saqouit fan ai nt scare",
         "_deepnote_index_column": 22
        },
        {
         "clean_tweets": "geegrapes Its all about being real and true to yourself The opposite of real is fake",
         "lowercase": "geegrapes its all about being real and true to yourself the opposite of real is fake",
         "stopwords_removed": "geegrapes real true opposite real fake",
         "lemmatized": "geegrape real true opposite real fake",
         "_deepnote_index_column": 23
        },
        {
         "clean_tweets": "Whistle baby",
         "lowercase": "whistle baby",
         "stopwords_removed": "whistle baby",
         "lemmatized": "whistle baby",
         "_deepnote_index_column": 24
        },
        {
         "clean_tweets": " Joos DLP ThroughFeed Hot Veneer Press Please feel free to make an offer All offers will be conside…",
         "lowercase": " joos dlp throughfeed hot veneer press please feel free to make an offer all offers will be conside…",
         "stopwords_removed": "joos dlp throughfeed hot veneer press please feel free make offer offers considered httptcofmfphdb",
         "lemmatized": "joo dlp throughfeed hot veneer press please feel free make offer offer consider httptcofmfphdb",
         "_deepnote_index_column": 25
        },
        {
         "clean_tweets": "Seriously I feel Betrayed",
         "lowercase": "seriously i feel betrayed",
         "stopwords_removed": "seriously feel betrayed",
         "lemmatized": "seriously feel betray",
         "_deepnote_index_column": 26
        },
        {
         "clean_tweets": "BigJoe I plugged it in the computer so no",
         "lowercase": "bigjoe i plugged it in the computer so no",
         "stopwords_removed": "bigjoe plugged computer",
         "lemmatized": "bigjoe plug computer",
         "_deepnote_index_column": 27
        },
        {
         "clean_tweets": "FucKUPayyMee Lawwdd it feel like somebody just punchin me in my cat Lmaoo see nasty asz",
         "lowercase": "fuckupayymee lawwdd it feel like somebody just punchin me in my cat lmaoo see nasty asz",
         "stopwords_removed": "fuckupayymee lawwdd feel like somebody punchin cat lmaoo see nasty asz",
         "lemmatized": "fuckupayymee lawwdd feel like somebody punchin cat lmaoo see nasty asz",
         "_deepnote_index_column": 28
        },
        {
         "clean_tweets": "ronaldtoswoll lmfaooo thats a girl store",
         "lowercase": "ronaldtoswoll lmfaooo thats a girl store",
         "stopwords_removed": "ronaldtoswoll lmfaooo thats girl store",
         "lemmatized": "ronaldtoswoll lmfaooo that s girl store",
         "_deepnote_index_column": 29
        },
        {
         "clean_tweets": "My ears once again hurt so much",
         "lowercase": "my ears once again hurt so much",
         "stopwords_removed": "ears hurt much",
         "lemmatized": "ear hurt much",
         "_deepnote_index_column": 30
        },
        {
         "clean_tweets": "Safe to say I teared up more than I do in the average year in one night at Les Mis musicgotmegoing …",
         "lowercase": "safe to say i teared up more than i do in the average year in one night at les mis musicgotmegoing …",
         "stopwords_removed": "safe say teared average year one night les mis musicgotmegoing noshame",
         "lemmatized": "safe say tear average year one night les mi musicgotmegoe noshame",
         "_deepnote_index_column": 31
        },
        {
         "clean_tweets": "Jinki do you know that she has passed on",
         "lowercase": "jinki do you know that she has passed on",
         "stopwords_removed": "jinki know passed",
         "lemmatized": "jinki know pass",
         "_deepnote_index_column": 32
        },
        {
         "clean_tweets": "Damn your ex is a cry baby He dont wanna talk to me",
         "lowercase": "damn your ex is a cry baby he dont wanna talk to me",
         "stopwords_removed": "damn ex cry baby dont wanna talk",
         "lemmatized": "damn ex cry baby do nt wanna talk",
         "_deepnote_index_column": 33
        },
        {
         "clean_tweets": "AndyMolitor she will be devastated",
         "lowercase": "andymolitor she will be devastated",
         "stopwords_removed": "andymolitor devastated",
         "lemmatized": "andymolitor devastate",
         "_deepnote_index_column": 34
        },
        {
         "clean_tweets": "LukeMalvern ahwwww Lukey your profile picture is so adorable",
         "lowercase": "lukemalvern ahwwww lukey your profile picture is so adorable",
         "stopwords_removed": "lukemalvern ahwwww lukey profile picture adorable",
         "lemmatized": "lukemalvern ahwwww lukey profile picture adorable",
         "_deepnote_index_column": 35
        },
        {
         "clean_tweets": "My baby Is completely frozen no way I can drive this shit no time soon httptcofBvytx",
         "lowercase": "my baby is completely frozen no way i can drive this shit no time soon httptcofbvytx",
         "stopwords_removed": "baby completely frozen way drive shit time soon httptcofbvytx",
         "lemmatized": "baby completely frozen way drive shit time soon httptcofbvytx",
         "_deepnote_index_column": 36
        },
        {
         "clean_tweets": "MarcAnthony nallelyyj Well instead of scaring her you scared me",
         "lowercase": "marcanthony nallelyyj well instead of scaring her you scared me",
         "stopwords_removed": "marcanthony nallelyyj well instead scaring scared",
         "lemmatized": "marcanthony nallelyyj well instead scare scared",
         "_deepnote_index_column": 37
        },
        {
         "clean_tweets": "Everything I dont want to happen is happening Smh I hate my life right now ",
         "lowercase": "everything i dont want to happen is happening smh i hate my life right now ",
         "stopwords_removed": "everything dont want happen happening smh hate life right",
         "lemmatized": "everything do nt want happen happen smh hate life right",
         "_deepnote_index_column": 38
        },
        {
         "clean_tweets": "Its funny because in every situation we go threw your aloud to tell ur best friend but I cant tooba…",
         "lowercase": "its funny because in every situation we go threw your aloud to tell ur best friend but i cant tooba…",
         "stopwords_removed": "funny every situation go threw aloud tell ur best friend toobad goingtoanyways",
         "lemmatized": "funny every situation go throw aloud tell ur good friend ca nt toobad goingtoanyway",
         "_deepnote_index_column": 39
        },
        {
         "clean_tweets": "I am not a godly person or a religious one for that matter Mostly because Im logical and I grew out…",
         "lowercase": "i am not a godly person or a religious one for that matter mostly because im logical and i grew out…",
         "stopwords_removed": "godly person religious one matter mostly logical grew pretending sayin",
         "lemmatized": "godly person religious one matter mostly I m logical grow pretend sayin",
         "_deepnote_index_column": 40
        },
        {
         "clean_tweets": "Ughh HeavyHitterz needs to hurry the hell up and get outta work",
         "lowercase": "ughh heavyhitterz needs to hurry the hell up and get outta work",
         "stopwords_removed": "ughh heavyhitterz needs hurry hell get outta work",
         "lemmatized": "ughh heavyhitterz need hurry hell get outta work",
         "_deepnote_index_column": 41
        },
        {
         "clean_tweets": "SheeRatchettt Amen",
         "lowercase": "sheeratchettt amen",
         "stopwords_removed": "sheeratchettt amen",
         "lemmatized": "sheeratchettt amen",
         "_deepnote_index_column": 42
        },
        {
         "clean_tweets": "ChineseJasminee okay good  Please come  And no I dont talk to her nor joselin  Yes  Saturday Sunday…",
         "lowercase": "chinesejasminee okay good  please come  and no i dont talk to her nor joselin  yes  saturday sunday…",
         "stopwords_removed": "chinesejasminee okay good please come dont talk joselin yes saturday sunday monday amp tuesday x",
         "lemmatized": "chinesejasminee okay good please come do nt talk joselin yes saturday sunday monday amp tuesday x",
         "_deepnote_index_column": 43
        },
        {
         "clean_tweets": "parcelgoHelp sadly this BOSE DOCKING STATION has not arrived and I am most annoyed I want this item…",
         "lowercase": "parcelgohelp sadly this bose docking station has not arrived and i am most annoyed i want this item…",
         "stopwords_removed": "parcelgohelp sadly bose docking station arrived annoyed want item replaced asap httptcooobbbcp",
         "lemmatized": "parcelgohelp sadly bose docking station arrive annoyed want item replace asap httptcooobbbcp",
         "_deepnote_index_column": 44
        },
        {
         "clean_tweets": "Catfish need some hood ppl though That would be funny",
         "lowercase": "catfish need some hood ppl though that would be funny",
         "stopwords_removed": "catfish need hood ppl though would funny",
         "lemmatized": "catfish need hood ppl though would funny",
         "_deepnote_index_column": 45
        },
        {
         "clean_tweets": "Finally bedtime Goood freaking niighhtt",
         "lowercase": "finally bedtime goood freaking niighhtt",
         "stopwords_removed": "finally bedtime goood freaking niighhtt",
         "lemmatized": "finally bedtime goood freak niighhtt",
         "_deepnote_index_column": 46
        },
        {
         "clean_tweets": "EdDJGex i did the bpm because i mix quickly so i can pitch them up for quick inmixing",
         "lowercase": "eddjgex i did the bpm because i mix quickly so i can pitch them up for quick inmixing",
         "stopwords_removed": "eddjgex bpm mix quickly pitch quick inmixing",
         "lemmatized": "eddjgex bpm mix quickly pitch quick inmixing",
         "_deepnote_index_column": 47
        },
        {
         "clean_tweets": "Aww how cute is that  you can text every other fucker in this world but not me Shocking",
         "lowercase": "aww how cute is that  you can text every other fucker in this world but not me shocking",
         "stopwords_removed": "aww cute text every fucker world shocking",
         "lemmatized": "aww cute text every fucker world shocking",
         "_deepnote_index_column": 48
        },
        {
         "clean_tweets": "kristacipriani sleep is for the weak  week",
         "lowercase": "kristacipriani sleep is for the weak  week",
         "stopwords_removed": "kristacipriani sleep weak week",
         "lemmatized": "kristacipriani sleep weak week",
         "_deepnote_index_column": 49
        },
        {
         "clean_tweets": "I wish you would just text me this once",
         "lowercase": "i wish you would just text me this once",
         "stopwords_removed": "wish would text",
         "lemmatized": "wish would text",
         "_deepnote_index_column": 50
        },
        {
         "clean_tweets": "Bought Al Fakher Orange  Grape and Vanilla Its gonna be Vanilla Twilight",
         "lowercase": "bought al fakher orange  grape and vanilla its gonna be vanilla twilight",
         "stopwords_removed": "bought al fakher orange grape vanilla gonna vanilla twilight",
         "lemmatized": "buy al fakher orange grape vanilla gon na vanilla twilight",
         "_deepnote_index_column": 51
        },
        {
         "clean_tweets": "just set my alarm for the first time in weeks morningstruggle ⏰",
         "lowercase": "just set my alarm for the first time in weeks morningstruggle ⏰",
         "stopwords_removed": "set alarm first time weeks morningstruggle ⏰",
         "lemmatized": "set alarm first time week morningstruggle ⏰",
         "_deepnote_index_column": 52
        },
        {
         "clean_tweets": "Baltimore is going CRAZY  The celebration has just begun ",
         "lowercase": "baltimore is going crazy  the celebration has just begun ",
         "stopwords_removed": "baltimore going crazy celebration begun",
         "lemmatized": "baltimore go crazy celebration begin",
         "_deepnote_index_column": 53
        },
        {
         "clean_tweets": "i got my days amp nights mixed up like ima newborn or sum sht ",
         "lowercase": "i got my days amp nights mixed up like ima newborn or sum sht ",
         "stopwords_removed": "got days amp nights mixed like ima newborn sum sht",
         "lemmatized": "get day amp night mix like I m a newborn sum sht",
         "_deepnote_index_column": 54
        },
        {
         "clean_tweets": "Bugis like got a lot of nice clothes ah",
         "lowercase": "bugis like got a lot of nice clothes ah",
         "stopwords_removed": "bugis like got lot nice clothes ah",
         "lemmatized": "bugis like get lot nice clothe ah",
         "_deepnote_index_column": 55
        },
        {
         "clean_tweets": "skatherine its okay lt",
         "lowercase": "skatherine its okay lt",
         "stopwords_removed": "skatherine okay lt",
         "lemmatized": "skatherine okay lt",
         "_deepnote_index_column": 56
        },
        {
         "clean_tweets": "pinchedandan Im calling u a bitch dummy",
         "lowercase": "pinchedandan im calling u a bitch dummy",
         "stopwords_removed": "pinchedandan calling u bitch dummy",
         "lemmatized": "pinchedandan I m call u bitch dummy",
         "_deepnote_index_column": 57
        },
        {
         "clean_tweets": "Broph why was I the last to know Haha",
         "lowercase": "broph why was i the last to know haha",
         "stopwords_removed": "broph last know haha",
         "lemmatized": "broph last know haha",
         "_deepnote_index_column": 58
        },
        {
         "clean_tweets": "BamBamBeast NeilChallis not the rd ",
         "lowercase": "bambambeast neilchallis not the rd ",
         "stopwords_removed": "bambambeast neilchallis rd",
         "lemmatized": "bambambeast neilchallis rd",
         "_deepnote_index_column": 59
        },
        {
         "clean_tweets": "Dear BMSNard is by far the best bit on the BMSOnTheAir killinit",
         "lowercase": "dear bmsnard is by far the best bit on the bmsontheair killinit",
         "stopwords_removed": "dear bmsnard far best bit bmsontheair killinit",
         "lemmatized": "dear bmsnard far good bit bmsontheair killinit",
         "_deepnote_index_column": 60
        },
        {
         "clean_tweets": "After these exams Im definitly gonna have to get together with friends whatmakesthedaybetter",
         "lowercase": "after these exams im definitly gonna have to get together with friends whatmakesthedaybetter",
         "stopwords_removed": "exams definitly gonna get together friends whatmakesthedaybetter",
         "lemmatized": "exam I m definitly gon na get together friend whatmakesthedaybetter",
         "_deepnote_index_column": 61
        },
        {
         "clean_tweets": "Dense Fog Advisory issued January  at PM CST until January  at AM CST by NWS Lake Charles httptcoRb…",
         "lowercase": "dense fog advisory issued january  at pm cst until january  at am cst by nws lake charles httptcorb…",
         "stopwords_removed": "dense fog advisory issued january pm cst january cst nws lake charles httptcorbqfvzr",
         "lemmatized": "dense fog advisory issue january pm cst january cst nws lake charles httptcorbqfvzr",
         "_deepnote_index_column": 62
        },
        {
         "clean_tweets": "WOLFwinningWOLF alottttttttt",
         "lowercase": "wolfwinningwolf alottttttttt",
         "stopwords_removed": "wolfwinningwolf alottttttttt",
         "lemmatized": "wolfwinningwolf alottttttttt",
         "_deepnote_index_column": 63
        },
        {
         "clean_tweets": "Everything makes more sense on a legal pad",
         "lowercase": "everything makes more sense on a legal pad",
         "stopwords_removed": "everything makes sense legal pad",
         "lemmatized": "everything make sense legal pad",
         "_deepnote_index_column": 64
        },
        {
         "clean_tweets": "I didnt stop loving you I just stopped showing it Inspired by echiprutt wakakak",
         "lowercase": "i didnt stop loving you i just stopped showing it inspired by echiprutt wakakak",
         "stopwords_removed": "didnt stop loving stopped showing inspired echiprutt wakakak",
         "lemmatized": "do nt stop love stop show inspire echiprutt wakakak",
         "_deepnote_index_column": 65
        },
        {
         "clean_tweets": "Time to do work gtgtgtgtgt",
         "lowercase": "time to do work gtgtgtgtgt",
         "stopwords_removed": "time work gtgtgtgtgt",
         "lemmatized": "time work gtgtgtgtgt",
         "_deepnote_index_column": 66
        },
        {
         "clean_tweets": "thxyuuu jepa zevansca Oke syg pasti ˘ʃƪ˘ rindySW zevansca yaa gpp jepa doain cepet taken yaaa",
         "lowercase": "thxyuuu jepa zevansca oke syg pasti ˘ʃƪ˘ rindysw zevansca yaa gpp jepa doain cepet taken yaaa",
         "stopwords_removed": "thxyuuu jepa zevansca oke syg pasti ˘ʃƪ˘ rindysw zevansca yaa gpp jepa doain cepet taken yaaa",
         "lemmatized": "thxyuuu jepa zevansca oke syg pasti ˘ʃƪ˘ rindysw zevansca yaa gpp jepa doain cepet take yaaa",
         "_deepnote_index_column": 67
        },
        {
         "clean_tweets": " “ForTheFame How some of you gays take pics wit yall fingers in yall asses amp then post them on th…",
         "lowercase": " “forthefame how some of you gays take pics wit yall fingers in yall asses amp then post them on th…",
         "stopwords_removed": "“forthefame gays take pics wit yall fingers yall asses amp post internet beyond me”",
         "lemmatized": "\" forthefame gay take pic wit y all finger y all asse amp post internet beyond I \"",
         "_deepnote_index_column": 68
        },
        {
         "clean_tweets": "After all the dancehall artists I still get mad ova Busy Signal",
         "lowercase": "after all the dancehall artists i still get mad ova busy signal",
         "stopwords_removed": "dancehall artists still get mad ova busy signal",
         "lemmatized": "dancehall artist still get mad ova busy signal",
         "_deepnote_index_column": 69
        },
        {
         "clean_tweets": "DanReader I chose DRTammunition Its safe enough to do a mag dump at contact distance on steel amp h…",
         "lowercase": "danreader i chose drtammunition its safe enough to do a mag dump at contact distance on steel amp h…",
         "stopwords_removed": "danreader chose drtammunition safe enough mag dump contact distance steel amp impressive effects so…",
         "lemmatized": "danreader choose drtammunition safe enough mag dump contact distance steel amp impressive effect so…",
         "_deepnote_index_column": 70
        },
        {
         "clean_tweets": "WaysToGetSlapped fuckin with my nigga",
         "lowercase": "waystogetslapped fuckin with my nigga",
         "stopwords_removed": "waystogetslapped fuckin nigga",
         "lemmatized": "waystogetslappe fuckin nigga",
         "_deepnote_index_column": 71
        },
        {
         "clean_tweets": "We rang  and they told us to go away Rude that",
         "lowercase": "we rang  and they told us to go away rude that",
         "stopwords_removed": "rang told us go away rude",
         "lemmatized": "rang tell we go away rude",
         "_deepnote_index_column": 72
        },
        {
         "clean_tweets": "I just wanna sleep all day tomorrow",
         "lowercase": "i just wanna sleep all day tomorrow",
         "stopwords_removed": "wanna sleep day tomorrow",
         "lemmatized": "wanna sleep day tomorrow",
         "_deepnote_index_column": 73
        },
        {
         "clean_tweets": "AmVolunteer porque",
         "lowercase": "amvolunteer porque",
         "stopwords_removed": "amvolunteer porque",
         "lemmatized": "amvolunteer porque",
         "_deepnote_index_column": 74
        },
        {
         "clean_tweets": "Its not even like she tryin tk hide I see ur name",
         "lowercase": "its not even like she tryin tk hide i see ur name",
         "stopwords_removed": "even like tryin tk hide see ur name",
         "lemmatized": "even like tryin tk hide see ur name",
         "_deepnote_index_column": 75
        },
        {
         "clean_tweets": "Ciaraannbarry hha where did ya meet this gay fella ",
         "lowercase": "ciaraannbarry hha where did ya meet this gay fella ",
         "stopwords_removed": "ciaraannbarry hha ya meet gay fella",
         "lemmatized": "ciaraannbarry hha ya meet gay fella",
         "_deepnote_index_column": 76
        },
        {
         "clean_tweets": "You never miss something tilours gone",
         "lowercase": "you never miss something tilours gone",
         "stopwords_removed": "never miss something tilours gone",
         "lemmatized": "never miss something tilour go",
         "_deepnote_index_column": 77
        },
        {
         "clean_tweets": "JLIsley well two of my friends are on the way right now So thats random again u picked Dallas Lol S…",
         "lowercase": "jlisley well two of my friends are on the way right now so thats random again u picked dallas lol s…",
         "stopwords_removed": "jlisley well two friends way right thats random u picked dallas u gotta drive us",
         "lemmatized": "jlisley well two friend way right that s random u pick dallas lol u get ta drive we",
         "_deepnote_index_column": 78
        },
        {
         "clean_tweets": "But I love AshleyKirwanMBE more Better than David at footy too",
         "lowercase": "but i love ashleykirwanmbe more better than david at footy too",
         "stopwords_removed": "love ashleykirwanmbe better david footy",
         "lemmatized": "love ashleykirwanmbe well david footy",
         "_deepnote_index_column": 79
        },
        {
         "clean_tweets": "Today I tripped and Im  sure a fuck ton of people driving on Johnston saw it My dayltltlt",
         "lowercase": "today i tripped and im  sure a fuck ton of people driving on johnston saw it my dayltltlt",
         "stopwords_removed": "today tripped sure fuck ton people driving johnston saw dayltltlt",
         "lemmatized": "today trip I m sure fuck ton people drive johnston see dayltltlt",
         "_deepnote_index_column": 80
        },
        {
         "clean_tweets": "BisforBooYah showin no mercy",
         "lowercase": "bisforbooyah showin no mercy",
         "stopwords_removed": "bisforbooyah showin mercy",
         "lemmatized": "bisforbooyah showin mercy",
         "_deepnote_index_column": 81
        },
        {
         "clean_tweets": "KREAYSHAWN you have the most perf voice ever",
         "lowercase": "kreayshawn you have the most perf voice ever",
         "stopwords_removed": "kreayshawn perf voice ever",
         "lemmatized": "kreayshawn perf voice ever",
         "_deepnote_index_column": 82
        },
        {
         "clean_tweets": "All day I thought it was weird Wednesday letdown",
         "lowercase": "all day i thought it was weird wednesday letdown",
         "stopwords_removed": "day thought weird wednesday letdown",
         "lemmatized": "day think weird wednesday letdown",
         "_deepnote_index_column": 83
        },
        {
         "clean_tweets": "kahnman not even cool hes seriously hurt",
         "lowercase": "kahnman not even cool hes seriously hurt",
         "stopwords_removed": "kahnman even cool hes seriously hurt",
         "lemmatized": "kahnman even cool he s seriously hurt",
         "_deepnote_index_column": 84
        },
        {
         "clean_tweets": "   Jimmuji Sta KK httptcotqDVFG",
         "lowercase": "   jimmuji sta kk httptcotqdvfg",
         "stopwords_removed": "jimmuji sta kk httptcotqdvfg",
         "lemmatized": "jimmuji sta kk httptcotqdvfg",
         "_deepnote_index_column": 85
        },
        {
         "clean_tweets": "sloanetweets asksloane favorite for the superbowl and what team do you support",
         "lowercase": "sloanetweets asksloane favorite for the superbowl and what team do you support",
         "stopwords_removed": "sloanetweets asksloane favorite superbowl team support",
         "lemmatized": "sloanetweet asksloane favorite superbowl team support",
         "_deepnote_index_column": 86
        },
        {
         "clean_tweets": "Time is a thing not to waste",
         "lowercase": "time is a thing not to waste",
         "stopwords_removed": "time thing waste",
         "lemmatized": "time thing waste",
         "_deepnote_index_column": 87
        },
        {
         "clean_tweets": "Lakers win tip off",
         "lowercase": "lakers win tip off",
         "stopwords_removed": "lakers win tip",
         "lemmatized": "laker win tip",
         "_deepnote_index_column": 88
        },
        {
         "clean_tweets": "I gotta stop talking and just do it Talk is cheap",
         "lowercase": "i gotta stop talking and just do it talk is cheap",
         "stopwords_removed": "gotta stop talking talk cheap",
         "lemmatized": "get ta stop talk talk cheap",
         "_deepnote_index_column": 89
        },
        {
         "clean_tweets": "emilysarahjohn Hahaha so awks but so funny",
         "lowercase": "emilysarahjohn hahaha so awks but so funny",
         "stopwords_removed": "emilysarahjohn hahaha awks funny",
         "lemmatized": "emilysarahjohn hahaha awk funny",
         "_deepnote_index_column": 90
        },
        {
         "clean_tweets": "Listening to EDC recaps cant wait for EDCNY  at Citi Field insomniacevents",
         "lowercase": "listening to edc recaps cant wait for edcny  at citi field insomniacevents",
         "stopwords_removed": "listening edc recaps wait edcny citi field insomniacevents",
         "lemmatized": "listen edc recap ca nt wait edcny citi field insomniacevent",
         "_deepnote_index_column": 91
        },
        {
         "clean_tweets": "I turned up currently httptcolcsVaSs",
         "lowercase": "i turned up currently httptcolcsvass",
         "stopwords_removed": "turned currently httptcolcsvass",
         "lemmatized": "turn currently httptcolcsvass",
         "_deepnote_index_column": 92
        },
        {
         "clean_tweets": "This heart is on fire",
         "lowercase": "this heart is on fire",
         "stopwords_removed": "heart fire",
         "lemmatized": "heart fire",
         "_deepnote_index_column": 93
        },
        {
         "clean_tweets": "Oh brill so now my bumpers hanging off might as well just leave it falls off completely",
         "lowercase": "oh brill so now my bumpers hanging off might as well just leave it falls off completely",
         "stopwords_removed": "oh brill bumpers hanging might well leave falls completely",
         "lemmatized": "oh brill bumper hang might well leave fall completely",
         "_deepnote_index_column": 94
        },
        {
         "clean_tweets": "I miss that time when you text me and said iman tolong aku it surprised me  XD im really miss that …",
         "lowercase": "i miss that time when you text me and said iman tolong aku it surprised me  xd im really miss that …",
         "stopwords_removed": "miss time text said iman tolong aku surprised xd really miss time xd",
         "lemmatized": "miss time text say iman tolong aku surprised xd I m really miss time xd",
         "_deepnote_index_column": 95
        },
        {
         "clean_tweets": "And I say hey ey ey ey ey hey ey ey I said hey whats going on",
         "lowercase": "and i say hey ey ey ey ey hey ey ey i said hey whats going on",
         "stopwords_removed": "say hey ey ey ey ey hey ey ey said hey whats going",
         "lemmatized": "say hey ey ey ey ey hey ey ey say hey what s go",
         "_deepnote_index_column": 96
        },
        {
         "clean_tweets": "How are you mixed and have an inch of nappy hair on yo head tho youre mixed alright  with Black  Bl…",
         "lowercase": "how are you mixed and have an inch of nappy hair on yo head tho youre mixed alright  with black  bl…",
         "stopwords_removed": "mixed inch nappy hair yo head tho youre mixed alright black black fuckin black",
         "lemmatized": "mixed inch nappy hair yo head tho you re mixed alright black black fuckin black",
         "_deepnote_index_column": 97
        },
        {
         "clean_tweets": "Those flautas were good D",
         "lowercase": "those flautas were good d",
         "stopwords_removed": "flautas good",
         "lemmatized": "flauta good",
         "_deepnote_index_column": 98
        },
        {
         "clean_tweets": "I really want to study abroad in Israel",
         "lowercase": "i really want to study abroad in israel",
         "stopwords_removed": "really want study abroad israel",
         "lemmatized": "really want study abroad israel",
         "_deepnote_index_column": 99
        },
        {
         "clean_tweets": "I need a blunt",
         "lowercase": "i need a blunt",
         "stopwords_removed": "need blunt",
         "lemmatized": "need blunt",
         "_deepnote_index_column": 100
        },
        {
         "clean_tweets": "me and makarah got matching underwear again  nbestfriendprobs",
         "lowercase": "me and makarah got matching underwear again  nbestfriendprobs",
         "stopwords_removed": "makarah got matching underwear nbestfriendprobs",
         "lemmatized": "makarah get match underwear nbestfriendprob",
         "_deepnote_index_column": 101
        },
        {
         "clean_tweets": "Wooo Bye malaysia ",
         "lowercase": "wooo bye malaysia ",
         "stopwords_removed": "wooo bye malaysia",
         "lemmatized": "wooo bye malaysia",
         "_deepnote_index_column": 102
        },
        {
         "clean_tweets": "I was so productive this weekend I think I should get this week off ",
         "lowercase": "i was so productive this weekend i think i should get this week off ",
         "stopwords_removed": "productive weekend think get week",
         "lemmatized": "productive weekend think get week",
         "_deepnote_index_column": 103
        },
        {
         "clean_tweets": "ChefKarlMace Ive been spun all day",
         "lowercase": "chefkarlmace ive been spun all day",
         "stopwords_removed": "chefkarlmace ive spun day",
         "lemmatized": "chefkarlmace I ve spin day",
         "_deepnote_index_column": 104
        },
        {
         "clean_tweets": "Im at Bistro Kafe Tekirdağ Türkiye w  others httptcoToaUaXHg",
         "lowercase": "im at bistro kafe tekirdağ türkiye w  others httptcotoauaxhg",
         "stopwords_removed": "bistro kafe tekirdağ türkiye w others httptcotoauaxhg",
         "lemmatized": "I m bistro kafe tekirdağ türkiye w other httptcotoauaxhg",
         "_deepnote_index_column": 105
        },
        {
         "clean_tweets": "I would love to know why everybody hates everybody  makes no sense to me sometimes",
         "lowercase": "i would love to know why everybody hates everybody  makes no sense to me sometimes",
         "stopwords_removed": "would love know everybody hates everybody makes sense sometimes",
         "lemmatized": "would love know everybody hate everybody make sense sometimes",
         "_deepnote_index_column": 106
        },
        {
         "clean_tweets": "Thursday gonna be the busiest",
         "lowercase": "thursday gonna be the busiest",
         "stopwords_removed": "thursday gonna busiest",
         "lemmatized": "thursday gon na busy",
         "_deepnote_index_column": 107
        },
        {
         "clean_tweets": "tsnotoole Danny boy when is NHL trade deadline this year",
         "lowercase": "tsnotoole danny boy when is nhl trade deadline this year",
         "stopwords_removed": "tsnotoole danny boy nhl trade deadline year",
         "lemmatized": "tsnotoole danny boy nhl trade deadline year",
         "_deepnote_index_column": 108
        },
        {
         "clean_tweets": "I just became the mayor of Сканира on foursquare httptcomOmFZGy",
         "lowercase": "i just became the mayor of сканира on foursquare httptcomomfzgy",
         "stopwords_removed": "became mayor сканира foursquare httptcomomfzgy",
         "lemmatized": "become mayor сканира foursquare httptcomomfzgy",
         "_deepnote_index_column": 109
        },
        {
         "clean_tweets": "Every single day I think about how we came all this way the sleepless nights and the tears you crie…",
         "lowercase": "every single day i think about how we came all this way the sleepless nights and the tears you crie…",
         "stopwords_removed": "every single day think came way sleepless nights tears cried never late make right",
         "lemmatized": "every single day think come way sleepless night tear cry never late make right",
         "_deepnote_index_column": 110
        },
        {
         "clean_tweets": "This girl is so bad",
         "lowercase": "this girl is so bad",
         "stopwords_removed": "girl bad",
         "lemmatized": "girl bad",
         "_deepnote_index_column": 111
        },
        {
         "clean_tweets": "Coffee time at SbuxIndonesia pic — httptcoenNvaNDa",
         "lowercase": "coffee time at sbuxindonesia pic — httptcoennvanda",
         "stopwords_removed": "coffee time sbuxindonesia pic — httptcoennvanda",
         "lemmatized": "coffee time sbuxindonesia pic — httptcoennvanda",
         "_deepnote_index_column": 112
        },
        {
         "clean_tweets": "“lauracharlotte tbt happy birthday jadelouiselucas  httptcodAAFCKV” you amp BRCarter look buzzed ab…",
         "lowercase": "“lauracharlotte tbt happy birthday jadelouiselucas  httptcodaafckv” you amp brcarter look buzzed ab…",
         "stopwords_removed": "“lauracharlotte tbt happy birthday jadelouiselucas httptcodaafckv” amp brcarter look buzzed prospec…",
         "lemmatized": "\" lauracharlotte tbt happy birthday jadelouiseluca httptcodaafckv \" amp brcarter look buzz prospect…",
         "_deepnote_index_column": 113
        },
        {
         "clean_tweets": "Thats iite my ma bout to give me some  anyway lol",
         "lowercase": "thats iite my ma bout to give me some  anyway lol",
         "stopwords_removed": "thats iite bout give anyway",
         "lemmatized": "that s iite bout give anyway lol",
         "_deepnote_index_column": 114
        },
        {
         "clean_tweets": "what do i stand for most nights i dont know anymore",
         "lowercase": "what do i stand for most nights i dont know anymore",
         "stopwords_removed": "stand nights dont know anymore",
         "lemmatized": "stand night do nt know anymore",
         "_deepnote_index_column": 115
        },
        {
         "clean_tweets": "torquespeak just read that you have landed a new job Congratulations",
         "lowercase": "torquespeak just read that you have landed a new job congratulations",
         "stopwords_removed": "torquespeak read landed new job congratulations",
         "lemmatized": "torquespeak read land new job congratulation",
         "_deepnote_index_column": 116
        },
        {
         "clean_tweets": "CaramelCandy HerbInhaler lmaooo damnits ok nothing good has came out anyway your not missing out lol",
         "lowercase": "caramelcandy herbinhaler lmaooo damnits ok nothing good has came out anyway your not missing out lol",
         "stopwords_removed": "caramelcandy herbinhaler lmaooo damnits ok nothing good came anyway missing",
         "lemmatized": "caramelcandy herbinhaler lmaooo damnit ok nothing good come anyway miss lol",
         "_deepnote_index_column": 117
        },
        {
         "clean_tweets": "ClaireKeeegans hahahaha boys night in slut dropping and getting mwi sostraight",
         "lowercase": "clairekeeegans hahahaha boys night in slut dropping and getting mwi sostraight",
         "stopwords_removed": "clairekeeegans hahahaha boys night slut dropping getting mwi sostraight",
         "lemmatized": "clairekeeegan hahahaha boy night slut drop get mwi sostraight",
         "_deepnote_index_column": 118
        },
        {
         "clean_tweets": "blackMamba wait You told your mum Ohmygod Wait You show her my picture Whats wrong with you Hahahaha",
         "lowercase": "blackmamba wait you told your mum ohmygod wait you show her my picture whats wrong with you hahahaha",
         "stopwords_removed": "blackmamba wait told mum ohmygod wait show picture whats wrong hahahaha",
         "lemmatized": "blackmamba wait tell mum ohmygod wait show picture what s wrong hahahaha",
         "_deepnote_index_column": 119
        },
        {
         "clean_tweets": "Tottenham  Bale FavoritePlayerFromEachPremierLeagueTeam",
         "lowercase": "tottenham  bale favoriteplayerfromeachpremierleagueteam",
         "stopwords_removed": "tottenham bale favoriteplayerfromeachpremierleagueteam",
         "lemmatized": "tottenham bale favoriteplayerfromeachpremierleagueteam",
         "_deepnote_index_column": 120
        },
        {
         "clean_tweets": "With RVP and Rooney and Danny and Chicha I smell another treble in the making ForeverUnited",
         "lowercase": "with rvp and rooney and danny and chicha i smell another treble in the making foreverunited",
         "stopwords_removed": "rvp rooney danny chicha smell another treble making foreverunited",
         "lemmatized": "rvp rooney danny chicha smell another treble make foreverunite",
         "_deepnote_index_column": 121
        },
        {
         "clean_tweets": "Cavs suite and dinner with my favorites  cantwait",
         "lowercase": "cavs suite and dinner with my favorites  cantwait",
         "stopwords_removed": "cavs suite dinner favorites cantwait",
         "lemmatized": "cavs suite dinner favorite cantwait",
         "_deepnote_index_column": 122
        },
        {
         "clean_tweets": "ampamp She just had to come bring me all this work",
         "lowercase": "ampamp she just had to come bring me all this work",
         "stopwords_removed": "ampamp come bring work",
         "lemmatized": "ampamp come bring work",
         "_deepnote_index_column": 123
        },
        {
         "clean_tweets": "“AllisonStreng can this day get any fucking worse honestlynnnHONESTLY”",
         "lowercase": "“allisonstreng can this day get any fucking worse honestlynnnhonestly”",
         "stopwords_removed": "“allisonstreng day get fucking worse honestlynnnhonestly”",
         "lemmatized": "\" allisonstreng day get fucking bad honestlynnnhonestly \"",
         "_deepnote_index_column": 124
        }
       ],
       "rows_bottom": [
        {
         "clean_tweets": "Omg best httpstcorEXAvbG",
         "lowercase": "omg best httpstcorexavbg",
         "stopwords_removed": "omg best httpstcorexavbg",
         "lemmatized": "omg good httpstcorexavbg",
         "_deepnote_index_column": 4187
        },
        {
         "clean_tweets": "Im at   in   httpstcoUIGaVk",
         "lowercase": "im at   in   httpstcouigavk",
         "stopwords_removed": "httpstcouigavk",
         "lemmatized": "I m httpstcouigavk",
         "_deepnote_index_column": 4188
        },
        {
         "clean_tweets": "weatherhutton essex Fine weather Temp °C Humid  Wind mph ENE Baro  hPa Steady Rain Today mm",
         "lowercase": "weatherhutton essex fine weather temp °c humid  wind mph ene baro  hpa steady rain today mm",
         "stopwords_removed": "weatherhutton essex fine weather temp °c humid wind mph ene baro hpa steady rain today mm",
         "lemmatized": "weatherhutton essex fine weather temp ° c humid wind mph ene baro hpa steady rain today mm",
         "_deepnote_index_column": 4189
        },
        {
         "clean_tweets": "Im at  in   httpstconlzTZNce",
         "lowercase": "im at  in   httpstconlztznce",
         "stopwords_removed": "httpstconlztznce",
         "lemmatized": "I m httpstconlztznce",
         "_deepnote_index_column": 4190
        },
        {
         "clean_tweets": "The best family to be apart of Join us on the weekends  Studentlife NW httpstcowNPWyGVcT",
         "lowercase": "the best family to be apart of join us on the weekends  studentlife nw httpstcownpwygvct",
         "stopwords_removed": "best family apart join us weekends studentlife nw httpstcownpwygvct",
         "lemmatized": "good family apart join we weekend studentlife nw httpstcownpwygvct",
         "_deepnote_index_column": 4191
        },
        {
         "clean_tweets": "Throwback to Svalbard photo nnWhile its a bit quiet for me and earning cash for my next… httpstcozm…",
         "lowercase": "throwback to svalbard photo nnwhile its a bit quiet for me and earning cash for my next… httpstcozm…",
         "stopwords_removed": "throwback svalbard photo nnwhile bit quiet earning cash next… httpstcozmwkperu",
         "lemmatized": "throwback svalbard photo nnwhile bit quiet earn cash next … httpstcozmwkperu",
         "_deepnote_index_column": 4192
        },
        {
         "clean_tweets": "Im at Taksim in Beyoğlu Istanbul httpstcoDmZZcvUdKq",
         "lowercase": "im at taksim in beyoğlu istanbul httpstcodmzzcvudkq",
         "stopwords_removed": "taksim beyoğlu istanbul httpstcodmzzcvudkq",
         "lemmatized": "I m taksim beyoğlu istanbul httpstcodmzzcvudkq",
         "_deepnote_index_column": 4193
        },
        {
         "clean_tweets": "Now to end the work day with a little music TodayInNashville shanklesandrew greenfleet … httpstcoXq…",
         "lowercase": "now to end the work day with a little music todayinnashville shanklesandrew greenfleet … httpstcoxq…",
         "stopwords_removed": "end work day little music todayinnashville shanklesandrew greenfleet … httpstcoxqgmmzez",
         "lemmatized": "end work day little music todayinnashville shanklesandrew greenfleet … httpstcoxqgmmzez",
         "_deepnote_index_column": 4194
        },
        {
         "clean_tweets": "BarbraStreisand themusicthememriesthemagic from Brooklyn  August    banter Barbra… httpstcoRripfgc",
         "lowercase": "barbrastreisand themusicthememriesthemagic from brooklyn  august    banter barbra… httpstcorripfgc",
         "stopwords_removed": "barbrastreisand themusicthememriesthemagic brooklyn august banter barbra… httpstcorripfgc",
         "lemmatized": "barbrastreisand themusicthememriesthemagic brooklyn august banter barbra … httpstcorripfgc",
         "_deepnote_index_column": 4195
        },
        {
         "clean_tweets": "Were hiring Read about our latest job opening here RN Registered Nurse  Med  httpstcoVkBfEHkcR http…",
         "lowercase": "were hiring read about our latest job opening here rn registered nurse  med  httpstcovkbfehkcr http…",
         "stopwords_removed": "hiring read latest job opening rn registered nurse med httpstcovkbfehkcr httpstcobsculnpa",
         "lemmatized": "hire read late job opening rn register nurse me httpstcovkbfehkcr httpstcobsculnpa",
         "_deepnote_index_column": 4196
        },
        {
         "clean_tweets": "Im at Des Moines International Airport DSM  dsmairport in Des Moines IA httpstcoNObVmXXST",
         "lowercase": "im at des moines international airport dsm  dsmairport in des moines ia httpstconobvmxxst",
         "stopwords_removed": "des moines international airport dsm dsmairport des moines ia httpstconobvmxxst",
         "lemmatized": "I m des moines international airport dsm dsmairport des moines ia httpstconobvmxxst",
         "_deepnote_index_column": 4197
        },
        {
         "clean_tweets": "Say uncle  Mike Archerporter  FQ Story Historic Neighborhood httpstcoeCtDuZwe",
         "lowercase": "say uncle  mike archerporter  fq story historic neighborhood httpstcoectduzwe",
         "stopwords_removed": "say uncle mike archerporter fq story historic neighborhood httpstcoectduzwe",
         "lemmatized": "say uncle mike archerporter fq story historic neighborhood httpstcoectduzwe",
         "_deepnote_index_column": 4198
        },
        {
         "clean_tweets": "  City of San Carlos httpstcoMuFlvijQJ",
         "lowercase": "  city of san carlos httpstcomuflvijqj",
         "stopwords_removed": "city san carlos httpstcomuflvijqj",
         "lemmatized": "city san carlos httpstcomuflvijqj",
         "_deepnote_index_column": 4199
        },
        {
         "clean_tweets": "Im at   in   httpstcoWWHgeTmJ",
         "lowercase": "im at   in   httpstcowwhgetmj",
         "stopwords_removed": "httpstcowwhgetmj",
         "lemmatized": "I m httpstcowwhgetmj",
         "_deepnote_index_column": 4200
        },
        {
         "clean_tweets": "Im at  Yıl Parkı in Ankara Türkiye httpstcoGQEHygk",
         "lowercase": "im at  yıl parkı in ankara türkiye httpstcogqehygk",
         "stopwords_removed": "yıl parkı ankara türkiye httpstcogqehygk",
         "lemmatized": "I m yıl parkı ankara türkiye httpstcogqehygk",
         "_deepnote_index_column": 4201
        },
        {
         "clean_tweets": "Interested in a job near Louisville KY This could be a great fit httpstcoGbGgiEX dialysis Healthcar…",
         "lowercase": "interested in a job near louisville ky this could be a great fit httpstcogbggiex dialysis healthcar…",
         "stopwords_removed": "interested job near louisville ky could great fit httpstcogbggiex dialysis healthcare hiring career…",
         "lemmatized": "interested job near louisville ky could great fit httpstcogbggiex dialysis healthcare hire careerarc",
         "_deepnote_index_column": 4202
        },
        {
         "clean_tweets": "littlebigtown usbankstadium lukebryan  US Bank Stadium httpstcokFtCjDKT",
         "lowercase": "littlebigtown usbankstadium lukebryan  us bank stadium httpstcokftcjdkt",
         "stopwords_removed": "littlebigtown usbankstadium lukebryan us bank stadium httpstcokftcjdkt",
         "lemmatized": "littlebigtown usbankstadium lukebryan us bank stadium httpstcokftcjdkt",
         "_deepnote_index_column": 4203
        },
        {
         "clean_tweets": "Tennessee  usa summer summer summer like happy friends… httpstcoLXuMEwAM",
         "lowercase": "tennessee  usa summer summer summer like happy friends… httpstcolxumewam",
         "stopwords_removed": "tennessee usa summer summer summer like happy friends… httpstcolxumewam",
         "lemmatized": "tennessee usa summer summer summer like happy friend … httpstcolxumewam",
         "_deepnote_index_column": 4204
        },
        {
         "clean_tweets": "Congratulations to our BEAUTIFUL bride Kayli We are rockin out brides amp bridesmaids all day… http…",
         "lowercase": "congratulations to our beautiful bride kayli we are rockin out brides amp bridesmaids all day… http…",
         "stopwords_removed": "congratulations beautiful bride kayli rockin brides amp bridesmaids day… httpstcojmnzyxdxc",
         "lemmatized": "congratulation beautiful bride kayli rockin bride amp bridesmaid day … httpstcojmnzyxdxc",
         "_deepnote_index_column": 4205
        },
        {
         "clean_tweets": "Such a wonderful gathering theorchard at our last weekend at this site gloriadei paxdeo… httpstcoSJ…",
         "lowercase": "such a wonderful gathering theorchard at our last weekend at this site gloriadei paxdeo… httpstcosj…",
         "stopwords_removed": "wonderful gathering theorchard last weekend site gloriadei paxdeo… httpstcosjmzjt",
         "lemmatized": "wonderful gathering theorchard last weekend site gloriadei paxdeo … httpstcosjmzjt",
         "_deepnote_index_column": 4206
        },
        {
         "clean_tweets": "Im at   in   httpstcoJCBQDXmM",
         "lowercase": "im at   in   httpstcojcbqdxmm",
         "stopwords_removed": "httpstcojcbqdxmm",
         "lemmatized": "I m httpstcojcbqdxmm",
         "_deepnote_index_column": 4207
        },
        {
         "clean_tweets": "I had a blast in AsiaNow Im back on road nCc coreytstokes ThaFitnessGuru PaceforSuccess… httpstcoHb…",
         "lowercase": "i had a blast in asianow im back on road ncc coreytstokes thafitnessguru paceforsuccess… httpstcohb…",
         "stopwords_removed": "blast asianow back road ncc coreytstokes thafitnessguru paceforsuccess… httpstcohbeeyrqwl",
         "lemmatized": "blast asianow I m back road ncc coreytstoke thafitnessguru paceforsuccess … httpstcohbeeyrqwl",
         "_deepnote_index_column": 4208
        },
        {
         "clean_tweets": "Im at Point Pleasant Manor  ptpleasantmanor in Point Pleasant Beach NJ httpstcoelDBqUQ",
         "lowercase": "im at point pleasant manor  ptpleasantmanor in point pleasant beach nj httpstcoeldbquq",
         "stopwords_removed": "point pleasant manor ptpleasantmanor point pleasant beach nj httpstcoeldbquq",
         "lemmatized": "I m point pleasant manor ptpleasantmanor point pleasant beach nj httpstcoeldbquq",
         "_deepnote_index_column": 4209
        },
        {
         "clean_tweets": "  Feria De Malaga httpstcoEJFldWA",
         "lowercase": "  feria de malaga httpstcoejfldwa",
         "stopwords_removed": "feria de malaga httpstcoejfldwa",
         "lemmatized": "feria de malaga httpstcoejfldwa",
         "_deepnote_index_column": 4210
        },
        {
         "clean_tweets": "Opened Illegal Parking report via iphone at  Chestnut St httpstcoTyigow httpstcoRfdCyKRKx",
         "lowercase": "opened illegal parking report via iphone at  chestnut st httpstcotyigow httpstcorfdcykrkx",
         "stopwords_removed": "opened illegal parking report via iphone chestnut st httpstcotyigow httpstcorfdcykrkx",
         "lemmatized": "open illegal parking report via iphone chestnut st httpstcotyigow httpstcorfdcykrkx",
         "_deepnote_index_column": 4211
        },
        {
         "clean_tweets": "Im at   in   httpstcozpbuSRDvR",
         "lowercase": "im at   in   httpstcozpbusrdvr",
         "stopwords_removed": "httpstcozpbusrdvr",
         "lemmatized": "I m httpstcozpbusrdvr",
         "_deepnote_index_column": 4212
        },
        {
         "clean_tweets": "FLAWLESS   Playa La Manga Del Mar Menor httpstcopPcNvjB",
         "lowercase": "flawless   playa la manga del mar menor httpstcoppcnvjb",
         "stopwords_removed": "flawless playa la manga del mar menor httpstcoppcnvjb",
         "lemmatized": "flawless playa la manga del mar menor httpstcoppcnvjb",
         "_deepnote_index_column": 4213
        },
        {
         "clean_tweets": "Heladeandoo  Amandau httpstcotcOgly",
         "lowercase": "heladeandoo  amandau httpstcotcogly",
         "stopwords_removed": "heladeandoo amandau httpstcotcogly",
         "lemmatized": "heladeandoo amandau httpstcotcogly",
         "_deepnote_index_column": 4214
        },
        {
         "clean_tweets": "n   httpstcoPQPaUbLY",
         "lowercase": "n   httpstcopqpaubly",
         "stopwords_removed": "n httpstcopqpaubly",
         "lemmatized": "n httpstcopqpaubly",
         "_deepnote_index_column": 4215
        },
        {
         "clean_tweets": " Lunch at Polpo in Soho A mezze of goodies lunch Italian tapas summer europe london… httpstcoyKcDEw…",
         "lowercase": " lunch at polpo in soho a mezze of goodies lunch italian tapas summer europe london… httpstcoykcdew…",
         "stopwords_removed": "lunch polpo soho mezze goodies lunch italian tapas summer europe london… httpstcoykcdewio",
         "lemmatized": "lunch polpo soho mezze goody lunch italian tapas summer europe london … httpstcoykcdewio",
         "_deepnote_index_column": 4216
        },
        {
         "clean_tweets": "Im at Gabrielas House in Agronômica Santa Catarina httpstcoYdvarbrq",
         "lowercase": "im at gabrielas house in agronômica santa catarina httpstcoydvarbrq",
         "stopwords_removed": "gabrielas house agronômica santa catarina httpstcoydvarbrq",
         "lemmatized": "I m gabrielas house agronômica santa catarina httpstcoydvarbrq",
         "_deepnote_index_column": 4217
        },
        {
         "clean_tweets": "Im at Londrina Lanches in Ipanema PR httpstcoSRZQvumBCf",
         "lowercase": "im at londrina lanches in ipanema pr httpstcosrzqvumbcf",
         "stopwords_removed": "londrina lanches ipanema pr httpstcosrzqvumbcf",
         "lemmatized": "I m londrina lanches ipanema pr httpstcosrzqvumbcf",
         "_deepnote_index_column": 4218
        },
        {
         "clean_tweets": "Icecreamfuninthesun summersouthsea SouthCoast  Clarence Pier httpstcoZSFzEFHv",
         "lowercase": "icecreamfuninthesun summersouthsea southcoast  clarence pier httpstcozsfzefhv",
         "stopwords_removed": "icecreamfuninthesun summersouthsea southcoast clarence pier httpstcozsfzefhv",
         "lemmatized": "icecreamfuninthesun summersouthsea southcoast clarence pier httpstcozsfzefhv",
         "_deepnote_index_column": 4219
        },
        {
         "clean_tweets": " with Mutia Vallery and Ivana at warunkupnormal — httpstcoueBistAK",
         "lowercase": " with mutia vallery and ivana at warunkupnormal — httpstcouebistak",
         "stopwords_removed": "mutia vallery ivana warunkupnormal — httpstcouebistak",
         "lemmatized": "mutia vallery ivana warunkupnormal — httpstcouebistak",
         "_deepnote_index_column": 4220
        },
        {
         "clean_tweets": "mist gt sky is clearntemperature up °F gt °Fnhumidity down  gt nwind mph gt mph",
         "lowercase": "mist gt sky is clearntemperature up °f gt °fnhumidity down  gt nwind mph gt mph",
         "stopwords_removed": "mist gt sky clearntemperature °f gt °fnhumidity gt nwind mph gt mph",
         "lemmatized": "mist gt sky clearntemperature ° f gt ° fnhumidity gt nwind mph gt mph",
         "_deepnote_index_column": 4221
        },
        {
         "clean_tweets": "Red eyes dont seem too bad when you get to eat breakfast here  Boston Common Duck Pond httpstcoYzYf…",
         "lowercase": "red eyes dont seem too bad when you get to eat breakfast here  boston common duck pond httpstcoyzyf…",
         "stopwords_removed": "red eyes dont seem bad get eat breakfast boston common duck pond httpstcoyzyfkazw",
         "lemmatized": "red eye do nt seem bad get eat breakfast boston common duck pond httpstcoyzyfkazw",
         "_deepnote_index_column": 4222
        },
        {
         "clean_tweets": "Timeless Fashion By hamletsvintage manhattan moda fashion collection colorful vintage… httpstcoNStT…",
         "lowercase": "timeless fashion by hamletsvintage manhattan moda fashion collection colorful vintage… httpstconstt…",
         "stopwords_removed": "timeless fashion hamletsvintage manhattan moda fashion collection colorful vintage… httpstconsttoeyf",
         "lemmatized": "timeless fashion hamletsvintage manhattan moda fashion collection colorful vintage … httpstconsttoe…",
         "_deepnote_index_column": 4223
        },
        {
         "clean_tweets": "Im at  in Aydın Efeler httpstcoCxfTmqElJt",
         "lowercase": "im at  in aydın efeler httpstcocxftmqeljt",
         "stopwords_removed": "aydın efeler httpstcocxftmqeljt",
         "lemmatized": "I m aydın efeler httpstcocxftmqeljt",
         "_deepnote_index_column": 4224
        },
        {
         "clean_tweets": "Want to work in  View our latest opening httpstconOHNZIZCE Job Hospitality Veterans Jobs Hiring Car…",
         "lowercase": "want to work in  view our latest opening httpstconohnzizce job hospitality veterans jobs hiring car…",
         "stopwords_removed": "want work view latest opening httpstconohnzizce job hospitality veterans jobs hiring careerarc",
         "lemmatized": "want work view late open httpstconohnzizce job hospitality veteran job hire careerarc",
         "_deepnote_index_column": 4225
        },
        {
         "clean_tweets": "Im at Ice Skating Rink in Kuwait City Kuwait w freakyq httpstcoIMPQscEOh",
         "lowercase": "im at ice skating rink in kuwait city kuwait w freakyq httpstcoimpqsceoh",
         "stopwords_removed": "ice skating rink kuwait city kuwait w freakyq httpstcoimpqsceoh",
         "lemmatized": "I m ice skating rink kuwait city kuwait w freakyq httpstcoimpqsceoh",
         "_deepnote_index_column": 4226
        },
        {
         "clean_tweets": "I love this town  ATLAtlanta nAwesome view from denisepricetoos new home   Jackson… httpstcohZoFZYw",
         "lowercase": "i love this town  atlatlanta nawesome view from denisepricetoos new home   jackson… httpstcohzofzyw",
         "stopwords_removed": "love town atlatlanta nawesome view denisepricetoos new home jackson… httpstcohzofzyw",
         "lemmatized": "love town atlatlanta nawesome view denisepricetoo new home jackson … httpstcohzofzyw",
         "_deepnote_index_column": 4227
        },
        {
         "clean_tweets": "Im at  in   httpstcotZJZoKPlG",
         "lowercase": "im at  in   httpstcotzjzokplg",
         "stopwords_removed": "httpstcotzjzokplg",
         "lemmatized": "I m httpstcotzjzokplg",
         "_deepnote_index_column": 4228
        },
        {
         "clean_tweets": "NEW PRODUCT ALERT we have new bath bombs and bodyfacial soap all available in different yummy… http…",
         "lowercase": "new product alert we have new bath bombs and bodyfacial soap all available in different yummy… http…",
         "stopwords_removed": "new product alert new bath bombs bodyfacial soap available different yummy… httpstcohbenmwnw",
         "lemmatized": "new product alert new bath bomb bodyfacial soap available different yummy … httpstcohbenmwnw",
         "_deepnote_index_column": 4229
        },
        {
         "clean_tweets": "Can you recommend anyone for this job httpstcoGAGYOB Hospitality Stevenson WA Hiring",
         "lowercase": "can you recommend anyone for this job httpstcogagyob hospitality stevenson wa hiring",
         "stopwords_removed": "recommend anyone job httpstcogagyob hospitality stevenson wa hiring",
         "lemmatized": "recommend anyone job httpstcogagyob hospitality stevenson wa hire",
         "_deepnote_index_column": 4230
        },
        {
         "clean_tweets": "Want to work in Springfield MO View our latest opening httpstcoERDDRejM Job Jobs Hiring",
         "lowercase": "want to work in springfield mo view our latest opening httpstcoerddrejm job jobs hiring",
         "stopwords_removed": "want work springfield mo view latest opening httpstcoerddrejm job jobs hiring",
         "lemmatized": "want work springfield mo view late open httpstcoerddrejm job job hire",
         "_deepnote_index_column": 4231
        },
        {
         "clean_tweets": "This job might be a great fit for you Director of Major Gifts  httpstcoTHvncRNO Chicago IL Veterans…",
         "lowercase": "this job might be a great fit for you director of major gifts  httpstcothvncrno chicago il veterans…",
         "stopwords_removed": "job might great fit director major gifts httpstcothvncrno chicago il veterans hiring careerarc",
         "lemmatized": "job might great fit director major gift httpstcothvncrno chicago il veteran hire careerarc",
         "_deepnote_index_column": 4232
        },
        {
         "clean_tweets": "Im at Star AVM in Yalova Türkiye httpstcoJwPrcMN",
         "lowercase": "im at star avm in yalova türkiye httpstcojwprcmn",
         "stopwords_removed": "star avm yalova türkiye httpstcojwprcmn",
         "lemmatized": "I m star avm yalova türkiye httpstcojwprcmn",
         "_deepnote_index_column": 4233
        },
        {
         "clean_tweets": "Ciao for now montauk  Ill be teaching the swervesixty in midtown tomorrow but back on the… httpstco…",
         "lowercase": "ciao for now montauk  ill be teaching the swervesixty in midtown tomorrow but back on the… httpstco…",
         "stopwords_removed": "ciao montauk ill teaching swervesixty midtown tomorrow back the… httpstcodklmzsncd",
         "lemmatized": "ciao montauk ill teaching swervesixty midtown tomorrow back the … httpstcodklmzsncd",
         "_deepnote_index_column": 4234
        },
        {
         "clean_tweets": "What to do on a hot summer day at the beach Take a swim of course adorbz yellowlab… httpstcoPLtoHMgG",
         "lowercase": "what to do on a hot summer day at the beach take a swim of course adorbz yellowlab… httpstcopltohmgg",
         "stopwords_removed": "hot summer day beach take swim course adorbz yellowlab… httpstcopltohmgg",
         "lemmatized": "hot summer day beach take swim course adorbz yellowlab … httpstcopltohmgg",
         "_deepnote_index_column": 4235
        },
        {
         "clean_tweets": "birthdaycake mom love cherish  Romanos Macaroni Grill  Dulles httpstcocoQbtbZWs",
         "lowercase": "birthdaycake mom love cherish  romanos macaroni grill  dulles httpstcocoqbtbzws",
         "stopwords_removed": "birthdaycake mom love cherish romanos macaroni grill dulles httpstcocoqbtbzws",
         "lemmatized": "birthdaycake mom love cherish romanos macaroni grill dull httpstcocoqbtbzws",
         "_deepnote_index_column": 4236
        },
        {
         "clean_tweets": "Unexpected reunions are the best bestfriends longdistancebestfriends  Taguig Philippines httpstcoFP…",
         "lowercase": "unexpected reunions are the best bestfriends longdistancebestfriends  taguig philippines httpstcofp…",
         "stopwords_removed": "unexpected reunions best bestfriends longdistancebestfriends taguig philippines httpstcofpxqbuvqq",
         "lemmatized": "unexpected reunion well bestfriend longdistancebestfriend taguig philippine httpstcofpxqbuvqq",
         "_deepnote_index_column": 4237
        },
        {
         "clean_tweets": "brothers from another mother  Justin Mehall Memorial Soccer Field httpstcoSASDpapN",
         "lowercase": "brothers from another mother  justin mehall memorial soccer field httpstcosasdpapn",
         "stopwords_removed": "brothers another mother justin mehall memorial soccer field httpstcosasdpapn",
         "lemmatized": "brother another mother justin mehall memorial soccer field httpstcosasdpapn",
         "_deepnote_index_column": 4238
        },
        {
         "clean_tweets": "Were hiring Read about our latest job opening here REGISTERED NURSE  httpstcoYrKrzdTCs Nursing Anna…",
         "lowercase": "were hiring read about our latest job opening here registered nurse  httpstcoyrkrzdtcs nursing anna…",
         "stopwords_removed": "hiring read latest job opening registered nurse httpstcoyrkrzdtcs nursing annandale va careerarc",
         "lemmatized": "hire read late job open register nurse httpstcoyrkrzdtcs nursing annandale va careerarc",
         "_deepnote_index_column": 4239
        },
        {
         "clean_tweets": "Im at Çenedağı  Zirve in İzmit Kocaeli w serhattmuratt muhammedmalo httpstcoXyaFMNnRUr",
         "lowercase": "im at çenedağı  zirve in i̇zmit kocaeli w serhattmuratt muhammedmalo httpstcoxyafmnnrur",
         "stopwords_removed": "çenedağı zirve i̇zmit kocaeli w serhattmuratt muhammedmalo httpstcoxyafmnnrur",
         "lemmatized": "I m çenedağı zirve i̇zmit kocaeli w serhattmuratt muhammedmalo httpstcoxyafmnnrur",
         "_deepnote_index_column": 4240
        },
        {
         "clean_tweets": "Interested in a job near FRANKLIN OH This could be a great fit httpstcoceFmNulx Retail Hiring Caree…",
         "lowercase": "interested in a job near franklin oh this could be a great fit httpstcocefmnulx retail hiring caree…",
         "stopwords_removed": "interested job near franklin oh could great fit httpstcocefmnulx retail hiring careerarc",
         "lemmatized": "interested job near franklin oh could great fit httpstcocefmnulx retail hiring careerarc",
         "_deepnote_index_column": 4241
        },
        {
         "clean_tweets": "With Dimaz  at Legian beach festival pic — httpstcoFIEZmqrEa",
         "lowercase": "with dimaz  at legian beach festival pic — httpstcofiezmqrea",
         "stopwords_removed": "dimaz legian beach festival pic — httpstcofiezmqrea",
         "lemmatized": "dimaz legian beach festival pic — httpstcofiezmqrea",
         "_deepnote_index_column": 4242
        },
        {
         "clean_tweets": "Look at these handsome boys firstdayofschool wherehasthetimegone  Manchester Elementary httpstcoUJq…",
         "lowercase": "look at these handsome boys firstdayofschool wherehasthetimegone  manchester elementary httpstcoujq…",
         "stopwords_removed": "look handsome boys firstdayofschool wherehasthetimegone manchester elementary httpstcoujqvxzaqop",
         "lemmatized": "look handsome boy firstdayofschool wherehasthetimegone manchester elementary httpstcoujqvxzaqop",
         "_deepnote_index_column": 4243
        },
        {
         "clean_tweets": "Reading   Reading Festival Main Stage httpstcoSJbiYPZ",
         "lowercase": "reading   reading festival main stage httpstcosjbiypz",
         "stopwords_removed": "reading reading festival main stage httpstcosjbiypz",
         "lemmatized": "reading read festival main stage httpstcosjbiypz",
         "_deepnote_index_column": 4244
        },
        {
         "clean_tweets": "Im at TheBistroBl httpstcoAsaHItgu",
         "lowercase": "im at thebistrobl httpstcoasahitgu",
         "stopwords_removed": "thebistrobl httpstcoasahitgu",
         "lemmatized": "I m thebistrobl httpstcoasahitgu",
         "_deepnote_index_column": 4245
        },
        {
         "clean_tweets": "Abang KO dekbutuh pijit  at Gedung Nusantara II pic — httpstcoaqYNEWrqb",
         "lowercase": "abang ko dekbutuh pijit  at gedung nusantara ii pic — httpstcoaqynewrqb",
         "stopwords_removed": "abang ko dekbutuh pijit gedung nusantara ii pic — httpstcoaqynewrqb",
         "lemmatized": "abang ko dekbutuh pijit gedung nusantara ii pic — httpstcoaqynewrqb",
         "_deepnote_index_column": 4246
        },
        {
         "clean_tweets": "Chesham man retires after  years of service to education httpstcogQOmSgbVUG Bucks httpstcorGcnqsP",
         "lowercase": "chesham man retires after  years of service to education httpstcogqomsgbvug bucks httpstcorgcnqsp",
         "stopwords_removed": "chesham man retires years service education httpstcogqomsgbvug bucks httpstcorgcnqsp",
         "lemmatized": "chesham man retire year service education httpstcogqomsgbvug buck httpstcorgcnqsp",
         "_deepnote_index_column": 4247
        },
        {
         "clean_tweets": "Can you recommend anyone for this job in Irving TX httpstcovluPqcn Nursing Hiring httpstcoOhgBwlWFcN",
         "lowercase": "can you recommend anyone for this job in irving tx httpstcovlupqcn nursing hiring httpstcoohgbwlwfcn",
         "stopwords_removed": "recommend anyone job irving tx httpstcovlupqcn nursing hiring httpstcoohgbwlwfcn",
         "lemmatized": "recommend anyone job irving tx httpstcovlupqcn nursing hiring httpstcoohgbwlwfcn",
         "_deepnote_index_column": 4248
        },
        {
         "clean_tweets": "Sometimes humpday requires extra coffee  RobotTheDog is all smiles amp caffeine free on… httpstcoOO…",
         "lowercase": "sometimes humpday requires extra coffee  robotthedog is all smiles amp caffeine free on… httpstcooo…",
         "stopwords_removed": "sometimes humpday requires extra coffee robotthedog smiles amp caffeine free on… httpstcoooctmclhzy",
         "lemmatized": "sometimes humpday require extra coffee robotthedog smile amp caffeine free on … httpstcoooctmclhzy",
         "_deepnote_index_column": 4249
        },
        {
         "clean_tweets": "veryselectivesocialcircle   Rittenhouse Square httpstcowfqvAPZs",
         "lowercase": "veryselectivesocialcircle   rittenhouse square httpstcowfqvapzs",
         "stopwords_removed": "veryselectivesocialcircle rittenhouse square httpstcowfqvapzs",
         "lemmatized": "veryselectivesocialcircle rittenhouse square httpstcowfqvapzs",
         "_deepnote_index_column": 4250
        },
        {
         "clean_tweets": "Todays member happy hour hosted by BLANKSPACES In the photo  George is demoing bailiwik to… httpstc…",
         "lowercase": "todays member happy hour hosted by blankspaces in the photo  george is demoing bailiwik to… httpstc…",
         "stopwords_removed": "todays member happy hour hosted blankspaces photo george demoing bailiwik to… httpstcojbvjod",
         "lemmatized": "today member happy hour host blankspace photo george demo bailiwik to … httpstcojbvjod",
         "_deepnote_index_column": 4251
        },
        {
         "clean_tweets": "I Hope You Dance by Ronan Keating is nowplaying in The Beacon Hotel",
         "lowercase": "i hope you dance by ronan keating is nowplaying in the beacon hotel",
         "stopwords_removed": "hope dance ronan keating nowplaying beacon hotel",
         "lemmatized": "hope dance ronan keate nowplaye beacon hotel",
         "_deepnote_index_column": 4252
        },
        {
         "clean_tweets": "Im at Julinhas house in Jaguarão RS httpstcorcNeqRaNrD",
         "lowercase": "im at julinhas house in jaguarão rs httpstcorcneqranrd",
         "stopwords_removed": "julinhas house jaguarão rs httpstcorcneqranrd",
         "lemmatized": "I m julinhas house jaguarão rs httpstcorcneqranrd",
         "_deepnote_index_column": 4253
        },
        {
         "clean_tweets": " cmpphoto nsummer summerseries baewatch lifeguardonduty beach myrtle bikini… httpstcoDbflNCnE",
         "lowercase": " cmpphoto nsummer summerseries baewatch lifeguardonduty beach myrtle bikini… httpstcodbflncne",
         "stopwords_removed": "cmpphoto nsummer summerseries baewatch lifeguardonduty beach myrtle bikini… httpstcodbflncne",
         "lemmatized": "cmpphoto nsummer summerserie baewatch lifeguardonduty beach myrtle bikini … httpstcodbflncne",
         "_deepnote_index_column": 4254
        },
        {
         "clean_tweets": "Im at Pcghs Blok Utama httpstcoLlAjyyr",
         "lowercase": "im at pcghs blok utama httpstcollajyyr",
         "stopwords_removed": "pcghs blok utama httpstcollajyyr",
         "lemmatized": "I m pcgh blok utama httpstcollajyyr",
         "_deepnote_index_column": 4255
        },
        {
         "clean_tweets": "mom and dad  University of Kentucky httpstcoYzMxQhilm",
         "lowercase": "mom and dad  university of kentucky httpstcoyzmxqhilm",
         "stopwords_removed": "mom dad university kentucky httpstcoyzmxqhilm",
         "lemmatized": "mom dad university kentucky httpstcoyzmxqhilm",
         "_deepnote_index_column": 4256
        },
        {
         "clean_tweets": "Im at M Café in Makati City Metro Manila httpstcoHQmEHANHK",
         "lowercase": "im at m café in makati city metro manila httpstcohqmehanhk",
         "stopwords_removed": "café makati city metro manila httpstcohqmehanhk",
         "lemmatized": "I m café makati city metro manila httpstcohqmehanhk",
         "_deepnote_index_column": 4257
        },
        {
         "clean_tweets": "Im at Lavazza  bestcoffeeshop in İstanbul Türkiye w uyrdlr httpstcoPrpayUAUc",
         "lowercase": "im at lavazza  bestcoffeeshop in i̇stanbul türkiye w uyrdlr httpstcoprpayuauc",
         "stopwords_removed": "lavazza bestcoffeeshop i̇stanbul türkiye w uyrdlr httpstcoprpayuauc",
         "lemmatized": "I m lavazza bestcoffeeshop i̇stanbul türkiye w uyrdlr httpstcoprpayuauc",
         "_deepnote_index_column": 4258
        },
        {
         "clean_tweets": "Offramp closed in Edina on Crosstown Hwy WB at Lyndale Ave traffic httpstcocYOdRRKz",
         "lowercase": "offramp closed in edina on crosstown hwy wb at lyndale ave traffic httpstcocyodrrkz",
         "stopwords_removed": "offramp closed edina crosstown hwy wb lyndale ave traffic httpstcocyodrrkz",
         "lemmatized": "offramp close edina crosstown hwy wb lyndale ave traffic httpstcocyodrrkz",
         "_deepnote_index_column": 4259
        },
        {
         "clean_tweets": "  Sakit Hati by Yovie amp Nuno at Banjir Kanal Barat — httpstcotdTvxALpOG",
         "lowercase": "  sakit hati by yovie amp nuno at banjir kanal barat — httpstcotdtvxalpog",
         "stopwords_removed": "sakit hati yovie amp nuno banjir kanal barat — httpstcotdtvxalpog",
         "lemmatized": "sakit hati yovie amp nuno banjir kanal barat — httpstcotdtvxalpog",
         "_deepnote_index_column": 4260
        },
        {
         "clean_tweets": "Wine festival drunk  My Wines Gibraltar Ltd httpstcogbtfvpMX",
         "lowercase": "wine festival drunk  my wines gibraltar ltd httpstcogbtfvpmx",
         "stopwords_removed": "wine festival drunk wines gibraltar ltd httpstcogbtfvpmx",
         "lemmatized": "wine festival drunk wines gibraltar ltd httpstcogbtfvpmx",
         "_deepnote_index_column": 4261
        },
        {
         "clean_tweets": "Were hiring Click to apply CNC MACHINIST  httpstcoAVdYcULaC Job SkilledTrade Moorpark CA Jobs Caree…",
         "lowercase": "were hiring click to apply cnc machinist  httpstcoavdyculac job skilledtrade moorpark ca jobs caree…",
         "stopwords_removed": "hiring click apply cnc machinist httpstcoavdyculac job skilledtrade moorpark ca jobs careerarc",
         "lemmatized": "hire click apply cnc machinist httpstcoavdyculac job skilledtrade moorpark ca job careerarc",
         "_deepnote_index_column": 4262
        },
        {
         "clean_tweets": "Local Weather   nTemp  ºC Current WindGust    mph WindSWnRainfall today  Baro amp Falling",
         "lowercase": "local weather   ntemp  ºc current windgust    mph windswnrainfall today  baro amp falling",
         "stopwords_removed": "local weather ntemp ºc current windgust mph windswnrainfall today baro amp falling",
         "lemmatized": "local weather ntemp ºc current windgust mph windswnrainfall today baro amp fall",
         "_deepnote_index_column": 4263
        },
        {
         "clean_tweets": "Em jom laa masuk kedai tu nak tengok jee   Lavender Garden Cameron Highlands httpstcoZtLOgdp",
         "lowercase": "em jom laa masuk kedai tu nak tengok jee   lavender garden cameron highlands httpstcoztlogdp",
         "stopwords_removed": "em jom laa masuk kedai tu nak tengok jee lavender garden cameron highlands httpstcoztlogdp",
         "lemmatized": "em jom laa masuk kedai tu nak tengok jee lavender garden cameron highland httpstcoztlogdp",
         "_deepnote_index_column": 4264
        },
        {
         "clean_tweets": "Labor Day go  Up on the Roof httpstcoMLBbFPMGCa",
         "lowercase": "labor day go  up on the roof httpstcomlbbfpmgca",
         "stopwords_removed": "labor day go roof httpstcomlbbfpmgca",
         "lemmatized": "labor day go roof httpstcomlbbfpmgca",
         "_deepnote_index_column": 4265
        },
        {
         "clean_tweets": "Im at San Fernando Pampanga httpstcoZDZSRo",
         "lowercase": "im at san fernando pampanga httpstcozdzsro",
         "stopwords_removed": "san fernando pampanga httpstcozdzsro",
         "lemmatized": "I m san fernando pampanga httpstcozdzsro",
         "_deepnote_index_column": 4266
        },
        {
         "clean_tweets": "Just posted a photo  I Near North Platte Nebraska httpstcomAJWiIDJF",
         "lowercase": "just posted a photo  i near north platte nebraska httpstcomajwiidjf",
         "stopwords_removed": "posted photo near north platte nebraska httpstcomajwiidjf",
         "lemmatized": "post photo near north platte nebraska httpstcomajwiidjf",
         "_deepnote_index_column": 4267
        },
        {
         "clean_tweets": "Im at NI SOLUTION SDN BHD in Skudai Johor httpstcosSMqQdIQn",
         "lowercase": "im at ni solution sdn bhd in skudai johor httpstcossmqqdiqn",
         "stopwords_removed": "ni solution sdn bhd skudai johor httpstcossmqqdiqn",
         "lemmatized": "I m ni solution sdn bhd skudai johor httpstcossmqqdiqn",
         "_deepnote_index_column": 4268
        },
        {
         "clean_tweets": "Too much sauce  lastnightinmiami  Miami Florida httpstcolqFVhIyN",
         "lowercase": "too much sauce  lastnightinmiami  miami florida httpstcolqfvhiyn",
         "stopwords_removed": "much sauce lastnightinmiami miami florida httpstcolqfvhiyn",
         "lemmatized": "much sauce lastnightinmiami miami florida httpstcolqfvhiyn",
         "_deepnote_index_column": 4269
        },
        {
         "clean_tweets": "family portrait photographer newportbeach orangecounty oc photography studio  Newport… httpstcotnBO…",
         "lowercase": "family portrait photographer newportbeach orangecounty oc photography studio  newport… httpstcotnbo…",
         "stopwords_removed": "family portrait photographer newportbeach orangecounty oc photography studio newport… httpstcotnbox…",
         "lemmatized": "family portrait photographer newportbeach orangecounty oc photography studio newport … httpstcotnbo…",
         "_deepnote_index_column": 4270
        },
        {
         "clean_tweets": "Im at  in Kitakyūshū  httpstcowcQmpSo",
         "lowercase": "im at  in kitakyūshū  httpstcowcqmpso",
         "stopwords_removed": "kitakyūshū httpstcowcqmpso",
         "lemmatized": "I m kitakyūshū httpstcowcqmpso",
         "_deepnote_index_column": 4271
        },
        {
         "clean_tweets": "View at this AMs search at KNW camp  Camp Westmont httpstcomPJAsIUq",
         "lowercase": "view at this ams search at knw camp  camp westmont httpstcompjasiuq",
         "stopwords_removed": "view ams search knw camp camp westmont httpstcompjasiuq",
         "lemmatized": "view ams search knw camp camp westmont httpstcompjasiuq",
         "_deepnote_index_column": 4272
        },
        {
         "clean_tweets": "Two Poles attacked in UK town which saw possible hate killing httpstcofNlZrPkBuJ",
         "lowercase": "two poles attacked in uk town which saw possible hate killing httpstcofnlzrpkbuj",
         "stopwords_removed": "two poles attacked uk town saw possible hate killing httpstcofnlzrpkbuj",
         "lemmatized": "two pole attack uk town see possible hate kill httpstcofnlzrpkbuj",
         "_deepnote_index_column": 4273
        },
        {
         "clean_tweets": "Im at Prague Main Railway Station in Praha httpstcokoNHwka",
         "lowercase": "im at prague main railway station in praha httpstcokonhwka",
         "stopwords_removed": "prague main railway station praha httpstcokonhwka",
         "lemmatized": "I m prague main railway station praha httpstcokonhwka",
         "_deepnote_index_column": 4274
        },
        {
         "clean_tweets": "TALES FROM BALTIMORECOMICCON DAY nnWhat an eclectic range of tastes from this fun… httpstcoeLyFVWch…",
         "lowercase": "tales from baltimorecomiccon day nnwhat an eclectic range of tastes from this fun… httpstcoelyfvwch…",
         "stopwords_removed": "tales baltimorecomiccon day nnwhat eclectic range tastes fun… httpstcoelyfvwchyn",
         "lemmatized": "tale baltimorecomiccon day nnwhat eclectic range taste fun … httpstcoelyfvwchyn",
         "_deepnote_index_column": 4275
        },
        {
         "clean_tweets": "Parents urged to complete secondary school applications for September  before… httpstcomKkbnzttdp B…",
         "lowercase": "parents urged to complete secondary school applications for september  before… httpstcomkkbnzttdp b…",
         "stopwords_removed": "parents urged complete secondary school applications september before… httpstcomkkbnzttdp basildon …",
         "lemmatized": "parent urge complete secondary school application september before … httpstcomkkbnzttdp basildon ht…",
         "_deepnote_index_column": 4276
        },
        {
         "clean_tweets": "Im at Sykes httpstcocquhZahJS",
         "lowercase": "im at sykes httpstcocquhzahjs",
         "stopwords_removed": "sykes httpstcocquhzahjs",
         "lemmatized": "I m syke httpstcocquhzahjs",
         "_deepnote_index_column": 4277
        },
        {
         "clean_tweets": "Were hiring Click to apply ReturnsRecarton Clerical Position  httpstcofZkcPeHNgG Job SupplyChain Mi…",
         "lowercase": "were hiring click to apply returnsrecarton clerical position  httpstcofzkcpehngg job supplychain mi…",
         "stopwords_removed": "hiring click apply returnsrecarton clerical position httpstcofzkcpehngg job supplychain minooka il …",
         "lemmatized": "hire click apply returnsrecarton clerical position httpstcofzkcpehngg job supplychain minooka il jo…",
         "_deepnote_index_column": 4278
        },
        {
         "clean_tweets": "Day off Come spend it with us as we take on UAV at our home field at  LaborDay GameDay… httpstcoYQS…",
         "lowercase": "day off come spend it with us as we take on uav at our home field at  laborday gameday… httpstcoyqs…",
         "stopwords_removed": "day come spend us take uav home field laborday gameday… httpstcoyqsuexzj",
         "lemmatized": "day come spend we take uav home field laborday gameday … httpstcoyqsuexzj",
         "_deepnote_index_column": 4279
        },
        {
         "clean_tweets": "Just posted a photo  Bier Markt  St Johns httpstcoUCMcwTmTkb",
         "lowercase": "just posted a photo  bier markt  st johns httpstcoucmcwtmtkb",
         "stopwords_removed": "posted photo bier markt st johns httpstcoucmcwtmtkb",
         "lemmatized": "post photo bi markt st johns httpstcoucmcwtmtkb",
         "_deepnote_index_column": 4280
        },
        {
         "clean_tweets": "Im at Warm Wood Café in Vadhana httpstcoXPVvanoU",
         "lowercase": "im at warm wood café in vadhana httpstcoxpvvanou",
         "stopwords_removed": "warm wood café vadhana httpstcoxpvvanou",
         "lemmatized": "I m warm wood café vadhana httpstcoxpvvanou",
         "_deepnote_index_column": 4281
        },
        {
         "clean_tweets": "Were hiring Click to apply Office Manager  httpstconLbXzISzz Job Clerical Tucson AZ Jobs",
         "lowercase": "were hiring click to apply office manager  httpstconlbxziszz job clerical tucson az jobs",
         "stopwords_removed": "hiring click apply office manager httpstconlbxziszz job clerical tucson az jobs",
         "lemmatized": "hire click apply office manager httpstconlbxziszz job clerical tucson az job",
         "_deepnote_index_column": 4282
        },
        {
         "clean_tweets": "Christ is in me I am enough  Elevation Church  University City httpstcoydKZwIheo",
         "lowercase": "christ is in me i am enough  elevation church  university city httpstcoydkzwiheo",
         "stopwords_removed": "christ enough elevation church university city httpstcoydkzwiheo",
         "lemmatized": "christ enough elevation church university city httpstcoydkzwiheo",
         "_deepnote_index_column": 4283
        },
        {
         "clean_tweets": "Im at Hard Rock Cafe London in Mayfair Greater London httpstcofIXEFHljSj httpstcoQpYJJOViqQ",
         "lowercase": "im at hard rock cafe london in mayfair greater london httpstcofixefhljsj httpstcoqpyjjoviqq",
         "stopwords_removed": "hard rock cafe london mayfair greater london httpstcofixefhljsj httpstcoqpyjjoviqq",
         "lemmatized": "I m hard rock cafe london mayfair great london httpstcofixefhljsj httpstcoqpyjjoviqq",
         "_deepnote_index_column": 4284
        },
        {
         "clean_tweets": "Can you recommend anyone for this job in WestCarrollton OH httpstcooioFq Retail Hiring CareerArc",
         "lowercase": "can you recommend anyone for this job in westcarrollton oh httpstcooiofq retail hiring careerarc",
         "stopwords_removed": "recommend anyone job westcarrollton oh httpstcooiofq retail hiring careerarc",
         "lemmatized": "recommend anyone job westcarrollton oh httpstcooiofq retail hiring careerarc",
         "_deepnote_index_column": 4285
        },
        {
         "clean_tweets": "Live every day  like is your last day art illustration drawing draw picture photography… httpstcoNs…",
         "lowercase": "live every day  like is your last day art illustration drawing draw picture photography… httpstcons…",
         "stopwords_removed": "live every day like last day art illustration drawing draw picture photography… httpstconsuvbgvbgs",
         "lemmatized": "live every day like last day art illustration draw draw picture photography … httpstconsuvbgvbgs",
         "_deepnote_index_column": 4286
        },
        {
         "clean_tweets": "Im at Kızılay in Çankaya Ankara httpstcoAQQyKahR",
         "lowercase": "im at kızılay in çankaya ankara httpstcoaqqykahr",
         "stopwords_removed": "kızılay çankaya ankara httpstcoaqqykahr",
         "lemmatized": "I m kızılay çankaya ankara httpstcoaqqykahr",
         "_deepnote_index_column": 4287
        },
        {
         "clean_tweets": "Im at Antalya in Antalya Türkiye httpstcoIaeuorY",
         "lowercase": "im at antalya in antalya türkiye httpstcoiaeuory",
         "stopwords_removed": "antalya antalya türkiye httpstcoiaeuory",
         "lemmatized": "I m antalya antalya türkiye httpstcoiaeuory",
         "_deepnote_index_column": 4288
        },
        {
         "clean_tweets": " ℃n℃nn sakai   httpstcogqgDsq",
         "lowercase": " ℃n℃nn sakai   httpstcogqgdsq",
         "stopwords_removed": "℃n℃nn sakai httpstcogqgdsq",
         "lemmatized": "℃ n ℃ nn sakai httpstcogqgdsq",
         "_deepnote_index_column": 4289
        },
        {
         "clean_tweets": "Im at Wilmington Library in Wilmington DE httpstcorCDkDaoBk",
         "lowercase": "im at wilmington library in wilmington de httpstcorcdkdaobk",
         "stopwords_removed": "wilmington library wilmington de httpstcorcdkdaobk",
         "lemmatized": "I m wilmington library wilmington de httpstcorcdkdaobk",
         "_deepnote_index_column": 4290
        },
        {
         "clean_tweets": "Join the UPS team See our latest job opening here httpstcoGrgarnZL Transportation Butler PA Hiring …",
         "lowercase": "join the ups team see our latest job opening here httpstcogrgarnzl transportation butler pa hiring …",
         "stopwords_removed": "join ups team see latest job opening httpstcogrgarnzl transportation butler pa hiring careerarc",
         "lemmatized": "join up team see late job opening httpstcogrgarnzl transportation butler pa hiring careerarc",
         "_deepnote_index_column": 4291
        },
        {
         "clean_tweets": "Todays pick of the day is this elegant mustsee property in Pasadena CA This stunning hilltop… https…",
         "lowercase": "todays pick of the day is this elegant mustsee property in pasadena ca this stunning hilltop… https…",
         "stopwords_removed": "todays pick day elegant mustsee property pasadena ca stunning hilltop… httpstcosafjjbrv",
         "lemmatized": "today pick day elegant mustsee property pasadena ca stunning hilltop … httpstcosafjjbrv",
         "_deepnote_index_column": 4292
        },
        {
         "clean_tweets": "Want to work in Lexington KY View our latest opening httpstcoAtIuRZNtz Job Finance Jobs Hiring http…",
         "lowercase": "want to work in lexington ky view our latest opening httpstcoatiurzntz job finance jobs hiring http…",
         "stopwords_removed": "want work lexington ky view latest opening httpstcoatiurzntz job finance jobs hiring httpstconahzrj",
         "lemmatized": "want work lexington ky view late open httpstcoatiurzntz job finance job hire httpstconahzrj",
         "_deepnote_index_column": 4293
        },
        {
         "clean_tweets": "  Zurich in Zürich Suisse httpstcoTbKnLNAWBB",
         "lowercase": "  zurich in zürich suisse httpstcotbknlnawbb",
         "stopwords_removed": "zurich zürich suisse httpstcotbknlnawbb",
         "lemmatized": "zurich zürich suisse httpstcotbknlnawbb",
         "_deepnote_index_column": 4294
        },
        {
         "clean_tweets": "This job might be a great fit for you Food Services Assistant  Full Time  httpstcoEQqQjDP FoodServi…",
         "lowercase": "this job might be a great fit for you food services assistant  full time  httpstcoeqqqjdp foodservi…",
         "stopwords_removed": "job might great fit food services assistant full time httpstcoeqqqjdp foodservice food houston tx",
         "lemmatized": "job might great fit food service assistant full time httpstcoeqqqjdp foodservice food houston tx",
         "_deepnote_index_column": 4295
        },
        {
         "clean_tweets": "Im at  in Funabashi  httpstcovHJrprXr",
         "lowercase": "im at  in funabashi  httpstcovhjrprxr",
         "stopwords_removed": "funabashi httpstcovhjrprxr",
         "lemmatized": "I m funabashi httpstcovhjrprxr",
         "_deepnote_index_column": 4296
        },
        {
         "clean_tweets": "This one picture perfectly describes my experience at this school I… httpstcoMOgLSqQBp",
         "lowercase": "this one picture perfectly describes my experience at this school i… httpstcomoglsqqbp",
         "stopwords_removed": "one picture perfectly describes experience school i… httpstcomoglsqqbp",
         "lemmatized": "one picture perfectly describe experience school I … httpstcomoglsqqbp",
         "_deepnote_index_column": 4297
        },
        {
         "clean_tweets": "Im at Sinking Spring PA in Sinking Spring PA httpstcoQjOiGjLF",
         "lowercase": "im at sinking spring pa in sinking spring pa httpstcoqjoigjlf",
         "stopwords_removed": "sinking spring pa sinking spring pa httpstcoqjoigjlf",
         "lemmatized": "I m sink spring pa sinking spring pa httpstcoqjoigjlf",
         "_deepnote_index_column": 4298
        },
        {
         "clean_tweets": "Update Construction on BBus at th Streetth Avenue httpstcoRMdgN",
         "lowercase": "update construction on bbus at th streetth avenue httpstcormdgn",
         "stopwords_removed": "update construction bbus th streetth avenue httpstcormdgn",
         "lemmatized": "update construction bbus th streetth avenue httpstcormdgn",
         "_deepnote_index_column": 4299
        },
        {
         "clean_tweets": "Im at Bus Stop  Aft Sembawang Shopping Centre httpstcoRRQGdIqQH",
         "lowercase": "im at bus stop  aft sembawang shopping centre httpstcorrqgdiqqh",
         "stopwords_removed": "bus stop aft sembawang shopping centre httpstcorrqgdiqqh",
         "lemmatized": "I m bus stop aft sembawang shopping centre httpstcorrqgdiqqh",
         "_deepnote_index_column": 4300
        },
        {
         "clean_tweets": "Chicken Teriyaki Ojyu Sauteed teriyaki chicken and japanese mushrooms on rice  Tokyo… httpstcodzfFS…",
         "lowercase": "chicken teriyaki ojyu sauteed teriyaki chicken and japanese mushrooms on rice  tokyo… httpstcodzffs…",
         "stopwords_removed": "chicken teriyaki ojyu sauteed teriyaki chicken japanese mushrooms rice tokyo… httpstcodzffsscvz",
         "lemmatized": "chicken teriyaki ojyu saute teriyaki chicken japanese mushroom rice tokyo … httpstcodzffsscvz",
         "_deepnote_index_column": 4301
        },
        {
         "clean_tweets": "My daughter and I at the MagicKingdom the other day AnaWarrior Doitforher fabana… httpstcoDbRbKHqt",
         "lowercase": "my daughter and i at the magickingdom the other day anawarrior doitforher fabana… httpstcodbrbkhqt",
         "stopwords_removed": "daughter magickingdom day anawarrior doitforher fabana… httpstcodbrbkhqt",
         "lemmatized": "daughter magickingdom day anawarrior doitforher fabana … httpstcodbrbkhqt",
         "_deepnote_index_column": 4302
        },
        {
         "clean_tweets": "You bet Ben was belting louder than any girl in the crowd when I Dont Want to Be played  … httpstco…",
         "lowercase": "you bet ben was belting louder than any girl in the crowd when i dont want to be played  … httpstco…",
         "stopwords_removed": "bet ben belting louder girl crowd dont want played … httpstcozylhrrdz",
         "lemmatized": "bet ben belting loud girl crowd do nt want play … httpstcozylhrrdz",
         "_deepnote_index_column": 4303
        },
        {
         "clean_tweets": "Im at Wat Phananchoeng in Phra Nakhon Si Ayutthaya httpstcovTKJfNpm",
         "lowercase": "im at wat phananchoeng in phra nakhon si ayutthaya httpstcovtkjfnpm",
         "stopwords_removed": "wat phananchoeng phra nakhon si ayutthaya httpstcovtkjfnpm",
         "lemmatized": "I m wat phananchoeng phra nakhon si ayutthaya httpstcovtkjfnpm",
         "_deepnote_index_column": 4304
        },
        {
         "clean_tweets": "Nemenin big boss motong rambut di big boys barbershop  with Aunk at Big Boyz Barbershop — httpstcoA…",
         "lowercase": "nemenin big boss motong rambut di big boys barbershop  with aunk at big boyz barbershop — httpstcoa…",
         "stopwords_removed": "nemenin big boss motong rambut di big boys barbershop aunk big boyz barbershop — httpstcoayezfoo",
         "lemmatized": "nemenin big boss motong rambut di big boy barbershop aunk big boyz barbershop — httpstcoayezfoo",
         "_deepnote_index_column": 4305
        },
        {
         "clean_tweets": "One of my hobby  Ma Hood httpstcoSHJDDWQQB",
         "lowercase": "one of my hobby  ma hood httpstcoshjddwqqb",
         "stopwords_removed": "one hobby hood httpstcoshjddwqqb",
         "lemmatized": "one hobby hood httpstcoshjddwqqb",
         "_deepnote_index_column": 4306
        },
        {
         "clean_tweets": "Another Cardigan Records Hopscotch Day Party in the books  Thanks to all that came out all who… htt…",
         "lowercase": "another cardigan records hopscotch day party in the books  thanks to all that came out all who… htt…",
         "stopwords_removed": "another cardigan records hopscotch day party books thanks came who… httpstcodnvbfsu",
         "lemmatized": "another cardigan record hopscotch day party book thank come who … httpstcodnvbfsu",
         "_deepnote_index_column": 4307
        },
        {
         "clean_tweets": "Im at Hempstead Hair World in Elmont NY httpstcohVYgHZyEHc",
         "lowercase": "im at hempstead hair world in elmont ny httpstcohvyghzyehc",
         "stopwords_removed": "hempstead hair world elmont ny httpstcohvyghzyehc",
         "lemmatized": "I m hempstead hair world elmont ny httpstcohvyghzyehc",
         "_deepnote_index_column": 4308
        },
        {
         "clean_tweets": "Bachelorette   Laurita Winery httpstcoBsIIFmdGz",
         "lowercase": "bachelorette   laurita winery httpstcobsiifmdgz",
         "stopwords_removed": "bachelorette laurita winery httpstcobsiifmdgz",
         "lemmatized": "bachelorette laurita winery httpstcobsiifmdgz",
         "_deepnote_index_column": 4309
        },
        {
         "clean_tweets": "This job might be a great fit for you Sr Information Architect Supervisor  httpstcollJlFiHz Alphare…",
         "lowercase": "this job might be a great fit for you sr information architect supervisor  httpstcolljlfihz alphare…",
         "stopwords_removed": "job might great fit sr information architect supervisor httpstcolljlfihz alpharetta ga hiring caree…",
         "lemmatized": "job might great fit sr information architect supervisor httpstcolljlfihz alpharetta ga hire careera…",
         "_deepnote_index_column": 4310
        },
        {
         "clean_tweets": "Im at PiazzaAvym in Canik Samsun w mertarmann debeabcbce tanrioveri httpstcogxKOUJp",
         "lowercase": "im at piazzaavym in canik samsun w mertarmann debeabcbce tanrioveri httpstcogxkoujp",
         "stopwords_removed": "piazzaavym canik samsun w mertarmann debeabcbce tanrioveri httpstcogxkoujp",
         "lemmatized": "I m piazzaavym canik samsun w mertarmann debeabcbce tanrioveri httpstcogxkoujp",
         "_deepnote_index_column": 4311
        }
       ]
      },
      "text/plain": "                                           clean_tweets  \\\n0     I felt my first flash of violence at some fool...   \n1                    Ladies drink and get in free till    \n2       Watching Miranda On bbc mermhart u r HILARIOUS    \n3                         Shopping  Kohls httptcoIZkQHT   \n4     Dennycrowe all over twitter because you and yo...   \n...                                                 ...   \n4307  Another Cardigan Records Hopscotch Day Party i...   \n4308  Im at Hempstead Hair World in Elmont NY httpst...   \n4309    Bachelorette   Laurita Winery httpstcoBsIIFmdGz   \n4310  This job might be a great fit for you Sr Infor...   \n4311  Im at PiazzaAvym in Canik Samsun w mertarmann ...   \n\n                                              lowercase  \\\n0     i felt my first flash of violence at some fool...   \n1                    ladies drink and get in free till    \n2       watching miranda on bbc mermhart u r hilarious    \n3                         shopping  kohls httptcoizkqht   \n4     dennycrowe all over twitter because you and yo...   \n...                                                 ...   \n4307  another cardigan records hopscotch day party i...   \n4308  im at hempstead hair world in elmont ny httpst...   \n4309    bachelorette   laurita winery httpstcobsiifmdgz   \n4310  this job might be a great fit for you sr infor...   \n4311  im at piazzaavym in canik samsun w mertarmann ...   \n\n                                      stopwords_removed  \\\n0       felt first flash violence fool bumped pity fool   \n1                            ladies drink get free till   \n2           watching miranda bbc mermhart u r hilarious   \n3                          shopping kohls httptcoizkqht   \n4                      dennycrowe twitter friends stick   \n...                                                 ...   \n4307  another cardigan records hopscotch day party b...   \n4308  hempstead hair world elmont ny httpstcohvyghzyehc   \n4309      bachelorette laurita winery httpstcobsiifmdgz   \n4310  job might great fit sr information architect s...   \n4311  piazzaavym canik samsun w mertarmann debeabcbc...   \n\n                                             lemmatized  \n0         feel first flash violence fool bump pity fool  \n1                              lady drink get free till  \n2              watch miranda bbc mermhart u r hilarious  \n3                          shopping kohls httptcoizkqht  \n4                 dennycrowe twitter friend ca nt stick  \n...                                                 ...  \n4307  another cardigan record hopscotch day party bo...  \n4308  I m hempstead hair world elmont ny httpstcohvy...  \n4309      bachelorette laurita winery httpstcobsiifmdgz  \n4310  job might great fit sr information architect s...  \n4311  I m piazzaavym canik samsun w mertarmann debea...  \n\n[4312 rows x 4 columns]",
      "text/html": "<div>\n<style scoped>\n    .dataframe tbody tr th:only-of-type {\n        vertical-align: middle;\n    }\n\n    .dataframe tbody tr th {\n        vertical-align: top;\n    }\n\n    .dataframe thead th {\n        text-align: right;\n    }\n</style>\n<table border=\"1\" class=\"dataframe\">\n  <thead>\n    <tr style=\"text-align: right;\">\n      <th></th>\n      <th>clean_tweets</th>\n      <th>lowercase</th>\n      <th>stopwords_removed</th>\n      <th>lemmatized</th>\n    </tr>\n  </thead>\n  <tbody>\n    <tr>\n      <th>0</th>\n      <td>I felt my first flash of violence at some fool...</td>\n      <td>i felt my first flash of violence at some fool...</td>\n      <td>felt first flash violence fool bumped pity fool</td>\n      <td>feel first flash violence fool bump pity fool</td>\n    </tr>\n    <tr>\n      <th>1</th>\n      <td>Ladies drink and get in free till</td>\n      <td>ladies drink and get in free till</td>\n      <td>ladies drink get free till</td>\n      <td>lady drink get free till</td>\n    </tr>\n    <tr>\n      <th>2</th>\n      <td>Watching Miranda On bbc mermhart u r HILARIOUS</td>\n      <td>watching miranda on bbc mermhart u r hilarious</td>\n      <td>watching miranda bbc mermhart u r hilarious</td>\n      <td>watch miranda bbc mermhart u r hilarious</td>\n    </tr>\n    <tr>\n      <th>3</th>\n      <td>Shopping  Kohls httptcoIZkQHT</td>\n      <td>shopping  kohls httptcoizkqht</td>\n      <td>shopping kohls httptcoizkqht</td>\n      <td>shopping kohls httptcoizkqht</td>\n    </tr>\n    <tr>\n      <th>4</th>\n      <td>Dennycrowe all over twitter because you and yo...</td>\n      <td>dennycrowe all over twitter because you and yo...</td>\n      <td>dennycrowe twitter friends stick</td>\n      <td>dennycrowe twitter friend ca nt stick</td>\n    </tr>\n    <tr>\n      <th>...</th>\n      <td>...</td>\n      <td>...</td>\n      <td>...</td>\n      <td>...</td>\n    </tr>\n    <tr>\n      <th>4307</th>\n      <td>Another Cardigan Records Hopscotch Day Party i...</td>\n      <td>another cardigan records hopscotch day party i...</td>\n      <td>another cardigan records hopscotch day party b...</td>\n      <td>another cardigan record hopscotch day party bo...</td>\n    </tr>\n    <tr>\n      <th>4308</th>\n      <td>Im at Hempstead Hair World in Elmont NY httpst...</td>\n      <td>im at hempstead hair world in elmont ny httpst...</td>\n      <td>hempstead hair world elmont ny httpstcohvyghzyehc</td>\n      <td>I m hempstead hair world elmont ny httpstcohvy...</td>\n    </tr>\n    <tr>\n      <th>4309</th>\n      <td>Bachelorette   Laurita Winery httpstcoBsIIFmdGz</td>\n      <td>bachelorette   laurita winery httpstcobsiifmdgz</td>\n      <td>bachelorette laurita winery httpstcobsiifmdgz</td>\n      <td>bachelorette laurita winery httpstcobsiifmdgz</td>\n    </tr>\n    <tr>\n      <th>4310</th>\n      <td>This job might be a great fit for you Sr Infor...</td>\n      <td>this job might be a great fit for you sr infor...</td>\n      <td>job might great fit sr information architect s...</td>\n      <td>job might great fit sr information architect s...</td>\n    </tr>\n    <tr>\n      <th>4311</th>\n      <td>Im at PiazzaAvym in Canik Samsun w mertarmann ...</td>\n      <td>im at piazzaavym in canik samsun w mertarmann ...</td>\n      <td>piazzaavym canik samsun w mertarmann debeabcbc...</td>\n      <td>I m piazzaavym canik samsun w mertarmann debea...</td>\n    </tr>\n  </tbody>\n</table>\n<p>4312 rows × 4 columns</p>\n</div>"
     },
     "metadata": {}
    }
   ],
   "execution_count": 63
  },
  {
   "cell_type": "markdown",
   "source": "I will be using Lemmatizer instead of Stemmer because Stemmer could lead to mispelled words and this will cause duplicated tokens for a supposedly same word. However, I don't think this is scalable as we increase the scope of the languages as there might not be Lemmatizer / good Lemmatizers for specific languages. That introduces the need for language specific preprocessing.\n\nConsiderations:\n1. Speed - while Lemmatizer is usually slower than Stemmer, it does a better job in getting the actual word / meaning of the tokens. So here is a tradeoff introduced.\n2. Preprocess all the data source fairly - I want to create a pipeline to preprocess all languages the same way. For this assignment purpose, the SpaCy Lemmatizer used supports all three languages just fine. However, when it comes to scaling to other languages, we need to consider preprocessing each language differently.",
   "metadata": {
    "cell_id": "00011-56576c42-09dd-44ff-8bc7-3e0bece12498",
    "deepnote_cell_type": "markdown"
   }
  },
  {
   "cell_type": "code",
   "metadata": {
    "cell_id": "00012-112bd723-3653-4fc8-874a-64eb30ca918b",
    "deepnote_to_be_reexecuted": false,
    "source_hash": "5c0dfb1b",
    "execution_start": 1633378628993,
    "execution_millis": 18050,
    "deepnote_cell_type": "code"
   },
   "source": "# !python3 -m spacy download en_core_web_sm",
   "outputs": [
    {
     "name": "stdout",
     "text": "2021-10-04 20:17:12.593489: W tensorflow/stream_executor/platform/default/dso_loader.cc:60] Could not load dynamic library 'libcudart.so.11.0'; dlerror: libcudart.so.11.0: cannot open shared object file: No such file or directory\n2021-10-04 20:17:12.593555: I tensorflow/stream_executor/cuda/cudart_stub.cc:29] Ignore above cudart dlerror if you do not have a GPU set up on your machine.\nCollecting en-core-web-sm==3.1.0\n  Downloading https://github.com/explosion/spacy-models/releases/download/en_core_web_sm-3.1.0/en_core_web_sm-3.1.0-py3-none-any.whl (13.6 MB)\n\u001b[K     |████████████████████████████████| 13.6 MB 10.0 MB/s \n\u001b[?25hRequirement already satisfied: spacy<3.2.0,>=3.1.0 in /shared-libs/python3.7/py/lib/python3.7/site-packages (from en-core-web-sm==3.1.0) (3.1.3)\nRequirement already satisfied: typing-extensions<4.0.0.0,>=3.7.4 in /shared-libs/python3.7/py-core/lib/python3.7/site-packages (from spacy<3.2.0,>=3.1.0->en-core-web-sm==3.1.0) (3.10.0.2)\nRequirement already satisfied: setuptools in /root/venv/lib/python3.7/site-packages (from spacy<3.2.0,>=3.1.0->en-core-web-sm==3.1.0) (58.0.4)\nRequirement already satisfied: tqdm<5.0.0,>=4.38.0 in /shared-libs/python3.7/py/lib/python3.7/site-packages (from spacy<3.2.0,>=3.1.0->en-core-web-sm==3.1.0) (4.62.3)\nRequirement already satisfied: catalogue<2.1.0,>=2.0.6 in /shared-libs/python3.7/py/lib/python3.7/site-packages (from spacy<3.2.0,>=3.1.0->en-core-web-sm==3.1.0) (2.0.6)\nRequirement already satisfied: pathy>=0.3.5 in /shared-libs/python3.7/py/lib/python3.7/site-packages (from spacy<3.2.0,>=3.1.0->en-core-web-sm==3.1.0) (0.6.0)\nRequirement already satisfied: thinc<8.1.0,>=8.0.9 in /shared-libs/python3.7/py/lib/python3.7/site-packages (from spacy<3.2.0,>=3.1.0->en-core-web-sm==3.1.0) (8.0.10)\nRequirement already satisfied: murmurhash<1.1.0,>=0.28.0 in /shared-libs/python3.7/py/lib/python3.7/site-packages (from spacy<3.2.0,>=3.1.0->en-core-web-sm==3.1.0) (1.0.5)\nRequirement already satisfied: wasabi<1.1.0,>=0.8.1 in /shared-libs/python3.7/py/lib/python3.7/site-packages (from spacy<3.2.0,>=3.1.0->en-core-web-sm==3.1.0) (0.8.2)\nRequirement already satisfied: jinja2 in /shared-libs/python3.7/py-core/lib/python3.7/site-packages (from spacy<3.2.0,>=3.1.0->en-core-web-sm==3.1.0) (3.0.1)\nRequirement already satisfied: spacy-legacy<3.1.0,>=3.0.8 in /shared-libs/python3.7/py/lib/python3.7/site-packages (from spacy<3.2.0,>=3.1.0->en-core-web-sm==3.1.0) (3.0.8)\nRequirement already satisfied: requests<3.0.0,>=2.13.0 in /shared-libs/python3.7/py/lib/python3.7/site-packages (from spacy<3.2.0,>=3.1.0->en-core-web-sm==3.1.0) (2.26.0)\nRequirement already satisfied: numpy>=1.15.0 in /shared-libs/python3.7/py/lib/python3.7/site-packages (from spacy<3.2.0,>=3.1.0->en-core-web-sm==3.1.0) (1.19.5)\nRequirement already satisfied: blis<0.8.0,>=0.4.0 in /shared-libs/python3.7/py/lib/python3.7/site-packages (from spacy<3.2.0,>=3.1.0->en-core-web-sm==3.1.0) (0.7.4)\nRequirement already satisfied: packaging>=20.0 in /shared-libs/python3.7/py-core/lib/python3.7/site-packages (from spacy<3.2.0,>=3.1.0->en-core-web-sm==3.1.0) (21.0)\nRequirement already satisfied: typer<0.5.0,>=0.3.0 in /shared-libs/python3.7/py/lib/python3.7/site-packages (from spacy<3.2.0,>=3.1.0->en-core-web-sm==3.1.0) (0.4.0)\nRequirement already satisfied: preshed<3.1.0,>=3.0.2 in /shared-libs/python3.7/py/lib/python3.7/site-packages (from spacy<3.2.0,>=3.1.0->en-core-web-sm==3.1.0) (3.0.5)\nRequirement already satisfied: srsly<3.0.0,>=2.4.1 in /shared-libs/python3.7/py/lib/python3.7/site-packages (from spacy<3.2.0,>=3.1.0->en-core-web-sm==3.1.0) (2.4.1)\nRequirement already satisfied: pydantic!=1.8,!=1.8.1,<1.9.0,>=1.7.4 in /shared-libs/python3.7/py/lib/python3.7/site-packages (from spacy<3.2.0,>=3.1.0->en-core-web-sm==3.1.0) (1.8.2)\nRequirement already satisfied: cymem<2.1.0,>=2.0.2 in /shared-libs/python3.7/py/lib/python3.7/site-packages (from spacy<3.2.0,>=3.1.0->en-core-web-sm==3.1.0) (2.0.5)\nRequirement already satisfied: zipp>=0.5 in /shared-libs/python3.7/py-core/lib/python3.7/site-packages (from catalogue<2.1.0,>=2.0.6->spacy<3.2.0,>=3.1.0->en-core-web-sm==3.1.0) (3.5.0)\nRequirement already satisfied: pyparsing>=2.0.2 in /shared-libs/python3.7/py-core/lib/python3.7/site-packages (from packaging>=20.0->spacy<3.2.0,>=3.1.0->en-core-web-sm==3.1.0) (2.4.7)\nRequirement already satisfied: smart-open<6.0.0,>=5.0.0 in /shared-libs/python3.7/py/lib/python3.7/site-packages (from pathy>=0.3.5->spacy<3.2.0,>=3.1.0->en-core-web-sm==3.1.0) (5.2.1)\nRequirement already satisfied: idna<4,>=2.5 in /shared-libs/python3.7/py-core/lib/python3.7/site-packages (from requests<3.0.0,>=2.13.0->spacy<3.2.0,>=3.1.0->en-core-web-sm==3.1.0) (3.2)\nRequirement already satisfied: urllib3<1.27,>=1.21.1 in /shared-libs/python3.7/py/lib/python3.7/site-packages (from requests<3.0.0,>=2.13.0->spacy<3.2.0,>=3.1.0->en-core-web-sm==3.1.0) (1.26.7)\nRequirement already satisfied: charset-normalizer~=2.0.0 in /shared-libs/python3.7/py/lib/python3.7/site-packages (from requests<3.0.0,>=2.13.0->spacy<3.2.0,>=3.1.0->en-core-web-sm==3.1.0) (2.0.6)\nRequirement already satisfied: certifi>=2017.4.17 in /shared-libs/python3.7/py/lib/python3.7/site-packages (from requests<3.0.0,>=2.13.0->spacy<3.2.0,>=3.1.0->en-core-web-sm==3.1.0) (2021.5.30)\nRequirement already satisfied: click<9.0.0,>=7.1.1 in /shared-libs/python3.7/py/lib/python3.7/site-packages (from typer<0.5.0,>=0.3.0->spacy<3.2.0,>=3.1.0->en-core-web-sm==3.1.0) (8.0.1)\nRequirement already satisfied: importlib-metadata in /shared-libs/python3.7/py-core/lib/python3.7/site-packages (from click<9.0.0,>=7.1.1->typer<0.5.0,>=0.3.0->spacy<3.2.0,>=3.1.0->en-core-web-sm==3.1.0) (4.8.1)\nRequirement already satisfied: MarkupSafe>=2.0 in /shared-libs/python3.7/py-core/lib/python3.7/site-packages (from jinja2->spacy<3.2.0,>=3.1.0->en-core-web-sm==3.1.0) (2.0.1)\nInstalling collected packages: en-core-web-sm\nSuccessfully installed en-core-web-sm-3.1.0\n\u001b[38;5;2m✔ Download and installation successful\u001b[0m\nYou can now load the package via spacy.load('en_core_web_sm')\n",
     "output_type": "stream"
    }
   ],
   "execution_count": 7
  },
  {
   "cell_type": "code",
   "metadata": {
    "scrolled": false,
    "cell_id": "00013-44dc5c6a-b63d-436a-89ab-1b41689aa044",
    "deepnote_to_be_reexecuted": false,
    "source_hash": "c6b35254",
    "execution_start": 1633381050020,
    "execution_millis": 16680,
    "deepnote_cell_type": "code"
   },
   "source": "# pip install spacy\nimport spacy\n\nnlp = spacy.load(\"en_core_web_sm\", disable=['parser', 'ner'])\ndf_eng_clean_tweets['lemmatized'] = df_eng_clean_tweets['stopwords_removed'].apply(lambda x: \" \".join([token.lemma_ for token in nlp(x)]))\ndf_eng_clean_tweets.sample(5)",
   "outputs": [
    {
     "output_type": "execute_result",
     "execution_count": 64,
     "data": {
      "application/vnd.deepnote.dataframe.v2+json": {
       "row_count": 5,
       "column_count": 4,
       "columns": [
        {
         "name": "clean_tweets",
         "dtype": "object",
         "stats": {
          "unique_count": 5,
          "nan_count": 0,
          "categories": [
           {
            "name": "I already went out and bought you a lamp",
            "count": 1
           },
           {
            "name": "BBUKLive bbuk not impressed with CCB this years seems like a load of old has beens",
            "count": 1
           },
           {
            "name": "3 others",
            "count": 3
           }
          ]
         }
        },
        {
         "name": "lowercase",
         "dtype": "object",
         "stats": {
          "unique_count": 5,
          "nan_count": 0,
          "categories": [
           {
            "name": "i already went out and bought you a lamp",
            "count": 1
           },
           {
            "name": "bbuklive bbuk not impressed with ccb this years seems like a load of old has beens",
            "count": 1
           },
           {
            "name": "3 others",
            "count": 3
           }
          ]
         }
        },
        {
         "name": "stopwords_removed",
         "dtype": "object",
         "stats": {
          "unique_count": 5,
          "nan_count": 0,
          "categories": [
           {
            "name": "already went bought lamp",
            "count": 1
           },
           {
            "name": "bbuklive bbuk impressed ccb years seems like load old beens",
            "count": 1
           },
           {
            "name": "3 others",
            "count": 3
           }
          ]
         }
        },
        {
         "name": "lemmatized",
         "dtype": "object",
         "stats": {
          "unique_count": 5,
          "nan_count": 0,
          "categories": [
           {
            "name": "already go buy lamp",
            "count": 1
           },
           {
            "name": "bbuklive bbuk impressed ccb year seem like load old been",
            "count": 1
           },
           {
            "name": "3 others",
            "count": 3
           }
          ]
         }
        },
        {
         "name": "_deepnote_index_column",
         "dtype": "int64"
        }
       ],
       "rows_top": [
        {
         "clean_tweets": "I already went out and bought you a lamp",
         "lowercase": "i already went out and bought you a lamp",
         "stopwords_removed": "already went bought lamp",
         "lemmatized": "already go buy lamp",
         "_deepnote_index_column": 1898
        },
        {
         "clean_tweets": "BBUKLive bbuk not impressed with CCB this years seems like a load of old has beens",
         "lowercase": "bbuklive bbuk not impressed with ccb this years seems like a load of old has beens",
         "stopwords_removed": "bbuklive bbuk impressed ccb years seems like load old beens",
         "lemmatized": "bbuklive bbuk impressed ccb year seem like load old been",
         "_deepnote_index_column": 2676
        },
        {
         "clean_tweets": "OhSooTrill get like  And go with me",
         "lowercase": "ohsootrill get like  and go with me",
         "stopwords_removed": "ohsootrill get like go",
         "lemmatized": "ohsootrill get like go",
         "_deepnote_index_column": 1173
        },
        {
         "clean_tweets": "Onions originate from the devil ok",
         "lowercase": "onions originate from the devil ok",
         "stopwords_removed": "onions originate devil ok",
         "lemmatized": "onion originate devil ok",
         "_deepnote_index_column": 1514
        },
        {
         "clean_tweets": "Every female Is a model now thats so tired b ",
         "lowercase": "every female is a model now thats so tired b ",
         "stopwords_removed": "every female model thats tired b",
         "lemmatized": "every female model that s tired b",
         "_deepnote_index_column": 1612
        }
       ],
       "rows_bottom": null
      },
      "text/plain": "                                           clean_tweets  \\\n1898           I already went out and bought you a lamp   \n2676  BBUKLive bbuk not impressed with CCB this year...   \n1173                OhSooTrill get like  And go with me   \n1514                 Onions originate from the devil ok   \n1612      Every female Is a model now thats so tired b    \n\n                                              lowercase  \\\n1898           i already went out and bought you a lamp   \n2676  bbuklive bbuk not impressed with ccb this year...   \n1173                ohsootrill get like  and go with me   \n1514                 onions originate from the devil ok   \n1612      every female is a model now thats so tired b    \n\n                                      stopwords_removed  \\\n1898                           already went bought lamp   \n2676  bbuklive bbuk impressed ccb years seems like l...   \n1173                             ohsootrill get like go   \n1514                          onions originate devil ok   \n1612                   every female model thats tired b   \n\n                                             lemmatized  \n1898                                already go buy lamp  \n2676  bbuklive bbuk impressed ccb year seem like loa...  \n1173                             ohsootrill get like go  \n1514                           onion originate devil ok  \n1612                  every female model that s tired b  ",
      "text/html": "<div>\n<style scoped>\n    .dataframe tbody tr th:only-of-type {\n        vertical-align: middle;\n    }\n\n    .dataframe tbody tr th {\n        vertical-align: top;\n    }\n\n    .dataframe thead th {\n        text-align: right;\n    }\n</style>\n<table border=\"1\" class=\"dataframe\">\n  <thead>\n    <tr style=\"text-align: right;\">\n      <th></th>\n      <th>clean_tweets</th>\n      <th>lowercase</th>\n      <th>stopwords_removed</th>\n      <th>lemmatized</th>\n    </tr>\n  </thead>\n  <tbody>\n    <tr>\n      <th>1898</th>\n      <td>I already went out and bought you a lamp</td>\n      <td>i already went out and bought you a lamp</td>\n      <td>already went bought lamp</td>\n      <td>already go buy lamp</td>\n    </tr>\n    <tr>\n      <th>2676</th>\n      <td>BBUKLive bbuk not impressed with CCB this year...</td>\n      <td>bbuklive bbuk not impressed with ccb this year...</td>\n      <td>bbuklive bbuk impressed ccb years seems like l...</td>\n      <td>bbuklive bbuk impressed ccb year seem like loa...</td>\n    </tr>\n    <tr>\n      <th>1173</th>\n      <td>OhSooTrill get like  And go with me</td>\n      <td>ohsootrill get like  and go with me</td>\n      <td>ohsootrill get like go</td>\n      <td>ohsootrill get like go</td>\n    </tr>\n    <tr>\n      <th>1514</th>\n      <td>Onions originate from the devil ok</td>\n      <td>onions originate from the devil ok</td>\n      <td>onions originate devil ok</td>\n      <td>onion originate devil ok</td>\n    </tr>\n    <tr>\n      <th>1612</th>\n      <td>Every female Is a model now thats so tired b</td>\n      <td>every female is a model now thats so tired b</td>\n      <td>every female model thats tired b</td>\n      <td>every female model that s tired b</td>\n    </tr>\n  </tbody>\n</table>\n</div>"
     },
     "metadata": {}
    }
   ],
   "execution_count": 64
  },
  {
   "cell_type": "markdown",
   "source": "After we lemmatized the tweets, we can now vectorize the tokens.",
   "metadata": {
    "cell_id": "00014-733984bd-aa66-48fd-b50c-3f60cf838e75",
    "deepnote_cell_type": "markdown"
   }
  },
  {
   "cell_type": "code",
   "metadata": {
    "cell_id": "00015-f98b0ea3-2608-4a35-91ef-b84382930220",
    "deepnote_to_be_reexecuted": false,
    "source_hash": "bbfb281a",
    "execution_start": 1633381092351,
    "execution_millis": 219,
    "deepnote_cell_type": "code"
   },
   "source": "from sklearn.feature_extraction.text import TfidfVectorizer, CountVectorizer\n\nn_features = 1000\n\n# Use tf-idf features for NMF & SVD.\nprint(\"Extracting tf-idf features for NMF...\")\ntfidf_vectorizer = TfidfVectorizer(max_df=0.95, min_df=5, max_features=n_features, stop_words='english', smooth_idf=True)\ntfidf = tfidf_vectorizer.fit_transform(df_eng_clean_tweets['lemmatized'])\ntfidf_feature_names = tfidf_vectorizer.get_feature_names()\n\n# Use tf (raw term count) features for LDA.\nprint(\"Extracting tf features for LDA...\")\ntf_vectorizer = CountVectorizer(max_df=0.95, min_df=5,  max_features=n_features, stop_words='english')\ntf = tf_vectorizer.fit_transform(df_eng_clean_tweets['lemmatized'])\ntf_feature_names = tf_vectorizer.get_feature_names()\n\nprint(tfidf.shape) # check shape of the document-term matrix",
   "outputs": [
    {
     "name": "stdout",
     "text": "Extracting tf-idf features for NMF...\nExtracting tf features for LDA...\n(4312, 837)\n",
     "output_type": "stream"
    }
   ],
   "execution_count": 65
  },
  {
   "cell_type": "markdown",
   "source": "Now we could use the decomposition library provided NMF and LatentDirichletAllocation",
   "metadata": {
    "tags": [],
    "cell_id": "00016-4cbb7aba-09b9-4d01-bc74-82708b72db07",
    "deepnote_cell_type": "markdown"
   }
  },
  {
   "cell_type": "code",
   "metadata": {
    "cell_id": "00016-f7cc931b-0e50-4135-926c-58bc44885e4d",
    "deepnote_to_be_reexecuted": false,
    "source_hash": "b553039f",
    "execution_start": 1633381094703,
    "execution_millis": 4338,
    "deepnote_cell_type": "code"
   },
   "source": "from sklearn.decomposition import NMF, LatentDirichletAllocation\n\nno_topics = 20\n\n# Run NMF\nnmf = NMF(n_components=no_topics, random_state=1, alpha=.1, l1_ratio=.5, init='nndsvd').fit(tfidf)\n\n# Run LDA\nlda = LatentDirichletAllocation(max_iter=5, learning_method='online', learning_offset=50.,random_state=0).fit(tf)\n",
   "outputs": [],
   "execution_count": 66
  },
  {
   "cell_type": "code",
   "metadata": {
    "tags": [],
    "cell_id": "00017-5385369b-8ea6-47eb-8ed3-4783384f353e",
    "deepnote_to_be_reexecuted": false,
    "source_hash": "22dbefd4",
    "execution_start": 1633381099052,
    "execution_millis": 5,
    "deepnote_cell_type": "code"
   },
   "source": "def display_topics(model, feature_names, no_top_words):\n    topic_dict = {}\n    for topic_idx, topic in enumerate(model.components_):\n        topic_dict[\"Topic %d words\" % (topic_idx)]= ['{}'.format(feature_names[i])\n                        for i in topic.argsort()[:-no_top_words - 1:-1]]\n        topic_dict[\"Topic %d weights\" % (topic_idx)]= ['{:.1f}'.format(topic[i])\n                        for i in topic.argsort()[:-no_top_words - 1:-1]]\n    return pd.DataFrame(topic_dict)",
   "outputs": [],
   "execution_count": 67
  },
  {
   "cell_type": "code",
   "metadata": {
    "tags": [],
    "cell_id": "00021-202fa0a9-94a9-431e-a08d-806e1a38837e",
    "deepnote_to_be_reexecuted": false,
    "source_hash": "4868a3ee",
    "execution_start": 1633379458588,
    "execution_millis": 25906,
    "deepnote_cell_type": "code"
   },
   "source": "# !pip install pyLDAvis==3.3.1",
   "outputs": [
    {
     "name": "stdout",
     "text": "Collecting pyLDAvis==3.3.1\n  Using cached pyLDAvis-3.3.1.tar.gz (1.7 MB)\n  Installing build dependencies ... \u001b[?25ldone\n\u001b[?25h  Getting requirements to build wheel ... \u001b[?25ldone\n\u001b[?25h  Installing backend dependencies ... \u001b[?25ldone\n\u001b[?25h    Preparing wheel metadata ... \u001b[?25ldone\n\u001b[?25hCollecting numexpr\n  Downloading numexpr-2.7.3-cp37-cp37m-manylinux2010_x86_64.whl (471 kB)\n\u001b[K     |████████████████████████████████| 471 kB 22.2 MB/s \n\u001b[?25hCollecting funcy\n  Downloading funcy-1.16-py2.py3-none-any.whl (32 kB)\nRequirement already satisfied: setuptools in /root/venv/lib/python3.7/site-packages (from pyLDAvis==3.3.1) (58.0.4)\nRequirement already satisfied: future in /shared-libs/python3.7/py/lib/python3.7/site-packages (from pyLDAvis==3.3.1) (0.18.2)\nRequirement already satisfied: scipy in /shared-libs/python3.7/py/lib/python3.7/site-packages (from pyLDAvis==3.3.1) (1.7.1)\nRequirement already satisfied: scikit-learn in /shared-libs/python3.7/py/lib/python3.7/site-packages (from pyLDAvis==3.3.1) (0.24.2)\nCollecting sklearn\n  Downloading sklearn-0.0.tar.gz (1.1 kB)\nCollecting gensim\n  Downloading gensim-4.1.2-cp37-cp37m-manylinux_2_12_x86_64.manylinux2010_x86_64.whl (24.1 MB)\n\u001b[K     |████████████████████████████████| 24.1 MB 44.4 MB/s \n\u001b[?25hRequirement already satisfied: jinja2 in /shared-libs/python3.7/py-core/lib/python3.7/site-packages (from pyLDAvis==3.3.1) (3.0.1)\nRequirement already satisfied: pandas>=1.2.0 in /shared-libs/python3.7/py/lib/python3.7/site-packages (from pyLDAvis==3.3.1) (1.2.5)\nCollecting numpy>=1.20.0\n  Downloading numpy-1.21.2-cp37-cp37m-manylinux_2_12_x86_64.manylinux2010_x86_64.whl (15.7 MB)\n\u001b[K     |████████████████████████████████| 15.7 MB 35.9 MB/s \n\u001b[?25hRequirement already satisfied: joblib in /shared-libs/python3.7/py/lib/python3.7/site-packages (from pyLDAvis==3.3.1) (1.0.1)\nRequirement already satisfied: pytz>=2017.3 in /shared-libs/python3.7/py/lib/python3.7/site-packages (from pandas>=1.2.0->pyLDAvis==3.3.1) (2021.1)\nRequirement already satisfied: python-dateutil>=2.7.3 in /shared-libs/python3.7/py-core/lib/python3.7/site-packages (from pandas>=1.2.0->pyLDAvis==3.3.1) (2.8.2)\nRequirement already satisfied: six>=1.5 in /shared-libs/python3.7/py-core/lib/python3.7/site-packages (from python-dateutil>=2.7.3->pandas>=1.2.0->pyLDAvis==3.3.1) (1.16.0)\nRequirement already satisfied: smart-open>=1.8.1 in /shared-libs/python3.7/py/lib/python3.7/site-packages (from gensim->pyLDAvis==3.3.1) (5.2.1)\nRequirement already satisfied: MarkupSafe>=2.0 in /shared-libs/python3.7/py-core/lib/python3.7/site-packages (from jinja2->pyLDAvis==3.3.1) (2.0.1)\nRequirement already satisfied: threadpoolctl>=2.0.0 in /shared-libs/python3.7/py/lib/python3.7/site-packages (from scikit-learn->pyLDAvis==3.3.1) (2.2.0)\nBuilding wheels for collected packages: pyLDAvis, sklearn\n  Building wheel for pyLDAvis (PEP 517) ... \u001b[?25ldone\n\u001b[?25h  Created wheel for pyLDAvis: filename=pyLDAvis-3.3.1-py2.py3-none-any.whl size=136897 sha256=0b5bcc40d4a23ec7c1cb92ac6edced1e897081eff54a2035922fe941a2d1a8e8\n  Stored in directory: /root/.cache/pip/wheels/c9/21/f6/17bcf2667e8a68532ba2fbf6d5c72fdf4c7f7d9abfa4852d2f\n  Building wheel for sklearn (setup.py) ... \u001b[?25ldone\n\u001b[?25h  Created wheel for sklearn: filename=sklearn-0.0-py2.py3-none-any.whl size=1309 sha256=0dca57c25dbe4f0a4fef33304e88449711b4006ee03ca29849da64873fbc36fc\n  Stored in directory: /root/.cache/pip/wheels/46/ef/c3/157e41f5ee1372d1be90b09f74f82b10e391eaacca8f22d33e\nSuccessfully built pyLDAvis sklearn\nInstalling collected packages: numpy, sklearn, numexpr, gensim, funcy, pyLDAvis\n  Attempting uninstall: numpy\n    Found existing installation: numpy 1.19.5\n    Not uninstalling numpy at /shared-libs/python3.7/py/lib/python3.7/site-packages, outside environment /root/venv\n    Can't uninstall 'numpy'. No files were found to uninstall.\n\u001b[31mERROR: pip's dependency resolver does not currently take into account all the packages that are installed. This behaviour is the source of the following dependency conflicts.\ntensorflow 2.4.1 requires numpy~=1.19.2, but you have numpy 1.21.2 which is incompatible.\ntensorflow 2.4.1 requires six~=1.15.0, but you have six 1.16.0 which is incompatible.\ntensorflow 2.4.1 requires typing-extensions~=3.7.4, but you have typing-extensions 3.10.0.2 which is incompatible.\u001b[0m\nSuccessfully installed funcy-1.16 gensim-4.1.2 numexpr-2.7.3 numpy-1.21.2 pyLDAvis-3.3.1 sklearn-0.0\n",
     "output_type": "stream"
    }
   ],
   "execution_count": 29
  },
  {
   "cell_type": "code",
   "metadata": {
    "tags": [],
    "cell_id": "00022-ca372178-5801-4991-9619-a83c6e5bc914",
    "deepnote_to_be_reexecuted": false,
    "source_hash": "9e358812",
    "execution_start": 1633384603645,
    "execution_millis": 334,
    "deepnote_cell_type": "code"
   },
   "source": "import gensim\nfrom gensim.utils import simple_preprocess\n\ndef sent_to_words(sentences):\n    for sentence in sentences:\n        # deacc=True removes punctuations\n        yield(gensim.utils.simple_preprocess(str(sentence), deacc=True))\n\ndata_words = list(sent_to_words(df_eng_clean_tweets['lemmatized']))",
   "outputs": [],
   "execution_count": 101
  },
  {
   "cell_type": "code",
   "metadata": {
    "tags": [],
    "cell_id": "00023-42267b3f-c50c-4995-bb29-861e447e7880",
    "deepnote_to_be_reexecuted": false,
    "source_hash": "41b8f778",
    "execution_start": 1633384605459,
    "execution_millis": 1,
    "deepnote_cell_type": "code"
   },
   "source": "# data_words",
   "outputs": [],
   "execution_count": 102
  },
  {
   "cell_type": "code",
   "metadata": {
    "tags": [],
    "cell_id": "00022-fd259b3a-6577-4f83-a029-1b67616d7b1f",
    "deepnote_to_be_reexecuted": false,
    "source_hash": "ed1efe99",
    "execution_start": 1633384609720,
    "execution_millis": 258,
    "deepnote_cell_type": "code"
   },
   "source": "import gensim.corpora as corpora\n# Create Dictionary\nid2word = corpora.Dictionary(data_words)\n# Create Corpus\ntexts = data_words\n# Term Document Frequency\ncorpus = [id2word.doc2bow(text) for text in texts]\n# View\nprint(corpus[:1][0][:30])",
   "outputs": [
    {
     "name": "stdout",
     "text": "[(0, 1), (1, 1), (2, 1), (3, 1), (4, 2), (5, 1), (6, 1)]\n",
     "output_type": "stream"
    }
   ],
   "execution_count": 103
  },
  {
   "cell_type": "code",
   "metadata": {
    "tags": [],
    "cell_id": "00027-86f54362-7d86-4ded-8347-f80ddb26bf3b",
    "deepnote_to_be_reexecuted": false,
    "source_hash": "54248bb7",
    "execution_start": 1633390550264,
    "execution_millis": 231685,
    "deepnote_cell_type": "code"
   },
   "source": "# Parameters tuning using Grid Search\nfrom sklearn.model_selection import GridSearchCV\nfrom sklearn.decomposition import LatentDirichletAllocation\nfrom sklearn.manifold import TSNE\ngrid_params = {'n_components' : list(range(4,10))}\n\n# LDA model\nsk_lda = LatentDirichletAllocation()\nsk_lda_model = GridSearchCV(lda,param_grid=grid_params)\nsk_lda_model.fit(tf)\n\n# Estimators for LDA model\nsk_lda_model1 = sk_lda_model.best_estimator_\nprint(\"Best LDA model's params\" , sk_lda_model.best_params_)\nprint(\"Best log likelihood Score for the LDA model\",sk_lda_model.best_score_)\nprint(\"LDA model Perplexity on train data\", sk_lda_model1.perplexity(tf))",
   "outputs": [
    {
     "name": "stdout",
     "text": "Best LDA model's params {'n_components': 4}\nBest log likelihood Score for the LDA model -19684.49726071419\nLDA model Perplexity on train data 601.1577740141136\n",
     "output_type": "stream"
    }
   ],
   "execution_count": 164
  },
  {
   "cell_type": "code",
   "source": "sk_lda_model.best_estimator_.n_components",
   "metadata": {
    "tags": [],
    "cell_id": "00026-6ff7ef96-bb79-449b-b380-62899a3e31d5",
    "deepnote_to_be_reexecuted": false,
    "source_hash": "d56577a5",
    "execution_start": 1633390781965,
    "execution_millis": 49,
    "deepnote_cell_type": "code"
   },
   "outputs": [
    {
     "output_type": "execute_result",
     "execution_count": 165,
     "data": {
      "text/plain": "4"
     },
     "metadata": {}
    }
   ],
   "execution_count": 165
  },
  {
   "cell_type": "markdown",
   "source": "With a high perplexity, it seems like this model will be able to predict the topics very well.",
   "metadata": {
    "tags": [],
    "cell_id": "00028-69576659-718e-4f76-b7d6-9b989b0767e0",
    "deepnote_to_be_reexecuted": false,
    "source_hash": "ebc1367a",
    "execution_start": 1633383119212,
    "execution_millis": 26,
    "deepnote_cell_type": "markdown"
   }
  },
  {
   "cell_type": "code",
   "metadata": {
    "tags": [],
    "cell_id": "00028-95294eaa-180b-47ef-94d1-0b509f3aba83",
    "deepnote_to_be_reexecuted": false,
    "source_hash": "cd90fc8b",
    "execution_start": 1633390781966,
    "execution_millis": 5194,
    "deepnote_cell_type": "code"
   },
   "source": "import pyLDAvis.sklearn\npyLDAvis.enable_notebook()\npyLDAvis.sklearn.prepare(sk_lda_model1, tf, tf_vectorizer,mds='tsne')",
   "outputs": [
    {
     "output_type": "execute_result",
     "execution_count": 166,
     "data": {
      "text/plain": "PreparedData(topic_coordinates=                x           y  topics  cluster       Freq\ntopic                                                    \n2      269.562408 -124.803398       1        1  25.784595\n0        1.782994 -295.079681       2        1  25.173536\n3      220.811432 -343.832123       3        1  24.897027\n1       50.533993  -76.050934       4        1  24.144841, topic_info=            Term        Freq       Total Category  logprob  loglift\n362          job  384.000000  384.000000  Default  30.0000  30.0000\n315         hire  219.000000  219.000000  Default  29.0000  29.0000\n492           nt  198.000000  198.000000  Default  28.0000  28.0000\n416         love  122.000000  122.000000  Default  27.0000  27.0000\n108    careerarc  105.000000  105.000000  Default  26.0000  26.0000\n..           ...         ...         ...      ...      ...      ...\n716  temperature   18.926393   23.565613   Topic4  -5.1115   1.2019\n731         time   33.899157   87.484884   Topic4  -4.5287   0.4730\n175          day   38.952482  133.855018   Topic4  -4.3897   0.1867\n797          way   21.535583   34.365531   Topic4  -4.9824   0.9538\n793         want   27.089727  118.992556   Topic4  -4.7529  -0.0588\n\n[201 rows x 6 columns], token_table=      Topic      Freq     Term\nterm                          \n9         3  0.970685       ai\n10        3  0.958622  airport\n19        1  0.459993      amp\n19        2  0.045999      amp\n19        3  0.344994      amp\n...     ...       ...      ...\n810       4  0.973572     wind\n814       3  0.975863       wo\n818       2  0.995812     work\n825       4  0.932871    wrong\n829       3  0.975730     yeah\n\n[229 rows x 3 columns], R=30, lambda_step=0.01, plot_opts={'xlab': 'PC1', 'ylab': 'PC2'}, topic_order=[3, 1, 4, 2])",
      "text/html": "\n<link rel=\"stylesheet\" type=\"text/css\" href=\"https://cdn.jsdelivr.net/gh/bmabey/pyLDAvis@3.3.1/pyLDAvis/js/ldavis.v1.0.0.css\">\n\n\n<div id=\"ldavis_el1801397787495584801934781898\"></div>\n<script type=\"text/javascript\">\n\nvar ldavis_el1801397787495584801934781898_data = {\"mdsDat\": {\"x\": [269.5624084472656, 1.782994270324707, 220.81143188476562, 50.533992767333984], \"y\": [-124.80339813232422, -295.0796813964844, -343.8321228027344, -76.05093383789062], \"topics\": [1, 2, 3, 4], \"cluster\": [1, 1, 1, 1], \"Freq\": [25.784595366618856, 25.17353615947311, 24.89702739794949, 24.14484107595855]}, \"tinfo\": {\"Term\": [\"job\", \"hire\", \"nt\", \"love\", \"careerarc\", \"work\", \"today\", \"like\", \"late\", \"pic\", \"great\", \"come\", \"happy\", \"need\", \"people\", \"click\", \"post\", \"photo\", \"thing\", \"life\", \"retail\", \"think\", \"t\\u00fcrkiye\", \"open\", \"right\", \"watch\", \"man\", \"team\", \"recommend\", \"gt\", \"come\", \"man\", \"people\", \"haha\", \"ill\", \"hope\", \"follow\", \"drink\", \"life\", \"love\", \"bitch\", \"meet\", \"tweet\", \"fun\", \"boy\", \"friday\", \"finally\", \"free\", \"park\", \"place\", \"black\", \"th\", \"music\", \"dog\", \"hair\", \"sure\", \"old\", \"okay\", \"white\", \"stay\", \"picture\", \"say\", \"tell\", \"thank\", \"amp\", \"girl\", \"really\", \"beach\", \"look\", \"want\", \"make\", \"day\", \"know\", \"guy\", \"good\", \"time\", \"job\", \"hire\", \"careerarc\", \"work\", \"late\", \"click\", \"retail\", \"thing\", \"open\", \"recommend\", \"fit\", \"ca\", \"hospitality\", \"apply\", \"great\", \"veteran\", \"view\", \"kuala\", \"lumpur\", \"opening\", \"manager\", \"stanbul\", \"join\", \"team\", \"selangor\", \"near\", \"sale\", \"tx\", \"store\", \"nursing\", \"la\", \"want\", \"read\", \"hate\", \"pic\", \"t\\u00fcrkiye\", \"need\", \"gt\", \"bad\", \"big\", \"fuck\", \"shit\", \"nigga\", \"try\", \"cafe\", \"person\", \"heart\", \"wo\", \"ai\", \"yeah\", \"nt\", \"hotel\", \"airport\", \"star\", \"dinner\", \"mean\", \"istanbul\", \"buy\", \"traffic\", \"change\", \"johor\", \"rn\", \"catch\", \"international\", \"hard\", \"like\", \"feel\", \"ve\", \"house\", \"week\", \"sleep\", \"morning\", \"day\", \"know\", \"new\", \"make\", \"amp\", \"home\", \"time\", \"good\", \"stop\", \"today\", \"post\", \"photo\", \"watch\", \"right\", \"wind\", \"na\", \"gon\", \"fall\", \"baby\", \"rain\", \"sta\", \"friend\", \"wait\", \"humidity\", \"mph\", \"long\", \"happy\", \"weather\", \"damn\", \"mm\", \"pressure\", \"rise\", \"hey\", \"pm\", \"win\", \"song\", \"wrong\", \"barometer\", \"hpa\", \"think\", \"school\", \"trend\", \"city\", \"good\", \"start\", \"summer\", \"night\", \"miss\", \"temperature\", \"time\", \"day\", \"way\", \"want\"], \"Freq\": [384.0, 219.0, 198.0, 122.0, 105.0, 101.0, 84.0, 124.0, 79.0, 71.0, 75.0, 63.0, 60.0, 59.0, 60.0, 54.0, 52.0, 51.0, 50.0, 53.0, 49.0, 54.0, 47.0, 45.0, 43.0, 42.0, 44.0, 44.0, 41.0, 40.0, 63.215248416686705, 44.03907487885386, 59.19833800515621, 36.73047162328149, 37.611011848260006, 33.98814183793008, 32.17591094211161, 29.440098139006565, 51.69695943368701, 118.66143509550923, 21.212834612039085, 19.385981077565457, 19.38249126826073, 18.478834200252596, 18.476784930375494, 18.472113006786394, 17.569541983112703, 17.564743877921693, 17.5567433609687, 17.537298942509267, 16.653124018158515, 16.648179372084467, 15.74064550923723, 15.732575653940994, 15.728763066422427, 15.72604398001288, 14.828171757892378, 14.826649044424844, 14.823822601810674, 14.817999360205272, 17.390416612086657, 52.4599394463531, 27.55125741038276, 29.221607569022545, 60.25843054115618, 32.06498664911715, 27.874494228480117, 25.6301876528626, 28.746497203774176, 30.657787884836303, 26.713750710930263, 27.350241590169226, 24.38552557679928, 19.556652007404928, 23.704701410654383, 22.24557148394167, 383.6471427998934, 218.77377308204078, 104.6307811817261, 100.7094187680086, 79.26235216936055, 53.90016075417445, 49.02201022509386, 49.95726842946703, 45.11118560930408, 41.217163951956366, 39.265382392838994, 38.27735551340688, 35.36415761710154, 34.388111408305164, 73.47710869110205, 32.43722386670167, 30.47994323532679, 27.557907424825014, 27.55790742482502, 27.55764089181579, 26.583507413974363, 25.5888720737535, 24.622519234455364, 43.47206432449704, 20.726911294288204, 20.724947567515034, 20.700796235267816, 19.746572341033165, 18.770399222655037, 18.768893645129445, 28.380854318053057, 61.00595272735292, 22.306334857652907, 24.44836571412186, 70.62845515337057, 46.547882409817205, 58.38394265406589, 40.067398033243045, 39.125080413196486, 34.488832449204054, 33.57043051840107, 37.991788625406585, 23.383236875095363, 25.140730981338496, 21.53580163108868, 19.66876454117492, 19.647264021472292, 18.746593318107216, 17.828866576482366, 18.699177742984055, 190.30473405707514, 16.9006662728938, 15.976863748978472, 15.968724223985364, 15.044361350717098, 15.042628248332326, 14.125309990017294, 14.120525683992398, 14.120393765424163, 14.119583038055247, 13.200195738194433, 13.176806340778482, 12.265925097600174, 11.344246809741762, 26.081320552077905, 104.54206348544841, 42.49502203046095, 34.645972207488086, 26.272933729934422, 24.40462736739917, 25.45917478616016, 30.919835808005985, 66.88616680729997, 44.568300991812606, 34.84964422537705, 38.95458711406829, 44.816414558412056, 25.64151132772456, 30.99291668271119, 31.507709159070096, 22.220524537938235, 83.4930955851895, 51.32169386982666, 50.376512627604, 41.85442415321415, 42.749819152338205, 35.24313404241054, 33.33670609198469, 32.397690160412864, 30.508661932893286, 30.493922506603493, 29.561578870856913, 28.62139159185025, 30.401939279289003, 26.71510398972245, 24.838016408165842, 23.88566330236213, 27.55894877763905, 58.75024168786084, 20.096084135169058, 17.257900102169142, 16.32093851724894, 16.314697331739005, 16.313996682619802, 16.305844397022554, 15.364273241553274, 15.363852069992655, 15.357599593520897, 15.353911802178933, 13.483466137874158, 13.483453797243582, 51.01655431043106, 33.93052128196383, 25.28955026170251, 40.645756261125705, 60.845391113995746, 23.773275691155156, 19.023010591636275, 31.072880079025758, 22.085393363025556, 18.926393344545403, 33.89915679346413, 38.952482243061624, 21.535582813342764, 27.089727413486084], \"Total\": [384.0, 219.0, 198.0, 122.0, 105.0, 101.0, 84.0, 124.0, 79.0, 71.0, 75.0, 63.0, 60.0, 59.0, 60.0, 54.0, 52.0, 51.0, 50.0, 53.0, 49.0, 54.0, 47.0, 45.0, 43.0, 42.0, 44.0, 44.0, 41.0, 40.0, 63.93670914335248, 44.764057531751206, 60.297994077287626, 37.46020535842814, 38.37456790489072, 34.72147691175364, 32.895078480379226, 30.156002945674143, 53.019139754546565, 122.47647711923415, 21.939376465790026, 20.113496892465545, 20.113671750344423, 19.20048850926288, 19.20032787369731, 19.200774204655065, 18.287277729026425, 18.28726619175446, 18.287759872034087, 18.2883105190287, 17.374286929256478, 17.37450647096301, 16.46154963455835, 16.461630007810953, 16.461950371996917, 16.461726198156164, 15.548350213938415, 15.548334970530718, 15.54835918963204, 15.548672019904346, 18.293702924491267, 83.61158903694962, 35.74310792517266, 41.27721468251503, 130.43686707151204, 49.57348343182078, 42.545470672774826, 37.86457777510192, 47.85116514076939, 118.99255601996931, 82.43558667449697, 133.85501768507112, 84.27624265896762, 30.302275625577252, 116.76421783801584, 87.48488427611422, 384.34547715583716, 219.47149845963764, 105.3279716982256, 101.42472987680156, 79.96260576535725, 54.59749835148393, 49.719555941905945, 50.69307462170589, 45.81683075134882, 41.91485600692211, 39.96365722783595, 38.987598763010205, 36.061368319591274, 35.0857626448592, 75.04984923693874, 33.13461847400121, 31.18315348275083, 28.256632941311207, 28.256632941311214, 28.256597015271762, 27.281086522987763, 26.304533033353948, 25.329398517563757, 44.80781970367168, 21.42743944235054, 21.42731887139282, 21.426091314720587, 20.451583436050534, 19.475990717325978, 19.475903060714955, 32.06610289201036, 118.99255601996931, 27.992362937211634, 38.57032212389093, 71.35323636038784, 47.264703088839305, 59.307415186782066, 40.77916015306101, 39.85286194673939, 35.220447702180174, 34.29378146418828, 38.937679315189285, 24.102518504728028, 25.96050476688473, 22.249418664914206, 20.39660197205418, 20.396819532903265, 19.4699534169059, 18.543602392192692, 19.472592981063528, 198.17594792299752, 17.617156638276533, 16.69062039521554, 16.69084126016661, 15.764133811620429, 15.764049361213157, 14.837741940731371, 14.837646026666881, 14.837681878056548, 14.837724999683195, 13.911098085411757, 13.91224782388072, 12.98471635925084, 12.05814533521273, 27.829819436029663, 124.05062588196448, 48.29699446739461, 39.114690434865075, 30.664522184778857, 28.92584880902234, 30.52375412912831, 42.47242024920898, 133.85501768507112, 84.27624265896762, 67.1394552979176, 82.43558667449697, 130.43686707151204, 43.33507547258492, 87.48488427611422, 116.76421783801584, 36.867361624026316, 84.20685269698619, 52.03557239942904, 51.08933320141637, 42.573223099112276, 43.517804213789056, 35.95007768458763, 34.05776464043893, 33.1114792817807, 31.218979537467206, 31.218503281406687, 30.272675452748356, 29.326652517438625, 31.216632018133826, 27.433849028155365, 25.54183718075373, 24.595497362639474, 28.383112485974788, 60.529285444059646, 20.81060530648077, 17.97196864873529, 17.025886265265022, 17.025719808658412, 17.02571168382214, 17.02545590849982, 16.079713512832605, 16.07948786642797, 16.079487233572983, 16.07938944001026, 14.187289268995501, 14.187289165373477, 54.97108748905276, 36.817274944604826, 27.38430889968024, 55.74524140268313, 116.76421783801584, 31.896891652188863, 22.598860996424662, 62.54529442067494, 32.74937178482128, 23.565613248245462, 87.48488427611422, 133.85501768507112, 34.36553075206402, 118.99255601996931], \"Category\": [\"Default\", \"Default\", \"Default\", \"Default\", \"Default\", \"Default\", \"Default\", \"Default\", \"Default\", \"Default\", \"Default\", \"Default\", \"Default\", \"Default\", \"Default\", \"Default\", \"Default\", \"Default\", \"Default\", \"Default\", \"Default\", \"Default\", \"Default\", \"Default\", \"Default\", \"Default\", \"Default\", \"Default\", \"Default\", \"Default\", \"Topic1\", \"Topic1\", \"Topic1\", \"Topic1\", \"Topic1\", \"Topic1\", \"Topic1\", \"Topic1\", \"Topic1\", \"Topic1\", \"Topic1\", \"Topic1\", \"Topic1\", \"Topic1\", \"Topic1\", \"Topic1\", \"Topic1\", \"Topic1\", \"Topic1\", \"Topic1\", \"Topic1\", \"Topic1\", \"Topic1\", \"Topic1\", \"Topic1\", \"Topic1\", \"Topic1\", \"Topic1\", \"Topic1\", \"Topic1\", \"Topic1\", \"Topic1\", \"Topic1\", \"Topic1\", \"Topic1\", \"Topic1\", \"Topic1\", \"Topic1\", \"Topic1\", \"Topic1\", \"Topic1\", \"Topic1\", \"Topic1\", \"Topic1\", \"Topic1\", \"Topic1\", \"Topic2\", \"Topic2\", \"Topic2\", \"Topic2\", \"Topic2\", \"Topic2\", \"Topic2\", \"Topic2\", \"Topic2\", \"Topic2\", \"Topic2\", \"Topic2\", \"Topic2\", \"Topic2\", \"Topic2\", \"Topic2\", \"Topic2\", \"Topic2\", \"Topic2\", \"Topic2\", \"Topic2\", \"Topic2\", \"Topic2\", \"Topic2\", \"Topic2\", \"Topic2\", \"Topic2\", \"Topic2\", \"Topic2\", \"Topic2\", \"Topic2\", \"Topic2\", \"Topic2\", \"Topic2\", \"Topic3\", \"Topic3\", \"Topic3\", \"Topic3\", \"Topic3\", \"Topic3\", \"Topic3\", \"Topic3\", \"Topic3\", \"Topic3\", \"Topic3\", \"Topic3\", \"Topic3\", \"Topic3\", \"Topic3\", \"Topic3\", \"Topic3\", \"Topic3\", \"Topic3\", \"Topic3\", \"Topic3\", \"Topic3\", \"Topic3\", \"Topic3\", \"Topic3\", \"Topic3\", \"Topic3\", \"Topic3\", \"Topic3\", \"Topic3\", \"Topic3\", \"Topic3\", \"Topic3\", \"Topic3\", \"Topic3\", \"Topic3\", \"Topic3\", \"Topic3\", \"Topic3\", \"Topic3\", \"Topic3\", \"Topic3\", \"Topic3\", \"Topic3\", \"Topic3\", \"Topic3\", \"Topic3\", \"Topic4\", \"Topic4\", \"Topic4\", \"Topic4\", \"Topic4\", \"Topic4\", \"Topic4\", \"Topic4\", \"Topic4\", \"Topic4\", \"Topic4\", \"Topic4\", \"Topic4\", \"Topic4\", \"Topic4\", \"Topic4\", \"Topic4\", \"Topic4\", \"Topic4\", \"Topic4\", \"Topic4\", \"Topic4\", \"Topic4\", \"Topic4\", \"Topic4\", \"Topic4\", \"Topic4\", \"Topic4\", \"Topic4\", \"Topic4\", \"Topic4\", \"Topic4\", \"Topic4\", \"Topic4\", \"Topic4\", \"Topic4\", \"Topic4\", \"Topic4\", \"Topic4\", \"Topic4\", \"Topic4\", \"Topic4\", \"Topic4\", \"Topic4\"], \"logprob\": [30.0, 29.0, 28.0, 27.0, 26.0, 25.0, 24.0, 23.0, 22.0, 21.0, 20.0, 19.0, 18.0, 17.0, 16.0, 15.0, 14.0, 13.0, 12.0, 11.0, 10.0, 9.0, 8.0, 7.0, 6.0, 5.0, 4.0, 3.0, 2.0, 1.0, -3.9712, -4.3327, -4.0369, -4.5142, -4.4905, -4.5918, -4.6466, -4.7354, -4.1724, -3.3415, -5.0632, -5.1532, -5.1534, -5.2011, -5.2013, -5.2015, -5.2516, -5.2519, -5.2523, -5.2534, -5.3052, -5.3055, -5.3615, -5.362, -5.3623, -5.3625, -5.4212, -5.4213, -5.4215, -5.4219, -5.2619, -4.1577, -4.8017, -4.7429, -4.0191, -4.65, -4.7901, -4.874, -4.7593, -4.6949, -4.8326, -4.809, -4.9238, -5.1445, -4.9521, -5.0156, -2.1441, -2.7058, -3.4434, -3.4815, -3.721, -4.1067, -4.2015, -4.1826, -4.2847, -4.3749, -4.4234, -4.4489, -4.5281, -4.5561, -3.7968, -4.6145, -4.6767, -4.7775, -4.7775, -4.7775, -4.8135, -4.8516, -4.8901, -4.3217, -5.0624, -5.0625, -5.0636, -5.1108, -5.1615, -5.1616, -4.7481, -3.9828, -4.9889, -4.8972, -3.8253, -4.2423, -4.0157, -4.3922, -4.416, -4.5421, -4.5691, -4.4454, -4.9307, -4.8583, -5.013, -5.1037, -5.1048, -5.1517, -5.2019, -5.1543, -2.8341, -5.2554, -5.3116, -5.3121, -5.3717, -5.3719, -5.4348, -5.4351, -5.4351, -5.4352, -5.5025, -5.5043, -5.5759, -5.654, -4.8215, -3.4332, -4.3334, -4.5376, -4.8142, -4.888, -4.8457, -4.6513, -3.8798, -4.2857, -4.5317, -4.4203, -4.2802, -4.8385, -4.649, -4.6325, -4.9817, -3.6273, -4.114, -4.1325, -4.3179, -4.2967, -4.4898, -4.5454, -4.574, -4.6341, -4.6345, -4.6656, -4.6979, -4.6376, -4.7668, -4.8397, -4.8788, -4.7357, -3.9788, -5.0515, -5.2038, -5.2596, -5.26, -5.26, -5.2605, -5.32, -5.32, -5.3205, -5.3207, -5.4506, -5.4506, -4.1199, -4.5278, -4.8217, -4.3472, -3.9437, -4.8835, -5.1064, -4.6157, -4.9572, -5.1115, -4.5287, -4.3897, -4.9824, -4.7529], \"loglift\": [30.0, 29.0, 28.0, 27.0, 26.0, 25.0, 24.0, 23.0, 22.0, 21.0, 20.0, 19.0, 18.0, 17.0, 16.0, 15.0, 14.0, 13.0, 12.0, 11.0, 10.0, 9.0, 8.0, 7.0, 6.0, 5.0, 4.0, 3.0, 2.0, 1.0, 1.344, 1.3391, 1.337, 1.3357, 1.3353, 1.334, 1.3333, 1.3314, 1.3301, 1.3237, 1.3217, 1.3186, 1.3184, 1.3171, 1.317, 1.3167, 1.3154, 1.3151, 1.3146, 1.3135, 1.313, 1.3127, 1.3106, 1.3101, 1.3098, 1.3097, 1.308, 1.3079, 1.3077, 1.3073, 1.3048, 0.8893, 1.0951, 1.01, 0.5831, 0.9197, 0.9325, 0.9651, 0.8458, -0.0008, 0.2286, -0.2326, 0.1153, 0.9175, -0.2391, -0.0139, 1.3776, 1.3762, 1.3727, 1.3723, 1.3706, 1.3665, 1.3652, 1.3648, 1.3639, 1.3626, 1.3617, 1.361, 1.3599, 1.3593, 1.3582, 1.3581, 1.3566, 1.3543, 1.3543, 1.3543, 1.3535, 1.3518, 1.3511, 1.3491, 1.3461, 1.346, 1.3449, 1.3443, 1.3425, 1.3424, 1.2573, 0.7113, 1.1523, 0.9235, 1.3802, 1.3751, 1.3747, 1.3728, 1.372, 1.3694, 1.3691, 1.3658, 1.3601, 1.3583, 1.3578, 1.3541, 1.353, 1.3526, 1.3511, 1.3499, 1.3499, 1.3489, 1.3467, 1.3462, 1.3437, 1.3436, 1.3412, 1.3409, 1.3409, 1.3408, 1.338, 1.3361, 1.3335, 1.3294, 1.3255, 1.2193, 1.2624, 1.2691, 1.2359, 1.2205, 1.209, 1.073, 0.6967, 0.7533, 0.7347, 0.6408, 0.3221, 0.8657, 0.3527, 0.0805, 0.8841, 1.4126, 1.4073, 1.407, 1.4041, 1.4033, 1.4012, 1.3997, 1.3993, 1.3981, 1.3976, 1.3973, 1.3968, 1.3947, 1.3946, 1.3932, 1.3918, 1.3916, 1.3913, 1.3862, 1.3806, 1.3788, 1.3784, 1.3784, 1.3779, 1.3756, 1.3756, 1.3752, 1.3749, 1.3702, 1.3702, 1.3464, 1.3394, 1.3415, 1.1052, 0.7693, 1.1272, 1.2488, 0.7215, 1.0271, 1.2019, 0.473, 0.1867, 0.9538, -0.0588]}, \"token.table\": {\"Topic\": [3, 3, 1, 2, 3, 4, 2, 4, 3, 4, 1, 4, 3, 1, 1, 1, 3, 2, 3, 2, 3, 3, 1, 2, 3, 4, 2, 1, 4, 1, 2, 3, 4, 3, 1, 1, 4, 3, 4, 1, 2, 1, 1, 1, 4, 3, 1, 1, 3, 4, 1, 2, 3, 4, 2, 3, 4, 3, 1, 3, 1, 1, 3, 4, 3, 4, 2, 4, 3, 4, 2, 1, 3, 4, 1, 2, 3, 3, 4, 4, 4, 1, 3, 3, 2, 3, 2, 1, 3, 4, 2, 2, 4, 2, 1, 2, 2, 3, 4, 4, 1, 2, 3, 1, 4, 2, 1, 2, 3, 4, 1, 2, 3, 1, 1, 4, 4, 1, 3, 4, 1, 4, 2, 3, 1, 2, 3, 4, 3, 1, 3, 4, 1, 3, 2, 1, 1, 2, 2, 1, 1, 4, 3, 4, 3, 1, 1, 4, 4, 4, 4, 2, 3, 1, 2, 4, 2, 2, 4, 4, 3, 2, 1, 2, 4, 1, 4, 2, 3, 1, 3, 4, 4, 2, 3, 1, 4, 1, 1, 3, 2, 1, 4, 1, 2, 3, 1, 3, 3, 4, 1, 1, 3, 2, 2, 4, 1, 3, 4, 4, 3, 1, 4, 3, 1, 2, 3, 2, 3, 2, 2, 4, 1, 2, 4, 4, 2, 3, 4, 4, 2, 3, 1, 4, 4, 3, 2, 4, 3], \"Freq\": [0.9706851786025372, 0.9586222453771994, 0.4599926489119444, 0.04599926489119444, 0.3449944866839583, 0.15333088297064815, 0.9690540389317064, 0.960968555397324, 0.9785997314853027, 0.9163131697335467, 0.6866575973572973, 0.3169188910879833, 0.9653483194620315, 0.9571830827893039, 0.978457422121525, 0.9374839908155084, 0.9435458950050819, 0.9746689000003972, 0.9887898794718838, 0.9968861861389938, 0.9241634293729267, 0.9435408730313386, 0.08969375455533214, 0.10763250546639858, 0.07175500364426572, 0.7354887873537236, 0.9890563053340394, 0.9853494314001635, 0.9459175192360637, 0.2017107798194353, 0.007470769622942048, 0.5005415647371173, 0.29136001529473987, 0.951527066393134, 0.9719572115524457, 0.9616659095120572, 0.9929856920145517, 0.8696193306263452, 0.10352611078885061, 0.984290842339511, 0.9758866606641613, 0.9727898967952574, 0.9842914633197616, 0.9374621985626003, 0.9610261601114726, 0.9914333896221079, 0.9374761476155292, 0.6455063833472611, 0.34292526615323243, 0.9664322070203525, 0.2055424208236004, 0.008564267534316683, 0.27405656109813387, 0.5224203195933177, 0.9726868307161125, 0.013324477133097432, 0.013324477133097432, 0.980893178031708, 0.6600164372842874, 0.3300082186421437, 0.9877148201931947, 0.9719382964012131, 0.016520928549936156, 0.9747347844462332, 0.9342496835009751, 0.035932680134652895, 0.6222400715998715, 0.362973375099925, 0.9805450289804676, 0.9397692541092031, 0.9978516642801145, 0.3692159255640869, 0.5999758790416412, 0.02307599534775543, 0.979221018921882, 0.9705677191673656, 0.9649684310046012, 0.8478853785272997, 0.13044390438881534, 0.916313176426173, 0.9787862878884055, 0.9902391629315784, 0.9122464271414371, 0.9435397957399657, 0.9991011286033761, 0.9345056673586966, 0.9869954070431105, 0.284777764679406, 0.5339583087738863, 0.17798610292462877, 0.990917780549288, 0.87319622513207, 0.0935567384070075, 0.9879618009425315, 0.9807778896590044, 0.01886111326267316, 0.12091837419887477, 0.8464286193921233, 0.040306124732958255, 0.9865020974650296, 0.6060458489294314, 0.041796265443409066, 0.355268256268977, 0.9716151443852381, 0.024494499438283315, 0.9909177805492877, 0.32752845086930116, 0.012130683365529672, 0.47309665125565725, 0.19409093384847476, 0.9829314505011245, 0.9896966521934193, 0.9515321638681827, 0.9446393186416701, 0.3053493687055949, 0.6717686111523088, 0.9397454999239622, 0.25899159820554063, 0.7298854131247055, 0.9757883585820861, 0.9719619571179738, 0.9689420415107637, 0.9800572869635442, 0.9779552829496192, 0.23830994649872078, 0.16383808821787052, 0.5213030079659517, 0.08936622993702029, 0.9542571244365291, 0.20784936933165554, 0.28779143445921535, 0.4956408037908709, 0.03532214717963601, 0.9587439948758346, 0.9755645189221082, 0.9647335247426817, 0.9647325789300242, 0.9821718190028941, 0.9909190404232654, 0.9842648922531986, 0.978473677322932, 0.016584299615642915, 0.9805554879877749, 0.9786778739679035, 0.9950494696750162, 0.9292815167147335, 0.9842352567926537, 0.9328524409361568, 0.9800987602965158, 0.9397546876028828, 0.990992687343609, 0.7859286495158403, 0.17862014761723644, 0.658119408652292, 0.023504264594724714, 0.3055554397314213, 0.9781734665443913, 0.985527707794762, 0.9881013248911813, 0.9397551360630185, 0.9344284377744605, 0.9801134370024903, 0.6219233553499404, 0.1435207743115247, 0.22724122599324745, 0.054322325674814195, 0.9234795364718412, 0.9800517722380901, 0.9759184591459845, 0.16380684953914576, 0.8190342476957287, 0.9328655685413226, 0.9888615818922946, 0.9884227926430854, 0.9586095602134008, 0.2508081378973808, 0.7524244136921425, 0.9647126121637929, 0.3797396771369789, 0.5967337783581097, 0.9755601281478055, 0.13275005322058603, 0.8407503370637116, 0.9719515321420009, 0.95965392389928, 0.022317533113936742, 0.7833678050218054, 0.22381937286337295, 0.1697388460831934, 0.8062595188951687, 0.9784450584775516, 0.7025667846790147, 0.2907172902120061, 0.9863280215911558, 0.05457414319113545, 0.9277604342493027, 0.25147201350309845, 0.3543469281180024, 0.38863856632297034, 0.9856679990008772, 0.943543615172435, 0.07303452525776007, 0.9129315657220007, 0.9630013061953268, 0.9446311064350867, 0.9779193900823094, 0.9943995609505519, 0.10226336845643498, 0.894804473993806, 0.9657573098392102, 0.962057927098191, 0.9841856303973203, 0.2605204983982156, 0.5126371097513276, 0.22690495021780072, 0.9865355954427555, 0.3200881743791876, 0.029098924943562504, 0.6401763487583751, 0.9610484512803511, 0.1382846196289441, 0.8297077177736646, 0.9647320220131205, 0.9328655318256863, 0.9735723051025577, 0.9758626327016358, 0.9958123637369557, 0.9328712421552263, 0.9757303518066079], \"Term\": [\"ai\", \"airport\", \"amp\", \"amp\", \"amp\", \"amp\", \"apply\", \"baby\", \"bad\", \"barometer\", \"beach\", \"beach\", \"big\", \"bitch\", \"black\", \"boy\", \"buy\", \"ca\", \"cafe\", \"careerarc\", \"catch\", \"change\", \"city\", \"city\", \"city\", \"city\", \"click\", \"come\", \"damn\", \"day\", \"day\", \"day\", \"day\", \"dinner\", \"dog\", \"drink\", \"fall\", \"feel\", \"feel\", \"finally\", \"fit\", \"follow\", \"free\", \"friday\", \"friend\", \"fuck\", \"fun\", \"girl\", \"girl\", \"gon\", \"good\", \"good\", \"good\", \"good\", \"great\", \"great\", \"great\", \"gt\", \"guy\", \"guy\", \"haha\", \"hair\", \"happy\", \"happy\", \"hard\", \"hard\", \"hate\", \"hate\", \"heart\", \"hey\", \"hire\", \"home\", \"home\", \"home\", \"hope\", \"hospitality\", \"hotel\", \"house\", \"house\", \"hpa\", \"humidity\", \"ill\", \"international\", \"istanbul\", \"job\", \"johor\", \"join\", \"know\", \"know\", \"know\", \"kuala\", \"la\", \"la\", \"late\", \"life\", \"life\", \"like\", \"like\", \"like\", \"long\", \"look\", \"look\", \"look\", \"love\", \"love\", \"lumpur\", \"make\", \"make\", \"make\", \"make\", \"man\", \"manager\", \"mean\", \"meet\", \"miss\", \"miss\", \"mm\", \"morning\", \"morning\", \"mph\", \"music\", \"na\", \"near\", \"need\", \"new\", \"new\", \"new\", \"new\", \"nigga\", \"night\", \"night\", \"night\", \"nt\", \"nt\", \"nursing\", \"okay\", \"old\", \"open\", \"opening\", \"park\", \"people\", \"people\", \"person\", \"photo\", \"pic\", \"picture\", \"place\", \"pm\", \"post\", \"pressure\", \"rain\", \"read\", \"read\", \"really\", \"really\", \"really\", \"recommend\", \"retail\", \"right\", \"rise\", \"rn\", \"sale\", \"say\", \"say\", \"say\", \"school\", \"school\", \"selangor\", \"shit\", \"sleep\", \"sleep\", \"song\", \"sta\", \"stanbul\", \"star\", \"start\", \"start\", \"stay\", \"stop\", \"stop\", \"store\", \"summer\", \"summer\", \"sure\", \"team\", \"team\", \"tell\", \"tell\", \"temperature\", \"temperature\", \"th\", \"thank\", \"thank\", \"thing\", \"think\", \"think\", \"time\", \"time\", \"time\", \"today\", \"traffic\", \"trend\", \"trend\", \"try\", \"tweet\", \"tx\", \"t\\u00fcrkiye\", \"ve\", \"ve\", \"veteran\", \"view\", \"wait\", \"want\", \"want\", \"want\", \"watch\", \"way\", \"way\", \"way\", \"weather\", \"week\", \"week\", \"white\", \"win\", \"wind\", \"wo\", \"work\", \"wrong\", \"yeah\"]}, \"R\": 30, \"lambda.step\": 0.01, \"plot.opts\": {\"xlab\": \"PC1\", \"ylab\": \"PC2\"}, \"topic.order\": [3, 1, 4, 2]};\n\nfunction LDAvis_load_lib(url, callback){\n  var s = document.createElement('script');\n  s.src = url;\n  s.async = true;\n  s.onreadystatechange = s.onload = callback;\n  s.onerror = function(){console.warn(\"failed to load library \" + url);};\n  document.getElementsByTagName(\"head\")[0].appendChild(s);\n}\n\nif(typeof(LDAvis) !== \"undefined\"){\n   // already loaded: just create the visualization\n   !function(LDAvis){\n       new LDAvis(\"#\" + \"ldavis_el1801397787495584801934781898\", ldavis_el1801397787495584801934781898_data);\n   }(LDAvis);\n}else if(typeof define === \"function\" && define.amd){\n   // require.js is available: use it to load d3/LDAvis\n   require.config({paths: {d3: \"https://d3js.org/d3.v5\"}});\n   require([\"d3\"], function(d3){\n      window.d3 = d3;\n      LDAvis_load_lib(\"https://cdn.jsdelivr.net/gh/bmabey/pyLDAvis@3.3.1/pyLDAvis/js/ldavis.v3.0.0.js\", function(){\n        new LDAvis(\"#\" + \"ldavis_el1801397787495584801934781898\", ldavis_el1801397787495584801934781898_data);\n      });\n    });\n}else{\n    // require.js not available: dynamically load d3 & LDAvis\n    LDAvis_load_lib(\"https://d3js.org/d3.v5.js\", function(){\n         LDAvis_load_lib(\"https://cdn.jsdelivr.net/gh/bmabey/pyLDAvis@3.3.1/pyLDAvis/js/ldavis.v3.0.0.js\", function(){\n                 new LDAvis(\"#\" + \"ldavis_el1801397787495584801934781898\", ldavis_el1801397787495584801934781898_data);\n            })\n         });\n}\n</script>"
     },
     "metadata": {}
    }
   ],
   "execution_count": 166
  },
  {
   "cell_type": "markdown",
   "source": "The Grid Search CV seems to have done a great job in find the optimal number of topics and LDA has produced 5 well separated topics from the looks of Intertopic Distance Map, since none of them are overlapping. \n\nMost of the topics are human-interpretable too. For example:\n1. Topic 1: This topic seems like it's talking about dating, meeting people in general.\n2. Topic 2: It's mostly about a job at company, hiring of the company and career related words.\n3. Topic 4: Seems like it is about a great day some one had.\n\nTopic 3 is uninterpretable, but it also shows that the data cleaning is not done as well as it could be. \n\n",
   "metadata": {
    "tags": [],
    "cell_id": "00029-8cbf9494-7ac8-4889-a209-d4fd5fa02ff9",
    "deepnote_cell_type": "markdown"
   }
  },
  {
   "cell_type": "markdown",
   "source": "We can save this model in a pickle to be used later to distinguish the topics in the pipeline.",
   "metadata": {
    "tags": [],
    "cell_id": "00030-b80b6ed3-335f-4a43-a0d3-31fce088e7aa",
    "deepnote_cell_type": "markdown"
   }
  },
  {
   "cell_type": "code",
   "metadata": {
    "tags": [],
    "cell_id": "00028-1d5ddde5-a911-4695-bacd-7296f612d40b",
    "deepnote_to_be_reexecuted": false,
    "source_hash": "a609e05d",
    "execution_start": 1633390787115,
    "execution_millis": 65,
    "deepnote_cell_type": "code"
   },
   "source": "from joblib import dump\nmodel_name = 'en' + '.joblib'\ndump_dir = os.path.join(joblib_dir, model_name)   \n\nif not os.path.exists(joblib_dir):\n    os.mkdir(joblib_dir)\n\ndump(lda_model1, dump_dir)",
   "outputs": [
    {
     "output_type": "execute_result",
     "execution_count": 167,
     "data": {
      "text/plain": "['./joblib/en.joblib']"
     },
     "metadata": {}
    }
   ],
   "execution_count": 167
  },
  {
   "cell_type": "markdown",
   "source": "However, I could not find a way to use sklearn's LDA to predict which topic it is supposed to be, so I had to use gensim library to train the model again. We can use sklearn model's number of topic. This is not scalable at all as you need to do manual hyperparameter tuning for gensim LDA.",
   "metadata": {
    "tags": [],
    "cell_id": "00033-1fa35a56-86f7-47e8-832d-eee890ebdf4d",
    "deepnote_cell_type": "markdown"
   },
   "outputs": [],
   "execution_count": null
  },
  {
   "cell_type": "code",
   "source": "\nimport gensim\nimport logging # This allows for seeing if the model converges. A log file is created.\nlogging.basicConfig(filename='lda_model.log', format='%(asctime)s : %(levelname)s : %(message)s', level=logging.INFO)\n\nwith warnings.catch_warnings():\n    warnings.simplefilter('ignore')\n    lda_train = gensim.models.ldamulticore.LdaMulticore(\n                           corpus=corpus,\n                           num_topics=sk_lda_model.best_estimator_.n_components,\n                           id2word=id2word,\n                           chunksize=100,\n                           workers=7, # Num. Processing Cores - 1\n                           passes=50,\n                           eval_every = 1,\n                           per_word_topics=True)\n    lda_train.save('lda_train.model')",
   "metadata": {
    "tags": [],
    "cell_id": "00034-7f7d062a-e9af-4044-9e4e-2676bc381377",
    "deepnote_to_be_reexecuted": false,
    "source_hash": "521aa37f",
    "execution_start": 1633390787116,
    "execution_millis": 75401,
    "deepnote_cell_type": "code"
   },
   "outputs": [],
   "execution_count": 168
  },
  {
   "cell_type": "code",
   "source": "import pyLDAvis.sklearn\nimport pyLDAvis.gensim_models as gensimvis\n\npyLDAvis.enable_notebook()\n\ngensimvis.prepare(lda_train, corpus, id2word)\n",
   "metadata": {
    "tags": [],
    "cell_id": "00033-2180736d-e658-43f4-9790-b7cde5ca7b5c",
    "deepnote_to_be_reexecuted": false,
    "source_hash": "e012a908",
    "execution_start": 1633390862561,
    "execution_millis": 1996,
    "deepnote_cell_type": "code"
   },
   "outputs": [
    {
     "output_type": "execute_result",
     "execution_count": 169,
     "data": {
      "text/plain": "PreparedData(topic_coordinates=              x         y  topics  cluster       Freq\ntopic                                                \n1     -0.123146  0.142489       1        1  31.399822\n0      0.207172  0.050646       2        1  25.260821\n3     -0.053070 -0.048645       3        1  22.616369\n2     -0.030956 -0.144491       4        1  20.722989, topic_info=           Term        Freq       Total Category  logprob  loglift\n579         job  313.000000  313.000000  Default  30.0000  30.0000\n2509       hire  183.000000  183.000000  Default  29.0000  29.0000\n90           nt  148.000000  148.000000  Default  28.0000  28.0000\n84           do  114.000000  114.000000  Default  27.0000  27.0000\n6733  careerarc   92.000000   92.000000  Default  26.0000  26.0000\n...         ...         ...         ...      ...      ...      ...\n215        time   14.542062   63.728197   Topic4  -6.0182   0.0963\n837        hope   10.338287   26.367400   Topic4  -6.3594   0.6377\n670       photo   11.866570   43.928077   Topic4  -6.2215   0.2651\n561    birthday    9.311135   22.288440   Topic4  -6.4640   0.7011\n300        week    8.821755   19.133761   Topic4  -6.5180   0.7997\n\n[225 rows x 6 columns], token_table=      Topic      Freq      Term\nterm                           \n4908      3  0.903620  accident\n1261      2  0.971664   airport\n7892      4  0.900850      alam\n255       1  0.224707       amp\n255       2  0.302867       amp\n...     ...       ...       ...\n252       3  0.050285      work\n100       1  0.819357     would\n100       3  0.175576     would\n517       1  0.403415       you\n517       4  0.593257       you\n\n[272 rows x 3 columns], R=30, lambda_step=0.01, plot_opts={'xlab': 'PC1', 'ylab': 'PC2'}, topic_order=[2, 1, 4, 3])",
      "text/html": "\n<link rel=\"stylesheet\" type=\"text/css\" href=\"https://cdn.jsdelivr.net/gh/bmabey/pyLDAvis@3.3.1/pyLDAvis/js/ldavis.v1.0.0.css\">\n\n\n<div id=\"ldavis_el1801397787495579684679561427\"></div>\n<script type=\"text/javascript\">\n\nvar ldavis_el1801397787495579684679561427_data = {\"mdsDat\": {\"x\": [-0.1231460582286245, 0.2071720683239072, -0.05307006901973292, -0.030955941075549963], \"y\": [0.14248909840596877, 0.0506464714005739, -0.04864506798876419, -0.14449050181777853], \"topics\": [1, 2, 3, 4], \"cluster\": [1, 1, 1, 1], \"Freq\": [31.399821765155966, 25.26082104367487, 22.61636852049322, 20.72298867067594]}, \"tinfo\": {\"Term\": [\"job\", \"hire\", \"nt\", \"do\", \"careerarc\", \"late\", \"good\", \"city\", \"click\", \"go\", \"love\", \"know\", \"day\", \"retail\", \"like\", \"want\", \"beach\", \"today\", \"anyone\", \"open\", \"work\", \"make\", \"fit\", \"recommend\", \"gt\", \"one\", \"get\", \"think\", \"apply\", \"hospitality\", \"nt\", \"do\", \"gt\", \"think\", \"wind\", \"that\", \"still\", \"even\", \"really\", \"ve\", \"ill\", \"mph\", \"hate\", \"rain\", \"fuck\", \"fall\", \"kuala\", \"lumpur\", \"humidity\", \"temperature\", \"weather\", \"someone\", \"beautiful\", \"happen\", \"nigga\", \"nice\", \"everyone\", \"something\", \"pressure\", \"wanna\", \"know\", \"tell\", \"today\", \"make\", \"never\", \"one\", \"shit\", \"need\", \"love\", \"girl\", \"go\", \"get\", \"like\", \"well\", \"feel\", \"say\", \"want\", \"happy\", \"would\", \"life\", \"day\", \"people\", \"see\", \"job\", \"hire\", \"careerarc\", \"late\", \"click\", \"retail\", \"anyone\", \"open\", \"fit\", \"recommend\", \"apply\", \"hospitality\", \"ca\", \"veteran\", \"opening\", \"might\", \"read\", \"manager\", \"join\", \"sta\", \"detail\", \"check\", \"hiring\", \"tx\", \"sale\", \"nursing\", \"interested\", \"store\", \"il\", \"healthcare\", \"airport\", \"istanbul\", \"view\", \"work\", \"turkiye\", \"team\", \"great\", \"want\", \"see\", \"amp\", \"get\", \"city\", \"beach\", \"la\", \"na\", \"gon\", \"summer\", \"coffee\", \"tomorrow\", \"park\", \"leave\", \"god\", \"wake\", \"finally\", \"sunday\", \"rd\", \"lunch\", \"rs\", \"early\", \"mexico\", \"del\", \"manila\", \"accident\", \"the\", \"kuwait\", \"wo\", \"together\", \"block\", \"samsun\", \"pahang\", \"mall\", \"stop\", \"good\", \"london\", \"day\", \"post\", \"pic\", \"long\", \"photo\", \"school\", \"morning\", \"like\", \"go\", \"night\", \"back\", \"take\", \"amp\", \"get\", \"other\", \"way\", \"see\", \"say\", \"follow\", \"trend\", \"selangor\", \"university\", \"white\", \"trndnl\", \"johor\", \"lot\", \"ankara\", \"alam\", \"shah\", \"catch\", \"centre\", \"nowplaye\", \"download\", \"top\", \"santa\", \"chicken\", \"fitness\", \"hand\", \"available\", \"they\", \"topic\", \"plaza\", \"pr\", \"jaya\", \"bahru\", \"bath\", \"trash\", \"kinda\", \"re\", \"first\", \"you\", \"house\", \"home\", \"please\", \"remember\", \"take\", \"come\", \"love\", \"hey\", \"dog\", \"post\", \"pic\", \"amp\", \"time\", \"hope\", \"photo\", \"birthday\", \"week\"], \"Freq\": [313.0, 183.0, 148.0, 114.0, 92.0, 68.0, 82.0, 45.0, 48.0, 105.0, 96.0, 63.0, 107.0, 43.0, 92.0, 91.0, 37.0, 71.0, 39.0, 38.0, 79.0, 61.0, 35.0, 35.0, 40.0, 60.0, 160.0, 38.0, 31.0, 31.0, 147.83299626313905, 113.86611543826967, 40.456454688826476, 37.860775207373145, 32.262658147811, 32.2439928678824, 30.56689554681782, 29.875995657753275, 31.088570730513407, 29.019165308185226, 29.100653081206858, 27.182818752607844, 27.029694326526897, 25.487553555189997, 24.719610910647795, 24.253023172920354, 23.682324230062694, 23.682324230062694, 22.751494560452496, 19.979801657883822, 20.266457867519033, 19.60711359849639, 22.31790617772078, 18.395588131585903, 16.826101755638156, 16.24426181574994, 16.03428373947996, 15.915239888878409, 15.089156878542338, 15.32113452480947, 60.56498059825043, 25.870636506244985, 63.75390657954834, 55.18975513913651, 26.30017610817918, 52.07930511005874, 26.496901329865707, 37.92659687541405, 68.99287296601274, 31.894526811007765, 69.73674844349253, 93.3777333781036, 59.10990231373498, 34.914373514253235, 30.01878842143472, 39.593952673914266, 41.2871270902019, 32.13650732748054, 27.765843187450876, 28.96784632659291, 33.01478082948689, 28.231191631524524, 27.852623250208364, 313.09263428867877, 183.4026759979261, 91.7674857974208, 68.35041909007897, 48.415647719397434, 43.00236975676498, 38.742456283698004, 37.58352352359692, 35.01560467545058, 34.96743337036023, 31.108571021911683, 30.6197399443004, 29.759330238553634, 28.679689379587533, 24.44171156910253, 22.882875589118893, 22.613197668245633, 21.480822710032264, 20.735186522116035, 20.0394358663034, 19.492919608457033, 20.562052984929476, 18.630222571116924, 16.48884782794921, 16.45181645508145, 16.32478392507903, 15.39782626501386, 14.072085312803281, 13.542263693109664, 13.5742702274475, 13.843875238566488, 31.340020493486563, 24.45188671876276, 56.23794195967827, 32.56133009173139, 27.163937977651965, 41.29880113224749, 49.509463591054676, 35.603596410023975, 31.457266160659646, 31.998290448876034, 45.01237555792176, 36.93304656708458, 24.21004836134267, 21.440821011215494, 20.705911359122183, 20.63657945786739, 18.127443514584463, 16.373706651505376, 15.981142142887617, 15.091458900101498, 13.395220561073266, 12.827684503623072, 12.076791822422424, 10.63510392464583, 10.72415710919201, 9.582416859670927, 8.712553574905929, 9.10196808253611, 7.640515636394323, 7.347787183173234, 7.213785382125266, 7.203504234323639, 7.427533822632982, 7.106644360582942, 12.10197968574093, 6.977624115313643, 6.845448555802087, 6.800159131964535, 6.749082055710047, 6.9580166874796365, 23.790528952707827, 58.78176310377256, 11.950556481640696, 63.269477667373245, 25.740979202761082, 29.828253496238673, 14.239486102873181, 24.653859970364607, 17.08136082517412, 18.455662990980777, 32.59838106351555, 35.28307756786377, 21.24777680611457, 20.627803479212357, 20.465141982432105, 29.27593611825859, 34.98866253580066, 15.177503264427255, 13.634819503661454, 15.946388903076228, 13.828892962097116, 21.1329765119193, 18.752982177320746, 17.527427983824637, 17.692365291925007, 12.313808859962931, 11.081688526920134, 10.317257322919303, 9.15460829027258, 8.77299255008331, 8.336604036473883, 8.336604036473883, 8.246220683976363, 8.083369156248887, 7.51126929747001, 7.051814097682701, 7.130487452134724, 6.962291068733455, 6.391924375906314, 5.997128367678779, 5.883301372363794, 6.17711959914405, 5.849282078879356, 5.5615740966693155, 5.389616492775676, 5.139701543397634, 5.074902557954915, 4.809146736064949, 4.944774622199805, 4.646895765640572, 4.578046235052223, 25.80901373821827, 18.21184214291648, 24.911617686778083, 15.980549552221941, 19.32396577151193, 16.245487475572887, 6.528821534858954, 20.23189991705352, 20.210975346096884, 26.935635592106607, 7.913213572010523, 8.228251258336313, 15.44635191851199, 14.902624654035309, 18.308886917358517, 14.542062150814338, 10.338286913161134, 11.866569976364325, 9.311135014161739, 8.821754882028785], \"Total\": [313.0, 183.0, 148.0, 114.0, 92.0, 68.0, 82.0, 45.0, 48.0, 105.0, 96.0, 63.0, 107.0, 43.0, 92.0, 91.0, 37.0, 71.0, 39.0, 38.0, 79.0, 61.0, 35.0, 35.0, 40.0, 60.0, 160.0, 38.0, 31.0, 31.0, 148.35370887478743, 114.38801865999417, 40.97368155312421, 38.38541495374604, 32.77995730922934, 32.76991849029004, 31.094378072520627, 30.399732690984056, 31.65042526394851, 29.55323598164641, 29.643194822474747, 27.697266581269144, 27.557234692139353, 26.013823168751465, 25.242731851524628, 24.776359999469765, 24.20366220633435, 24.20366220633435, 23.265979596648478, 20.494305118181497, 20.79737794105777, 20.127700479797557, 22.923437649076565, 18.925809112917523, 17.35438187380779, 16.772318335896873, 16.561711111346685, 16.44073453484482, 15.604154431022739, 15.845359467222986, 63.50081829282266, 27.081090261312635, 71.1873449866905, 61.73035835012241, 28.416189339255453, 60.60004910313742, 28.65357047088165, 43.31157776547706, 96.4630046801265, 37.16009855702954, 105.41149765469362, 160.54089181419351, 92.05784030001557, 46.45910900367039, 36.22486947486773, 61.493367357682, 91.15160527977964, 48.16954938980486, 34.173142023916505, 40.67506836724465, 107.10127696106689, 46.303908879046816, 84.05257909888196, 313.63746443226853, 183.94705970233767, 92.31164986235046, 68.90084862124151, 48.96001275264912, 43.546708470806024, 39.29341826198888, 38.13355538880642, 35.56094343209024, 35.515339873641175, 31.653104968349854, 31.163949903795586, 30.311597065046143, 29.225144848377234, 24.991046835817645, 23.433753266240014, 23.181102212433796, 22.02550469922627, 21.288072347239186, 20.587620407285343, 20.03965299533366, 21.155449805733056, 19.174644392047796, 17.036992706977028, 17.000843119797285, 16.869809082524498, 15.941904437264414, 14.636157441337888, 14.086820138454248, 14.12257529540413, 14.408273362159257, 33.9105369211916, 27.87213928866948, 79.5458409866247, 41.07911617514274, 33.4351029831163, 61.212613433029524, 91.15160527977964, 84.05257909888196, 102.35528939002782, 160.54089181419351, 45.57799598808934, 37.48787087731623, 24.81667509390971, 21.988501498504707, 21.25047842338626, 21.187444471471885, 18.676072309517124, 16.924776950132063, 16.551659450171098, 15.661304712189118, 13.98061737098093, 13.394784544158169, 12.636326883761553, 11.212644501700554, 11.316757087866248, 10.136633584066702, 9.25179758052532, 9.665410944748606, 8.180897695050005, 7.88569195406817, 7.756559292557726, 7.7466176538988964, 7.990170142261163, 7.646829388421846, 13.035331205776558, 7.530474776931463, 7.388763863236899, 7.340108826045743, 7.294308480211974, 7.529325764288387, 25.96947525970776, 82.91328944523563, 14.101276534136211, 107.10127696106689, 41.56251975527383, 51.94321413396052, 19.358509975616833, 43.92807680252848, 27.226687228431665, 31.197310851603206, 92.05784030001557, 105.41149765469362, 44.997577291208856, 45.03485953558659, 45.56048191529153, 102.35528939002782, 160.54089181419351, 42.61682792047921, 24.569588497874506, 84.05257909888196, 61.493367357682, 21.694095903575292, 19.304822316507906, 18.07125185893831, 18.261200993524, 12.870305618298238, 11.63549242571191, 10.864541763110557, 9.72210223761087, 9.32316219070622, 8.880506318510005, 8.880506318510005, 8.813823441007598, 8.657884217552192, 8.056969222066368, 7.596842426367943, 7.6960987434439145, 7.538620676278808, 6.954967067204179, 6.55605496801538, 6.435179033532946, 6.7567874729022455, 6.41129582672755, 6.116317381800679, 5.953527849776704, 5.6877633461245525, 5.618545978612367, 5.354469309340447, 5.5065492907384295, 5.205498911322129, 5.1391083179967945, 35.840412734608364, 24.547208733176102, 42.14027717424824, 24.48458002597899, 32.91896988827457, 27.10653554004976, 7.878516520801722, 45.56048191529153, 45.74561233359752, 96.4630046801265, 10.895103090552173, 11.957898128578336, 41.56251975527383, 51.94321413396052, 102.35528939002782, 63.72819725418005, 26.367399559276144, 43.92807680252848, 22.288439996450272, 19.133761221747054], \"Category\": [\"Default\", \"Default\", \"Default\", \"Default\", \"Default\", \"Default\", \"Default\", \"Default\", \"Default\", \"Default\", \"Default\", \"Default\", \"Default\", \"Default\", \"Default\", \"Default\", \"Default\", \"Default\", \"Default\", \"Default\", \"Default\", \"Default\", \"Default\", \"Default\", \"Default\", \"Default\", \"Default\", \"Default\", \"Default\", \"Default\", \"Topic1\", \"Topic1\", \"Topic1\", \"Topic1\", \"Topic1\", \"Topic1\", \"Topic1\", \"Topic1\", \"Topic1\", \"Topic1\", \"Topic1\", \"Topic1\", \"Topic1\", \"Topic1\", \"Topic1\", \"Topic1\", \"Topic1\", \"Topic1\", \"Topic1\", \"Topic1\", \"Topic1\", \"Topic1\", \"Topic1\", \"Topic1\", \"Topic1\", \"Topic1\", \"Topic1\", \"Topic1\", \"Topic1\", \"Topic1\", \"Topic1\", \"Topic1\", \"Topic1\", \"Topic1\", \"Topic1\", \"Topic1\", \"Topic1\", \"Topic1\", \"Topic1\", \"Topic1\", \"Topic1\", \"Topic1\", \"Topic1\", \"Topic1\", \"Topic1\", \"Topic1\", \"Topic1\", \"Topic1\", \"Topic1\", \"Topic1\", \"Topic1\", \"Topic1\", \"Topic1\", \"Topic2\", \"Topic2\", \"Topic2\", \"Topic2\", \"Topic2\", \"Topic2\", \"Topic2\", \"Topic2\", \"Topic2\", \"Topic2\", \"Topic2\", \"Topic2\", \"Topic2\", \"Topic2\", \"Topic2\", \"Topic2\", \"Topic2\", \"Topic2\", \"Topic2\", \"Topic2\", \"Topic2\", \"Topic2\", \"Topic2\", \"Topic2\", \"Topic2\", \"Topic2\", \"Topic2\", \"Topic2\", \"Topic2\", \"Topic2\", \"Topic2\", \"Topic2\", \"Topic2\", \"Topic2\", \"Topic2\", \"Topic2\", \"Topic2\", \"Topic2\", \"Topic2\", \"Topic2\", \"Topic2\", \"Topic3\", \"Topic3\", \"Topic3\", \"Topic3\", \"Topic3\", \"Topic3\", \"Topic3\", \"Topic3\", \"Topic3\", \"Topic3\", \"Topic3\", \"Topic3\", \"Topic3\", \"Topic3\", \"Topic3\", \"Topic3\", \"Topic3\", \"Topic3\", \"Topic3\", \"Topic3\", \"Topic3\", \"Topic3\", \"Topic3\", \"Topic3\", \"Topic3\", \"Topic3\", \"Topic3\", \"Topic3\", \"Topic3\", \"Topic3\", \"Topic3\", \"Topic3\", \"Topic3\", \"Topic3\", \"Topic3\", \"Topic3\", \"Topic3\", \"Topic3\", \"Topic3\", \"Topic3\", \"Topic3\", \"Topic3\", \"Topic3\", \"Topic3\", \"Topic3\", \"Topic3\", \"Topic3\", \"Topic3\", \"Topic3\", \"Topic3\", \"Topic3\", \"Topic4\", \"Topic4\", \"Topic4\", \"Topic4\", \"Topic4\", \"Topic4\", \"Topic4\", \"Topic4\", \"Topic4\", \"Topic4\", \"Topic4\", \"Topic4\", \"Topic4\", \"Topic4\", \"Topic4\", \"Topic4\", \"Topic4\", \"Topic4\", \"Topic4\", \"Topic4\", \"Topic4\", \"Topic4\", \"Topic4\", \"Topic4\", \"Topic4\", \"Topic4\", \"Topic4\", \"Topic4\", \"Topic4\", \"Topic4\", \"Topic4\", \"Topic4\", \"Topic4\", \"Topic4\", \"Topic4\", \"Topic4\", \"Topic4\", \"Topic4\", \"Topic4\", \"Topic4\", \"Topic4\", \"Topic4\", \"Topic4\", \"Topic4\", \"Topic4\", \"Topic4\", \"Topic4\", \"Topic4\", \"Topic4\", \"Topic4\"], \"logprob\": [30.0, 29.0, 28.0, 27.0, 26.0, 25.0, 24.0, 23.0, 22.0, 21.0, 20.0, 19.0, 18.0, 17.0, 16.0, 15.0, 14.0, 13.0, 12.0, 11.0, 10.0, 9.0, 8.0, 7.0, 6.0, 5.0, 4.0, 3.0, 2.0, 1.0, -4.1147, -4.3757, -5.4105, -5.4769, -5.6369, -5.6374, -5.6909, -5.7137, -5.6739, -5.7428, -5.74, -5.8082, -5.8138, -5.8726, -5.9032, -5.9222, -5.946, -5.946, -5.9861, -6.116, -6.1018, -6.1349, -6.0054, -6.1987, -6.2878, -6.323, -6.336, -6.3435, -6.3968, -6.3815, -5.0071, -5.8577, -4.9557, -5.1, -5.8412, -5.158, -5.8337, -5.4751, -4.8768, -5.6483, -4.866, -4.5741, -5.0314, -5.5579, -5.7089, -5.4321, -5.3902, -5.6408, -5.787, -5.7446, -5.6138, -5.7703, -5.7838, -3.1467, -3.6815, -4.374, -4.6686, -5.0134, -5.132, -5.2363, -5.2667, -5.3374, -5.3388, -5.4557, -5.4716, -5.5001, -5.537, -5.6969, -5.7628, -5.7747, -5.8261, -5.8614, -5.8955, -5.9232, -5.8698, -5.9684, -6.0905, -6.0928, -6.1005, -6.159, -6.249, -6.2874, -6.285, -6.2654, -5.4483, -5.6965, -4.8636, -5.4101, -5.5913, -5.1724, -4.9911, -5.3208, -5.4446, -5.4275, -4.9757, -5.1735, -5.5959, -5.7173, -5.7522, -5.7556, -5.8852, -5.987, -6.0112, -6.0685, -6.1877, -6.231, -6.2914, -6.4185, -6.4101, -6.5227, -6.6179, -6.5742, -6.7492, -6.7882, -6.8066, -6.8081, -6.7774, -6.8216, -6.2893, -6.8399, -6.8591, -6.8657, -6.8732, -6.8427, -5.6134, -4.7088, -6.3019, -4.6352, -5.5346, -5.3872, -6.1266, -5.5777, -5.9447, -5.8673, -5.2984, -5.2192, -5.7264, -5.756, -5.7639, -5.4059, -5.2276, -6.0628, -6.17, -6.0134, -6.1559, -5.6444, -5.7639, -5.8314, -5.8221, -6.1845, -6.2899, -6.3614, -6.481, -6.5235, -6.5746, -6.5746, -6.5855, -6.6054, -6.6788, -6.7419, -6.7308, -6.7547, -6.8402, -6.9039, -6.9231, -6.8744, -6.9289, -6.9793, -7.0107, -7.0582, -7.0709, -7.1247, -7.0969, -7.159, -7.1739, -5.4445, -5.7931, -5.4799, -5.9238, -5.7339, -5.9074, -6.819, -5.688, -5.689, -5.4018, -6.6267, -6.5876, -5.9578, -5.9937, -5.7878, -6.0182, -6.3594, -6.2215, -6.464, -6.518], \"loglift\": [30.0, 29.0, 28.0, 27.0, 26.0, 25.0, 24.0, 23.0, 22.0, 21.0, 20.0, 19.0, 18.0, 17.0, 16.0, 15.0, 14.0, 13.0, 12.0, 11.0, 10.0, 9.0, 8.0, 7.0, 6.0, 5.0, 4.0, 3.0, 2.0, 1.0, 1.1549, 1.1538, 1.1457, 1.1446, 1.1425, 1.1422, 1.1413, 1.141, 1.1405, 1.1401, 1.1399, 1.1396, 1.139, 1.1379, 1.1374, 1.137, 1.1366, 1.1366, 1.136, 1.1329, 1.1325, 1.1322, 1.1316, 1.13, 1.1275, 1.1264, 1.126, 1.1259, 1.1248, 1.1247, 1.111, 1.1126, 1.0481, 1.0464, 1.081, 1.0068, 1.0801, 1.0256, 0.8232, 1.0056, 0.7452, 0.6165, 0.7153, 0.8727, 0.9704, 0.7181, 0.3664, 0.7536, 0.9507, 0.8189, -0.0185, 0.6636, 0.0539, 1.3742, 1.373, 1.37, 1.3679, 1.3647, 1.3633, 1.3618, 1.3614, 1.3605, 1.3604, 1.3586, 1.3583, 1.3575, 1.3571, 1.3537, 1.3521, 1.3511, 1.3509, 1.3496, 1.3489, 1.3483, 1.3475, 1.3471, 1.3432, 1.3431, 1.3431, 1.3412, 1.3366, 1.3365, 1.3363, 1.336, 1.2971, 1.245, 1.0292, 1.1435, 1.1682, 0.9824, 0.7656, 0.5169, 0.1961, -0.237, 1.474, 1.4716, 1.4617, 1.4613, 1.4605, 1.4602, 1.4567, 1.4534, 1.4514, 1.4494, 1.4437, 1.4432, 1.4412, 1.4336, 1.4327, 1.4303, 1.4264, 1.4264, 1.4182, 1.4158, 1.414, 1.4138, 1.4135, 1.4132, 1.4122, 1.4102, 1.4101, 1.4101, 1.4088, 1.4076, 1.3989, 1.1425, 1.321, 0.9601, 1.0074, 0.9318, 1.1794, 0.9089, 1.0203, 0.9615, 0.4483, 0.392, 0.7361, 0.7057, 0.6862, 0.2348, -0.037, 0.4541, 0.8976, -0.1757, -0.0057, 1.5477, 1.5449, 1.5434, 1.5423, 1.5297, 1.5252, 1.5222, 1.5138, 1.5131, 1.5107, 1.5107, 1.5074, 1.5053, 1.5038, 1.4995, 1.4976, 1.4944, 1.4895, 1.4848, 1.4843, 1.4842, 1.4822, 1.4788, 1.4744, 1.4726, 1.4722, 1.4665, 1.4663, 1.4604, 1.4583, 1.2456, 1.2754, 1.0483, 1.1473, 1.0412, 1.062, 1.386, 0.7621, 0.7571, 0.2982, 1.2541, 1.2001, 0.5841, 0.3253, -0.1471, 0.0963, 0.6377, 0.2651, 0.7011, 0.7997]}, \"token.table\": {\"Topic\": [3, 2, 4, 1, 2, 3, 4, 4, 2, 2, 4, 1, 2, 3, 4, 4, 4, 3, 1, 1, 4, 3, 2, 2, 4, 4, 2, 4, 3, 2, 3, 2, 3, 4, 1, 2, 3, 3, 2, 1, 3, 4, 4, 3, 1, 1, 1, 1, 3, 4, 3, 3, 4, 2, 4, 4, 1, 1, 2, 3, 1, 4, 1, 3, 3, 3, 1, 3, 2, 3, 4, 1, 4, 1, 1, 3, 4, 1, 2, 1, 4, 2, 2, 3, 4, 1, 2, 4, 2, 1, 3, 4, 1, 2, 1, 2, 2, 4, 4, 2, 4, 2, 4, 1, 4, 1, 3, 3, 2, 3, 1, 2, 3, 4, 1, 3, 3, 4, 3, 4, 4, 1, 4, 1, 3, 1, 2, 3, 2, 3, 3, 2, 1, 2, 3, 1, 3, 1, 2, 3, 1, 3, 1, 1, 1, 3, 4, 4, 1, 2, 1, 2, 2, 2, 1, 2, 3, 4, 3, 3, 1, 3, 4, 1, 2, 3, 4, 2, 3, 4, 4, 1, 4, 3, 4, 4, 1, 1, 3, 1, 4, 2, 1, 2, 2, 4, 2, 3, 2, 3, 4, 1, 3, 4, 2, 3, 4, 1, 2, 3, 4, 4, 4, 1, 3, 1, 1, 2, 1, 2, 3, 2, 3, 3, 1, 3, 4, 1, 2, 1, 4, 1, 1, 3, 4, 1, 1, 2, 3, 4, 1, 3, 4, 3, 3, 4, 4, 4, 4, 4, 2, 3, 2, 4, 1, 2, 2, 3, 3, 1, 1, 2, 1, 3, 1, 2, 3, 4, 1, 2, 3, 4, 1, 1, 3, 1, 2, 3, 1, 3, 1, 4], \"Freq\": [0.9036201749904204, 0.9716639633426505, 0.9008495363969586, 0.22470748836787346, 0.302866614756699, 0.28332683315949264, 0.1758580343748575, 0.9653377058023977, 0.9925326358721831, 0.9793667961167507, 0.8879959631796467, 0.35528033538900644, 0.13323012577087742, 0.46630544019807096, 0.06661506288543871, 0.9337993573476827, 0.9080096692150919, 0.9869859006153523, 0.9597164411720001, 0.5832619959974956, 0.40379676645980467, 0.947384451522235, 0.9897202029844392, 0.9966239379014981, 0.9076651073788061, 0.9240132807252771, 0.9926520207719275, 0.8626927981144179, 0.9873185300152209, 0.9803919014993072, 0.9638000807497086, 0.3279002998279545, 0.2404602198738333, 0.437200399770606, 0.30811957556767555, 0.1027065251892252, 0.5882282806291989, 0.8876836732620214, 0.9481202096874757, 0.9966078732323573, 0.2508802105304996, 0.6690138947479989, 0.9214354605676224, 0.93115544196182, 0.9868507827010398, 0.9660837513968078, 0.9686652922589767, 0.8281603339057867, 0.08281603339057866, 0.08281603339057866, 0.9496430497869384, 0.24442697600443938, 0.7332809280133181, 0.984225856291989, 0.9151845171024082, 0.9680053086028396, 0.9903840894498918, 0.5792916617632606, 0.1993261631873585, 0.21801299098617333, 0.8611387278989493, 0.13455292623421083, 0.6640641823466507, 0.3320320911733253, 0.9298587934309422, 0.9882130454479271, 0.28945902593639156, 0.7115867720936292, 0.6697965942077705, 0.2123745298707565, 0.098019013786503, 0.9762364152739903, 0.9323749920141646, 0.9510821911288524, 0.6643201027488299, 0.24912003853081122, 0.08304001284360374, 0.9797790054639153, 0.9913206130723183, 0.27535306229470086, 0.7342748327858689, 0.9948514550660924, 0.990891909728442, 0.3949090765634948, 0.5771748042081847, 0.49303307179666694, 0.07585124181487184, 0.3792562090743592, 0.9947391166940742, 0.12252609588634544, 0.20421015981057575, 0.6534725113938423, 0.9885678745851392, 0.9938367823539361, 0.9783021085842241, 0.9409164418861589, 0.9141701316037634, 0.05897871816798473, 0.8899099551793412, 0.9979675118423036, 0.9204253817638199, 0.9864678988994254, 0.9729314290750309, 0.960617542260785, 0.04724348568495664, 0.9915854797262437, 0.9154120805413525, 0.9670916796541318, 0.9869254350379106, 0.9577746091821822, 0.7129674555963008, 0.12292542337867256, 0.04917016935146903, 0.12292542337867256, 0.6409014138037521, 0.35847028229701383, 0.8509867862636787, 0.14183113104394646, 0.7231961559868922, 0.25828434142389006, 0.9257257103492135, 0.715300132198925, 0.2799000517300141, 0.9915854797262437, 0.9865208125623215, 0.8909716624039481, 0.09719690862588524, 0.9296981189472527, 0.953440127105814, 0.9024619984167941, 0.9778877940058509, 0.9814902349908708, 0.3525944929139531, 0.06410808962071875, 0.5769728065864688, 0.9748254370436437, 0.9550446173618549, 0.8773635586715839, 0.06926554410565136, 0.04617702940376757, 0.9149713809121613, 0.07038241391632011, 0.9539527976735379, 0.9795796890730726, 0.400021536348728, 0.4666917924068493, 0.13334051211624265, 0.9929291994922432, 0.9976157732929618, 0.9484398976734398, 0.8580851132892535, 0.13201309435219286, 0.9964976937648561, 0.960343924673165, 0.14078945554548755, 0.35197363886371885, 0.35197363886371885, 0.14078945554548755, 0.9596523123459372, 0.9666704446263003, 0.6047005680047544, 0.25915738628775187, 0.12957869314387593, 0.09105793586141613, 0.09105793586141613, 0.5691120991338507, 0.27317380758424836, 0.13476255015615976, 0.5775537863835418, 0.2887768931917709, 0.8398381810185925, 0.4058061932609411, 0.5902635538340961, 0.6255636124347558, 0.3609020840969745, 0.8790801754096941, 0.9612824627125187, 0.9610275213229981, 0.9720099066007281, 0.2790146440011211, 0.7254380744029149, 0.9921875064104304, 0.9794497148608813, 0.985489653893932, 0.126927448506288, 0.8884921395440161, 0.9874454697035818, 0.972783928924759, 0.9411297949904723, 0.9536643346705029, 0.9285518267322239, 0.6504766565690933, 0.22766682979918262, 0.13009533131381865, 0.18364334808895566, 0.6243873835024493, 0.18364334808895566, 0.3331248166348348, 0.428303335673359, 0.19035703807704843, 0.05948657439907764, 0.9960571708316339, 0.9008495363969586, 0.9073912804835871, 0.06979932926796824, 0.9936554858849509, 0.9731925277480322, 0.9714575849146023, 0.9969647866151073, 0.07701349295659608, 0.924161915479153, 0.9565352146635738, 0.9911530401071129, 0.9810352944242277, 0.10974422986342124, 0.43897691945368494, 0.43897691945368494, 0.17945211662813826, 0.8075345248266221, 0.9600795148614436, 0.0369261351869786, 0.9758808549335506, 0.9765053278811734, 0.8760764633754154, 0.9358482531701421, 0.9899593386131044, 0.34521610445456274, 0.23537461667356552, 0.1882996933388524, 0.23537461667356552, 0.8990361982451476, 0.08428464358548259, 0.014047440597580431, 0.9295562640278011, 0.9453595782764601, 0.9095517395697527, 0.9809824483361859, 0.9605227251368428, 0.9842100428840909, 0.9453832805298718, 0.8033278968150861, 0.19474615680365726, 0.9391328783892502, 0.9856963956742697, 0.981280020164628, 0.9922961939266578, 0.8610749161172723, 0.10763436451465903, 0.9705269955737851, 0.9466493979532835, 0.449800087164182, 0.5485366916636366, 0.44770794598174085, 0.5698101130676702, 0.9616596888647388, 0.10452727912831063, 0.4181091165132425, 0.4703727560773978, 0.7533506507245954, 0.12914582583850207, 0.10762152153208505, 0.9323787916068684, 0.9762062744050696, 0.07671458317505993, 0.9205749981007192, 0.2388559824666983, 0.7039965799018476, 0.050285469992989114, 0.8193569084283747, 0.17557648037750886, 0.4034145273820988, 0.5932566579148512], \"Term\": [\"accident\", \"airport\", \"alam\", \"amp\", \"amp\", \"amp\", \"amp\", \"ankara\", \"anyone\", \"apply\", \"available\", \"back\", \"back\", \"back\", \"back\", \"bahru\", \"bath\", \"beach\", \"beautiful\", \"birthday\", \"birthday\", \"block\", \"ca\", \"careerarc\", \"catch\", \"centre\", \"check\", \"chicken\", \"city\", \"click\", \"coffee\", \"come\", \"come\", \"come\", \"day\", \"day\", \"day\", \"del\", \"detail\", \"do\", \"dog\", \"dog\", \"download\", \"early\", \"even\", \"everyone\", \"fall\", \"feel\", \"feel\", \"feel\", \"finally\", \"first\", \"first\", \"fit\", \"fitness\", \"follow\", \"fuck\", \"get\", \"get\", \"get\", \"girl\", \"girl\", \"go\", \"go\", \"god\", \"gon\", \"good\", \"good\", \"great\", \"great\", \"great\", \"gt\", \"hand\", \"happen\", \"happy\", \"happy\", \"happy\", \"hate\", \"healthcare\", \"hey\", \"hey\", \"hire\", \"hiring\", \"home\", \"home\", \"hope\", \"hope\", \"hope\", \"hospitality\", \"house\", \"house\", \"house\", \"humidity\", \"il\", \"ill\", \"interested\", \"istanbul\", \"istanbul\", \"jaya\", \"job\", \"johor\", \"join\", \"kinda\", \"know\", \"know\", \"kuala\", \"kuwait\", \"la\", \"late\", \"leave\", \"life\", \"life\", \"life\", \"life\", \"like\", \"like\", \"london\", \"london\", \"long\", \"long\", \"lot\", \"love\", \"love\", \"lumpur\", \"lunch\", \"make\", \"make\", \"mall\", \"manager\", \"manila\", \"mexico\", \"might\", \"morning\", \"morning\", \"morning\", \"mph\", \"na\", \"need\", \"need\", \"need\", \"never\", \"never\", \"nice\", \"nigga\", \"night\", \"night\", \"night\", \"nowplaye\", \"nt\", \"nursing\", \"one\", \"one\", \"open\", \"opening\", \"other\", \"other\", \"other\", \"other\", \"pahang\", \"park\", \"people\", \"people\", \"people\", \"photo\", \"photo\", \"photo\", \"photo\", \"pic\", \"pic\", \"pic\", \"plaza\", \"please\", \"please\", \"post\", \"post\", \"pr\", \"pressure\", \"rain\", \"rd\", \"re\", \"re\", \"read\", \"really\", \"recommend\", \"remember\", \"remember\", \"retail\", \"rs\", \"sale\", \"samsun\", \"santa\", \"say\", \"say\", \"say\", \"school\", \"school\", \"school\", \"see\", \"see\", \"see\", \"see\", \"selangor\", \"shah\", \"shit\", \"shit\", \"someone\", \"something\", \"sta\", \"still\", \"stop\", \"stop\", \"store\", \"summer\", \"sunday\", \"take\", \"take\", \"take\", \"team\", \"team\", \"tell\", \"tell\", \"temperature\", \"that\", \"the\", \"they\", \"think\", \"time\", \"time\", \"time\", \"time\", \"today\", \"today\", \"today\", \"together\", \"tomorrow\", \"top\", \"topic\", \"trash\", \"trend\", \"trndnl\", \"turkiye\", \"turkiye\", \"tx\", \"university\", \"ve\", \"veteran\", \"view\", \"view\", \"wake\", \"wanna\", \"want\", \"want\", \"way\", \"way\", \"weather\", \"week\", \"week\", \"week\", \"well\", \"well\", \"well\", \"white\", \"wind\", \"wo\", \"wo\", \"work\", \"work\", \"work\", \"would\", \"would\", \"you\", \"you\"]}, \"R\": 30, \"lambda.step\": 0.01, \"plot.opts\": {\"xlab\": \"PC1\", \"ylab\": \"PC2\"}, \"topic.order\": [2, 1, 4, 3]};\n\nfunction LDAvis_load_lib(url, callback){\n  var s = document.createElement('script');\n  s.src = url;\n  s.async = true;\n  s.onreadystatechange = s.onload = callback;\n  s.onerror = function(){console.warn(\"failed to load library \" + url);};\n  document.getElementsByTagName(\"head\")[0].appendChild(s);\n}\n\nif(typeof(LDAvis) !== \"undefined\"){\n   // already loaded: just create the visualization\n   !function(LDAvis){\n       new LDAvis(\"#\" + \"ldavis_el1801397787495579684679561427\", ldavis_el1801397787495579684679561427_data);\n   }(LDAvis);\n}else if(typeof define === \"function\" && define.amd){\n   // require.js is available: use it to load d3/LDAvis\n   require.config({paths: {d3: \"https://d3js.org/d3.v5\"}});\n   require([\"d3\"], function(d3){\n      window.d3 = d3;\n      LDAvis_load_lib(\"https://cdn.jsdelivr.net/gh/bmabey/pyLDAvis@3.3.1/pyLDAvis/js/ldavis.v3.0.0.js\", function(){\n        new LDAvis(\"#\" + \"ldavis_el1801397787495579684679561427\", ldavis_el1801397787495579684679561427_data);\n      });\n    });\n}else{\n    // require.js not available: dynamically load d3 & LDAvis\n    LDAvis_load_lib(\"https://d3js.org/d3.v5.js\", function(){\n         LDAvis_load_lib(\"https://cdn.jsdelivr.net/gh/bmabey/pyLDAvis@3.3.1/pyLDAvis/js/ldavis.v3.0.0.js\", function(){\n                 new LDAvis(\"#\" + \"ldavis_el1801397787495579684679561427\", ldavis_el1801397787495579684679561427_data);\n            })\n         });\n}\n</script>"
     },
     "metadata": {}
    }
   ],
   "execution_count": 169
  },
  {
   "cell_type": "markdown",
   "source": "Gensim's distribution looks pretty similar to that of sklearn as the topics are almost 1-to-1 the same. We can safely assume that sklearn GridSearchCV can be used to tune the number of topics for Gensim. \n\nNow we can use Gensim LDA to predict which Tweet belongs to which topic.",
   "metadata": {
    "tags": [],
    "cell_id": "00035-42f4987c-8913-4588-8202-05396374a9f2",
    "deepnote_cell_type": "markdown"
   }
  },
  {
   "cell_type": "code",
   "source": "from operator import itemgetter \n\ndef get_topic(tweet):\n    prob = lda_train[id2word.doc2bow(tweet.split())][0]\n    return max(prob,key=itemgetter(1))[0]\n\ndf_eng_clean_tweets['topics'] = df_eng_clean_tweets['lemmatized'].apply(lambda x : get_topic(x))",
   "metadata": {
    "tags": [],
    "cell_id": "00036-8a043adf-ad2e-45a6-ad37-51fec7a031b9",
    "deepnote_to_be_reexecuted": false,
    "source_hash": "28fe2124",
    "execution_start": 1633392287626,
    "execution_millis": 3737,
    "deepnote_cell_type": "code"
   },
   "outputs": [],
   "execution_count": 189
  },
  {
   "cell_type": "code",
   "source": "df_eng_clean_tweets.sample(5)",
   "metadata": {
    "tags": [],
    "cell_id": "00037-6cac61da-1bf4-4a00-be8c-40d7e157acb0",
    "deepnote_to_be_reexecuted": false,
    "source_hash": "e8a1dde2",
    "execution_start": 1633392415368,
    "execution_millis": 72,
    "deepnote_cell_type": "code"
   },
   "outputs": [
    {
     "output_type": "execute_result",
     "execution_count": 193,
     "data": {
      "application/vnd.deepnote.dataframe.v2+json": {
       "row_count": 5,
       "column_count": 5,
       "columns": [
        {
         "name": "clean_tweets",
         "dtype": "object",
         "stats": {
          "unique_count": 5,
          "nan_count": 0,
          "categories": [
           {
            "name": "BRICK Keith Morgan addressing the court I first want to say to Sammy Im sorry I was in a bad place in my life sammy",
            "count": 1
           },
           {
            "name": "Thank u to this bunch of awesome raggae team for making this CCA Fair April  a successful one … httpstcoWyjYoUJcR",
            "count": 1
           },
           {
            "name": "3 others",
            "count": 3
           }
          ]
         }
        },
        {
         "name": "lowercase",
         "dtype": "object",
         "stats": {
          "unique_count": 5,
          "nan_count": 0,
          "categories": [
           {
            "name": "brick keith morgan addressing the court i first want to say to sammy im sorry i was in a bad place in my life sammy",
            "count": 1
           },
           {
            "name": "thank u to this bunch of awesome raggae team for making this cca fair april  a successful one … httpstcowyjyoujcr",
            "count": 1
           },
           {
            "name": "3 others",
            "count": 3
           }
          ]
         }
        },
        {
         "name": "stopwords_removed",
         "dtype": "object",
         "stats": {
          "unique_count": 5,
          "nan_count": 0,
          "categories": [
           {
            "name": "brick keith morgan addressing court first want say sammy sorry bad place life sammy",
            "count": 1
           },
           {
            "name": "thank u bunch awesome raggae team making cca fair april successful one … httpstcowyjyoujcr",
            "count": 1
           },
           {
            "name": "3 others",
            "count": 3
           }
          ]
         }
        },
        {
         "name": "lemmatized",
         "dtype": "object",
         "stats": {
          "unique_count": 5,
          "nan_count": 0,
          "categories": [
           {
            "name": "brick keith morgan address court first want say sammy sorry bad place life sammy",
            "count": 1
           },
           {
            "name": "thank u bunch awesome raggae team make cca fair april successful one … httpstcowyjyoujcr",
            "count": 1
           },
           {
            "name": "3 others",
            "count": 3
           }
          ]
         }
        },
        {
         "name": "topics",
         "dtype": "int64",
         "stats": {
          "unique_count": 3,
          "nan_count": 0,
          "min": "1",
          "max": "3",
          "histogram": [
           {
            "bin_start": 1,
            "bin_end": 1.2,
            "count": 2
           },
           {
            "bin_start": 1.2,
            "bin_end": 1.4,
            "count": 0
           },
           {
            "bin_start": 1.4,
            "bin_end": 1.6,
            "count": 0
           },
           {
            "bin_start": 1.6,
            "bin_end": 1.8,
            "count": 0
           },
           {
            "bin_start": 1.8,
            "bin_end": 2,
            "count": 0
           },
           {
            "bin_start": 2,
            "bin_end": 2.2,
            "count": 1
           },
           {
            "bin_start": 2.2,
            "bin_end": 2.4000000000000004,
            "count": 0
           },
           {
            "bin_start": 2.4000000000000004,
            "bin_end": 2.6,
            "count": 0
           },
           {
            "bin_start": 2.6,
            "bin_end": 2.8,
            "count": 0
           },
           {
            "bin_start": 2.8,
            "bin_end": 3,
            "count": 2
           }
          ]
         }
        },
        {
         "name": "_deepnote_index_column",
         "dtype": "int64"
        }
       ],
       "rows_top": [
        {
         "clean_tweets": "BRICK Keith Morgan addressing the court I first want to say to Sammy Im sorry I was in a bad place …",
         "lowercase": "brick keith morgan addressing the court i first want to say to sammy im sorry i was in a bad place …",
         "stopwords_removed": "brick keith morgan addressing court first want say sammy sorry bad place life sammy",
         "lemmatized": "brick keith morgan address court first want say sammy sorry bad place life sammy",
         "topics": 3,
         "_deepnote_index_column": 928
        },
        {
         "clean_tweets": "Thank u to this bunch of awesome raggae team for making this CCA Fair April  a successful one … htt…",
         "lowercase": "thank u to this bunch of awesome raggae team for making this cca fair april  a successful one … htt…",
         "stopwords_removed": "thank u bunch awesome raggae team making cca fair april successful one … httpstcowyjyoujcr",
         "lemmatized": "thank u bunch awesome raggae team make cca fair april successful one … httpstcowyjyoujcr",
         "topics": 2,
         "_deepnote_index_column": 2326
        },
        {
         "clean_tweets": "“KerrySkillern I just love and miss RachelDunn ” I know you meant me ",
         "lowercase": "“kerryskillern i just love and miss racheldunn ” i know you meant me ",
         "stopwords_removed": "“kerryskillern love miss racheldunn ” know meant",
         "lemmatized": "\" kerryskillern love miss racheldunn \" know mean",
         "topics": 1,
         "_deepnote_index_column": 610
        },
        {
         "clean_tweets": "Best friend appreciation post 🦄 nnKitKat amp Jadeballs ILYSM  n miles has nothing on us … httpstcoq…",
         "lowercase": "best friend appreciation post 🦄 nnkitkat amp jadeballs ilysm  n miles has nothing on us … httpstcoq…",
         "stopwords_removed": "best friend appreciation post 🦄 nnkitkat amp jadeballs ilysm n miles nothing us … httpstcoqsjtfgmqr",
         "lemmatized": "good friend appreciation post 🦄 nnkitkat amp jadeballs ilysm n mile nothing we … httpstcoqsjtfgmqr",
         "topics": 3,
         "_deepnote_index_column": 2888
        },
        {
         "clean_tweets": "dancarroll  you can talk ",
         "lowercase": "dancarroll  you can talk ",
         "stopwords_removed": "dancarroll talk",
         "lemmatized": "dancarroll talk",
         "topics": 1,
         "_deepnote_index_column": 1493
        }
       ],
       "rows_bottom": null
      },
      "text/plain": "                                           clean_tweets  \\\n928   BRICK Keith Morgan addressing the court I firs...   \n2326  Thank u to this bunch of awesome raggae team f...   \n610   “KerrySkillern I just love and miss RachelDunn...   \n2888  Best friend appreciation post 🦄 nnKitKat amp J...   \n1493                          dancarroll  you can talk    \n\n                                              lowercase  \\\n928   brick keith morgan addressing the court i firs...   \n2326  thank u to this bunch of awesome raggae team f...   \n610   “kerryskillern i just love and miss racheldunn...   \n2888  best friend appreciation post 🦄 nnkitkat amp j...   \n1493                          dancarroll  you can talk    \n\n                                      stopwords_removed  \\\n928   brick keith morgan addressing court first want...   \n2326  thank u bunch awesome raggae team making cca f...   \n610    “kerryskillern love miss racheldunn ” know meant   \n2888  best friend appreciation post 🦄 nnkitkat amp j...   \n1493                                    dancarroll talk   \n\n                                             lemmatized  topics  \n928   brick keith morgan address court first want sa...       3  \n2326  thank u bunch awesome raggae team make cca fai...       2  \n610    \" kerryskillern love miss racheldunn \" know mean       1  \n2888  good friend appreciation post 🦄 nnkitkat amp j...       3  \n1493                                    dancarroll talk       1  ",
      "text/html": "<div>\n<style scoped>\n    .dataframe tbody tr th:only-of-type {\n        vertical-align: middle;\n    }\n\n    .dataframe tbody tr th {\n        vertical-align: top;\n    }\n\n    .dataframe thead th {\n        text-align: right;\n    }\n</style>\n<table border=\"1\" class=\"dataframe\">\n  <thead>\n    <tr style=\"text-align: right;\">\n      <th></th>\n      <th>clean_tweets</th>\n      <th>lowercase</th>\n      <th>stopwords_removed</th>\n      <th>lemmatized</th>\n      <th>topics</th>\n    </tr>\n  </thead>\n  <tbody>\n    <tr>\n      <th>928</th>\n      <td>BRICK Keith Morgan addressing the court I firs...</td>\n      <td>brick keith morgan addressing the court i firs...</td>\n      <td>brick keith morgan addressing court first want...</td>\n      <td>brick keith morgan address court first want sa...</td>\n      <td>3</td>\n    </tr>\n    <tr>\n      <th>2326</th>\n      <td>Thank u to this bunch of awesome raggae team f...</td>\n      <td>thank u to this bunch of awesome raggae team f...</td>\n      <td>thank u bunch awesome raggae team making cca f...</td>\n      <td>thank u bunch awesome raggae team make cca fai...</td>\n      <td>2</td>\n    </tr>\n    <tr>\n      <th>610</th>\n      <td>“KerrySkillern I just love and miss RachelDunn...</td>\n      <td>“kerryskillern i just love and miss racheldunn...</td>\n      <td>“kerryskillern love miss racheldunn ” know meant</td>\n      <td>\" kerryskillern love miss racheldunn \" know mean</td>\n      <td>1</td>\n    </tr>\n    <tr>\n      <th>2888</th>\n      <td>Best friend appreciation post 🦄 nnKitKat amp J...</td>\n      <td>best friend appreciation post 🦄 nnkitkat amp j...</td>\n      <td>best friend appreciation post 🦄 nnkitkat amp j...</td>\n      <td>good friend appreciation post 🦄 nnkitkat amp j...</td>\n      <td>3</td>\n    </tr>\n    <tr>\n      <th>1493</th>\n      <td>dancarroll  you can talk</td>\n      <td>dancarroll  you can talk</td>\n      <td>dancarroll talk</td>\n      <td>dancarroll talk</td>\n      <td>1</td>\n    </tr>\n  </tbody>\n</table>\n</div>"
     },
     "metadata": {}
    }
   ],
   "execution_count": 193
  },
  {
   "cell_type": "markdown",
   "source": "Since we are persisting Tweets, there are no point persisting each tweet as a file under a directory. Assuming we are using a relational database, we can persist the dataframe as a table with Tweet and Topic as the two columns.",
   "metadata": {
    "tags": [],
    "cell_id": "00038-50c71ec8-9f16-4009-83d8-31115b78e54b",
    "deepnote_cell_type": "markdown"
   }
  },
  {
   "cell_type": "code",
   "source": "df_export = df_eng_clean_tweets[['clean_tweets', 'topics']]\n\ndf_export.sample(5)",
   "metadata": {
    "tags": [],
    "cell_id": "00039-fbb66128-2888-44a0-aea1-fe666e522b73",
    "deepnote_to_be_reexecuted": false,
    "source_hash": "85f57f7b",
    "execution_start": 1633392942382,
    "execution_millis": 81,
    "deepnote_cell_type": "code"
   },
   "outputs": [
    {
     "output_type": "execute_result",
     "execution_count": 201,
     "data": {
      "application/vnd.deepnote.dataframe.v2+json": {
       "row_count": 5,
       "column_count": 2,
       "columns": [
        {
         "name": "clean_tweets",
         "dtype": "object",
         "stats": {
          "unique_count": 5,
          "nan_count": 0,
          "categories": [
           {
            "name": "May Almight God save us bless our inheritance feed us also and lift us up In Jesus name Pray always GM",
            "count": 1
           },
           {
            "name": "I wanna no wht turns yu on",
            "count": 1
           },
           {
            "name": "3 others",
            "count": 3
           }
          ]
         }
        },
        {
         "name": "topics",
         "dtype": "int64",
         "stats": {
          "unique_count": 3,
          "nan_count": 0,
          "min": "1",
          "max": "3",
          "histogram": [
           {
            "bin_start": 1,
            "bin_end": 1.2,
            "count": 3
           },
           {
            "bin_start": 1.2,
            "bin_end": 1.4,
            "count": 0
           },
           {
            "bin_start": 1.4,
            "bin_end": 1.6,
            "count": 0
           },
           {
            "bin_start": 1.6,
            "bin_end": 1.8,
            "count": 0
           },
           {
            "bin_start": 1.8,
            "bin_end": 2,
            "count": 0
           },
           {
            "bin_start": 2,
            "bin_end": 2.2,
            "count": 1
           },
           {
            "bin_start": 2.2,
            "bin_end": 2.4000000000000004,
            "count": 0
           },
           {
            "bin_start": 2.4000000000000004,
            "bin_end": 2.6,
            "count": 0
           },
           {
            "bin_start": 2.6,
            "bin_end": 2.8,
            "count": 0
           },
           {
            "bin_start": 2.8,
            "bin_end": 3,
            "count": 1
           }
          ]
         }
        },
        {
         "name": "_deepnote_index_column",
         "dtype": "int64"
        }
       ],
       "rows_top": [
        {
         "clean_tweets": "May Almight God save us bless our inheritance feed us also and lift us up In Jesus name Pray always…",
         "topics": 3,
         "_deepnote_index_column": 1464
        },
        {
         "clean_tweets": "I wanna no wht turns yu on",
         "topics": 1,
         "_deepnote_index_column": 1084
        },
        {
         "clean_tweets": "They have all been warned damn fuck bois",
         "topics": 1,
         "_deepnote_index_column": 1926
        },
        {
         "clean_tweets": "Awesooooooome yolkstation   kickstarter",
         "topics": 2,
         "_deepnote_index_column": 2550
        },
        {
         "clean_tweets": "You never miss something tilours gone",
         "topics": 1,
         "_deepnote_index_column": 77
        }
       ],
       "rows_bottom": null
      },
      "text/plain": "                                           clean_tweets  topics\n1464  May Almight God save us bless our inheritance ...       3\n1084                         I wanna no wht turns yu on       1\n1926           They have all been warned damn fuck bois       1\n2550            Awesooooooome yolkstation   kickstarter       2\n77                You never miss something tilours gone       1",
      "text/html": "<div>\n<style scoped>\n    .dataframe tbody tr th:only-of-type {\n        vertical-align: middle;\n    }\n\n    .dataframe tbody tr th {\n        vertical-align: top;\n    }\n\n    .dataframe thead th {\n        text-align: right;\n    }\n</style>\n<table border=\"1\" class=\"dataframe\">\n  <thead>\n    <tr style=\"text-align: right;\">\n      <th></th>\n      <th>clean_tweets</th>\n      <th>topics</th>\n    </tr>\n  </thead>\n  <tbody>\n    <tr>\n      <th>1464</th>\n      <td>May Almight God save us bless our inheritance ...</td>\n      <td>3</td>\n    </tr>\n    <tr>\n      <th>1084</th>\n      <td>I wanna no wht turns yu on</td>\n      <td>1</td>\n    </tr>\n    <tr>\n      <th>1926</th>\n      <td>They have all been warned damn fuck bois</td>\n      <td>1</td>\n    </tr>\n    <tr>\n      <th>2550</th>\n      <td>Awesooooooome yolkstation   kickstarter</td>\n      <td>2</td>\n    </tr>\n    <tr>\n      <th>77</th>\n      <td>You never miss something tilours gone</td>\n      <td>1</td>\n    </tr>\n  </tbody>\n</table>\n</div>"
     },
     "metadata": {}
    }
   ],
   "execution_count": 201
  },
  {
   "outputs": [],
   "execution_count": 200,
   "cell_type": "code",
   "source": "csv_name = lang + '_topics.csv'\ncsv_dir = './processed_csv'\nsave_dir = os.path.join(csv_dir, csv_name)   \n\nif not os.path.exists(csv_dir):\n    os.mkdir(csv_dir)\n\ndf_export.to_csv(save_dir)",
   "metadata": {
    "tags": [],
    "cell_id": "00039-1b307b47-100f-42b7-bf14-c682230a7e52",
    "deepnote_to_be_reexecuted": false,
    "source_hash": "5c7ed545",
    "execution_start": 1633392896716,
    "execution_millis": 28,
    "deepnote_cell_type": "code"
   }
  },
  {
   "cell_type": "markdown",
   "source": "<a style='text-decoration:none;line-height:16px;display:flex;color:#5B5B62;padding:10px;justify-content:end;' href='https://deepnote.com?utm_source=created-in-deepnote-cell&projectId=58094a3e-3210-4fc9-81c0-d48b1a865e59' target=\"_blank\">\n<img alt='Created in deepnote.com' style='display:inline;max-height:16px;margin:0px;margin-right:7.5px;' src='data:image/svg+xml;base64,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' > </img>\nCreated in <span style='font-weight:600;margin-left:4px;'>Deepnote</span></a>",
   "metadata": {
    "tags": [],
    "created_in_deepnote_cell": true,
    "deepnote_cell_type": "markdown"
   }
  }
 ],
 "nbformat": 4,
 "nbformat_minor": 5,
 "metadata": {
  "kernelspec": {
   "display_name": "Python 3",
   "language": "python",
   "name": "python3"
  },
  "language_info": {
   "codemirror_mode": {
    "name": "ipython",
    "version": 3
   },
   "file_extension": ".py",
   "mimetype": "text/x-python",
   "name": "python",
   "nbconvert_exporter": "python",
   "pygments_lexer": "ipython3",
   "version": "3.9.6"
  },
  "deepnote_notebook_id": "9fc1b6fa-4678-4b2f-a4d7-4d94bdd316f2",
  "deepnote": {},
  "deepnote_execution_queue": []
 }
}