{
 "cells": [
  {
   "cell_type": "code",
   "metadata": {
    "cell_id": "00000-072c9107-d8f0-4d4a-9159-545af74059b2",
    "deepnote_to_be_reexecuted": false,
    "source_hash": "31dfbe5f",
    "execution_start": 1633378624643,
    "execution_millis": 3311,
    "deepnote_cell_type": "code"
   },
   "source": [
    "import csv \n",
    "import pandas as pd\n",
    "import nltk\n",
    "import os\n",
    "import warnings\n",
    "warnings.filterwarnings('ignore')"
   ],
   "outputs": [],
   "execution_count": 3
  },
  {
   "cell_type": "markdown",
   "source": [
    "Now we want to preprocess the tweets accordingly to their languages."
   ],
   "metadata": {
    "cell_id": "00001-163f051d-c29e-4b36-ae62-93bb439a3644",
    "deepnote_cell_type": "markdown"
   }
  },
  {
   "cell_type": "code",
   "metadata": {
    "cell_id": "00002-85a767f9-038e-4a7e-9e4f-a9e8d22ffa3a",
    "deepnote_to_be_reexecuted": false,
    "source_hash": "ccd6755f",
    "execution_start": 1633392893145,
    "execution_millis": 19,
    "deepnote_cell_type": "code"
   },
   "source": [
    "#define the languages we want to preprocess\n",
    "lang_list = ['en', 'es', 'pt']\n",
    "\n",
    "# define what each iso-639 code means\n",
    "lang_dict = {\n",
    "    'en': 'english',\n",
    "    'es': 'spanish',\n",
    "    'pt': 'portugese'\n",
    "}\n",
    "\n",
    "clean_data_dir = './clean_data'\n",
    "joblib_dir = './joblib'\n",
    "csv_dir = './processed_csv'\n",
    "lang = 'en'"
   ],
   "outputs": [],
   "execution_count": 4
  },
  {
   "cell_type": "markdown",
   "source": [
    "We will preprocess English first. Let's import the csv file into a Pandas DataFrame"
   ],
   "metadata": {
    "cell_id": "00003-67108a83-9d78-4c71-b20a-a9f1bd4061ee",
    "deepnote_cell_type": "markdown"
   }
  },
  {
   "cell_type": "code",
   "metadata": {
    "scrolled": true,
    "cell_id": "00004-3a6c1221-dbac-4f99-a7b1-7a432d6f2b07",
    "deepnote_to_be_reexecuted": false,
    "source_hash": "350acce4",
    "execution_start": 1633378627992,
    "execution_millis": 260,
    "deepnote_cell_type": "code"
   },
   "source": [
    "fulldir = os.path.join(clean_data_dir, lang + '.csv')   \n",
    "\n",
    "df_eng = pd.read_csv(fulldir)\n",
    "df_eng"
   ],
   "outputs": [
    {
     "output_type": "execute_result",
     "data": {
      "text/plain": [
       "      Unnamed: 0                                              Tweet  \\\n",
       "0              3  I felt my first flash of violence at some fool...   \n",
       "1              4            Ladies drink and get in free till 10:30   \n",
       "2              7  Watching #Miranda On bbc1!!! @mermhart u r HIL...   \n",
       "3              9          Shopping! (@ Kohl's) http://t.co/I8ZkQHT9   \n",
       "4             16  @Dennycrowe all over twitter because you and y...   \n",
       "...          ...                                                ...   \n",
       "4307       10492  Another Cardigan Records Hopscotch Day Party i...   \n",
       "4308       10493  I'm at Hempstead Hair World in Elmont, NY http...   \n",
       "4309       10494  Bachelorette 💍💞 @ Laurita Winery https://t.co/...   \n",
       "4310       10496  This #job might be a great fit for you: Sr. In...   \n",
       "4311       10497  I'm at @PiazzaAvym in Canik, Samsun w/ @mertar...   \n",
       "\n",
       "                                           clean_tweets  \\\n",
       "0     I felt my first flash of violence at some fool...   \n",
       "1                    Ladies drink and get in free till    \n",
       "2       Watching Miranda On bbc mermhart u r HILARIOUS    \n",
       "3                         Shopping  Kohls httptcoIZkQHT   \n",
       "4     Dennycrowe all over twitter because you and yo...   \n",
       "...                                                 ...   \n",
       "4307  Another Cardigan Records Hopscotch Day Party i...   \n",
       "4308  Im at Hempstead Hair World in Elmont NY httpst...   \n",
       "4309    Bachelorette   Laurita Winery httpstcoBsIIFmdGz   \n",
       "4310  This job might be a great fit for you Sr Infor...   \n",
       "4311  Im at PiazzaAvym in Canik Samsun w mertarmann ...   \n",
       "\n",
       "                      prediction language  confidence  \n",
       "0     ('en', 0.9772645831108093)       en    0.977265  \n",
       "1     ('en', 0.6527988910675049)       en    0.652799  \n",
       "2     ('en', 0.5819909572601318)       en    0.581991  \n",
       "3     ('en', 0.5320528745651245)       en    0.532053  \n",
       "4      ('en', 0.768022358417511)       en    0.768022  \n",
       "...                          ...      ...         ...  \n",
       "4307   ('en', 0.920673131942749)       en    0.920673  \n",
       "4308  ('en', 0.5241799354553223)       en    0.524180  \n",
       "4309  ('en', 0.6609522104263306)       en    0.660952  \n",
       "4310  ('en', 0.6981475949287415)       en    0.698148  \n",
       "4311  ('en', 0.6175498366355896)       en    0.617550  \n",
       "\n",
       "[4312 rows x 6 columns]"
      ],
      "text/html": "<div>\n<style scoped>\n    .dataframe tbody tr th:only-of-type {\n        vertical-align: middle;\n    }\n\n    .dataframe tbody tr th {\n        vertical-align: top;\n    }\n\n    .dataframe thead th {\n        text-align: right;\n    }\n</style>\n<table border=\"1\" class=\"dataframe\">\n  <thead>\n    <tr style=\"text-align: right;\">\n      <th></th>\n      <th>Unnamed: 0</th>\n      <th>Tweet</th>\n      <th>clean_tweets</th>\n      <th>prediction</th>\n      <th>language</th>\n      <th>confidence</th>\n    </tr>\n  </thead>\n  <tbody>\n    <tr>\n      <th>0</th>\n      <td>3</td>\n      <td>I felt my first flash of violence at some fool...</td>\n      <td>I felt my first flash of violence at some fool...</td>\n      <td>('en', 0.9772645831108093)</td>\n      <td>en</td>\n      <td>0.977265</td>\n    </tr>\n    <tr>\n      <th>1</th>\n      <td>4</td>\n      <td>Ladies drink and get in free till 10:30</td>\n      <td>Ladies drink and get in free till</td>\n      <td>('en', 0.6527988910675049)</td>\n      <td>en</td>\n      <td>0.652799</td>\n    </tr>\n    <tr>\n      <th>2</th>\n      <td>7</td>\n      <td>Watching #Miranda On bbc1!!! @mermhart u r HIL...</td>\n      <td>Watching Miranda On bbc mermhart u r HILARIOUS</td>\n      <td>('en', 0.5819909572601318)</td>\n      <td>en</td>\n      <td>0.581991</td>\n    </tr>\n    <tr>\n      <th>3</th>\n      <td>9</td>\n      <td>Shopping! (@ Kohl's) http://t.co/I8ZkQHT9</td>\n      <td>Shopping  Kohls httptcoIZkQHT</td>\n      <td>('en', 0.5320528745651245)</td>\n      <td>en</td>\n      <td>0.532053</td>\n    </tr>\n    <tr>\n      <th>4</th>\n      <td>16</td>\n      <td>@Dennycrowe all over twitter because you and y...</td>\n      <td>Dennycrowe all over twitter because you and yo...</td>\n      <td>('en', 0.768022358417511)</td>\n      <td>en</td>\n      <td>0.768022</td>\n    </tr>\n    <tr>\n      <th>...</th>\n      <td>...</td>\n      <td>...</td>\n      <td>...</td>\n      <td>...</td>\n      <td>...</td>\n      <td>...</td>\n    </tr>\n    <tr>\n      <th>4307</th>\n      <td>10492</td>\n      <td>Another Cardigan Records Hopscotch Day Party i...</td>\n      <td>Another Cardigan Records Hopscotch Day Party i...</td>\n      <td>('en', 0.920673131942749)</td>\n      <td>en</td>\n      <td>0.920673</td>\n    </tr>\n    <tr>\n      <th>4308</th>\n      <td>10493</td>\n      <td>I'm at Hempstead Hair World in Elmont, NY http...</td>\n      <td>Im at Hempstead Hair World in Elmont NY httpst...</td>\n      <td>('en', 0.5241799354553223)</td>\n      <td>en</td>\n      <td>0.524180</td>\n    </tr>\n    <tr>\n      <th>4309</th>\n      <td>10494</td>\n      <td>Bachelorette 💍💞 @ Laurita Winery https://t.co/...</td>\n      <td>Bachelorette   Laurita Winery httpstcoBsIIFmdGz</td>\n      <td>('en', 0.6609522104263306)</td>\n      <td>en</td>\n      <td>0.660952</td>\n    </tr>\n    <tr>\n      <th>4310</th>\n      <td>10496</td>\n      <td>This #job might be a great fit for you: Sr. In...</td>\n      <td>This job might be a great fit for you Sr Infor...</td>\n      <td>('en', 0.6981475949287415)</td>\n      <td>en</td>\n      <td>0.698148</td>\n    </tr>\n    <tr>\n      <th>4311</th>\n      <td>10497</td>\n      <td>I'm at @PiazzaAvym in Canik, Samsun w/ @mertar...</td>\n      <td>Im at PiazzaAvym in Canik Samsun w mertarmann ...</td>\n      <td>('en', 0.6175498366355896)</td>\n      <td>en</td>\n      <td>0.617550</td>\n    </tr>\n  </tbody>\n</table>\n<p>4312 rows × 6 columns</p>\n</div>"
     },
     "metadata": {},
     "execution_count": 5
    }
   ],
   "execution_count": 5
  },
  {
   "cell_type": "markdown",
   "source": [
    "Since we just want the `clean_tweets` we can just omit other columns."
   ],
   "metadata": {
    "cell_id": "00005-a30a35ea-0909-41f0-bd38-b07ef9b32e84",
    "deepnote_cell_type": "markdown"
   }
  },
  {
   "cell_type": "code",
   "metadata": {
    "scrolled": true,
    "cell_id": "00006-12419b4a-20c2-425b-afa6-1e5a7ea7d31c",
    "deepnote_to_be_reexecuted": false,
    "source_hash": "795b0fc6",
    "execution_start": 1633378628264,
    "execution_millis": 156,
    "deepnote_cell_type": "code"
   },
   "source": [
    "df_eng_clean_tweets = df_eng[['Tweet', 'clean_tweets']]\n",
    "df_eng_clean_tweets"
   ],
   "outputs": [
    {
     "output_type": "execute_result",
     "data": {
      "text/plain": [
       "                                                  Tweet  \\\n",
       "0     I felt my first flash of violence at some fool...   \n",
       "1               Ladies drink and get in free till 10:30   \n",
       "2     Watching #Miranda On bbc1!!! @mermhart u r HIL...   \n",
       "3             Shopping! (@ Kohl's) http://t.co/I8ZkQHT9   \n",
       "4     @Dennycrowe all over twitter because you and y...   \n",
       "...                                                 ...   \n",
       "4307  Another Cardigan Records Hopscotch Day Party i...   \n",
       "4308  I'm at Hempstead Hair World in Elmont, NY http...   \n",
       "4309  Bachelorette 💍💞 @ Laurita Winery https://t.co/...   \n",
       "4310  This #job might be a great fit for you: Sr. In...   \n",
       "4311  I'm at @PiazzaAvym in Canik, Samsun w/ @mertar...   \n",
       "\n",
       "                                           clean_tweets  \n",
       "0     I felt my first flash of violence at some fool...  \n",
       "1                    Ladies drink and get in free till   \n",
       "2       Watching Miranda On bbc mermhart u r HILARIOUS   \n",
       "3                         Shopping  Kohls httptcoIZkQHT  \n",
       "4     Dennycrowe all over twitter because you and yo...  \n",
       "...                                                 ...  \n",
       "4307  Another Cardigan Records Hopscotch Day Party i...  \n",
       "4308  Im at Hempstead Hair World in Elmont NY httpst...  \n",
       "4309    Bachelorette   Laurita Winery httpstcoBsIIFmdGz  \n",
       "4310  This job might be a great fit for you Sr Infor...  \n",
       "4311  Im at PiazzaAvym in Canik Samsun w mertarmann ...  \n",
       "\n",
       "[4312 rows x 2 columns]"
      ],
      "text/html": "<div>\n<style scoped>\n    .dataframe tbody tr th:only-of-type {\n        vertical-align: middle;\n    }\n\n    .dataframe tbody tr th {\n        vertical-align: top;\n    }\n\n    .dataframe thead th {\n        text-align: right;\n    }\n</style>\n<table border=\"1\" class=\"dataframe\">\n  <thead>\n    <tr style=\"text-align: right;\">\n      <th></th>\n      <th>Tweet</th>\n      <th>clean_tweets</th>\n    </tr>\n  </thead>\n  <tbody>\n    <tr>\n      <th>0</th>\n      <td>I felt my first flash of violence at some fool...</td>\n      <td>I felt my first flash of violence at some fool...</td>\n    </tr>\n    <tr>\n      <th>1</th>\n      <td>Ladies drink and get in free till 10:30</td>\n      <td>Ladies drink and get in free till</td>\n    </tr>\n    <tr>\n      <th>2</th>\n      <td>Watching #Miranda On bbc1!!! @mermhart u r HIL...</td>\n      <td>Watching Miranda On bbc mermhart u r HILARIOUS</td>\n    </tr>\n    <tr>\n      <th>3</th>\n      <td>Shopping! (@ Kohl's) http://t.co/I8ZkQHT9</td>\n      <td>Shopping  Kohls httptcoIZkQHT</td>\n    </tr>\n    <tr>\n      <th>4</th>\n      <td>@Dennycrowe all over twitter because you and y...</td>\n      <td>Dennycrowe all over twitter because you and yo...</td>\n    </tr>\n    <tr>\n      <th>...</th>\n      <td>...</td>\n      <td>...</td>\n    </tr>\n    <tr>\n      <th>4307</th>\n      <td>Another Cardigan Records Hopscotch Day Party i...</td>\n      <td>Another Cardigan Records Hopscotch Day Party i...</td>\n    </tr>\n    <tr>\n      <th>4308</th>\n      <td>I'm at Hempstead Hair World in Elmont, NY http...</td>\n      <td>Im at Hempstead Hair World in Elmont NY httpst...</td>\n    </tr>\n    <tr>\n      <th>4309</th>\n      <td>Bachelorette 💍💞 @ Laurita Winery https://t.co/...</td>\n      <td>Bachelorette   Laurita Winery httpstcoBsIIFmdGz</td>\n    </tr>\n    <tr>\n      <th>4310</th>\n      <td>This #job might be a great fit for you: Sr. In...</td>\n      <td>This job might be a great fit for you Sr Infor...</td>\n    </tr>\n    <tr>\n      <th>4311</th>\n      <td>I'm at @PiazzaAvym in Canik, Samsun w/ @mertar...</td>\n      <td>Im at PiazzaAvym in Canik Samsun w mertarmann ...</td>\n    </tr>\n  </tbody>\n</table>\n<p>4312 rows × 2 columns</p>\n</div>"
     },
     "metadata": {},
     "execution_count": 6
    }
   ],
   "execution_count": 6
  },
  {
   "cell_type": "markdown",
   "source": [
    "Firstly, we want to lowercase everything."
   ],
   "metadata": {
    "cell_id": "00007-cc7995c1-5e21-459d-8340-a0fc2c98faea",
    "deepnote_cell_type": "markdown"
   }
  },
  {
   "cell_type": "code",
   "metadata": {
    "scrolled": false,
    "cell_id": "00008-b5a35b18-5984-4d63-8a1e-4db055fe8444",
    "deepnote_to_be_reexecuted": false,
    "source_hash": "abe48794",
    "execution_start": 1633378628405,
    "execution_millis": 189,
    "deepnote_cell_type": "code"
   },
   "source": [
    "df_eng_clean_tweets['lowercase'] = df_eng_clean_tweets['clean_tweets'].apply(lambda x: x.lower())\n",
    "df_eng_clean_tweets"
   ],
   "outputs": [
    {
     "output_type": "execute_result",
     "data": {
      "text/plain": [
       "                                                  Tweet  \\\n",
       "0     I felt my first flash of violence at some fool...   \n",
       "1               Ladies drink and get in free till 10:30   \n",
       "2     Watching #Miranda On bbc1!!! @mermhart u r HIL...   \n",
       "3             Shopping! (@ Kohl's) http://t.co/I8ZkQHT9   \n",
       "4     @Dennycrowe all over twitter because you and y...   \n",
       "...                                                 ...   \n",
       "4307  Another Cardigan Records Hopscotch Day Party i...   \n",
       "4308  I'm at Hempstead Hair World in Elmont, NY http...   \n",
       "4309  Bachelorette 💍💞 @ Laurita Winery https://t.co/...   \n",
       "4310  This #job might be a great fit for you: Sr. In...   \n",
       "4311  I'm at @PiazzaAvym in Canik, Samsun w/ @mertar...   \n",
       "\n",
       "                                           clean_tweets  \\\n",
       "0     I felt my first flash of violence at some fool...   \n",
       "1                    Ladies drink and get in free till    \n",
       "2       Watching Miranda On bbc mermhart u r HILARIOUS    \n",
       "3                         Shopping  Kohls httptcoIZkQHT   \n",
       "4     Dennycrowe all over twitter because you and yo...   \n",
       "...                                                 ...   \n",
       "4307  Another Cardigan Records Hopscotch Day Party i...   \n",
       "4308  Im at Hempstead Hair World in Elmont NY httpst...   \n",
       "4309    Bachelorette   Laurita Winery httpstcoBsIIFmdGz   \n",
       "4310  This job might be a great fit for you Sr Infor...   \n",
       "4311  Im at PiazzaAvym in Canik Samsun w mertarmann ...   \n",
       "\n",
       "                                              lowercase  \n",
       "0     i felt my first flash of violence at some fool...  \n",
       "1                    ladies drink and get in free till   \n",
       "2       watching miranda on bbc mermhart u r hilarious   \n",
       "3                         shopping  kohls httptcoizkqht  \n",
       "4     dennycrowe all over twitter because you and yo...  \n",
       "...                                                 ...  \n",
       "4307  another cardigan records hopscotch day party i...  \n",
       "4308  im at hempstead hair world in elmont ny httpst...  \n",
       "4309    bachelorette   laurita winery httpstcobsiifmdgz  \n",
       "4310  this job might be a great fit for you sr infor...  \n",
       "4311  im at piazzaavym in canik samsun w mertarmann ...  \n",
       "\n",
       "[4312 rows x 3 columns]"
      ],
      "text/html": "<div>\n<style scoped>\n    .dataframe tbody tr th:only-of-type {\n        vertical-align: middle;\n    }\n\n    .dataframe tbody tr th {\n        vertical-align: top;\n    }\n\n    .dataframe thead th {\n        text-align: right;\n    }\n</style>\n<table border=\"1\" class=\"dataframe\">\n  <thead>\n    <tr style=\"text-align: right;\">\n      <th></th>\n      <th>Tweet</th>\n      <th>clean_tweets</th>\n      <th>lowercase</th>\n    </tr>\n  </thead>\n  <tbody>\n    <tr>\n      <th>0</th>\n      <td>I felt my first flash of violence at some fool...</td>\n      <td>I felt my first flash of violence at some fool...</td>\n      <td>i felt my first flash of violence at some fool...</td>\n    </tr>\n    <tr>\n      <th>1</th>\n      <td>Ladies drink and get in free till 10:30</td>\n      <td>Ladies drink and get in free till</td>\n      <td>ladies drink and get in free till</td>\n    </tr>\n    <tr>\n      <th>2</th>\n      <td>Watching #Miranda On bbc1!!! @mermhart u r HIL...</td>\n      <td>Watching Miranda On bbc mermhart u r HILARIOUS</td>\n      <td>watching miranda on bbc mermhart u r hilarious</td>\n    </tr>\n    <tr>\n      <th>3</th>\n      <td>Shopping! (@ Kohl's) http://t.co/I8ZkQHT9</td>\n      <td>Shopping  Kohls httptcoIZkQHT</td>\n      <td>shopping  kohls httptcoizkqht</td>\n    </tr>\n    <tr>\n      <th>4</th>\n      <td>@Dennycrowe all over twitter because you and y...</td>\n      <td>Dennycrowe all over twitter because you and yo...</td>\n      <td>dennycrowe all over twitter because you and yo...</td>\n    </tr>\n    <tr>\n      <th>...</th>\n      <td>...</td>\n      <td>...</td>\n      <td>...</td>\n    </tr>\n    <tr>\n      <th>4307</th>\n      <td>Another Cardigan Records Hopscotch Day Party i...</td>\n      <td>Another Cardigan Records Hopscotch Day Party i...</td>\n      <td>another cardigan records hopscotch day party i...</td>\n    </tr>\n    <tr>\n      <th>4308</th>\n      <td>I'm at Hempstead Hair World in Elmont, NY http...</td>\n      <td>Im at Hempstead Hair World in Elmont NY httpst...</td>\n      <td>im at hempstead hair world in elmont ny httpst...</td>\n    </tr>\n    <tr>\n      <th>4309</th>\n      <td>Bachelorette 💍💞 @ Laurita Winery https://t.co/...</td>\n      <td>Bachelorette   Laurita Winery httpstcoBsIIFmdGz</td>\n      <td>bachelorette   laurita winery httpstcobsiifmdgz</td>\n    </tr>\n    <tr>\n      <th>4310</th>\n      <td>This #job might be a great fit for you: Sr. In...</td>\n      <td>This job might be a great fit for you Sr Infor...</td>\n      <td>this job might be a great fit for you sr infor...</td>\n    </tr>\n    <tr>\n      <th>4311</th>\n      <td>I'm at @PiazzaAvym in Canik, Samsun w/ @mertar...</td>\n      <td>Im at PiazzaAvym in Canik Samsun w mertarmann ...</td>\n      <td>im at piazzaavym in canik samsun w mertarmann ...</td>\n    </tr>\n  </tbody>\n</table>\n<p>4312 rows × 3 columns</p>\n</div>"
     },
     "metadata": {},
     "execution_count": 8
    }
   ],
   "execution_count": 8
  },
  {
   "cell_type": "code",
   "execution_count": 9,
   "metadata": {},
   "outputs": [
    {
     "output_type": "stream",
     "name": "stdout",
     "text": [
      "Collecting wordcloud\n",
      "  Downloading wordcloud-1.8.1-cp38-cp38-manylinux1_x86_64.whl (371 kB)\n",
      "\u001b[K     |████████████████████████████████| 371 kB 1.9 MB/s \n",
      "\u001b[?25hRequirement already satisfied: numpy>=1.6.1 in /home/bingyuyap/.local/lib/python3.8/site-packages (from wordcloud) (1.19.5)\n",
      "Requirement already satisfied: pillow in /home/bingyuyap/.local/lib/python3.8/site-packages (from wordcloud) (8.1.0)\n",
      "Requirement already satisfied: matplotlib in /home/bingyuyap/.local/lib/python3.8/site-packages (from wordcloud) (3.4.3)\n",
      "Requirement already satisfied: python-dateutil>=2.7 in /home/bingyuyap/.local/lib/python3.8/site-packages (from matplotlib->wordcloud) (2.8.1)\n",
      "Requirement already satisfied: cycler>=0.10 in /home/bingyuyap/.local/lib/python3.8/site-packages (from matplotlib->wordcloud) (0.10.0)\n",
      "Requirement already satisfied: pyparsing>=2.2.1 in /home/bingyuyap/.local/lib/python3.8/site-packages (from matplotlib->wordcloud) (2.4.7)\n",
      "Requirement already satisfied: kiwisolver>=1.0.1 in /home/bingyuyap/.local/lib/python3.8/site-packages (from matplotlib->wordcloud) (1.3.2)\n",
      "Requirement already satisfied: six>=1.5 in /home/bingyuyap/.local/lib/python3.8/site-packages (from python-dateutil>=2.7->matplotlib->wordcloud) (1.15.0)\n",
      "Installing collected packages: wordcloud\n",
      "\u001b[33m  WARNING: The script wordcloud_cli is installed in '/home/bingyuyap/.local/bin' which is not on PATH.\n",
      "  Consider adding this directory to PATH or, if you prefer to suppress this warning, use --no-warn-script-location.\u001b[0m\n",
      "Successfully installed wordcloud-1.8.1\n"
     ]
    }
   ],
   "source": [
    "!pip install wordcloud"
   ]
  },
  {
   "cell_type": "code",
   "metadata": {
    "tags": [],
    "cell_id": "00009-86a8e94b-775c-4a34-8e6f-c9f369db7e60",
    "deepnote_to_be_reexecuted": false,
    "source_hash": "16651822",
    "execution_start": 1633380877113,
    "execution_millis": 970,
    "deepnote_cell_type": "code"
   },
   "source": [
    "# Import the wordcloud library\n",
    "from wordcloud import WordCloud\n",
    "# Join the different processed titles together.\n",
    "long_string = ','.join(list(df_eng_clean_tweets['lowercase'].values))\n",
    "# Create a WordCloud object\n",
    "wordcloud = WordCloud(background_color=\"white\", max_words=5000, contour_width=3, contour_color='steelblue')\n",
    "# Generate a word cloud\n",
    "wordcloud.generate(long_string)\n",
    "# Visualize the word cloud\n",
    "wordcloud.to_image()"
   ],
   "outputs": [
    {
     "output_type": "execute_result",
     "data": {
      "text/plain": [
       "<PIL.Image.Image image mode=RGB size=400x200 at 0x7F295B762460>"
      ],
      "image/png": "[encoded data removed]"
     },
     "metadata": {},
     "execution_count": 10
    }
   ],
   "execution_count": 10
  },
  {
   "cell_type": "markdown",
   "source": [
    "A simple wordcloud to visualize which words are more common. The big im tells us that it is a stop words since it does not really have meanings, some words like cant, lol are not very useful either. We would want to add them in the stopwords."
   ],
   "metadata": {
    "tags": [],
    "cell_id": "00010-2f81a074-0ed5-4788-a467-b15222bbadd2",
    "deepnote_cell_type": "markdown"
   }
  },
  {
   "cell_type": "markdown",
   "source": [
    "Then we remove the stopwords."
   ],
   "metadata": {
    "cell_id": "00009-d4c8d627-92ed-4e40-b3ab-751ab00281c1",
    "deepnote_cell_type": "markdown"
   }
  },
  {
   "cell_type": "code",
   "metadata": {
    "scrolled": false,
    "cell_id": "00010-21f36775-b115-4de7-8d09-965d30fd02c6",
    "deepnote_to_be_reexecuted": false,
    "source_hash": "1dac2eca",
    "execution_start": 1633381039602,
    "execution_millis": 240,
    "deepnote_cell_type": "code"
   },
   "source": [
    "nltk.download('stopwords')\n",
    "from nltk.corpus import stopwords\n",
    "\n",
    "stop_words = stopwords.words(lang_dict[lang])\n",
    "stop_words.append('cant')\n",
    "stop_words.append('im')\n",
    "stop_words.append('lol')\n",
    "\n",
    "\n",
    "df_eng_clean_tweets['stopwords_removed'] = df_eng_clean_tweets['lowercase'].apply(lambda x: ' '.join([item for item in x.split() if item not in stop_words]))\n",
    "df_eng_clean_tweets"
   ],
   "outputs": [
    {
     "output_type": "stream",
     "name": "stderr",
     "text": [
      "[nltk_data] Downloading package stopwords to\n[nltk_data]     /home/bingyuyap/nltk_data...\n[nltk_data]   Package stopwords is already up-to-date!\n"
     ]
    },
    {
     "output_type": "execute_result",
     "data": {
      "text/plain": [
       "                                                  Tweet  \\\n",
       "0     I felt my first flash of violence at some fool...   \n",
       "1               Ladies drink and get in free till 10:30   \n",
       "2     Watching #Miranda On bbc1!!! @mermhart u r HIL...   \n",
       "3             Shopping! (@ Kohl's) http://t.co/I8ZkQHT9   \n",
       "4     @Dennycrowe all over twitter because you and y...   \n",
       "...                                                 ...   \n",
       "4307  Another Cardigan Records Hopscotch Day Party i...   \n",
       "4308  I'm at Hempstead Hair World in Elmont, NY http...   \n",
       "4309  Bachelorette 💍💞 @ Laurita Winery https://t.co/...   \n",
       "4310  This #job might be a great fit for you: Sr. In...   \n",
       "4311  I'm at @PiazzaAvym in Canik, Samsun w/ @mertar...   \n",
       "\n",
       "                                           clean_tweets  \\\n",
       "0     I felt my first flash of violence at some fool...   \n",
       "1                    Ladies drink and get in free till    \n",
       "2       Watching Miranda On bbc mermhart u r HILARIOUS    \n",
       "3                         Shopping  Kohls httptcoIZkQHT   \n",
       "4     Dennycrowe all over twitter because you and yo...   \n",
       "...                                                 ...   \n",
       "4307  Another Cardigan Records Hopscotch Day Party i...   \n",
       "4308  Im at Hempstead Hair World in Elmont NY httpst...   \n",
       "4309    Bachelorette   Laurita Winery httpstcoBsIIFmdGz   \n",
       "4310  This job might be a great fit for you Sr Infor...   \n",
       "4311  Im at PiazzaAvym in Canik Samsun w mertarmann ...   \n",
       "\n",
       "                                              lowercase  \\\n",
       "0     i felt my first flash of violence at some fool...   \n",
       "1                    ladies drink and get in free till    \n",
       "2       watching miranda on bbc mermhart u r hilarious    \n",
       "3                         shopping  kohls httptcoizkqht   \n",
       "4     dennycrowe all over twitter because you and yo...   \n",
       "...                                                 ...   \n",
       "4307  another cardigan records hopscotch day party i...   \n",
       "4308  im at hempstead hair world in elmont ny httpst...   \n",
       "4309    bachelorette   laurita winery httpstcobsiifmdgz   \n",
       "4310  this job might be a great fit for you sr infor...   \n",
       "4311  im at piazzaavym in canik samsun w mertarmann ...   \n",
       "\n",
       "                                      stopwords_removed  \n",
       "0       felt first flash violence fool bumped pity fool  \n",
       "1                            ladies drink get free till  \n",
       "2           watching miranda bbc mermhart u r hilarious  \n",
       "3                          shopping kohls httptcoizkqht  \n",
       "4                      dennycrowe twitter friends stick  \n",
       "...                                                 ...  \n",
       "4307  another cardigan records hopscotch day party b...  \n",
       "4308  hempstead hair world elmont ny httpstcohvyghzyehc  \n",
       "4309      bachelorette laurita winery httpstcobsiifmdgz  \n",
       "4310  job might great fit sr information architect s...  \n",
       "4311  piazzaavym canik samsun w mertarmann debeabcbc...  \n",
       "\n",
       "[4312 rows x 4 columns]"
      ],
      "text/html": "<div>\n<style scoped>\n    .dataframe tbody tr th:only-of-type {\n        vertical-align: middle;\n    }\n\n    .dataframe tbody tr th {\n        vertical-align: top;\n    }\n\n    .dataframe thead th {\n        text-align: right;\n    }\n</style>\n<table border=\"1\" class=\"dataframe\">\n  <thead>\n    <tr style=\"text-align: right;\">\n      <th></th>\n      <th>Tweet</th>\n      <th>clean_tweets</th>\n      <th>lowercase</th>\n      <th>stopwords_removed</th>\n    </tr>\n  </thead>\n  <tbody>\n    <tr>\n      <th>0</th>\n      <td>I felt my first flash of violence at some fool...</td>\n      <td>I felt my first flash of violence at some fool...</td>\n      <td>i felt my first flash of violence at some fool...</td>\n      <td>felt first flash violence fool bumped pity fool</td>\n    </tr>\n    <tr>\n      <th>1</th>\n      <td>Ladies drink and get in free till 10:30</td>\n      <td>Ladies drink and get in free till</td>\n      <td>ladies drink and get in free till</td>\n      <td>ladies drink get free till</td>\n    </tr>\n    <tr>\n      <th>2</th>\n      <td>Watching #Miranda On bbc1!!! @mermhart u r HIL...</td>\n      <td>Watching Miranda On bbc mermhart u r HILARIOUS</td>\n      <td>watching miranda on bbc mermhart u r hilarious</td>\n      <td>watching miranda bbc mermhart u r hilarious</td>\n    </tr>\n    <tr>\n      <th>3</th>\n      <td>Shopping! (@ Kohl's) http://t.co/I8ZkQHT9</td>\n      <td>Shopping  Kohls httptcoIZkQHT</td>\n      <td>shopping  kohls httptcoizkqht</td>\n      <td>shopping kohls httptcoizkqht</td>\n    </tr>\n    <tr>\n      <th>4</th>\n      <td>@Dennycrowe all over twitter because you and y...</td>\n      <td>Dennycrowe all over twitter because you and yo...</td>\n      <td>dennycrowe all over twitter because you and yo...</td>\n      <td>dennycrowe twitter friends stick</td>\n    </tr>\n    <tr>\n      <th>...</th>\n      <td>...</td>\n      <td>...</td>\n      <td>...</td>\n      <td>...</td>\n    </tr>\n    <tr>\n      <th>4307</th>\n      <td>Another Cardigan Records Hopscotch Day Party i...</td>\n      <td>Another Cardigan Records Hopscotch Day Party i...</td>\n      <td>another cardigan records hopscotch day party i...</td>\n      <td>another cardigan records hopscotch day party b...</td>\n    </tr>\n    <tr>\n      <th>4308</th>\n      <td>I'm at Hempstead Hair World in Elmont, NY http...</td>\n      <td>Im at Hempstead Hair World in Elmont NY httpst...</td>\n      <td>im at hempstead hair world in elmont ny httpst...</td>\n      <td>hempstead hair world elmont ny httpstcohvyghzyehc</td>\n    </tr>\n    <tr>\n      <th>4309</th>\n      <td>Bachelorette 💍💞 @ Laurita Winery https://t.co/...</td>\n      <td>Bachelorette   Laurita Winery httpstcoBsIIFmdGz</td>\n      <td>bachelorette   laurita winery httpstcobsiifmdgz</td>\n      <td>bachelorette laurita winery httpstcobsiifmdgz</td>\n    </tr>\n    <tr>\n      <th>4310</th>\n      <td>This #job might be a great fit for you: Sr. In...</td>\n      <td>This job might be a great fit for you Sr Infor...</td>\n      <td>this job might be a great fit for you sr infor...</td>\n      <td>job might great fit sr information architect s...</td>\n    </tr>\n    <tr>\n      <th>4311</th>\n      <td>I'm at @PiazzaAvym in Canik, Samsun w/ @mertar...</td>\n      <td>Im at PiazzaAvym in Canik Samsun w mertarmann ...</td>\n      <td>im at piazzaavym in canik samsun w mertarmann ...</td>\n      <td>piazzaavym canik samsun w mertarmann debeabcbc...</td>\n    </tr>\n  </tbody>\n</table>\n<p>4312 rows × 4 columns</p>\n</div>"
     },
     "metadata": {},
     "execution_count": 9
    }
   ],
   "execution_count": 9
  },
  {
   "cell_type": "markdown",
   "source": [
    "I will be using Lemmatizer instead of Stemmer because Stemmer could lead to mispelled words and this will cause duplicated tokens for a supposedly same word. However, I don't think this is scalable as we increase the scope of the languages as there might not be Lemmatizer / good Lemmatizers for specific languages. That introduces the need for language specific preprocessing.\n",
    "\n",
    "Considerations:\n",
    "1. Speed - while Lemmatizer is usually slower than Stemmer, it does a better job in getting the actual word / meaning of the tokens. So here is a tradeoff introduced.\n",
    "2. Preprocess all the data source fairly - I want to create a pipeline to preprocess all languages the same way. For this assignment purpose, the SpaCy Lemmatizer used supports all three languages just fine. However, when it comes to scaling to other languages, we need to consider preprocessing each language differently."
   ],
   "metadata": {
    "cell_id": "00011-56576c42-09dd-44ff-8bc7-3e0bece12498",
    "deepnote_cell_type": "markdown"
   }
  },
  {
   "cell_type": "code",
   "execution_count": 14,
   "metadata": {},
   "outputs": [
    {
     "output_type": "stream",
     "name": "stdout",
     "text": [
      "Collecting spacy\n",
      "  Downloading spacy-3.1.3-cp38-cp38-manylinux_2_17_x86_64.manylinux2014_x86_64.whl (6.1 MB)\n",
      "\u001b[K     |████████████████████████████████| 6.1 MB 1.4 MB/s \n",
      "\u001b[?25hRequirement already satisfied: numpy>=1.15.0 in /home/bingyuyap/.local/lib/python3.8/site-packages (from spacy) (1.19.5)\n",
      "Collecting pathy>=0.3.5\n",
      "  Downloading pathy-0.6.0-py3-none-any.whl (42 kB)\n",
      "\u001b[K     |████████████████████████████████| 42 kB 2.8 MB/s \n",
      "\u001b[?25hCollecting typer<0.5.0,>=0.3.0\n",
      "  Downloading typer-0.4.0-py3-none-any.whl (27 kB)\n",
      "Collecting spacy-legacy<3.1.0,>=3.0.8\n",
      "  Downloading spacy_legacy-3.0.8-py2.py3-none-any.whl (14 kB)\n",
      "Collecting wasabi<1.1.0,>=0.8.1\n",
      "  Downloading wasabi-0.8.2-py3-none-any.whl (23 kB)\n",
      "Collecting srsly<3.0.0,>=2.4.1\n",
      "  Downloading srsly-2.4.1-cp38-cp38-manylinux2014_x86_64.whl (458 kB)\n",
      "\u001b[K     |████████████████████████████████| 458 kB 16.4 MB/s \n",
      "\u001b[?25hCollecting thinc<8.1.0,>=8.0.9\n",
      "  Downloading thinc-8.0.10-cp38-cp38-manylinux_2_17_x86_64.manylinux2014_x86_64.whl (632 kB)\n",
      "\u001b[K     |████████████████████████████████| 632 kB 20.5 MB/s \n",
      "\u001b[?25hRequirement already satisfied: jinja2 in /usr/lib/python3/dist-packages (from spacy) (2.10.1)\n",
      "Collecting catalogue<2.1.0,>=2.0.6\n",
      "  Downloading catalogue-2.0.6-py3-none-any.whl (17 kB)\n",
      "Collecting blis<0.8.0,>=0.4.0\n",
      "  Downloading blis-0.7.4-cp38-cp38-manylinux2014_x86_64.whl (9.8 MB)\n",
      "\u001b[K     |████████████████████████████████| 9.8 MB 1.4 MB/s \n",
      "\u001b[?25hCollecting pydantic!=1.8,!=1.8.1,<1.9.0,>=1.7.4\n",
      "  Downloading pydantic-1.8.2-cp38-cp38-manylinux2014_x86_64.whl (13.7 MB)\n",
      "\u001b[K     |████████████████████████████████| 13.7 MB 180 kB/s \n",
      "\u001b[?25hRequirement already satisfied: setuptools in /usr/lib/python3/dist-packages (from spacy) (45.2.0)\n",
      "Requirement already satisfied: packaging>=20.0 in /home/bingyuyap/.local/lib/python3.8/site-packages (from spacy) (21.0)\n",
      "Collecting murmurhash<1.1.0,>=0.28.0\n",
      "  Downloading murmurhash-1.0.5-cp38-cp38-manylinux2014_x86_64.whl (20 kB)\n",
      "Requirement already satisfied: tqdm<5.0.0,>=4.38.0 in /home/bingyuyap/.local/lib/python3.8/site-packages (from spacy) (4.56.0)\n",
      "Requirement already satisfied: requests<3.0.0,>=2.13.0 in /usr/lib/python3/dist-packages (from spacy) (2.22.0)\n",
      "Collecting cymem<2.1.0,>=2.0.2\n",
      "  Downloading cymem-2.0.5-cp38-cp38-manylinux2014_x86_64.whl (35 kB)\n",
      "Collecting preshed<3.1.0,>=3.0.2\n",
      "  Downloading preshed-3.0.5-cp38-cp38-manylinux2014_x86_64.whl (130 kB)\n",
      "\u001b[K     |████████████████████████████████| 130 kB 8.4 MB/s \n",
      "\u001b[?25hCollecting smart-open<6.0.0,>=5.0.0\n",
      "  Downloading smart_open-5.2.1-py3-none-any.whl (58 kB)\n",
      "\u001b[K     |████████████████████████████████| 58 kB 5.2 MB/s \n",
      "\u001b[?25hCollecting click<9.0.0,>=7.1.1\n",
      "  Downloading click-8.0.1-py3-none-any.whl (97 kB)\n",
      "\u001b[K     |████████████████████████████████| 97 kB 6.8 MB/s \n",
      "\u001b[?25hRequirement already satisfied: typing-extensions>=3.7.4.3 in /home/bingyuyap/.local/lib/python3.8/site-packages (from pydantic!=1.8,!=1.8.1,<1.9.0,>=1.7.4->spacy) (3.7.4.3)\n",
      "Requirement already satisfied: pyparsing>=2.0.2 in /home/bingyuyap/.local/lib/python3.8/site-packages (from packaging>=20.0->spacy) (2.4.7)\n",
      "Installing collected packages: smart-open, click, typer, pathy, spacy-legacy, wasabi, catalogue, srsly, blis, pydantic, murmurhash, cymem, preshed, thinc, spacy\n",
      "\u001b[33m  WARNING: The script pathy is installed in '/home/bingyuyap/.local/bin' which is not on PATH.\n",
      "  Consider adding this directory to PATH or, if you prefer to suppress this warning, use --no-warn-script-location.\u001b[0m\n",
      "\u001b[33m  WARNING: The script spacy is installed in '/home/bingyuyap/.local/bin' which is not on PATH.\n",
      "  Consider adding this directory to PATH or, if you prefer to suppress this warning, use --no-warn-script-location.\u001b[0m\n",
      "Successfully installed blis-0.7.4 catalogue-2.0.6 click-8.0.1 cymem-2.0.5 murmurhash-1.0.5 pathy-0.6.0 preshed-3.0.5 pydantic-1.8.2 smart-open-5.2.1 spacy-3.1.3 spacy-legacy-3.0.8 srsly-2.4.1 thinc-8.0.10 typer-0.4.0 wasabi-0.8.2\n"
     ]
    }
   ],
   "source": [
    "!pip install spacy"
   ]
  },
  {
   "cell_type": "code",
   "metadata": {
    "cell_id": "00012-112bd723-3653-4fc8-874a-64eb30ca918b",
    "deepnote_to_be_reexecuted": false,
    "source_hash": "5c0dfb1b",
    "execution_start": 1633378628993,
    "execution_millis": 18050,
    "deepnote_cell_type": "code"
   },
   "source": [
    "!python -m spacy download en_core_web_sm"
   ],
   "outputs": [
    {
     "output_type": "stream",
     "name": "stdout",
     "text": [
      "2021-10-05 16:58:51.943967: W tensorflow/stream_executor/platform/default/dso_loader.cc:60] Could not load dynamic library 'libcudart.so.11.0'; dlerror: libcudart.so.11.0: cannot open shared object file: No such file or directory\n",
      "2021-10-05 16:58:51.944185: I tensorflow/stream_executor/cuda/cudart_stub.cc:29] Ignore above cudart dlerror if you do not have a GPU set up on your machine.\n",
      "Defaulting to user installation because normal site-packages is not writeable\n",
      "Collecting en-core-web-sm==3.1.0\n",
      "  Downloading https://github.com/explosion/spacy-models/releases/download/en_core_web_sm-3.1.0/en_core_web_sm-3.1.0-py3-none-any.whl (13.6 MB)\n",
      "\u001b[K     |████████████████████████████████| 13.6 MB 120 kB/s \n",
      "\u001b[?25hRequirement already satisfied: spacy<3.2.0,>=3.1.0 in /home/bingyuyap/.local/lib/python3.8/site-packages (from en-core-web-sm==3.1.0) (3.1.3)\n",
      "Requirement already satisfied: jinja2 in /usr/lib/python3/dist-packages (from spacy<3.2.0,>=3.1.0->en-core-web-sm==3.1.0) (2.10.1)\n",
      "Requirement already satisfied: spacy-legacy<3.1.0,>=3.0.8 in /home/bingyuyap/.local/lib/python3.8/site-packages (from spacy<3.2.0,>=3.1.0->en-core-web-sm==3.1.0) (3.0.8)\n",
      "Requirement already satisfied: tqdm<5.0.0,>=4.38.0 in /home/bingyuyap/.local/lib/python3.8/site-packages (from spacy<3.2.0,>=3.1.0->en-core-web-sm==3.1.0) (4.56.0)\n",
      "Requirement already satisfied: srsly<3.0.0,>=2.4.1 in /home/bingyuyap/.local/lib/python3.8/site-packages (from spacy<3.2.0,>=3.1.0->en-core-web-sm==3.1.0) (2.4.1)\n",
      "Requirement already satisfied: typer<0.5.0,>=0.3.0 in /home/bingyuyap/.local/lib/python3.8/site-packages (from spacy<3.2.0,>=3.1.0->en-core-web-sm==3.1.0) (0.4.0)\n",
      "Requirement already satisfied: numpy>=1.15.0 in /home/bingyuyap/.local/lib/python3.8/site-packages (from spacy<3.2.0,>=3.1.0->en-core-web-sm==3.1.0) (1.19.5)\n",
      "Requirement already satisfied: setuptools in /usr/lib/python3/dist-packages (from spacy<3.2.0,>=3.1.0->en-core-web-sm==3.1.0) (45.2.0)\n",
      "Requirement already satisfied: packaging>=20.0 in /home/bingyuyap/.local/lib/python3.8/site-packages (from spacy<3.2.0,>=3.1.0->en-core-web-sm==3.1.0) (21.0)\n",
      "Requirement already satisfied: pathy>=0.3.5 in /home/bingyuyap/.local/lib/python3.8/site-packages (from spacy<3.2.0,>=3.1.0->en-core-web-sm==3.1.0) (0.6.0)\n",
      "Requirement already satisfied: requests<3.0.0,>=2.13.0 in /usr/lib/python3/dist-packages (from spacy<3.2.0,>=3.1.0->en-core-web-sm==3.1.0) (2.22.0)\n",
      "Requirement already satisfied: blis<0.8.0,>=0.4.0 in /home/bingyuyap/.local/lib/python3.8/site-packages (from spacy<3.2.0,>=3.1.0->en-core-web-sm==3.1.0) (0.7.4)\n",
      "Requirement already satisfied: preshed<3.1.0,>=3.0.2 in /home/bingyuyap/.local/lib/python3.8/site-packages (from spacy<3.2.0,>=3.1.0->en-core-web-sm==3.1.0) (3.0.5)\n",
      "Requirement already satisfied: thinc<8.1.0,>=8.0.9 in /home/bingyuyap/.local/lib/python3.8/site-packages (from spacy<3.2.0,>=3.1.0->en-core-web-sm==3.1.0) (8.0.10)\n",
      "Requirement already satisfied: pydantic!=1.8,!=1.8.1,<1.9.0,>=1.7.4 in /home/bingyuyap/.local/lib/python3.8/site-packages (from spacy<3.2.0,>=3.1.0->en-core-web-sm==3.1.0) (1.8.2)\n",
      "Requirement already satisfied: catalogue<2.1.0,>=2.0.6 in /home/bingyuyap/.local/lib/python3.8/site-packages (from spacy<3.2.0,>=3.1.0->en-core-web-sm==3.1.0) (2.0.6)\n",
      "Requirement already satisfied: wasabi<1.1.0,>=0.8.1 in /home/bingyuyap/.local/lib/python3.8/site-packages (from spacy<3.2.0,>=3.1.0->en-core-web-sm==3.1.0) (0.8.2)\n",
      "Requirement already satisfied: murmurhash<1.1.0,>=0.28.0 in /home/bingyuyap/.local/lib/python3.8/site-packages (from spacy<3.2.0,>=3.1.0->en-core-web-sm==3.1.0) (1.0.5)\n",
      "Requirement already satisfied: cymem<2.1.0,>=2.0.2 in /home/bingyuyap/.local/lib/python3.8/site-packages (from spacy<3.2.0,>=3.1.0->en-core-web-sm==3.1.0) (2.0.5)\n",
      "Requirement already satisfied: pyparsing>=2.0.2 in /home/bingyuyap/.local/lib/python3.8/site-packages (from packaging>=20.0->spacy<3.2.0,>=3.1.0->en-core-web-sm==3.1.0) (2.4.7)\n",
      "Requirement already satisfied: smart-open<6.0.0,>=5.0.0 in /home/bingyuyap/.local/lib/python3.8/site-packages (from pathy>=0.3.5->spacy<3.2.0,>=3.1.0->en-core-web-sm==3.1.0) (5.2.1)\n",
      "Requirement already satisfied: typing-extensions>=3.7.4.3 in /home/bingyuyap/.local/lib/python3.8/site-packages (from pydantic!=1.8,!=1.8.1,<1.9.0,>=1.7.4->spacy<3.2.0,>=3.1.0->en-core-web-sm==3.1.0) (3.7.4.3)\n",
      "Requirement already satisfied: click<9.0.0,>=7.1.1 in /home/bingyuyap/.local/lib/python3.8/site-packages (from typer<0.5.0,>=0.3.0->spacy<3.2.0,>=3.1.0->en-core-web-sm==3.1.0) (8.0.1)\n",
      "Installing collected packages: en-core-web-sm\n",
      "Successfully installed en-core-web-sm-3.1.0\n",
      "\u001b[33mWARNING: You are using pip version 21.0.1; however, version 21.2.4 is available.\n",
      "You should consider upgrading via the '/usr/bin/python -m pip install --upgrade pip' command.\u001b[0m\n",
      "\u001b[38;5;2m✔ Download and installation successful\u001b[0m\n",
      "You can now load the package via spacy.load('en_core_web_sm')\n"
     ]
    }
   ],
   "execution_count": 16
  },
  {
   "cell_type": "code",
   "metadata": {
    "scrolled": false,
    "cell_id": "00013-44dc5c6a-b63d-436a-89ab-1b41689aa044",
    "deepnote_to_be_reexecuted": false,
    "source_hash": "c6b35254",
    "execution_start": 1633381050020,
    "execution_millis": 16680,
    "deepnote_cell_type": "code"
   },
   "source": [
    "import spacy\n",
    "\n",
    "nlp = spacy.load(\"en_core_web_sm\", disable=['parser', 'ner'])\n",
    "df_eng_clean_tweets['lemmatized'] = df_eng_clean_tweets['stopwords_removed'].apply(lambda x: \" \".join([token.lemma_ for token in nlp(x)]))\n",
    "df_eng_clean_tweets.sample(5)"
   ],
   "outputs": [
    {
     "output_type": "stream",
     "name": "stderr",
     "text": [
      "2021-10-05 17:58:42.676630: W tensorflow/stream_executor/platform/default/dso_loader.cc:60] Could not load dynamic library 'libcudart.so.11.0'; dlerror: libcudart.so.11.0: cannot open shared object file: No such file or directory\n2021-10-05 17:58:42.676724: I tensorflow/stream_executor/cuda/cudart_stub.cc:29] Ignore above cudart dlerror if you do not have a GPU set up on your machine.\n"
     ]
    },
    {
     "output_type": "execute_result",
     "data": {
      "text/plain": [
       "                                                  Tweet  \\\n",
       "4305  Nemenin big boss motong rambut di big boys bar...   \n",
       "2971  Support production (at Telemecanique Sensor Pl...   \n",
       "1572  I still can't get over how awesome the @FLAGAL...   \n",
       "3350  My stop. @ Seneca Ave M Train Station https://...   \n",
       "1326  @ChavarryAlex can't see the haters http://t.co...   \n",
       "\n",
       "                                           clean_tweets  \\\n",
       "4305  Nemenin big boss motong rambut di big boys bar...   \n",
       "2971  Support production at Telemecanique Sensor Pla...   \n",
       "1572  I still cant get over how awesome the FLAGALin...   \n",
       "3350  My stop  Seneca Ave M Train Station httpstcoWb...   \n",
       "1326  ChavarryAlex cant see the haters httptcoJjFjgzeSL   \n",
       "\n",
       "                                              lowercase  \\\n",
       "4305  nemenin big boss motong rambut di big boys bar...   \n",
       "2971  support production at telemecanique sensor pla...   \n",
       "1572  i still cant get over how awesome the flagalin...   \n",
       "3350  my stop  seneca ave m train station httpstcowb...   \n",
       "1326  chavarryalex cant see the haters httptcojjfjgzesl   \n",
       "\n",
       "                                      stopwords_removed  \\\n",
       "4305  nemenin big boss motong rambut di big boys bar...   \n",
       "2971  support production telemecanique sensor plant ...   \n",
       "1572  still get awesome flagaline concert cusa last ...   \n",
       "3350    stop seneca ave train station httpstcowbgtdfhoz   \n",
       "1326           chavarryalex see haters httptcojjfjgzesl   \n",
       "\n",
       "                                             lemmatized  \n",
       "4305  nemenin big boss motong rambut di big boy barb...  \n",
       "2971  support production telemecanique sensor plant ...  \n",
       "1572  still get awesome flagaline concert cusa last ...  \n",
       "3350    stop seneca ave train station httpstcowbgtdfhoz  \n",
       "1326            chavarryalex see hater httptcojjfjgzesl  "
      ],
      "text/html": "<div>\n<style scoped>\n    .dataframe tbody tr th:only-of-type {\n        vertical-align: middle;\n    }\n\n    .dataframe tbody tr th {\n        vertical-align: top;\n    }\n\n    .dataframe thead th {\n        text-align: right;\n    }\n</style>\n<table border=\"1\" class=\"dataframe\">\n  <thead>\n    <tr style=\"text-align: right;\">\n      <th></th>\n      <th>Tweet</th>\n      <th>clean_tweets</th>\n      <th>lowercase</th>\n      <th>stopwords_removed</th>\n      <th>lemmatized</th>\n    </tr>\n  </thead>\n  <tbody>\n    <tr>\n      <th>4305</th>\n      <td>Nemenin big boss motong rambut di big boys bar...</td>\n      <td>Nemenin big boss motong rambut di big boys bar...</td>\n      <td>nemenin big boss motong rambut di big boys bar...</td>\n      <td>nemenin big boss motong rambut di big boys bar...</td>\n      <td>nemenin big boss motong rambut di big boy barb...</td>\n    </tr>\n    <tr>\n      <th>2971</th>\n      <td>Support production (at Telemecanique Sensor Pl...</td>\n      <td>Support production at Telemecanique Sensor Pla...</td>\n      <td>support production at telemecanique sensor pla...</td>\n      <td>support production telemecanique sensor plant ...</td>\n      <td>support production telemecanique sensor plant ...</td>\n    </tr>\n    <tr>\n      <th>1572</th>\n      <td>I still can't get over how awesome the @FLAGAL...</td>\n      <td>I still cant get over how awesome the FLAGALin...</td>\n      <td>i still cant get over how awesome the flagalin...</td>\n      <td>still get awesome flagaline concert cusa last ...</td>\n      <td>still get awesome flagaline concert cusa last ...</td>\n    </tr>\n    <tr>\n      <th>3350</th>\n      <td>My stop. @ Seneca Ave M Train Station https://...</td>\n      <td>My stop  Seneca Ave M Train Station httpstcoWb...</td>\n      <td>my stop  seneca ave m train station httpstcowb...</td>\n      <td>stop seneca ave train station httpstcowbgtdfhoz</td>\n      <td>stop seneca ave train station httpstcowbgtdfhoz</td>\n    </tr>\n    <tr>\n      <th>1326</th>\n      <td>@ChavarryAlex can't see the haters http://t.co...</td>\n      <td>ChavarryAlex cant see the haters httptcoJjFjgzeSL</td>\n      <td>chavarryalex cant see the haters httptcojjfjgzesl</td>\n      <td>chavarryalex see haters httptcojjfjgzesl</td>\n      <td>chavarryalex see hater httptcojjfjgzesl</td>\n    </tr>\n  </tbody>\n</table>\n</div>"
     },
     "metadata": {},
     "execution_count": 10
    }
   ],
   "execution_count": 10
  },
  {
   "cell_type": "markdown",
   "source": [
    "After we lemmatized the tweets, we can now vectorize the tokens."
   ],
   "metadata": {
    "cell_id": "00014-733984bd-aa66-48fd-b50c-3f60cf838e75",
    "deepnote_cell_type": "markdown"
   }
  },
  {
   "cell_type": "code",
   "metadata": {
    "cell_id": "00015-f98b0ea3-2608-4a35-91ef-b84382930220",
    "deepnote_to_be_reexecuted": false,
    "source_hash": "bbfb281a",
    "execution_start": 1633381092351,
    "execution_millis": 219,
    "deepnote_cell_type": "code"
   },
   "source": [
    "from sklearn.feature_extraction.text import TfidfVectorizer, CountVectorizer\n",
    "\n",
    "# Use tf (raw term count) features for LDA.\n",
    "print(\"Extracting tf features for LDA...\")\n",
    "tf_vectorizer = CountVectorizer(max_df=0.95, min_df=5,  max_features=1000, stop_words='english')\n",
    "tf = tf_vectorizer.fit_transform(df_eng_clean_tweets['lemmatized'])\n",
    "tf_feature_names = tf_vectorizer.get_feature_names()"
   ],
   "outputs": [
    {
     "output_type": "stream",
     "name": "stdout",
     "text": [
      "Extracting tf features for LDA...\n"
     ]
    }
   ],
   "execution_count": 13
  },
  {
   "cell_type": "markdown",
   "source": [
    "Now we could use the decomposition library provided LatentDirichletAllocation"
   ],
   "metadata": {
    "tags": [],
    "cell_id": "00016-4cbb7aba-09b9-4d01-bc74-82708b72db07",
    "deepnote_cell_type": "markdown"
   }
  },
  {
   "cell_type": "code",
   "metadata": {
    "cell_id": "00016-f7cc931b-0e50-4135-926c-58bc44885e4d",
    "deepnote_to_be_reexecuted": false,
    "source_hash": "b553039f",
    "execution_start": 1633381094703,
    "execution_millis": 4338,
    "deepnote_cell_type": "code"
   },
   "source": [
    "from sklearn.decomposition import NMF, LatentDirichletAllocation\n",
    "\n",
    "no_topics = 20\n",
    "\n",
    "# Run LDA\n",
    "lda = LatentDirichletAllocation(max_iter=5, learning_method='online', learning_offset=50.,random_state=0).fit(tf)\n"
   ],
   "outputs": [],
   "execution_count": 14
  },
  {
   "cell_type": "code",
   "metadata": {
    "tags": [],
    "cell_id": "00017-5385369b-8ea6-47eb-8ed3-4783384f353e",
    "deepnote_to_be_reexecuted": false,
    "source_hash": "22dbefd4",
    "execution_start": 1633381099052,
    "execution_millis": 5,
    "deepnote_cell_type": "code"
   },
   "source": [
    "def display_topics(model, feature_names, no_top_words):\n",
    "    topic_dict = {}\n",
    "    for topic_idx, topic in enumerate(model.components_):\n",
    "        topic_dict[\"Topic %d words\" % (topic_idx)]= ['{}'.format(feature_names[i])\n",
    "                        for i in topic.argsort()[:-no_top_words - 1:-1]]\n",
    "        topic_dict[\"Topic %d weights\" % (topic_idx)]= ['{:.1f}'.format(topic[i])\n",
    "                        for i in topic.argsort()[:-no_top_words - 1:-1]]\n",
    "    return pd.DataFrame(topic_dict)"
   ],
   "outputs": [],
   "execution_count": 15
  },
  {
   "cell_type": "code",
   "metadata": {
    "tags": [],
    "cell_id": "00021-202fa0a9-94a9-431e-a08d-806e1a38837e",
    "deepnote_to_be_reexecuted": false,
    "source_hash": "4868a3ee",
    "execution_start": 1633379458588,
    "execution_millis": 25906,
    "deepnote_cell_type": "code"
   },
   "source": [
    "!pip install pyLDAvis==3.3.1"
   ],
   "outputs": [
    {
     "name": "stdout",
     "text": "Collecting pyLDAvis==3.3.1\n  Using cached pyLDAvis-3.3.1.tar.gz (1.7 MB)\n  Installing build dependencies ... \u001b[?25ldone\n\u001b[?25h  Getting requirements to build wheel ... \u001b[?25ldone\n\u001b[?25h  Installing backend dependencies ... \u001b[?25ldone\n\u001b[?25h    Preparing wheel metadata ... \u001b[?25ldone\n\u001b[?25hCollecting numexpr\n  Downloading numexpr-2.7.3-cp37-cp37m-manylinux2010_x86_64.whl (471 kB)\n\u001b[K     |████████████████████████████████| 471 kB 22.2 MB/s \n\u001b[?25hCollecting funcy\n  Downloading funcy-1.16-py2.py3-none-any.whl (32 kB)\nRequirement already satisfied: setuptools in /root/venv/lib/python3.7/site-packages (from pyLDAvis==3.3.1) (58.0.4)\nRequirement already satisfied: future in /shared-libs/python3.7/py/lib/python3.7/site-packages (from pyLDAvis==3.3.1) (0.18.2)\nRequirement already satisfied: scipy in /shared-libs/python3.7/py/lib/python3.7/site-packages (from pyLDAvis==3.3.1) (1.7.1)\nRequirement already satisfied: scikit-learn in /shared-libs/python3.7/py/lib/python3.7/site-packages (from pyLDAvis==3.3.1) (0.24.2)\nCollecting sklearn\n  Downloading sklearn-0.0.tar.gz (1.1 kB)\nCollecting gensim\n  Downloading gensim-4.1.2-cp37-cp37m-manylinux_2_12_x86_64.manylinux2010_x86_64.whl (24.1 MB)\n\u001b[K     |████████████████████████████████| 24.1 MB 44.4 MB/s \n\u001b[?25hRequirement already satisfied: jinja2 in /shared-libs/python3.7/py-core/lib/python3.7/site-packages (from pyLDAvis==3.3.1) (3.0.1)\nRequirement already satisfied: pandas>=1.2.0 in /shared-libs/python3.7/py/lib/python3.7/site-packages (from pyLDAvis==3.3.1) (1.2.5)\nCollecting numpy>=1.20.0\n  Downloading numpy-1.21.2-cp37-cp37m-manylinux_2_12_x86_64.manylinux2010_x86_64.whl (15.7 MB)\n\u001b[K     |████████████████████████████████| 15.7 MB 35.9 MB/s \n\u001b[?25hRequirement already satisfied: joblib in /shared-libs/python3.7/py/lib/python3.7/site-packages (from pyLDAvis==3.3.1) (1.0.1)\nRequirement already satisfied: pytz>=2017.3 in /shared-libs/python3.7/py/lib/python3.7/site-packages (from pandas>=1.2.0->pyLDAvis==3.3.1) (2021.1)\nRequirement already satisfied: python-dateutil>=2.7.3 in /shared-libs/python3.7/py-core/lib/python3.7/site-packages (from pandas>=1.2.0->pyLDAvis==3.3.1) (2.8.2)\nRequirement already satisfied: six>=1.5 in /shared-libs/python3.7/py-core/lib/python3.7/site-packages (from python-dateutil>=2.7.3->pandas>=1.2.0->pyLDAvis==3.3.1) (1.16.0)\nRequirement already satisfied: smart-open>=1.8.1 in /shared-libs/python3.7/py/lib/python3.7/site-packages (from gensim->pyLDAvis==3.3.1) (5.2.1)\nRequirement already satisfied: MarkupSafe>=2.0 in /shared-libs/python3.7/py-core/lib/python3.7/site-packages (from jinja2->pyLDAvis==3.3.1) (2.0.1)\nRequirement already satisfied: threadpoolctl>=2.0.0 in /shared-libs/python3.7/py/lib/python3.7/site-packages (from scikit-learn->pyLDAvis==3.3.1) (2.2.0)\nBuilding wheels for collected packages: pyLDAvis, sklearn\n  Building wheel for pyLDAvis (PEP 517) ... \u001b[?25ldone\n\u001b[?25h  Created wheel for pyLDAvis: filename=pyLDAvis-3.3.1-py2.py3-none-any.whl size=136897 sha256=0b5bcc40d4a23ec7c1cb92ac6edced1e897081eff54a2035922fe941a2d1a8e8\n  Stored in directory: /root/.cache/pip/wheels/c9/21/f6/17bcf2667e8a68532ba2fbf6d5c72fdf4c7f7d9abfa4852d2f\n  Building wheel for sklearn (setup.py) ... \u001b[?25ldone\n\u001b[?25h  Created wheel for sklearn: filename=sklearn-0.0-py2.py3-none-any.whl size=1309 sha256=0dca57c25dbe4f0a4fef33304e88449711b4006ee03ca29849da64873fbc36fc\n  Stored in directory: /root/.cache/pip/wheels/46/ef/c3/157e41f5ee1372d1be90b09f74f82b10e391eaacca8f22d33e\nSuccessfully built pyLDAvis sklearn\nInstalling collected packages: numpy, sklearn, numexpr, gensim, funcy, pyLDAvis\n  Attempting uninstall: numpy\n    Found existing installation: numpy 1.19.5\n    Not uninstalling numpy at /shared-libs/python3.7/py/lib/python3.7/site-packages, outside environment /root/venv\n    Can't uninstall 'numpy'. No files were found to uninstall.\n\u001b[31mERROR: pip's dependency resolver does not currently take into account all the packages that are installed. This behaviour is the source of the following dependency conflicts.\ntensorflow 2.4.1 requires numpy~=1.19.2, but you have numpy 1.21.2 which is incompatible.\ntensorflow 2.4.1 requires six~=1.15.0, but you have six 1.16.0 which is incompatible.\ntensorflow 2.4.1 requires typing-extensions~=3.7.4, but you have typing-extensions 3.10.0.2 which is incompatible.\u001b[0m\nSuccessfully installed funcy-1.16 gensim-4.1.2 numexpr-2.7.3 numpy-1.21.2 pyLDAvis-3.3.1 sklearn-0.0\n",
     "output_type": "stream"
    }
   ],
   "execution_count": 29
  },
  {
   "cell_type": "code",
   "execution_count": 22,
   "metadata": {},
   "outputs": [
    {
     "output_type": "stream",
     "name": "stdout",
     "text": [
      "Collecting gensim\n",
      "  Downloading gensim-4.1.2-cp38-cp38-manylinux_2_12_x86_64.manylinux2010_x86_64.whl (24.1 MB)\n",
      "\u001b[K     |████████████████████████████████| 24.1 MB 891 kB/s \n",
      "\u001b[?25hRequirement already satisfied: smart-open>=1.8.1 in /home/bingyuyap/.local/lib/python3.8/site-packages (from gensim) (5.2.1)\n",
      "Requirement already satisfied: numpy>=1.17.0 in /home/bingyuyap/.local/lib/python3.8/site-packages (from gensim) (1.19.5)\n",
      "Requirement already satisfied: scipy>=0.18.1 in /home/bingyuyap/.local/lib/python3.8/site-packages (from gensim) (1.6.0)\n",
      "Installing collected packages: gensim\n",
      "Successfully installed gensim-4.1.2\n"
     ]
    }
   ],
   "source": [
    "!pip install gensim"
   ]
  },
  {
   "cell_type": "code",
   "metadata": {
    "tags": [],
    "cell_id": "00022-ca372178-5801-4991-9619-a83c6e5bc914",
    "deepnote_to_be_reexecuted": false,
    "source_hash": "9e358812",
    "execution_start": 1633384603645,
    "execution_millis": 334,
    "deepnote_cell_type": "code"
   },
   "source": [
    "import gensim\n",
    "from gensim.utils import simple_preprocess\n",
    "\n",
    "def sent_to_words(sentences):\n",
    "    for sentence in sentences:\n",
    "        # deacc=True removes punctuations\n",
    "        yield(gensim.utils.simple_preprocess(str(sentence), deacc=True))\n",
    "\n",
    "data_words = list(sent_to_words(df_eng_clean_tweets['lemmatized']))"
   ],
   "outputs": [],
   "execution_count": 16
  },
  {
   "cell_type": "code",
   "metadata": {
    "tags": [],
    "cell_id": "00022-fd259b3a-6577-4f83-a029-1b67616d7b1f",
    "deepnote_to_be_reexecuted": false,
    "source_hash": "ed1efe99",
    "execution_start": 1633384609720,
    "execution_millis": 258,
    "deepnote_cell_type": "code"
   },
   "source": [
    "import gensim.corpora as corpora\n",
    "# Create Dictionary\n",
    "id2word = corpora.Dictionary(data_words)\n",
    "# Create Corpus\n",
    "texts = data_words\n",
    "# Term Document Frequency\n",
    "corpus = [id2word.doc2bow(text) for text in texts]\n",
    "# View\n",
    "corpus[:1][0][:30]"
   ],
   "outputs": [
    {
     "output_type": "stream",
     "name": "stdout",
     "text": [
      "[(0, 1), (1, 1), (2, 1), (3, 1), (4, 2), (5, 1), (6, 1)]\n"
     ]
    }
   ],
   "execution_count": 25
  },
  {
   "cell_type": "code",
   "metadata": {
    "tags": [],
    "cell_id": "00027-86f54362-7d86-4ded-8347-f80ddb26bf3b",
    "deepnote_to_be_reexecuted": false,
    "source_hash": "54248bb7",
    "execution_start": 1633390550264,
    "execution_millis": 231685,
    "deepnote_cell_type": "code"
   },
   "source": [
    "# Parameters tuning using Grid Search\n",
    "from sklearn.model_selection import GridSearchCV\n",
    "from sklearn.decomposition import LatentDirichletAllocation\n",
    "from sklearn.manifold import TSNE\n",
    "grid_params = {'n_components' : list(range(4,10))}\n",
    "\n",
    "# LDA model\n",
    "sk_lda = LatentDirichletAllocation()\n",
    "sk_lda_model = GridSearchCV(sk_lda,param_grid=grid_params)\n",
    "sk_lda_model.fit(tf)\n",
    "\n",
    "# Estimators for LDA model\n",
    "sk_lda_model1 = sk_lda_model.best_estimator_\n",
    "print(\"Best LDA model's params\" , sk_lda_model.best_params_)\n",
    "print(\"Best log likelihood Score for the LDA model\",sk_lda_model.best_score_)\n",
    "print(\"LDA model Perplexity on train data\", sk_lda_model1.perplexity(tf))"
   ],
   "outputs": [
    {
     "output_type": "stream",
     "name": "stdout",
     "text": [
      "Best LDA model's params {'n_components': 4}\n",
      "Best log likelihood Score for the LDA model -19668.792277155753\n",
      "LDA model Perplexity on train data 627.2515882793513\n"
     ]
    }
   ],
   "execution_count": 17
  },
  {
   "cell_type": "code",
   "source": [
    "topic_count = sk_lda_model.best_estimator_.n_components"
   ],
   "metadata": {
    "tags": [],
    "cell_id": "00026-6ff7ef96-bb79-449b-b380-62899a3e31d5",
    "deepnote_to_be_reexecuted": false,
    "source_hash": "d56577a5",
    "execution_start": 1633390781965,
    "execution_millis": 49,
    "deepnote_cell_type": "code"
   },
   "outputs": [],
   "execution_count": 19
  },
  {
   "cell_type": "markdown",
   "source": [
    "With a high perplexity, it seems like this model will be able to predict the topics very well."
   ],
   "metadata": {
    "tags": [],
    "cell_id": "00028-69576659-718e-4f76-b7d6-9b989b0767e0",
    "deepnote_to_be_reexecuted": false,
    "source_hash": "ebc1367a",
    "execution_start": 1633383119212,
    "execution_millis": 26,
    "deepnote_cell_type": "markdown"
   }
  },
  {
   "cell_type": "code",
   "execution_count": 30,
   "metadata": {},
   "outputs": [
    {
     "output_type": "stream",
     "name": "stdout",
     "text": [
      "Collecting pyLDAvis\n",
      "  Downloading pyLDAvis-3.3.1.tar.gz (1.7 MB)\n",
      "\u001b[K     |████████████████████████████████| 1.7 MB 9.6 MB/s \n",
      "\u001b[?25h  Installing build dependencies ... \u001b[?25ldone\n",
      "\u001b[?25h  Getting requirements to build wheel ... \u001b[?25ldone\n",
      "\u001b[?25h  Installing backend dependencies ... \u001b[?25ldone\n",
      "\u001b[?25h    Preparing wheel metadata ... \u001b[?25ldone\n",
      "\u001b[?25hRequirement already satisfied: scipy in /home/bingyuyap/.local/lib/python3.8/site-packages (from pyLDAvis) (1.6.0)\n",
      "Requirement already satisfied: setuptools in /usr/lib/python3/dist-packages (from pyLDAvis) (45.2.0)\n",
      "Requirement already satisfied: scikit-learn in /home/bingyuyap/.local/lib/python3.8/site-packages (from pyLDAvis) (0.24.0)\n",
      "Requirement already satisfied: gensim in /home/bingyuyap/.local/lib/python3.8/site-packages (from pyLDAvis) (4.1.2)\n",
      "Collecting numpy>=1.20.0\n",
      "  Downloading numpy-1.21.2-cp38-cp38-manylinux_2_12_x86_64.manylinux2010_x86_64.whl (15.8 MB)\n",
      "\u001b[K     |████████████████████████████████| 15.8 MB 1.5 MB/s \n",
      "\u001b[?25hCollecting future\n",
      "  Downloading future-0.18.2.tar.gz (829 kB)\n",
      "\u001b[K     |████████████████████████████████| 829 kB 25.6 MB/s \n",
      "\u001b[?25hRequirement already satisfied: pandas>=1.2.0 in /home/bingyuyap/.local/lib/python3.8/site-packages (from pyLDAvis) (1.2.0)\n",
      "Requirement already satisfied: jinja2 in /usr/lib/python3/dist-packages (from pyLDAvis) (2.10.1)\n",
      "Collecting numexpr\n",
      "  Downloading numexpr-2.7.3-cp38-cp38-manylinux2010_x86_64.whl (473 kB)\n",
      "\u001b[K     |████████████████████████████████| 473 kB 14.6 MB/s \n",
      "\u001b[?25hRequirement already satisfied: joblib in /home/bingyuyap/.local/lib/python3.8/site-packages (from pyLDAvis) (1.0.0)\n",
      "Collecting funcy\n",
      "  Downloading funcy-1.16-py2.py3-none-any.whl (32 kB)\n",
      "Requirement already satisfied: sklearn in /home/bingyuyap/.local/lib/python3.8/site-packages (from pyLDAvis) (0.0)\n",
      "Requirement already satisfied: threadpoolctl>=2.0.0 in /home/bingyuyap/.local/lib/python3.8/site-packages (from scikit-learn->pyLDAvis) (2.1.0)\n",
      "Requirement already satisfied: smart-open>=1.8.1 in /home/bingyuyap/.local/lib/python3.8/site-packages (from gensim->pyLDAvis) (5.2.1)\n",
      "Requirement already satisfied: python-dateutil>=2.7.3 in /home/bingyuyap/.local/lib/python3.8/site-packages (from pandas>=1.2.0->pyLDAvis) (2.8.1)\n",
      "Requirement already satisfied: pytz>=2017.3 in /home/bingyuyap/.local/lib/python3.8/site-packages (from pandas>=1.2.0->pyLDAvis) (2020.5)\n",
      "Requirement already satisfied: six>=1.5 in /home/bingyuyap/.local/lib/python3.8/site-packages (from python-dateutil>=2.7.3->pandas>=1.2.0->pyLDAvis) (1.15.0)\n",
      "Building wheels for collected packages: pyLDAvis, future\n",
      "  Building wheel for pyLDAvis (PEP 517) ... \u001b[?25ldone\n",
      "\u001b[?25h  Created wheel for pyLDAvis: filename=pyLDAvis-3.3.1-py2.py3-none-any.whl size=136897 sha256=3ce0177db526eb7ae28548909f401ea6db001b2b7630d929868556dd91327a7a\n",
      "  Stored in directory: /home/bingyuyap/.cache/pip/wheels/90/61/ec/9dbe9efc3acf9c4e37ba70fbbcc3f3a0ebd121060aa593181a\n",
      "  Building wheel for future (setup.py) ... \u001b[?25ldone\n",
      "\u001b[?25h  Created wheel for future: filename=future-0.18.2-py3-none-any.whl size=491059 sha256=dba5462b6178e8ef1f737ffd4f4a60eb1cd6df94f0efa6c4ad3b2d67ffb6bfdc\n",
      "  Stored in directory: /home/bingyuyap/.cache/pip/wheels/8e/70/28/3d6ccd6e315f65f245da085482a2e1c7d14b90b30f239e2cf4\n",
      "Successfully built pyLDAvis future\n",
      "\u001b[31mERROR: tensorflow 2.4.1 has requirement numpy~=1.19.2, but you'll have numpy 1.21.2 which is incompatible.\u001b[0m\n",
      "Installing collected packages: numpy, future, numexpr, funcy, pyLDAvis\n",
      "  Attempting uninstall: numpy\n",
      "    Found existing installation: numpy 1.19.5\n",
      "    Uninstalling numpy-1.19.5:\n",
      "      Successfully uninstalled numpy-1.19.5\n",
      "\u001b[33m  WARNING: The scripts f2py, f2py3 and f2py3.8 are installed in '/home/bingyuyap/.local/bin' which is not on PATH.\n",
      "  Consider adding this directory to PATH or, if you prefer to suppress this warning, use --no-warn-script-location.\u001b[0m\n",
      "\u001b[33m  WARNING: The scripts futurize and pasteurize are installed in '/home/bingyuyap/.local/bin' which is not on PATH.\n",
      "  Consider adding this directory to PATH or, if you prefer to suppress this warning, use --no-warn-script-location.\u001b[0m\n",
      "Successfully installed funcy-1.16 future-0.18.2 numexpr-2.7.3 numpy-1.21.2 pyLDAvis-3.3.1\n"
     ]
    }
   ],
   "source": [
    "!pip install pyLDAvis"
   ]
  },
  {
   "cell_type": "code",
   "metadata": {
    "tags": [],
    "cell_id": "00028-95294eaa-180b-47ef-94d1-0b509f3aba83",
    "deepnote_to_be_reexecuted": false,
    "source_hash": "cd90fc8b",
    "execution_start": 1633390781966,
    "execution_millis": 5194,
    "deepnote_cell_type": "code"
   },
   "source": [
    "import pyLDAvis.sklearn\n",
    "pyLDAvis.enable_notebook()\n",
    "pyLDAvis.sklearn.prepare(sk_lda_model1, tf, tf_vectorizer,mds='tsne')"
   ],
   "outputs": [
    {
     "output_type": "execute_result",
     "data": {
      "text/plain": [
       "PreparedData(topic_coordinates=                x           y  topics  cluster       Freq\n",
       "topic                                                    \n",
       "1      269.562408 -124.803398       1        1  30.914655\n",
       "3        1.782994 -295.079681       2        1  26.520241\n",
       "2      220.811432 -343.832123       3        1  22.338010\n",
       "0       50.533993  -76.050934       4        1  20.227094, topic_info=      Term        Freq       Total Category  logprob  loglift\n",
       "362    job  394.000000  394.000000  Default  30.0000  30.0000\n",
       "315   hire  227.000000  227.000000  Default  29.0000  29.0000\n",
       "492     nt  186.000000  186.000000  Default  28.0000  28.0000\n",
       "175    day  143.000000  143.000000  Default  27.0000  27.0000\n",
       "19     amp  145.000000  145.000000  Default  26.0000  26.0000\n",
       "..     ...         ...         ...      ...      ...      ...\n",
       "130   city   46.946863   63.226817   Topic4  -4.0260   1.3004\n",
       "321   home   35.557454   45.397473   Topic4  -4.3039   1.3538\n",
       "291   haha   21.286653   31.618591   Topic4  -4.8169   1.2025\n",
       "281  great   26.999348   77.438225   Topic4  -4.5792   0.5445\n",
       "486  night   18.339154   60.529067   Topic4  -4.9660   0.4041\n",
       "\n",
       "[183 rows x 6 columns], token_table=      Topic      Freq     Term\n",
       "term                          \n",
       "9         2  0.956317       ai\n",
       "10        3  0.941114  airport\n",
       "19        2  0.997273      amp\n",
       "29        1  0.990514    apply\n",
       "46        3  0.033847     baby\n",
       "...     ...       ...      ...\n",
       "818       1  0.984034     work\n",
       "818       3  0.010814     work\n",
       "819       3  0.961328    world\n",
       "830       4  0.987696     year\n",
       "835       4  0.936378     york\n",
       "\n",
       "[194 rows x 3 columns], R=30, lambda_step=0.01, plot_opts={'xlab': 'PC1', 'ylab': 'PC2'}, topic_order=[2, 4, 3, 1])"
      ],
      "text/html": "\n<link rel=\"stylesheet\" type=\"text/css\" href=\"https://cdn.jsdelivr.net/gh/bmabey/pyLDAvis@3.3.1/pyLDAvis/js/ldavis.v1.0.0.css\">\n\n\n<div id=\"ldavis_el80951398144576565929169107862\"></div>\n<script type=\"text/javascript\">\n\nvar ldavis_el80951398144576565929169107862_data = {\"mdsDat\": {\"x\": [269.5624084472656, 1.782994270324707, 220.81143188476562, 50.533992767333984], \"y\": [-124.80339813232422, -295.0796813964844, -343.8321228027344, -76.05093383789062], \"topics\": [1, 2, 3, 4], \"cluster\": [1, 1, 1, 1], \"Freq\": [30.914655481437038, 26.5202412356076, 22.33800965788618, 20.22709362506919]}, \"tinfo\": {\"Term\": [\"job\", \"hire\", \"nt\", \"day\", \"amp\", \"love\", \"like\", \"good\", \"careerarc\", \"make\", \"pic\", \"work\", \"photo\", \"late\", \"post\", \"happy\", \"new\", \"today\", \"people\", \"look\", \"think\", \"life\", \"morning\", \"city\", \"click\", \"say\", \"thank\", \"want\", \"know\", \"watch\", \"job\", \"hire\", \"careerarc\", \"late\", \"work\", \"click\", \"retail\", \"t\\u00fcrkiye\", \"need\", \"team\", \"ca\", \"apply\", \"hospitality\", \"open\", \"fit\", \"veteran\", \"view\", \"opening\", \"recommend\", \"come\", \"la\", \"manager\", \"stanbul\", \"drink\", \"check\", \"school\", \"pa\", \"nursing\", \"tx\", \"hiring\", \"gt\", \"join\", \"great\", \"want\", \"thing\", \"time\", \"amp\", \"like\", \"nt\", \"pic\", \"people\", \"life\", \"big\", \"sta\", \"na\", \"trend\", \"gon\", \"fuck\", \"little\", \"miss\", \"stop\", \"happen\", \"run\", \"nice\", \"trndnl\", \"boy\", \"pm\", \"ai\", \"wo\", \"eat\", \"dinner\", \"sure\", \"nigga\", \"stay\", \"sound\", \"hour\", \"really\", \"beach\", \"party\", \"say\", \"shop\", \"know\", \"friend\", \"place\", \"time\", \"night\", \"want\", \"feel\", \"girl\", \"man\", \"day\", \"love\", \"make\", \"happy\", \"look\", \"wind\", \"think\", \"ve\", \"fall\", \"birthday\", \"mph\", \"humidity\", \"temperature\", \"km\", \"sleep\", \"selangor\", \"hard\", \"wait\", \"university\", \"tomorrow\", \"world\", \"class\", \"mm\", \"way\", \"rise\", \"kmh\", \"leave\", \"san\", \"pressure\", \"rain\", \"weather\", \"today\", \"airport\", \"bad\", \"right\", \"photo\", \"post\", \"morning\", \"thank\", \"year\", \"ill\", \"kuala\", \"lumpur\", \"hope\", \"follow\", \"watch\", \"beautiful\", \"weekend\", \"family\", \"hotel\", \"live\", \"tonight\", \"traffic\", \"king\", \"baby\", \"hair\", \"johor\", \"shit\", \"york\", \"bitch\", \"high\", \"black\", \"house\", \"win\", \"good\", \"new\", \"starbuck\", \"coffee\", \"city\", \"home\", \"haha\", \"great\", \"night\"], \"Freq\": [394.0, 227.0, 186.0, 143.0, 145.0, 120.0, 118.0, 107.0, 113.0, 76.0, 79.0, 92.0, 59.0, 83.0, 58.0, 62.0, 68.0, 86.0, 60.0, 49.0, 46.0, 53.0, 42.0, 63.0, 57.0, 76.0, 41.0, 113.0, 79.0, 39.0, 393.75328136441846, 227.11171277719401, 113.01811806960013, 82.40821972863009, 91.43844214672798, 57.24122046308918, 50.11510260922626, 47.062111706971635, 44.971726004917436, 40.850632843706535, 39.197472675859196, 37.61908966798401, 37.42437912661238, 45.895142122739784, 42.56105985787251, 34.513310802712006, 33.821470629714796, 29.202638862145676, 42.77926644165077, 51.98330051285293, 28.11242750508354, 26.338240073551965, 24.744883836443726, 25.83645074662488, 24.338414496610937, 31.60475409324798, 23.3423613568204, 20.716852047686274, 21.082299008922607, 20.124258884683222, 39.997532323213406, 24.54747360264363, 49.87825840555879, 53.53144668963223, 27.846972189513334, 29.69065357511375, 144.5189082200938, 117.68482405644262, 185.16978208455353, 78.87531163728711, 59.44964069426372, 52.76979120104325, 40.068871681288385, 32.58874709252117, 30.748284462005966, 32.19076256515567, 29.613481576811946, 29.85844807691534, 26.478696636996556, 29.878181610837462, 37.116858896626084, 22.471581122533518, 22.23382289153903, 19.89289665109019, 19.17778724313598, 19.649944836590535, 17.59064591126867, 17.068263693535016, 17.946521924227717, 16.354138468174405, 15.948553333495786, 15.556086908105083, 21.295388492141754, 14.276457643526511, 13.72311855712682, 14.441115344869988, 36.6582458177708, 44.554620846182026, 22.131379899679825, 64.94767626604177, 18.22918916012834, 60.60433359423141, 26.035366974399796, 19.45757404931061, 51.67198026890368, 41.08287801880257, 59.37177489627031, 30.300435845212423, 31.12139031108035, 28.076355034504086, 142.28893137464394, 119.70493276336074, 75.32573302963807, 61.612225067073425, 48.504980317339545, 39.84229165026617, 45.81739132816148, 35.96572298234086, 31.63780111824401, 30.801930192095696, 29.91489226114163, 29.22651892704406, 26.859267133966352, 26.068889632523135, 26.756208446324706, 24.12939982659588, 27.30697250187269, 22.768744604382967, 24.627030501382798, 21.148691141247244, 20.061623759374278, 20.335354628994487, 18.878165131339387, 30.63449619755284, 18.633704008199356, 18.648678266007447, 19.189310351357395, 22.736865803055565, 18.81771960899626, 32.08311569520571, 22.576151330793188, 64.98320356071322, 19.311308446128592, 28.73764285883772, 24.96917193992241, 59.13130440068352, 58.024538592273245, 41.98807637378839, 40.330179042218894, 34.690742072580534, 34.37460247831024, 30.870926149083786, 30.86977980387612, 33.57424975609862, 28.934049132631564, 38.5812001231117, 25.764312664947884, 24.225909759643763, 23.088770837151507, 19.997806531020398, 20.283388129734007, 29.33632958564057, 17.46742655827734, 19.132166075157727, 28.336496905733103, 16.468478107388925, 15.822408499114346, 31.46796332055431, 15.299284021576856, 17.581080398148302, 18.49134912417181, 14.771981573411612, 31.508466166277813, 14.015254431029385, 101.74074681931866, 62.527320198692145, 18.198735163250493, 22.48420594116253, 46.9468631233906, 35.55745416426812, 21.286653133000915, 26.999348457916543, 18.33915440906897], \"Total\": [394.0, 227.0, 186.0, 143.0, 145.0, 120.0, 118.0, 107.0, 113.0, 76.0, 79.0, 92.0, 59.0, 83.0, 58.0, 62.0, 68.0, 86.0, 60.0, 49.0, 46.0, 53.0, 42.0, 63.0, 57.0, 76.0, 41.0, 113.0, 79.0, 39.0, 394.66129263205585, 227.99769359294655, 113.82728564700469, 83.31348257834742, 92.47645861523964, 57.99059536661286, 50.92543650101823, 47.824517150216955, 45.804488924529174, 41.62048622634855, 39.96403037535435, 38.36390972879601, 38.17212740501744, 46.898926811319754, 43.497933756709614, 35.27359992930464, 34.62387877095817, 29.959238150839006, 43.90208970639075, 53.36947428305414, 28.878258959229235, 27.129472247510435, 25.49410751238886, 26.644519986811382, 25.116017237636594, 32.63321002074528, 24.113572166194704, 21.46422082837554, 21.872445743292356, 20.878948917830172, 41.82664485618387, 25.607749556051807, 77.4382248187672, 113.43960763876767, 39.98578024091281, 82.03933809392358, 145.39654556160758, 118.44212823652653, 186.60723930912596, 79.60597592059976, 60.16837882407225, 53.77979305956227, 40.83626660961778, 33.287407652089335, 31.455019845713764, 32.93532651623848, 30.322105668750787, 30.573412073368008, 27.236132684209327, 30.74648045276361, 38.251075024788236, 23.18692802787161, 23.007170413336645, 20.60602257259512, 19.884345685139674, 20.42659524716165, 18.30784844854377, 17.77653651665, 18.70756096655155, 17.060238541957016, 16.661455935793626, 16.263783261868586, 22.3480078808018, 15.002614084750775, 14.438429530737434, 15.19870212616662, 38.92565478990654, 47.744550445391795, 23.46794605628828, 76.22555343501989, 19.31312155630936, 79.84869509668606, 30.26669254549984, 21.093712781177427, 82.03933809392358, 60.52906681299804, 113.43960763876767, 44.42990404338246, 48.44353082004776, 41.083054791489126, 143.1047213980144, 120.7149465480554, 76.18067397831022, 62.351840959120004, 49.274708255686214, 40.54472695544056, 46.68008037267408, 36.68993592506016, 32.3462401609782, 31.525674527418108, 30.61895370421633, 29.927451327280608, 27.564417125311703, 26.80719485096693, 27.5159588667872, 24.83435912368997, 28.131844990983222, 23.505763493602988, 25.44573970144594, 21.877572781438687, 20.804553378097697, 21.089734779756395, 19.5864468031328, 31.788600561119186, 19.34006385888792, 19.355821343198212, 19.92057254513103, 23.61164373126085, 19.55253105827483, 33.36477829014181, 24.02322848847145, 86.71372795538574, 20.18883295724391, 36.1576520782905, 38.84445661716929, 59.904967558004465, 58.94401197876549, 42.73201867558038, 41.06979892187946, 35.43601453727318, 35.11752879524724, 31.587596331603756, 31.586549302098806, 34.35656608508825, 29.689884365645778, 39.62031294124101, 26.522614637424816, 24.971170728326832, 23.82902855576989, 20.732858835457126, 21.03824686731265, 30.489764819271166, 18.191788586133555, 19.945333727073116, 29.545058249304397, 17.210511787007135, 16.536983107822458, 32.92044522234567, 16.019165729904053, 18.422076717701696, 19.38609885460004, 15.501358590132135, 33.07592892994916, 14.760938098581624, 107.29397073373187, 68.7268706265177, 19.413457265434257, 25.27763727385712, 63.22681738138357, 45.39747326749927, 31.618590986322086, 77.4382248187672, 60.52906681299804], \"Category\": [\"Default\", \"Default\", \"Default\", \"Default\", \"Default\", \"Default\", \"Default\", \"Default\", \"Default\", \"Default\", \"Default\", \"Default\", \"Default\", \"Default\", \"Default\", \"Default\", \"Default\", \"Default\", \"Default\", \"Default\", \"Default\", \"Default\", \"Default\", \"Default\", \"Default\", \"Default\", \"Default\", \"Default\", \"Default\", \"Default\", \"Topic1\", \"Topic1\", \"Topic1\", \"Topic1\", \"Topic1\", \"Topic1\", \"Topic1\", \"Topic1\", \"Topic1\", \"Topic1\", \"Topic1\", \"Topic1\", \"Topic1\", \"Topic1\", \"Topic1\", \"Topic1\", \"Topic1\", \"Topic1\", \"Topic1\", \"Topic1\", \"Topic1\", \"Topic1\", \"Topic1\", \"Topic1\", \"Topic1\", \"Topic1\", \"Topic1\", \"Topic1\", \"Topic1\", \"Topic1\", \"Topic1\", \"Topic1\", \"Topic1\", \"Topic1\", \"Topic1\", \"Topic1\", \"Topic2\", \"Topic2\", \"Topic2\", \"Topic2\", \"Topic2\", \"Topic2\", \"Topic2\", \"Topic2\", \"Topic2\", \"Topic2\", \"Topic2\", \"Topic2\", \"Topic2\", \"Topic2\", \"Topic2\", \"Topic2\", \"Topic2\", \"Topic2\", \"Topic2\", \"Topic2\", \"Topic2\", \"Topic2\", \"Topic2\", \"Topic2\", \"Topic2\", \"Topic2\", \"Topic2\", \"Topic2\", \"Topic2\", \"Topic2\", \"Topic2\", \"Topic2\", \"Topic2\", \"Topic2\", \"Topic2\", \"Topic2\", \"Topic2\", \"Topic2\", \"Topic2\", \"Topic2\", \"Topic2\", \"Topic2\", \"Topic2\", \"Topic2\", \"Topic3\", \"Topic3\", \"Topic3\", \"Topic3\", \"Topic3\", \"Topic3\", \"Topic3\", \"Topic3\", \"Topic3\", \"Topic3\", \"Topic3\", \"Topic3\", \"Topic3\", \"Topic3\", \"Topic3\", \"Topic3\", \"Topic3\", \"Topic3\", \"Topic3\", \"Topic3\", \"Topic3\", \"Topic3\", \"Topic3\", \"Topic3\", \"Topic3\", \"Topic3\", \"Topic3\", \"Topic3\", \"Topic3\", \"Topic3\", \"Topic3\", \"Topic3\", \"Topic3\", \"Topic3\", \"Topic3\", \"Topic4\", \"Topic4\", \"Topic4\", \"Topic4\", \"Topic4\", \"Topic4\", \"Topic4\", \"Topic4\", \"Topic4\", \"Topic4\", \"Topic4\", \"Topic4\", \"Topic4\", \"Topic4\", \"Topic4\", \"Topic4\", \"Topic4\", \"Topic4\", \"Topic4\", \"Topic4\", \"Topic4\", \"Topic4\", \"Topic4\", \"Topic4\", \"Topic4\", \"Topic4\", \"Topic4\", \"Topic4\", \"Topic4\", \"Topic4\", \"Topic4\", \"Topic4\", \"Topic4\", \"Topic4\", \"Topic4\", \"Topic4\", \"Topic4\", \"Topic4\"], \"logprob\": [30.0, 29.0, 28.0, 27.0, 26.0, 25.0, 24.0, 23.0, 22.0, 21.0, 20.0, 19.0, 18.0, 17.0, 16.0, 15.0, 14.0, 13.0, 12.0, 11.0, 10.0, 9.0, 8.0, 7.0, 6.0, 5.0, 4.0, 3.0, 2.0, 1.0, -2.3235, -2.8738, -3.5717, -3.8875, -3.7836, -4.252, -4.3849, -4.4478, -4.4932, -4.5893, -4.6306, -4.6717, -4.6769, -4.4729, -4.5483, -4.7579, -4.7781, -4.925, -4.5432, -4.3483, -4.963, -5.0282, -5.0906, -5.0474, -5.1072, -4.8459, -5.149, -5.2683, -5.2508, -5.2973, -4.6104, -5.0986, -4.3896, -4.319, -4.9725, -4.9084, -3.1725, -3.3779, -2.9246, -3.778, -4.0608, -4.18, -4.4553, -4.6619, -4.7201, -4.6742, -4.7577, -4.7494, -4.8696, -4.7488, -4.5318, -5.0337, -5.0443, -5.1555, -5.1922, -5.1678, -5.2785, -5.3087, -5.2585, -5.3514, -5.3765, -5.4015, -5.0874, -5.4873, -5.5268, -5.4758, -4.5443, -4.3492, -5.0489, -3.9723, -5.2429, -4.0415, -4.8864, -5.1777, -4.201, -4.4303, -4.0621, -4.7347, -4.708, -4.811, -3.0164, -3.1893, -3.6525, -3.8534, -4.0926, -4.2894, -4.1496, -4.3917, -4.5199, -4.5467, -4.5759, -4.5992, -4.6837, -4.7135, -4.6875, -4.7909, -4.6671, -4.8489, -4.7704, -4.9227, -4.9755, -4.9619, -5.0363, -4.5522, -5.0493, -5.0485, -5.0199, -4.8503, -5.0395, -4.506, -4.8574, -3.8002, -5.0136, -4.6161, -4.7566, -3.7953, -3.8142, -4.1376, -4.1779, -4.3285, -4.3377, -4.4452, -4.4452, -4.3613, -4.51, -4.2223, -4.626, -4.6876, -4.7357, -4.8794, -4.8652, -4.4962, -5.0147, -4.9236, -4.5309, -5.0736, -5.1136, -4.426, -5.1472, -5.0082, -4.9577, -5.1823, -4.4248, -5.2349, -3.2526, -3.7394, -4.9737, -4.7622, -4.026, -4.3039, -4.8169, -4.5792, -4.966], \"loglift\": [30.0, 29.0, 28.0, 27.0, 26.0, 25.0, 24.0, 23.0, 22.0, 21.0, 20.0, 19.0, 18.0, 17.0, 16.0, 15.0, 14.0, 13.0, 12.0, 11.0, 10.0, 9.0, 8.0, 7.0, 6.0, 5.0, 4.0, 3.0, 2.0, 1.0, 1.1716, 1.17, 1.1668, 1.163, 1.1627, 1.1609, 1.1579, 1.1579, 1.1556, 1.1553, 1.1546, 1.1543, 1.1542, 1.1523, 1.1522, 1.1522, 1.1505, 1.1484, 1.148, 1.1476, 1.1471, 1.1443, 1.1441, 1.1431, 1.1425, 1.1419, 1.1414, 1.1385, 1.1371, 1.1371, 1.1292, 1.1317, 0.734, 0.4229, 0.8121, 0.1576, 1.3212, 1.3208, 1.3195, 1.318, 1.3152, 1.3083, 1.3083, 1.306, 1.3045, 1.3044, 1.3036, 1.3036, 1.2991, 1.2986, 1.2972, 1.2959, 1.2931, 1.292, 1.2911, 1.2885, 1.2873, 1.2866, 1.2857, 1.285, 1.2835, 1.2828, 1.279, 1.2776, 1.2765, 1.2761, 1.2672, 1.2581, 1.2686, 1.1671, 1.2695, 1.0515, 1.1767, 1.2465, 0.865, 0.9397, 0.6798, 0.9445, 0.8848, 0.9466, 1.4932, 1.4905, 1.4876, 1.4869, 1.4831, 1.4814, 1.4802, 1.4789, 1.4767, 1.4757, 1.4756, 1.4752, 1.473, 1.471, 1.4709, 1.4701, 1.4691, 1.467, 1.4662, 1.465, 1.4625, 1.4625, 1.462, 1.4619, 1.4617, 1.4617, 1.4615, 1.4611, 1.4606, 1.4597, 1.4368, 1.2104, 1.4544, 1.2692, 1.057, 1.5851, 1.5824, 1.5806, 1.58, 1.5769, 1.5768, 1.5752, 1.5752, 1.5751, 1.5724, 1.5716, 1.5691, 1.5678, 1.5666, 1.562, 1.5616, 1.5596, 1.5575, 1.5565, 1.5564, 1.5541, 1.554, 1.553, 1.5522, 1.5514, 1.5509, 1.55, 1.5496, 1.5463, 1.545, 1.5036, 1.5335, 1.481, 1.3004, 1.3538, 1.2025, 0.5445, 0.4041]}, \"token.table\": {\"Topic\": [2, 3, 2, 1, 3, 4, 1, 3, 1, 2, 4, 2, 3, 4, 4, 2, 1, 1, 1, 1, 4, 3, 1, 2, 4, 1, 2, 3, 2, 1, 2, 3, 4, 2, 3, 4, 1, 4, 2, 4, 2, 2, 3, 2, 2, 4, 1, 4, 1, 3, 3, 4, 4, 2, 3, 3, 4, 1, 1, 1, 4, 4, 1, 4, 2, 2, 4, 3, 4, 1, 4, 1, 2, 4, 3, 3, 2, 3, 4, 1, 1, 3, 2, 2, 2, 4, 3, 3, 4, 3, 1, 2, 1, 2, 3, 4, 3, 2, 1, 1, 3, 4, 2, 2, 4, 2, 3, 4, 2, 3, 4, 1, 1, 1, 1, 2, 4, 2, 4, 2, 1, 2, 2, 4, 3, 3, 4, 1, 2, 1, 4, 1, 2, 3, 3, 2, 3, 1, 2, 4, 1, 3, 2, 4, 1, 2, 3, 2, 2, 1, 1, 4, 2, 2, 3, 2, 1, 3, 4, 1, 2, 3, 1, 2, 2, 3, 3, 2, 4, 4, 2, 2, 1, 1, 3, 3, 1, 1, 3, 1, 2, 4, 3, 1, 3, 4, 4, 3, 2, 1, 3, 3, 4, 4], \"Freq\": [0.95631677093439, 0.9411143298990273, 0.9972726617398241, 0.9905142689739243, 0.033846607834105175, 0.947705019354945, 0.193596641309652, 0.802043228282844, 0.0628343962193397, 0.9425159432900956, 0.9802955083965448, 0.9795214724790532, 0.9833255105466205, 0.9770885376187732, 0.9676571193926647, 0.979115694906574, 0.9758775487281968, 0.9927320972093614, 0.9555655171328585, 0.2530571783091366, 0.7433554612830888, 0.9483286636301179, 0.98291799971443, 0.0791213189085698, 0.8703345079942677, 0.9743397456795078, 0.018737302801528997, 0.9922803287884412, 0.960300231963965, 0.9758104110289693, 0.937853240483741, 0.9892958143124191, 0.9652093011752612, 0.6752209046120662, 0.22507363487068874, 0.0900294539482755, 0.9885527032273618, 0.976763656026763, 0.8590301025100204, 0.1321584773092339, 0.9812447471681612, 0.6399203252784174, 0.3509240493462289, 0.9893771998465548, 0.04660094100169287, 0.9506591964345344, 0.6456759580558267, 0.3486650173501464, 0.9563282003023532, 0.02390820500755883, 0.3162696277113015, 0.6641662181937332, 0.9296643933667913, 0.9488104665505981, 0.9943571680690121, 0.9597664144905533, 0.9285003720967234, 0.9956241066423779, 0.9579026261671837, 0.19824891898649422, 0.7929956759459769, 0.9896216029213989, 0.9692936316443455, 0.9646523018714719, 0.9211312836967249, 0.030233466824707473, 0.9674709383906391, 0.9690100130098556, 0.9681774648278075, 0.9983244046365795, 0.9675283511919143, 0.9762669673599577, 0.03905067869439831, 0.9526037648700783, 0.9698888729143619, 0.9816168305705482, 0.7639448575350816, 0.23795003759289426, 0.9813978776531388, 0.9695875377920402, 0.9842344535638367, 0.9537878470588419, 0.9855002592014693, 0.9962671370135835, 0.9546142362228247, 0.9506495539357043, 0.9944249643394995, 0.9940773982965665, 0.9814304089855161, 0.9845016601107207, 0.29209122984900215, 0.6815462029810051, 0.9583673343437751, 0.9757214340707893, 0.9700585405292091, 0.9828695507895887, 0.9797852758067596, 0.9855342693170874, 0.9824364610670646, 0.07275174839796636, 0.014550349679593273, 0.9166720298143761, 0.9705900267526109, 0.9396810718882995, 0.04474671770896665, 0.677360517165542, 0.016520988223549807, 0.2973777880238965, 0.9913870473885342, 0.005358848904802887, 0.005358848904802887, 0.9783723419504776, 0.9808326784334267, 0.9679818910611336, 0.9538196929712537, 0.9374488908075983, 0.042611313218527194, 0.9805815139628657, 0.9848932802254136, 0.9923878086589357, 0.047407491055454734, 0.9007423300536399, 0.9831848920199984, 0.9839845991632608, 0.9717412003270547, 0.9590952387492695, 0.029971726210914672, 0.05137999632362259, 0.950529931987018, 0.9794522376400814, 0.022777959014885614, 0.9818276176974992, 0.33466808734438536, 0.6435924756622795, 0.9824166113737189, 0.9562236296231884, 0.974095673379526, 0.02623792035442475, 0.8527324115188044, 0.11807064159491139, 0.9805961466756491, 0.9664030338155954, 0.030376259897032683, 0.9416640568080132, 0.051778268835744594, 0.9320088390434027, 0.9812487411656229, 0.969634541637366, 0.9913658745945843, 0.9806187562302877, 0.051510660173883824, 0.9271918831299089, 0.9331707075122415, 0.967293075450102, 0.026143056093246, 0.9837809409027823, 0.9850918073620261, 0.979523705408107, 0.9739516883461161, 0.7002489342786626, 0.2750977956094746, 0.985431036809607, 0.3656782306758033, 0.6338422665047256, 0.24217618703701116, 0.7495929598764631, 0.9598871049267753, 0.032797891552379124, 0.9511388550189946, 0.9344875529698065, 0.9716011160303109, 0.9555255325398724, 0.9601121084705441, 0.9827595300622243, 0.9824827375161505, 0.9811954993197762, 0.9922434928713546, 0.9819812570658182, 0.9784834262566868, 0.4760242134471704, 0.5201005295070935, 0.9843435628042372, 0.9751923473446727, 0.04162637842286235, 0.957406703725834, 0.9611083221170261, 0.9484492046847116, 0.9865647891515159, 0.9621778077956478, 0.984034221926873, 0.010813562878317286, 0.9613280149073182, 0.9876957230386458, 0.9363783515890901], \"Term\": [\"ai\", \"airport\", \"amp\", \"apply\", \"baby\", \"baby\", \"bad\", \"bad\", \"beach\", \"beach\", \"beautiful\", \"big\", \"birthday\", \"bitch\", \"black\", \"boy\", \"ca\", \"careerarc\", \"check\", \"city\", \"city\", \"class\", \"click\", \"coffee\", \"coffee\", \"come\", \"come\", \"day\", \"dinner\", \"drink\", \"eat\", \"fall\", \"family\", \"feel\", \"feel\", \"feel\", \"fit\", \"follow\", \"friend\", \"friend\", \"fuck\", \"girl\", \"girl\", \"gon\", \"good\", \"good\", \"great\", \"great\", \"gt\", \"gt\", \"haha\", \"haha\", \"hair\", \"happen\", \"happy\", \"hard\", \"high\", \"hire\", \"hiring\", \"home\", \"home\", \"hope\", \"hospitality\", \"hotel\", \"hour\", \"house\", \"house\", \"humidity\", \"ill\", \"job\", \"johor\", \"join\", \"join\", \"king\", \"km\", \"kmh\", \"know\", \"know\", \"kuala\", \"la\", \"late\", \"leave\", \"life\", \"like\", \"little\", \"live\", \"look\", \"love\", \"lumpur\", \"make\", \"man\", \"man\", \"manager\", \"miss\", \"mm\", \"morning\", \"mph\", \"na\", \"need\", \"new\", \"new\", \"new\", \"nice\", \"nigga\", \"nigga\", \"night\", \"night\", \"night\", \"nt\", \"nt\", \"nt\", \"nursing\", \"open\", \"opening\", \"pa\", \"party\", \"party\", \"people\", \"photo\", \"pic\", \"place\", \"place\", \"pm\", \"post\", \"pressure\", \"rain\", \"rain\", \"really\", \"really\", \"recommend\", \"recommend\", \"retail\", \"right\", \"right\", \"rise\", \"run\", \"san\", \"say\", \"say\", \"say\", \"school\", \"selangor\", \"shit\", \"shit\", \"shop\", \"shop\", \"sleep\", \"sound\", \"sta\", \"stanbul\", \"starbuck\", \"starbuck\", \"stay\", \"stop\", \"stop\", \"sure\", \"team\", \"temperature\", \"thank\", \"thing\", \"thing\", \"think\", \"time\", \"time\", \"today\", \"today\", \"tomorrow\", \"tonight\", \"tonight\", \"traffic\", \"trend\", \"trndnl\", \"tx\", \"t\\u00fcrkiye\", \"university\", \"ve\", \"veteran\", \"view\", \"wait\", \"want\", \"want\", \"watch\", \"way\", \"weather\", \"weather\", \"weekend\", \"win\", \"wind\", \"wo\", \"work\", \"work\", \"world\", \"year\", \"york\"]}, \"R\": 30, \"lambda.step\": 0.01, \"plot.opts\": {\"xlab\": \"PC1\", \"ylab\": \"PC2\"}, \"topic.order\": [2, 4, 3, 1]};\n\nfunction LDAvis_load_lib(url, callback){\n  var s = document.createElement('script');\n  s.src = url;\n  s.async = true;\n  s.onreadystatechange = s.onload = callback;\n  s.onerror = function(){console.warn(\"failed to load library \" + url);};\n  document.getElementsByTagName(\"head\")[0].appendChild(s);\n}\n\nif(typeof(LDAvis) !== \"undefined\"){\n   // already loaded: just create the visualization\n   !function(LDAvis){\n       new LDAvis(\"#\" + \"ldavis_el80951398144576565929169107862\", ldavis_el80951398144576565929169107862_data);\n   }(LDAvis);\n}else if(typeof define === \"function\" && define.amd){\n   // require.js is available: use it to load d3/LDAvis\n   require.config({paths: {d3: \"https://d3js.org/d3.v5\"}});\n   require([\"d3\"], function(d3){\n      window.d3 = d3;\n      LDAvis_load_lib(\"https://cdn.jsdelivr.net/gh/bmabey/pyLDAvis@3.3.1/pyLDAvis/js/ldavis.v3.0.0.js\", function(){\n        new LDAvis(\"#\" + \"ldavis_el80951398144576565929169107862\", ldavis_el80951398144576565929169107862_data);\n      });\n    });\n}else{\n    // require.js not available: dynamically load d3 & LDAvis\n    LDAvis_load_lib(\"https://d3js.org/d3.v5.js\", function(){\n         LDAvis_load_lib(\"https://cdn.jsdelivr.net/gh/bmabey/pyLDAvis@3.3.1/pyLDAvis/js/ldavis.v3.0.0.js\", function(){\n                 new LDAvis(\"#\" + \"ldavis_el80951398144576565929169107862\", ldavis_el80951398144576565929169107862_data);\n            })\n         });\n}\n</script>"
     },
     "metadata": {},
     "execution_count": 31
    }
   ],
   "execution_count": 31
  },
  {
   "cell_type": "markdown",
   "source": [
    "The Grid Search CV seems to have done a great job in find the optimal number of topics and LDA has produced 5 well separated topics from the looks of Intertopic Distance Map, since none of them are overlapping. \n",
    "\n",
    "Most of the topics are human-interpretable too. For example:\n",
    "1. Topic 1: This topic seems like it's talking about dating, meeting people in general.\n",
    "2. Topic 2: It's mostly about a job at company, hiring of the company and career related words.\n",
    "3. Topic 4: Seems like it is about a great day some one had.\n",
    "\n",
    "Topic 3 is uninterpretable, but it also shows that the data cleaning is not done as well as it could be. \n",
    "\n"
   ],
   "metadata": {
    "tags": [],
    "cell_id": "00029-8cbf9494-7ac8-4889-a209-d4fd5fa02ff9",
    "deepnote_cell_type": "markdown"
   }
  },
  {
   "cell_type": "markdown",
   "source": [
    "However, I could not find a way to use sklearn's LDA to predict which topic it is supposed to be, so I had to use gensim library to train the model again. We can use sklearn model's number of topic. This is not scalable at all as you need to do manual hyperparameter tuning for gensim LDA."
   ],
   "metadata": {
    "tags": [],
    "cell_id": "00033-1fa35a56-86f7-47e8-832d-eee890ebdf4d",
    "deepnote_cell_type": "markdown"
   }
  },
  {
   "cell_type": "code",
   "source": [
    "\n",
    "import gensim\n",
    " # This allows for seeing if the model converges. A log file is created.\n",
    "logging.basicConfig(filename='lda_model.log', format='%(asctime)s : %(levelname)s : %(message)s', level=logging.INFO)\n",
    "\n",
    "with warnings.catch_warnings():\n",
    "    warnings.simplefilter('ignore')\n",
    "    lda_train = gensim.models.ldamulticore.LdaMulticore(\n",
    "                           corpus=corpus,\n",
    "                           num_topics=topic_count,\n",
    "                           id2word=id2word,\n",
    "                           chunksize=100,\n",
    "                           workers=7, # Num. Processing Cores - 1\n",
    "                           passes=50,\n",
    "                           eval_every = 1,\n",
    "                           per_word_topics=True)\n",
    "    lda_train.save('lda_train.model')"
   ],
   "metadata": {
    "tags": [],
    "cell_id": "00034-7f7d062a-e9af-4044-9e4e-2676bc381377",
    "deepnote_to_be_reexecuted": false,
    "source_hash": "521aa37f",
    "execution_start": 1633390787116,
    "execution_millis": 75401,
    "deepnote_cell_type": "code"
   },
   "outputs": [],
   "execution_count": 32
  },
  {
   "cell_type": "code",
   "source": [
    "import pyLDAvis.sklearn\n",
    "import pyLDAvis.gensim_models as gensimvis\n",
    "\n",
    "pyLDAvis.enable_notebook()\n",
    "\n",
    "gensimvis.prepare(lda_train, corpus, id2word)\n"
   ],
   "metadata": {
    "tags": [],
    "cell_id": "00033-2180736d-e658-43f4-9790-b7cde5ca7b5c",
    "deepnote_to_be_reexecuted": false,
    "source_hash": "e012a908",
    "execution_start": 1633390862561,
    "execution_millis": 1996,
    "deepnote_cell_type": "code"
   },
   "outputs": [
    {
     "output_type": "execute_result",
     "data": {
      "text/plain": [
       "PreparedData(topic_coordinates=              x         y  topics  cluster       Freq\n",
       "topic                                                \n",
       "2     -0.211262 -0.033461       1        1  29.566455\n",
       "1      0.123206 -0.025443       2        1  28.394539\n",
       "3      0.071481 -0.089437       3        1  21.706782\n",
       "0      0.016575  0.148341       4        1  20.332224, topic_info=           Term        Freq       Total Category  logprob  loglift\n",
       "579         job  284.000000  284.000000  Default  30.0000  30.0000\n",
       "90           nt  161.000000  161.000000  Default  29.0000  29.0000\n",
       "2509       hire  156.000000  156.000000  Default  28.0000  28.0000\n",
       "84           do  122.000000  122.000000  Default  27.0000  27.0000\n",
       "6733  careerarc   79.000000   79.000000  Default  26.0000  26.0000\n",
       "...         ...         ...         ...      ...      ...      ...\n",
       "230          go   19.055860  115.713071   Topic4  -5.7288  -0.2108\n",
       "444       today   14.643190   64.308417   Topic4  -5.9922   0.1132\n",
       "189         one   14.353584   62.300120   Topic4  -6.0122   0.1250\n",
       "837        hope   12.207504   30.760358   Topic4  -6.1741   0.6688\n",
       "215        time   11.940385   67.425020   Topic4  -6.1962  -0.1381\n",
       "\n",
       "[244 rows x 6 columns], token_table=      Topic      Freq      Term\n",
       "term                           \n",
       "859       4  0.940448  actually\n",
       "143       2  0.957471        ai\n",
       "1261      2  0.925906   airport\n",
       "6413      1  0.962007     alert\n",
       "381       2  0.995623       all\n",
       "...     ...       ...       ...\n",
       "100       4  0.055683     would\n",
       "3403      3  0.959169       wow\n",
       "6552      4  0.944513        wp\n",
       "517       2  0.780198       you\n",
       "517       3  0.200622       you\n",
       "\n",
       "[309 rows x 3 columns], R=30, lambda_step=0.01, plot_opts={'xlab': 'PC1', 'ylab': 'PC2'}, topic_order=[3, 2, 4, 1])"
      ],
      "text/html": "\n<link rel=\"stylesheet\" type=\"text/css\" href=\"https://cdn.jsdelivr.net/gh/bmabey/pyLDAvis@3.3.1/pyLDAvis/js/ldavis.v1.0.0.css\">\n\n\n<div id=\"ldavis_el80951398144568392961283818167\"></div>\n<script type=\"text/javascript\">\n\nvar ldavis_el80951398144568392961283818167_data = {\"mdsDat\": {\"x\": [-0.21126152046745494, 0.1232057211421643, 0.0714811345056967, 0.016574664819593785], \"y\": [-0.03346106454078543, -0.02544269638573871, -0.08943681386518697, 0.148340574791711], \"topics\": [1, 2, 3, 4], \"cluster\": [1, 1, 1, 1], \"Freq\": [29.56645486662551, 28.394538753145525, 21.706782243969837, 20.33222413625913]}, \"tinfo\": {\"Term\": [\"job\", \"nt\", \"hire\", \"do\", \"careerarc\", \"get\", \"good\", \"late\", \"work\", \"love\", \"like\", \"know\", \"re\", \"click\", \"anyone\", \"photo\", \"go\", \"other\", \"day\", \"retail\", \"recommend\", \"post\", \"gt\", \"today\", \"wind\", \"night\", \"city\", \"turkiye\", \"feel\", \"happy\", \"job\", \"hire\", \"careerarc\", \"late\", \"click\", \"anyone\", \"retail\", \"recommend\", \"gt\", \"fit\", \"apply\", \"veteran\", \"hospitality\", \"trend\", \"might\", \"opening\", \"manager\", \"pa\", \"join\", \"near\", \"hiring\", \"nursing\", \"service\", \"ny\", \"alert\", \"sale\", \"trndnl\", \"il\", \"healthcare\", \"shopping\", \"city\", \"ca\", \"open\", \"great\", \"view\", \"la\", \"de\", \"want\", \"work\", \"cafe\", \"amp\", \"new\", \"see\", \"nt\", \"do\", \"re\", \"na\", \"gon\", \"long\", \"summer\", \"always\", \"photo\", \"beautiful\", \"be\", \"ai\", \"hair\", \"damn\", \"sure\", \"around\", \"mind\", \"all\", \"win\", \"traffic\", \"have\", \"sound\", \"airport\", \"hit\", \"face\", \"ask\", \"cry\", \"ur\", \"monday\", \"international\", \"post\", \"ill\", \"good\", \"home\", \"feel\", \"talk\", \"morning\", \"you\", \"know\", \"nigga\", \"right\", \"last\", \"like\", \"go\", \"one\", \"get\", \"say\", \"think\", \"well\", \"love\", \"want\", \"back\", \"day\", \"make\", \"time\", \"night\", \"see\", \"wind\", \"rain\", \"mph\", \"humidity\", \"temperature\", \"wish\", \"leave\", \"hurt\", \"ok\", \"star\", \"rise\", \"pressure\", \"mm\", \"hour\", \"sometimes\", \"shop\", \"kmh\", \"barometer\", \"spend\", \"hpa\", \"else\", \"catch\", \"current\", \"there\", \"ll\", \"wow\", \"reason\", \"mb\", \"anything\", \"wine\", \"let\", \"ever\", \"game\", \"we\", \"man\", \"would\", \"today\", \"love\", \"work\", \"thank\", \"need\", \"come\", \"happy\", \"take\", \"make\", \"much\", \"like\", \"day\", \"go\", \"call\", \"life\", \"please\", \"people\", \"hard\", \"amp\", \"ve\", \"know\", \"get\", \"kuala\", \"lumpur\", \"sta\", \"coffee\", \"bar\", \"fucking\", \"actually\", \"end\", \"room\", \"wp\", \"fitness\", \"break\", \"pain\", \"ass\", \"bay\", \"chicken\", \"samsun\", \"chill\", \"cinema\", \"floor\", \"mall\", \"drunk\", \"twitter\", \"brother\", \"coachella\", \"drop\", \"jack\", \"lady\", \"camp\", \"pink\", \"park\", \"school\", \"turkiye\", \"other\", \"girl\", \"get\", \"wanna\", \"next\", \"night\", \"live\", \"party\", \"day\", \"miss\", \"life\", \"house\", \"pic\", \"little\", \"amp\", \"shit\", \"really\", \"see\", \"go\", \"today\", \"one\", \"hope\", \"time\"], \"Freq\": [284.0, 161.0, 156.0, 122.0, 79.0, 175.0, 92.0, 58.0, 74.0, 97.0, 98.0, 68.0, 38.0, 39.0, 38.0, 38.0, 115.0, 46.0, 106.0, 35.0, 33.0, 38.0, 32.0, 64.0, 24.0, 48.0, 44.0, 36.0, 39.0, 45.0, 283.8689703055323, 156.29377483651675, 79.0556432313948, 58.27725993061817, 38.641828954060124, 37.86490096145402, 35.01467258316588, 33.184614431716234, 31.572332362795642, 28.32343328479032, 25.85870592240522, 25.28760881539064, 25.230000379321115, 23.611764565457413, 22.073144213554613, 21.49275529526549, 20.185189861696525, 19.010404847848786, 17.002049896587845, 15.422112539361516, 14.980751503820583, 14.15775442513552, 13.622502831841755, 13.360252274587676, 12.982012842933589, 12.832152121261407, 12.954412273668158, 12.64031849003113, 12.17153252070059, 12.236889755813571, 38.81738504661594, 25.465828216517675, 29.94952605739728, 44.42281209557359, 21.786451548727424, 20.204476026148903, 15.210717879120653, 42.95823053120165, 35.95973830212869, 18.46879465495578, 36.06396853026606, 23.41364576414886, 26.3837071514886, 161.17929032961945, 121.87477966589583, 38.192978458105216, 26.489846075907238, 25.70356664295277, 22.171408136800974, 20.915403427324065, 20.32316183865903, 37.493189648420575, 17.09562833929083, 16.08873682757687, 15.123540162049832, 14.25101025167243, 13.353558538961924, 13.334055265539268, 12.799505857711113, 12.667493302059441, 12.510101523413915, 12.05707591284763, 12.22698291136317, 10.571699518957901, 10.4983416334501, 11.290880105779141, 10.094931870179357, 9.955901719224038, 9.779607984732799, 8.890406044230831, 8.618095901209683, 8.493447818196058, 8.68900277434364, 35.674313568537514, 30.210864043284914, 80.33592154797032, 29.971305219573345, 34.31770680840669, 22.175126585588973, 28.099564652743716, 35.34999088455044, 50.22612650559716, 16.519487957884134, 26.06647085375454, 24.921670824663806, 57.63320025451598, 62.040288223594686, 38.61921065346817, 78.13501916774678, 36.67889701183411, 27.417943066968462, 29.251231709503934, 42.74142465871051, 38.907134088376196, 27.16917674653991, 37.09160861483311, 29.088771138161494, 27.73023558757785, 25.069674997207184, 25.632119441663303, 24.132554908935496, 21.536542194224253, 17.87477556725805, 16.773691862253287, 15.738574685075454, 14.892521729153293, 13.661487971131274, 12.813756529509353, 12.344507585976068, 13.538917718521382, 11.628123478435699, 11.43629164989991, 11.325722132937651, 11.451837312376982, 10.373335942320637, 10.636391222645798, 10.279805532142962, 9.55729101784761, 9.963079505952912, 9.300899413171626, 8.994654451982637, 8.748228856148975, 8.369478995103824, 8.625163217134642, 8.294288809531816, 7.794332465507828, 7.815955353552346, 7.541441348586768, 7.638132032621022, 7.081115916918221, 21.47128232053307, 15.508796986468752, 15.742242001487169, 20.704561126225947, 24.651584358039955, 24.044293078870954, 37.10096233179893, 47.75582636776453, 38.423748937017976, 20.363018426701554, 26.11239435764984, 27.54232721407456, 24.60704037816751, 25.068376252399236, 29.55722399301627, 20.17172205258822, 34.917855642209766, 33.67920896076653, 34.42362611072303, 15.340448659031818, 18.968096275901427, 16.78317851189837, 19.10322748790162, 15.364119387051174, 21.486326040020934, 16.252688152625236, 17.457686441056104, 16.360954851316254, 20.303839488115116, 20.303839488115116, 18.794630938342202, 15.017139992196938, 13.777394073659623, 13.421220386437591, 11.131806127957242, 10.737458886419601, 10.754463047872369, 7.920528714939952, 7.659568505619415, 7.402174400386207, 7.064619379452498, 6.680101783796599, 7.024402787318776, 6.416336321145979, 6.140518709549626, 6.140795754758094, 5.827879333189329, 5.676342086742063, 5.604324662464865, 5.239719861761969, 5.2409157280867005, 4.90892992998283, 4.957118054444945, 4.906380226974352, 4.884224457636532, 4.8690197252840886, 4.721587661039152, 4.716459595173045, 9.976206891284624, 21.42344195425295, 25.343942818156748, 30.245208285623526, 24.148745223239256, 80.85494260756396, 12.005593067919234, 16.22525499055361, 22.766007128754786, 10.8104118500584, 10.438471151538659, 35.40275558322548, 14.41346530671799, 17.80132150937902, 12.7150676336745, 19.651347526247434, 11.129886600441425, 22.416474338007664, 13.111966966541383, 12.765749165012831, 17.406047599385467, 19.05586000434288, 14.643190374727121, 14.353583963801901, 12.207504434703807, 11.940385087325055], \"Total\": [284.0, 161.0, 156.0, 122.0, 79.0, 175.0, 92.0, 58.0, 74.0, 97.0, 98.0, 68.0, 38.0, 39.0, 38.0, 38.0, 115.0, 46.0, 106.0, 35.0, 33.0, 38.0, 32.0, 64.0, 24.0, 48.0, 44.0, 36.0, 39.0, 45.0, 284.4008519329892, 156.82407393674282, 79.5855446886017, 58.81335759254754, 39.1718346410441, 38.40539151833577, 35.54432396321803, 33.722967228040055, 32.11478445535013, 28.85533203341243, 26.38902783309933, 25.818014310955025, 25.759709538269558, 24.14516902246225, 22.62253214889518, 22.02867301457112, 20.716520775685957, 19.543729978093292, 17.54042260948982, 15.956159760163033, 15.51064927838374, 14.687643311590838, 14.156941607400572, 13.900523859895253, 13.513410715687996, 13.362091805129399, 13.489782810953061, 13.169795548005917, 12.702424676082659, 12.787367293049803, 44.391168662745784, 29.023907918891613, 34.890849051169106, 57.50908758064002, 25.67202389492705, 23.655591477055673, 16.870962045451666, 91.56671285797644, 74.75314615260424, 23.67741899748047, 102.22018685180954, 54.89180125501543, 80.98398670407161, 161.72386241815465, 122.42143283925095, 38.742403926237444, 27.032691024421524, 26.245028024899877, 22.724257620608526, 21.479917853570267, 20.88348888444622, 38.56620562902204, 17.671756262269334, 16.639571995849877, 15.666275855778288, 14.813954747789346, 13.898534340134647, 13.883127245279233, 13.354050212773519, 13.219861781198222, 13.05715516427551, 12.616860832942187, 12.824562746540447, 11.114719316242228, 11.0449860500599, 11.8802585683133, 10.643176863120825, 10.501335760225507, 10.329255833493955, 9.4334512892074, 9.164712567191723, 9.052251629829177, 9.267289549036265, 38.55210631116009, 33.46575734537664, 92.1268159510715, 33.52028897761046, 39.0913634612401, 25.37979379533261, 33.532793755696915, 44.860401299155725, 68.05324828764896, 19.025613647780474, 34.41218526600671, 32.67111645432498, 98.50481228617001, 115.71307107170155, 62.300119830928175, 175.5457238898791, 64.92894677637891, 42.45097094435181, 49.61252892269531, 97.27291251634354, 91.56671285797644, 47.863140373194994, 106.3720118808971, 64.4488567924822, 67.42502049777482, 48.20969168743845, 80.98398670407161, 24.67918566241747, 22.092794733790623, 18.426057679536598, 17.317953866036472, 16.2922568273108, 15.448218427584536, 14.220603985488914, 13.365510585435448, 12.916770110573612, 14.172204567624295, 12.177445524059806, 11.984817143738365, 11.876227982317976, 12.015603382188285, 10.924308876563277, 11.205838585806445, 10.835262060440975, 10.101557017997278, 10.531778411237404, 9.845166452681024, 9.548525089108825, 9.301700576876895, 8.913765467292809, 9.19035200848997, 8.850527641634669, 8.340554049321831, 8.37277483975405, 8.088761123953574, 8.193939066860983, 7.655156669870481, 25.8440952027755, 18.763737386849773, 19.913900607896096, 28.731276915694433, 36.67535224597227, 35.917879648064776, 64.30841718146638, 97.27291251634354, 74.75314615260424, 30.8117815755764, 45.66875543816276, 51.108774626617425, 45.58853147006706, 47.75479430707282, 64.4488567924822, 34.158866925226214, 98.50481228617001, 106.3720118808971, 115.71307107170155, 21.97670975038433, 41.812822948838914, 29.903306951273652, 46.07849810124517, 23.48761291591676, 102.22018685180954, 30.49618876351478, 68.05324828764896, 175.5457238898791, 20.853277085106647, 20.853277085106647, 19.348621079130545, 15.582587764309446, 14.339540713239629, 13.985884797562845, 11.696559204544442, 11.31566492776352, 11.333807054518763, 8.469975669833952, 8.221244615609505, 7.957344453041044, 7.626728427909308, 7.24872184235381, 7.631789124437461, 6.986719196029641, 6.688546866601856, 6.698047814450972, 6.383549605579301, 6.22587253914663, 6.156132155936662, 5.798588183121083, 5.808214493378162, 5.462261622343806, 5.516254335492615, 5.464361244421103, 5.443201611814673, 5.430787427449535, 5.271756727355306, 5.26970454212519, 11.94111588788023, 28.066735471619808, 36.21454158436344, 46.011105776231176, 38.04244617926288, 175.5457238898791, 17.718688262171298, 28.64566231729025, 48.20969168743845, 16.47209550623946, 15.72415912747784, 106.3720118808971, 26.86478992516063, 41.812822948838914, 23.94903092923297, 53.78873131080077, 19.89905604824485, 102.22018685180954, 30.87177237577403, 32.8359609371665, 80.98398670407161, 115.71307107170155, 64.30841718146638, 62.300119830928175, 30.76035843931815, 67.42502049777482], \"Category\": [\"Default\", \"Default\", \"Default\", \"Default\", \"Default\", \"Default\", \"Default\", \"Default\", \"Default\", \"Default\", \"Default\", \"Default\", \"Default\", \"Default\", \"Default\", \"Default\", \"Default\", \"Default\", \"Default\", \"Default\", \"Default\", \"Default\", \"Default\", \"Default\", \"Default\", \"Default\", \"Default\", \"Default\", \"Default\", \"Default\", \"Topic1\", \"Topic1\", \"Topic1\", \"Topic1\", \"Topic1\", \"Topic1\", \"Topic1\", \"Topic1\", \"Topic1\", \"Topic1\", \"Topic1\", \"Topic1\", \"Topic1\", \"Topic1\", \"Topic1\", \"Topic1\", \"Topic1\", \"Topic1\", \"Topic1\", \"Topic1\", \"Topic1\", \"Topic1\", \"Topic1\", \"Topic1\", \"Topic1\", \"Topic1\", \"Topic1\", \"Topic1\", \"Topic1\", \"Topic1\", \"Topic1\", \"Topic1\", \"Topic1\", \"Topic1\", \"Topic1\", \"Topic1\", \"Topic1\", \"Topic1\", \"Topic1\", \"Topic1\", \"Topic1\", \"Topic1\", \"Topic1\", \"Topic2\", \"Topic2\", \"Topic2\", \"Topic2\", \"Topic2\", \"Topic2\", \"Topic2\", \"Topic2\", \"Topic2\", \"Topic2\", \"Topic2\", \"Topic2\", \"Topic2\", \"Topic2\", \"Topic2\", \"Topic2\", \"Topic2\", \"Topic2\", \"Topic2\", \"Topic2\", \"Topic2\", \"Topic2\", \"Topic2\", \"Topic2\", \"Topic2\", \"Topic2\", \"Topic2\", \"Topic2\", \"Topic2\", \"Topic2\", \"Topic2\", \"Topic2\", \"Topic2\", \"Topic2\", \"Topic2\", \"Topic2\", \"Topic2\", \"Topic2\", \"Topic2\", \"Topic2\", \"Topic2\", \"Topic2\", \"Topic2\", \"Topic2\", \"Topic2\", \"Topic2\", \"Topic2\", \"Topic2\", \"Topic2\", \"Topic2\", \"Topic2\", \"Topic2\", \"Topic2\", \"Topic2\", \"Topic2\", \"Topic2\", \"Topic2\", \"Topic3\", \"Topic3\", \"Topic3\", \"Topic3\", \"Topic3\", \"Topic3\", \"Topic3\", \"Topic3\", \"Topic3\", \"Topic3\", \"Topic3\", \"Topic3\", \"Topic3\", \"Topic3\", \"Topic3\", \"Topic3\", \"Topic3\", \"Topic3\", \"Topic3\", \"Topic3\", \"Topic3\", \"Topic3\", \"Topic3\", \"Topic3\", \"Topic3\", \"Topic3\", \"Topic3\", \"Topic3\", \"Topic3\", \"Topic3\", \"Topic3\", \"Topic3\", \"Topic3\", \"Topic3\", \"Topic3\", \"Topic3\", \"Topic3\", \"Topic3\", \"Topic3\", \"Topic3\", \"Topic3\", \"Topic3\", \"Topic3\", \"Topic3\", \"Topic3\", \"Topic3\", \"Topic3\", \"Topic3\", \"Topic3\", \"Topic3\", \"Topic3\", \"Topic3\", \"Topic3\", \"Topic3\", \"Topic3\", \"Topic3\", \"Topic3\", \"Topic3\", \"Topic4\", \"Topic4\", \"Topic4\", \"Topic4\", \"Topic4\", \"Topic4\", \"Topic4\", \"Topic4\", \"Topic4\", \"Topic4\", \"Topic4\", \"Topic4\", \"Topic4\", \"Topic4\", \"Topic4\", \"Topic4\", \"Topic4\", \"Topic4\", \"Topic4\", \"Topic4\", \"Topic4\", \"Topic4\", \"Topic4\", \"Topic4\", \"Topic4\", \"Topic4\", \"Topic4\", \"Topic4\", \"Topic4\", \"Topic4\", \"Topic4\", \"Topic4\", \"Topic4\", \"Topic4\", \"Topic4\", \"Topic4\", \"Topic4\", \"Topic4\", \"Topic4\", \"Topic4\", \"Topic4\", \"Topic4\", \"Topic4\", \"Topic4\", \"Topic4\", \"Topic4\", \"Topic4\", \"Topic4\", \"Topic4\", \"Topic4\", \"Topic4\", \"Topic4\", \"Topic4\", \"Topic4\", \"Topic4\", \"Topic4\"], \"logprob\": [30.0, 29.0, 28.0, 27.0, 26.0, 25.0, 24.0, 23.0, 22.0, 21.0, 20.0, 19.0, 18.0, 17.0, 16.0, 15.0, 14.0, 13.0, 12.0, 11.0, 10.0, 9.0, 8.0, 7.0, 6.0, 5.0, 4.0, 3.0, 2.0, 1.0, -3.4021, -3.9989, -4.6805, -4.9854, -5.3963, -5.4166, -5.4948, -5.5485, -5.5983, -5.7069, -5.798, -5.8203, -5.8226, -5.8889, -5.9562, -5.9829, -6.0457, -6.1056, -6.2173, -6.3148, -6.3438, -6.4003, -6.4389, -6.4583, -6.487, -6.4987, -6.4892, -6.5137, -6.5515, -6.5462, -5.3917, -5.8133, -5.6511, -5.2569, -5.9693, -6.0447, -6.3286, -5.2904, -5.4682, -6.1345, -5.4653, -5.8973, -5.7779, -3.9276, -4.2072, -5.3675, -5.7334, -5.7635, -5.9114, -5.9697, -5.9984, -5.386, -6.1713, -6.232, -6.2939, -6.3533, -6.4184, -6.4198, -6.4608, -6.4711, -6.4836, -6.5205, -6.5065, -6.652, -6.6589, -6.5862, -6.6981, -6.712, -6.7299, -6.8252, -6.8563, -6.8709, -6.8481, -5.4357, -5.602, -4.6239, -5.6099, -5.4745, -5.9112, -5.6744, -5.4449, -5.0936, -6.2056, -5.7495, -5.7944, -4.9561, -4.8824, -5.3564, -4.6517, -5.408, -5.699, -5.6342, -5.255, -5.349, -5.7081, -5.3968, -5.6398, -5.6876, -5.7885, -5.7663, -5.558, -5.6718, -5.8582, -5.9218, -5.9855, -6.0407, -6.127, -6.1911, -6.2284, -6.136, -6.2882, -6.3048, -6.3145, -6.3034, -6.4024, -6.3773, -6.4114, -6.4843, -6.4427, -6.5115, -6.545, -6.5727, -6.617, -6.5869, -6.626, -6.6882, -6.6854, -6.7212, -6.7084, -6.7842, -5.6749, -6.0002, -5.9852, -5.7112, -5.5368, -5.5617, -5.1279, -4.8755, -5.0929, -5.7279, -5.4792, -5.4259, -5.5386, -5.52, -5.3553, -5.7373, -5.1886, -5.2247, -5.2028, -6.0111, -5.7988, -5.9212, -5.7917, -6.0096, -5.6742, -5.9533, -5.8818, -5.9467, -5.6654, -5.6654, -5.7426, -5.967, -6.0531, -6.0793, -6.2664, -6.3024, -6.3009, -6.6067, -6.6402, -6.6744, -6.7211, -6.777, -6.7268, -6.8173, -6.8613, -6.8612, -6.9135, -6.9399, -6.9526, -7.0199, -7.0197, -7.0851, -7.0753, -7.0856, -7.0902, -7.0933, -7.124, -7.1251, -6.376, -5.6117, -5.4436, -5.2668, -5.4919, -4.2835, -6.1908, -5.8896, -5.5509, -6.2957, -6.3307, -5.1094, -6.008, -5.7969, -6.1334, -5.698, -6.2665, -5.5664, -6.1026, -6.1294, -5.8194, -5.7288, -5.9922, -6.0122, -6.1741, -6.1962], \"loglift\": [30.0, 29.0, 28.0, 27.0, 26.0, 25.0, 24.0, 23.0, 22.0, 21.0, 20.0, 19.0, 18.0, 17.0, 16.0, 15.0, 14.0, 13.0, 12.0, 11.0, 10.0, 9.0, 8.0, 7.0, 6.0, 5.0, 4.0, 3.0, 2.0, 1.0, 1.2167, 1.2151, 1.2118, 1.2094, 1.2049, 1.2044, 1.2035, 1.2024, 1.2015, 1.1999, 1.1982, 1.1978, 1.1978, 1.1962, 1.1939, 1.1939, 1.1925, 1.1909, 1.1874, 1.1845, 1.1838, 1.1818, 1.18, 1.1789, 1.1784, 1.1781, 1.178, 1.1775, 1.1758, 1.1745, 1.0844, 1.0877, 1.0658, 0.9603, 1.0544, 1.0608, 1.1149, 0.4617, 0.4867, 0.9701, 0.1767, 0.3665, 0.097, 1.2556, 1.2545, 1.2447, 1.2387, 1.2381, 1.2343, 1.2323, 1.2318, 1.2308, 1.2258, 1.2253, 1.2237, 1.2202, 1.219, 1.2186, 1.2166, 1.2163, 1.2162, 1.2136, 1.2113, 1.2089, 1.2082, 1.2081, 1.2061, 1.2056, 1.2043, 1.1997, 1.1975, 1.1953, 1.1945, 1.1814, 1.1567, 1.122, 1.1471, 1.1287, 1.124, 1.0822, 1.0207, 0.9552, 1.1177, 0.9812, 0.9882, 0.723, 0.6356, 0.7808, 0.4495, 0.6879, 0.8218, 0.7307, 0.4366, 0.4031, 0.6927, 0.2054, 0.4635, 0.3705, 0.6051, 0.1086, 1.5051, 1.502, 1.4972, 1.4956, 1.493, 1.4909, 1.4874, 1.4854, 1.4822, 1.4818, 1.4814, 1.4807, 1.4801, 1.4795, 1.4758, 1.4754, 1.4749, 1.4722, 1.472, 1.4707, 1.4678, 1.4662, 1.4645, 1.4641, 1.4626, 1.4598, 1.4587, 1.4575, 1.4573, 1.4496, 1.3422, 1.337, 1.2925, 1.1999, 1.1303, 1.1262, 0.9775, 0.8161, 0.862, 1.1134, 0.9685, 0.9093, 0.9109, 0.8831, 0.748, 1.0008, 0.4904, 0.3775, 0.3152, 1.1681, 0.7371, 0.95, 0.6471, 1.1031, -0.0322, 0.8982, 0.167, -0.8455, 1.5663, 1.5663, 1.5639, 1.556, 1.553, 1.5518, 1.5435, 1.5405, 1.5405, 1.5259, 1.5222, 1.5206, 1.5164, 1.5113, 1.51, 1.5078, 1.5075, 1.5061, 1.5019, 1.5006, 1.4991, 1.4916, 1.4902, 1.4862, 1.4861, 1.4853, 1.4846, 1.4838, 1.4827, 1.482, 1.4132, 1.3229, 1.236, 1.1734, 1.1385, 0.8177, 1.2037, 1.0245, 0.8427, 1.1718, 1.1833, 0.4928, 0.9703, 0.739, 0.9598, 0.586, 1.0119, 0.0756, 0.7366, 0.6482, 0.0555, -0.2108, 0.1132, 0.125, 0.6688, -0.1381]}, \"token.table\": {\"Topic\": [4, 2, 2, 1, 2, 2, 1, 2, 3, 4, 1, 3, 1, 2, 2, 4, 2, 3, 4, 4, 3, 4, 2, 2, 4, 4, 1, 4, 1, 2, 3, 4, 4, 1, 3, 4, 4, 4, 1, 3, 1, 4, 4, 2, 3, 4, 2, 3, 2, 2, 3, 4, 1, 2, 2, 4, 4, 3, 4, 2, 3, 2, 2, 3, 1, 4, 4, 4, 2, 3, 2, 3, 4, 2, 4, 2, 3, 4, 2, 2, 3, 1, 3, 4, 1, 2, 2, 3, 2, 3, 2, 1, 1, 1, 2, 2, 4, 1, 2, 4, 1, 3, 1, 2, 4, 3, 3, 3, 1, 2, 4, 2, 4, 1, 1, 3, 2, 3, 4, 1, 3, 4, 2, 4, 1, 3, 2, 3, 4, 2, 3, 4, 2, 3, 4, 3, 4, 3, 4, 3, 2, 2, 3, 4, 4, 2, 3, 4, 4, 2, 3, 1, 3, 1, 2, 2, 3, 4, 3, 2, 1, 2, 3, 2, 3, 2, 1, 1, 2, 3, 1, 2, 3, 4, 2, 4, 2, 3, 2, 4, 2, 1, 1, 3, 2, 3, 4, 1, 2, 1, 1, 4, 1, 4, 1, 4, 3, 4, 1, 2, 3, 4, 1, 2, 1, 2, 3, 4, 4, 2, 3, 1, 2, 3, 3, 2, 2, 3, 4, 3, 1, 1, 2, 3, 4, 3, 4, 1, 4, 1, 2, 3, 4, 2, 4, 1, 2, 3, 4, 1, 2, 3, 4, 3, 1, 3, 2, 3, 4, 3, 2, 2, 1, 2, 3, 2, 4, 3, 3, 4, 3, 2, 3, 4, 1, 2, 3, 4, 2, 3, 4, 2, 1, 1, 1, 4, 4, 2, 2, 3, 4, 1, 1, 4, 2, 4, 1, 2, 3, 4, 1, 2, 3, 2, 3, 4, 2, 3, 3, 3, 1, 3, 2, 3, 4, 3, 4, 2, 3], \"Freq\": [0.9404475117542422, 0.9574706929769438, 0.9259057735779336, 0.9620073180272715, 0.9956226939515977, 0.9576943829005397, 0.3521809253996948, 0.2152216766331468, 0.20543887314982195, 0.2152216766331468, 0.9894444112581895, 0.9763313999190771, 0.9852579702609817, 0.9734874283732392, 0.9681239540581132, 0.9656874897722597, 0.5641084097173225, 0.2925006568904635, 0.12535742438162722, 0.9763213676065557, 0.9899463995682705, 0.9172161187716216, 0.9615631942931347, 0.9619870118000898, 0.8796904597142107, 0.91537175362438, 0.8613588518080827, 0.10336306221696993, 0.7602179951250342, 0.2111716653125095, 0.6825407520221574, 0.27301630080886297, 0.9484504423458784, 0.9926425748432987, 0.967565008744004, 0.8587721692621673, 0.8957833933426183, 0.9399159356035905, 0.8785531261025306, 0.11263501616699109, 0.9956133113851131, 0.9064121586688022, 0.9626129001728575, 0.3521900129968213, 0.5478511313283886, 0.09783055916578369, 0.9540516746290617, 0.8974882757858417, 0.9353504248617094, 0.3478358578140673, 0.3196329504237375, 0.3290339195538474, 0.8891016386373729, 0.059273442575824856, 0.9965575240423438, 0.9150200318664514, 0.8622788585942925, 0.9425539458722814, 0.9721037226023704, 0.1598828601226585, 0.8527085873208453, 0.952259810401992, 0.8697573322995426, 0.1023243920352403, 0.9703579209408502, 0.9730886713686353, 0.9637203399641731, 0.9295085858468788, 0.20086471649928558, 0.8034588659971423, 0.4443286812781032, 0.09114434487755964, 0.46141824594264563, 0.36800998374367067, 0.6308742578462926, 0.5358080934657912, 0.293830244803821, 0.16419925444919406, 0.9906638307009081, 0.8683682288823261, 0.11940063147131985, 0.7650964717237533, 0.10433133705323909, 0.12171989322877894, 0.9964258064534196, 0.9450548647105318, 0.4606421686074353, 0.5483835340564706, 0.3406050682391258, 0.6386345029483609, 0.9896786132894435, 0.9447015279370047, 0.9947452332026827, 0.9670775046731667, 0.9395690900007998, 0.8949803511550332, 0.08949803511550332, 0.1625468705074957, 0.4226218633194888, 0.3901124892179897, 0.9705078375538007, 0.9154762894642646, 0.16702137183836818, 0.2922874007171443, 0.5428194584746966, 0.9141541733455538, 0.9816402175166874, 0.9726527031572031, 0.9871071993952384, 0.8964386997249462, 0.08964386997249461, 0.971157742765892, 0.9185770354615035, 0.9985905389162348, 0.96918987520874, 0.9229126110857552, 0.7347187865105117, 0.249804387413574, 0.9590818708434055, 0.8454660717064991, 0.12681991075597487, 0.9206768018073862, 0.7652018881861785, 0.21425652869212997, 0.986170529521841, 0.9844870171679048, 0.03869355812822598, 0.8125647206927457, 0.15477423251290393, 0.11958054126404884, 0.4544060568033856, 0.4304899485505758, 0.5888037208933715, 0.3553125901942759, 0.06091072974759016, 0.40202912040672506, 0.552790040559247, 0.30354365041813, 0.6677960309198859, 0.9039009112141954, 0.9681284364620255, 0.4420552329280287, 0.4934570041987297, 0.07196247977898142, 0.9590818708434055, 0.4499691917480649, 0.46548537077386026, 0.09309707415477204, 0.9746379460379037, 0.32719522145333596, 0.6816567113611166, 0.9654130737760317, 0.9890266108006673, 0.9724817653126606, 0.9833688290515323, 0.2977875510021196, 0.1488937755010598, 0.5211282142537094, 0.9262200099541238, 0.8837580225496854, 0.14910776705417053, 0.8350034955033551, 0.9768774370000066, 0.4098496601379083, 0.5854995144827261, 0.9617984379176833, 0.9400758218434093, 0.06569042600826104, 0.37224574738014593, 0.569317025404929, 0.4190061079093939, 0.21861188238750986, 0.23682953925313568, 0.12752359805938077, 0.41891159181740806, 0.5585487890898774, 0.8935322830958053, 0.10512144507009474, 0.5185679294960938, 0.47708249513640627, 0.9955240840323054, 0.9531821887961984, 0.9352165523420756, 0.9290248179130208, 0.626002006189383, 0.14446200142831914, 0.22471866888849645, 0.8598243039601461, 0.14330405066002436, 0.9533029967855671, 0.3260082483770436, 0.6520164967540872, 0.9721788021681244, 0.9178247352277743, 0.16748853447020998, 0.83744267235105, 0.3179820274944013, 0.6359640549888026, 0.13021257738949316, 0.3255314434737329, 0.41233982840006167, 0.13021257738949316, 0.02592943702108653, 0.9593891697802017, 0.29746007407293507, 0.09295627314779221, 0.24168631018425976, 0.37182509259116886, 0.9488197981558142, 0.43473452689306324, 0.5684989967063134, 0.07781675988820248, 0.9338011186584297, 0.9178279374706275, 0.9957997738670565, 0.9808374326061201, 0.4568162335405187, 0.15227207784683958, 0.39590740240178285, 0.955477742219448, 0.9785615772434485, 0.9846860510335967, 0.7555463217177174, 0.1743568434733194, 0.0871784217366597, 0.9854283458949404, 0.9705476674419232, 0.9729015628383574, 0.8970558358438064, 0.07700725559618958, 0.5698536914118029, 0.21562031566933082, 0.13861306007314125, 0.21377619802156933, 0.7482166930754927, 0.32105112452673074, 0.32105112452673074, 0.14817744208926034, 0.20991804295978547, 0.9889141587390223, 0.3887046021826964, 0.16196025090945684, 0.42109665236458776, 0.9816311305726673, 0.9384261611475136, 0.9153897159987608, 0.90538819647905, 0.9495072540958518, 0.9819821227722234, 0.9878491333650596, 0.9776573701611946, 0.9363884498300246, 0.0418806117588865, 0.418806117588865, 0.5235076469860812, 0.8668313138164991, 0.11820427006588625, 0.9820616118191257, 0.6491023555695142, 0.3245511777847571, 0.9792878435652819, 0.6360278551789499, 0.2591224595173499, 0.07066976168654998, 0.20763805330191973, 0.41527610660383946, 0.19280676378035405, 0.17797547425878835, 0.18660076745689813, 0.5753523663254358, 0.23325095932112266, 0.935704416373737, 0.9939876576416922, 0.9636923130774663, 0.3037453884201459, 0.6903304282276044, 0.8608497509347163, 0.9820275250332052, 0.3279098276032401, 0.5246557241651841, 0.13116393104129603, 0.9683161415474184, 0.8569639888948271, 0.155811634344514, 0.28218793208720777, 0.6772510370092987, 0.46960296660091627, 0.4259189697078078, 0.06552599533966273, 0.04368399689310849, 0.10441582561063455, 0.1392211008141794, 0.7309107792744418, 0.5845297675751803, 0.262030585464736, 0.14109339217331937, 0.9511082161315765, 0.9724794135548903, 0.9144162950382091, 0.9709857528435647, 0.4815850817370024, 0.5083398085001691, 0.25057158407414265, 0.6681908908643803, 0.055682574238698365, 0.9591688936600655, 0.9445127485421496, 0.7801981031466765, 0.20062236938057396], \"Term\": [\"actually\", \"ai\", \"airport\", \"alert\", \"all\", \"always\", \"amp\", \"amp\", \"amp\", \"amp\", \"anyone\", \"anything\", \"apply\", \"around\", \"ask\", \"ass\", \"back\", \"back\", \"back\", \"bar\", \"barometer\", \"bay\", \"be\", \"beautiful\", \"break\", \"brother\", \"ca\", \"ca\", \"cafe\", \"cafe\", \"call\", \"call\", \"camp\", \"careerarc\", \"catch\", \"chicken\", \"chill\", \"cinema\", \"city\", \"city\", \"click\", \"coachella\", \"coffee\", \"come\", \"come\", \"come\", \"cry\", \"current\", \"damn\", \"day\", \"day\", \"day\", \"de\", \"de\", \"do\", \"drop\", \"drunk\", \"else\", \"end\", \"ever\", \"ever\", \"face\", \"feel\", \"feel\", \"fit\", \"fitness\", \"floor\", \"fucking\", \"game\", \"game\", \"get\", \"get\", \"get\", \"girl\", \"girl\", \"go\", \"go\", \"go\", \"gon\", \"good\", \"good\", \"great\", \"great\", \"great\", \"gt\", \"hair\", \"happy\", \"happy\", \"hard\", \"hard\", \"have\", \"healthcare\", \"hire\", \"hiring\", \"hit\", \"home\", \"home\", \"hope\", \"hope\", \"hope\", \"hospitality\", \"hour\", \"house\", \"house\", \"house\", \"hpa\", \"humidity\", \"hurt\", \"il\", \"ill\", \"ill\", \"international\", \"jack\", \"job\", \"join\", \"kmh\", \"know\", \"know\", \"kuala\", \"la\", \"la\", \"lady\", \"last\", \"last\", \"late\", \"leave\", \"let\", \"let\", \"let\", \"life\", \"life\", \"life\", \"like\", \"like\", \"like\", \"little\", \"little\", \"live\", \"live\", \"ll\", \"long\", \"love\", \"love\", \"love\", \"lumpur\", \"make\", \"make\", \"make\", \"mall\", \"man\", \"man\", \"manager\", \"mb\", \"might\", \"mind\", \"miss\", \"miss\", \"miss\", \"mm\", \"monday\", \"morning\", \"morning\", \"mph\", \"much\", \"much\", \"na\", \"near\", \"need\", \"need\", \"need\", \"new\", \"new\", \"new\", \"new\", \"next\", \"next\", \"nigga\", \"nigga\", \"night\", \"night\", \"nt\", \"nursing\", \"ny\", \"ok\", \"one\", \"one\", \"one\", \"open\", \"open\", \"opening\", \"other\", \"other\", \"pa\", \"pain\", \"park\", \"park\", \"party\", \"party\", \"people\", \"people\", \"people\", \"people\", \"photo\", \"photo\", \"pic\", \"pic\", \"pic\", \"pic\", \"pink\", \"please\", \"please\", \"post\", \"post\", \"pressure\", \"rain\", \"re\", \"really\", \"really\", \"really\", \"reason\", \"recommend\", \"retail\", \"right\", \"right\", \"right\", \"rise\", \"room\", \"sale\", \"samsun\", \"say\", \"say\", \"say\", \"say\", \"school\", \"school\", \"see\", \"see\", \"see\", \"see\", \"service\", \"shit\", \"shit\", \"shit\", \"shop\", \"shopping\", \"sometimes\", \"sound\", \"spend\", \"sta\", \"star\", \"summer\", \"sure\", \"take\", \"take\", \"take\", \"talk\", \"talk\", \"temperature\", \"thank\", \"thank\", \"there\", \"think\", \"think\", \"think\", \"time\", \"time\", \"time\", \"time\", \"today\", \"today\", \"today\", \"traffic\", \"trend\", \"trndnl\", \"turkiye\", \"turkiye\", \"twitter\", \"ur\", \"ve\", \"ve\", \"ve\", \"veteran\", \"view\", \"view\", \"wanna\", \"wanna\", \"want\", \"want\", \"want\", \"want\", \"we\", \"we\", \"we\", \"well\", \"well\", \"well\", \"win\", \"wind\", \"wine\", \"wish\", \"work\", \"work\", \"would\", \"would\", \"would\", \"wow\", \"wp\", \"you\", \"you\"]}, \"R\": 30, \"lambda.step\": 0.01, \"plot.opts\": {\"xlab\": \"PC1\", \"ylab\": \"PC2\"}, \"topic.order\": [3, 2, 4, 1]};\n\nfunction LDAvis_load_lib(url, callback){\n  var s = document.createElement('script');\n  s.src = url;\n  s.async = true;\n  s.onreadystatechange = s.onload = callback;\n  s.onerror = function(){console.warn(\"failed to load library \" + url);};\n  document.getElementsByTagName(\"head\")[0].appendChild(s);\n}\n\nif(typeof(LDAvis) !== \"undefined\"){\n   // already loaded: just create the visualization\n   !function(LDAvis){\n       new LDAvis(\"#\" + \"ldavis_el80951398144568392961283818167\", ldavis_el80951398144568392961283818167_data);\n   }(LDAvis);\n}else if(typeof define === \"function\" && define.amd){\n   // require.js is available: use it to load d3/LDAvis\n   require.config({paths: {d3: \"https://d3js.org/d3.v5\"}});\n   require([\"d3\"], function(d3){\n      window.d3 = d3;\n      LDAvis_load_lib(\"https://cdn.jsdelivr.net/gh/bmabey/pyLDAvis@3.3.1/pyLDAvis/js/ldavis.v3.0.0.js\", function(){\n        new LDAvis(\"#\" + \"ldavis_el80951398144568392961283818167\", ldavis_el80951398144568392961283818167_data);\n      });\n    });\n}else{\n    // require.js not available: dynamically load d3 & LDAvis\n    LDAvis_load_lib(\"https://d3js.org/d3.v5.js\", function(){\n         LDAvis_load_lib(\"https://cdn.jsdelivr.net/gh/bmabey/pyLDAvis@3.3.1/pyLDAvis/js/ldavis.v3.0.0.js\", function(){\n                 new LDAvis(\"#\" + \"ldavis_el80951398144568392961283818167\", ldavis_el80951398144568392961283818167_data);\n            })\n         });\n}\n</script>"
     },
     "metadata": {},
     "execution_count": 33
    }
   ],
   "execution_count": 33
  },
  {
   "cell_type": "markdown",
   "source": [
    "Gensim's distribution looks pretty similar to that of sklearn as the topics are almost 1-to-1 the same. We can safely assume that sklearn GridSearchCV can be used to tune the number of topics for Gensim. \n",
    "\n",
    "Now we can use Gensim LDA to predict which Tweet belongs to which topic."
   ],
   "metadata": {
    "tags": [],
    "cell_id": "00035-42f4987c-8913-4588-8202-05396374a9f2",
    "deepnote_cell_type": "markdown"
   }
  },
  {
   "cell_type": "code",
   "source": [
    "from operator import itemgetter \n",
    "\n",
    "def get_topic(tweet):\n",
    "    prob = lda_train[id2word.doc2bow(tweet.split())][0]\n",
    "    return max(prob,key=itemgetter(1))[0]\n",
    "\n",
    "df_eng_clean_tweets['topics'] = df_eng_clean_tweets['lemmatized'].apply(lambda x : get_topic(x))"
   ],
   "metadata": {
    "tags": [],
    "cell_id": "00036-8a043adf-ad2e-45a6-ad37-51fec7a031b9",
    "deepnote_to_be_reexecuted": false,
    "source_hash": "28fe2124",
    "execution_start": 1633392287626,
    "execution_millis": 3737,
    "deepnote_cell_type": "code"
   },
   "outputs": [],
   "execution_count": 34
  },
  {
   "cell_type": "code",
   "source": [
    "df_eng_clean_tweets.sample(5)"
   ],
   "metadata": {
    "tags": [],
    "cell_id": "00037-6cac61da-1bf4-4a00-be8c-40d7e157acb0",
    "deepnote_to_be_reexecuted": false,
    "source_hash": "e8a1dde2",
    "execution_start": 1633392415368,
    "execution_millis": 72,
    "deepnote_cell_type": "code"
   },
   "outputs": [
    {
     "output_type": "execute_result",
     "data": {
      "text/plain": [
       "                                                  Tweet  \\\n",
       "2104  after running and swimming, lanjut nasi kuning...   \n",
       "2085  I'm at Elvankent Kocatepe Kahve Evi in ankara,...   \n",
       "319          @TaylerEpton when you want to book Venice?   \n",
       "445   @BeccaBoo0503 Fine with me, just tell me when ...   \n",
       "667   @LaRussaGastro no but I do think he tried to p...   \n",
       "\n",
       "                                           clean_tweets  \\\n",
       "2104  after running and swimming lanjut nasi kuning ...   \n",
       "2085  Im at Elvankent Kocatepe Kahve Evi in ankara e...   \n",
       "319            TaylerEpton when you want to book Venice   \n",
       "445   BeccaBoo Fine with me just tell me when youre ...   \n",
       "667   LaRussaGastro no but I do think he tried to pl...   \n",
       "\n",
       "                                              lowercase  \\\n",
       "2104  after running and swimming lanjut nasi kuning ...   \n",
       "2085  im at elvankent kocatepe kahve evi in ankara e...   \n",
       "319            taylerepton when you want to book venice   \n",
       "445   beccaboo fine with me just tell me when youre ...   \n",
       "667   larussagastro no but i do think he tried to pl...   \n",
       "\n",
       "                                      stopwords_removed  \\\n",
       "2104  running swimming lanjut nasi kuning rangga kom...   \n",
       "2085  elvankent kocatepe kahve evi ankara etimesgut ...   \n",
       "319                        taylerepton want book venice   \n",
       "445                       beccaboo fine tell youre home   \n",
       "667                     larussagastro think tried plunk   \n",
       "\n",
       "                                             lemmatized  topics  \n",
       "2104  run swim lanjut nasi kune rangga komplek btp —...       1  \n",
       "2085  elvankent kocatepe kahve evi ankara etimesgut ...       2  \n",
       "319                        taylerepton want book venice       2  \n",
       "445                      beccaboo fine tell you re home       1  \n",
       "667                       larussagastro think try plunk       1  "
      ],
      "text/html": "<div>\n<style scoped>\n    .dataframe tbody tr th:only-of-type {\n        vertical-align: middle;\n    }\n\n    .dataframe tbody tr th {\n        vertical-align: top;\n    }\n\n    .dataframe thead th {\n        text-align: right;\n    }\n</style>\n<table border=\"1\" class=\"dataframe\">\n  <thead>\n    <tr style=\"text-align: right;\">\n      <th></th>\n      <th>Tweet</th>\n      <th>clean_tweets</th>\n      <th>lowercase</th>\n      <th>stopwords_removed</th>\n      <th>lemmatized</th>\n      <th>topics</th>\n    </tr>\n  </thead>\n  <tbody>\n    <tr>\n      <th>2104</th>\n      <td>after running and swimming, lanjut nasi kuning...</td>\n      <td>after running and swimming lanjut nasi kuning ...</td>\n      <td>after running and swimming lanjut nasi kuning ...</td>\n      <td>running swimming lanjut nasi kuning rangga kom...</td>\n      <td>run swim lanjut nasi kune rangga komplek btp —...</td>\n      <td>1</td>\n    </tr>\n    <tr>\n      <th>2085</th>\n      <td>I'm at Elvankent Kocatepe Kahve Evi in ankara,...</td>\n      <td>Im at Elvankent Kocatepe Kahve Evi in ankara e...</td>\n      <td>im at elvankent kocatepe kahve evi in ankara e...</td>\n      <td>elvankent kocatepe kahve evi ankara etimesgut ...</td>\n      <td>elvankent kocatepe kahve evi ankara etimesgut ...</td>\n      <td>2</td>\n    </tr>\n    <tr>\n      <th>319</th>\n      <td>@TaylerEpton when you want to book Venice?</td>\n      <td>TaylerEpton when you want to book Venice</td>\n      <td>taylerepton when you want to book venice</td>\n      <td>taylerepton want book venice</td>\n      <td>taylerepton want book venice</td>\n      <td>2</td>\n    </tr>\n    <tr>\n      <th>445</th>\n      <td>@BeccaBoo0503 Fine with me, just tell me when ...</td>\n      <td>BeccaBoo Fine with me just tell me when youre ...</td>\n      <td>beccaboo fine with me just tell me when youre ...</td>\n      <td>beccaboo fine tell youre home</td>\n      <td>beccaboo fine tell you re home</td>\n      <td>1</td>\n    </tr>\n    <tr>\n      <th>667</th>\n      <td>@LaRussaGastro no but I do think he tried to p...</td>\n      <td>LaRussaGastro no but I do think he tried to pl...</td>\n      <td>larussagastro no but i do think he tried to pl...</td>\n      <td>larussagastro think tried plunk</td>\n      <td>larussagastro think try plunk</td>\n      <td>1</td>\n    </tr>\n  </tbody>\n</table>\n</div>"
     },
     "metadata": {},
     "execution_count": 35
    }
   ],
   "execution_count": 35
  },
  {
   "cell_type": "markdown",
   "source": [
    "Since we are persisting Tweets, there are no point persisting each tweet as a file under a directory. Assuming we are using a relational database, we can persist the dataframe as a table with Tweet and Topic as the two columns."
   ],
   "metadata": {
    "tags": [],
    "cell_id": "00038-50c71ec8-9f16-4009-83d8-31115b78e54b",
    "deepnote_cell_type": "markdown"
   }
  },
  {
   "cell_type": "code",
   "source": [
    "df_export = df_eng_clean_tweets[['Tweet', 'topics']]\n",
    "\n",
    "df_export.sample(5)"
   ],
   "metadata": {
    "tags": [],
    "cell_id": "00039-fbb66128-2888-44a0-aea1-fe666e522b73",
    "deepnote_to_be_reexecuted": false,
    "source_hash": "85f57f7b",
    "execution_start": 1633392942382,
    "execution_millis": 81,
    "deepnote_cell_type": "code"
   },
   "outputs": [
    {
     "output_type": "execute_result",
     "data": {
      "text/plain": [
       "                                                  Tweet  topics\n",
       "1048  Why did Tessa take pictures with me while I wa...       3\n",
       "2036  @GregDeSilvaa good looks, ink splat tattoo. It...       1\n",
       "3440  テンション上がる (@ サザンモール六甲 - @southernmall in 神戸市灘区,...       2\n",
       "672   Mom told me \\don't let her intimidate you.\\\" T...       3\n",
       "3007  Had fun doing a photo shoot yesterday! This is...       2"
      ],
      "text/html": "<div>\n<style scoped>\n    .dataframe tbody tr th:only-of-type {\n        vertical-align: middle;\n    }\n\n    .dataframe tbody tr th {\n        vertical-align: top;\n    }\n\n    .dataframe thead th {\n        text-align: right;\n    }\n</style>\n<table border=\"1\" class=\"dataframe\">\n  <thead>\n    <tr style=\"text-align: right;\">\n      <th></th>\n      <th>Tweet</th>\n      <th>topics</th>\n    </tr>\n  </thead>\n  <tbody>\n    <tr>\n      <th>1048</th>\n      <td>Why did Tessa take pictures with me while I wa...</td>\n      <td>3</td>\n    </tr>\n    <tr>\n      <th>2036</th>\n      <td>@GregDeSilvaa good looks, ink splat tattoo. It...</td>\n      <td>1</td>\n    </tr>\n    <tr>\n      <th>3440</th>\n      <td>テンション上がる (@ サザンモール六甲 - @southernmall in 神戸市灘区,...</td>\n      <td>2</td>\n    </tr>\n    <tr>\n      <th>672</th>\n      <td>Mom told me \\don't let her intimidate you.\\\" T...</td>\n      <td>3</td>\n    </tr>\n    <tr>\n      <th>3007</th>\n      <td>Had fun doing a photo shoot yesterday! This is...</td>\n      <td>2</td>\n    </tr>\n  </tbody>\n</table>\n</div>"
     },
     "metadata": {},
     "execution_count": 36
    }
   ],
   "execution_count": 36
  },
  {
   "outputs": [],
   "execution_count": 40,
   "cell_type": "code",
   "source": [
    "csv_name = lang + '_topic_'\n",
    "csv_dir = './processed_csv'\n",
    "\n",
    "if not os.path.exists(csv_dir):\n",
    "    os.mkdir(csv_dir)\n",
    "\n",
    "for i in range(topic_count):\n",
    "    save_dir = os.path.join(csv_dir, csv_name + str(i) + '.csv')   \n",
    "    df_export[df_export['topics'] == i].to_csv(save_dir)"
   ],
   "metadata": {
    "tags": [],
    "cell_id": "00039-1b307b47-100f-42b7-bf14-c682230a7e52",
    "deepnote_to_be_reexecuted": false,
    "source_hash": "5c7ed545",
    "execution_start": 1633392896716,
    "execution_millis": 28,
    "deepnote_cell_type": "code"
   }
  },
  {
   "source": [
    "After looking through the files, it seems like the topics are not very consistent, in the sense that there are a lot of tweets that are not related. This could be due to a few reasons:\n",
    "\n",
    "1. There are still some mismatched languages where tweets in other languages are classified as English tweets. In future implementation, I want to look into other language detection libraries that can yield higher accuracy.\n",
    "2. There are tweets that are multilingual, in the sense that a tweet could be in both English, and other languages, but still classified as English. The non-English words will introduce quite a fair bit of noise to the dataset. In future implementation, I want to look into libraries that could detect multiple languages in a given text, and possible remove the non-English text from the tweet, or just drop the row completely since the topic features could be in the non-English words.\n",
    "3. There are usage of Internet lingo like lol, lololol and etc, the meaning of lol and lololol can be interpreted similarly but is not done so in the Lemmatizer. In future implementation, I want to look into identifying all these Internet lingo to improve this model.\n",
    "4. Lack of features, I did not use n-gram words in this assignment. Using n-gram words could lead to a higher interpretability as some words do not make sense on their own.\n",
    "5. Nature of the Tweets, some tweets could be retweets and in the nature where the tweets do not mean anything. In the future when obtaining these tweets, I need to filter away the tweets that are retweets, replies and etc. This can be done in the cleaning stage too.  "
   ],
   "cell_type": "markdown",
   "metadata": {}
  },
  {
   "source": [
    "However, due to the time constraint, we can only continue with what we have right here and construct the pipeline."
   ],
   "cell_type": "markdown",
   "metadata": {}
  }
 ],
 "nbformat": 4,
 "nbformat_minor": 5,
 "metadata": {
  "kernelspec": {
   "name": "python385jvsc74a57bd0767d51c1340bd893661ea55ea3124f6de3c7a262a8b4abca0554b478b1e2ff90",
   "display_name": "Python 3.8.5 64-bit ('usr')"
  },
  "language_info": {
   "codemirror_mode": {
    "name": "ipython",
    "version": 3
   },
   "file_extension": ".py",
   "mimetype": "text/x-python",
   "name": "python",
   "nbconvert_exporter": "python",
   "pygments_lexer": "ipython3",
   "version": "3.8.5"
  },
  "deepnote_notebook_id": "9fc1b6fa-4678-4b2f-a4d7-4d94bdd316f2",
  "deepnote": {},
  "deepnote_execution_queue": [],
  "metadata": {
   "interpreter": {
    "hash": "767d51c1340bd893661ea55ea3124f6de3c7a262a8b4abca0554b478b1e2ff90"
   }
  }
 }
}