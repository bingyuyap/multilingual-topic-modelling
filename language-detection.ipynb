{
 "cells": [
  {
   "cell_type": "markdown",
   "id": "3b10395f",
   "metadata": {},
   "source": [
    "### Data source API"
   ]
  },
  {
   "cell_type": "code",
   "execution_count": 132,
   "id": "30ec04f1",
   "metadata": {},
   "outputs": [],
   "source": [
    "import tsv\n",
    "import pandas as pd\n",
    "import warnings\n",
    "warnings.filterwarnings('ignore')"
   ]
  },
  {
   "cell_type": "markdown",
   "id": "13309431",
   "metadata": {},
   "source": [
    "Reading the csv file taken from the Kaggle dataset"
   ]
  },
  {
   "cell_type": "code",
   "execution_count": 121,
   "id": "fc618485",
   "metadata": {
    "scrolled": true
   },
   "outputs": [
    {
     "data": {
      "text/html": [
       "<div>\n",
       "<style scoped>\n",
       "    .dataframe tbody tr th:only-of-type {\n",
       "        vertical-align: middle;\n",
       "    }\n",
       "\n",
       "    .dataframe tbody tr th {\n",
       "        vertical-align: top;\n",
       "    }\n",
       "\n",
       "    .dataframe thead th {\n",
       "        text-align: right;\n",
       "    }\n",
       "</style>\n",
       "<table border=\"1\" class=\"dataframe\">\n",
       "  <thead>\n",
       "    <tr style=\"text-align: right;\">\n",
       "      <th></th>\n",
       "      <th>Tweet ID</th>\n",
       "      <th>Country</th>\n",
       "      <th>Date</th>\n",
       "      <th>Tweet</th>\n",
       "      <th>Definitely English</th>\n",
       "      <th>Ambiguous</th>\n",
       "      <th>Definitely Not English</th>\n",
       "      <th>Code-Switched</th>\n",
       "      <th>Ambiguous due to Named Entities</th>\n",
       "      <th>Automatically Generated Tweets</th>\n",
       "    </tr>\n",
       "  </thead>\n",
       "  <tbody>\n",
       "    <tr>\n",
       "      <th>0</th>\n",
       "      <td>434215992731136000</td>\n",
       "      <td>TR</td>\n",
       "      <td>2014-02-14</td>\n",
       "      <td>Bugün bulusmami lazimdiii</td>\n",
       "      <td>0</td>\n",
       "      <td>0</td>\n",
       "      <td>1</td>\n",
       "      <td>0</td>\n",
       "      <td>0</td>\n",
       "      <td>0</td>\n",
       "    </tr>\n",
       "    <tr>\n",
       "      <th>1</th>\n",
       "      <td>285903159434563584</td>\n",
       "      <td>TR</td>\n",
       "      <td>2013-01-01</td>\n",
       "      <td>Volkan konak adami tribe sokar yemin ederim :D</td>\n",
       "      <td>0</td>\n",
       "      <td>0</td>\n",
       "      <td>1</td>\n",
       "      <td>0</td>\n",
       "      <td>0</td>\n",
       "      <td>0</td>\n",
       "    </tr>\n",
       "    <tr>\n",
       "      <th>2</th>\n",
       "      <td>285948076496142336</td>\n",
       "      <td>NL</td>\n",
       "      <td>2013-01-01</td>\n",
       "      <td>Bed</td>\n",
       "      <td>1</td>\n",
       "      <td>0</td>\n",
       "      <td>0</td>\n",
       "      <td>0</td>\n",
       "      <td>0</td>\n",
       "      <td>0</td>\n",
       "    </tr>\n",
       "    <tr>\n",
       "      <th>3</th>\n",
       "      <td>285965965118824448</td>\n",
       "      <td>US</td>\n",
       "      <td>2013-01-01</td>\n",
       "      <td>I felt my first flash of violence at some fool...</td>\n",
       "      <td>1</td>\n",
       "      <td>0</td>\n",
       "      <td>0</td>\n",
       "      <td>0</td>\n",
       "      <td>0</td>\n",
       "      <td>0</td>\n",
       "    </tr>\n",
       "    <tr>\n",
       "      <th>4</th>\n",
       "      <td>286057979831275520</td>\n",
       "      <td>US</td>\n",
       "      <td>2013-01-01</td>\n",
       "      <td>Ladies drink and get in free till 10:30</td>\n",
       "      <td>1</td>\n",
       "      <td>0</td>\n",
       "      <td>0</td>\n",
       "      <td>0</td>\n",
       "      <td>0</td>\n",
       "      <td>0</td>\n",
       "    </tr>\n",
       "    <tr>\n",
       "      <th>...</th>\n",
       "      <td>...</td>\n",
       "      <td>...</td>\n",
       "      <td>...</td>\n",
       "      <td>...</td>\n",
       "      <td>...</td>\n",
       "      <td>...</td>\n",
       "      <td>...</td>\n",
       "      <td>...</td>\n",
       "      <td>...</td>\n",
       "      <td>...</td>\n",
       "    </tr>\n",
       "    <tr>\n",
       "      <th>10497</th>\n",
       "      <td>774941788247298050</td>\n",
       "      <td>TR</td>\n",
       "      <td>2016-09-11</td>\n",
       "      <td>I'm at @PiazzaAvym in Canik, Samsun w/ @mertar...</td>\n",
       "      <td>1</td>\n",
       "      <td>0</td>\n",
       "      <td>0</td>\n",
       "      <td>0</td>\n",
       "      <td>0</td>\n",
       "      <td>1</td>\n",
       "    </tr>\n",
       "    <tr>\n",
       "      <th>10498</th>\n",
       "      <td>774951242422480897</td>\n",
       "      <td>PH</td>\n",
       "      <td>2016-09-11</td>\n",
       "      <td>El Nido, fica ao norte de Palawan, uma das ilh...</td>\n",
       "      <td>0</td>\n",
       "      <td>0</td>\n",
       "      <td>1</td>\n",
       "      <td>0</td>\n",
       "      <td>0</td>\n",
       "      <td>0</td>\n",
       "    </tr>\n",
       "    <tr>\n",
       "      <th>10499</th>\n",
       "      <td>774960083721531392</td>\n",
       "      <td>ID</td>\n",
       "      <td>2016-09-11</td>\n",
       "      <td>Alhamdulillah 😊👨‍👩‍👧‍👧🎂🍦makasih mah pah #lovyu...</td>\n",
       "      <td>0</td>\n",
       "      <td>0</td>\n",
       "      <td>1</td>\n",
       "      <td>0</td>\n",
       "      <td>0</td>\n",
       "      <td>0</td>\n",
       "    </tr>\n",
       "    <tr>\n",
       "      <th>10500</th>\n",
       "      <td>775057244798849024</td>\n",
       "      <td>NG</td>\n",
       "      <td>2016-09-11</td>\n",
       "      <td>Eid-Mubarak @ Bauchi Fedral Lowcost https://t....</td>\n",
       "      <td>0</td>\n",
       "      <td>1</td>\n",
       "      <td>0</td>\n",
       "      <td>0</td>\n",
       "      <td>1</td>\n",
       "      <td>0</td>\n",
       "    </tr>\n",
       "    <tr>\n",
       "      <th>10501</th>\n",
       "      <td>775072793385766912</td>\n",
       "      <td>GT</td>\n",
       "      <td>2016-09-11</td>\n",
       "      <td>⒍ Santa Catarina Pinula\\n⒎ Nairo Quintana\\n⒏ A...</td>\n",
       "      <td>0</td>\n",
       "      <td>1</td>\n",
       "      <td>0</td>\n",
       "      <td>0</td>\n",
       "      <td>1</td>\n",
       "      <td>0</td>\n",
       "    </tr>\n",
       "  </tbody>\n",
       "</table>\n",
       "<p>10502 rows × 10 columns</p>\n",
       "</div>"
      ],
      "text/plain": [
       "                 Tweet ID Country        Date  \\\n",
       "0      434215992731136000      TR  2014-02-14   \n",
       "1      285903159434563584      TR  2013-01-01   \n",
       "2      285948076496142336      NL  2013-01-01   \n",
       "3      285965965118824448      US  2013-01-01   \n",
       "4      286057979831275520      US  2013-01-01   \n",
       "...                   ...     ...         ...   \n",
       "10497  774941788247298050      TR  2016-09-11   \n",
       "10498  774951242422480897      PH  2016-09-11   \n",
       "10499  774960083721531392      ID  2016-09-11   \n",
       "10500  775057244798849024      NG  2016-09-11   \n",
       "10501  775072793385766912      GT  2016-09-11   \n",
       "\n",
       "                                                   Tweet  Definitely English  \\\n",
       "0                              Bugün bulusmami lazimdiii                   0   \n",
       "1         Volkan konak adami tribe sokar yemin ederim :D                   0   \n",
       "2                                                    Bed                   1   \n",
       "3      I felt my first flash of violence at some fool...                   1   \n",
       "4                Ladies drink and get in free till 10:30                   1   \n",
       "...                                                  ...                 ...   \n",
       "10497  I'm at @PiazzaAvym in Canik, Samsun w/ @mertar...                   1   \n",
       "10498  El Nido, fica ao norte de Palawan, uma das ilh...                   0   \n",
       "10499  Alhamdulillah 😊👨‍👩‍👧‍👧🎂🍦makasih mah pah #lovyu...                   0   \n",
       "10500  Eid-Mubarak @ Bauchi Fedral Lowcost https://t....                   0   \n",
       "10501  ⒍ Santa Catarina Pinula\\n⒎ Nairo Quintana\\n⒏ A...                   0   \n",
       "\n",
       "       Ambiguous  Definitely Not English  Code-Switched  \\\n",
       "0              0                       1              0   \n",
       "1              0                       1              0   \n",
       "2              0                       0              0   \n",
       "3              0                       0              0   \n",
       "4              0                       0              0   \n",
       "...          ...                     ...            ...   \n",
       "10497          0                       0              0   \n",
       "10498          0                       1              0   \n",
       "10499          0                       1              0   \n",
       "10500          1                       0              0   \n",
       "10501          1                       0              0   \n",
       "\n",
       "       Ambiguous due to Named Entities  Automatically Generated Tweets  \n",
       "0                                    0                               0  \n",
       "1                                    0                               0  \n",
       "2                                    0                               0  \n",
       "3                                    0                               0  \n",
       "4                                    0                               0  \n",
       "...                                ...                             ...  \n",
       "10497                                0                               1  \n",
       "10498                                0                               0  \n",
       "10499                                0                               0  \n",
       "10500                                1                               0  \n",
       "10501                                1                               0  \n",
       "\n",
       "[10502 rows x 10 columns]"
      ]
     },
     "execution_count": 121,
     "metadata": {},
     "output_type": "execute_result"
    }
   ],
   "source": [
    "df = pd.read_csv('./all_annotated.tsv', sep='\\t', header=0)\n",
    "df"
   ]
  },
  {
   "cell_type": "markdown",
   "id": "05d95b37",
   "metadata": {},
   "source": [
    "Since all we want is just the Tweet, we can remove every other column from it."
   ]
  },
  {
   "cell_type": "code",
   "execution_count": 122,
   "id": "51710991",
   "metadata": {
    "scrolled": true
   },
   "outputs": [
    {
     "data": {
      "text/html": [
       "<div>\n",
       "<style scoped>\n",
       "    .dataframe tbody tr th:only-of-type {\n",
       "        vertical-align: middle;\n",
       "    }\n",
       "\n",
       "    .dataframe tbody tr th {\n",
       "        vertical-align: top;\n",
       "    }\n",
       "\n",
       "    .dataframe thead th {\n",
       "        text-align: right;\n",
       "    }\n",
       "</style>\n",
       "<table border=\"1\" class=\"dataframe\">\n",
       "  <thead>\n",
       "    <tr style=\"text-align: right;\">\n",
       "      <th></th>\n",
       "      <th>Tweet</th>\n",
       "    </tr>\n",
       "  </thead>\n",
       "  <tbody>\n",
       "    <tr>\n",
       "      <th>0</th>\n",
       "      <td>Bugün bulusmami lazimdiii</td>\n",
       "    </tr>\n",
       "    <tr>\n",
       "      <th>1</th>\n",
       "      <td>Volkan konak adami tribe sokar yemin ederim :D</td>\n",
       "    </tr>\n",
       "    <tr>\n",
       "      <th>2</th>\n",
       "      <td>Bed</td>\n",
       "    </tr>\n",
       "    <tr>\n",
       "      <th>3</th>\n",
       "      <td>I felt my first flash of violence at some fool...</td>\n",
       "    </tr>\n",
       "    <tr>\n",
       "      <th>4</th>\n",
       "      <td>Ladies drink and get in free till 10:30</td>\n",
       "    </tr>\n",
       "    <tr>\n",
       "      <th>...</th>\n",
       "      <td>...</td>\n",
       "    </tr>\n",
       "    <tr>\n",
       "      <th>10497</th>\n",
       "      <td>I'm at @PiazzaAvym in Canik, Samsun w/ @mertar...</td>\n",
       "    </tr>\n",
       "    <tr>\n",
       "      <th>10498</th>\n",
       "      <td>El Nido, fica ao norte de Palawan, uma das ilh...</td>\n",
       "    </tr>\n",
       "    <tr>\n",
       "      <th>10499</th>\n",
       "      <td>Alhamdulillah 😊👨‍👩‍👧‍👧🎂🍦makasih mah pah #lovyu...</td>\n",
       "    </tr>\n",
       "    <tr>\n",
       "      <th>10500</th>\n",
       "      <td>Eid-Mubarak @ Bauchi Fedral Lowcost https://t....</td>\n",
       "    </tr>\n",
       "    <tr>\n",
       "      <th>10501</th>\n",
       "      <td>⒍ Santa Catarina Pinula\\n⒎ Nairo Quintana\\n⒏ A...</td>\n",
       "    </tr>\n",
       "  </tbody>\n",
       "</table>\n",
       "<p>10502 rows × 1 columns</p>\n",
       "</div>"
      ],
      "text/plain": [
       "                                                   Tweet\n",
       "0                              Bugün bulusmami lazimdiii\n",
       "1         Volkan konak adami tribe sokar yemin ederim :D\n",
       "2                                                    Bed\n",
       "3      I felt my first flash of violence at some fool...\n",
       "4                Ladies drink and get in free till 10:30\n",
       "...                                                  ...\n",
       "10497  I'm at @PiazzaAvym in Canik, Samsun w/ @mertar...\n",
       "10498  El Nido, fica ao norte de Palawan, uma das ilh...\n",
       "10499  Alhamdulillah 😊👨‍👩‍👧‍👧🎂🍦makasih mah pah #lovyu...\n",
       "10500  Eid-Mubarak @ Bauchi Fedral Lowcost https://t....\n",
       "10501  ⒍ Santa Catarina Pinula\\n⒎ Nairo Quintana\\n⒏ A...\n",
       "\n",
       "[10502 rows x 1 columns]"
      ]
     },
     "execution_count": 122,
     "metadata": {},
     "output_type": "execute_result"
    }
   ],
   "source": [
    "df = df[['Tweet']]\n",
    "df"
   ]
  },
  {
   "cell_type": "markdown",
   "id": "7e7c9946",
   "metadata": {},
   "source": [
    "Let's do a sample and take a look at the tweets"
   ]
  },
  {
   "cell_type": "code",
   "execution_count": 123,
   "id": "7f59c9a9",
   "metadata": {
    "scrolled": true
   },
   "outputs": [
    {
     "data": {
      "text/html": [
       "<div>\n",
       "<style scoped>\n",
       "    .dataframe tbody tr th:only-of-type {\n",
       "        vertical-align: middle;\n",
       "    }\n",
       "\n",
       "    .dataframe tbody tr th {\n",
       "        vertical-align: top;\n",
       "    }\n",
       "\n",
       "    .dataframe thead th {\n",
       "        text-align: right;\n",
       "    }\n",
       "</style>\n",
       "<table border=\"1\" class=\"dataframe\">\n",
       "  <thead>\n",
       "    <tr style=\"text-align: right;\">\n",
       "      <th></th>\n",
       "      <th>Tweet</th>\n",
       "    </tr>\n",
       "  </thead>\n",
       "  <tbody>\n",
       "    <tr>\n",
       "      <th>10178</th>\n",
       "      <td>I'm at 伊東駅 in 伊東市, 静岡県 https://t.co/mFD5lZ1dx8</td>\n",
       "    </tr>\n",
       "    <tr>\n",
       "      <th>9075</th>\n",
       "      <td>I'm at Praça Paulo VI in Bh, Mg https://t.co/1...</td>\n",
       "    </tr>\n",
       "    <tr>\n",
       "      <th>5294</th>\n",
       "      <td>Que chabon mas pesado por dios.</td>\n",
       "    </tr>\n",
       "    <tr>\n",
       "      <th>8725</th>\n",
       "      <td>CA high court state courts @ National Gallery ...</td>\n",
       "    </tr>\n",
       "    <tr>\n",
       "      <th>2911</th>\n",
       "      <td>Viva La Vida!!! - @Coldplay :)))</td>\n",
       "    </tr>\n",
       "  </tbody>\n",
       "</table>\n",
       "</div>"
      ],
      "text/plain": [
       "                                                   Tweet\n",
       "10178     I'm at 伊東駅 in 伊東市, 静岡県 https://t.co/mFD5lZ1dx8\n",
       "9075   I'm at Praça Paulo VI in Bh, Mg https://t.co/1...\n",
       "5294                     Que chabon mas pesado por dios.\n",
       "8725   CA high court state courts @ National Gallery ...\n",
       "2911                    Viva La Vida!!! - @Coldplay :)))"
      ]
     },
     "execution_count": 123,
     "metadata": {},
     "output_type": "execute_result"
    }
   ],
   "source": [
    "df.sample(5)"
   ]
  },
  {
   "cell_type": "markdown",
   "id": "0801e022",
   "metadata": {},
   "source": [
    "You notice that there are a lot of words that are not meaning like links and @tags. So here's a reminder for us to remove these characters later when we clean up the dataset."
   ]
  },
  {
   "cell_type": "code",
   "execution_count": 124,
   "id": "28706806",
   "metadata": {
    "scrolled": true
   },
   "outputs": [
    {
     "data": {
      "text/plain": [
       "'!\"#$%&\\'()*+,-./:;<=>?@[\\\\]^_`{|}~'"
      ]
     },
     "execution_count": 124,
     "metadata": {},
     "output_type": "execute_result"
    }
   ],
   "source": [
    "import string\n",
    "import re\n",
    "\n",
    "string.punctuation"
   ]
  },
  {
   "cell_type": "markdown",
   "id": "cf110882",
   "metadata": {},
   "source": [
    "Notice that this code can be cleaner where I could define 3 functions to remove 3 different aspects of the string. But I put everything in one function so we just need to do one pass to obtain a clean tweet"
   ]
  },
  {
   "cell_type": "code",
   "execution_count": 168,
   "id": "330ae216",
   "metadata": {},
   "outputs": [],
   "source": [
    "def remove_non_words(tweet):\n",
    "    # finally, this is to remove all the url links\n",
    "    tweet = re.sub(r'^http?:\\/\\/.*[\\r\\n]*', '', tweet, flags=re.MULTILINE)\n",
    "    tweet = re.sub(r'^https?:\\/\\/.*[\\r\\n]*', '', tweet, flags=re.MULTILINE)\n",
    "\n",
    "    \n",
    "    # this is to remove all the punctuations in the string\n",
    "    tweet  = \"\".join([char for char in tweet if char not in string.punctuation])\n",
    "    tweet = re.sub('[0-9]+', '', tweet)\n",
    "    \n",
    "    # this is to remove all the emojis in the string\n",
    "    emoji_pattern = re.compile(\"[\"\n",
    "                           u\"\\U0001F600-\\U0001F64F\"  # emoticons\n",
    "                           u\"\\U0001F300-\\U0001F5FF\"  # symbols & pictographs\n",
    "                           u\"\\U0001F680-\\U0001F6FF\"  # transport & map symbols\n",
    "                           u\"\\U0001F1E0-\\U0001F1FF\"  # flags (iOS)\n",
    "                           u\"\\U00002702-\\U000027B0\"\n",
    "                           u\"\\U000024C2-\\U0001F251\"\n",
    "                           \"]+\", flags=re.UNICODE)\n",
    "    tweet = re.sub(emoji_pattern, '', tweet)\n",
    "    \n",
    "    \n",
    "    return tweet"
   ]
  },
  {
   "cell_type": "markdown",
   "id": "f9f4cbb8",
   "metadata": {},
   "source": [
    "Let's clean it now with the `remove_non_words` function"
   ]
  },
  {
   "cell_type": "code",
   "execution_count": 170,
   "id": "2dfcbeb5",
   "metadata": {
    "scrolled": true
   },
   "outputs": [
    {
     "data": {
      "text/html": [
       "<div>\n",
       "<style scoped>\n",
       "    .dataframe tbody tr th:only-of-type {\n",
       "        vertical-align: middle;\n",
       "    }\n",
       "\n",
       "    .dataframe tbody tr th {\n",
       "        vertical-align: top;\n",
       "    }\n",
       "\n",
       "    .dataframe thead th {\n",
       "        text-align: right;\n",
       "    }\n",
       "</style>\n",
       "<table border=\"1\" class=\"dataframe\">\n",
       "  <thead>\n",
       "    <tr style=\"text-align: right;\">\n",
       "      <th></th>\n",
       "      <th>Tweet</th>\n",
       "      <th>clean_tweets</th>\n",
       "      <th>prediction</th>\n",
       "      <th>language</th>\n",
       "      <th>confidence</th>\n",
       "    </tr>\n",
       "  </thead>\n",
       "  <tbody>\n",
       "    <tr>\n",
       "      <th>8615</th>\n",
       "      <td>Ang cute nilaaaa naghahabulan! Dogs are cuteee</td>\n",
       "      <td>Ang cute nilaaaa naghahabulan Dogs are cuteee</td>\n",
       "      <td>(en, 0.7015410661697388)</td>\n",
       "      <td>en</td>\n",
       "      <td>0.701541</td>\n",
       "    </tr>\n",
       "    <tr>\n",
       "      <th>7911</th>\n",
       "      <td>At Aquanos Cafe — https://t.co/DDC4yMv7xu</td>\n",
       "      <td>At Aquanos Cafe — httpstcoDDCyMvxu</td>\n",
       "      <td>(en, 0.5023478865623474)</td>\n",
       "      <td>en</td>\n",
       "      <td>0.502348</td>\n",
       "    </tr>\n",
       "    <tr>\n",
       "      <th>899</th>\n",
       "      <td>A penis lives a sad life: His hair is a mess, ...</td>\n",
       "      <td>A penis lives a sad life His hair is a mess hi...</td>\n",
       "      <td>(en, 0.9987828731536865)</td>\n",
       "      <td>en</td>\n",
       "      <td>0.998783</td>\n",
       "    </tr>\n",
       "    <tr>\n",
       "      <th>425</th>\n",
       "      <td>Didzhalimi bkn mati,difitnah bkn punah,ditampa...</td>\n",
       "      <td>Didzhalimi bkn matidifitnah bkn punahditampar ...</td>\n",
       "      <td>(id, 0.3158862888813019)</td>\n",
       "      <td>id</td>\n",
       "      <td>0.315886</td>\n",
       "    </tr>\n",
       "    <tr>\n",
       "      <th>7141</th>\n",
       "      <td>School girl #vscocam @ University of the East ...</td>\n",
       "      <td>School girl vscocam  University of the East UE...</td>\n",
       "      <td>(en, 0.7990067005157471)</td>\n",
       "      <td>en</td>\n",
       "      <td>0.799007</td>\n",
       "    </tr>\n",
       "  </tbody>\n",
       "</table>\n",
       "</div>"
      ],
      "text/plain": [
       "                                                  Tweet  \\\n",
       "8615     Ang cute nilaaaa naghahabulan! Dogs are cuteee   \n",
       "7911          At Aquanos Cafe — https://t.co/DDC4yMv7xu   \n",
       "899   A penis lives a sad life: His hair is a mess, ...   \n",
       "425   Didzhalimi bkn mati,difitnah bkn punah,ditampa...   \n",
       "7141  School girl #vscocam @ University of the East ...   \n",
       "\n",
       "                                           clean_tweets  \\\n",
       "8615      Ang cute nilaaaa naghahabulan Dogs are cuteee   \n",
       "7911                 At Aquanos Cafe — httpstcoDDCyMvxu   \n",
       "899   A penis lives a sad life His hair is a mess hi...   \n",
       "425   Didzhalimi bkn matidifitnah bkn punahditampar ...   \n",
       "7141  School girl vscocam  University of the East UE...   \n",
       "\n",
       "                    prediction language  confidence  \n",
       "8615  (en, 0.7015410661697388)       en    0.701541  \n",
       "7911  (en, 0.5023478865623474)       en    0.502348  \n",
       "899   (en, 0.9987828731536865)       en    0.998783  \n",
       "425   (id, 0.3158862888813019)       id    0.315886  \n",
       "7141  (en, 0.7990067005157471)       en    0.799007  "
      ]
     },
     "execution_count": 170,
     "metadata": {},
     "output_type": "execute_result"
    }
   ],
   "source": [
    "df['clean_tweets'] = df['Tweet'].apply(lambda x: remove_non_words(x))\n",
    "df.sample(5)"
   ]
  },
  {
   "cell_type": "code",
   "execution_count": 175,
   "id": "5cc50157",
   "metadata": {},
   "outputs": [
    {
     "data": {
      "text/html": [
       "<div>\n",
       "<style scoped>\n",
       "    .dataframe tbody tr th:only-of-type {\n",
       "        vertical-align: middle;\n",
       "    }\n",
       "\n",
       "    .dataframe tbody tr th {\n",
       "        vertical-align: top;\n",
       "    }\n",
       "\n",
       "    .dataframe thead th {\n",
       "        text-align: right;\n",
       "    }\n",
       "</style>\n",
       "<table border=\"1\" class=\"dataframe\">\n",
       "  <thead>\n",
       "    <tr style=\"text-align: right;\">\n",
       "      <th></th>\n",
       "      <th>clean_tweets</th>\n",
       "    </tr>\n",
       "  </thead>\n",
       "  <tbody>\n",
       "    <tr>\n",
       "      <th>0</th>\n",
       "      <td>Bugün bulusmami lazimdiii</td>\n",
       "    </tr>\n",
       "    <tr>\n",
       "      <th>1</th>\n",
       "      <td>Volkan konak adami tribe sokar yemin ederim D</td>\n",
       "    </tr>\n",
       "    <tr>\n",
       "      <th>2</th>\n",
       "      <td>Bed</td>\n",
       "    </tr>\n",
       "    <tr>\n",
       "      <th>3</th>\n",
       "      <td>I felt my first flash of violence at some fool...</td>\n",
       "    </tr>\n",
       "    <tr>\n",
       "      <th>4</th>\n",
       "      <td>Ladies drink and get in free till</td>\n",
       "    </tr>\n",
       "    <tr>\n",
       "      <th>...</th>\n",
       "      <td>...</td>\n",
       "    </tr>\n",
       "    <tr>\n",
       "      <th>10497</th>\n",
       "      <td>Im at PiazzaAvym in Canik Samsun w mertarmann ...</td>\n",
       "    </tr>\n",
       "    <tr>\n",
       "      <th>10498</th>\n",
       "      <td>El Nido fica ao norte de Palawan uma das ilhas...</td>\n",
       "    </tr>\n",
       "    <tr>\n",
       "      <th>10499</th>\n",
       "      <td>Alhamdulillah ‍‍‍makasih mah pah lovyu  Terras...</td>\n",
       "    </tr>\n",
       "    <tr>\n",
       "      <th>10500</th>\n",
       "      <td>EidMubarak  Bauchi Fedral Lowcost httpstcompLk...</td>\n",
       "    </tr>\n",
       "    <tr>\n",
       "      <th>10501</th>\n",
       "      <td>⒍ Santa Catarina Pinulan⒎ Nairo Quintanan⒏ Ana...</td>\n",
       "    </tr>\n",
       "  </tbody>\n",
       "</table>\n",
       "<p>10502 rows × 1 columns</p>\n",
       "</div>"
      ],
      "text/plain": [
       "                                            clean_tweets\n",
       "0                              Bugün bulusmami lazimdiii\n",
       "1          Volkan konak adami tribe sokar yemin ederim D\n",
       "2                                                    Bed\n",
       "3      I felt my first flash of violence at some fool...\n",
       "4                     Ladies drink and get in free till \n",
       "...                                                  ...\n",
       "10497  Im at PiazzaAvym in Canik Samsun w mertarmann ...\n",
       "10498  El Nido fica ao norte de Palawan uma das ilhas...\n",
       "10499  Alhamdulillah ‍‍‍makasih mah pah lovyu  Terras...\n",
       "10500  EidMubarak  Bauchi Fedral Lowcost httpstcompLk...\n",
       "10501  ⒍ Santa Catarina Pinulan⒎ Nairo Quintanan⒏ Ana...\n",
       "\n",
       "[10502 rows x 1 columns]"
      ]
     },
     "execution_count": 175,
     "metadata": {},
     "output_type": "execute_result"
    }
   ],
   "source": [
    "df_clean_tweets = df[['clean_tweets']]\n",
    "df_clean_tweets"
   ]
  },
  {
   "cell_type": "markdown",
   "id": "f5e51fd5",
   "metadata": {},
   "source": [
    "Since we know that tweets can be maximum of length 280 characters, it is deemed rather short. Refer to: [Twitter Documentation](https://developer.twitter.com/en/docs/counting-characters#:~:text=In%20most%20cases%2C%20the%20text,as%20more%20than%20one%20character)\n",
    "\n",
    "Because of that we choose to use Facebook's fasttext to detect the languages of these tweets. Note that we are using a more compact model with a little bit of tradeoff of the accuracy since in the requirements we want to prioritize speed."
   ]
  },
  {
   "cell_type": "code",
   "execution_count": 134,
   "id": "df0b45b3",
   "metadata": {
    "scrolled": true
   },
   "outputs": [
    {
     "name": "stderr",
     "output_type": "stream",
     "text": [
      "Warning : `load_model` does not return WordVectorModel or SupervisedModel any more, but a `FastText` object which is very similar.\n"
     ]
    }
   ],
   "source": [
    "import fasttext\n",
    "\n",
    "PRETRAINED_MODEL_PATH = './lid.176.ftz'\n",
    "model = fasttext.load_model(PRETRAINED_MODEL_PATH)"
   ]
  },
  {
   "cell_type": "markdown",
   "id": "e03b6499",
   "metadata": {},
   "source": [
    "Let's try it out:"
   ]
  },
  {
   "cell_type": "code",
   "execution_count": 128,
   "id": "3b3d2fc8",
   "metadata": {},
   "outputs": [
    {
     "data": {
      "text/plain": [
       "([['__label__fr']], [array([0.8510406], dtype=float32)])"
      ]
     },
     "execution_count": 128,
     "metadata": {},
     "output_type": "execute_result"
    }
   ],
   "source": [
    "sentences = ['je mange de la nourriture']\n",
    "model.predict(sentences)"
   ]
  },
  {
   "cell_type": "markdown",
   "id": "fc4ecb65",
   "metadata": {},
   "source": [
    "Seems quite accurate for our use case. Let's go ahead with this library and define `get_language` method to be used in a lambda function:"
   ]
  },
  {
   "cell_type": "code",
   "execution_count": 129,
   "id": "2273f4f5",
   "metadata": {},
   "outputs": [],
   "source": [
    "def get_language(tweet):\n",
    "    y = model.predict(tweet)\n",
    "    return(y[0][0].replace('__label__', ''), y[1][0])"
   ]
  },
  {
   "cell_type": "markdown",
   "id": "919242a3",
   "metadata": {},
   "source": [
    "We create a new column called prediction that houses the language and confidence, then modularize them into another two columns."
   ]
  },
  {
   "cell_type": "code",
   "execution_count": 176,
   "id": "d67e4d48",
   "metadata": {
    "scrolled": true
   },
   "outputs": [
    {
     "data": {
      "text/html": [
       "<div>\n",
       "<style scoped>\n",
       "    .dataframe tbody tr th:only-of-type {\n",
       "        vertical-align: middle;\n",
       "    }\n",
       "\n",
       "    .dataframe tbody tr th {\n",
       "        vertical-align: top;\n",
       "    }\n",
       "\n",
       "    .dataframe thead th {\n",
       "        text-align: right;\n",
       "    }\n",
       "</style>\n",
       "<table border=\"1\" class=\"dataframe\">\n",
       "  <thead>\n",
       "    <tr style=\"text-align: right;\">\n",
       "      <th></th>\n",
       "      <th>clean_tweets</th>\n",
       "      <th>prediction</th>\n",
       "    </tr>\n",
       "  </thead>\n",
       "  <tbody>\n",
       "    <tr>\n",
       "      <th>0</th>\n",
       "      <td>Bugün bulusmami lazimdiii</td>\n",
       "      <td>(tr, 0.617526113986969)</td>\n",
       "    </tr>\n",
       "    <tr>\n",
       "      <th>1</th>\n",
       "      <td>Volkan konak adami tribe sokar yemin ederim D</td>\n",
       "      <td>(tr, 0.3083454370498657)</td>\n",
       "    </tr>\n",
       "    <tr>\n",
       "      <th>2</th>\n",
       "      <td>Bed</td>\n",
       "      <td>(fr, 0.3232821524143219)</td>\n",
       "    </tr>\n",
       "    <tr>\n",
       "      <th>3</th>\n",
       "      <td>I felt my first flash of violence at some fool...</td>\n",
       "      <td>(en, 0.9772645831108093)</td>\n",
       "    </tr>\n",
       "    <tr>\n",
       "      <th>4</th>\n",
       "      <td>Ladies drink and get in free till</td>\n",
       "      <td>(en, 0.6527988910675049)</td>\n",
       "    </tr>\n",
       "    <tr>\n",
       "      <th>...</th>\n",
       "      <td>...</td>\n",
       "      <td>...</td>\n",
       "    </tr>\n",
       "    <tr>\n",
       "      <th>10497</th>\n",
       "      <td>Im at PiazzaAvym in Canik Samsun w mertarmann ...</td>\n",
       "      <td>(en, 0.6175498366355896)</td>\n",
       "    </tr>\n",
       "    <tr>\n",
       "      <th>10498</th>\n",
       "      <td>El Nido fica ao norte de Palawan uma das ilhas...</td>\n",
       "      <td>(pt, 0.9085416793823242)</td>\n",
       "    </tr>\n",
       "    <tr>\n",
       "      <th>10499</th>\n",
       "      <td>Alhamdulillah ‍‍‍makasih mah pah lovyu  Terras...</td>\n",
       "      <td>(id, 0.29211729764938354)</td>\n",
       "    </tr>\n",
       "    <tr>\n",
       "      <th>10500</th>\n",
       "      <td>EidMubarak  Bauchi Fedral Lowcost httpstcompLk...</td>\n",
       "      <td>(pl, 0.28050297498703003)</td>\n",
       "    </tr>\n",
       "    <tr>\n",
       "      <th>10501</th>\n",
       "      <td>⒍ Santa Catarina Pinulan⒎ Nairo Quintanan⒏ Ana...</td>\n",
       "      <td>(en, 0.23234792053699493)</td>\n",
       "    </tr>\n",
       "  </tbody>\n",
       "</table>\n",
       "<p>10502 rows × 2 columns</p>\n",
       "</div>"
      ],
      "text/plain": [
       "                                            clean_tweets  \\\n",
       "0                              Bugün bulusmami lazimdiii   \n",
       "1          Volkan konak adami tribe sokar yemin ederim D   \n",
       "2                                                    Bed   \n",
       "3      I felt my first flash of violence at some fool...   \n",
       "4                     Ladies drink and get in free till    \n",
       "...                                                  ...   \n",
       "10497  Im at PiazzaAvym in Canik Samsun w mertarmann ...   \n",
       "10498  El Nido fica ao norte de Palawan uma das ilhas...   \n",
       "10499  Alhamdulillah ‍‍‍makasih mah pah lovyu  Terras...   \n",
       "10500  EidMubarak  Bauchi Fedral Lowcost httpstcompLk...   \n",
       "10501  ⒍ Santa Catarina Pinulan⒎ Nairo Quintanan⒏ Ana...   \n",
       "\n",
       "                      prediction  \n",
       "0        (tr, 0.617526113986969)  \n",
       "1       (tr, 0.3083454370498657)  \n",
       "2       (fr, 0.3232821524143219)  \n",
       "3       (en, 0.9772645831108093)  \n",
       "4       (en, 0.6527988910675049)  \n",
       "...                          ...  \n",
       "10497   (en, 0.6175498366355896)  \n",
       "10498   (pt, 0.9085416793823242)  \n",
       "10499  (id, 0.29211729764938354)  \n",
       "10500  (pl, 0.28050297498703003)  \n",
       "10501  (en, 0.23234792053699493)  \n",
       "\n",
       "[10502 rows x 2 columns]"
      ]
     },
     "execution_count": 176,
     "metadata": {},
     "output_type": "execute_result"
    }
   ],
   "source": [
    "df_clean_tweets['prediction'] = df_clean_tweets['clean_tweets'].apply(lambda x : get_language(x))\n",
    "df_clean_tweets"
   ]
  },
  {
   "cell_type": "code",
   "execution_count": 178,
   "id": "4cee5cd9",
   "metadata": {
    "scrolled": false
   },
   "outputs": [
    {
     "data": {
      "text/html": [
       "<div>\n",
       "<style scoped>\n",
       "    .dataframe tbody tr th:only-of-type {\n",
       "        vertical-align: middle;\n",
       "    }\n",
       "\n",
       "    .dataframe tbody tr th {\n",
       "        vertical-align: top;\n",
       "    }\n",
       "\n",
       "    .dataframe thead th {\n",
       "        text-align: right;\n",
       "    }\n",
       "</style>\n",
       "<table border=\"1\" class=\"dataframe\">\n",
       "  <thead>\n",
       "    <tr style=\"text-align: right;\">\n",
       "      <th></th>\n",
       "      <th>clean_tweets</th>\n",
       "      <th>prediction</th>\n",
       "      <th>language</th>\n",
       "      <th>confidence</th>\n",
       "    </tr>\n",
       "  </thead>\n",
       "  <tbody>\n",
       "    <tr>\n",
       "      <th>765</th>\n",
       "      <td>Ya he llegado</td>\n",
       "      <td>(es, 0.6398690342903137)</td>\n",
       "      <td>es</td>\n",
       "      <td>0.639869</td>\n",
       "    </tr>\n",
       "    <tr>\n",
       "      <th>6347</th>\n",
       "      <td>She said eat the booty out like groceries I do...</td>\n",
       "      <td>(en, 0.9885510206222534)</td>\n",
       "      <td>en</td>\n",
       "      <td>0.988551</td>\n",
       "    </tr>\n",
       "    <tr>\n",
       "      <th>7996</th>\n",
       "      <td>All are sinners in the eyes of the lord  Kent ...</td>\n",
       "      <td>(en, 0.816457986831665)</td>\n",
       "      <td>en</td>\n",
       "      <td>0.816458</td>\n",
       "    </tr>\n",
       "    <tr>\n",
       "      <th>3614</th>\n",
       "      <td>Nice spot Good food great drinks  Winflo Oster...</td>\n",
       "      <td>(en, 0.4719156324863434)</td>\n",
       "      <td>en</td>\n",
       "      <td>0.471916</td>\n",
       "    </tr>\n",
       "    <tr>\n",
       "      <th>1224</th>\n",
       "      <td>Wanna se me fall</td>\n",
       "      <td>(fr, 0.20682010054588318)</td>\n",
       "      <td>fr</td>\n",
       "      <td>0.206820</td>\n",
       "    </tr>\n",
       "  </tbody>\n",
       "</table>\n",
       "</div>"
      ],
      "text/plain": [
       "                                           clean_tweets  \\\n",
       "765                                      Ya he llegado    \n",
       "6347  She said eat the booty out like groceries I do...   \n",
       "7996  All are sinners in the eyes of the lord  Kent ...   \n",
       "3614  Nice spot Good food great drinks  Winflo Oster...   \n",
       "1224                                   Wanna se me fall   \n",
       "\n",
       "                     prediction language  confidence  \n",
       "765    (es, 0.6398690342903137)       es    0.639869  \n",
       "6347   (en, 0.9885510206222534)       en    0.988551  \n",
       "7996    (en, 0.816457986831665)       en    0.816458  \n",
       "3614   (en, 0.4719156324863434)       en    0.471916  \n",
       "1224  (fr, 0.20682010054588318)       fr    0.206820  "
      ]
     },
     "execution_count": 178,
     "metadata": {},
     "output_type": "execute_result"
    }
   ],
   "source": [
    "df_clean_tweets['language'] = df_clean_tweets['prediction'].apply(lambda x : x[0])\n",
    "df_clean_tweets['confidence'] = df_clean_tweets['prediction'].apply(lambda x : x[1])\n",
    "df_clean_tweets.sample(5)"
   ]
  },
  {
   "cell_type": "markdown",
   "id": "5436cc59",
   "metadata": {},
   "source": [
    "Now let's only take the relatively more confidently predicted tweets since we have an abundance of tweets to choose from."
   ]
  },
  {
   "cell_type": "code",
   "execution_count": 179,
   "id": "9c6fe620",
   "metadata": {
    "scrolled": false
   },
   "outputs": [
    {
     "data": {
      "text/html": [
       "<div>\n",
       "<style scoped>\n",
       "    .dataframe tbody tr th:only-of-type {\n",
       "        vertical-align: middle;\n",
       "    }\n",
       "\n",
       "    .dataframe tbody tr th {\n",
       "        vertical-align: top;\n",
       "    }\n",
       "\n",
       "    .dataframe thead th {\n",
       "        text-align: right;\n",
       "    }\n",
       "</style>\n",
       "<table border=\"1\" class=\"dataframe\">\n",
       "  <thead>\n",
       "    <tr style=\"text-align: right;\">\n",
       "      <th></th>\n",
       "      <th>clean_tweets</th>\n",
       "      <th>prediction</th>\n",
       "      <th>language</th>\n",
       "      <th>confidence</th>\n",
       "    </tr>\n",
       "  </thead>\n",
       "  <tbody>\n",
       "    <tr>\n",
       "      <th>1695</th>\n",
       "      <td>CrystalYi cmmarqua before and after soon</td>\n",
       "      <td>(en, 0.8793606758117676)</td>\n",
       "      <td>en</td>\n",
       "      <td>0.879361</td>\n",
       "    </tr>\n",
       "    <tr>\n",
       "      <th>3118</th>\n",
       "      <td>mentally physically and emotionally unsatisfied</td>\n",
       "      <td>(en, 0.8947592377662659)</td>\n",
       "      <td>en</td>\n",
       "      <td>0.894759</td>\n",
       "    </tr>\n",
       "    <tr>\n",
       "      <th>2159</th>\n",
       "      <td>KymiFowler technically freshman and a half Sum...</td>\n",
       "      <td>(en, 0.8528209924697876)</td>\n",
       "      <td>en</td>\n",
       "      <td>0.852821</td>\n",
       "    </tr>\n",
       "    <tr>\n",
       "      <th>4358</th>\n",
       "      <td>Ainda bem que foi só segunda</td>\n",
       "      <td>(pt, 0.994597852230072)</td>\n",
       "      <td>pt</td>\n",
       "      <td>0.994598</td>\n",
       "    </tr>\n",
       "    <tr>\n",
       "      <th>8055</th>\n",
       "      <td>Chaaauuu playitaa por qué justo un día así me ...</td>\n",
       "      <td>(es, 0.871193528175354)</td>\n",
       "      <td>es</td>\n",
       "      <td>0.871194</td>\n",
       "    </tr>\n",
       "  </tbody>\n",
       "</table>\n",
       "</div>"
      ],
      "text/plain": [
       "                                           clean_tweets  \\\n",
       "1695           CrystalYi cmmarqua before and after soon   \n",
       "3118    mentally physically and emotionally unsatisfied   \n",
       "2159  KymiFowler technically freshman and a half Sum...   \n",
       "4358                       Ainda bem que foi só segunda   \n",
       "8055  Chaaauuu playitaa por qué justo un día así me ...   \n",
       "\n",
       "                    prediction language  confidence  \n",
       "1695  (en, 0.8793606758117676)       en    0.879361  \n",
       "3118  (en, 0.8947592377662659)       en    0.894759  \n",
       "2159  (en, 0.8528209924697876)       en    0.852821  \n",
       "4358   (pt, 0.994597852230072)       pt    0.994598  \n",
       "8055   (es, 0.871193528175354)       es    0.871194  "
      ]
     },
     "execution_count": 179,
     "metadata": {},
     "output_type": "execute_result"
    }
   ],
   "source": [
    "df_confident = df_clean_tweets[df_clean_tweets['confidence'] > 0.5]\n",
    "df_confident.sample(5)"
   ]
  },
  {
   "cell_type": "markdown",
   "id": "992905a3",
   "metadata": {},
   "source": [
    "The amount of tweets we have that has a language prediction confidence of more than 50%:"
   ]
  },
  {
   "cell_type": "code",
   "execution_count": 137,
   "id": "249fdbce",
   "metadata": {
    "scrolled": false
   },
   "outputs": [
    {
     "data": {
      "text/plain": [
       "7375"
      ]
     },
     "execution_count": 137,
     "metadata": {},
     "output_type": "execute_result"
    }
   ],
   "source": [
    "len(df_confident)"
   ]
  },
  {
   "cell_type": "markdown",
   "id": "d3e32644",
   "metadata": {},
   "source": [
    "The amount of tweets in English:"
   ]
  },
  {
   "cell_type": "code",
   "execution_count": 180,
   "id": "bdfefbb8",
   "metadata": {
    "scrolled": false
   },
   "outputs": [
    {
     "data": {
      "text/html": [
       "<div>\n",
       "<style scoped>\n",
       "    .dataframe tbody tr th:only-of-type {\n",
       "        vertical-align: middle;\n",
       "    }\n",
       "\n",
       "    .dataframe tbody tr th {\n",
       "        vertical-align: top;\n",
       "    }\n",
       "\n",
       "    .dataframe thead th {\n",
       "        text-align: right;\n",
       "    }\n",
       "</style>\n",
       "<table border=\"1\" class=\"dataframe\">\n",
       "  <thead>\n",
       "    <tr style=\"text-align: right;\">\n",
       "      <th></th>\n",
       "      <th>clean_tweets</th>\n",
       "      <th>prediction</th>\n",
       "      <th>language</th>\n",
       "      <th>confidence</th>\n",
       "    </tr>\n",
       "  </thead>\n",
       "  <tbody>\n",
       "    <tr>\n",
       "      <th>3</th>\n",
       "      <td>I felt my first flash of violence at some fool...</td>\n",
       "      <td>(en, 0.9772645831108093)</td>\n",
       "      <td>en</td>\n",
       "      <td>0.977265</td>\n",
       "    </tr>\n",
       "    <tr>\n",
       "      <th>4</th>\n",
       "      <td>Ladies drink and get in free till</td>\n",
       "      <td>(en, 0.6527988910675049)</td>\n",
       "      <td>en</td>\n",
       "      <td>0.652799</td>\n",
       "    </tr>\n",
       "    <tr>\n",
       "      <th>7</th>\n",
       "      <td>Watching Miranda On bbc mermhart u r HILARIOUS</td>\n",
       "      <td>(en, 0.5819909572601318)</td>\n",
       "      <td>en</td>\n",
       "      <td>0.581991</td>\n",
       "    </tr>\n",
       "    <tr>\n",
       "      <th>9</th>\n",
       "      <td>Shopping  Kohls httptcoIZkQHT</td>\n",
       "      <td>(en, 0.5320528745651245)</td>\n",
       "      <td>en</td>\n",
       "      <td>0.532053</td>\n",
       "    </tr>\n",
       "    <tr>\n",
       "      <th>16</th>\n",
       "      <td>Dennycrowe all over twitter because you and yo...</td>\n",
       "      <td>(en, 0.768022358417511)</td>\n",
       "      <td>en</td>\n",
       "      <td>0.768022</td>\n",
       "    </tr>\n",
       "    <tr>\n",
       "      <th>...</th>\n",
       "      <td>...</td>\n",
       "      <td>...</td>\n",
       "      <td>...</td>\n",
       "      <td>...</td>\n",
       "    </tr>\n",
       "    <tr>\n",
       "      <th>10492</th>\n",
       "      <td>Another Cardigan Records Hopscotch Day Party i...</td>\n",
       "      <td>(en, 0.920673131942749)</td>\n",
       "      <td>en</td>\n",
       "      <td>0.920673</td>\n",
       "    </tr>\n",
       "    <tr>\n",
       "      <th>10493</th>\n",
       "      <td>Im at Hempstead Hair World in Elmont NY httpst...</td>\n",
       "      <td>(en, 0.5241799354553223)</td>\n",
       "      <td>en</td>\n",
       "      <td>0.524180</td>\n",
       "    </tr>\n",
       "    <tr>\n",
       "      <th>10494</th>\n",
       "      <td>Bachelorette   Laurita Winery httpstcoBsIIFmdGz</td>\n",
       "      <td>(en, 0.6609522104263306)</td>\n",
       "      <td>en</td>\n",
       "      <td>0.660952</td>\n",
       "    </tr>\n",
       "    <tr>\n",
       "      <th>10496</th>\n",
       "      <td>This job might be a great fit for you Sr Infor...</td>\n",
       "      <td>(en, 0.6981475949287415)</td>\n",
       "      <td>en</td>\n",
       "      <td>0.698148</td>\n",
       "    </tr>\n",
       "    <tr>\n",
       "      <th>10497</th>\n",
       "      <td>Im at PiazzaAvym in Canik Samsun w mertarmann ...</td>\n",
       "      <td>(en, 0.6175498366355896)</td>\n",
       "      <td>en</td>\n",
       "      <td>0.617550</td>\n",
       "    </tr>\n",
       "  </tbody>\n",
       "</table>\n",
       "<p>4312 rows × 4 columns</p>\n",
       "</div>"
      ],
      "text/plain": [
       "                                            clean_tweets  \\\n",
       "3      I felt my first flash of violence at some fool...   \n",
       "4                     Ladies drink and get in free till    \n",
       "7        Watching Miranda On bbc mermhart u r HILARIOUS    \n",
       "9                          Shopping  Kohls httptcoIZkQHT   \n",
       "16     Dennycrowe all over twitter because you and yo...   \n",
       "...                                                  ...   \n",
       "10492  Another Cardigan Records Hopscotch Day Party i...   \n",
       "10493  Im at Hempstead Hair World in Elmont NY httpst...   \n",
       "10494    Bachelorette   Laurita Winery httpstcoBsIIFmdGz   \n",
       "10496  This job might be a great fit for you Sr Infor...   \n",
       "10497  Im at PiazzaAvym in Canik Samsun w mertarmann ...   \n",
       "\n",
       "                     prediction language  confidence  \n",
       "3      (en, 0.9772645831108093)       en    0.977265  \n",
       "4      (en, 0.6527988910675049)       en    0.652799  \n",
       "7      (en, 0.5819909572601318)       en    0.581991  \n",
       "9      (en, 0.5320528745651245)       en    0.532053  \n",
       "16      (en, 0.768022358417511)       en    0.768022  \n",
       "...                         ...      ...         ...  \n",
       "10492   (en, 0.920673131942749)       en    0.920673  \n",
       "10493  (en, 0.5241799354553223)       en    0.524180  \n",
       "10494  (en, 0.6609522104263306)       en    0.660952  \n",
       "10496  (en, 0.6981475949287415)       en    0.698148  \n",
       "10497  (en, 0.6175498366355896)       en    0.617550  \n",
       "\n",
       "[4312 rows x 4 columns]"
      ]
     },
     "execution_count": 180,
     "metadata": {},
     "output_type": "execute_result"
    }
   ],
   "source": [
    "df_confident[df_confident['language'] == 'en']"
   ]
  },
  {
   "cell_type": "markdown",
   "id": "93ea4d90",
   "metadata": {},
   "source": [
    "Number of languages we have in this dataset:"
   ]
  },
  {
   "cell_type": "code",
   "execution_count": 181,
   "id": "f9365fd4",
   "metadata": {
    "scrolled": true
   },
   "outputs": [
    {
     "data": {
      "text/plain": [
       "55"
      ]
     },
     "execution_count": 181,
     "metadata": {},
     "output_type": "execute_result"
    }
   ],
   "source": [
    "len(set(df_confident['language']))"
   ]
  },
  {
   "cell_type": "code",
   "execution_count": 148,
   "id": "d97e9fec",
   "metadata": {
    "scrolled": true
   },
   "outputs": [],
   "source": [
    "import matplotlib"
   ]
  },
  {
   "cell_type": "code",
   "execution_count": 182,
   "id": "7470643c",
   "metadata": {
    "scrolled": true
   },
   "outputs": [
    {
     "data": {
      "text/plain": [
       "en     4312\n",
       "es      810\n",
       "pt      728\n",
       "tr      265\n",
       "fr      211\n",
       "ru      175\n",
       "id      173\n",
       "th      142\n",
       "ar      117\n",
       "it       71\n",
       "de       69\n",
       "nl       64\n",
       "tl       32\n",
       "sv       26\n",
       "fi       22\n",
       "pl       17\n",
       "ca       15\n",
       "ms       13\n",
       "no        7\n",
       "eo        7\n",
       "uk        7\n",
       "ceb       6\n",
       "cs        6\n",
       "et        5\n",
       "fa        5\n",
       "fy        4\n",
       "lv        4\n",
       "hu        4\n",
       "ro        4\n",
       "el        3\n",
       "eu        3\n",
       "sw        3\n",
       "da        3\n",
       "gl        3\n",
       "ta        3\n",
       "vi        2\n",
       "he        2\n",
       "sk        2\n",
       "ga        2\n",
       "hi        2\n",
       "lb        2\n",
       "zh        2\n",
       "az        2\n",
       "mn        2\n",
       "arz       2\n",
       "sr        1\n",
       "be        1\n",
       "ja        1\n",
       "su        1\n",
       "jbo       1\n",
       "af        1\n",
       "br        1\n",
       "jv        1\n",
       "la        1\n",
       "nds       1\n",
       "Name: language, dtype: int64"
      ]
     },
     "execution_count": 182,
     "metadata": {},
     "output_type": "execute_result"
    }
   ],
   "source": [
    "lang_count = df_confident.language.value_counts()\n",
    "lang_count"
   ]
  },
  {
   "cell_type": "markdown",
   "id": "cd857199",
   "metadata": {},
   "source": [
    "Let's visualize the distribution of the Tweets' language with a bar chart and a pie chart:"
   ]
  },
  {
   "cell_type": "code",
   "execution_count": 183,
   "id": "b55f24c9",
   "metadata": {
    "scrolled": true
   },
   "outputs": [
    {
     "data": {
      "text/plain": [
       "<AxesSubplot:>"
      ]
     },
     "execution_count": 183,
     "metadata": {},
     "output_type": "execute_result"
    },
    {
     "data": {
      "image/png": "[encoded data removed]",
      "text/plain": [
       "<Figure size 1440x720 with 1 Axes>"
      ]
     },
     "metadata": {
      "needs_background": "light"
     },
     "output_type": "display_data"
    }
   ],
   "source": [
    "lang_count.plot.bar(figsize=(20,10), fontsize=20)\n"
   ]
  },
  {
   "cell_type": "code",
   "execution_count": 184,
   "id": "b80cf28b",
   "metadata": {
    "scrolled": false
   },
   "outputs": [
    {
     "data": {
      "image/png": "[encoded data removed]",
      "text/plain": [
       "<Figure size 720x720 with 1 Axes>"
      ]
     },
     "metadata": {},
     "output_type": "display_data"
    }
   ],
   "source": [
    "plot = lang_count.plot.pie(y='count', figsize=(10, 10))\n"
   ]
  },
  {
   "cell_type": "markdown",
   "id": "bdd1fd81",
   "metadata": {},
   "source": [
    "For demonstration purposes, we can start with English, Spanish and Portugese, as they have the highest number of tweets in the dataset: 4316, 810 and 729 respectively."
   ]
  },
  {
   "cell_type": "markdown",
   "id": "3595098c",
   "metadata": {},
   "source": [
    "Let's export the cleaned tweets according to their languages to a dir called `/clean_data`"
   ]
  },
  {
   "cell_type": "code",
   "execution_count": 185,
   "id": "df2c9d4d",
   "metadata": {
    "scrolled": true
   },
   "outputs": [],
   "source": [
    "import os\n",
    "\n",
    "language_list = ['en', 'es', 'pt']\n",
    "\n",
    "clean_data_dir = './clean_data'\n",
    "if not os.path.exists(clean_data_dir):\n",
    "    os.mkdir(clean_data_dir)\n",
    "\n",
    "for language in language_list:\n",
    "    df_lang = df_confident[df_confident['language'] == language]\n",
    "    fulldir = os.path.join(clean_data_dir, language + '.csv')   \n",
    "    df_lang.to_csv(fulldir)"
   ]
  }
 ],
 "metadata": {
  "kernelspec": {
   "display_name": "Python 3",
   "language": "python",
   "name": "python3"
  },
  "language_info": {
   "codemirror_mode": {
    "name": "ipython",
    "version": 3
   },
   "file_extension": ".py",
   "mimetype": "text/x-python",
   "name": "python",
   "nbconvert_exporter": "python",
   "pygments_lexer": "ipython3",
   "version": "3.9.6"
  }
 },
 "nbformat": 4,
 "nbformat_minor": 5
}
